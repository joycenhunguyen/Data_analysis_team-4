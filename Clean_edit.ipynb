{
 "cells": [
  {
   "cell_type": "markdown",
   "metadata": {},
   "source": [
    "# Electrical Power consumption in the Nordic and Baltic countries in 2014-19"
   ]
  },
  {
   "cell_type": "markdown",
   "metadata": {},
   "source": [
    "Data of the daily electric power consumption in 4 continental Nordic countries (Norway (NO), Sweden (SE), Denmark (DK), Finland (FI)) and in 3 Baltic states (Estonia (EE), Latvia (LV), Lithuania (LT)) is taken from the Historical Market Data at the site of power exchange Nord Pool.\n",
    "The values are in MWh.\n",
    "\n",
    "The link: https://www.nordpoolgroup.com/historical-market-data/"
   ]
  },
  {
   "cell_type": "markdown",
   "metadata": {},
   "source": [
    "![Powerline](https://www.energiauutiset.fi/media/energiauutiset/sahkoverkot/2018/grid.png)"
   ]
  },
  {
   "cell_type": "markdown",
   "metadata": {},
   "source": [
    "## Importing libraries"
   ]
  },
  {
   "cell_type": "code",
   "execution_count": 1,
   "metadata": {
    "ExecuteTime": {
     "end_time": "2020-12-10T08:43:51.471498Z",
     "start_time": "2020-12-10T08:43:49.658939Z"
    }
   },
   "outputs": [],
   "source": [
    "import pandas as pd\n",
    "import datetime as dt\n",
    "import matplotlib.dates as mdates\n",
    "%matplotlib inline\n",
    "import matplotlib.pyplot as plt\n",
    "import seaborn as sns\n"
   ]
  },
  {
   "cell_type": "code",
   "execution_count": 2,
   "metadata": {
    "ExecuteTime": {
     "end_time": "2020-12-10T08:43:51.487084Z",
     "start_time": "2020-12-10T08:43:51.471498Z"
    }
   },
   "outputs": [],
   "source": [
    "sns.set()"
   ]
  },
  {
   "cell_type": "code",
   "execution_count": 3,
   "metadata": {
    "ExecuteTime": {
     "end_time": "2020-12-10T08:43:52.190232Z",
     "start_time": "2020-12-10T08:43:51.487084Z"
    }
   },
   "outputs": [],
   "source": [
    "import plotly.graph_objects as go\n",
    "import chart_studio.plotly as py\n",
    "import plotly.express as px\n",
    "import cufflinks as cf\n",
    "from plotly.offline import iplot, init_notebook_mode\n",
    "from plotly.subplots import make_subplots"
   ]
  },
  {
   "cell_type": "code",
   "execution_count": 4,
   "metadata": {
    "ExecuteTime": {
     "end_time": "2020-12-10T08:43:52.205843Z",
     "start_time": "2020-12-10T08:43:52.190232Z"
    }
   },
   "outputs": [],
   "source": [
    "from ipywidgets import interact, interactive,fixed,interact_manual\n",
    "import ipywidgets as widgets"
   ]
  },
  {
   "cell_type": "code",
   "execution_count": 5,
   "metadata": {
    "ExecuteTime": {
     "end_time": "2020-12-10T08:43:52.362097Z",
     "start_time": "2020-12-10T08:43:52.205843Z"
    }
   },
   "outputs": [],
   "source": [
    "countries = [\"NO\",\"SE\",\"FI\", \"DK\",\"EE\", \"LV\", \"LT\", \"Nordic\",\"Baltic\"]\n",
    "abbreviations = {\"NO\":\"Norway\",\n",
    "                \"SE\":\"Sweden\",\n",
    "                \"DK\":\"Denmark\",\n",
    "                \"FI\":\"Finland\",\n",
    "                \"Nordic\":\"Nordic countries\",\n",
    "                \"EE\":\"Estonia\",\n",
    "                \"LV\":\"Latvia\",\n",
    "                \"LT\":\"Lithuania\",\n",
    "                \"Baltic\":\"Baltic states\"}"
   ]
  },
  {
   "cell_type": "code",
   "execution_count": 6,
   "metadata": {
    "ExecuteTime": {
     "end_time": "2020-12-10T08:43:52.612168Z",
     "start_time": "2020-12-10T08:43:52.362097Z"
    }
   },
   "outputs": [],
   "source": [
    "months = ['Jan', 'Feb', 'Mar', 'Apr', 'May', 'Jun', 'Jul', 'Aug', 'Sep', 'Oct', 'Nov', 'Dec']\n",
    "years = [i for i in range(2014,2020)]\n",
    "colors = {\"NO\":\"red\", \"SE\":\"blue\", \"FI\":\"yellow\", \"DK\":\"indianred\", \"EE\":\"navy\", \"LV\":\"brown\", \"LT\":\"green\",\n",
    "         \"Nordic\":\"blue\", \"Baltic\":\"green\"}\n",
    "nordic_colors = [\"red\", \"blue\", \"yellow\", \"indianred\"]\n",
    "baltic_colors = [\"navy\", \"brown\", \"green\"]\n",
    "nordic_and_baltic_colors = [\"blue\", \"green\"]"
   ]
  },
  {
   "cell_type": "markdown",
   "metadata": {},
   "source": [
    "## Creating the dataset"
   ]
  },
  {
   "cell_type": "markdown",
   "metadata": {},
   "source": [
    "The data is saved on the site as yearly files. We download them and save into the list."
   ]
  },
  {
   "cell_type": "code",
   "execution_count": 7,
   "metadata": {
    "ExecuteTime": {
     "end_time": "2020-12-10T08:43:52.909032Z",
     "start_time": "2020-12-10T08:43:52.612168Z"
    }
   },
   "outputs": [],
   "source": [
    "dailyconsumptions = []\n",
    "\n",
    "for i in range(2014,2020):\n",
    "    fileName = \"Data/consumption-per-country_\" + str(i) +\"_daily.csv\"\n",
    "    data = pd.read_csv(fileName, header=2, delimiter=\";\")\n",
    "    dailyconsumptions.append(data)\n",
    "    "
   ]
  },
  {
   "cell_type": "markdown",
   "metadata": {},
   "source": [
    "And then concatenate them to form a single dataset \"consumptions\"."
   ]
  },
  {
   "cell_type": "code",
   "execution_count": 8,
   "metadata": {
    "ExecuteTime": {
     "end_time": "2020-12-10T08:43:53.065237Z",
     "start_time": "2020-12-10T08:43:52.909032Z"
    }
   },
   "outputs": [],
   "source": [
    "consumptions = dailyconsumptions[0]\n",
    "for j in range(1, len(dailyconsumptions)):\n",
    "    consumptions = pd.concat([consumptions, dailyconsumptions[j]])\n"
   ]
  },
  {
   "cell_type": "markdown",
   "metadata": {},
   "source": [
    "## Exploring the dataset"
   ]
  },
  {
   "cell_type": "code",
   "execution_count": 9,
   "metadata": {
    "ExecuteTime": {
     "end_time": "2020-12-10T08:43:53.408999Z",
     "start_time": "2020-12-10T08:43:53.065237Z"
    }
   },
   "outputs": [
    {
     "data": {
      "text/html": [
       "<div>\n",
       "<style scoped>\n",
       "    .dataframe tbody tr th:only-of-type {\n",
       "        vertical-align: middle;\n",
       "    }\n",
       "\n",
       "    .dataframe tbody tr th {\n",
       "        vertical-align: top;\n",
       "    }\n",
       "\n",
       "    .dataframe thead th {\n",
       "        text-align: right;\n",
       "    }\n",
       "</style>\n",
       "<table border=\"1\" class=\"dataframe\">\n",
       "  <thead>\n",
       "    <tr style=\"text-align: right;\">\n",
       "      <th></th>\n",
       "      <th>Unnamed: 0</th>\n",
       "      <th>NO</th>\n",
       "      <th>SE</th>\n",
       "      <th>FI</th>\n",
       "      <th>DK</th>\n",
       "      <th>Nordic</th>\n",
       "      <th>EE</th>\n",
       "      <th>LV</th>\n",
       "      <th>LT</th>\n",
       "      <th>Baltic</th>\n",
       "    </tr>\n",
       "  </thead>\n",
       "  <tbody>\n",
       "    <tr>\n",
       "      <th>0</th>\n",
       "      <td>01.01.2014</td>\n",
       "      <td>366427</td>\n",
       "      <td>384749</td>\n",
       "      <td>222609</td>\n",
       "      <td>83837</td>\n",
       "      <td>1057638</td>\n",
       "      <td>19487</td>\n",
       "      <td>17885</td>\n",
       "      <td>22959</td>\n",
       "      <td>60331</td>\n",
       "    </tr>\n",
       "    <tr>\n",
       "      <th>1</th>\n",
       "      <td>02.01.2014</td>\n",
       "      <td>399918</td>\n",
       "      <td>411970</td>\n",
       "      <td>246089</td>\n",
       "      <td>99705</td>\n",
       "      <td>1157684</td>\n",
       "      <td>23373</td>\n",
       "      <td>21578</td>\n",
       "      <td>27295</td>\n",
       "      <td>72246</td>\n",
       "    </tr>\n",
       "    <tr>\n",
       "      <th>2</th>\n",
       "      <td>03.01.2014</td>\n",
       "      <td>394838</td>\n",
       "      <td>412474</td>\n",
       "      <td>252240</td>\n",
       "      <td>98515</td>\n",
       "      <td>1158079</td>\n",
       "      <td>24053</td>\n",
       "      <td>22123</td>\n",
       "      <td>27322</td>\n",
       "      <td>73498</td>\n",
       "    </tr>\n",
       "    <tr>\n",
       "      <th>3</th>\n",
       "      <td>04.01.2014</td>\n",
       "      <td>373405</td>\n",
       "      <td>390819</td>\n",
       "      <td>239997</td>\n",
       "      <td>89931</td>\n",
       "      <td>1094167</td>\n",
       "      <td>21959</td>\n",
       "      <td>20152</td>\n",
       "      <td>24993</td>\n",
       "      <td>67104</td>\n",
       "    </tr>\n",
       "    <tr>\n",
       "      <th>4</th>\n",
       "      <td>05.01.2014</td>\n",
       "      <td>369245</td>\n",
       "      <td>388306</td>\n",
       "      <td>229357</td>\n",
       "      <td>88121</td>\n",
       "      <td>1075031</td>\n",
       "      <td>21025</td>\n",
       "      <td>19587</td>\n",
       "      <td>24387</td>\n",
       "      <td>64999</td>\n",
       "    </tr>\n",
       "    <tr>\n",
       "      <th>5</th>\n",
       "      <td>06.01.2014</td>\n",
       "      <td>403916</td>\n",
       "      <td>403736</td>\n",
       "      <td>235181</td>\n",
       "      <td>106722</td>\n",
       "      <td>1149558</td>\n",
       "      <td>24258</td>\n",
       "      <td>22621</td>\n",
       "      <td>28333</td>\n",
       "      <td>75212</td>\n",
       "    </tr>\n",
       "    <tr>\n",
       "      <th>6</th>\n",
       "      <td>07.01.2014</td>\n",
       "      <td>390178</td>\n",
       "      <td>424245</td>\n",
       "      <td>249519</td>\n",
       "      <td>106674</td>\n",
       "      <td>1170623</td>\n",
       "      <td>24441</td>\n",
       "      <td>22707</td>\n",
       "      <td>28536</td>\n",
       "      <td>75684</td>\n",
       "    </tr>\n",
       "    <tr>\n",
       "      <th>7</th>\n",
       "      <td>08.01.2014</td>\n",
       "      <td>392452</td>\n",
       "      <td>429362</td>\n",
       "      <td>245834</td>\n",
       "      <td>105888</td>\n",
       "      <td>1173546</td>\n",
       "      <td>24196</td>\n",
       "      <td>22177</td>\n",
       "      <td>28314</td>\n",
       "      <td>74687</td>\n",
       "    </tr>\n",
       "    <tr>\n",
       "      <th>8</th>\n",
       "      <td>09.01.2014</td>\n",
       "      <td>413342</td>\n",
       "      <td>443218</td>\n",
       "      <td>247173</td>\n",
       "      <td>109110</td>\n",
       "      <td>1212848</td>\n",
       "      <td>24021</td>\n",
       "      <td>22371</td>\n",
       "      <td>28118</td>\n",
       "      <td>74510</td>\n",
       "    </tr>\n",
       "    <tr>\n",
       "      <th>9</th>\n",
       "      <td>10.01.2014</td>\n",
       "      <td>429543</td>\n",
       "      <td>463875</td>\n",
       "      <td>261582</td>\n",
       "      <td>106588</td>\n",
       "      <td>1261598</td>\n",
       "      <td>24591</td>\n",
       "      <td>22169</td>\n",
       "      <td>27639</td>\n",
       "      <td>74399</td>\n",
       "    </tr>\n",
       "  </tbody>\n",
       "</table>\n",
       "</div>"
      ],
      "text/plain": [
       "   Unnamed: 0      NO      SE      FI      DK   Nordic     EE     LV     LT  \\\n",
       "0  01.01.2014  366427  384749  222609   83837  1057638  19487  17885  22959   \n",
       "1  02.01.2014  399918  411970  246089   99705  1157684  23373  21578  27295   \n",
       "2  03.01.2014  394838  412474  252240   98515  1158079  24053  22123  27322   \n",
       "3  04.01.2014  373405  390819  239997   89931  1094167  21959  20152  24993   \n",
       "4  05.01.2014  369245  388306  229357   88121  1075031  21025  19587  24387   \n",
       "5  06.01.2014  403916  403736  235181  106722  1149558  24258  22621  28333   \n",
       "6  07.01.2014  390178  424245  249519  106674  1170623  24441  22707  28536   \n",
       "7  08.01.2014  392452  429362  245834  105888  1173546  24196  22177  28314   \n",
       "8  09.01.2014  413342  443218  247173  109110  1212848  24021  22371  28118   \n",
       "9  10.01.2014  429543  463875  261582  106588  1261598  24591  22169  27639   \n",
       "\n",
       "   Baltic  \n",
       "0   60331  \n",
       "1   72246  \n",
       "2   73498  \n",
       "3   67104  \n",
       "4   64999  \n",
       "5   75212  \n",
       "6   75684  \n",
       "7   74687  \n",
       "8   74510  \n",
       "9   74399  "
      ]
     },
     "execution_count": 9,
     "metadata": {},
     "output_type": "execute_result"
    }
   ],
   "source": [
    "consumptions.head(10)\n"
   ]
  },
  {
   "cell_type": "code",
   "execution_count": 10,
   "metadata": {
    "ExecuteTime": {
     "end_time": "2020-12-10T08:43:53.549614Z",
     "start_time": "2020-12-10T08:43:53.408999Z"
    }
   },
   "outputs": [
    {
     "data": {
      "text/html": [
       "<div>\n",
       "<style scoped>\n",
       "    .dataframe tbody tr th:only-of-type {\n",
       "        vertical-align: middle;\n",
       "    }\n",
       "\n",
       "    .dataframe tbody tr th {\n",
       "        vertical-align: top;\n",
       "    }\n",
       "\n",
       "    .dataframe thead th {\n",
       "        text-align: right;\n",
       "    }\n",
       "</style>\n",
       "<table border=\"1\" class=\"dataframe\">\n",
       "  <thead>\n",
       "    <tr style=\"text-align: right;\">\n",
       "      <th></th>\n",
       "      <th>Unnamed: 0</th>\n",
       "      <th>NO</th>\n",
       "      <th>SE</th>\n",
       "      <th>FI</th>\n",
       "      <th>DK</th>\n",
       "      <th>Nordic</th>\n",
       "      <th>EE</th>\n",
       "      <th>LV</th>\n",
       "      <th>LT</th>\n",
       "      <th>Baltic</th>\n",
       "    </tr>\n",
       "  </thead>\n",
       "  <tbody>\n",
       "    <tr>\n",
       "      <th>355</th>\n",
       "      <td>22.12.2019</td>\n",
       "      <td>407024</td>\n",
       "      <td>381602</td>\n",
       "      <td>221879</td>\n",
       "      <td>88327</td>\n",
       "      <td>1098844</td>\n",
       "      <td>22221</td>\n",
       "      <td>18838</td>\n",
       "      <td>31967</td>\n",
       "      <td>73026</td>\n",
       "    </tr>\n",
       "    <tr>\n",
       "      <th>356</th>\n",
       "      <td>23.12.2019</td>\n",
       "      <td>429045</td>\n",
       "      <td>398944</td>\n",
       "      <td>221337</td>\n",
       "      <td>93465</td>\n",
       "      <td>1142801</td>\n",
       "      <td>22716</td>\n",
       "      <td>20016</td>\n",
       "      <td>33447</td>\n",
       "      <td>54837</td>\n",
       "    </tr>\n",
       "    <tr>\n",
       "      <th>357</th>\n",
       "      <td>24.12.2019</td>\n",
       "      <td>420220</td>\n",
       "      <td>371505</td>\n",
       "      <td>212020</td>\n",
       "      <td>85976</td>\n",
       "      <td>1089726</td>\n",
       "      <td>21282</td>\n",
       "      <td>18268</td>\n",
       "      <td>30322</td>\n",
       "      <td>69872</td>\n",
       "    </tr>\n",
       "    <tr>\n",
       "      <th>358</th>\n",
       "      <td>25.12.2019</td>\n",
       "      <td>415527</td>\n",
       "      <td>377500</td>\n",
       "      <td>211261</td>\n",
       "      <td>82556</td>\n",
       "      <td>1086844</td>\n",
       "      <td>20779</td>\n",
       "      <td>17131</td>\n",
       "      <td>27782</td>\n",
       "      <td>65692</td>\n",
       "    </tr>\n",
       "    <tr>\n",
       "      <th>359</th>\n",
       "      <td>26.12.2019</td>\n",
       "      <td>434658</td>\n",
       "      <td>403934</td>\n",
       "      <td>216217</td>\n",
       "      <td>84816</td>\n",
       "      <td>1139629</td>\n",
       "      <td>21932</td>\n",
       "      <td>18113</td>\n",
       "      <td>29311</td>\n",
       "      <td>69356</td>\n",
       "    </tr>\n",
       "    <tr>\n",
       "      <th>360</th>\n",
       "      <td>27.12.2019</td>\n",
       "      <td>460167</td>\n",
       "      <td>437592</td>\n",
       "      <td>241661</td>\n",
       "      <td>93113</td>\n",
       "      <td>1232536</td>\n",
       "      <td>24133</td>\n",
       "      <td>19943</td>\n",
       "      <td>32877</td>\n",
       "      <td>76953</td>\n",
       "    </tr>\n",
       "    <tr>\n",
       "      <th>361</th>\n",
       "      <td>28.12.2019</td>\n",
       "      <td>442388</td>\n",
       "      <td>441166</td>\n",
       "      <td>251740</td>\n",
       "      <td>92159</td>\n",
       "      <td>1227453</td>\n",
       "      <td>23841</td>\n",
       "      <td>19371</td>\n",
       "      <td>32318</td>\n",
       "      <td>75530</td>\n",
       "    </tr>\n",
       "    <tr>\n",
       "      <th>362</th>\n",
       "      <td>29.12.2019</td>\n",
       "      <td>394046</td>\n",
       "      <td>396131</td>\n",
       "      <td>231863</td>\n",
       "      <td>91624</td>\n",
       "      <td>1113664</td>\n",
       "      <td>23689</td>\n",
       "      <td>18901</td>\n",
       "      <td>31866</td>\n",
       "      <td>74456</td>\n",
       "    </tr>\n",
       "    <tr>\n",
       "      <th>363</th>\n",
       "      <td>30.12.2019</td>\n",
       "      <td>394922</td>\n",
       "      <td>389466</td>\n",
       "      <td>229510</td>\n",
       "      <td>96420</td>\n",
       "      <td>1110331</td>\n",
       "      <td>23980</td>\n",
       "      <td>19782</td>\n",
       "      <td>33985</td>\n",
       "      <td>77747</td>\n",
       "    </tr>\n",
       "    <tr>\n",
       "      <th>364</th>\n",
       "      <td>31.12.2019</td>\n",
       "      <td>410930</td>\n",
       "      <td>385125</td>\n",
       "      <td>240828</td>\n",
       "      <td>89113</td>\n",
       "      <td>1128907</td>\n",
       "      <td>22758</td>\n",
       "      <td>18300</td>\n",
       "      <td>32882</td>\n",
       "      <td>74900</td>\n",
       "    </tr>\n",
       "  </tbody>\n",
       "</table>\n",
       "</div>"
      ],
      "text/plain": [
       "     Unnamed: 0      NO      SE      FI     DK   Nordic     EE     LV     LT  \\\n",
       "355  22.12.2019  407024  381602  221879  88327  1098844  22221  18838  31967   \n",
       "356  23.12.2019  429045  398944  221337  93465  1142801  22716  20016  33447   \n",
       "357  24.12.2019  420220  371505  212020  85976  1089726  21282  18268  30322   \n",
       "358  25.12.2019  415527  377500  211261  82556  1086844  20779  17131  27782   \n",
       "359  26.12.2019  434658  403934  216217  84816  1139629  21932  18113  29311   \n",
       "360  27.12.2019  460167  437592  241661  93113  1232536  24133  19943  32877   \n",
       "361  28.12.2019  442388  441166  251740  92159  1227453  23841  19371  32318   \n",
       "362  29.12.2019  394046  396131  231863  91624  1113664  23689  18901  31866   \n",
       "363  30.12.2019  394922  389466  229510  96420  1110331  23980  19782  33985   \n",
       "364  31.12.2019  410930  385125  240828  89113  1128907  22758  18300  32882   \n",
       "\n",
       "     Baltic  \n",
       "355   73026  \n",
       "356   54837  \n",
       "357   69872  \n",
       "358   65692  \n",
       "359   69356  \n",
       "360   76953  \n",
       "361   75530  \n",
       "362   74456  \n",
       "363   77747  \n",
       "364   74900  "
      ]
     },
     "execution_count": 10,
     "metadata": {},
     "output_type": "execute_result"
    }
   ],
   "source": [
    "consumptions.tail(10)"
   ]
  },
  {
   "cell_type": "code",
   "execution_count": 11,
   "metadata": {
    "ExecuteTime": {
     "end_time": "2020-12-10T08:43:53.768364Z",
     "start_time": "2020-12-10T08:43:53.549614Z"
    }
   },
   "outputs": [
    {
     "data": {
      "text/plain": [
       "(2191, 10)"
      ]
     },
     "execution_count": 11,
     "metadata": {},
     "output_type": "execute_result"
    }
   ],
   "source": [
    "consumptions.shape"
   ]
  },
  {
   "cell_type": "markdown",
   "metadata": {},
   "source": [
    "The dataset contains 2191 rows, so no day is missing; and 10 columns (consumption for 7 countries, summary for the Nordic and the Baltic, and date)."
   ]
  },
  {
   "cell_type": "code",
   "execution_count": 12,
   "metadata": {
    "ExecuteTime": {
     "end_time": "2020-12-10T08:43:54.034020Z",
     "start_time": "2020-12-10T08:43:53.768364Z"
    }
   },
   "outputs": [
    {
     "data": {
      "text/plain": [
       "datetime.timedelta(days=2191)"
      ]
     },
     "execution_count": 12,
     "metadata": {},
     "output_type": "execute_result"
    }
   ],
   "source": [
    "firstday = dt.datetime(2014,1,1)\n",
    "lastday = dt.datetime(2020,1,1)\n",
    "days = lastday - firstday\n",
    "days"
   ]
  },
  {
   "cell_type": "code",
   "execution_count": 13,
   "metadata": {
    "ExecuteTime": {
     "end_time": "2020-12-10T08:43:54.237147Z",
     "start_time": "2020-12-10T08:43:54.034020Z"
    }
   },
   "outputs": [
    {
     "data": {
      "text/plain": [
       "False"
      ]
     },
     "execution_count": 13,
     "metadata": {},
     "output_type": "execute_result"
    }
   ],
   "source": [
    "# The dataset doesn't contain any null values. So, no need to tidy it.\n",
    "consumptions.isnull().values.any()"
   ]
  },
  {
   "cell_type": "code",
   "execution_count": 14,
   "metadata": {
    "ExecuteTime": {
     "end_time": "2020-12-10T08:43:54.487125Z",
     "start_time": "2020-12-10T08:43:54.237147Z"
    }
   },
   "outputs": [
    {
     "name": "stdout",
     "output_type": "stream",
     "text": [
      "<class 'pandas.core.frame.DataFrame'>\n",
      "Int64Index: 2191 entries, 0 to 364\n",
      "Data columns (total 10 columns):\n",
      " #   Column      Non-Null Count  Dtype \n",
      "---  ------      --------------  ----- \n",
      " 0   Unnamed: 0  2191 non-null   object\n",
      " 1   NO          2191 non-null   int64 \n",
      " 2   SE          2191 non-null   int64 \n",
      " 3   FI          2191 non-null   int64 \n",
      " 4   DK          2191 non-null   int64 \n",
      " 5   Nordic      2191 non-null   int64 \n",
      " 6   EE          2191 non-null   int64 \n",
      " 7   LV          2191 non-null   int64 \n",
      " 8   LT          2191 non-null   int64 \n",
      " 9   Baltic      2191 non-null   int64 \n",
      "dtypes: int64(9), object(1)\n",
      "memory usage: 188.3+ KB\n"
     ]
    }
   ],
   "source": [
    "consumptions.info()"
   ]
  },
  {
   "cell_type": "markdown",
   "metadata": {},
   "source": [
    "The date in the dataset is object, i.e. string. We convert it into the datetime object and rename the column into \"Date."
   ]
  },
  {
   "cell_type": "code",
   "execution_count": 15,
   "metadata": {
    "ExecuteTime": {
     "end_time": "2020-12-10T08:43:54.924688Z",
     "start_time": "2020-12-10T08:43:54.487125Z"
    }
   },
   "outputs": [],
   "source": [
    "consumptions[\"Unnamed: 0\"] = pd.to_datetime(consumptions[\"Unnamed: 0\"],format = \"%d.%m.%Y\")"
   ]
  },
  {
   "cell_type": "code",
   "execution_count": 16,
   "metadata": {
    "ExecuteTime": {
     "end_time": "2020-12-10T08:43:55.080904Z",
     "start_time": "2020-12-10T08:43:54.924688Z"
    }
   },
   "outputs": [
    {
     "data": {
      "text/plain": [
       "Unnamed: 0    datetime64[ns]\n",
       "NO                     int64\n",
       "SE                     int64\n",
       "FI                     int64\n",
       "DK                     int64\n",
       "Nordic                 int64\n",
       "EE                     int64\n",
       "LV                     int64\n",
       "LT                     int64\n",
       "Baltic                 int64\n",
       "dtype: object"
      ]
     },
     "execution_count": 16,
     "metadata": {},
     "output_type": "execute_result"
    }
   ],
   "source": [
    "consumptions.dtypes\n"
   ]
  },
  {
   "cell_type": "code",
   "execution_count": 17,
   "metadata": {
    "ExecuteTime": {
     "end_time": "2020-12-10T08:43:55.393393Z",
     "start_time": "2020-12-10T08:43:55.080904Z"
    }
   },
   "outputs": [
    {
     "data": {
      "text/html": [
       "<div>\n",
       "<style scoped>\n",
       "    .dataframe tbody tr th:only-of-type {\n",
       "        vertical-align: middle;\n",
       "    }\n",
       "\n",
       "    .dataframe tbody tr th {\n",
       "        vertical-align: top;\n",
       "    }\n",
       "\n",
       "    .dataframe thead th {\n",
       "        text-align: right;\n",
       "    }\n",
       "</style>\n",
       "<table border=\"1\" class=\"dataframe\">\n",
       "  <thead>\n",
       "    <tr style=\"text-align: right;\">\n",
       "      <th></th>\n",
       "      <th>Date</th>\n",
       "      <th>NO</th>\n",
       "      <th>SE</th>\n",
       "      <th>FI</th>\n",
       "      <th>DK</th>\n",
       "      <th>Nordic</th>\n",
       "      <th>EE</th>\n",
       "      <th>LV</th>\n",
       "      <th>LT</th>\n",
       "      <th>Baltic</th>\n",
       "      <th>Year</th>\n",
       "      <th>Month</th>\n",
       "    </tr>\n",
       "  </thead>\n",
       "  <tbody>\n",
       "    <tr>\n",
       "      <th>0</th>\n",
       "      <td>2014-01-01</td>\n",
       "      <td>366427</td>\n",
       "      <td>384749</td>\n",
       "      <td>222609</td>\n",
       "      <td>83837</td>\n",
       "      <td>1057638</td>\n",
       "      <td>19487</td>\n",
       "      <td>17885</td>\n",
       "      <td>22959</td>\n",
       "      <td>60331</td>\n",
       "      <td>2014</td>\n",
       "      <td>1</td>\n",
       "    </tr>\n",
       "    <tr>\n",
       "      <th>1</th>\n",
       "      <td>2014-01-02</td>\n",
       "      <td>399918</td>\n",
       "      <td>411970</td>\n",
       "      <td>246089</td>\n",
       "      <td>99705</td>\n",
       "      <td>1157684</td>\n",
       "      <td>23373</td>\n",
       "      <td>21578</td>\n",
       "      <td>27295</td>\n",
       "      <td>72246</td>\n",
       "      <td>2014</td>\n",
       "      <td>1</td>\n",
       "    </tr>\n",
       "    <tr>\n",
       "      <th>2</th>\n",
       "      <td>2014-01-03</td>\n",
       "      <td>394838</td>\n",
       "      <td>412474</td>\n",
       "      <td>252240</td>\n",
       "      <td>98515</td>\n",
       "      <td>1158079</td>\n",
       "      <td>24053</td>\n",
       "      <td>22123</td>\n",
       "      <td>27322</td>\n",
       "      <td>73498</td>\n",
       "      <td>2014</td>\n",
       "      <td>1</td>\n",
       "    </tr>\n",
       "    <tr>\n",
       "      <th>3</th>\n",
       "      <td>2014-01-04</td>\n",
       "      <td>373405</td>\n",
       "      <td>390819</td>\n",
       "      <td>239997</td>\n",
       "      <td>89931</td>\n",
       "      <td>1094167</td>\n",
       "      <td>21959</td>\n",
       "      <td>20152</td>\n",
       "      <td>24993</td>\n",
       "      <td>67104</td>\n",
       "      <td>2014</td>\n",
       "      <td>1</td>\n",
       "    </tr>\n",
       "    <tr>\n",
       "      <th>4</th>\n",
       "      <td>2014-01-05</td>\n",
       "      <td>369245</td>\n",
       "      <td>388306</td>\n",
       "      <td>229357</td>\n",
       "      <td>88121</td>\n",
       "      <td>1075031</td>\n",
       "      <td>21025</td>\n",
       "      <td>19587</td>\n",
       "      <td>24387</td>\n",
       "      <td>64999</td>\n",
       "      <td>2014</td>\n",
       "      <td>1</td>\n",
       "    </tr>\n",
       "  </tbody>\n",
       "</table>\n",
       "</div>"
      ],
      "text/plain": [
       "        Date      NO      SE      FI     DK   Nordic     EE     LV     LT  \\\n",
       "0 2014-01-01  366427  384749  222609  83837  1057638  19487  17885  22959   \n",
       "1 2014-01-02  399918  411970  246089  99705  1157684  23373  21578  27295   \n",
       "2 2014-01-03  394838  412474  252240  98515  1158079  24053  22123  27322   \n",
       "3 2014-01-04  373405  390819  239997  89931  1094167  21959  20152  24993   \n",
       "4 2014-01-05  369245  388306  229357  88121  1075031  21025  19587  24387   \n",
       "\n",
       "   Baltic  Year  Month  \n",
       "0   60331  2014      1  \n",
       "1   72246  2014      1  \n",
       "2   73498  2014      1  \n",
       "3   67104  2014      1  \n",
       "4   64999  2014      1  "
      ]
     },
     "execution_count": 17,
     "metadata": {},
     "output_type": "execute_result"
    }
   ],
   "source": [
    "consumptions = consumptions.rename(columns={\"Unnamed: 0\": \"Date\"})\n",
    "consumptions['Year'] = pd.DatetimeIndex(consumptions['Date']).year\n",
    "consumptions['Month'] = pd.DatetimeIndex(consumptions['Date']).month\n",
    "consumptions.head()"
   ]
  },
  {
   "cell_type": "code",
   "execution_count": null,
   "metadata": {},
   "outputs": [],
   "source": []
  },
  {
   "cell_type": "markdown",
   "metadata": {},
   "source": [
    "## Preparing the dataset"
   ]
  },
  {
   "cell_type": "code",
   "execution_count": 18,
   "metadata": {
    "ExecuteTime": {
     "end_time": "2020-12-10T08:43:55.612157Z",
     "start_time": "2020-12-10T08:43:55.393393Z"
    }
   },
   "outputs": [
    {
     "data": {
      "text/html": [
       "<div>\n",
       "<style scoped>\n",
       "    .dataframe tbody tr th:only-of-type {\n",
       "        vertical-align: middle;\n",
       "    }\n",
       "\n",
       "    .dataframe tbody tr th {\n",
       "        vertical-align: top;\n",
       "    }\n",
       "\n",
       "    .dataframe thead th {\n",
       "        text-align: right;\n",
       "    }\n",
       "</style>\n",
       "<table border=\"1\" class=\"dataframe\">\n",
       "  <thead>\n",
       "    <tr style=\"text-align: right;\">\n",
       "      <th></th>\n",
       "      <th>NO</th>\n",
       "      <th>SE</th>\n",
       "      <th>FI</th>\n",
       "      <th>DK</th>\n",
       "      <th>Nordic</th>\n",
       "      <th>EE</th>\n",
       "      <th>LV</th>\n",
       "      <th>LT</th>\n",
       "      <th>Baltic</th>\n",
       "      <th>Year</th>\n",
       "      <th>Month</th>\n",
       "    </tr>\n",
       "    <tr>\n",
       "      <th>Date</th>\n",
       "      <th></th>\n",
       "      <th></th>\n",
       "      <th></th>\n",
       "      <th></th>\n",
       "      <th></th>\n",
       "      <th></th>\n",
       "      <th></th>\n",
       "      <th></th>\n",
       "      <th></th>\n",
       "      <th></th>\n",
       "      <th></th>\n",
       "    </tr>\n",
       "  </thead>\n",
       "  <tbody>\n",
       "    <tr>\n",
       "      <th>2014-01-01</th>\n",
       "      <td>366427</td>\n",
       "      <td>384749</td>\n",
       "      <td>222609</td>\n",
       "      <td>83837</td>\n",
       "      <td>1057638</td>\n",
       "      <td>19487</td>\n",
       "      <td>17885</td>\n",
       "      <td>22959</td>\n",
       "      <td>60331</td>\n",
       "      <td>2014</td>\n",
       "      <td>1</td>\n",
       "    </tr>\n",
       "    <tr>\n",
       "      <th>2014-01-02</th>\n",
       "      <td>399918</td>\n",
       "      <td>411970</td>\n",
       "      <td>246089</td>\n",
       "      <td>99705</td>\n",
       "      <td>1157684</td>\n",
       "      <td>23373</td>\n",
       "      <td>21578</td>\n",
       "      <td>27295</td>\n",
       "      <td>72246</td>\n",
       "      <td>2014</td>\n",
       "      <td>1</td>\n",
       "    </tr>\n",
       "    <tr>\n",
       "      <th>2014-01-03</th>\n",
       "      <td>394838</td>\n",
       "      <td>412474</td>\n",
       "      <td>252240</td>\n",
       "      <td>98515</td>\n",
       "      <td>1158079</td>\n",
       "      <td>24053</td>\n",
       "      <td>22123</td>\n",
       "      <td>27322</td>\n",
       "      <td>73498</td>\n",
       "      <td>2014</td>\n",
       "      <td>1</td>\n",
       "    </tr>\n",
       "    <tr>\n",
       "      <th>2014-01-04</th>\n",
       "      <td>373405</td>\n",
       "      <td>390819</td>\n",
       "      <td>239997</td>\n",
       "      <td>89931</td>\n",
       "      <td>1094167</td>\n",
       "      <td>21959</td>\n",
       "      <td>20152</td>\n",
       "      <td>24993</td>\n",
       "      <td>67104</td>\n",
       "      <td>2014</td>\n",
       "      <td>1</td>\n",
       "    </tr>\n",
       "    <tr>\n",
       "      <th>2014-01-05</th>\n",
       "      <td>369245</td>\n",
       "      <td>388306</td>\n",
       "      <td>229357</td>\n",
       "      <td>88121</td>\n",
       "      <td>1075031</td>\n",
       "      <td>21025</td>\n",
       "      <td>19587</td>\n",
       "      <td>24387</td>\n",
       "      <td>64999</td>\n",
       "      <td>2014</td>\n",
       "      <td>1</td>\n",
       "    </tr>\n",
       "  </tbody>\n",
       "</table>\n",
       "</div>"
      ],
      "text/plain": [
       "                NO      SE      FI     DK   Nordic     EE     LV     LT  \\\n",
       "Date                                                                      \n",
       "2014-01-01  366427  384749  222609  83837  1057638  19487  17885  22959   \n",
       "2014-01-02  399918  411970  246089  99705  1157684  23373  21578  27295   \n",
       "2014-01-03  394838  412474  252240  98515  1158079  24053  22123  27322   \n",
       "2014-01-04  373405  390819  239997  89931  1094167  21959  20152  24993   \n",
       "2014-01-05  369245  388306  229357  88121  1075031  21025  19587  24387   \n",
       "\n",
       "            Baltic  Year  Month  \n",
       "Date                             \n",
       "2014-01-01   60331  2014      1  \n",
       "2014-01-02   72246  2014      1  \n",
       "2014-01-03   73498  2014      1  \n",
       "2014-01-04   67104  2014      1  \n",
       "2014-01-05   64999  2014      1  "
      ]
     },
     "execution_count": 18,
     "metadata": {},
     "output_type": "execute_result"
    }
   ],
   "source": [
    "# Daily consumptions\n",
    "CMD = consumptions.set_index(\"Date\")\n",
    "CMD.head()\n"
   ]
  },
  {
   "cell_type": "code",
   "execution_count": null,
   "metadata": {},
   "outputs": [],
   "source": []
  },
  {
   "cell_type": "code",
   "execution_count": 19,
   "metadata": {
    "ExecuteTime": {
     "end_time": "2020-12-10T08:43:55.924697Z",
     "start_time": "2020-12-10T08:43:55.612157Z"
    }
   },
   "outputs": [
    {
     "data": {
      "text/html": [
       "<div>\n",
       "<style scoped>\n",
       "    .dataframe tbody tr th:only-of-type {\n",
       "        vertical-align: middle;\n",
       "    }\n",
       "\n",
       "    .dataframe tbody tr th {\n",
       "        vertical-align: top;\n",
       "    }\n",
       "\n",
       "    .dataframe thead th {\n",
       "        text-align: right;\n",
       "    }\n",
       "</style>\n",
       "<table border=\"1\" class=\"dataframe\">\n",
       "  <thead>\n",
       "    <tr style=\"text-align: right;\">\n",
       "      <th></th>\n",
       "      <th></th>\n",
       "      <th>NO</th>\n",
       "      <th>SE</th>\n",
       "      <th>FI</th>\n",
       "      <th>DK</th>\n",
       "      <th>Nordic</th>\n",
       "      <th>EE</th>\n",
       "      <th>LV</th>\n",
       "      <th>LT</th>\n",
       "      <th>Baltic</th>\n",
       "      <th>Month</th>\n",
       "    </tr>\n",
       "    <tr>\n",
       "      <th>Year</th>\n",
       "      <th>Date</th>\n",
       "      <th></th>\n",
       "      <th></th>\n",
       "      <th></th>\n",
       "      <th></th>\n",
       "      <th></th>\n",
       "      <th></th>\n",
       "      <th></th>\n",
       "      <th></th>\n",
       "      <th></th>\n",
       "      <th></th>\n",
       "    </tr>\n",
       "  </thead>\n",
       "  <tbody>\n",
       "    <tr>\n",
       "      <th rowspan=\"5\" valign=\"top\">2014</th>\n",
       "      <th>2014-01-01</th>\n",
       "      <td>366427</td>\n",
       "      <td>384749</td>\n",
       "      <td>222609</td>\n",
       "      <td>83837</td>\n",
       "      <td>1057638</td>\n",
       "      <td>19487</td>\n",
       "      <td>17885</td>\n",
       "      <td>22959</td>\n",
       "      <td>60331</td>\n",
       "      <td>1</td>\n",
       "    </tr>\n",
       "    <tr>\n",
       "      <th>2014-01-02</th>\n",
       "      <td>399918</td>\n",
       "      <td>411970</td>\n",
       "      <td>246089</td>\n",
       "      <td>99705</td>\n",
       "      <td>1157684</td>\n",
       "      <td>23373</td>\n",
       "      <td>21578</td>\n",
       "      <td>27295</td>\n",
       "      <td>72246</td>\n",
       "      <td>1</td>\n",
       "    </tr>\n",
       "    <tr>\n",
       "      <th>2014-01-03</th>\n",
       "      <td>394838</td>\n",
       "      <td>412474</td>\n",
       "      <td>252240</td>\n",
       "      <td>98515</td>\n",
       "      <td>1158079</td>\n",
       "      <td>24053</td>\n",
       "      <td>22123</td>\n",
       "      <td>27322</td>\n",
       "      <td>73498</td>\n",
       "      <td>1</td>\n",
       "    </tr>\n",
       "    <tr>\n",
       "      <th>2014-01-04</th>\n",
       "      <td>373405</td>\n",
       "      <td>390819</td>\n",
       "      <td>239997</td>\n",
       "      <td>89931</td>\n",
       "      <td>1094167</td>\n",
       "      <td>21959</td>\n",
       "      <td>20152</td>\n",
       "      <td>24993</td>\n",
       "      <td>67104</td>\n",
       "      <td>1</td>\n",
       "    </tr>\n",
       "    <tr>\n",
       "      <th>2014-01-05</th>\n",
       "      <td>369245</td>\n",
       "      <td>388306</td>\n",
       "      <td>229357</td>\n",
       "      <td>88121</td>\n",
       "      <td>1075031</td>\n",
       "      <td>21025</td>\n",
       "      <td>19587</td>\n",
       "      <td>24387</td>\n",
       "      <td>64999</td>\n",
       "      <td>1</td>\n",
       "    </tr>\n",
       "    <tr>\n",
       "      <th>...</th>\n",
       "      <th>...</th>\n",
       "      <td>...</td>\n",
       "      <td>...</td>\n",
       "      <td>...</td>\n",
       "      <td>...</td>\n",
       "      <td>...</td>\n",
       "      <td>...</td>\n",
       "      <td>...</td>\n",
       "      <td>...</td>\n",
       "      <td>...</td>\n",
       "      <td>...</td>\n",
       "    </tr>\n",
       "    <tr>\n",
       "      <th rowspan=\"5\" valign=\"top\">2019</th>\n",
       "      <th>2019-12-27</th>\n",
       "      <td>460167</td>\n",
       "      <td>437592</td>\n",
       "      <td>241661</td>\n",
       "      <td>93113</td>\n",
       "      <td>1232536</td>\n",
       "      <td>24133</td>\n",
       "      <td>19943</td>\n",
       "      <td>32877</td>\n",
       "      <td>76953</td>\n",
       "      <td>12</td>\n",
       "    </tr>\n",
       "    <tr>\n",
       "      <th>2019-12-28</th>\n",
       "      <td>442388</td>\n",
       "      <td>441166</td>\n",
       "      <td>251740</td>\n",
       "      <td>92159</td>\n",
       "      <td>1227453</td>\n",
       "      <td>23841</td>\n",
       "      <td>19371</td>\n",
       "      <td>32318</td>\n",
       "      <td>75530</td>\n",
       "      <td>12</td>\n",
       "    </tr>\n",
       "    <tr>\n",
       "      <th>2019-12-29</th>\n",
       "      <td>394046</td>\n",
       "      <td>396131</td>\n",
       "      <td>231863</td>\n",
       "      <td>91624</td>\n",
       "      <td>1113664</td>\n",
       "      <td>23689</td>\n",
       "      <td>18901</td>\n",
       "      <td>31866</td>\n",
       "      <td>74456</td>\n",
       "      <td>12</td>\n",
       "    </tr>\n",
       "    <tr>\n",
       "      <th>2019-12-30</th>\n",
       "      <td>394922</td>\n",
       "      <td>389466</td>\n",
       "      <td>229510</td>\n",
       "      <td>96420</td>\n",
       "      <td>1110331</td>\n",
       "      <td>23980</td>\n",
       "      <td>19782</td>\n",
       "      <td>33985</td>\n",
       "      <td>77747</td>\n",
       "      <td>12</td>\n",
       "    </tr>\n",
       "    <tr>\n",
       "      <th>2019-12-31</th>\n",
       "      <td>410930</td>\n",
       "      <td>385125</td>\n",
       "      <td>240828</td>\n",
       "      <td>89113</td>\n",
       "      <td>1128907</td>\n",
       "      <td>22758</td>\n",
       "      <td>18300</td>\n",
       "      <td>32882</td>\n",
       "      <td>74900</td>\n",
       "      <td>12</td>\n",
       "    </tr>\n",
       "  </tbody>\n",
       "</table>\n",
       "<p>2191 rows × 10 columns</p>\n",
       "</div>"
      ],
      "text/plain": [
       "                     NO      SE      FI     DK   Nordic     EE     LV     LT  \\\n",
       "Year Date                                                                      \n",
       "2014 2014-01-01  366427  384749  222609  83837  1057638  19487  17885  22959   \n",
       "     2014-01-02  399918  411970  246089  99705  1157684  23373  21578  27295   \n",
       "     2014-01-03  394838  412474  252240  98515  1158079  24053  22123  27322   \n",
       "     2014-01-04  373405  390819  239997  89931  1094167  21959  20152  24993   \n",
       "     2014-01-05  369245  388306  229357  88121  1075031  21025  19587  24387   \n",
       "...                 ...     ...     ...    ...      ...    ...    ...    ...   \n",
       "2019 2019-12-27  460167  437592  241661  93113  1232536  24133  19943  32877   \n",
       "     2019-12-28  442388  441166  251740  92159  1227453  23841  19371  32318   \n",
       "     2019-12-29  394046  396131  231863  91624  1113664  23689  18901  31866   \n",
       "     2019-12-30  394922  389466  229510  96420  1110331  23980  19782  33985   \n",
       "     2019-12-31  410930  385125  240828  89113  1128907  22758  18300  32882   \n",
       "\n",
       "                 Baltic  Month  \n",
       "Year Date                       \n",
       "2014 2014-01-01   60331      1  \n",
       "     2014-01-02   72246      1  \n",
       "     2014-01-03   73498      1  \n",
       "     2014-01-04   67104      1  \n",
       "     2014-01-05   64999      1  \n",
       "...                 ...    ...  \n",
       "2019 2019-12-27   76953     12  \n",
       "     2019-12-28   75530     12  \n",
       "     2019-12-29   74456     12  \n",
       "     2019-12-30   77747     12  \n",
       "     2019-12-31   74900     12  \n",
       "\n",
       "[2191 rows x 10 columns]"
      ]
     },
     "execution_count": 19,
     "metadata": {},
     "output_type": "execute_result"
    }
   ],
   "source": [
    "#Setting MultiIndex\n",
    "CY = consumptions.set_index([\"Year\", \"Date\"]) \n",
    "CY"
   ]
  },
  {
   "cell_type": "code",
   "execution_count": 20,
   "metadata": {
    "ExecuteTime": {
     "end_time": "2020-12-10T08:43:56.159074Z",
     "start_time": "2020-12-10T08:43:55.924697Z"
    }
   },
   "outputs": [],
   "source": [
    "#CY2016 - Consumpion Yearly without 2016-02-29"
   ]
  },
  {
   "cell_type": "code",
   "execution_count": 21,
   "metadata": {
    "ExecuteTime": {
     "end_time": "2020-12-10T08:43:56.596540Z",
     "start_time": "2020-12-10T08:43:56.159074Z"
    }
   },
   "outputs": [],
   "source": [
    "CY2016 = CY.drop(index=pd.Timestamp(\"2016-02-29\"),level=1)"
   ]
  },
  {
   "cell_type": "code",
   "execution_count": 22,
   "metadata": {
    "ExecuteTime": {
     "end_time": "2020-12-10T08:43:56.768405Z",
     "start_time": "2020-12-10T08:43:56.596540Z"
    }
   },
   "outputs": [
    {
     "data": {
      "text/html": [
       "<div>\n",
       "<style scoped>\n",
       "    .dataframe tbody tr th:only-of-type {\n",
       "        vertical-align: middle;\n",
       "    }\n",
       "\n",
       "    .dataframe tbody tr th {\n",
       "        vertical-align: top;\n",
       "    }\n",
       "\n",
       "    .dataframe thead th {\n",
       "        text-align: right;\n",
       "    }\n",
       "</style>\n",
       "<table border=\"1\" class=\"dataframe\">\n",
       "  <thead>\n",
       "    <tr style=\"text-align: right;\">\n",
       "      <th></th>\n",
       "      <th>NO</th>\n",
       "      <th>SE</th>\n",
       "      <th>FI</th>\n",
       "      <th>DK</th>\n",
       "      <th>Nordic</th>\n",
       "      <th>EE</th>\n",
       "      <th>LV</th>\n",
       "      <th>LT</th>\n",
       "      <th>Baltic</th>\n",
       "      <th>Month</th>\n",
       "    </tr>\n",
       "    <tr>\n",
       "      <th>Date</th>\n",
       "      <th></th>\n",
       "      <th></th>\n",
       "      <th></th>\n",
       "      <th></th>\n",
       "      <th></th>\n",
       "      <th></th>\n",
       "      <th></th>\n",
       "      <th></th>\n",
       "      <th></th>\n",
       "      <th></th>\n",
       "    </tr>\n",
       "  </thead>\n",
       "  <tbody>\n",
       "    <tr>\n",
       "      <th>2016-02-25</th>\n",
       "      <td>462529</td>\n",
       "      <td>489577</td>\n",
       "      <td>261725</td>\n",
       "      <td>101972</td>\n",
       "      <td>1301466</td>\n",
       "      <td>24986</td>\n",
       "      <td>21920</td>\n",
       "      <td>29912</td>\n",
       "      <td>76818</td>\n",
       "      <td>2</td>\n",
       "    </tr>\n",
       "    <tr>\n",
       "      <th>2016-02-26</th>\n",
       "      <td>454288</td>\n",
       "      <td>480943</td>\n",
       "      <td>269715</td>\n",
       "      <td>97465</td>\n",
       "      <td>1287746</td>\n",
       "      <td>25154</td>\n",
       "      <td>21817</td>\n",
       "      <td>29336</td>\n",
       "      <td>76307</td>\n",
       "      <td>2</td>\n",
       "    </tr>\n",
       "    <tr>\n",
       "      <th>2016-02-27</th>\n",
       "      <td>434837</td>\n",
       "      <td>449688</td>\n",
       "      <td>258279</td>\n",
       "      <td>89543</td>\n",
       "      <td>1219649</td>\n",
       "      <td>22638</td>\n",
       "      <td>19252</td>\n",
       "      <td>26307</td>\n",
       "      <td>68197</td>\n",
       "      <td>2</td>\n",
       "    </tr>\n",
       "    <tr>\n",
       "      <th>2016-02-28</th>\n",
       "      <td>428176</td>\n",
       "      <td>448231</td>\n",
       "      <td>245553</td>\n",
       "      <td>89174</td>\n",
       "      <td>1197196</td>\n",
       "      <td>21976</td>\n",
       "      <td>18832</td>\n",
       "      <td>25682</td>\n",
       "      <td>66490</td>\n",
       "      <td>2</td>\n",
       "    </tr>\n",
       "    <tr>\n",
       "      <th>2016-03-01</th>\n",
       "      <td>468967</td>\n",
       "      <td>486994</td>\n",
       "      <td>262262</td>\n",
       "      <td>102714</td>\n",
       "      <td>1320948</td>\n",
       "      <td>26096</td>\n",
       "      <td>21864</td>\n",
       "      <td>29918</td>\n",
       "      <td>77878</td>\n",
       "      <td>3</td>\n",
       "    </tr>\n",
       "    <tr>\n",
       "      <th>2016-03-02</th>\n",
       "      <td>466987</td>\n",
       "      <td>480415</td>\n",
       "      <td>263285</td>\n",
       "      <td>104020</td>\n",
       "      <td>1314715</td>\n",
       "      <td>26329</td>\n",
       "      <td>21870</td>\n",
       "      <td>29994</td>\n",
       "      <td>78193</td>\n",
       "      <td>3</td>\n",
       "    </tr>\n",
       "  </tbody>\n",
       "</table>\n",
       "</div>"
      ],
      "text/plain": [
       "                NO      SE      FI      DK   Nordic     EE     LV     LT  \\\n",
       "Date                                                                       \n",
       "2016-02-25  462529  489577  261725  101972  1301466  24986  21920  29912   \n",
       "2016-02-26  454288  480943  269715   97465  1287746  25154  21817  29336   \n",
       "2016-02-27  434837  449688  258279   89543  1219649  22638  19252  26307   \n",
       "2016-02-28  428176  448231  245553   89174  1197196  21976  18832  25682   \n",
       "2016-03-01  468967  486994  262262  102714  1320948  26096  21864  29918   \n",
       "2016-03-02  466987  480415  263285  104020  1314715  26329  21870  29994   \n",
       "\n",
       "            Baltic  Month  \n",
       "Date                       \n",
       "2016-02-25   76818      2  \n",
       "2016-02-26   76307      2  \n",
       "2016-02-27   68197      2  \n",
       "2016-02-28   66490      2  \n",
       "2016-03-01   77878      3  \n",
       "2016-03-02   78193      3  "
      ]
     },
     "execution_count": 22,
     "metadata": {},
     "output_type": "execute_result"
    }
   ],
   "source": [
    "CY2016.loc[2016].loc[\"2016-02-25\":\"2016-03-02\"]"
   ]
  },
  {
   "cell_type": "code",
   "execution_count": null,
   "metadata": {},
   "outputs": [],
   "source": []
  },
  {
   "cell_type": "code",
   "execution_count": null,
   "metadata": {},
   "outputs": [],
   "source": []
  },
  {
   "cell_type": "markdown",
   "metadata": {},
   "source": [
    "## Yearly patterns. Graphs"
   ]
  },
  {
   "cell_type": "code",
   "execution_count": 23,
   "metadata": {
    "ExecuteTime": {
     "end_time": "2020-12-10T08:43:56.924659Z",
     "start_time": "2020-12-10T08:43:56.768405Z"
    }
   },
   "outputs": [],
   "source": [
    "def daily_consumption(choice):\n",
    "    fig,ax = plt.subplots(figsize=(20,10))\n",
    "    \n",
    "    for i in range(2014,2020):\n",
    "        ax.plot(pd.date_range(start=\"2014-01-01\",end=\"2014-12-31\"), CY2016.loc[i][choice])\n",
    "        \n",
    "   \n",
    "    ax.set_title(\"Yearly consumption pattern. 2014-19. \"+abbreviations[choice])\n",
    "    ax.legend([\"2014\",\"2015\",\"2016\",\"2017\",\"2018\",\"2019\"], loc = \"upper center\")\n",
    "    ax.set_xlim(pd.Timestamp('2014-01-01'), pd.Timestamp('2014-12-31'))\n",
    "    ax.xaxis.set_major_formatter(mdates.DateFormatter('%b'))\n",
    "    for key, spine in ax.spines.items():\n",
    "        spine.set_visible(False)"
   ]
  },
  {
   "cell_type": "code",
   "execution_count": 24,
   "metadata": {
    "ExecuteTime": {
     "end_time": "2020-12-10T08:43:57.846542Z",
     "start_time": "2020-12-10T08:43:56.924659Z"
    }
   },
   "outputs": [
    {
     "data": {
      "application/vnd.jupyter.widget-view+json": {
       "model_id": "3f4a70dc7eb643f9bdb092f464dfd2e0",
       "version_major": 2,
       "version_minor": 0
      },
      "text/plain": [
       "interactive(children=(Dropdown(description='choice', options=('NO', 'SE', 'FI', 'DK', 'Nordic', 'EE', 'LV', 'L…"
      ]
     },
     "metadata": {},
     "output_type": "display_data"
    },
    {
     "data": {
      "text/plain": [
       "<function __main__.daily_consumption(choice)>"
      ]
     },
     "execution_count": 24,
     "metadata": {},
     "output_type": "execute_result"
    }
   ],
   "source": [
    "interact(daily_consumption,choice=CY2016.columns[:-1])"
   ]
  },
  {
   "cell_type": "markdown",
   "metadata": {},
   "source": [
    "The result of plotting has too much \"ink\". The plot with monthly means would be more visual to depict the pattern of consumption throught a year."
   ]
  },
  {
   "cell_type": "markdown",
   "metadata": {},
   "source": [
    "## Yearly consumption by monthly means "
   ]
  },
  {
   "cell_type": "code",
   "execution_count": 25,
   "metadata": {
    "ExecuteTime": {
     "end_time": "2020-12-10T08:43:57.909043Z",
     "start_time": "2020-12-10T08:43:57.846542Z"
    }
   },
   "outputs": [
    {
     "data": {
      "text/html": [
       "<div>\n",
       "<style scoped>\n",
       "    .dataframe tbody tr th:only-of-type {\n",
       "        vertical-align: middle;\n",
       "    }\n",
       "\n",
       "    .dataframe tbody tr th {\n",
       "        vertical-align: top;\n",
       "    }\n",
       "\n",
       "    .dataframe thead th {\n",
       "        text-align: right;\n",
       "    }\n",
       "</style>\n",
       "<table border=\"1\" class=\"dataframe\">\n",
       "  <thead>\n",
       "    <tr style=\"text-align: right;\">\n",
       "      <th></th>\n",
       "      <th>NO</th>\n",
       "      <th>SE</th>\n",
       "      <th>FI</th>\n",
       "      <th>DK</th>\n",
       "      <th>Nordic</th>\n",
       "      <th>EE</th>\n",
       "      <th>LV</th>\n",
       "      <th>LT</th>\n",
       "      <th>Baltic</th>\n",
       "      <th>Year</th>\n",
       "      <th>Month</th>\n",
       "    </tr>\n",
       "    <tr>\n",
       "      <th>Date</th>\n",
       "      <th></th>\n",
       "      <th></th>\n",
       "      <th></th>\n",
       "      <th></th>\n",
       "      <th></th>\n",
       "      <th></th>\n",
       "      <th></th>\n",
       "      <th></th>\n",
       "      <th></th>\n",
       "      <th></th>\n",
       "      <th></th>\n",
       "    </tr>\n",
       "  </thead>\n",
       "  <tbody>\n",
       "    <tr>\n",
       "      <th>2014-01-31</th>\n",
       "      <td>449989.0</td>\n",
       "      <td>477985.0</td>\n",
       "      <td>281437.0</td>\n",
       "      <td>106612.0</td>\n",
       "      <td>1316031.0</td>\n",
       "      <td>26726.0</td>\n",
       "      <td>23409.0</td>\n",
       "      <td>29147.0</td>\n",
       "      <td>79283.0</td>\n",
       "      <td>2014.0</td>\n",
       "      <td>1.0</td>\n",
       "    </tr>\n",
       "    <tr>\n",
       "      <th>2014-02-28</th>\n",
       "      <td>416771.0</td>\n",
       "      <td>443268.0</td>\n",
       "      <td>262137.0</td>\n",
       "      <td>102471.0</td>\n",
       "      <td>1224655.0</td>\n",
       "      <td>25075.0</td>\n",
       "      <td>22378.0</td>\n",
       "      <td>28338.0</td>\n",
       "      <td>75792.0</td>\n",
       "      <td>2014.0</td>\n",
       "      <td>2.0</td>\n",
       "    </tr>\n",
       "    <tr>\n",
       "      <th>2014-03-31</th>\n",
       "      <td>385508.0</td>\n",
       "      <td>404266.0</td>\n",
       "      <td>241778.0</td>\n",
       "      <td>94857.0</td>\n",
       "      <td>1126419.0</td>\n",
       "      <td>22702.0</td>\n",
       "      <td>20284.0</td>\n",
       "      <td>25328.0</td>\n",
       "      <td>68314.0</td>\n",
       "      <td>2014.0</td>\n",
       "      <td>3.0</td>\n",
       "    </tr>\n",
       "    <tr>\n",
       "      <th>2014-04-30</th>\n",
       "      <td>338718.0</td>\n",
       "      <td>362365.0</td>\n",
       "      <td>223276.0</td>\n",
       "      <td>87699.0</td>\n",
       "      <td>1011962.0</td>\n",
       "      <td>21007.0</td>\n",
       "      <td>18587.0</td>\n",
       "      <td>24924.0</td>\n",
       "      <td>64519.0</td>\n",
       "      <td>2014.0</td>\n",
       "      <td>4.0</td>\n",
       "    </tr>\n",
       "    <tr>\n",
       "      <th>2014-05-31</th>\n",
       "      <td>302799.0</td>\n",
       "      <td>325447.0</td>\n",
       "      <td>204573.0</td>\n",
       "      <td>84739.0</td>\n",
       "      <td>917618.0</td>\n",
       "      <td>19397.0</td>\n",
       "      <td>17635.0</td>\n",
       "      <td>24219.0</td>\n",
       "      <td>61252.0</td>\n",
       "      <td>2014.0</td>\n",
       "      <td>5.0</td>\n",
       "    </tr>\n",
       "    <tr>\n",
       "      <th>...</th>\n",
       "      <td>...</td>\n",
       "      <td>...</td>\n",
       "      <td>...</td>\n",
       "      <td>...</td>\n",
       "      <td>...</td>\n",
       "      <td>...</td>\n",
       "      <td>...</td>\n",
       "      <td>...</td>\n",
       "      <td>...</td>\n",
       "      <td>...</td>\n",
       "      <td>...</td>\n",
       "    </tr>\n",
       "    <tr>\n",
       "      <th>2019-08-31</th>\n",
       "      <td>280719.0</td>\n",
       "      <td>298298.0</td>\n",
       "      <td>195848.0</td>\n",
       "      <td>86246.0</td>\n",
       "      <td>861115.0</td>\n",
       "      <td>19516.0</td>\n",
       "      <td>18572.0</td>\n",
       "      <td>30992.0</td>\n",
       "      <td>69080.0</td>\n",
       "      <td>2019.0</td>\n",
       "      <td>8.0</td>\n",
       "    </tr>\n",
       "    <tr>\n",
       "      <th>2019-09-30</th>\n",
       "      <td>310514.0</td>\n",
       "      <td>325048.0</td>\n",
       "      <td>205682.0</td>\n",
       "      <td>87685.0</td>\n",
       "      <td>928933.0</td>\n",
       "      <td>20630.0</td>\n",
       "      <td>18737.0</td>\n",
       "      <td>31685.0</td>\n",
       "      <td>71052.0</td>\n",
       "      <td>2019.0</td>\n",
       "      <td>9.0</td>\n",
       "    </tr>\n",
       "    <tr>\n",
       "      <th>2019-10-31</th>\n",
       "      <td>368344.0</td>\n",
       "      <td>374795.0</td>\n",
       "      <td>229224.0</td>\n",
       "      <td>93395.0</td>\n",
       "      <td>1065763.0</td>\n",
       "      <td>22951.0</td>\n",
       "      <td>19721.0</td>\n",
       "      <td>33272.0</td>\n",
       "      <td>75944.0</td>\n",
       "      <td>2019.0</td>\n",
       "      <td>10.0</td>\n",
       "    </tr>\n",
       "    <tr>\n",
       "      <th>2019-11-30</th>\n",
       "      <td>435138.0</td>\n",
       "      <td>419261.0</td>\n",
       "      <td>248039.0</td>\n",
       "      <td>99347.0</td>\n",
       "      <td>1201790.0</td>\n",
       "      <td>24834.0</td>\n",
       "      <td>20737.0</td>\n",
       "      <td>35070.0</td>\n",
       "      <td>80641.0</td>\n",
       "      <td>2019.0</td>\n",
       "      <td>11.0</td>\n",
       "    </tr>\n",
       "    <tr>\n",
       "      <th>2019-12-31</th>\n",
       "      <td>436561.0</td>\n",
       "      <td>425573.0</td>\n",
       "      <td>239476.0</td>\n",
       "      <td>99007.0</td>\n",
       "      <td>1200716.0</td>\n",
       "      <td>24723.0</td>\n",
       "      <td>20769.0</td>\n",
       "      <td>35101.0</td>\n",
       "      <td>79935.0</td>\n",
       "      <td>2019.0</td>\n",
       "      <td>12.0</td>\n",
       "    </tr>\n",
       "  </tbody>\n",
       "</table>\n",
       "<p>72 rows × 11 columns</p>\n",
       "</div>"
      ],
      "text/plain": [
       "                  NO        SE        FI        DK     Nordic       EE  \\\n",
       "Date                                                                     \n",
       "2014-01-31  449989.0  477985.0  281437.0  106612.0  1316031.0  26726.0   \n",
       "2014-02-28  416771.0  443268.0  262137.0  102471.0  1224655.0  25075.0   \n",
       "2014-03-31  385508.0  404266.0  241778.0   94857.0  1126419.0  22702.0   \n",
       "2014-04-30  338718.0  362365.0  223276.0   87699.0  1011962.0  21007.0   \n",
       "2014-05-31  302799.0  325447.0  204573.0   84739.0   917618.0  19397.0   \n",
       "...              ...       ...       ...       ...        ...      ...   \n",
       "2019-08-31  280719.0  298298.0  195848.0   86246.0   861115.0  19516.0   \n",
       "2019-09-30  310514.0  325048.0  205682.0   87685.0   928933.0  20630.0   \n",
       "2019-10-31  368344.0  374795.0  229224.0   93395.0  1065763.0  22951.0   \n",
       "2019-11-30  435138.0  419261.0  248039.0   99347.0  1201790.0  24834.0   \n",
       "2019-12-31  436561.0  425573.0  239476.0   99007.0  1200716.0  24723.0   \n",
       "\n",
       "                 LV       LT   Baltic    Year  Month  \n",
       "Date                                                  \n",
       "2014-01-31  23409.0  29147.0  79283.0  2014.0    1.0  \n",
       "2014-02-28  22378.0  28338.0  75792.0  2014.0    2.0  \n",
       "2014-03-31  20284.0  25328.0  68314.0  2014.0    3.0  \n",
       "2014-04-30  18587.0  24924.0  64519.0  2014.0    4.0  \n",
       "2014-05-31  17635.0  24219.0  61252.0  2014.0    5.0  \n",
       "...             ...      ...      ...     ...    ...  \n",
       "2019-08-31  18572.0  30992.0  69080.0  2019.0    8.0  \n",
       "2019-09-30  18737.0  31685.0  71052.0  2019.0    9.0  \n",
       "2019-10-31  19721.0  33272.0  75944.0  2019.0   10.0  \n",
       "2019-11-30  20737.0  35070.0  80641.0  2019.0   11.0  \n",
       "2019-12-31  20769.0  35101.0  79935.0  2019.0   12.0  \n",
       "\n",
       "[72 rows x 11 columns]"
      ]
     },
     "execution_count": 25,
     "metadata": {},
     "output_type": "execute_result"
    }
   ],
   "source": [
    "CMmean = CMD.resample(\"M\").mean().round(0)\n",
    "CMmean"
   ]
  },
  {
   "cell_type": "code",
   "execution_count": 26,
   "metadata": {
    "ExecuteTime": {
     "end_time": "2020-12-10T08:43:58.065296Z",
     "start_time": "2020-12-10T08:43:57.909043Z"
    }
   },
   "outputs": [
    {
     "data": {
      "text/html": [
       "<div>\n",
       "<style scoped>\n",
       "    .dataframe tbody tr th:only-of-type {\n",
       "        vertical-align: middle;\n",
       "    }\n",
       "\n",
       "    .dataframe tbody tr th {\n",
       "        vertical-align: top;\n",
       "    }\n",
       "\n",
       "    .dataframe thead th {\n",
       "        text-align: right;\n",
       "    }\n",
       "</style>\n",
       "<table border=\"1\" class=\"dataframe\">\n",
       "  <thead>\n",
       "    <tr style=\"text-align: right;\">\n",
       "      <th></th>\n",
       "      <th></th>\n",
       "      <th>NO</th>\n",
       "      <th>SE</th>\n",
       "      <th>FI</th>\n",
       "      <th>DK</th>\n",
       "      <th>Nordic</th>\n",
       "      <th>EE</th>\n",
       "      <th>LV</th>\n",
       "      <th>LT</th>\n",
       "      <th>Baltic</th>\n",
       "      <th>Month</th>\n",
       "    </tr>\n",
       "    <tr>\n",
       "      <th>Year</th>\n",
       "      <th>Date</th>\n",
       "      <th></th>\n",
       "      <th></th>\n",
       "      <th></th>\n",
       "      <th></th>\n",
       "      <th></th>\n",
       "      <th></th>\n",
       "      <th></th>\n",
       "      <th></th>\n",
       "      <th></th>\n",
       "      <th></th>\n",
       "    </tr>\n",
       "  </thead>\n",
       "  <tbody>\n",
       "    <tr>\n",
       "      <th rowspan=\"5\" valign=\"top\">2014.0</th>\n",
       "      <th>2014-01-31</th>\n",
       "      <td>449989.0</td>\n",
       "      <td>477985.0</td>\n",
       "      <td>281437.0</td>\n",
       "      <td>106612.0</td>\n",
       "      <td>1316031.0</td>\n",
       "      <td>26726.0</td>\n",
       "      <td>23409.0</td>\n",
       "      <td>29147.0</td>\n",
       "      <td>79283.0</td>\n",
       "      <td>1.0</td>\n",
       "    </tr>\n",
       "    <tr>\n",
       "      <th>2014-02-28</th>\n",
       "      <td>416771.0</td>\n",
       "      <td>443268.0</td>\n",
       "      <td>262137.0</td>\n",
       "      <td>102471.0</td>\n",
       "      <td>1224655.0</td>\n",
       "      <td>25075.0</td>\n",
       "      <td>22378.0</td>\n",
       "      <td>28338.0</td>\n",
       "      <td>75792.0</td>\n",
       "      <td>2.0</td>\n",
       "    </tr>\n",
       "    <tr>\n",
       "      <th>2014-03-31</th>\n",
       "      <td>385508.0</td>\n",
       "      <td>404266.0</td>\n",
       "      <td>241778.0</td>\n",
       "      <td>94857.0</td>\n",
       "      <td>1126419.0</td>\n",
       "      <td>22702.0</td>\n",
       "      <td>20284.0</td>\n",
       "      <td>25328.0</td>\n",
       "      <td>68314.0</td>\n",
       "      <td>3.0</td>\n",
       "    </tr>\n",
       "    <tr>\n",
       "      <th>2014-04-30</th>\n",
       "      <td>338718.0</td>\n",
       "      <td>362365.0</td>\n",
       "      <td>223276.0</td>\n",
       "      <td>87699.0</td>\n",
       "      <td>1011962.0</td>\n",
       "      <td>21007.0</td>\n",
       "      <td>18587.0</td>\n",
       "      <td>24924.0</td>\n",
       "      <td>64519.0</td>\n",
       "      <td>4.0</td>\n",
       "    </tr>\n",
       "    <tr>\n",
       "      <th>2014-05-31</th>\n",
       "      <td>302799.0</td>\n",
       "      <td>325447.0</td>\n",
       "      <td>204573.0</td>\n",
       "      <td>84739.0</td>\n",
       "      <td>917618.0</td>\n",
       "      <td>19397.0</td>\n",
       "      <td>17635.0</td>\n",
       "      <td>24219.0</td>\n",
       "      <td>61252.0</td>\n",
       "      <td>5.0</td>\n",
       "    </tr>\n",
       "    <tr>\n",
       "      <th>...</th>\n",
       "      <th>...</th>\n",
       "      <td>...</td>\n",
       "      <td>...</td>\n",
       "      <td>...</td>\n",
       "      <td>...</td>\n",
       "      <td>...</td>\n",
       "      <td>...</td>\n",
       "      <td>...</td>\n",
       "      <td>...</td>\n",
       "      <td>...</td>\n",
       "      <td>...</td>\n",
       "    </tr>\n",
       "    <tr>\n",
       "      <th rowspan=\"5\" valign=\"top\">2019.0</th>\n",
       "      <th>2019-08-31</th>\n",
       "      <td>280719.0</td>\n",
       "      <td>298298.0</td>\n",
       "      <td>195848.0</td>\n",
       "      <td>86246.0</td>\n",
       "      <td>861115.0</td>\n",
       "      <td>19516.0</td>\n",
       "      <td>18572.0</td>\n",
       "      <td>30992.0</td>\n",
       "      <td>69080.0</td>\n",
       "      <td>8.0</td>\n",
       "    </tr>\n",
       "    <tr>\n",
       "      <th>2019-09-30</th>\n",
       "      <td>310514.0</td>\n",
       "      <td>325048.0</td>\n",
       "      <td>205682.0</td>\n",
       "      <td>87685.0</td>\n",
       "      <td>928933.0</td>\n",
       "      <td>20630.0</td>\n",
       "      <td>18737.0</td>\n",
       "      <td>31685.0</td>\n",
       "      <td>71052.0</td>\n",
       "      <td>9.0</td>\n",
       "    </tr>\n",
       "    <tr>\n",
       "      <th>2019-10-31</th>\n",
       "      <td>368344.0</td>\n",
       "      <td>374795.0</td>\n",
       "      <td>229224.0</td>\n",
       "      <td>93395.0</td>\n",
       "      <td>1065763.0</td>\n",
       "      <td>22951.0</td>\n",
       "      <td>19721.0</td>\n",
       "      <td>33272.0</td>\n",
       "      <td>75944.0</td>\n",
       "      <td>10.0</td>\n",
       "    </tr>\n",
       "    <tr>\n",
       "      <th>2019-11-30</th>\n",
       "      <td>435138.0</td>\n",
       "      <td>419261.0</td>\n",
       "      <td>248039.0</td>\n",
       "      <td>99347.0</td>\n",
       "      <td>1201790.0</td>\n",
       "      <td>24834.0</td>\n",
       "      <td>20737.0</td>\n",
       "      <td>35070.0</td>\n",
       "      <td>80641.0</td>\n",
       "      <td>11.0</td>\n",
       "    </tr>\n",
       "    <tr>\n",
       "      <th>2019-12-31</th>\n",
       "      <td>436561.0</td>\n",
       "      <td>425573.0</td>\n",
       "      <td>239476.0</td>\n",
       "      <td>99007.0</td>\n",
       "      <td>1200716.0</td>\n",
       "      <td>24723.0</td>\n",
       "      <td>20769.0</td>\n",
       "      <td>35101.0</td>\n",
       "      <td>79935.0</td>\n",
       "      <td>12.0</td>\n",
       "    </tr>\n",
       "  </tbody>\n",
       "</table>\n",
       "<p>72 rows × 10 columns</p>\n",
       "</div>"
      ],
      "text/plain": [
       "                         NO        SE        FI        DK     Nordic       EE  \\\n",
       "Year   Date                                                                     \n",
       "2014.0 2014-01-31  449989.0  477985.0  281437.0  106612.0  1316031.0  26726.0   \n",
       "       2014-02-28  416771.0  443268.0  262137.0  102471.0  1224655.0  25075.0   \n",
       "       2014-03-31  385508.0  404266.0  241778.0   94857.0  1126419.0  22702.0   \n",
       "       2014-04-30  338718.0  362365.0  223276.0   87699.0  1011962.0  21007.0   \n",
       "       2014-05-31  302799.0  325447.0  204573.0   84739.0   917618.0  19397.0   \n",
       "...                     ...       ...       ...       ...        ...      ...   \n",
       "2019.0 2019-08-31  280719.0  298298.0  195848.0   86246.0   861115.0  19516.0   \n",
       "       2019-09-30  310514.0  325048.0  205682.0   87685.0   928933.0  20630.0   \n",
       "       2019-10-31  368344.0  374795.0  229224.0   93395.0  1065763.0  22951.0   \n",
       "       2019-11-30  435138.0  419261.0  248039.0   99347.0  1201790.0  24834.0   \n",
       "       2019-12-31  436561.0  425573.0  239476.0   99007.0  1200716.0  24723.0   \n",
       "\n",
       "                        LV       LT   Baltic  Month  \n",
       "Year   Date                                          \n",
       "2014.0 2014-01-31  23409.0  29147.0  79283.0    1.0  \n",
       "       2014-02-28  22378.0  28338.0  75792.0    2.0  \n",
       "       2014-03-31  20284.0  25328.0  68314.0    3.0  \n",
       "       2014-04-30  18587.0  24924.0  64519.0    4.0  \n",
       "       2014-05-31  17635.0  24219.0  61252.0    5.0  \n",
       "...                    ...      ...      ...    ...  \n",
       "2019.0 2019-08-31  18572.0  30992.0  69080.0    8.0  \n",
       "       2019-09-30  18737.0  31685.0  71052.0    9.0  \n",
       "       2019-10-31  19721.0  33272.0  75944.0   10.0  \n",
       "       2019-11-30  20737.0  35070.0  80641.0   11.0  \n",
       "       2019-12-31  20769.0  35101.0  79935.0   12.0  \n",
       "\n",
       "[72 rows x 10 columns]"
      ]
     },
     "execution_count": 26,
     "metadata": {},
     "output_type": "execute_result"
    }
   ],
   "source": [
    "CMmeanMI = CMmean.set_index('Year', append=True).reorder_levels(['Year', 'Date'])\n",
    "CMmeanMI"
   ]
  },
  {
   "cell_type": "code",
   "execution_count": null,
   "metadata": {},
   "outputs": [],
   "source": []
  },
  {
   "cell_type": "code",
   "execution_count": 27,
   "metadata": {
    "ExecuteTime": {
     "end_time": "2020-12-10T08:44:01.647904Z",
     "start_time": "2020-12-10T08:43:58.065296Z"
    }
   },
   "outputs": [
    {
     "data": {
      "image/png": "[encoded data removed]",
      "text/plain": [
       "<Figure size 1080x1440 with 7 Axes>"
      ]
     },
     "metadata": {},
     "output_type": "display_data"
    }
   ],
   "source": [
    "fig = plt.figure(figsize=(15,20))\n",
    "\n",
    "for j in range(7):\n",
    "    ax = fig.add_subplot(4,2,j+1)\n",
    "    for i in range(2014,2020):\n",
    "        ax.plot(pd.date_range(start=\"2014-01-01\",end=\"2014-12-31\", periods=12), CMmeanMI.loc[i][countries[j]])\n",
    "   \n",
    "    ax.set_title(\"Yearly consumption pattern\\n by monthly means. 2014-19. \" + abbreviations[countries[j]])\n",
    "    ax.legend([\"2014\",\"2015\",\"2016\",\"2017\",\"2018\",\"2019\"],loc = \"upper center\")\n",
    "    #ax.set_ylim(0,500000)\n",
    "    ax.set_xlim(pd.Timestamp('2014-01-01'), pd.Timestamp('2014-12-31'))\n",
    "    ax.xaxis.set_major_formatter(mdates.DateFormatter('%b'))\n",
    "    ax.set_ylabel(\"MWh\")\n",
    "    for key, spine in ax.spines.items():\n",
    "        spine.set_visible(False)"
   ]
  },
  {
   "cell_type": "markdown",
   "metadata": {},
   "source": [
    "In fact, the graphs are not in one scale. They are just to show the common pattern.\n",
    "We can see it clearly in all countries - the consumption is higher in winter and drops significantly in summer."
   ]
  },
  {
   "cell_type": "code",
   "execution_count": null,
   "metadata": {},
   "outputs": [],
   "source": []
  },
  {
   "cell_type": "markdown",
   "metadata": {},
   "source": [
    "## Daily consumptions distribution "
   ]
  },
  {
   "cell_type": "code",
   "execution_count": 28,
   "metadata": {
    "ExecuteTime": {
     "end_time": "2020-12-10T08:44:01.663528Z",
     "start_time": "2020-12-10T08:44:01.647904Z"
    }
   },
   "outputs": [],
   "source": [
    "def box_plots(choice):\n",
    "    \n",
    "    \n",
    "    fig = px.box(CMD, x=\"Year\", y=choice, )\n",
    "\n",
    "    fig.update_traces(marker_color=colors[choice])\n",
    "    \n",
    "    fig.update_layout(title='Daily consumptions distribution. '+abbreviations[choice],\n",
    "                   yaxis_title='MWh',\n",
    "                  xaxis_title=None,\n",
    "                  \n",
    "                  showlegend = False)              \n",
    "\n",
    "    fig.show()  \n",
    "    "
   ]
  },
  {
   "cell_type": "code",
   "execution_count": 29,
   "metadata": {
    "ExecuteTime": {
     "end_time": "2020-12-10T08:44:03.241682Z",
     "start_time": "2020-12-10T08:44:01.663528Z"
    }
   },
   "outputs": [
    {
     "data": {
      "application/vnd.jupyter.widget-view+json": {
       "model_id": "a3ac8005e20f4ffcb8ab746d5ddd590b",
       "version_major": 2,
       "version_minor": 0
      },
      "text/plain": [
       "interactive(children=(Dropdown(description='choice', options=('NO', 'SE', 'FI', 'DK', 'Nordic', 'EE', 'LV', 'L…"
      ]
     },
     "metadata": {},
     "output_type": "display_data"
    },
    {
     "data": {
      "text/plain": [
       "<function __main__.box_plots(choice)>"
      ]
     },
     "execution_count": 29,
     "metadata": {},
     "output_type": "execute_result"
    }
   ],
   "source": [
    "interact(box_plots,choice=CY2016.columns[:-1])"
   ]
  },
  {
   "cell_type": "code",
   "execution_count": 30,
   "metadata": {
    "ExecuteTime": {
     "end_time": "2020-12-10T08:44:03.272924Z",
     "start_time": "2020-12-10T08:44:03.241682Z"
    }
   },
   "outputs": [
    {
     "data": {
      "text/plain": [
       "Date\n",
       "2014-06-21    156412\n",
       "2014-06-20    160148\n",
       "2014-06-22    160941\n",
       "2014-07-27    172380\n",
       "2014-08-03    174384\n",
       "2014-05-25    175304\n",
       "2014-06-15    175796\n",
       "2014-08-10    176398\n",
       "2014-06-19    176769\n",
       "2014-07-20    177049\n",
       "Name: FI, dtype: int64"
      ]
     },
     "execution_count": 30,
     "metadata": {},
     "output_type": "execute_result"
    }
   ],
   "source": [
    "CY.loc[2014][\"FI\"].sort_values()[:10]"
   ]
  },
  {
   "cell_type": "code",
   "execution_count": 31,
   "metadata": {
    "ExecuteTime": {
     "end_time": "2020-12-10T08:44:03.522927Z",
     "start_time": "2020-12-10T08:44:03.272924Z"
    }
   },
   "outputs": [
    {
     "data": {
      "text/plain": [
       "Date\n",
       "2014-01-20    320256\n",
       "2014-01-23    318617\n",
       "2014-01-17    317499\n",
       "2014-01-24    316081\n",
       "2014-01-31    314443\n",
       "2014-01-16    311563\n",
       "2014-01-22    311512\n",
       "2014-01-21    311348\n",
       "2014-01-30    307966\n",
       "2014-01-15    307855\n",
       "Name: FI, dtype: int64"
      ]
     },
     "execution_count": 31,
     "metadata": {},
     "output_type": "execute_result"
    }
   ],
   "source": [
    "CY.loc[2014][\"FI\"].sort_values(ascending=False)[:10]"
   ]
  },
  {
   "cell_type": "markdown",
   "metadata": {},
   "source": [
    "The minimal consumption occurs on the summer weekends, most noticably on Juhannus. The maximal consumption occurs in January."
   ]
  },
  {
   "cell_type": "code",
   "execution_count": null,
   "metadata": {},
   "outputs": [],
   "source": []
  },
  {
   "cell_type": "markdown",
   "metadata": {},
   "source": [
    "## Mean of means through the years"
   ]
  },
  {
   "cell_type": "code",
   "execution_count": 32,
   "metadata": {
    "ExecuteTime": {
     "end_time": "2020-12-10T08:44:03.772934Z",
     "start_time": "2020-12-10T08:44:03.522927Z"
    }
   },
   "outputs": [
    {
     "data": {
      "text/html": [
       "<div>\n",
       "<style scoped>\n",
       "    .dataframe tbody tr th:only-of-type {\n",
       "        vertical-align: middle;\n",
       "    }\n",
       "\n",
       "    .dataframe tbody tr th {\n",
       "        vertical-align: top;\n",
       "    }\n",
       "\n",
       "    .dataframe thead tr th {\n",
       "        text-align: left;\n",
       "    }\n",
       "\n",
       "    .dataframe thead tr:last-of-type th {\n",
       "        text-align: right;\n",
       "    }\n",
       "</style>\n",
       "<table border=\"1\" class=\"dataframe\">\n",
       "  <thead>\n",
       "    <tr>\n",
       "      <th></th>\n",
       "      <th colspan=\"6\" halign=\"left\">NO</th>\n",
       "      <th>Mean</th>\n",
       "    </tr>\n",
       "    <tr>\n",
       "      <th>Year</th>\n",
       "      <th>2014.0</th>\n",
       "      <th>2015.0</th>\n",
       "      <th>2016.0</th>\n",
       "      <th>2017.0</th>\n",
       "      <th>2018.0</th>\n",
       "      <th>2019.0</th>\n",
       "      <th></th>\n",
       "    </tr>\n",
       "    <tr>\n",
       "      <th>Month</th>\n",
       "      <th></th>\n",
       "      <th></th>\n",
       "      <th></th>\n",
       "      <th></th>\n",
       "      <th></th>\n",
       "      <th></th>\n",
       "      <th></th>\n",
       "    </tr>\n",
       "  </thead>\n",
       "  <tbody>\n",
       "    <tr>\n",
       "      <th>1.0</th>\n",
       "      <td>449989.0</td>\n",
       "      <td>438368.0</td>\n",
       "      <td>487631.0</td>\n",
       "      <td>447844.0</td>\n",
       "      <td>468290.0</td>\n",
       "      <td>469371.0</td>\n",
       "      <td>460249.0</td>\n",
       "    </tr>\n",
       "    <tr>\n",
       "      <th>2.0</th>\n",
       "      <td>416771.0</td>\n",
       "      <td>432558.0</td>\n",
       "      <td>453508.0</td>\n",
       "      <td>450420.0</td>\n",
       "      <td>479846.0</td>\n",
       "      <td>439583.0</td>\n",
       "      <td>445448.0</td>\n",
       "    </tr>\n",
       "    <tr>\n",
       "      <th>3.0</th>\n",
       "      <td>385508.0</td>\n",
       "      <td>395910.0</td>\n",
       "      <td>408986.0</td>\n",
       "      <td>413939.0</td>\n",
       "      <td>456847.0</td>\n",
       "      <td>418915.0</td>\n",
       "      <td>413351.0</td>\n",
       "    </tr>\n",
       "    <tr>\n",
       "      <th>4.0</th>\n",
       "      <td>338718.0</td>\n",
       "      <td>347419.0</td>\n",
       "      <td>367478.0</td>\n",
       "      <td>368083.0</td>\n",
       "      <td>371359.0</td>\n",
       "      <td>348097.0</td>\n",
       "      <td>356859.0</td>\n",
       "    </tr>\n",
       "    <tr>\n",
       "      <th>5.0</th>\n",
       "      <td>302799.0</td>\n",
       "      <td>319636.0</td>\n",
       "      <td>309682.0</td>\n",
       "      <td>314880.0</td>\n",
       "      <td>304168.0</td>\n",
       "      <td>319052.0</td>\n",
       "      <td>311703.0</td>\n",
       "    </tr>\n",
       "    <tr>\n",
       "      <th>6.0</th>\n",
       "      <td>275488.0</td>\n",
       "      <td>297009.0</td>\n",
       "      <td>282144.0</td>\n",
       "      <td>289314.0</td>\n",
       "      <td>290223.0</td>\n",
       "      <td>292534.0</td>\n",
       "      <td>287785.0</td>\n",
       "    </tr>\n",
       "    <tr>\n",
       "      <th>7.0</th>\n",
       "      <td>254073.0</td>\n",
       "      <td>271373.0</td>\n",
       "      <td>264789.0</td>\n",
       "      <td>271633.0</td>\n",
       "      <td>269623.0</td>\n",
       "      <td>274148.0</td>\n",
       "      <td>267606.0</td>\n",
       "    </tr>\n",
       "    <tr>\n",
       "      <th>8.0</th>\n",
       "      <td>268116.0</td>\n",
       "      <td>277293.0</td>\n",
       "      <td>280935.0</td>\n",
       "      <td>287613.0</td>\n",
       "      <td>286694.0</td>\n",
       "      <td>280719.0</td>\n",
       "      <td>280228.0</td>\n",
       "    </tr>\n",
       "    <tr>\n",
       "      <th>9.0</th>\n",
       "      <td>293370.0</td>\n",
       "      <td>300737.0</td>\n",
       "      <td>287835.0</td>\n",
       "      <td>305862.0</td>\n",
       "      <td>315384.0</td>\n",
       "      <td>310514.0</td>\n",
       "      <td>302284.0</td>\n",
       "    </tr>\n",
       "    <tr>\n",
       "      <th>10.0</th>\n",
       "      <td>338980.0</td>\n",
       "      <td>344262.0</td>\n",
       "      <td>354765.0</td>\n",
       "      <td>351920.0</td>\n",
       "      <td>366385.0</td>\n",
       "      <td>368344.0</td>\n",
       "      <td>354109.0</td>\n",
       "    </tr>\n",
       "    <tr>\n",
       "      <th>11.0</th>\n",
       "      <td>386266.0</td>\n",
       "      <td>392193.0</td>\n",
       "      <td>423108.0</td>\n",
       "      <td>420258.0</td>\n",
       "      <td>404347.0</td>\n",
       "      <td>435138.0</td>\n",
       "      <td>410218.0</td>\n",
       "    </tr>\n",
       "    <tr>\n",
       "      <th>12.0</th>\n",
       "      <td>432499.0</td>\n",
       "      <td>416801.0</td>\n",
       "      <td>421124.0</td>\n",
       "      <td>453107.0</td>\n",
       "      <td>446497.0</td>\n",
       "      <td>436561.0</td>\n",
       "      <td>434432.0</td>\n",
       "    </tr>\n",
       "  </tbody>\n",
       "</table>\n",
       "</div>"
      ],
      "text/plain": [
       "             NO                                                        Mean\n",
       "Year     2014.0    2015.0    2016.0    2017.0    2018.0    2019.0          \n",
       "Month                                                                      \n",
       "1.0    449989.0  438368.0  487631.0  447844.0  468290.0  469371.0  460249.0\n",
       "2.0    416771.0  432558.0  453508.0  450420.0  479846.0  439583.0  445448.0\n",
       "3.0    385508.0  395910.0  408986.0  413939.0  456847.0  418915.0  413351.0\n",
       "4.0    338718.0  347419.0  367478.0  368083.0  371359.0  348097.0  356859.0\n",
       "5.0    302799.0  319636.0  309682.0  314880.0  304168.0  319052.0  311703.0\n",
       "6.0    275488.0  297009.0  282144.0  289314.0  290223.0  292534.0  287785.0\n",
       "7.0    254073.0  271373.0  264789.0  271633.0  269623.0  274148.0  267606.0\n",
       "8.0    268116.0  277293.0  280935.0  287613.0  286694.0  280719.0  280228.0\n",
       "9.0    293370.0  300737.0  287835.0  305862.0  315384.0  310514.0  302284.0\n",
       "10.0   338980.0  344262.0  354765.0  351920.0  366385.0  368344.0  354109.0\n",
       "11.0   386266.0  392193.0  423108.0  420258.0  404347.0  435138.0  410218.0\n",
       "12.0   432499.0  416801.0  421124.0  453107.0  446497.0  436561.0  434432.0"
      ]
     },
     "execution_count": 32,
     "metadata": {},
     "output_type": "execute_result"
    }
   ],
   "source": [
    "CMmeanMean = CMmean.pivot(index = \"Month\",\n",
    "                          columns = \"Year\",\n",
    "                          values = [\"NO\"])\n",
    "CMmeanMean[\"Mean\"] = CMmeanMean.mean(axis=1).round(0)\n",
    "CMmeanMean"
   ]
  },
  {
   "cell_type": "code",
   "execution_count": 33,
   "metadata": {
    "ExecuteTime": {
     "end_time": "2020-12-10T08:44:04.038558Z",
     "start_time": "2020-12-10T08:44:03.772934Z"
    }
   },
   "outputs": [
    {
     "data": {
      "text/html": [
       "<div>\n",
       "<style scoped>\n",
       "    .dataframe tbody tr th:only-of-type {\n",
       "        vertical-align: middle;\n",
       "    }\n",
       "\n",
       "    .dataframe tbody tr th {\n",
       "        vertical-align: top;\n",
       "    }\n",
       "\n",
       "    .dataframe thead th {\n",
       "        text-align: right;\n",
       "    }\n",
       "</style>\n",
       "<table border=\"1\" class=\"dataframe\">\n",
       "  <thead>\n",
       "    <tr style=\"text-align: right;\">\n",
       "      <th></th>\n",
       "      <th>NO</th>\n",
       "      <th>SE</th>\n",
       "      <th>FI</th>\n",
       "      <th>DK</th>\n",
       "      <th>EE</th>\n",
       "      <th>LV</th>\n",
       "      <th>LT</th>\n",
       "      <th>Nordic</th>\n",
       "      <th>Baltic</th>\n",
       "    </tr>\n",
       "    <tr>\n",
       "      <th>Month</th>\n",
       "      <th></th>\n",
       "      <th></th>\n",
       "      <th></th>\n",
       "      <th></th>\n",
       "      <th></th>\n",
       "      <th></th>\n",
       "      <th></th>\n",
       "      <th></th>\n",
       "      <th></th>\n",
       "    </tr>\n",
       "  </thead>\n",
       "  <tbody>\n",
       "    <tr>\n",
       "      <th>1.0</th>\n",
       "      <td>460249.0</td>\n",
       "      <td>477906.0</td>\n",
       "      <td>280582.0</td>\n",
       "      <td>101680.0</td>\n",
       "      <td>27102.0</td>\n",
       "      <td>22625.0</td>\n",
       "      <td>32413.0</td>\n",
       "      <td>1315674.0</td>\n",
       "      <td>82135.0</td>\n",
       "    </tr>\n",
       "    <tr>\n",
       "      <th>2.0</th>\n",
       "      <td>445448.0</td>\n",
       "      <td>462559.0</td>\n",
       "      <td>269662.0</td>\n",
       "      <td>99872.0</td>\n",
       "      <td>26028.0</td>\n",
       "      <td>22042.0</td>\n",
       "      <td>31286.0</td>\n",
       "      <td>1273263.0</td>\n",
       "      <td>79307.0</td>\n",
       "    </tr>\n",
       "    <tr>\n",
       "      <th>3.0</th>\n",
       "      <td>413351.0</td>\n",
       "      <td>426184.0</td>\n",
       "      <td>253073.0</td>\n",
       "      <td>95409.0</td>\n",
       "      <td>24400.0</td>\n",
       "      <td>20736.0</td>\n",
       "      <td>29495.0</td>\n",
       "      <td>1185203.0</td>\n",
       "      <td>74599.0</td>\n",
       "    </tr>\n",
       "    <tr>\n",
       "      <th>4.0</th>\n",
       "      <td>356859.0</td>\n",
       "      <td>371528.0</td>\n",
       "      <td>225164.0</td>\n",
       "      <td>86741.0</td>\n",
       "      <td>21938.0</td>\n",
       "      <td>19119.0</td>\n",
       "      <td>27589.0</td>\n",
       "      <td>1038695.0</td>\n",
       "      <td>68641.0</td>\n",
       "    </tr>\n",
       "    <tr>\n",
       "      <th>5.0</th>\n",
       "      <td>311703.0</td>\n",
       "      <td>327926.0</td>\n",
       "      <td>200606.0</td>\n",
       "      <td>84142.0</td>\n",
       "      <td>19992.0</td>\n",
       "      <td>18125.0</td>\n",
       "      <td>27161.0</td>\n",
       "      <td>922242.0</td>\n",
       "      <td>65270.0</td>\n",
       "    </tr>\n",
       "    <tr>\n",
       "      <th>6.0</th>\n",
       "      <td>287785.0</td>\n",
       "      <td>307453.0</td>\n",
       "      <td>190269.0</td>\n",
       "      <td>84280.0</td>\n",
       "      <td>18758.0</td>\n",
       "      <td>17564.0</td>\n",
       "      <td>27150.0</td>\n",
       "      <td>868803.0</td>\n",
       "      <td>63473.0</td>\n",
       "    </tr>\n",
       "    <tr>\n",
       "      <th>7.0</th>\n",
       "      <td>267606.0</td>\n",
       "      <td>282988.0</td>\n",
       "      <td>191144.0</td>\n",
       "      <td>79892.0</td>\n",
       "      <td>18265.0</td>\n",
       "      <td>17680.0</td>\n",
       "      <td>27094.0</td>\n",
       "      <td>818998.0</td>\n",
       "      <td>63017.0</td>\n",
       "    </tr>\n",
       "    <tr>\n",
       "      <th>8.0</th>\n",
       "      <td>280228.0</td>\n",
       "      <td>300490.0</td>\n",
       "      <td>197654.0</td>\n",
       "      <td>84384.0</td>\n",
       "      <td>19164.0</td>\n",
       "      <td>18237.0</td>\n",
       "      <td>27954.0</td>\n",
       "      <td>862370.0</td>\n",
       "      <td>65354.0</td>\n",
       "    </tr>\n",
       "    <tr>\n",
       "      <th>9.0</th>\n",
       "      <td>302284.0</td>\n",
       "      <td>324309.0</td>\n",
       "      <td>207108.0</td>\n",
       "      <td>86095.0</td>\n",
       "      <td>20236.0</td>\n",
       "      <td>18512.0</td>\n",
       "      <td>28396.0</td>\n",
       "      <td>918988.0</td>\n",
       "      <td>67048.0</td>\n",
       "    </tr>\n",
       "    <tr>\n",
       "      <th>10.0</th>\n",
       "      <td>354109.0</td>\n",
       "      <td>365750.0</td>\n",
       "      <td>230058.0</td>\n",
       "      <td>90346.0</td>\n",
       "      <td>22698.0</td>\n",
       "      <td>19952.0</td>\n",
       "      <td>29650.0</td>\n",
       "      <td>1038852.0</td>\n",
       "      <td>72295.0</td>\n",
       "    </tr>\n",
       "    <tr>\n",
       "      <th>11.0</th>\n",
       "      <td>410218.0</td>\n",
       "      <td>413779.0</td>\n",
       "      <td>246749.0</td>\n",
       "      <td>96500.0</td>\n",
       "      <td>24673.0</td>\n",
       "      <td>21028.0</td>\n",
       "      <td>31134.0</td>\n",
       "      <td>1164836.0</td>\n",
       "      <td>76835.0</td>\n",
       "    </tr>\n",
       "    <tr>\n",
       "      <th>12.0</th>\n",
       "      <td>434432.0</td>\n",
       "      <td>434054.0</td>\n",
       "      <td>251006.0</td>\n",
       "      <td>96488.0</td>\n",
       "      <td>25076.0</td>\n",
       "      <td>21335.0</td>\n",
       "      <td>31448.0</td>\n",
       "      <td>1211692.0</td>\n",
       "      <td>77737.0</td>\n",
       "    </tr>\n",
       "  </tbody>\n",
       "</table>\n",
       "</div>"
      ],
      "text/plain": [
       "             NO        SE        FI        DK       EE       LV       LT  \\\n",
       "Month                                                                      \n",
       "1.0    460249.0  477906.0  280582.0  101680.0  27102.0  22625.0  32413.0   \n",
       "2.0    445448.0  462559.0  269662.0   99872.0  26028.0  22042.0  31286.0   \n",
       "3.0    413351.0  426184.0  253073.0   95409.0  24400.0  20736.0  29495.0   \n",
       "4.0    356859.0  371528.0  225164.0   86741.0  21938.0  19119.0  27589.0   \n",
       "5.0    311703.0  327926.0  200606.0   84142.0  19992.0  18125.0  27161.0   \n",
       "6.0    287785.0  307453.0  190269.0   84280.0  18758.0  17564.0  27150.0   \n",
       "7.0    267606.0  282988.0  191144.0   79892.0  18265.0  17680.0  27094.0   \n",
       "8.0    280228.0  300490.0  197654.0   84384.0  19164.0  18237.0  27954.0   \n",
       "9.0    302284.0  324309.0  207108.0   86095.0  20236.0  18512.0  28396.0   \n",
       "10.0   354109.0  365750.0  230058.0   90346.0  22698.0  19952.0  29650.0   \n",
       "11.0   410218.0  413779.0  246749.0   96500.0  24673.0  21028.0  31134.0   \n",
       "12.0   434432.0  434054.0  251006.0   96488.0  25076.0  21335.0  31448.0   \n",
       "\n",
       "          Nordic   Baltic  \n",
       "Month                      \n",
       "1.0    1315674.0  82135.0  \n",
       "2.0    1273263.0  79307.0  \n",
       "3.0    1185203.0  74599.0  \n",
       "4.0    1038695.0  68641.0  \n",
       "5.0     922242.0  65270.0  \n",
       "6.0     868803.0  63473.0  \n",
       "7.0     818998.0  63017.0  \n",
       "8.0     862370.0  65354.0  \n",
       "9.0     918988.0  67048.0  \n",
       "10.0   1038852.0  72295.0  \n",
       "11.0   1164836.0  76835.0  \n",
       "12.0   1211692.0  77737.0  "
      ]
     },
     "execution_count": 33,
     "metadata": {},
     "output_type": "execute_result"
    }
   ],
   "source": [
    "A = pd.DataFrame()\n",
    "\n",
    "for land in countries:\n",
    "    A[land] = CMmean.pivot(index = \"Month\",\n",
    "                          columns = \"Year\",\n",
    "                          values = [land]\n",
    "                          ).mean(axis=1).round(0)\n",
    "A"
   ]
  },
  {
   "cell_type": "markdown",
   "metadata": {},
   "source": [
    "### Nordic countris "
   ]
  },
  {
   "cell_type": "code",
   "execution_count": 52,
   "metadata": {
    "ExecuteTime": {
     "end_time": "2020-12-10T08:55:19.750227Z",
     "start_time": "2020-12-10T08:55:19.738218Z"
    }
   },
   "outputs": [],
   "source": [
    "def monthly_means(choice):\n",
    "             \n",
    "\n",
    "    fig = go.Figure(data=[go.Bar(\n",
    "            x=months,\n",
    "            y=A[choice],\n",
    "            text=A[choice],\n",
    "            textposition='outside',\n",
    "            name = abbreviations[choice],\n",
    "            marker_color = colors[choice]\n",
    "        \n",
    "        )])\n",
    "    \n",
    "\n",
    "    fig.update_layout(xaxis_tickangle=-45,\n",
    "                  title={\n",
    "                'text': \"Mean monthly consumption in MWh. 2014-19. \"+abbreviations[choice],\n",
    "                'y':0.98,\n",
    "                'x':0.5},\n",
    "                  yaxis=dict(title='MWh'),   \n",
    "                  \n",
    "                 autosize=True, height = 500,\n",
    "                                width = 1000)\n",
    "    fig.show()"
   ]
  },
  {
   "cell_type": "code",
   "execution_count": 53,
   "metadata": {
    "ExecuteTime": {
     "end_time": "2020-12-10T08:55:21.231278Z",
     "start_time": "2020-12-10T08:55:21.102185Z"
    }
   },
   "outputs": [
    {
     "data": {
      "application/vnd.jupyter.widget-view+json": {
       "model_id": "4145fa1f011947e29f0ebb03c336ce6f",
       "version_major": 2,
       "version_minor": 0
      },
      "text/plain": [
       "interactive(children=(Dropdown(description='choice', options=('NO', 'SE', 'FI', 'DK', 'EE', 'LV', 'LT', 'Nordi…"
      ]
     },
     "metadata": {},
     "output_type": "display_data"
    },
    {
     "data": {
      "text/plain": [
       "<function __main__.monthly_means(choice)>"
      ]
     },
     "execution_count": 53,
     "metadata": {},
     "output_type": "execute_result"
    }
   ],
   "source": [
    "interact(monthly_means,choice=A.columns)"
   ]
  },
  {
   "cell_type": "code",
   "execution_count": 54,
   "metadata": {
    "ExecuteTime": {
     "end_time": "2020-12-10T08:55:34.362939Z",
     "start_time": "2020-12-10T08:55:34.309906Z"
    }
   },
   "outputs": [
    {
     "data": {
      "application/vnd.plotly.v1+json": {
       "config": {
        "plotlyServerURL": "https://plot.ly"
       },
       "data": [
        {
         "marker": {
          "color": "red"
         },
         "name": "NO",
         "text": [
          460249,
          445448,
          413351,
          356859,
          311703,
          287785,
          267606,
          280228,
          302284,
          354109,
          410218,
          434432
         ],
         "type": "bar",
         "x": [
          "Jan",
          "Feb",
          "Mar",
          "Apr",
          "May",
          "Jun",
          "Jul",
          "Aug",
          "Sep",
          "Oct",
          "Nov",
          "Dec"
         ],
         "y": [
          460249,
          445448,
          413351,
          356859,
          311703,
          287785,
          267606,
          280228,
          302284,
          354109,
          410218,
          434432
         ]
        },
        {
         "marker": {
          "color": "blue"
         },
         "name": "SE",
         "text": [
          477906,
          462559,
          426184,
          371528,
          327926,
          307453,
          282988,
          300490,
          324309,
          365750,
          413779,
          434054
         ],
         "type": "bar",
         "x": [
          "Jan",
          "Feb",
          "Mar",
          "Apr",
          "May",
          "Jun",
          "Jul",
          "Aug",
          "Sep",
          "Oct",
          "Nov",
          "Dec"
         ],
         "y": [
          477906,
          462559,
          426184,
          371528,
          327926,
          307453,
          282988,
          300490,
          324309,
          365750,
          413779,
          434054
         ]
        },
        {
         "marker": {
          "color": "yellow"
         },
         "name": "FI",
         "text": [
          280582,
          269662,
          253073,
          225164,
          200606,
          190269,
          191144,
          197654,
          207108,
          230058,
          246749,
          251006
         ],
         "type": "bar",
         "x": [
          "Jan",
          "Feb",
          "Mar",
          "Apr",
          "May",
          "Jun",
          "Jul",
          "Aug",
          "Sep",
          "Oct",
          "Nov",
          "Dec"
         ],
         "y": [
          280582,
          269662,
          253073,
          225164,
          200606,
          190269,
          191144,
          197654,
          207108,
          230058,
          246749,
          251006
         ]
        },
        {
         "marker": {
          "color": "indianred"
         },
         "name": "DK",
         "text": [
          101680,
          99872,
          95409,
          86741,
          84142,
          84280,
          79892,
          84384,
          86095,
          90346,
          96500,
          96488
         ],
         "type": "bar",
         "x": [
          "Jan",
          "Feb",
          "Mar",
          "Apr",
          "May",
          "Jun",
          "Jul",
          "Aug",
          "Sep",
          "Oct",
          "Nov",
          "Dec"
         ],
         "y": [
          101680,
          99872,
          95409,
          86741,
          84142,
          84280,
          79892,
          84384,
          86095,
          90346,
          96500,
          96488
         ]
        }
       ],
       "layout": {
        "barmode": "group",
        "template": {
         "data": {
          "bar": [
           {
            "error_x": {
             "color": "#2a3f5f"
            },
            "error_y": {
             "color": "#2a3f5f"
            },
            "marker": {
             "line": {
              "color": "#E5ECF6",
              "width": 0.5
             }
            },
            "type": "bar"
           }
          ],
          "barpolar": [
           {
            "marker": {
             "line": {
              "color": "#E5ECF6",
              "width": 0.5
             }
            },
            "type": "barpolar"
           }
          ],
          "carpet": [
           {
            "aaxis": {
             "endlinecolor": "#2a3f5f",
             "gridcolor": "white",
             "linecolor": "white",
             "minorgridcolor": "white",
             "startlinecolor": "#2a3f5f"
            },
            "baxis": {
             "endlinecolor": "#2a3f5f",
             "gridcolor": "white",
             "linecolor": "white",
             "minorgridcolor": "white",
             "startlinecolor": "#2a3f5f"
            },
            "type": "carpet"
           }
          ],
          "choropleth": [
           {
            "colorbar": {
             "outlinewidth": 0,
             "ticks": ""
            },
            "type": "choropleth"
           }
          ],
          "contour": [
           {
            "colorbar": {
             "outlinewidth": 0,
             "ticks": ""
            },
            "colorscale": [
             [
              0,
              "#0d0887"
             ],
             [
              0.1111111111111111,
              "#46039f"
             ],
             [
              0.2222222222222222,
              "#7201a8"
             ],
             [
              0.3333333333333333,
              "#9c179e"
             ],
             [
              0.4444444444444444,
              "#bd3786"
             ],
             [
              0.5555555555555556,
              "#d8576b"
             ],
             [
              0.6666666666666666,
              "#ed7953"
             ],
             [
              0.7777777777777778,
              "#fb9f3a"
             ],
             [
              0.8888888888888888,
              "#fdca26"
             ],
             [
              1,
              "#f0f921"
             ]
            ],
            "type": "contour"
           }
          ],
          "contourcarpet": [
           {
            "colorbar": {
             "outlinewidth": 0,
             "ticks": ""
            },
            "type": "contourcarpet"
           }
          ],
          "heatmap": [
           {
            "colorbar": {
             "outlinewidth": 0,
             "ticks": ""
            },
            "colorscale": [
             [
              0,
              "#0d0887"
             ],
             [
              0.1111111111111111,
              "#46039f"
             ],
             [
              0.2222222222222222,
              "#7201a8"
             ],
             [
              0.3333333333333333,
              "#9c179e"
             ],
             [
              0.4444444444444444,
              "#bd3786"
             ],
             [
              0.5555555555555556,
              "#d8576b"
             ],
             [
              0.6666666666666666,
              "#ed7953"
             ],
             [
              0.7777777777777778,
              "#fb9f3a"
             ],
             [
              0.8888888888888888,
              "#fdca26"
             ],
             [
              1,
              "#f0f921"
             ]
            ],
            "type": "heatmap"
           }
          ],
          "heatmapgl": [
           {
            "colorbar": {
             "outlinewidth": 0,
             "ticks": ""
            },
            "colorscale": [
             [
              0,
              "#0d0887"
             ],
             [
              0.1111111111111111,
              "#46039f"
             ],
             [
              0.2222222222222222,
              "#7201a8"
             ],
             [
              0.3333333333333333,
              "#9c179e"
             ],
             [
              0.4444444444444444,
              "#bd3786"
             ],
             [
              0.5555555555555556,
              "#d8576b"
             ],
             [
              0.6666666666666666,
              "#ed7953"
             ],
             [
              0.7777777777777778,
              "#fb9f3a"
             ],
             [
              0.8888888888888888,
              "#fdca26"
             ],
             [
              1,
              "#f0f921"
             ]
            ],
            "type": "heatmapgl"
           }
          ],
          "histogram": [
           {
            "marker": {
             "colorbar": {
              "outlinewidth": 0,
              "ticks": ""
             }
            },
            "type": "histogram"
           }
          ],
          "histogram2d": [
           {
            "colorbar": {
             "outlinewidth": 0,
             "ticks": ""
            },
            "colorscale": [
             [
              0,
              "#0d0887"
             ],
             [
              0.1111111111111111,
              "#46039f"
             ],
             [
              0.2222222222222222,
              "#7201a8"
             ],
             [
              0.3333333333333333,
              "#9c179e"
             ],
             [
              0.4444444444444444,
              "#bd3786"
             ],
             [
              0.5555555555555556,
              "#d8576b"
             ],
             [
              0.6666666666666666,
              "#ed7953"
             ],
             [
              0.7777777777777778,
              "#fb9f3a"
             ],
             [
              0.8888888888888888,
              "#fdca26"
             ],
             [
              1,
              "#f0f921"
             ]
            ],
            "type": "histogram2d"
           }
          ],
          "histogram2dcontour": [
           {
            "colorbar": {
             "outlinewidth": 0,
             "ticks": ""
            },
            "colorscale": [
             [
              0,
              "#0d0887"
             ],
             [
              0.1111111111111111,
              "#46039f"
             ],
             [
              0.2222222222222222,
              "#7201a8"
             ],
             [
              0.3333333333333333,
              "#9c179e"
             ],
             [
              0.4444444444444444,
              "#bd3786"
             ],
             [
              0.5555555555555556,
              "#d8576b"
             ],
             [
              0.6666666666666666,
              "#ed7953"
             ],
             [
              0.7777777777777778,
              "#fb9f3a"
             ],
             [
              0.8888888888888888,
              "#fdca26"
             ],
             [
              1,
              "#f0f921"
             ]
            ],
            "type": "histogram2dcontour"
           }
          ],
          "mesh3d": [
           {
            "colorbar": {
             "outlinewidth": 0,
             "ticks": ""
            },
            "type": "mesh3d"
           }
          ],
          "parcoords": [
           {
            "line": {
             "colorbar": {
              "outlinewidth": 0,
              "ticks": ""
             }
            },
            "type": "parcoords"
           }
          ],
          "pie": [
           {
            "automargin": true,
            "type": "pie"
           }
          ],
          "scatter": [
           {
            "marker": {
             "colorbar": {
              "outlinewidth": 0,
              "ticks": ""
             }
            },
            "type": "scatter"
           }
          ],
          "scatter3d": [
           {
            "line": {
             "colorbar": {
              "outlinewidth": 0,
              "ticks": ""
             }
            },
            "marker": {
             "colorbar": {
              "outlinewidth": 0,
              "ticks": ""
             }
            },
            "type": "scatter3d"
           }
          ],
          "scattercarpet": [
           {
            "marker": {
             "colorbar": {
              "outlinewidth": 0,
              "ticks": ""
             }
            },
            "type": "scattercarpet"
           }
          ],
          "scattergeo": [
           {
            "marker": {
             "colorbar": {
              "outlinewidth": 0,
              "ticks": ""
             }
            },
            "type": "scattergeo"
           }
          ],
          "scattergl": [
           {
            "marker": {
             "colorbar": {
              "outlinewidth": 0,
              "ticks": ""
             }
            },
            "type": "scattergl"
           }
          ],
          "scattermapbox": [
           {
            "marker": {
             "colorbar": {
              "outlinewidth": 0,
              "ticks": ""
             }
            },
            "type": "scattermapbox"
           }
          ],
          "scatterpolar": [
           {
            "marker": {
             "colorbar": {
              "outlinewidth": 0,
              "ticks": ""
             }
            },
            "type": "scatterpolar"
           }
          ],
          "scatterpolargl": [
           {
            "marker": {
             "colorbar": {
              "outlinewidth": 0,
              "ticks": ""
             }
            },
            "type": "scatterpolargl"
           }
          ],
          "scatterternary": [
           {
            "marker": {
             "colorbar": {
              "outlinewidth": 0,
              "ticks": ""
             }
            },
            "type": "scatterternary"
           }
          ],
          "surface": [
           {
            "colorbar": {
             "outlinewidth": 0,
             "ticks": ""
            },
            "colorscale": [
             [
              0,
              "#0d0887"
             ],
             [
              0.1111111111111111,
              "#46039f"
             ],
             [
              0.2222222222222222,
              "#7201a8"
             ],
             [
              0.3333333333333333,
              "#9c179e"
             ],
             [
              0.4444444444444444,
              "#bd3786"
             ],
             [
              0.5555555555555556,
              "#d8576b"
             ],
             [
              0.6666666666666666,
              "#ed7953"
             ],
             [
              0.7777777777777778,
              "#fb9f3a"
             ],
             [
              0.8888888888888888,
              "#fdca26"
             ],
             [
              1,
              "#f0f921"
             ]
            ],
            "type": "surface"
           }
          ],
          "table": [
           {
            "cells": {
             "fill": {
              "color": "#EBF0F8"
             },
             "line": {
              "color": "white"
             }
            },
            "header": {
             "fill": {
              "color": "#C8D4E3"
             },
             "line": {
              "color": "white"
             }
            },
            "type": "table"
           }
          ]
         },
         "layout": {
          "annotationdefaults": {
           "arrowcolor": "#2a3f5f",
           "arrowhead": 0,
           "arrowwidth": 1
          },
          "coloraxis": {
           "colorbar": {
            "outlinewidth": 0,
            "ticks": ""
           }
          },
          "colorscale": {
           "diverging": [
            [
             0,
             "#8e0152"
            ],
            [
             0.1,
             "#c51b7d"
            ],
            [
             0.2,
             "#de77ae"
            ],
            [
             0.3,
             "#f1b6da"
            ],
            [
             0.4,
             "#fde0ef"
            ],
            [
             0.5,
             "#f7f7f7"
            ],
            [
             0.6,
             "#e6f5d0"
            ],
            [
             0.7,
             "#b8e186"
            ],
            [
             0.8,
             "#7fbc41"
            ],
            [
             0.9,
             "#4d9221"
            ],
            [
             1,
             "#276419"
            ]
           ],
           "sequential": [
            [
             0,
             "#0d0887"
            ],
            [
             0.1111111111111111,
             "#46039f"
            ],
            [
             0.2222222222222222,
             "#7201a8"
            ],
            [
             0.3333333333333333,
             "#9c179e"
            ],
            [
             0.4444444444444444,
             "#bd3786"
            ],
            [
             0.5555555555555556,
             "#d8576b"
            ],
            [
             0.6666666666666666,
             "#ed7953"
            ],
            [
             0.7777777777777778,
             "#fb9f3a"
            ],
            [
             0.8888888888888888,
             "#fdca26"
            ],
            [
             1,
             "#f0f921"
            ]
           ],
           "sequentialminus": [
            [
             0,
             "#0d0887"
            ],
            [
             0.1111111111111111,
             "#46039f"
            ],
            [
             0.2222222222222222,
             "#7201a8"
            ],
            [
             0.3333333333333333,
             "#9c179e"
            ],
            [
             0.4444444444444444,
             "#bd3786"
            ],
            [
             0.5555555555555556,
             "#d8576b"
            ],
            [
             0.6666666666666666,
             "#ed7953"
            ],
            [
             0.7777777777777778,
             "#fb9f3a"
            ],
            [
             0.8888888888888888,
             "#fdca26"
            ],
            [
             1,
             "#f0f921"
            ]
           ]
          },
          "colorway": [
           "#636efa",
           "#EF553B",
           "#00cc96",
           "#ab63fa",
           "#FFA15A",
           "#19d3f3",
           "#FF6692",
           "#B6E880",
           "#FF97FF",
           "#FECB52"
          ],
          "font": {
           "color": "#2a3f5f"
          },
          "geo": {
           "bgcolor": "white",
           "lakecolor": "white",
           "landcolor": "#E5ECF6",
           "showlakes": true,
           "showland": true,
           "subunitcolor": "white"
          },
          "hoverlabel": {
           "align": "left"
          },
          "hovermode": "closest",
          "mapbox": {
           "style": "light"
          },
          "paper_bgcolor": "white",
          "plot_bgcolor": "#E5ECF6",
          "polar": {
           "angularaxis": {
            "gridcolor": "white",
            "linecolor": "white",
            "ticks": ""
           },
           "bgcolor": "#E5ECF6",
           "radialaxis": {
            "gridcolor": "white",
            "linecolor": "white",
            "ticks": ""
           }
          },
          "scene": {
           "xaxis": {
            "backgroundcolor": "#E5ECF6",
            "gridcolor": "white",
            "gridwidth": 2,
            "linecolor": "white",
            "showbackground": true,
            "ticks": "",
            "zerolinecolor": "white"
           },
           "yaxis": {
            "backgroundcolor": "#E5ECF6",
            "gridcolor": "white",
            "gridwidth": 2,
            "linecolor": "white",
            "showbackground": true,
            "ticks": "",
            "zerolinecolor": "white"
           },
           "zaxis": {
            "backgroundcolor": "#E5ECF6",
            "gridcolor": "white",
            "gridwidth": 2,
            "linecolor": "white",
            "showbackground": true,
            "ticks": "",
            "zerolinecolor": "white"
           }
          },
          "shapedefaults": {
           "line": {
            "color": "#2a3f5f"
           }
          },
          "ternary": {
           "aaxis": {
            "gridcolor": "white",
            "linecolor": "white",
            "ticks": ""
           },
           "baxis": {
            "gridcolor": "white",
            "linecolor": "white",
            "ticks": ""
           },
           "bgcolor": "#E5ECF6",
           "caxis": {
            "gridcolor": "white",
            "linecolor": "white",
            "ticks": ""
           }
          },
          "title": {
           "x": 0.05
          },
          "xaxis": {
           "automargin": true,
           "gridcolor": "white",
           "linecolor": "white",
           "ticks": "",
           "title": {
            "standoff": 15
           },
           "zerolinecolor": "white",
           "zerolinewidth": 2
          },
          "yaxis": {
           "automargin": true,
           "gridcolor": "white",
           "linecolor": "white",
           "ticks": "",
           "title": {
            "standoff": 15
           },
           "zerolinecolor": "white",
           "zerolinewidth": 2
          }
         }
        },
        "title": {
         "text": "Monthly mean consumption in MWh. Nordic countries",
         "x": 0.5,
         "y": 0.95
        },
        "xaxis": {
         "tickangle": -45
        },
        "yaxis": {
         "title": {
          "text": "MWh"
         }
        }
       }
      },
      "text/html": [
       "<div>                            <div id=\"8c9dc9df-16f4-48f3-b4c5-3e19ebd8aa79\" class=\"plotly-graph-div\" style=\"height:525px; width:100%;\"></div>            <script type=\"text/javascript\">                require([\"plotly\"], function(Plotly) {                    window.PLOTLYENV=window.PLOTLYENV || {};                                    if (document.getElementById(\"8c9dc9df-16f4-48f3-b4c5-3e19ebd8aa79\")) {                    Plotly.newPlot(                        \"8c9dc9df-16f4-48f3-b4c5-3e19ebd8aa79\",                        [{\"marker\": {\"color\": \"red\"}, \"name\": \"NO\", \"text\": [460249.0, 445448.0, 413351.0, 356859.0, 311703.0, 287785.0, 267606.0, 280228.0, 302284.0, 354109.0, 410218.0, 434432.0], \"type\": \"bar\", \"x\": [\"Jan\", \"Feb\", \"Mar\", \"Apr\", \"May\", \"Jun\", \"Jul\", \"Aug\", \"Sep\", \"Oct\", \"Nov\", \"Dec\"], \"y\": [460249.0, 445448.0, 413351.0, 356859.0, 311703.0, 287785.0, 267606.0, 280228.0, 302284.0, 354109.0, 410218.0, 434432.0]}, {\"marker\": {\"color\": \"blue\"}, \"name\": \"SE\", \"text\": [477906.0, 462559.0, 426184.0, 371528.0, 327926.0, 307453.0, 282988.0, 300490.0, 324309.0, 365750.0, 413779.0, 434054.0], \"type\": \"bar\", \"x\": [\"Jan\", \"Feb\", \"Mar\", \"Apr\", \"May\", \"Jun\", \"Jul\", \"Aug\", \"Sep\", \"Oct\", \"Nov\", \"Dec\"], \"y\": [477906.0, 462559.0, 426184.0, 371528.0, 327926.0, 307453.0, 282988.0, 300490.0, 324309.0, 365750.0, 413779.0, 434054.0]}, {\"marker\": {\"color\": \"yellow\"}, \"name\": \"FI\", \"text\": [280582.0, 269662.0, 253073.0, 225164.0, 200606.0, 190269.0, 191144.0, 197654.0, 207108.0, 230058.0, 246749.0, 251006.0], \"type\": \"bar\", \"x\": [\"Jan\", \"Feb\", \"Mar\", \"Apr\", \"May\", \"Jun\", \"Jul\", \"Aug\", \"Sep\", \"Oct\", \"Nov\", \"Dec\"], \"y\": [280582.0, 269662.0, 253073.0, 225164.0, 200606.0, 190269.0, 191144.0, 197654.0, 207108.0, 230058.0, 246749.0, 251006.0]}, {\"marker\": {\"color\": \"indianred\"}, \"name\": \"DK\", \"text\": [101680.0, 99872.0, 95409.0, 86741.0, 84142.0, 84280.0, 79892.0, 84384.0, 86095.0, 90346.0, 96500.0, 96488.0], \"type\": \"bar\", \"x\": [\"Jan\", \"Feb\", \"Mar\", \"Apr\", \"May\", \"Jun\", \"Jul\", \"Aug\", \"Sep\", \"Oct\", \"Nov\", \"Dec\"], \"y\": [101680.0, 99872.0, 95409.0, 86741.0, 84142.0, 84280.0, 79892.0, 84384.0, 86095.0, 90346.0, 96500.0, 96488.0]}],                        {\"barmode\": \"group\", \"template\": {\"data\": {\"bar\": [{\"error_x\": {\"color\": \"#2a3f5f\"}, \"error_y\": {\"color\": \"#2a3f5f\"}, \"marker\": {\"line\": {\"color\": \"#E5ECF6\", \"width\": 0.5}}, \"type\": \"bar\"}], \"barpolar\": [{\"marker\": {\"line\": {\"color\": \"#E5ECF6\", \"width\": 0.5}}, \"type\": \"barpolar\"}], \"carpet\": [{\"aaxis\": {\"endlinecolor\": \"#2a3f5f\", \"gridcolor\": \"white\", \"linecolor\": \"white\", \"minorgridcolor\": \"white\", \"startlinecolor\": \"#2a3f5f\"}, \"baxis\": {\"endlinecolor\": \"#2a3f5f\", \"gridcolor\": \"white\", \"linecolor\": \"white\", \"minorgridcolor\": \"white\", \"startlinecolor\": \"#2a3f5f\"}, \"type\": \"carpet\"}], \"choropleth\": [{\"colorbar\": {\"outlinewidth\": 0, \"ticks\": \"\"}, \"type\": \"choropleth\"}], \"contour\": [{\"colorbar\": {\"outlinewidth\": 0, \"ticks\": \"\"}, \"colorscale\": [[0.0, \"#0d0887\"], [0.1111111111111111, \"#46039f\"], [0.2222222222222222, \"#7201a8\"], [0.3333333333333333, \"#9c179e\"], [0.4444444444444444, \"#bd3786\"], [0.5555555555555556, \"#d8576b\"], [0.6666666666666666, \"#ed7953\"], [0.7777777777777778, \"#fb9f3a\"], [0.8888888888888888, \"#fdca26\"], [1.0, \"#f0f921\"]], \"type\": \"contour\"}], \"contourcarpet\": [{\"colorbar\": {\"outlinewidth\": 0, \"ticks\": \"\"}, \"type\": \"contourcarpet\"}], \"heatmap\": [{\"colorbar\": {\"outlinewidth\": 0, \"ticks\": \"\"}, \"colorscale\": [[0.0, \"#0d0887\"], [0.1111111111111111, \"#46039f\"], [0.2222222222222222, \"#7201a8\"], [0.3333333333333333, \"#9c179e\"], [0.4444444444444444, \"#bd3786\"], [0.5555555555555556, \"#d8576b\"], [0.6666666666666666, \"#ed7953\"], [0.7777777777777778, \"#fb9f3a\"], [0.8888888888888888, \"#fdca26\"], [1.0, \"#f0f921\"]], \"type\": \"heatmap\"}], \"heatmapgl\": [{\"colorbar\": {\"outlinewidth\": 0, \"ticks\": \"\"}, \"colorscale\": [[0.0, \"#0d0887\"], [0.1111111111111111, \"#46039f\"], [0.2222222222222222, \"#7201a8\"], [0.3333333333333333, \"#9c179e\"], [0.4444444444444444, \"#bd3786\"], [0.5555555555555556, \"#d8576b\"], [0.6666666666666666, \"#ed7953\"], [0.7777777777777778, \"#fb9f3a\"], [0.8888888888888888, \"#fdca26\"], [1.0, \"#f0f921\"]], \"type\": \"heatmapgl\"}], \"histogram\": [{\"marker\": {\"colorbar\": {\"outlinewidth\": 0, \"ticks\": \"\"}}, \"type\": \"histogram\"}], \"histogram2d\": [{\"colorbar\": {\"outlinewidth\": 0, \"ticks\": \"\"}, \"colorscale\": [[0.0, \"#0d0887\"], [0.1111111111111111, \"#46039f\"], [0.2222222222222222, \"#7201a8\"], [0.3333333333333333, \"#9c179e\"], [0.4444444444444444, \"#bd3786\"], [0.5555555555555556, \"#d8576b\"], [0.6666666666666666, \"#ed7953\"], [0.7777777777777778, \"#fb9f3a\"], [0.8888888888888888, \"#fdca26\"], [1.0, \"#f0f921\"]], \"type\": \"histogram2d\"}], \"histogram2dcontour\": [{\"colorbar\": {\"outlinewidth\": 0, \"ticks\": \"\"}, \"colorscale\": [[0.0, \"#0d0887\"], [0.1111111111111111, \"#46039f\"], [0.2222222222222222, \"#7201a8\"], [0.3333333333333333, \"#9c179e\"], [0.4444444444444444, \"#bd3786\"], [0.5555555555555556, \"#d8576b\"], [0.6666666666666666, \"#ed7953\"], [0.7777777777777778, \"#fb9f3a\"], [0.8888888888888888, \"#fdca26\"], [1.0, \"#f0f921\"]], \"type\": \"histogram2dcontour\"}], \"mesh3d\": [{\"colorbar\": {\"outlinewidth\": 0, \"ticks\": \"\"}, \"type\": \"mesh3d\"}], \"parcoords\": [{\"line\": {\"colorbar\": {\"outlinewidth\": 0, \"ticks\": \"\"}}, \"type\": \"parcoords\"}], \"pie\": [{\"automargin\": true, \"type\": \"pie\"}], \"scatter\": [{\"marker\": {\"colorbar\": {\"outlinewidth\": 0, \"ticks\": \"\"}}, \"type\": \"scatter\"}], \"scatter3d\": [{\"line\": {\"colorbar\": {\"outlinewidth\": 0, \"ticks\": \"\"}}, \"marker\": {\"colorbar\": {\"outlinewidth\": 0, \"ticks\": \"\"}}, \"type\": \"scatter3d\"}], \"scattercarpet\": [{\"marker\": {\"colorbar\": {\"outlinewidth\": 0, \"ticks\": \"\"}}, \"type\": \"scattercarpet\"}], \"scattergeo\": [{\"marker\": {\"colorbar\": {\"outlinewidth\": 0, \"ticks\": \"\"}}, \"type\": \"scattergeo\"}], \"scattergl\": [{\"marker\": {\"colorbar\": {\"outlinewidth\": 0, \"ticks\": \"\"}}, \"type\": \"scattergl\"}], \"scattermapbox\": [{\"marker\": {\"colorbar\": {\"outlinewidth\": 0, \"ticks\": \"\"}}, \"type\": \"scattermapbox\"}], \"scatterpolar\": [{\"marker\": {\"colorbar\": {\"outlinewidth\": 0, \"ticks\": \"\"}}, \"type\": \"scatterpolar\"}], \"scatterpolargl\": [{\"marker\": {\"colorbar\": {\"outlinewidth\": 0, \"ticks\": \"\"}}, \"type\": \"scatterpolargl\"}], \"scatterternary\": [{\"marker\": {\"colorbar\": {\"outlinewidth\": 0, \"ticks\": \"\"}}, \"type\": \"scatterternary\"}], \"surface\": [{\"colorbar\": {\"outlinewidth\": 0, \"ticks\": \"\"}, \"colorscale\": [[0.0, \"#0d0887\"], [0.1111111111111111, \"#46039f\"], [0.2222222222222222, \"#7201a8\"], [0.3333333333333333, \"#9c179e\"], [0.4444444444444444, \"#bd3786\"], [0.5555555555555556, \"#d8576b\"], [0.6666666666666666, \"#ed7953\"], [0.7777777777777778, \"#fb9f3a\"], [0.8888888888888888, \"#fdca26\"], [1.0, \"#f0f921\"]], \"type\": \"surface\"}], \"table\": [{\"cells\": {\"fill\": {\"color\": \"#EBF0F8\"}, \"line\": {\"color\": \"white\"}}, \"header\": {\"fill\": {\"color\": \"#C8D4E3\"}, \"line\": {\"color\": \"white\"}}, \"type\": \"table\"}]}, \"layout\": {\"annotationdefaults\": {\"arrowcolor\": \"#2a3f5f\", \"arrowhead\": 0, \"arrowwidth\": 1}, \"coloraxis\": {\"colorbar\": {\"outlinewidth\": 0, \"ticks\": \"\"}}, \"colorscale\": {\"diverging\": [[0, \"#8e0152\"], [0.1, \"#c51b7d\"], [0.2, \"#de77ae\"], [0.3, \"#f1b6da\"], [0.4, \"#fde0ef\"], [0.5, \"#f7f7f7\"], [0.6, \"#e6f5d0\"], [0.7, \"#b8e186\"], [0.8, \"#7fbc41\"], [0.9, \"#4d9221\"], [1, \"#276419\"]], \"sequential\": [[0.0, \"#0d0887\"], [0.1111111111111111, \"#46039f\"], [0.2222222222222222, \"#7201a8\"], [0.3333333333333333, \"#9c179e\"], [0.4444444444444444, \"#bd3786\"], [0.5555555555555556, \"#d8576b\"], [0.6666666666666666, \"#ed7953\"], [0.7777777777777778, \"#fb9f3a\"], [0.8888888888888888, \"#fdca26\"], [1.0, \"#f0f921\"]], \"sequentialminus\": [[0.0, \"#0d0887\"], [0.1111111111111111, \"#46039f\"], [0.2222222222222222, \"#7201a8\"], [0.3333333333333333, \"#9c179e\"], [0.4444444444444444, \"#bd3786\"], [0.5555555555555556, \"#d8576b\"], [0.6666666666666666, \"#ed7953\"], [0.7777777777777778, \"#fb9f3a\"], [0.8888888888888888, \"#fdca26\"], [1.0, \"#f0f921\"]]}, \"colorway\": [\"#636efa\", \"#EF553B\", \"#00cc96\", \"#ab63fa\", \"#FFA15A\", \"#19d3f3\", \"#FF6692\", \"#B6E880\", \"#FF97FF\", \"#FECB52\"], \"font\": {\"color\": \"#2a3f5f\"}, \"geo\": {\"bgcolor\": \"white\", \"lakecolor\": \"white\", \"landcolor\": \"#E5ECF6\", \"showlakes\": true, \"showland\": true, \"subunitcolor\": \"white\"}, \"hoverlabel\": {\"align\": \"left\"}, \"hovermode\": \"closest\", \"mapbox\": {\"style\": \"light\"}, \"paper_bgcolor\": \"white\", \"plot_bgcolor\": \"#E5ECF6\", \"polar\": {\"angularaxis\": {\"gridcolor\": \"white\", \"linecolor\": \"white\", \"ticks\": \"\"}, \"bgcolor\": \"#E5ECF6\", \"radialaxis\": {\"gridcolor\": \"white\", \"linecolor\": \"white\", \"ticks\": \"\"}}, \"scene\": {\"xaxis\": {\"backgroundcolor\": \"#E5ECF6\", \"gridcolor\": \"white\", \"gridwidth\": 2, \"linecolor\": \"white\", \"showbackground\": true, \"ticks\": \"\", \"zerolinecolor\": \"white\"}, \"yaxis\": {\"backgroundcolor\": \"#E5ECF6\", \"gridcolor\": \"white\", \"gridwidth\": 2, \"linecolor\": \"white\", \"showbackground\": true, \"ticks\": \"\", \"zerolinecolor\": \"white\"}, \"zaxis\": {\"backgroundcolor\": \"#E5ECF6\", \"gridcolor\": \"white\", \"gridwidth\": 2, \"linecolor\": \"white\", \"showbackground\": true, \"ticks\": \"\", \"zerolinecolor\": \"white\"}}, \"shapedefaults\": {\"line\": {\"color\": \"#2a3f5f\"}}, \"ternary\": {\"aaxis\": {\"gridcolor\": \"white\", \"linecolor\": \"white\", \"ticks\": \"\"}, \"baxis\": {\"gridcolor\": \"white\", \"linecolor\": \"white\", \"ticks\": \"\"}, \"bgcolor\": \"#E5ECF6\", \"caxis\": {\"gridcolor\": \"white\", \"linecolor\": \"white\", \"ticks\": \"\"}}, \"title\": {\"x\": 0.05}, \"xaxis\": {\"automargin\": true, \"gridcolor\": \"white\", \"linecolor\": \"white\", \"ticks\": \"\", \"title\": {\"standoff\": 15}, \"zerolinecolor\": \"white\", \"zerolinewidth\": 2}, \"yaxis\": {\"automargin\": true, \"gridcolor\": \"white\", \"linecolor\": \"white\", \"ticks\": \"\", \"title\": {\"standoff\": 15}, \"zerolinecolor\": \"white\", \"zerolinewidth\": 2}}}, \"title\": {\"text\": \"Monthly mean consumption in MWh. Nordic countries\", \"x\": 0.5, \"y\": 0.95}, \"xaxis\": {\"tickangle\": -45}, \"yaxis\": {\"title\": {\"text\": \"MWh\"}}},                        {\"responsive\": true}                    ).then(function(){\n",
       "                            \n",
       "var gd = document.getElementById('8c9dc9df-16f4-48f3-b4c5-3e19ebd8aa79');\n",
       "var x = new MutationObserver(function (mutations, observer) {{\n",
       "        var display = window.getComputedStyle(gd).display;\n",
       "        if (!display || display === 'none') {{\n",
       "            console.log([gd, 'removed!']);\n",
       "            Plotly.purge(gd);\n",
       "            observer.disconnect();\n",
       "        }}\n",
       "}});\n",
       "\n",
       "// Listen for the removal of the full notebook cells\n",
       "var notebookContainer = gd.closest('#notebook-container');\n",
       "if (notebookContainer) {{\n",
       "    x.observe(notebookContainer, {childList: true});\n",
       "}}\n",
       "\n",
       "// Listen for the clearing of the current output cell\n",
       "var outputEl = gd.closest('.output');\n",
       "if (outputEl) {{\n",
       "    x.observe(outputEl, {childList: true});\n",
       "}}\n",
       "\n",
       "                        })                };                });            </script>        </div>"
      ]
     },
     "metadata": {},
     "output_type": "display_data"
    }
   ],
   "source": [
    "fig = go.Figure()\n",
    "\n",
    "for j in range(4):\n",
    "    fig.add_trace(go.Bar(\n",
    "    x=months,\n",
    "    y=A[countries[j]],\n",
    "    text=A[countries[j]],\n",
    "    #textposition='outside',\n",
    "    name=countries[j],\n",
    "    marker_color=nordic_colors[j]))\n",
    "    \n",
    "    \n",
    "   \n",
    "fig.update_layout(barmode='group',\n",
    "                  title={\n",
    "                'text': \"Monthly mean consumption in MWh. Nordic countries\",\n",
    "                'y':0.95,\n",
    "                'x':0.5},\n",
    "                  yaxis=dict(title='MWh'), \n",
    "                  \n",
    "                  xaxis_tickangle=-45)\n",
    "fig.show()"
   ]
  },
  {
   "cell_type": "code",
   "execution_count": 56,
   "metadata": {
    "ExecuteTime": {
     "end_time": "2020-12-10T08:55:46.295641Z",
     "start_time": "2020-12-10T08:55:46.234600Z"
    }
   },
   "outputs": [
    {
     "data": {
      "application/vnd.plotly.v1+json": {
       "config": {
        "plotlyServerURL": "https://plot.ly"
       },
       "data": [
        {
         "marker": {
          "color": "navy"
         },
         "name": "EE",
         "text": [
          27102,
          26028,
          24400,
          21938,
          19992,
          18758,
          18265,
          19164,
          20236,
          22698,
          24673,
          25076
         ],
         "type": "bar",
         "x": [
          "Jan",
          "Feb",
          "Mar",
          "Apr",
          "May",
          "Jun",
          "Jul",
          "Aug",
          "Sep",
          "Oct",
          "Nov",
          "Dec"
         ],
         "y": [
          27102,
          26028,
          24400,
          21938,
          19992,
          18758,
          18265,
          19164,
          20236,
          22698,
          24673,
          25076
         ]
        },
        {
         "marker": {
          "color": "brown"
         },
         "name": "LV",
         "text": [
          22625,
          22042,
          20736,
          19119,
          18125,
          17564,
          17680,
          18237,
          18512,
          19952,
          21028,
          21335
         ],
         "type": "bar",
         "x": [
          "Jan",
          "Feb",
          "Mar",
          "Apr",
          "May",
          "Jun",
          "Jul",
          "Aug",
          "Sep",
          "Oct",
          "Nov",
          "Dec"
         ],
         "y": [
          22625,
          22042,
          20736,
          19119,
          18125,
          17564,
          17680,
          18237,
          18512,
          19952,
          21028,
          21335
         ]
        },
        {
         "marker": {
          "color": "green"
         },
         "name": "LT",
         "text": [
          32413,
          31286,
          29495,
          27589,
          27161,
          27150,
          27094,
          27954,
          28396,
          29650,
          31134,
          31448
         ],
         "type": "bar",
         "x": [
          "Jan",
          "Feb",
          "Mar",
          "Apr",
          "May",
          "Jun",
          "Jul",
          "Aug",
          "Sep",
          "Oct",
          "Nov",
          "Dec"
         ],
         "y": [
          32413,
          31286,
          29495,
          27589,
          27161,
          27150,
          27094,
          27954,
          28396,
          29650,
          31134,
          31448
         ]
        }
       ],
       "layout": {
        "barmode": "group",
        "template": {
         "data": {
          "bar": [
           {
            "error_x": {
             "color": "#2a3f5f"
            },
            "error_y": {
             "color": "#2a3f5f"
            },
            "marker": {
             "line": {
              "color": "#E5ECF6",
              "width": 0.5
             }
            },
            "type": "bar"
           }
          ],
          "barpolar": [
           {
            "marker": {
             "line": {
              "color": "#E5ECF6",
              "width": 0.5
             }
            },
            "type": "barpolar"
           }
          ],
          "carpet": [
           {
            "aaxis": {
             "endlinecolor": "#2a3f5f",
             "gridcolor": "white",
             "linecolor": "white",
             "minorgridcolor": "white",
             "startlinecolor": "#2a3f5f"
            },
            "baxis": {
             "endlinecolor": "#2a3f5f",
             "gridcolor": "white",
             "linecolor": "white",
             "minorgridcolor": "white",
             "startlinecolor": "#2a3f5f"
            },
            "type": "carpet"
           }
          ],
          "choropleth": [
           {
            "colorbar": {
             "outlinewidth": 0,
             "ticks": ""
            },
            "type": "choropleth"
           }
          ],
          "contour": [
           {
            "colorbar": {
             "outlinewidth": 0,
             "ticks": ""
            },
            "colorscale": [
             [
              0,
              "#0d0887"
             ],
             [
              0.1111111111111111,
              "#46039f"
             ],
             [
              0.2222222222222222,
              "#7201a8"
             ],
             [
              0.3333333333333333,
              "#9c179e"
             ],
             [
              0.4444444444444444,
              "#bd3786"
             ],
             [
              0.5555555555555556,
              "#d8576b"
             ],
             [
              0.6666666666666666,
              "#ed7953"
             ],
             [
              0.7777777777777778,
              "#fb9f3a"
             ],
             [
              0.8888888888888888,
              "#fdca26"
             ],
             [
              1,
              "#f0f921"
             ]
            ],
            "type": "contour"
           }
          ],
          "contourcarpet": [
           {
            "colorbar": {
             "outlinewidth": 0,
             "ticks": ""
            },
            "type": "contourcarpet"
           }
          ],
          "heatmap": [
           {
            "colorbar": {
             "outlinewidth": 0,
             "ticks": ""
            },
            "colorscale": [
             [
              0,
              "#0d0887"
             ],
             [
              0.1111111111111111,
              "#46039f"
             ],
             [
              0.2222222222222222,
              "#7201a8"
             ],
             [
              0.3333333333333333,
              "#9c179e"
             ],
             [
              0.4444444444444444,
              "#bd3786"
             ],
             [
              0.5555555555555556,
              "#d8576b"
             ],
             [
              0.6666666666666666,
              "#ed7953"
             ],
             [
              0.7777777777777778,
              "#fb9f3a"
             ],
             [
              0.8888888888888888,
              "#fdca26"
             ],
             [
              1,
              "#f0f921"
             ]
            ],
            "type": "heatmap"
           }
          ],
          "heatmapgl": [
           {
            "colorbar": {
             "outlinewidth": 0,
             "ticks": ""
            },
            "colorscale": [
             [
              0,
              "#0d0887"
             ],
             [
              0.1111111111111111,
              "#46039f"
             ],
             [
              0.2222222222222222,
              "#7201a8"
             ],
             [
              0.3333333333333333,
              "#9c179e"
             ],
             [
              0.4444444444444444,
              "#bd3786"
             ],
             [
              0.5555555555555556,
              "#d8576b"
             ],
             [
              0.6666666666666666,
              "#ed7953"
             ],
             [
              0.7777777777777778,
              "#fb9f3a"
             ],
             [
              0.8888888888888888,
              "#fdca26"
             ],
             [
              1,
              "#f0f921"
             ]
            ],
            "type": "heatmapgl"
           }
          ],
          "histogram": [
           {
            "marker": {
             "colorbar": {
              "outlinewidth": 0,
              "ticks": ""
             }
            },
            "type": "histogram"
           }
          ],
          "histogram2d": [
           {
            "colorbar": {
             "outlinewidth": 0,
             "ticks": ""
            },
            "colorscale": [
             [
              0,
              "#0d0887"
             ],
             [
              0.1111111111111111,
              "#46039f"
             ],
             [
              0.2222222222222222,
              "#7201a8"
             ],
             [
              0.3333333333333333,
              "#9c179e"
             ],
             [
              0.4444444444444444,
              "#bd3786"
             ],
             [
              0.5555555555555556,
              "#d8576b"
             ],
             [
              0.6666666666666666,
              "#ed7953"
             ],
             [
              0.7777777777777778,
              "#fb9f3a"
             ],
             [
              0.8888888888888888,
              "#fdca26"
             ],
             [
              1,
              "#f0f921"
             ]
            ],
            "type": "histogram2d"
           }
          ],
          "histogram2dcontour": [
           {
            "colorbar": {
             "outlinewidth": 0,
             "ticks": ""
            },
            "colorscale": [
             [
              0,
              "#0d0887"
             ],
             [
              0.1111111111111111,
              "#46039f"
             ],
             [
              0.2222222222222222,
              "#7201a8"
             ],
             [
              0.3333333333333333,
              "#9c179e"
             ],
             [
              0.4444444444444444,
              "#bd3786"
             ],
             [
              0.5555555555555556,
              "#d8576b"
             ],
             [
              0.6666666666666666,
              "#ed7953"
             ],
             [
              0.7777777777777778,
              "#fb9f3a"
             ],
             [
              0.8888888888888888,
              "#fdca26"
             ],
             [
              1,
              "#f0f921"
             ]
            ],
            "type": "histogram2dcontour"
           }
          ],
          "mesh3d": [
           {
            "colorbar": {
             "outlinewidth": 0,
             "ticks": ""
            },
            "type": "mesh3d"
           }
          ],
          "parcoords": [
           {
            "line": {
             "colorbar": {
              "outlinewidth": 0,
              "ticks": ""
             }
            },
            "type": "parcoords"
           }
          ],
          "pie": [
           {
            "automargin": true,
            "type": "pie"
           }
          ],
          "scatter": [
           {
            "marker": {
             "colorbar": {
              "outlinewidth": 0,
              "ticks": ""
             }
            },
            "type": "scatter"
           }
          ],
          "scatter3d": [
           {
            "line": {
             "colorbar": {
              "outlinewidth": 0,
              "ticks": ""
             }
            },
            "marker": {
             "colorbar": {
              "outlinewidth": 0,
              "ticks": ""
             }
            },
            "type": "scatter3d"
           }
          ],
          "scattercarpet": [
           {
            "marker": {
             "colorbar": {
              "outlinewidth": 0,
              "ticks": ""
             }
            },
            "type": "scattercarpet"
           }
          ],
          "scattergeo": [
           {
            "marker": {
             "colorbar": {
              "outlinewidth": 0,
              "ticks": ""
             }
            },
            "type": "scattergeo"
           }
          ],
          "scattergl": [
           {
            "marker": {
             "colorbar": {
              "outlinewidth": 0,
              "ticks": ""
             }
            },
            "type": "scattergl"
           }
          ],
          "scattermapbox": [
           {
            "marker": {
             "colorbar": {
              "outlinewidth": 0,
              "ticks": ""
             }
            },
            "type": "scattermapbox"
           }
          ],
          "scatterpolar": [
           {
            "marker": {
             "colorbar": {
              "outlinewidth": 0,
              "ticks": ""
             }
            },
            "type": "scatterpolar"
           }
          ],
          "scatterpolargl": [
           {
            "marker": {
             "colorbar": {
              "outlinewidth": 0,
              "ticks": ""
             }
            },
            "type": "scatterpolargl"
           }
          ],
          "scatterternary": [
           {
            "marker": {
             "colorbar": {
              "outlinewidth": 0,
              "ticks": ""
             }
            },
            "type": "scatterternary"
           }
          ],
          "surface": [
           {
            "colorbar": {
             "outlinewidth": 0,
             "ticks": ""
            },
            "colorscale": [
             [
              0,
              "#0d0887"
             ],
             [
              0.1111111111111111,
              "#46039f"
             ],
             [
              0.2222222222222222,
              "#7201a8"
             ],
             [
              0.3333333333333333,
              "#9c179e"
             ],
             [
              0.4444444444444444,
              "#bd3786"
             ],
             [
              0.5555555555555556,
              "#d8576b"
             ],
             [
              0.6666666666666666,
              "#ed7953"
             ],
             [
              0.7777777777777778,
              "#fb9f3a"
             ],
             [
              0.8888888888888888,
              "#fdca26"
             ],
             [
              1,
              "#f0f921"
             ]
            ],
            "type": "surface"
           }
          ],
          "table": [
           {
            "cells": {
             "fill": {
              "color": "#EBF0F8"
             },
             "line": {
              "color": "white"
             }
            },
            "header": {
             "fill": {
              "color": "#C8D4E3"
             },
             "line": {
              "color": "white"
             }
            },
            "type": "table"
           }
          ]
         },
         "layout": {
          "annotationdefaults": {
           "arrowcolor": "#2a3f5f",
           "arrowhead": 0,
           "arrowwidth": 1
          },
          "coloraxis": {
           "colorbar": {
            "outlinewidth": 0,
            "ticks": ""
           }
          },
          "colorscale": {
           "diverging": [
            [
             0,
             "#8e0152"
            ],
            [
             0.1,
             "#c51b7d"
            ],
            [
             0.2,
             "#de77ae"
            ],
            [
             0.3,
             "#f1b6da"
            ],
            [
             0.4,
             "#fde0ef"
            ],
            [
             0.5,
             "#f7f7f7"
            ],
            [
             0.6,
             "#e6f5d0"
            ],
            [
             0.7,
             "#b8e186"
            ],
            [
             0.8,
             "#7fbc41"
            ],
            [
             0.9,
             "#4d9221"
            ],
            [
             1,
             "#276419"
            ]
           ],
           "sequential": [
            [
             0,
             "#0d0887"
            ],
            [
             0.1111111111111111,
             "#46039f"
            ],
            [
             0.2222222222222222,
             "#7201a8"
            ],
            [
             0.3333333333333333,
             "#9c179e"
            ],
            [
             0.4444444444444444,
             "#bd3786"
            ],
            [
             0.5555555555555556,
             "#d8576b"
            ],
            [
             0.6666666666666666,
             "#ed7953"
            ],
            [
             0.7777777777777778,
             "#fb9f3a"
            ],
            [
             0.8888888888888888,
             "#fdca26"
            ],
            [
             1,
             "#f0f921"
            ]
           ],
           "sequentialminus": [
            [
             0,
             "#0d0887"
            ],
            [
             0.1111111111111111,
             "#46039f"
            ],
            [
             0.2222222222222222,
             "#7201a8"
            ],
            [
             0.3333333333333333,
             "#9c179e"
            ],
            [
             0.4444444444444444,
             "#bd3786"
            ],
            [
             0.5555555555555556,
             "#d8576b"
            ],
            [
             0.6666666666666666,
             "#ed7953"
            ],
            [
             0.7777777777777778,
             "#fb9f3a"
            ],
            [
             0.8888888888888888,
             "#fdca26"
            ],
            [
             1,
             "#f0f921"
            ]
           ]
          },
          "colorway": [
           "#636efa",
           "#EF553B",
           "#00cc96",
           "#ab63fa",
           "#FFA15A",
           "#19d3f3",
           "#FF6692",
           "#B6E880",
           "#FF97FF",
           "#FECB52"
          ],
          "font": {
           "color": "#2a3f5f"
          },
          "geo": {
           "bgcolor": "white",
           "lakecolor": "white",
           "landcolor": "#E5ECF6",
           "showlakes": true,
           "showland": true,
           "subunitcolor": "white"
          },
          "hoverlabel": {
           "align": "left"
          },
          "hovermode": "closest",
          "mapbox": {
           "style": "light"
          },
          "paper_bgcolor": "white",
          "plot_bgcolor": "#E5ECF6",
          "polar": {
           "angularaxis": {
            "gridcolor": "white",
            "linecolor": "white",
            "ticks": ""
           },
           "bgcolor": "#E5ECF6",
           "radialaxis": {
            "gridcolor": "white",
            "linecolor": "white",
            "ticks": ""
           }
          },
          "scene": {
           "xaxis": {
            "backgroundcolor": "#E5ECF6",
            "gridcolor": "white",
            "gridwidth": 2,
            "linecolor": "white",
            "showbackground": true,
            "ticks": "",
            "zerolinecolor": "white"
           },
           "yaxis": {
            "backgroundcolor": "#E5ECF6",
            "gridcolor": "white",
            "gridwidth": 2,
            "linecolor": "white",
            "showbackground": true,
            "ticks": "",
            "zerolinecolor": "white"
           },
           "zaxis": {
            "backgroundcolor": "#E5ECF6",
            "gridcolor": "white",
            "gridwidth": 2,
            "linecolor": "white",
            "showbackground": true,
            "ticks": "",
            "zerolinecolor": "white"
           }
          },
          "shapedefaults": {
           "line": {
            "color": "#2a3f5f"
           }
          },
          "ternary": {
           "aaxis": {
            "gridcolor": "white",
            "linecolor": "white",
            "ticks": ""
           },
           "baxis": {
            "gridcolor": "white",
            "linecolor": "white",
            "ticks": ""
           },
           "bgcolor": "#E5ECF6",
           "caxis": {
            "gridcolor": "white",
            "linecolor": "white",
            "ticks": ""
           }
          },
          "title": {
           "x": 0.05
          },
          "xaxis": {
           "automargin": true,
           "gridcolor": "white",
           "linecolor": "white",
           "ticks": "",
           "title": {
            "standoff": 15
           },
           "zerolinecolor": "white",
           "zerolinewidth": 2
          },
          "yaxis": {
           "automargin": true,
           "gridcolor": "white",
           "linecolor": "white",
           "ticks": "",
           "title": {
            "standoff": 15
           },
           "zerolinecolor": "white",
           "zerolinewidth": 2
          }
         }
        },
        "title": {
         "text": "Monthly mean consumption in GWh. Baltic countries",
         "x": 0.5,
         "y": 0.95
        },
        "xaxis": {
         "tickangle": -45
        },
        "yaxis": {
         "title": {
          "text": "MWh"
         }
        }
       }
      },
      "text/html": [
       "<div>                            <div id=\"39a2c0f7-4469-4153-83dd-7a615a5388c3\" class=\"plotly-graph-div\" style=\"height:525px; width:100%;\"></div>            <script type=\"text/javascript\">                require([\"plotly\"], function(Plotly) {                    window.PLOTLYENV=window.PLOTLYENV || {};                                    if (document.getElementById(\"39a2c0f7-4469-4153-83dd-7a615a5388c3\")) {                    Plotly.newPlot(                        \"39a2c0f7-4469-4153-83dd-7a615a5388c3\",                        [{\"marker\": {\"color\": \"navy\"}, \"name\": \"EE\", \"text\": [27102.0, 26028.0, 24400.0, 21938.0, 19992.0, 18758.0, 18265.0, 19164.0, 20236.0, 22698.0, 24673.0, 25076.0], \"type\": \"bar\", \"x\": [\"Jan\", \"Feb\", \"Mar\", \"Apr\", \"May\", \"Jun\", \"Jul\", \"Aug\", \"Sep\", \"Oct\", \"Nov\", \"Dec\"], \"y\": [27102.0, 26028.0, 24400.0, 21938.0, 19992.0, 18758.0, 18265.0, 19164.0, 20236.0, 22698.0, 24673.0, 25076.0]}, {\"marker\": {\"color\": \"brown\"}, \"name\": \"LV\", \"text\": [22625.0, 22042.0, 20736.0, 19119.0, 18125.0, 17564.0, 17680.0, 18237.0, 18512.0, 19952.0, 21028.0, 21335.0], \"type\": \"bar\", \"x\": [\"Jan\", \"Feb\", \"Mar\", \"Apr\", \"May\", \"Jun\", \"Jul\", \"Aug\", \"Sep\", \"Oct\", \"Nov\", \"Dec\"], \"y\": [22625.0, 22042.0, 20736.0, 19119.0, 18125.0, 17564.0, 17680.0, 18237.0, 18512.0, 19952.0, 21028.0, 21335.0]}, {\"marker\": {\"color\": \"green\"}, \"name\": \"LT\", \"text\": [32413.0, 31286.0, 29495.0, 27589.0, 27161.0, 27150.0, 27094.0, 27954.0, 28396.0, 29650.0, 31134.0, 31448.0], \"type\": \"bar\", \"x\": [\"Jan\", \"Feb\", \"Mar\", \"Apr\", \"May\", \"Jun\", \"Jul\", \"Aug\", \"Sep\", \"Oct\", \"Nov\", \"Dec\"], \"y\": [32413.0, 31286.0, 29495.0, 27589.0, 27161.0, 27150.0, 27094.0, 27954.0, 28396.0, 29650.0, 31134.0, 31448.0]}],                        {\"barmode\": \"group\", \"template\": {\"data\": {\"bar\": [{\"error_x\": {\"color\": \"#2a3f5f\"}, \"error_y\": {\"color\": \"#2a3f5f\"}, \"marker\": {\"line\": {\"color\": \"#E5ECF6\", \"width\": 0.5}}, \"type\": \"bar\"}], \"barpolar\": [{\"marker\": {\"line\": {\"color\": \"#E5ECF6\", \"width\": 0.5}}, \"type\": \"barpolar\"}], \"carpet\": [{\"aaxis\": {\"endlinecolor\": \"#2a3f5f\", \"gridcolor\": \"white\", \"linecolor\": \"white\", \"minorgridcolor\": \"white\", \"startlinecolor\": \"#2a3f5f\"}, \"baxis\": {\"endlinecolor\": \"#2a3f5f\", \"gridcolor\": \"white\", \"linecolor\": \"white\", \"minorgridcolor\": \"white\", \"startlinecolor\": \"#2a3f5f\"}, \"type\": \"carpet\"}], \"choropleth\": [{\"colorbar\": {\"outlinewidth\": 0, \"ticks\": \"\"}, \"type\": \"choropleth\"}], \"contour\": [{\"colorbar\": {\"outlinewidth\": 0, \"ticks\": \"\"}, \"colorscale\": [[0.0, \"#0d0887\"], [0.1111111111111111, \"#46039f\"], [0.2222222222222222, \"#7201a8\"], [0.3333333333333333, \"#9c179e\"], [0.4444444444444444, \"#bd3786\"], [0.5555555555555556, \"#d8576b\"], [0.6666666666666666, \"#ed7953\"], [0.7777777777777778, \"#fb9f3a\"], [0.8888888888888888, \"#fdca26\"], [1.0, \"#f0f921\"]], \"type\": \"contour\"}], \"contourcarpet\": [{\"colorbar\": {\"outlinewidth\": 0, \"ticks\": \"\"}, \"type\": \"contourcarpet\"}], \"heatmap\": [{\"colorbar\": {\"outlinewidth\": 0, \"ticks\": \"\"}, \"colorscale\": [[0.0, \"#0d0887\"], [0.1111111111111111, \"#46039f\"], [0.2222222222222222, \"#7201a8\"], [0.3333333333333333, \"#9c179e\"], [0.4444444444444444, \"#bd3786\"], [0.5555555555555556, \"#d8576b\"], [0.6666666666666666, \"#ed7953\"], [0.7777777777777778, \"#fb9f3a\"], [0.8888888888888888, \"#fdca26\"], [1.0, \"#f0f921\"]], \"type\": \"heatmap\"}], \"heatmapgl\": [{\"colorbar\": {\"outlinewidth\": 0, \"ticks\": \"\"}, \"colorscale\": [[0.0, \"#0d0887\"], [0.1111111111111111, \"#46039f\"], [0.2222222222222222, \"#7201a8\"], [0.3333333333333333, \"#9c179e\"], [0.4444444444444444, \"#bd3786\"], [0.5555555555555556, \"#d8576b\"], [0.6666666666666666, \"#ed7953\"], [0.7777777777777778, \"#fb9f3a\"], [0.8888888888888888, \"#fdca26\"], [1.0, \"#f0f921\"]], \"type\": \"heatmapgl\"}], \"histogram\": [{\"marker\": {\"colorbar\": {\"outlinewidth\": 0, \"ticks\": \"\"}}, \"type\": \"histogram\"}], \"histogram2d\": [{\"colorbar\": {\"outlinewidth\": 0, \"ticks\": \"\"}, \"colorscale\": [[0.0, \"#0d0887\"], [0.1111111111111111, \"#46039f\"], [0.2222222222222222, \"#7201a8\"], [0.3333333333333333, \"#9c179e\"], [0.4444444444444444, \"#bd3786\"], [0.5555555555555556, \"#d8576b\"], [0.6666666666666666, \"#ed7953\"], [0.7777777777777778, \"#fb9f3a\"], [0.8888888888888888, \"#fdca26\"], [1.0, \"#f0f921\"]], \"type\": \"histogram2d\"}], \"histogram2dcontour\": [{\"colorbar\": {\"outlinewidth\": 0, \"ticks\": \"\"}, \"colorscale\": [[0.0, \"#0d0887\"], [0.1111111111111111, \"#46039f\"], [0.2222222222222222, \"#7201a8\"], [0.3333333333333333, \"#9c179e\"], [0.4444444444444444, \"#bd3786\"], [0.5555555555555556, \"#d8576b\"], [0.6666666666666666, \"#ed7953\"], [0.7777777777777778, \"#fb9f3a\"], [0.8888888888888888, \"#fdca26\"], [1.0, \"#f0f921\"]], \"type\": \"histogram2dcontour\"}], \"mesh3d\": [{\"colorbar\": {\"outlinewidth\": 0, \"ticks\": \"\"}, \"type\": \"mesh3d\"}], \"parcoords\": [{\"line\": {\"colorbar\": {\"outlinewidth\": 0, \"ticks\": \"\"}}, \"type\": \"parcoords\"}], \"pie\": [{\"automargin\": true, \"type\": \"pie\"}], \"scatter\": [{\"marker\": {\"colorbar\": {\"outlinewidth\": 0, \"ticks\": \"\"}}, \"type\": \"scatter\"}], \"scatter3d\": [{\"line\": {\"colorbar\": {\"outlinewidth\": 0, \"ticks\": \"\"}}, \"marker\": {\"colorbar\": {\"outlinewidth\": 0, \"ticks\": \"\"}}, \"type\": \"scatter3d\"}], \"scattercarpet\": [{\"marker\": {\"colorbar\": {\"outlinewidth\": 0, \"ticks\": \"\"}}, \"type\": \"scattercarpet\"}], \"scattergeo\": [{\"marker\": {\"colorbar\": {\"outlinewidth\": 0, \"ticks\": \"\"}}, \"type\": \"scattergeo\"}], \"scattergl\": [{\"marker\": {\"colorbar\": {\"outlinewidth\": 0, \"ticks\": \"\"}}, \"type\": \"scattergl\"}], \"scattermapbox\": [{\"marker\": {\"colorbar\": {\"outlinewidth\": 0, \"ticks\": \"\"}}, \"type\": \"scattermapbox\"}], \"scatterpolar\": [{\"marker\": {\"colorbar\": {\"outlinewidth\": 0, \"ticks\": \"\"}}, \"type\": \"scatterpolar\"}], \"scatterpolargl\": [{\"marker\": {\"colorbar\": {\"outlinewidth\": 0, \"ticks\": \"\"}}, \"type\": \"scatterpolargl\"}], \"scatterternary\": [{\"marker\": {\"colorbar\": {\"outlinewidth\": 0, \"ticks\": \"\"}}, \"type\": \"scatterternary\"}], \"surface\": [{\"colorbar\": {\"outlinewidth\": 0, \"ticks\": \"\"}, \"colorscale\": [[0.0, \"#0d0887\"], [0.1111111111111111, \"#46039f\"], [0.2222222222222222, \"#7201a8\"], [0.3333333333333333, \"#9c179e\"], [0.4444444444444444, \"#bd3786\"], [0.5555555555555556, \"#d8576b\"], [0.6666666666666666, \"#ed7953\"], [0.7777777777777778, \"#fb9f3a\"], [0.8888888888888888, \"#fdca26\"], [1.0, \"#f0f921\"]], \"type\": \"surface\"}], \"table\": [{\"cells\": {\"fill\": {\"color\": \"#EBF0F8\"}, \"line\": {\"color\": \"white\"}}, \"header\": {\"fill\": {\"color\": \"#C8D4E3\"}, \"line\": {\"color\": \"white\"}}, \"type\": \"table\"}]}, \"layout\": {\"annotationdefaults\": {\"arrowcolor\": \"#2a3f5f\", \"arrowhead\": 0, \"arrowwidth\": 1}, \"coloraxis\": {\"colorbar\": {\"outlinewidth\": 0, \"ticks\": \"\"}}, \"colorscale\": {\"diverging\": [[0, \"#8e0152\"], [0.1, \"#c51b7d\"], [0.2, \"#de77ae\"], [0.3, \"#f1b6da\"], [0.4, \"#fde0ef\"], [0.5, \"#f7f7f7\"], [0.6, \"#e6f5d0\"], [0.7, \"#b8e186\"], [0.8, \"#7fbc41\"], [0.9, \"#4d9221\"], [1, \"#276419\"]], \"sequential\": [[0.0, \"#0d0887\"], [0.1111111111111111, \"#46039f\"], [0.2222222222222222, \"#7201a8\"], [0.3333333333333333, \"#9c179e\"], [0.4444444444444444, \"#bd3786\"], [0.5555555555555556, \"#d8576b\"], [0.6666666666666666, \"#ed7953\"], [0.7777777777777778, \"#fb9f3a\"], [0.8888888888888888, \"#fdca26\"], [1.0, \"#f0f921\"]], \"sequentialminus\": [[0.0, \"#0d0887\"], [0.1111111111111111, \"#46039f\"], [0.2222222222222222, \"#7201a8\"], [0.3333333333333333, \"#9c179e\"], [0.4444444444444444, \"#bd3786\"], [0.5555555555555556, \"#d8576b\"], [0.6666666666666666, \"#ed7953\"], [0.7777777777777778, \"#fb9f3a\"], [0.8888888888888888, \"#fdca26\"], [1.0, \"#f0f921\"]]}, \"colorway\": [\"#636efa\", \"#EF553B\", \"#00cc96\", \"#ab63fa\", \"#FFA15A\", \"#19d3f3\", \"#FF6692\", \"#B6E880\", \"#FF97FF\", \"#FECB52\"], \"font\": {\"color\": \"#2a3f5f\"}, \"geo\": {\"bgcolor\": \"white\", \"lakecolor\": \"white\", \"landcolor\": \"#E5ECF6\", \"showlakes\": true, \"showland\": true, \"subunitcolor\": \"white\"}, \"hoverlabel\": {\"align\": \"left\"}, \"hovermode\": \"closest\", \"mapbox\": {\"style\": \"light\"}, \"paper_bgcolor\": \"white\", \"plot_bgcolor\": \"#E5ECF6\", \"polar\": {\"angularaxis\": {\"gridcolor\": \"white\", \"linecolor\": \"white\", \"ticks\": \"\"}, \"bgcolor\": \"#E5ECF6\", \"radialaxis\": {\"gridcolor\": \"white\", \"linecolor\": \"white\", \"ticks\": \"\"}}, \"scene\": {\"xaxis\": {\"backgroundcolor\": \"#E5ECF6\", \"gridcolor\": \"white\", \"gridwidth\": 2, \"linecolor\": \"white\", \"showbackground\": true, \"ticks\": \"\", \"zerolinecolor\": \"white\"}, \"yaxis\": {\"backgroundcolor\": \"#E5ECF6\", \"gridcolor\": \"white\", \"gridwidth\": 2, \"linecolor\": \"white\", \"showbackground\": true, \"ticks\": \"\", \"zerolinecolor\": \"white\"}, \"zaxis\": {\"backgroundcolor\": \"#E5ECF6\", \"gridcolor\": \"white\", \"gridwidth\": 2, \"linecolor\": \"white\", \"showbackground\": true, \"ticks\": \"\", \"zerolinecolor\": \"white\"}}, \"shapedefaults\": {\"line\": {\"color\": \"#2a3f5f\"}}, \"ternary\": {\"aaxis\": {\"gridcolor\": \"white\", \"linecolor\": \"white\", \"ticks\": \"\"}, \"baxis\": {\"gridcolor\": \"white\", \"linecolor\": \"white\", \"ticks\": \"\"}, \"bgcolor\": \"#E5ECF6\", \"caxis\": {\"gridcolor\": \"white\", \"linecolor\": \"white\", \"ticks\": \"\"}}, \"title\": {\"x\": 0.05}, \"xaxis\": {\"automargin\": true, \"gridcolor\": \"white\", \"linecolor\": \"white\", \"ticks\": \"\", \"title\": {\"standoff\": 15}, \"zerolinecolor\": \"white\", \"zerolinewidth\": 2}, \"yaxis\": {\"automargin\": true, \"gridcolor\": \"white\", \"linecolor\": \"white\", \"ticks\": \"\", \"title\": {\"standoff\": 15}, \"zerolinecolor\": \"white\", \"zerolinewidth\": 2}}}, \"title\": {\"text\": \"Monthly mean consumption in GWh. Baltic countries\", \"x\": 0.5, \"y\": 0.95}, \"xaxis\": {\"tickangle\": -45}, \"yaxis\": {\"title\": {\"text\": \"MWh\"}}},                        {\"responsive\": true}                    ).then(function(){\n",
       "                            \n",
       "var gd = document.getElementById('39a2c0f7-4469-4153-83dd-7a615a5388c3');\n",
       "var x = new MutationObserver(function (mutations, observer) {{\n",
       "        var display = window.getComputedStyle(gd).display;\n",
       "        if (!display || display === 'none') {{\n",
       "            console.log([gd, 'removed!']);\n",
       "            Plotly.purge(gd);\n",
       "            observer.disconnect();\n",
       "        }}\n",
       "}});\n",
       "\n",
       "// Listen for the removal of the full notebook cells\n",
       "var notebookContainer = gd.closest('#notebook-container');\n",
       "if (notebookContainer) {{\n",
       "    x.observe(notebookContainer, {childList: true});\n",
       "}}\n",
       "\n",
       "// Listen for the clearing of the current output cell\n",
       "var outputEl = gd.closest('.output');\n",
       "if (outputEl) {{\n",
       "    x.observe(outputEl, {childList: true});\n",
       "}}\n",
       "\n",
       "                        })                };                });            </script>        </div>"
      ]
     },
     "metadata": {},
     "output_type": "display_data"
    }
   ],
   "source": [
    "fig = go.Figure()\n",
    "\n",
    "for j in range(3):\n",
    "    fig.add_trace(go.Bar(\n",
    "    x=months,\n",
    "    y=A[countries[j+4]],\n",
    "    text=A[countries[j+4]],\n",
    "    #textposition='outside',\n",
    "    name=countries[j+4],\n",
    "    marker_color=baltic_colors[j]))\n",
    "    \n",
    "    \n",
    "   \n",
    "fig.update_layout(barmode='group',\n",
    "                  title={\n",
    "                'text': \"Monthly mean consumption in GWh. Baltic countries\",\n",
    "                'y':0.95,\n",
    "                'x':0.5},\n",
    "                  yaxis=dict(title='MWh'), \n",
    "                  \n",
    "                  xaxis_tickangle=-45)\n",
    "fig.show()"
   ]
  },
  {
   "cell_type": "markdown",
   "metadata": {},
   "source": [
    "### Nordic and Baltic countries in one scale"
   ]
  },
  {
   "cell_type": "code",
   "execution_count": 57,
   "metadata": {
    "ExecuteTime": {
     "end_time": "2020-12-10T08:55:52.956468Z",
     "start_time": "2020-12-10T08:55:52.882415Z"
    }
   },
   "outputs": [
    {
     "data": {
      "application/vnd.plotly.v1+json": {
       "config": {
        "plotlyServerURL": "https://plot.ly"
       },
       "data": [
        {
         "marker": {
          "color": "blue"
         },
         "name": "Nordic",
         "text": [
          1315674,
          1273263,
          1185203,
          1038695,
          922242,
          868803,
          818998,
          862370,
          918988,
          1038852,
          1164836,
          1211692
         ],
         "type": "bar",
         "x": [
          "Jan",
          "Feb",
          "Mar",
          "Apr",
          "May",
          "Jun",
          "Jul",
          "Aug",
          "Sep",
          "Oct",
          "Nov",
          "Dec"
         ],
         "y": [
          1315674,
          1273263,
          1185203,
          1038695,
          922242,
          868803,
          818998,
          862370,
          918988,
          1038852,
          1164836,
          1211692
         ]
        },
        {
         "marker": {
          "color": "green"
         },
         "name": "Baltic",
         "text": [
          82135,
          79307,
          74599,
          68641,
          65270,
          63473,
          63017,
          65354,
          67048,
          72295,
          76835,
          77737
         ],
         "type": "bar",
         "x": [
          "Jan",
          "Feb",
          "Mar",
          "Apr",
          "May",
          "Jun",
          "Jul",
          "Aug",
          "Sep",
          "Oct",
          "Nov",
          "Dec"
         ],
         "y": [
          82135,
          79307,
          74599,
          68641,
          65270,
          63473,
          63017,
          65354,
          67048,
          72295,
          76835,
          77737
         ]
        }
       ],
       "layout": {
        "barmode": "group",
        "template": {
         "data": {
          "bar": [
           {
            "error_x": {
             "color": "#2a3f5f"
            },
            "error_y": {
             "color": "#2a3f5f"
            },
            "marker": {
             "line": {
              "color": "#E5ECF6",
              "width": 0.5
             }
            },
            "type": "bar"
           }
          ],
          "barpolar": [
           {
            "marker": {
             "line": {
              "color": "#E5ECF6",
              "width": 0.5
             }
            },
            "type": "barpolar"
           }
          ],
          "carpet": [
           {
            "aaxis": {
             "endlinecolor": "#2a3f5f",
             "gridcolor": "white",
             "linecolor": "white",
             "minorgridcolor": "white",
             "startlinecolor": "#2a3f5f"
            },
            "baxis": {
             "endlinecolor": "#2a3f5f",
             "gridcolor": "white",
             "linecolor": "white",
             "minorgridcolor": "white",
             "startlinecolor": "#2a3f5f"
            },
            "type": "carpet"
           }
          ],
          "choropleth": [
           {
            "colorbar": {
             "outlinewidth": 0,
             "ticks": ""
            },
            "type": "choropleth"
           }
          ],
          "contour": [
           {
            "colorbar": {
             "outlinewidth": 0,
             "ticks": ""
            },
            "colorscale": [
             [
              0,
              "#0d0887"
             ],
             [
              0.1111111111111111,
              "#46039f"
             ],
             [
              0.2222222222222222,
              "#7201a8"
             ],
             [
              0.3333333333333333,
              "#9c179e"
             ],
             [
              0.4444444444444444,
              "#bd3786"
             ],
             [
              0.5555555555555556,
              "#d8576b"
             ],
             [
              0.6666666666666666,
              "#ed7953"
             ],
             [
              0.7777777777777778,
              "#fb9f3a"
             ],
             [
              0.8888888888888888,
              "#fdca26"
             ],
             [
              1,
              "#f0f921"
             ]
            ],
            "type": "contour"
           }
          ],
          "contourcarpet": [
           {
            "colorbar": {
             "outlinewidth": 0,
             "ticks": ""
            },
            "type": "contourcarpet"
           }
          ],
          "heatmap": [
           {
            "colorbar": {
             "outlinewidth": 0,
             "ticks": ""
            },
            "colorscale": [
             [
              0,
              "#0d0887"
             ],
             [
              0.1111111111111111,
              "#46039f"
             ],
             [
              0.2222222222222222,
              "#7201a8"
             ],
             [
              0.3333333333333333,
              "#9c179e"
             ],
             [
              0.4444444444444444,
              "#bd3786"
             ],
             [
              0.5555555555555556,
              "#d8576b"
             ],
             [
              0.6666666666666666,
              "#ed7953"
             ],
             [
              0.7777777777777778,
              "#fb9f3a"
             ],
             [
              0.8888888888888888,
              "#fdca26"
             ],
             [
              1,
              "#f0f921"
             ]
            ],
            "type": "heatmap"
           }
          ],
          "heatmapgl": [
           {
            "colorbar": {
             "outlinewidth": 0,
             "ticks": ""
            },
            "colorscale": [
             [
              0,
              "#0d0887"
             ],
             [
              0.1111111111111111,
              "#46039f"
             ],
             [
              0.2222222222222222,
              "#7201a8"
             ],
             [
              0.3333333333333333,
              "#9c179e"
             ],
             [
              0.4444444444444444,
              "#bd3786"
             ],
             [
              0.5555555555555556,
              "#d8576b"
             ],
             [
              0.6666666666666666,
              "#ed7953"
             ],
             [
              0.7777777777777778,
              "#fb9f3a"
             ],
             [
              0.8888888888888888,
              "#fdca26"
             ],
             [
              1,
              "#f0f921"
             ]
            ],
            "type": "heatmapgl"
           }
          ],
          "histogram": [
           {
            "marker": {
             "colorbar": {
              "outlinewidth": 0,
              "ticks": ""
             }
            },
            "type": "histogram"
           }
          ],
          "histogram2d": [
           {
            "colorbar": {
             "outlinewidth": 0,
             "ticks": ""
            },
            "colorscale": [
             [
              0,
              "#0d0887"
             ],
             [
              0.1111111111111111,
              "#46039f"
             ],
             [
              0.2222222222222222,
              "#7201a8"
             ],
             [
              0.3333333333333333,
              "#9c179e"
             ],
             [
              0.4444444444444444,
              "#bd3786"
             ],
             [
              0.5555555555555556,
              "#d8576b"
             ],
             [
              0.6666666666666666,
              "#ed7953"
             ],
             [
              0.7777777777777778,
              "#fb9f3a"
             ],
             [
              0.8888888888888888,
              "#fdca26"
             ],
             [
              1,
              "#f0f921"
             ]
            ],
            "type": "histogram2d"
           }
          ],
          "histogram2dcontour": [
           {
            "colorbar": {
             "outlinewidth": 0,
             "ticks": ""
            },
            "colorscale": [
             [
              0,
              "#0d0887"
             ],
             [
              0.1111111111111111,
              "#46039f"
             ],
             [
              0.2222222222222222,
              "#7201a8"
             ],
             [
              0.3333333333333333,
              "#9c179e"
             ],
             [
              0.4444444444444444,
              "#bd3786"
             ],
             [
              0.5555555555555556,
              "#d8576b"
             ],
             [
              0.6666666666666666,
              "#ed7953"
             ],
             [
              0.7777777777777778,
              "#fb9f3a"
             ],
             [
              0.8888888888888888,
              "#fdca26"
             ],
             [
              1,
              "#f0f921"
             ]
            ],
            "type": "histogram2dcontour"
           }
          ],
          "mesh3d": [
           {
            "colorbar": {
             "outlinewidth": 0,
             "ticks": ""
            },
            "type": "mesh3d"
           }
          ],
          "parcoords": [
           {
            "line": {
             "colorbar": {
              "outlinewidth": 0,
              "ticks": ""
             }
            },
            "type": "parcoords"
           }
          ],
          "pie": [
           {
            "automargin": true,
            "type": "pie"
           }
          ],
          "scatter": [
           {
            "marker": {
             "colorbar": {
              "outlinewidth": 0,
              "ticks": ""
             }
            },
            "type": "scatter"
           }
          ],
          "scatter3d": [
           {
            "line": {
             "colorbar": {
              "outlinewidth": 0,
              "ticks": ""
             }
            },
            "marker": {
             "colorbar": {
              "outlinewidth": 0,
              "ticks": ""
             }
            },
            "type": "scatter3d"
           }
          ],
          "scattercarpet": [
           {
            "marker": {
             "colorbar": {
              "outlinewidth": 0,
              "ticks": ""
             }
            },
            "type": "scattercarpet"
           }
          ],
          "scattergeo": [
           {
            "marker": {
             "colorbar": {
              "outlinewidth": 0,
              "ticks": ""
             }
            },
            "type": "scattergeo"
           }
          ],
          "scattergl": [
           {
            "marker": {
             "colorbar": {
              "outlinewidth": 0,
              "ticks": ""
             }
            },
            "type": "scattergl"
           }
          ],
          "scattermapbox": [
           {
            "marker": {
             "colorbar": {
              "outlinewidth": 0,
              "ticks": ""
             }
            },
            "type": "scattermapbox"
           }
          ],
          "scatterpolar": [
           {
            "marker": {
             "colorbar": {
              "outlinewidth": 0,
              "ticks": ""
             }
            },
            "type": "scatterpolar"
           }
          ],
          "scatterpolargl": [
           {
            "marker": {
             "colorbar": {
              "outlinewidth": 0,
              "ticks": ""
             }
            },
            "type": "scatterpolargl"
           }
          ],
          "scatterternary": [
           {
            "marker": {
             "colorbar": {
              "outlinewidth": 0,
              "ticks": ""
             }
            },
            "type": "scatterternary"
           }
          ],
          "surface": [
           {
            "colorbar": {
             "outlinewidth": 0,
             "ticks": ""
            },
            "colorscale": [
             [
              0,
              "#0d0887"
             ],
             [
              0.1111111111111111,
              "#46039f"
             ],
             [
              0.2222222222222222,
              "#7201a8"
             ],
             [
              0.3333333333333333,
              "#9c179e"
             ],
             [
              0.4444444444444444,
              "#bd3786"
             ],
             [
              0.5555555555555556,
              "#d8576b"
             ],
             [
              0.6666666666666666,
              "#ed7953"
             ],
             [
              0.7777777777777778,
              "#fb9f3a"
             ],
             [
              0.8888888888888888,
              "#fdca26"
             ],
             [
              1,
              "#f0f921"
             ]
            ],
            "type": "surface"
           }
          ],
          "table": [
           {
            "cells": {
             "fill": {
              "color": "#EBF0F8"
             },
             "line": {
              "color": "white"
             }
            },
            "header": {
             "fill": {
              "color": "#C8D4E3"
             },
             "line": {
              "color": "white"
             }
            },
            "type": "table"
           }
          ]
         },
         "layout": {
          "annotationdefaults": {
           "arrowcolor": "#2a3f5f",
           "arrowhead": 0,
           "arrowwidth": 1
          },
          "coloraxis": {
           "colorbar": {
            "outlinewidth": 0,
            "ticks": ""
           }
          },
          "colorscale": {
           "diverging": [
            [
             0,
             "#8e0152"
            ],
            [
             0.1,
             "#c51b7d"
            ],
            [
             0.2,
             "#de77ae"
            ],
            [
             0.3,
             "#f1b6da"
            ],
            [
             0.4,
             "#fde0ef"
            ],
            [
             0.5,
             "#f7f7f7"
            ],
            [
             0.6,
             "#e6f5d0"
            ],
            [
             0.7,
             "#b8e186"
            ],
            [
             0.8,
             "#7fbc41"
            ],
            [
             0.9,
             "#4d9221"
            ],
            [
             1,
             "#276419"
            ]
           ],
           "sequential": [
            [
             0,
             "#0d0887"
            ],
            [
             0.1111111111111111,
             "#46039f"
            ],
            [
             0.2222222222222222,
             "#7201a8"
            ],
            [
             0.3333333333333333,
             "#9c179e"
            ],
            [
             0.4444444444444444,
             "#bd3786"
            ],
            [
             0.5555555555555556,
             "#d8576b"
            ],
            [
             0.6666666666666666,
             "#ed7953"
            ],
            [
             0.7777777777777778,
             "#fb9f3a"
            ],
            [
             0.8888888888888888,
             "#fdca26"
            ],
            [
             1,
             "#f0f921"
            ]
           ],
           "sequentialminus": [
            [
             0,
             "#0d0887"
            ],
            [
             0.1111111111111111,
             "#46039f"
            ],
            [
             0.2222222222222222,
             "#7201a8"
            ],
            [
             0.3333333333333333,
             "#9c179e"
            ],
            [
             0.4444444444444444,
             "#bd3786"
            ],
            [
             0.5555555555555556,
             "#d8576b"
            ],
            [
             0.6666666666666666,
             "#ed7953"
            ],
            [
             0.7777777777777778,
             "#fb9f3a"
            ],
            [
             0.8888888888888888,
             "#fdca26"
            ],
            [
             1,
             "#f0f921"
            ]
           ]
          },
          "colorway": [
           "#636efa",
           "#EF553B",
           "#00cc96",
           "#ab63fa",
           "#FFA15A",
           "#19d3f3",
           "#FF6692",
           "#B6E880",
           "#FF97FF",
           "#FECB52"
          ],
          "font": {
           "color": "#2a3f5f"
          },
          "geo": {
           "bgcolor": "white",
           "lakecolor": "white",
           "landcolor": "#E5ECF6",
           "showlakes": true,
           "showland": true,
           "subunitcolor": "white"
          },
          "hoverlabel": {
           "align": "left"
          },
          "hovermode": "closest",
          "mapbox": {
           "style": "light"
          },
          "paper_bgcolor": "white",
          "plot_bgcolor": "#E5ECF6",
          "polar": {
           "angularaxis": {
            "gridcolor": "white",
            "linecolor": "white",
            "ticks": ""
           },
           "bgcolor": "#E5ECF6",
           "radialaxis": {
            "gridcolor": "white",
            "linecolor": "white",
            "ticks": ""
           }
          },
          "scene": {
           "xaxis": {
            "backgroundcolor": "#E5ECF6",
            "gridcolor": "white",
            "gridwidth": 2,
            "linecolor": "white",
            "showbackground": true,
            "ticks": "",
            "zerolinecolor": "white"
           },
           "yaxis": {
            "backgroundcolor": "#E5ECF6",
            "gridcolor": "white",
            "gridwidth": 2,
            "linecolor": "white",
            "showbackground": true,
            "ticks": "",
            "zerolinecolor": "white"
           },
           "zaxis": {
            "backgroundcolor": "#E5ECF6",
            "gridcolor": "white",
            "gridwidth": 2,
            "linecolor": "white",
            "showbackground": true,
            "ticks": "",
            "zerolinecolor": "white"
           }
          },
          "shapedefaults": {
           "line": {
            "color": "#2a3f5f"
           }
          },
          "ternary": {
           "aaxis": {
            "gridcolor": "white",
            "linecolor": "white",
            "ticks": ""
           },
           "baxis": {
            "gridcolor": "white",
            "linecolor": "white",
            "ticks": ""
           },
           "bgcolor": "#E5ECF6",
           "caxis": {
            "gridcolor": "white",
            "linecolor": "white",
            "ticks": ""
           }
          },
          "title": {
           "x": 0.05
          },
          "xaxis": {
           "automargin": true,
           "gridcolor": "white",
           "linecolor": "white",
           "ticks": "",
           "title": {
            "standoff": 15
           },
           "zerolinecolor": "white",
           "zerolinewidth": 2
          },
          "yaxis": {
           "automargin": true,
           "gridcolor": "white",
           "linecolor": "white",
           "ticks": "",
           "title": {
            "standoff": 15
           },
           "zerolinecolor": "white",
           "zerolinewidth": 2
          }
         }
        },
        "title": {
         "text": "Monthly mean consumption in MWh. Nordic and Baltic countries",
         "x": 0.5,
         "y": 0.95
        },
        "xaxis": {
         "tickangle": -45
        },
        "yaxis": {
         "title": {
          "text": "MWh"
         }
        }
       }
      },
      "text/html": [
       "<div>                            <div id=\"79ffc3c1-8c2d-4e99-b62f-30e076a96681\" class=\"plotly-graph-div\" style=\"height:525px; width:100%;\"></div>            <script type=\"text/javascript\">                require([\"plotly\"], function(Plotly) {                    window.PLOTLYENV=window.PLOTLYENV || {};                                    if (document.getElementById(\"79ffc3c1-8c2d-4e99-b62f-30e076a96681\")) {                    Plotly.newPlot(                        \"79ffc3c1-8c2d-4e99-b62f-30e076a96681\",                        [{\"marker\": {\"color\": \"blue\"}, \"name\": \"Nordic\", \"text\": [1315674.0, 1273263.0, 1185203.0, 1038695.0, 922242.0, 868803.0, 818998.0, 862370.0, 918988.0, 1038852.0, 1164836.0, 1211692.0], \"type\": \"bar\", \"x\": [\"Jan\", \"Feb\", \"Mar\", \"Apr\", \"May\", \"Jun\", \"Jul\", \"Aug\", \"Sep\", \"Oct\", \"Nov\", \"Dec\"], \"y\": [1315674.0, 1273263.0, 1185203.0, 1038695.0, 922242.0, 868803.0, 818998.0, 862370.0, 918988.0, 1038852.0, 1164836.0, 1211692.0]}, {\"marker\": {\"color\": \"green\"}, \"name\": \"Baltic\", \"text\": [82135.0, 79307.0, 74599.0, 68641.0, 65270.0, 63473.0, 63017.0, 65354.0, 67048.0, 72295.0, 76835.0, 77737.0], \"type\": \"bar\", \"x\": [\"Jan\", \"Feb\", \"Mar\", \"Apr\", \"May\", \"Jun\", \"Jul\", \"Aug\", \"Sep\", \"Oct\", \"Nov\", \"Dec\"], \"y\": [82135.0, 79307.0, 74599.0, 68641.0, 65270.0, 63473.0, 63017.0, 65354.0, 67048.0, 72295.0, 76835.0, 77737.0]}],                        {\"barmode\": \"group\", \"template\": {\"data\": {\"bar\": [{\"error_x\": {\"color\": \"#2a3f5f\"}, \"error_y\": {\"color\": \"#2a3f5f\"}, \"marker\": {\"line\": {\"color\": \"#E5ECF6\", \"width\": 0.5}}, \"type\": \"bar\"}], \"barpolar\": [{\"marker\": {\"line\": {\"color\": \"#E5ECF6\", \"width\": 0.5}}, \"type\": \"barpolar\"}], \"carpet\": [{\"aaxis\": {\"endlinecolor\": \"#2a3f5f\", \"gridcolor\": \"white\", \"linecolor\": \"white\", \"minorgridcolor\": \"white\", \"startlinecolor\": \"#2a3f5f\"}, \"baxis\": {\"endlinecolor\": \"#2a3f5f\", \"gridcolor\": \"white\", \"linecolor\": \"white\", \"minorgridcolor\": \"white\", \"startlinecolor\": \"#2a3f5f\"}, \"type\": \"carpet\"}], \"choropleth\": [{\"colorbar\": {\"outlinewidth\": 0, \"ticks\": \"\"}, \"type\": \"choropleth\"}], \"contour\": [{\"colorbar\": {\"outlinewidth\": 0, \"ticks\": \"\"}, \"colorscale\": [[0.0, \"#0d0887\"], [0.1111111111111111, \"#46039f\"], [0.2222222222222222, \"#7201a8\"], [0.3333333333333333, \"#9c179e\"], [0.4444444444444444, \"#bd3786\"], [0.5555555555555556, \"#d8576b\"], [0.6666666666666666, \"#ed7953\"], [0.7777777777777778, \"#fb9f3a\"], [0.8888888888888888, \"#fdca26\"], [1.0, \"#f0f921\"]], \"type\": \"contour\"}], \"contourcarpet\": [{\"colorbar\": {\"outlinewidth\": 0, \"ticks\": \"\"}, \"type\": \"contourcarpet\"}], \"heatmap\": [{\"colorbar\": {\"outlinewidth\": 0, \"ticks\": \"\"}, \"colorscale\": [[0.0, \"#0d0887\"], [0.1111111111111111, \"#46039f\"], [0.2222222222222222, \"#7201a8\"], [0.3333333333333333, \"#9c179e\"], [0.4444444444444444, \"#bd3786\"], [0.5555555555555556, \"#d8576b\"], [0.6666666666666666, \"#ed7953\"], [0.7777777777777778, \"#fb9f3a\"], [0.8888888888888888, \"#fdca26\"], [1.0, \"#f0f921\"]], \"type\": \"heatmap\"}], \"heatmapgl\": [{\"colorbar\": {\"outlinewidth\": 0, \"ticks\": \"\"}, \"colorscale\": [[0.0, \"#0d0887\"], [0.1111111111111111, \"#46039f\"], [0.2222222222222222, \"#7201a8\"], [0.3333333333333333, \"#9c179e\"], [0.4444444444444444, \"#bd3786\"], [0.5555555555555556, \"#d8576b\"], [0.6666666666666666, \"#ed7953\"], [0.7777777777777778, \"#fb9f3a\"], [0.8888888888888888, \"#fdca26\"], [1.0, \"#f0f921\"]], \"type\": \"heatmapgl\"}], \"histogram\": [{\"marker\": {\"colorbar\": {\"outlinewidth\": 0, \"ticks\": \"\"}}, \"type\": \"histogram\"}], \"histogram2d\": [{\"colorbar\": {\"outlinewidth\": 0, \"ticks\": \"\"}, \"colorscale\": [[0.0, \"#0d0887\"], [0.1111111111111111, \"#46039f\"], [0.2222222222222222, \"#7201a8\"], [0.3333333333333333, \"#9c179e\"], [0.4444444444444444, \"#bd3786\"], [0.5555555555555556, \"#d8576b\"], [0.6666666666666666, \"#ed7953\"], [0.7777777777777778, \"#fb9f3a\"], [0.8888888888888888, \"#fdca26\"], [1.0, \"#f0f921\"]], \"type\": \"histogram2d\"}], \"histogram2dcontour\": [{\"colorbar\": {\"outlinewidth\": 0, \"ticks\": \"\"}, \"colorscale\": [[0.0, \"#0d0887\"], [0.1111111111111111, \"#46039f\"], [0.2222222222222222, \"#7201a8\"], [0.3333333333333333, \"#9c179e\"], [0.4444444444444444, \"#bd3786\"], [0.5555555555555556, \"#d8576b\"], [0.6666666666666666, \"#ed7953\"], [0.7777777777777778, \"#fb9f3a\"], [0.8888888888888888, \"#fdca26\"], [1.0, \"#f0f921\"]], \"type\": \"histogram2dcontour\"}], \"mesh3d\": [{\"colorbar\": {\"outlinewidth\": 0, \"ticks\": \"\"}, \"type\": \"mesh3d\"}], \"parcoords\": [{\"line\": {\"colorbar\": {\"outlinewidth\": 0, \"ticks\": \"\"}}, \"type\": \"parcoords\"}], \"pie\": [{\"automargin\": true, \"type\": \"pie\"}], \"scatter\": [{\"marker\": {\"colorbar\": {\"outlinewidth\": 0, \"ticks\": \"\"}}, \"type\": \"scatter\"}], \"scatter3d\": [{\"line\": {\"colorbar\": {\"outlinewidth\": 0, \"ticks\": \"\"}}, \"marker\": {\"colorbar\": {\"outlinewidth\": 0, \"ticks\": \"\"}}, \"type\": \"scatter3d\"}], \"scattercarpet\": [{\"marker\": {\"colorbar\": {\"outlinewidth\": 0, \"ticks\": \"\"}}, \"type\": \"scattercarpet\"}], \"scattergeo\": [{\"marker\": {\"colorbar\": {\"outlinewidth\": 0, \"ticks\": \"\"}}, \"type\": \"scattergeo\"}], \"scattergl\": [{\"marker\": {\"colorbar\": {\"outlinewidth\": 0, \"ticks\": \"\"}}, \"type\": \"scattergl\"}], \"scattermapbox\": [{\"marker\": {\"colorbar\": {\"outlinewidth\": 0, \"ticks\": \"\"}}, \"type\": \"scattermapbox\"}], \"scatterpolar\": [{\"marker\": {\"colorbar\": {\"outlinewidth\": 0, \"ticks\": \"\"}}, \"type\": \"scatterpolar\"}], \"scatterpolargl\": [{\"marker\": {\"colorbar\": {\"outlinewidth\": 0, \"ticks\": \"\"}}, \"type\": \"scatterpolargl\"}], \"scatterternary\": [{\"marker\": {\"colorbar\": {\"outlinewidth\": 0, \"ticks\": \"\"}}, \"type\": \"scatterternary\"}], \"surface\": [{\"colorbar\": {\"outlinewidth\": 0, \"ticks\": \"\"}, \"colorscale\": [[0.0, \"#0d0887\"], [0.1111111111111111, \"#46039f\"], [0.2222222222222222, \"#7201a8\"], [0.3333333333333333, \"#9c179e\"], [0.4444444444444444, \"#bd3786\"], [0.5555555555555556, \"#d8576b\"], [0.6666666666666666, \"#ed7953\"], [0.7777777777777778, \"#fb9f3a\"], [0.8888888888888888, \"#fdca26\"], [1.0, \"#f0f921\"]], \"type\": \"surface\"}], \"table\": [{\"cells\": {\"fill\": {\"color\": \"#EBF0F8\"}, \"line\": {\"color\": \"white\"}}, \"header\": {\"fill\": {\"color\": \"#C8D4E3\"}, \"line\": {\"color\": \"white\"}}, \"type\": \"table\"}]}, \"layout\": {\"annotationdefaults\": {\"arrowcolor\": \"#2a3f5f\", \"arrowhead\": 0, \"arrowwidth\": 1}, \"coloraxis\": {\"colorbar\": {\"outlinewidth\": 0, \"ticks\": \"\"}}, \"colorscale\": {\"diverging\": [[0, \"#8e0152\"], [0.1, \"#c51b7d\"], [0.2, \"#de77ae\"], [0.3, \"#f1b6da\"], [0.4, \"#fde0ef\"], [0.5, \"#f7f7f7\"], [0.6, \"#e6f5d0\"], [0.7, \"#b8e186\"], [0.8, \"#7fbc41\"], [0.9, \"#4d9221\"], [1, \"#276419\"]], \"sequential\": [[0.0, \"#0d0887\"], [0.1111111111111111, \"#46039f\"], [0.2222222222222222, \"#7201a8\"], [0.3333333333333333, \"#9c179e\"], [0.4444444444444444, \"#bd3786\"], [0.5555555555555556, \"#d8576b\"], [0.6666666666666666, \"#ed7953\"], [0.7777777777777778, \"#fb9f3a\"], [0.8888888888888888, \"#fdca26\"], [1.0, \"#f0f921\"]], \"sequentialminus\": [[0.0, \"#0d0887\"], [0.1111111111111111, \"#46039f\"], [0.2222222222222222, \"#7201a8\"], [0.3333333333333333, \"#9c179e\"], [0.4444444444444444, \"#bd3786\"], [0.5555555555555556, \"#d8576b\"], [0.6666666666666666, \"#ed7953\"], [0.7777777777777778, \"#fb9f3a\"], [0.8888888888888888, \"#fdca26\"], [1.0, \"#f0f921\"]]}, \"colorway\": [\"#636efa\", \"#EF553B\", \"#00cc96\", \"#ab63fa\", \"#FFA15A\", \"#19d3f3\", \"#FF6692\", \"#B6E880\", \"#FF97FF\", \"#FECB52\"], \"font\": {\"color\": \"#2a3f5f\"}, \"geo\": {\"bgcolor\": \"white\", \"lakecolor\": \"white\", \"landcolor\": \"#E5ECF6\", \"showlakes\": true, \"showland\": true, \"subunitcolor\": \"white\"}, \"hoverlabel\": {\"align\": \"left\"}, \"hovermode\": \"closest\", \"mapbox\": {\"style\": \"light\"}, \"paper_bgcolor\": \"white\", \"plot_bgcolor\": \"#E5ECF6\", \"polar\": {\"angularaxis\": {\"gridcolor\": \"white\", \"linecolor\": \"white\", \"ticks\": \"\"}, \"bgcolor\": \"#E5ECF6\", \"radialaxis\": {\"gridcolor\": \"white\", \"linecolor\": \"white\", \"ticks\": \"\"}}, \"scene\": {\"xaxis\": {\"backgroundcolor\": \"#E5ECF6\", \"gridcolor\": \"white\", \"gridwidth\": 2, \"linecolor\": \"white\", \"showbackground\": true, \"ticks\": \"\", \"zerolinecolor\": \"white\"}, \"yaxis\": {\"backgroundcolor\": \"#E5ECF6\", \"gridcolor\": \"white\", \"gridwidth\": 2, \"linecolor\": \"white\", \"showbackground\": true, \"ticks\": \"\", \"zerolinecolor\": \"white\"}, \"zaxis\": {\"backgroundcolor\": \"#E5ECF6\", \"gridcolor\": \"white\", \"gridwidth\": 2, \"linecolor\": \"white\", \"showbackground\": true, \"ticks\": \"\", \"zerolinecolor\": \"white\"}}, \"shapedefaults\": {\"line\": {\"color\": \"#2a3f5f\"}}, \"ternary\": {\"aaxis\": {\"gridcolor\": \"white\", \"linecolor\": \"white\", \"ticks\": \"\"}, \"baxis\": {\"gridcolor\": \"white\", \"linecolor\": \"white\", \"ticks\": \"\"}, \"bgcolor\": \"#E5ECF6\", \"caxis\": {\"gridcolor\": \"white\", \"linecolor\": \"white\", \"ticks\": \"\"}}, \"title\": {\"x\": 0.05}, \"xaxis\": {\"automargin\": true, \"gridcolor\": \"white\", \"linecolor\": \"white\", \"ticks\": \"\", \"title\": {\"standoff\": 15}, \"zerolinecolor\": \"white\", \"zerolinewidth\": 2}, \"yaxis\": {\"automargin\": true, \"gridcolor\": \"white\", \"linecolor\": \"white\", \"ticks\": \"\", \"title\": {\"standoff\": 15}, \"zerolinecolor\": \"white\", \"zerolinewidth\": 2}}}, \"title\": {\"text\": \"Monthly mean consumption in MWh. Nordic and Baltic countries\", \"x\": 0.5, \"y\": 0.95}, \"xaxis\": {\"tickangle\": -45}, \"yaxis\": {\"title\": {\"text\": \"MWh\"}}},                        {\"responsive\": true}                    ).then(function(){\n",
       "                            \n",
       "var gd = document.getElementById('79ffc3c1-8c2d-4e99-b62f-30e076a96681');\n",
       "var x = new MutationObserver(function (mutations, observer) {{\n",
       "        var display = window.getComputedStyle(gd).display;\n",
       "        if (!display || display === 'none') {{\n",
       "            console.log([gd, 'removed!']);\n",
       "            Plotly.purge(gd);\n",
       "            observer.disconnect();\n",
       "        }}\n",
       "}});\n",
       "\n",
       "// Listen for the removal of the full notebook cells\n",
       "var notebookContainer = gd.closest('#notebook-container');\n",
       "if (notebookContainer) {{\n",
       "    x.observe(notebookContainer, {childList: true});\n",
       "}}\n",
       "\n",
       "// Listen for the clearing of the current output cell\n",
       "var outputEl = gd.closest('.output');\n",
       "if (outputEl) {{\n",
       "    x.observe(outputEl, {childList: true});\n",
       "}}\n",
       "\n",
       "                        })                };                });            </script>        </div>"
      ]
     },
     "metadata": {},
     "output_type": "display_data"
    }
   ],
   "source": [
    "fig = go.Figure()\n",
    "\n",
    "for j in range(2):\n",
    "    fig.add_trace(go.Bar(\n",
    "    x=months,\n",
    "    y=A[countries[j+7]],\n",
    "    text=A[countries[j+7]],\n",
    "    #textposition='outside',\n",
    "    name=countries[j+7],\n",
    "    marker_color=nordic_and_baltic_colors[j]))\n",
    "    \n",
    "    \n",
    "   \n",
    "fig.update_layout(barmode='group',\n",
    "                  title={\n",
    "                'text': \"Monthly mean consumption in MWh. Nordic and Baltic countries\",\n",
    "                'y':0.95,\n",
    "                'x':0.5},\n",
    "                  yaxis=dict(title='MWh'), \n",
    "                  \n",
    "                  xaxis_tickangle=-45)\n",
    "fig.show()"
   ]
  },
  {
   "cell_type": "code",
   "execution_count": null,
   "metadata": {},
   "outputs": [],
   "source": []
  },
  {
   "cell_type": "markdown",
   "metadata": {},
   "source": [
    "## Total yearly consumption"
   ]
  },
  {
   "cell_type": "code",
   "execution_count": 39,
   "metadata": {
    "ExecuteTime": {
     "end_time": "2020-12-10T08:44:05.460472Z",
     "start_time": "2020-12-10T08:44:05.226094Z"
    }
   },
   "outputs": [
    {
     "data": {
      "text/html": [
       "<div>\n",
       "<style scoped>\n",
       "    .dataframe tbody tr th:only-of-type {\n",
       "        vertical-align: middle;\n",
       "    }\n",
       "\n",
       "    .dataframe tbody tr th {\n",
       "        vertical-align: top;\n",
       "    }\n",
       "\n",
       "    .dataframe thead th {\n",
       "        text-align: right;\n",
       "    }\n",
       "</style>\n",
       "<table border=\"1\" class=\"dataframe\">\n",
       "  <thead>\n",
       "    <tr style=\"text-align: right;\">\n",
       "      <th></th>\n",
       "      <th>NO</th>\n",
       "      <th>SE</th>\n",
       "      <th>FI</th>\n",
       "      <th>DK</th>\n",
       "      <th>Nordic</th>\n",
       "      <th>EE</th>\n",
       "      <th>LV</th>\n",
       "      <th>LT</th>\n",
       "      <th>Baltic</th>\n",
       "      <th>Year</th>\n",
       "      <th>Month</th>\n",
       "    </tr>\n",
       "    <tr>\n",
       "      <th>Date</th>\n",
       "      <th></th>\n",
       "      <th></th>\n",
       "      <th></th>\n",
       "      <th></th>\n",
       "      <th></th>\n",
       "      <th></th>\n",
       "      <th></th>\n",
       "      <th></th>\n",
       "      <th></th>\n",
       "      <th></th>\n",
       "      <th></th>\n",
       "    </tr>\n",
       "  </thead>\n",
       "  <tbody>\n",
       "    <tr>\n",
       "      <th>2014-12-31</th>\n",
       "      <td>125875690</td>\n",
       "      <td>133809007</td>\n",
       "      <td>82514402</td>\n",
       "      <td>33504335</td>\n",
       "      <td>375685106</td>\n",
       "      <td>7889501</td>\n",
       "      <td>7172740</td>\n",
       "      <td>9651897</td>\n",
       "      <td>24714138</td>\n",
       "      <td>735110</td>\n",
       "      <td>2382</td>\n",
       "    </tr>\n",
       "    <tr>\n",
       "      <th>2015-12-31</th>\n",
       "      <td>128605318</td>\n",
       "      <td>134930317</td>\n",
       "      <td>81315464</td>\n",
       "      <td>32808126</td>\n",
       "      <td>377656960</td>\n",
       "      <td>7927881</td>\n",
       "      <td>7069438</td>\n",
       "      <td>9561246</td>\n",
       "      <td>24547124</td>\n",
       "      <td>735475</td>\n",
       "      <td>2382</td>\n",
       "    </tr>\n",
       "    <tr>\n",
       "      <th>2016-12-31</th>\n",
       "      <td>132333968</td>\n",
       "      <td>138199862</td>\n",
       "      <td>83948785</td>\n",
       "      <td>32283455</td>\n",
       "      <td>386293093</td>\n",
       "      <td>8178189</td>\n",
       "      <td>7207308</td>\n",
       "      <td>10132915</td>\n",
       "      <td>25498271</td>\n",
       "      <td>737856</td>\n",
       "      <td>2384</td>\n",
       "    </tr>\n",
       "    <tr>\n",
       "      <th>2017-12-31</th>\n",
       "      <td>132886291</td>\n",
       "      <td>138115777</td>\n",
       "      <td>83403366</td>\n",
       "      <td>32440139</td>\n",
       "      <td>384401638</td>\n",
       "      <td>8297733</td>\n",
       "      <td>7220405</td>\n",
       "      <td>10352219</td>\n",
       "      <td>25865737</td>\n",
       "      <td>736205</td>\n",
       "      <td>2382</td>\n",
       "    </tr>\n",
       "    <tr>\n",
       "      <th>2018-12-31</th>\n",
       "      <td>135428683</td>\n",
       "      <td>138199442</td>\n",
       "      <td>85780044</td>\n",
       "      <td>33569064</td>\n",
       "      <td>391955799</td>\n",
       "      <td>8428160</td>\n",
       "      <td>7344734</td>\n",
       "      <td>12150213</td>\n",
       "      <td>27917141</td>\n",
       "      <td>736570</td>\n",
       "      <td>2382</td>\n",
       "    </tr>\n",
       "    <tr>\n",
       "      <th>2019-12-31</th>\n",
       "      <td>133477214</td>\n",
       "      <td>136443237</td>\n",
       "      <td>83439919</td>\n",
       "      <td>33537335</td>\n",
       "      <td>385664194</td>\n",
       "      <td>8230923</td>\n",
       "      <td>7226367</td>\n",
       "      <td>12174254</td>\n",
       "      <td>27611162</td>\n",
       "      <td>736935</td>\n",
       "      <td>2382</td>\n",
       "    </tr>\n",
       "  </tbody>\n",
       "</table>\n",
       "</div>"
      ],
      "text/plain": [
       "                   NO         SE        FI        DK     Nordic       EE  \\\n",
       "Date                                                                       \n",
       "2014-12-31  125875690  133809007  82514402  33504335  375685106  7889501   \n",
       "2015-12-31  128605318  134930317  81315464  32808126  377656960  7927881   \n",
       "2016-12-31  132333968  138199862  83948785  32283455  386293093  8178189   \n",
       "2017-12-31  132886291  138115777  83403366  32440139  384401638  8297733   \n",
       "2018-12-31  135428683  138199442  85780044  33569064  391955799  8428160   \n",
       "2019-12-31  133477214  136443237  83439919  33537335  385664194  8230923   \n",
       "\n",
       "                 LV        LT    Baltic    Year  Month  \n",
       "Date                                                    \n",
       "2014-12-31  7172740   9651897  24714138  735110   2382  \n",
       "2015-12-31  7069438   9561246  24547124  735475   2382  \n",
       "2016-12-31  7207308  10132915  25498271  737856   2384  \n",
       "2017-12-31  7220405  10352219  25865737  736205   2382  \n",
       "2018-12-31  7344734  12150213  27917141  736570   2382  \n",
       "2019-12-31  7226367  12174254  27611162  736935   2382  "
      ]
     },
     "execution_count": 39,
     "metadata": {},
     "output_type": "execute_result"
    }
   ],
   "source": [
    "CYsum = CMD.resample(\"A\").sum()\n",
    "CYsum"
   ]
  },
  {
   "cell_type": "markdown",
   "metadata": {},
   "source": [
    "### Nordic countries "
   ]
  },
  {
   "cell_type": "code",
   "execution_count": 40,
   "metadata": {
    "ExecuteTime": {
     "end_time": "2020-12-10T08:44:05.679224Z",
     "start_time": "2020-12-10T08:44:05.460472Z"
    }
   },
   "outputs": [],
   "source": [
    "valuesNordic={}\n",
    "for vuosi in range(2014,2020):\n",
    "    a = CYsum.loc[str(vuosi),\"NO\":\"DK\"].values\n",
    "    a = a/1000\n",
    "    a = a.round(0).astype(int)\n",
    "    valuesNordic[vuosi] = a[0]\n",
    "#valuesNordic\n",
    "\n",
    "labelsN = [\"Norway\",\"Sweden\",\"Finland\", \"Denmark\"]"
   ]
  },
  {
   "cell_type": "code",
   "execution_count": null,
   "metadata": {},
   "outputs": [],
   "source": []
  },
  {
   "cell_type": "code",
   "execution_count": 41,
   "metadata": {
    "ExecuteTime": {
     "end_time": "2020-12-10T08:44:05.882334Z",
     "start_time": "2020-12-10T08:44:05.679224Z"
    }
   },
   "outputs": [],
   "source": [
    "def yearly_consumption_N(choice):\n",
    "    #valuesB = valuesBaltic[int(choice)]\n",
    "    valuesN = valuesNordic[int(choice)]\n",
    "    marker_colors=nordic_colors\n",
    "    \n",
    "    labels = [\"Norway\",\"Sweden\",\"Finland\", \"Denmark\"]\n",
    "\n",
    "    fig = go.Figure(data=[go.Pie(labels=labels, values=valuesN,\n",
    "                   textinfo='label+value+percent',\n",
    "                  marker_colors=nordic_colors\n",
    "                     )])\n",
    "  \n",
    "\n",
    "    fig.update_layout(showlegend=False,\n",
    "                    title={\n",
    "                'text': \"Yearly consumption (\"+choice+\", in GWh)\",\n",
    "                'y':0.98,\n",
    "                'x':0.5})\n",
    "\n",
    "    fig.show()"
   ]
  },
  {
   "cell_type": "code",
   "execution_count": 42,
   "metadata": {
    "ExecuteTime": {
     "end_time": "2020-12-10T08:44:06.194837Z",
     "start_time": "2020-12-10T08:44:05.882334Z"
    }
   },
   "outputs": [
    {
     "data": {
      "application/vnd.jupyter.widget-view+json": {
       "model_id": "e49ff3c2e9cb447995b784dde7f3cfa2",
       "version_major": 2,
       "version_minor": 0
      },
      "text/plain": [
       "interactive(children=(Dropdown(description='choice', options=('2014', '2015', '2016', '2017', '2018', '2019'),…"
      ]
     },
     "metadata": {},
     "output_type": "display_data"
    },
    {
     "data": {
      "text/plain": [
       "<function __main__.yearly_consumption_N(choice)>"
      ]
     },
     "execution_count": 42,
     "metadata": {},
     "output_type": "execute_result"
    }
   ],
   "source": [
    "interact(yearly_consumption_N,choice=[str(vuosi) for vuosi in range(2014,2020)])"
   ]
  },
  {
   "cell_type": "code",
   "execution_count": 43,
   "metadata": {
    "ExecuteTime": {
     "end_time": "2020-12-10T08:44:06.382339Z",
     "start_time": "2020-12-10T08:44:06.194837Z"
    }
   },
   "outputs": [
    {
     "data": {
      "application/vnd.plotly.v1+json": {
       "config": {
        "plotlyServerURL": "https://plot.ly"
       },
       "data": [
        {
         "marker": {
          "color": "red"
         },
         "name": "Norway",
         "type": "bar",
         "x": [
          2014,
          2015,
          2016,
          2017,
          2018,
          2019
         ],
         "y": [
          125876,
          128605,
          132334,
          132886,
          135429,
          133477
         ]
        },
        {
         "marker": {
          "color": "blue"
         },
         "name": "Sweden",
         "type": "bar",
         "x": [
          2014,
          2015,
          2016,
          2017,
          2018,
          2019
         ],
         "y": [
          133809,
          134930,
          138200,
          138116,
          138199,
          136443
         ]
        },
        {
         "marker": {
          "color": "yellow"
         },
         "name": "Finland",
         "type": "bar",
         "x": [
          2014,
          2015,
          2016,
          2017,
          2018,
          2019
         ],
         "y": [
          82514,
          81315,
          83949,
          83403,
          85780,
          83440
         ]
        },
        {
         "marker": {
          "color": "indianred"
         },
         "name": "Denmark",
         "type": "bar",
         "x": [
          2014,
          2015,
          2016,
          2017,
          2018,
          2019
         ],
         "y": [
          33504,
          32808,
          32283,
          32440,
          33569,
          33537
         ]
        }
       ],
       "layout": {
        "barmode": "stack",
        "template": {
         "data": {
          "bar": [
           {
            "error_x": {
             "color": "#2a3f5f"
            },
            "error_y": {
             "color": "#2a3f5f"
            },
            "marker": {
             "line": {
              "color": "#E5ECF6",
              "width": 0.5
             }
            },
            "type": "bar"
           }
          ],
          "barpolar": [
           {
            "marker": {
             "line": {
              "color": "#E5ECF6",
              "width": 0.5
             }
            },
            "type": "barpolar"
           }
          ],
          "carpet": [
           {
            "aaxis": {
             "endlinecolor": "#2a3f5f",
             "gridcolor": "white",
             "linecolor": "white",
             "minorgridcolor": "white",
             "startlinecolor": "#2a3f5f"
            },
            "baxis": {
             "endlinecolor": "#2a3f5f",
             "gridcolor": "white",
             "linecolor": "white",
             "minorgridcolor": "white",
             "startlinecolor": "#2a3f5f"
            },
            "type": "carpet"
           }
          ],
          "choropleth": [
           {
            "colorbar": {
             "outlinewidth": 0,
             "ticks": ""
            },
            "type": "choropleth"
           }
          ],
          "contour": [
           {
            "colorbar": {
             "outlinewidth": 0,
             "ticks": ""
            },
            "colorscale": [
             [
              0,
              "#0d0887"
             ],
             [
              0.1111111111111111,
              "#46039f"
             ],
             [
              0.2222222222222222,
              "#7201a8"
             ],
             [
              0.3333333333333333,
              "#9c179e"
             ],
             [
              0.4444444444444444,
              "#bd3786"
             ],
             [
              0.5555555555555556,
              "#d8576b"
             ],
             [
              0.6666666666666666,
              "#ed7953"
             ],
             [
              0.7777777777777778,
              "#fb9f3a"
             ],
             [
              0.8888888888888888,
              "#fdca26"
             ],
             [
              1,
              "#f0f921"
             ]
            ],
            "type": "contour"
           }
          ],
          "contourcarpet": [
           {
            "colorbar": {
             "outlinewidth": 0,
             "ticks": ""
            },
            "type": "contourcarpet"
           }
          ],
          "heatmap": [
           {
            "colorbar": {
             "outlinewidth": 0,
             "ticks": ""
            },
            "colorscale": [
             [
              0,
              "#0d0887"
             ],
             [
              0.1111111111111111,
              "#46039f"
             ],
             [
              0.2222222222222222,
              "#7201a8"
             ],
             [
              0.3333333333333333,
              "#9c179e"
             ],
             [
              0.4444444444444444,
              "#bd3786"
             ],
             [
              0.5555555555555556,
              "#d8576b"
             ],
             [
              0.6666666666666666,
              "#ed7953"
             ],
             [
              0.7777777777777778,
              "#fb9f3a"
             ],
             [
              0.8888888888888888,
              "#fdca26"
             ],
             [
              1,
              "#f0f921"
             ]
            ],
            "type": "heatmap"
           }
          ],
          "heatmapgl": [
           {
            "colorbar": {
             "outlinewidth": 0,
             "ticks": ""
            },
            "colorscale": [
             [
              0,
              "#0d0887"
             ],
             [
              0.1111111111111111,
              "#46039f"
             ],
             [
              0.2222222222222222,
              "#7201a8"
             ],
             [
              0.3333333333333333,
              "#9c179e"
             ],
             [
              0.4444444444444444,
              "#bd3786"
             ],
             [
              0.5555555555555556,
              "#d8576b"
             ],
             [
              0.6666666666666666,
              "#ed7953"
             ],
             [
              0.7777777777777778,
              "#fb9f3a"
             ],
             [
              0.8888888888888888,
              "#fdca26"
             ],
             [
              1,
              "#f0f921"
             ]
            ],
            "type": "heatmapgl"
           }
          ],
          "histogram": [
           {
            "marker": {
             "colorbar": {
              "outlinewidth": 0,
              "ticks": ""
             }
            },
            "type": "histogram"
           }
          ],
          "histogram2d": [
           {
            "colorbar": {
             "outlinewidth": 0,
             "ticks": ""
            },
            "colorscale": [
             [
              0,
              "#0d0887"
             ],
             [
              0.1111111111111111,
              "#46039f"
             ],
             [
              0.2222222222222222,
              "#7201a8"
             ],
             [
              0.3333333333333333,
              "#9c179e"
             ],
             [
              0.4444444444444444,
              "#bd3786"
             ],
             [
              0.5555555555555556,
              "#d8576b"
             ],
             [
              0.6666666666666666,
              "#ed7953"
             ],
             [
              0.7777777777777778,
              "#fb9f3a"
             ],
             [
              0.8888888888888888,
              "#fdca26"
             ],
             [
              1,
              "#f0f921"
             ]
            ],
            "type": "histogram2d"
           }
          ],
          "histogram2dcontour": [
           {
            "colorbar": {
             "outlinewidth": 0,
             "ticks": ""
            },
            "colorscale": [
             [
              0,
              "#0d0887"
             ],
             [
              0.1111111111111111,
              "#46039f"
             ],
             [
              0.2222222222222222,
              "#7201a8"
             ],
             [
              0.3333333333333333,
              "#9c179e"
             ],
             [
              0.4444444444444444,
              "#bd3786"
             ],
             [
              0.5555555555555556,
              "#d8576b"
             ],
             [
              0.6666666666666666,
              "#ed7953"
             ],
             [
              0.7777777777777778,
              "#fb9f3a"
             ],
             [
              0.8888888888888888,
              "#fdca26"
             ],
             [
              1,
              "#f0f921"
             ]
            ],
            "type": "histogram2dcontour"
           }
          ],
          "mesh3d": [
           {
            "colorbar": {
             "outlinewidth": 0,
             "ticks": ""
            },
            "type": "mesh3d"
           }
          ],
          "parcoords": [
           {
            "line": {
             "colorbar": {
              "outlinewidth": 0,
              "ticks": ""
             }
            },
            "type": "parcoords"
           }
          ],
          "pie": [
           {
            "automargin": true,
            "type": "pie"
           }
          ],
          "scatter": [
           {
            "marker": {
             "colorbar": {
              "outlinewidth": 0,
              "ticks": ""
             }
            },
            "type": "scatter"
           }
          ],
          "scatter3d": [
           {
            "line": {
             "colorbar": {
              "outlinewidth": 0,
              "ticks": ""
             }
            },
            "marker": {
             "colorbar": {
              "outlinewidth": 0,
              "ticks": ""
             }
            },
            "type": "scatter3d"
           }
          ],
          "scattercarpet": [
           {
            "marker": {
             "colorbar": {
              "outlinewidth": 0,
              "ticks": ""
             }
            },
            "type": "scattercarpet"
           }
          ],
          "scattergeo": [
           {
            "marker": {
             "colorbar": {
              "outlinewidth": 0,
              "ticks": ""
             }
            },
            "type": "scattergeo"
           }
          ],
          "scattergl": [
           {
            "marker": {
             "colorbar": {
              "outlinewidth": 0,
              "ticks": ""
             }
            },
            "type": "scattergl"
           }
          ],
          "scattermapbox": [
           {
            "marker": {
             "colorbar": {
              "outlinewidth": 0,
              "ticks": ""
             }
            },
            "type": "scattermapbox"
           }
          ],
          "scatterpolar": [
           {
            "marker": {
             "colorbar": {
              "outlinewidth": 0,
              "ticks": ""
             }
            },
            "type": "scatterpolar"
           }
          ],
          "scatterpolargl": [
           {
            "marker": {
             "colorbar": {
              "outlinewidth": 0,
              "ticks": ""
             }
            },
            "type": "scatterpolargl"
           }
          ],
          "scatterternary": [
           {
            "marker": {
             "colorbar": {
              "outlinewidth": 0,
              "ticks": ""
             }
            },
            "type": "scatterternary"
           }
          ],
          "surface": [
           {
            "colorbar": {
             "outlinewidth": 0,
             "ticks": ""
            },
            "colorscale": [
             [
              0,
              "#0d0887"
             ],
             [
              0.1111111111111111,
              "#46039f"
             ],
             [
              0.2222222222222222,
              "#7201a8"
             ],
             [
              0.3333333333333333,
              "#9c179e"
             ],
             [
              0.4444444444444444,
              "#bd3786"
             ],
             [
              0.5555555555555556,
              "#d8576b"
             ],
             [
              0.6666666666666666,
              "#ed7953"
             ],
             [
              0.7777777777777778,
              "#fb9f3a"
             ],
             [
              0.8888888888888888,
              "#fdca26"
             ],
             [
              1,
              "#f0f921"
             ]
            ],
            "type": "surface"
           }
          ],
          "table": [
           {
            "cells": {
             "fill": {
              "color": "#EBF0F8"
             },
             "line": {
              "color": "white"
             }
            },
            "header": {
             "fill": {
              "color": "#C8D4E3"
             },
             "line": {
              "color": "white"
             }
            },
            "type": "table"
           }
          ]
         },
         "layout": {
          "annotationdefaults": {
           "arrowcolor": "#2a3f5f",
           "arrowhead": 0,
           "arrowwidth": 1
          },
          "coloraxis": {
           "colorbar": {
            "outlinewidth": 0,
            "ticks": ""
           }
          },
          "colorscale": {
           "diverging": [
            [
             0,
             "#8e0152"
            ],
            [
             0.1,
             "#c51b7d"
            ],
            [
             0.2,
             "#de77ae"
            ],
            [
             0.3,
             "#f1b6da"
            ],
            [
             0.4,
             "#fde0ef"
            ],
            [
             0.5,
             "#f7f7f7"
            ],
            [
             0.6,
             "#e6f5d0"
            ],
            [
             0.7,
             "#b8e186"
            ],
            [
             0.8,
             "#7fbc41"
            ],
            [
             0.9,
             "#4d9221"
            ],
            [
             1,
             "#276419"
            ]
           ],
           "sequential": [
            [
             0,
             "#0d0887"
            ],
            [
             0.1111111111111111,
             "#46039f"
            ],
            [
             0.2222222222222222,
             "#7201a8"
            ],
            [
             0.3333333333333333,
             "#9c179e"
            ],
            [
             0.4444444444444444,
             "#bd3786"
            ],
            [
             0.5555555555555556,
             "#d8576b"
            ],
            [
             0.6666666666666666,
             "#ed7953"
            ],
            [
             0.7777777777777778,
             "#fb9f3a"
            ],
            [
             0.8888888888888888,
             "#fdca26"
            ],
            [
             1,
             "#f0f921"
            ]
           ],
           "sequentialminus": [
            [
             0,
             "#0d0887"
            ],
            [
             0.1111111111111111,
             "#46039f"
            ],
            [
             0.2222222222222222,
             "#7201a8"
            ],
            [
             0.3333333333333333,
             "#9c179e"
            ],
            [
             0.4444444444444444,
             "#bd3786"
            ],
            [
             0.5555555555555556,
             "#d8576b"
            ],
            [
             0.6666666666666666,
             "#ed7953"
            ],
            [
             0.7777777777777778,
             "#fb9f3a"
            ],
            [
             0.8888888888888888,
             "#fdca26"
            ],
            [
             1,
             "#f0f921"
            ]
           ]
          },
          "colorway": [
           "#636efa",
           "#EF553B",
           "#00cc96",
           "#ab63fa",
           "#FFA15A",
           "#19d3f3",
           "#FF6692",
           "#B6E880",
           "#FF97FF",
           "#FECB52"
          ],
          "font": {
           "color": "#2a3f5f"
          },
          "geo": {
           "bgcolor": "white",
           "lakecolor": "white",
           "landcolor": "#E5ECF6",
           "showlakes": true,
           "showland": true,
           "subunitcolor": "white"
          },
          "hoverlabel": {
           "align": "left"
          },
          "hovermode": "closest",
          "mapbox": {
           "style": "light"
          },
          "paper_bgcolor": "white",
          "plot_bgcolor": "#E5ECF6",
          "polar": {
           "angularaxis": {
            "gridcolor": "white",
            "linecolor": "white",
            "ticks": ""
           },
           "bgcolor": "#E5ECF6",
           "radialaxis": {
            "gridcolor": "white",
            "linecolor": "white",
            "ticks": ""
           }
          },
          "scene": {
           "xaxis": {
            "backgroundcolor": "#E5ECF6",
            "gridcolor": "white",
            "gridwidth": 2,
            "linecolor": "white",
            "showbackground": true,
            "ticks": "",
            "zerolinecolor": "white"
           },
           "yaxis": {
            "backgroundcolor": "#E5ECF6",
            "gridcolor": "white",
            "gridwidth": 2,
            "linecolor": "white",
            "showbackground": true,
            "ticks": "",
            "zerolinecolor": "white"
           },
           "zaxis": {
            "backgroundcolor": "#E5ECF6",
            "gridcolor": "white",
            "gridwidth": 2,
            "linecolor": "white",
            "showbackground": true,
            "ticks": "",
            "zerolinecolor": "white"
           }
          },
          "shapedefaults": {
           "line": {
            "color": "#2a3f5f"
           }
          },
          "ternary": {
           "aaxis": {
            "gridcolor": "white",
            "linecolor": "white",
            "ticks": ""
           },
           "baxis": {
            "gridcolor": "white",
            "linecolor": "white",
            "ticks": ""
           },
           "bgcolor": "#E5ECF6",
           "caxis": {
            "gridcolor": "white",
            "linecolor": "white",
            "ticks": ""
           }
          },
          "title": {
           "x": 0.05
          },
          "xaxis": {
           "automargin": true,
           "gridcolor": "white",
           "linecolor": "white",
           "ticks": "",
           "title": {
            "standoff": 15
           },
           "zerolinecolor": "white",
           "zerolinewidth": 2
          },
          "yaxis": {
           "automargin": true,
           "gridcolor": "white",
           "linecolor": "white",
           "ticks": "",
           "title": {
            "standoff": 15
           },
           "zerolinecolor": "white",
           "zerolinewidth": 2
          }
         }
        },
        "yaxis": {
         "title": {
          "text": "Consumption in GWh"
         }
        }
       }
      },
      "text/html": [
       "<div>                            <div id=\"8121bff3-e345-49af-9e34-bf36b39c490c\" class=\"plotly-graph-div\" style=\"height:525px; width:100%;\"></div>            <script type=\"text/javascript\">                require([\"plotly\"], function(Plotly) {                    window.PLOTLYENV=window.PLOTLYENV || {};                                    if (document.getElementById(\"8121bff3-e345-49af-9e34-bf36b39c490c\")) {                    Plotly.newPlot(                        \"8121bff3-e345-49af-9e34-bf36b39c490c\",                        [{\"marker\": {\"color\": \"red\"}, \"name\": \"Norway\", \"type\": \"bar\", \"x\": [2014, 2015, 2016, 2017, 2018, 2019], \"y\": [125876, 128605, 132334, 132886, 135429, 133477]}, {\"marker\": {\"color\": \"blue\"}, \"name\": \"Sweden\", \"type\": \"bar\", \"x\": [2014, 2015, 2016, 2017, 2018, 2019], \"y\": [133809, 134930, 138200, 138116, 138199, 136443]}, {\"marker\": {\"color\": \"yellow\"}, \"name\": \"Finland\", \"type\": \"bar\", \"x\": [2014, 2015, 2016, 2017, 2018, 2019], \"y\": [82514, 81315, 83949, 83403, 85780, 83440]}, {\"marker\": {\"color\": \"indianred\"}, \"name\": \"Denmark\", \"type\": \"bar\", \"x\": [2014, 2015, 2016, 2017, 2018, 2019], \"y\": [33504, 32808, 32283, 32440, 33569, 33537]}],                        {\"barmode\": \"stack\", \"template\": {\"data\": {\"bar\": [{\"error_x\": {\"color\": \"#2a3f5f\"}, \"error_y\": {\"color\": \"#2a3f5f\"}, \"marker\": {\"line\": {\"color\": \"#E5ECF6\", \"width\": 0.5}}, \"type\": \"bar\"}], \"barpolar\": [{\"marker\": {\"line\": {\"color\": \"#E5ECF6\", \"width\": 0.5}}, \"type\": \"barpolar\"}], \"carpet\": [{\"aaxis\": {\"endlinecolor\": \"#2a3f5f\", \"gridcolor\": \"white\", \"linecolor\": \"white\", \"minorgridcolor\": \"white\", \"startlinecolor\": \"#2a3f5f\"}, \"baxis\": {\"endlinecolor\": \"#2a3f5f\", \"gridcolor\": \"white\", \"linecolor\": \"white\", \"minorgridcolor\": \"white\", \"startlinecolor\": \"#2a3f5f\"}, \"type\": \"carpet\"}], \"choropleth\": [{\"colorbar\": {\"outlinewidth\": 0, \"ticks\": \"\"}, \"type\": \"choropleth\"}], \"contour\": [{\"colorbar\": {\"outlinewidth\": 0, \"ticks\": \"\"}, \"colorscale\": [[0.0, \"#0d0887\"], [0.1111111111111111, \"#46039f\"], [0.2222222222222222, \"#7201a8\"], [0.3333333333333333, \"#9c179e\"], [0.4444444444444444, \"#bd3786\"], [0.5555555555555556, \"#d8576b\"], [0.6666666666666666, \"#ed7953\"], [0.7777777777777778, \"#fb9f3a\"], [0.8888888888888888, \"#fdca26\"], [1.0, \"#f0f921\"]], \"type\": \"contour\"}], \"contourcarpet\": [{\"colorbar\": {\"outlinewidth\": 0, \"ticks\": \"\"}, \"type\": \"contourcarpet\"}], \"heatmap\": [{\"colorbar\": {\"outlinewidth\": 0, \"ticks\": \"\"}, \"colorscale\": [[0.0, \"#0d0887\"], [0.1111111111111111, \"#46039f\"], [0.2222222222222222, \"#7201a8\"], [0.3333333333333333, \"#9c179e\"], [0.4444444444444444, \"#bd3786\"], [0.5555555555555556, \"#d8576b\"], [0.6666666666666666, \"#ed7953\"], [0.7777777777777778, \"#fb9f3a\"], [0.8888888888888888, \"#fdca26\"], [1.0, \"#f0f921\"]], \"type\": \"heatmap\"}], \"heatmapgl\": [{\"colorbar\": {\"outlinewidth\": 0, \"ticks\": \"\"}, \"colorscale\": [[0.0, \"#0d0887\"], [0.1111111111111111, \"#46039f\"], [0.2222222222222222, \"#7201a8\"], [0.3333333333333333, \"#9c179e\"], [0.4444444444444444, \"#bd3786\"], [0.5555555555555556, \"#d8576b\"], [0.6666666666666666, \"#ed7953\"], [0.7777777777777778, \"#fb9f3a\"], [0.8888888888888888, \"#fdca26\"], [1.0, \"#f0f921\"]], \"type\": \"heatmapgl\"}], \"histogram\": [{\"marker\": {\"colorbar\": {\"outlinewidth\": 0, \"ticks\": \"\"}}, \"type\": \"histogram\"}], \"histogram2d\": [{\"colorbar\": {\"outlinewidth\": 0, \"ticks\": \"\"}, \"colorscale\": [[0.0, \"#0d0887\"], [0.1111111111111111, \"#46039f\"], [0.2222222222222222, \"#7201a8\"], [0.3333333333333333, \"#9c179e\"], [0.4444444444444444, \"#bd3786\"], [0.5555555555555556, \"#d8576b\"], [0.6666666666666666, \"#ed7953\"], [0.7777777777777778, \"#fb9f3a\"], [0.8888888888888888, \"#fdca26\"], [1.0, \"#f0f921\"]], \"type\": \"histogram2d\"}], \"histogram2dcontour\": [{\"colorbar\": {\"outlinewidth\": 0, \"ticks\": \"\"}, \"colorscale\": [[0.0, \"#0d0887\"], [0.1111111111111111, \"#46039f\"], [0.2222222222222222, \"#7201a8\"], [0.3333333333333333, \"#9c179e\"], [0.4444444444444444, \"#bd3786\"], [0.5555555555555556, \"#d8576b\"], [0.6666666666666666, \"#ed7953\"], [0.7777777777777778, \"#fb9f3a\"], [0.8888888888888888, \"#fdca26\"], [1.0, \"#f0f921\"]], \"type\": \"histogram2dcontour\"}], \"mesh3d\": [{\"colorbar\": {\"outlinewidth\": 0, \"ticks\": \"\"}, \"type\": \"mesh3d\"}], \"parcoords\": [{\"line\": {\"colorbar\": {\"outlinewidth\": 0, \"ticks\": \"\"}}, \"type\": \"parcoords\"}], \"pie\": [{\"automargin\": true, \"type\": \"pie\"}], \"scatter\": [{\"marker\": {\"colorbar\": {\"outlinewidth\": 0, \"ticks\": \"\"}}, \"type\": \"scatter\"}], \"scatter3d\": [{\"line\": {\"colorbar\": {\"outlinewidth\": 0, \"ticks\": \"\"}}, \"marker\": {\"colorbar\": {\"outlinewidth\": 0, \"ticks\": \"\"}}, \"type\": \"scatter3d\"}], \"scattercarpet\": [{\"marker\": {\"colorbar\": {\"outlinewidth\": 0, \"ticks\": \"\"}}, \"type\": \"scattercarpet\"}], \"scattergeo\": [{\"marker\": {\"colorbar\": {\"outlinewidth\": 0, \"ticks\": \"\"}}, \"type\": \"scattergeo\"}], \"scattergl\": [{\"marker\": {\"colorbar\": {\"outlinewidth\": 0, \"ticks\": \"\"}}, \"type\": \"scattergl\"}], \"scattermapbox\": [{\"marker\": {\"colorbar\": {\"outlinewidth\": 0, \"ticks\": \"\"}}, \"type\": \"scattermapbox\"}], \"scatterpolar\": [{\"marker\": {\"colorbar\": {\"outlinewidth\": 0, \"ticks\": \"\"}}, \"type\": \"scatterpolar\"}], \"scatterpolargl\": [{\"marker\": {\"colorbar\": {\"outlinewidth\": 0, \"ticks\": \"\"}}, \"type\": \"scatterpolargl\"}], \"scatterternary\": [{\"marker\": {\"colorbar\": {\"outlinewidth\": 0, \"ticks\": \"\"}}, \"type\": \"scatterternary\"}], \"surface\": [{\"colorbar\": {\"outlinewidth\": 0, \"ticks\": \"\"}, \"colorscale\": [[0.0, \"#0d0887\"], [0.1111111111111111, \"#46039f\"], [0.2222222222222222, \"#7201a8\"], [0.3333333333333333, \"#9c179e\"], [0.4444444444444444, \"#bd3786\"], [0.5555555555555556, \"#d8576b\"], [0.6666666666666666, \"#ed7953\"], [0.7777777777777778, \"#fb9f3a\"], [0.8888888888888888, \"#fdca26\"], [1.0, \"#f0f921\"]], \"type\": \"surface\"}], \"table\": [{\"cells\": {\"fill\": {\"color\": \"#EBF0F8\"}, \"line\": {\"color\": \"white\"}}, \"header\": {\"fill\": {\"color\": \"#C8D4E3\"}, \"line\": {\"color\": \"white\"}}, \"type\": \"table\"}]}, \"layout\": {\"annotationdefaults\": {\"arrowcolor\": \"#2a3f5f\", \"arrowhead\": 0, \"arrowwidth\": 1}, \"coloraxis\": {\"colorbar\": {\"outlinewidth\": 0, \"ticks\": \"\"}}, \"colorscale\": {\"diverging\": [[0, \"#8e0152\"], [0.1, \"#c51b7d\"], [0.2, \"#de77ae\"], [0.3, \"#f1b6da\"], [0.4, \"#fde0ef\"], [0.5, \"#f7f7f7\"], [0.6, \"#e6f5d0\"], [0.7, \"#b8e186\"], [0.8, \"#7fbc41\"], [0.9, \"#4d9221\"], [1, \"#276419\"]], \"sequential\": [[0.0, \"#0d0887\"], [0.1111111111111111, \"#46039f\"], [0.2222222222222222, \"#7201a8\"], [0.3333333333333333, \"#9c179e\"], [0.4444444444444444, \"#bd3786\"], [0.5555555555555556, \"#d8576b\"], [0.6666666666666666, \"#ed7953\"], [0.7777777777777778, \"#fb9f3a\"], [0.8888888888888888, \"#fdca26\"], [1.0, \"#f0f921\"]], \"sequentialminus\": [[0.0, \"#0d0887\"], [0.1111111111111111, \"#46039f\"], [0.2222222222222222, \"#7201a8\"], [0.3333333333333333, \"#9c179e\"], [0.4444444444444444, \"#bd3786\"], [0.5555555555555556, \"#d8576b\"], [0.6666666666666666, \"#ed7953\"], [0.7777777777777778, \"#fb9f3a\"], [0.8888888888888888, \"#fdca26\"], [1.0, \"#f0f921\"]]}, \"colorway\": [\"#636efa\", \"#EF553B\", \"#00cc96\", \"#ab63fa\", \"#FFA15A\", \"#19d3f3\", \"#FF6692\", \"#B6E880\", \"#FF97FF\", \"#FECB52\"], \"font\": {\"color\": \"#2a3f5f\"}, \"geo\": {\"bgcolor\": \"white\", \"lakecolor\": \"white\", \"landcolor\": \"#E5ECF6\", \"showlakes\": true, \"showland\": true, \"subunitcolor\": \"white\"}, \"hoverlabel\": {\"align\": \"left\"}, \"hovermode\": \"closest\", \"mapbox\": {\"style\": \"light\"}, \"paper_bgcolor\": \"white\", \"plot_bgcolor\": \"#E5ECF6\", \"polar\": {\"angularaxis\": {\"gridcolor\": \"white\", \"linecolor\": \"white\", \"ticks\": \"\"}, \"bgcolor\": \"#E5ECF6\", \"radialaxis\": {\"gridcolor\": \"white\", \"linecolor\": \"white\", \"ticks\": \"\"}}, \"scene\": {\"xaxis\": {\"backgroundcolor\": \"#E5ECF6\", \"gridcolor\": \"white\", \"gridwidth\": 2, \"linecolor\": \"white\", \"showbackground\": true, \"ticks\": \"\", \"zerolinecolor\": \"white\"}, \"yaxis\": {\"backgroundcolor\": \"#E5ECF6\", \"gridcolor\": \"white\", \"gridwidth\": 2, \"linecolor\": \"white\", \"showbackground\": true, \"ticks\": \"\", \"zerolinecolor\": \"white\"}, \"zaxis\": {\"backgroundcolor\": \"#E5ECF6\", \"gridcolor\": \"white\", \"gridwidth\": 2, \"linecolor\": \"white\", \"showbackground\": true, \"ticks\": \"\", \"zerolinecolor\": \"white\"}}, \"shapedefaults\": {\"line\": {\"color\": \"#2a3f5f\"}}, \"ternary\": {\"aaxis\": {\"gridcolor\": \"white\", \"linecolor\": \"white\", \"ticks\": \"\"}, \"baxis\": {\"gridcolor\": \"white\", \"linecolor\": \"white\", \"ticks\": \"\"}, \"bgcolor\": \"#E5ECF6\", \"caxis\": {\"gridcolor\": \"white\", \"linecolor\": \"white\", \"ticks\": \"\"}}, \"title\": {\"x\": 0.05}, \"xaxis\": {\"automargin\": true, \"gridcolor\": \"white\", \"linecolor\": \"white\", \"ticks\": \"\", \"title\": {\"standoff\": 15}, \"zerolinecolor\": \"white\", \"zerolinewidth\": 2}, \"yaxis\": {\"automargin\": true, \"gridcolor\": \"white\", \"linecolor\": \"white\", \"ticks\": \"\", \"title\": {\"standoff\": 15}, \"zerolinecolor\": \"white\", \"zerolinewidth\": 2}}}, \"yaxis\": {\"title\": {\"text\": \"Consumption in GWh\"}}},                        {\"responsive\": true}                    ).then(function(){\n",
       "                            \n",
       "var gd = document.getElementById('8121bff3-e345-49af-9e34-bf36b39c490c');\n",
       "var x = new MutationObserver(function (mutations, observer) {{\n",
       "        var display = window.getComputedStyle(gd).display;\n",
       "        if (!display || display === 'none') {{\n",
       "            console.log([gd, 'removed!']);\n",
       "            Plotly.purge(gd);\n",
       "            observer.disconnect();\n",
       "        }}\n",
       "}});\n",
       "\n",
       "// Listen for the removal of the full notebook cells\n",
       "var notebookContainer = gd.closest('#notebook-container');\n",
       "if (notebookContainer) {{\n",
       "    x.observe(notebookContainer, {childList: true});\n",
       "}}\n",
       "\n",
       "// Listen for the clearing of the current output cell\n",
       "var outputEl = gd.closest('.output');\n",
       "if (outputEl) {{\n",
       "    x.observe(outputEl, {childList: true});\n",
       "}}\n",
       "\n",
       "                        })                };                });            </script>        </div>"
      ]
     },
     "metadata": {},
     "output_type": "display_data"
    }
   ],
   "source": [
    "fig = go.Figure(data=[\n",
    "    go.Bar(name='Norway', x=years, y=((CYsum[\"NO\"].values)/1000).round(0).astype(int),\n",
    "    marker_color='red'),\n",
    "    go.Bar(name='Sweden', x=years, y=((CYsum[\"SE\"].values)/1000).round(0).astype(int),\n",
    "          marker_color='blue'),\n",
    "    go.Bar(name='Finland', x=years, y=((CYsum[\"FI\"].values)/1000).round(0).astype(int),\n",
    "          marker_color='yellow'),\n",
    "    go.Bar(name='Denmark', x=years, y=((CYsum[\"DK\"].values)/1000).round(0).astype(int),\n",
    "          marker_color='indianred'),\n",
    "])\n",
    "\n",
    "fig.update_layout(barmode='stack',\n",
    "                 yaxis=dict(\n",
    "        title='Consumption in GWh'))\n",
    "fig.show()"
   ]
  },
  {
   "cell_type": "markdown",
   "metadata": {},
   "source": [
    "### Baltic countries"
   ]
  },
  {
   "cell_type": "code",
   "execution_count": 44,
   "metadata": {
    "ExecuteTime": {
     "end_time": "2020-12-10T08:44:06.632342Z",
     "start_time": "2020-12-10T08:44:06.382339Z"
    }
   },
   "outputs": [],
   "source": [
    "valuesBaltic={}\n",
    "for vuosi in range(2014,2020):\n",
    "    a = CYsum.loc[str(vuosi),\"EE\":\"LT\"].values\n",
    "    a = a/1000\n",
    "    a = a.round(0).astype(int)\n",
    "    valuesBaltic[vuosi] = a[0]\n",
    "#valuesBaltic\n",
    "\n",
    "labelsB = [\"Estonia\",\"Latvia\",\"Lithuania\"]\n",
    "#baltic_colors = [\"blue\", \"red\", \"green\"]"
   ]
  },
  {
   "cell_type": "code",
   "execution_count": 45,
   "metadata": {
    "ExecuteTime": {
     "end_time": "2020-12-10T08:44:06.835491Z",
     "start_time": "2020-12-10T08:44:06.632342Z"
    }
   },
   "outputs": [],
   "source": [
    "def yearly_consumption_B(choice):\n",
    "    valuesB = valuesBaltic[int(choice)]\n",
    "\n",
    "    marker_colors=baltic_colors\n",
    "    \n",
    "    labels = [\"Estonia\",\"Latvia\",\"Lithuania\"]\n",
    "\n",
    "    fig = go.Figure(data=[go.Pie(labels=labels, values=valuesB,\n",
    "                   textinfo='label+value+percent',\n",
    "                  marker_colors=marker_colors\n",
    "                     )])\n",
    "  \n",
    "\n",
    "    fig.update_layout(showlegend=False,\n",
    "                    title={\n",
    "                'text': \"Yearly consumption (\"+choice+\", in GWh)\",\n",
    "                'y':0.98,\n",
    "                'x':0.5})\n",
    "\n",
    "    fig.show()"
   ]
  },
  {
   "cell_type": "code",
   "execution_count": 46,
   "metadata": {
    "ExecuteTime": {
     "end_time": "2020-12-10T08:44:07.179226Z",
     "start_time": "2020-12-10T08:44:06.835491Z"
    }
   },
   "outputs": [
    {
     "data": {
      "application/vnd.jupyter.widget-view+json": {
       "model_id": "0ee628087ff045f2b08253ce4a486663",
       "version_major": 2,
       "version_minor": 0
      },
      "text/plain": [
       "interactive(children=(Dropdown(description='choice', options=('2014', '2015', '2016', '2017', '2018', '2019'),…"
      ]
     },
     "metadata": {},
     "output_type": "display_data"
    },
    {
     "data": {
      "text/plain": [
       "<function __main__.yearly_consumption_B(choice)>"
      ]
     },
     "execution_count": 46,
     "metadata": {},
     "output_type": "execute_result"
    }
   ],
   "source": [
    "interact(yearly_consumption_B,choice=[str(vuosi) for vuosi in range(2014,2020)])"
   ]
  },
  {
   "cell_type": "code",
   "execution_count": 47,
   "metadata": {
    "ExecuteTime": {
     "end_time": "2020-12-10T08:44:07.429230Z",
     "start_time": "2020-12-10T08:44:07.179226Z"
    }
   },
   "outputs": [
    {
     "data": {
      "application/vnd.plotly.v1+json": {
       "config": {
        "plotlyServerURL": "https://plot.ly"
       },
       "data": [
        {
         "marker": {
          "color": "navy"
         },
         "name": "Estonia",
         "type": "bar",
         "x": [
          2014,
          2015,
          2016,
          2017,
          2018,
          2019
         ],
         "y": [
          7890,
          7928,
          8178,
          8298,
          8428,
          8231
         ]
        },
        {
         "marker": {
          "color": "red"
         },
         "name": "Latvia",
         "type": "bar",
         "x": [
          2014,
          2015,
          2016,
          2017,
          2018,
          2019
         ],
         "y": [
          7173,
          7069,
          7207,
          7220,
          7345,
          7226
         ]
        },
        {
         "marker": {
          "color": "green"
         },
         "name": "Lithuania",
         "type": "bar",
         "x": [
          2014,
          2015,
          2016,
          2017,
          2018,
          2019
         ],
         "y": [
          9652,
          9561,
          10133,
          10352,
          12150,
          12174
         ]
        }
       ],
       "layout": {
        "barmode": "stack",
        "template": {
         "data": {
          "bar": [
           {
            "error_x": {
             "color": "#2a3f5f"
            },
            "error_y": {
             "color": "#2a3f5f"
            },
            "marker": {
             "line": {
              "color": "#E5ECF6",
              "width": 0.5
             }
            },
            "type": "bar"
           }
          ],
          "barpolar": [
           {
            "marker": {
             "line": {
              "color": "#E5ECF6",
              "width": 0.5
             }
            },
            "type": "barpolar"
           }
          ],
          "carpet": [
           {
            "aaxis": {
             "endlinecolor": "#2a3f5f",
             "gridcolor": "white",
             "linecolor": "white",
             "minorgridcolor": "white",
             "startlinecolor": "#2a3f5f"
            },
            "baxis": {
             "endlinecolor": "#2a3f5f",
             "gridcolor": "white",
             "linecolor": "white",
             "minorgridcolor": "white",
             "startlinecolor": "#2a3f5f"
            },
            "type": "carpet"
           }
          ],
          "choropleth": [
           {
            "colorbar": {
             "outlinewidth": 0,
             "ticks": ""
            },
            "type": "choropleth"
           }
          ],
          "contour": [
           {
            "colorbar": {
             "outlinewidth": 0,
             "ticks": ""
            },
            "colorscale": [
             [
              0,
              "#0d0887"
             ],
             [
              0.1111111111111111,
              "#46039f"
             ],
             [
              0.2222222222222222,
              "#7201a8"
             ],
             [
              0.3333333333333333,
              "#9c179e"
             ],
             [
              0.4444444444444444,
              "#bd3786"
             ],
             [
              0.5555555555555556,
              "#d8576b"
             ],
             [
              0.6666666666666666,
              "#ed7953"
             ],
             [
              0.7777777777777778,
              "#fb9f3a"
             ],
             [
              0.8888888888888888,
              "#fdca26"
             ],
             [
              1,
              "#f0f921"
             ]
            ],
            "type": "contour"
           }
          ],
          "contourcarpet": [
           {
            "colorbar": {
             "outlinewidth": 0,
             "ticks": ""
            },
            "type": "contourcarpet"
           }
          ],
          "heatmap": [
           {
            "colorbar": {
             "outlinewidth": 0,
             "ticks": ""
            },
            "colorscale": [
             [
              0,
              "#0d0887"
             ],
             [
              0.1111111111111111,
              "#46039f"
             ],
             [
              0.2222222222222222,
              "#7201a8"
             ],
             [
              0.3333333333333333,
              "#9c179e"
             ],
             [
              0.4444444444444444,
              "#bd3786"
             ],
             [
              0.5555555555555556,
              "#d8576b"
             ],
             [
              0.6666666666666666,
              "#ed7953"
             ],
             [
              0.7777777777777778,
              "#fb9f3a"
             ],
             [
              0.8888888888888888,
              "#fdca26"
             ],
             [
              1,
              "#f0f921"
             ]
            ],
            "type": "heatmap"
           }
          ],
          "heatmapgl": [
           {
            "colorbar": {
             "outlinewidth": 0,
             "ticks": ""
            },
            "colorscale": [
             [
              0,
              "#0d0887"
             ],
             [
              0.1111111111111111,
              "#46039f"
             ],
             [
              0.2222222222222222,
              "#7201a8"
             ],
             [
              0.3333333333333333,
              "#9c179e"
             ],
             [
              0.4444444444444444,
              "#bd3786"
             ],
             [
              0.5555555555555556,
              "#d8576b"
             ],
             [
              0.6666666666666666,
              "#ed7953"
             ],
             [
              0.7777777777777778,
              "#fb9f3a"
             ],
             [
              0.8888888888888888,
              "#fdca26"
             ],
             [
              1,
              "#f0f921"
             ]
            ],
            "type": "heatmapgl"
           }
          ],
          "histogram": [
           {
            "marker": {
             "colorbar": {
              "outlinewidth": 0,
              "ticks": ""
             }
            },
            "type": "histogram"
           }
          ],
          "histogram2d": [
           {
            "colorbar": {
             "outlinewidth": 0,
             "ticks": ""
            },
            "colorscale": [
             [
              0,
              "#0d0887"
             ],
             [
              0.1111111111111111,
              "#46039f"
             ],
             [
              0.2222222222222222,
              "#7201a8"
             ],
             [
              0.3333333333333333,
              "#9c179e"
             ],
             [
              0.4444444444444444,
              "#bd3786"
             ],
             [
              0.5555555555555556,
              "#d8576b"
             ],
             [
              0.6666666666666666,
              "#ed7953"
             ],
             [
              0.7777777777777778,
              "#fb9f3a"
             ],
             [
              0.8888888888888888,
              "#fdca26"
             ],
             [
              1,
              "#f0f921"
             ]
            ],
            "type": "histogram2d"
           }
          ],
          "histogram2dcontour": [
           {
            "colorbar": {
             "outlinewidth": 0,
             "ticks": ""
            },
            "colorscale": [
             [
              0,
              "#0d0887"
             ],
             [
              0.1111111111111111,
              "#46039f"
             ],
             [
              0.2222222222222222,
              "#7201a8"
             ],
             [
              0.3333333333333333,
              "#9c179e"
             ],
             [
              0.4444444444444444,
              "#bd3786"
             ],
             [
              0.5555555555555556,
              "#d8576b"
             ],
             [
              0.6666666666666666,
              "#ed7953"
             ],
             [
              0.7777777777777778,
              "#fb9f3a"
             ],
             [
              0.8888888888888888,
              "#fdca26"
             ],
             [
              1,
              "#f0f921"
             ]
            ],
            "type": "histogram2dcontour"
           }
          ],
          "mesh3d": [
           {
            "colorbar": {
             "outlinewidth": 0,
             "ticks": ""
            },
            "type": "mesh3d"
           }
          ],
          "parcoords": [
           {
            "line": {
             "colorbar": {
              "outlinewidth": 0,
              "ticks": ""
             }
            },
            "type": "parcoords"
           }
          ],
          "pie": [
           {
            "automargin": true,
            "type": "pie"
           }
          ],
          "scatter": [
           {
            "marker": {
             "colorbar": {
              "outlinewidth": 0,
              "ticks": ""
             }
            },
            "type": "scatter"
           }
          ],
          "scatter3d": [
           {
            "line": {
             "colorbar": {
              "outlinewidth": 0,
              "ticks": ""
             }
            },
            "marker": {
             "colorbar": {
              "outlinewidth": 0,
              "ticks": ""
             }
            },
            "type": "scatter3d"
           }
          ],
          "scattercarpet": [
           {
            "marker": {
             "colorbar": {
              "outlinewidth": 0,
              "ticks": ""
             }
            },
            "type": "scattercarpet"
           }
          ],
          "scattergeo": [
           {
            "marker": {
             "colorbar": {
              "outlinewidth": 0,
              "ticks": ""
             }
            },
            "type": "scattergeo"
           }
          ],
          "scattergl": [
           {
            "marker": {
             "colorbar": {
              "outlinewidth": 0,
              "ticks": ""
             }
            },
            "type": "scattergl"
           }
          ],
          "scattermapbox": [
           {
            "marker": {
             "colorbar": {
              "outlinewidth": 0,
              "ticks": ""
             }
            },
            "type": "scattermapbox"
           }
          ],
          "scatterpolar": [
           {
            "marker": {
             "colorbar": {
              "outlinewidth": 0,
              "ticks": ""
             }
            },
            "type": "scatterpolar"
           }
          ],
          "scatterpolargl": [
           {
            "marker": {
             "colorbar": {
              "outlinewidth": 0,
              "ticks": ""
             }
            },
            "type": "scatterpolargl"
           }
          ],
          "scatterternary": [
           {
            "marker": {
             "colorbar": {
              "outlinewidth": 0,
              "ticks": ""
             }
            },
            "type": "scatterternary"
           }
          ],
          "surface": [
           {
            "colorbar": {
             "outlinewidth": 0,
             "ticks": ""
            },
            "colorscale": [
             [
              0,
              "#0d0887"
             ],
             [
              0.1111111111111111,
              "#46039f"
             ],
             [
              0.2222222222222222,
              "#7201a8"
             ],
             [
              0.3333333333333333,
              "#9c179e"
             ],
             [
              0.4444444444444444,
              "#bd3786"
             ],
             [
              0.5555555555555556,
              "#d8576b"
             ],
             [
              0.6666666666666666,
              "#ed7953"
             ],
             [
              0.7777777777777778,
              "#fb9f3a"
             ],
             [
              0.8888888888888888,
              "#fdca26"
             ],
             [
              1,
              "#f0f921"
             ]
            ],
            "type": "surface"
           }
          ],
          "table": [
           {
            "cells": {
             "fill": {
              "color": "#EBF0F8"
             },
             "line": {
              "color": "white"
             }
            },
            "header": {
             "fill": {
              "color": "#C8D4E3"
             },
             "line": {
              "color": "white"
             }
            },
            "type": "table"
           }
          ]
         },
         "layout": {
          "annotationdefaults": {
           "arrowcolor": "#2a3f5f",
           "arrowhead": 0,
           "arrowwidth": 1
          },
          "coloraxis": {
           "colorbar": {
            "outlinewidth": 0,
            "ticks": ""
           }
          },
          "colorscale": {
           "diverging": [
            [
             0,
             "#8e0152"
            ],
            [
             0.1,
             "#c51b7d"
            ],
            [
             0.2,
             "#de77ae"
            ],
            [
             0.3,
             "#f1b6da"
            ],
            [
             0.4,
             "#fde0ef"
            ],
            [
             0.5,
             "#f7f7f7"
            ],
            [
             0.6,
             "#e6f5d0"
            ],
            [
             0.7,
             "#b8e186"
            ],
            [
             0.8,
             "#7fbc41"
            ],
            [
             0.9,
             "#4d9221"
            ],
            [
             1,
             "#276419"
            ]
           ],
           "sequential": [
            [
             0,
             "#0d0887"
            ],
            [
             0.1111111111111111,
             "#46039f"
            ],
            [
             0.2222222222222222,
             "#7201a8"
            ],
            [
             0.3333333333333333,
             "#9c179e"
            ],
            [
             0.4444444444444444,
             "#bd3786"
            ],
            [
             0.5555555555555556,
             "#d8576b"
            ],
            [
             0.6666666666666666,
             "#ed7953"
            ],
            [
             0.7777777777777778,
             "#fb9f3a"
            ],
            [
             0.8888888888888888,
             "#fdca26"
            ],
            [
             1,
             "#f0f921"
            ]
           ],
           "sequentialminus": [
            [
             0,
             "#0d0887"
            ],
            [
             0.1111111111111111,
             "#46039f"
            ],
            [
             0.2222222222222222,
             "#7201a8"
            ],
            [
             0.3333333333333333,
             "#9c179e"
            ],
            [
             0.4444444444444444,
             "#bd3786"
            ],
            [
             0.5555555555555556,
             "#d8576b"
            ],
            [
             0.6666666666666666,
             "#ed7953"
            ],
            [
             0.7777777777777778,
             "#fb9f3a"
            ],
            [
             0.8888888888888888,
             "#fdca26"
            ],
            [
             1,
             "#f0f921"
            ]
           ]
          },
          "colorway": [
           "#636efa",
           "#EF553B",
           "#00cc96",
           "#ab63fa",
           "#FFA15A",
           "#19d3f3",
           "#FF6692",
           "#B6E880",
           "#FF97FF",
           "#FECB52"
          ],
          "font": {
           "color": "#2a3f5f"
          },
          "geo": {
           "bgcolor": "white",
           "lakecolor": "white",
           "landcolor": "#E5ECF6",
           "showlakes": true,
           "showland": true,
           "subunitcolor": "white"
          },
          "hoverlabel": {
           "align": "left"
          },
          "hovermode": "closest",
          "mapbox": {
           "style": "light"
          },
          "paper_bgcolor": "white",
          "plot_bgcolor": "#E5ECF6",
          "polar": {
           "angularaxis": {
            "gridcolor": "white",
            "linecolor": "white",
            "ticks": ""
           },
           "bgcolor": "#E5ECF6",
           "radialaxis": {
            "gridcolor": "white",
            "linecolor": "white",
            "ticks": ""
           }
          },
          "scene": {
           "xaxis": {
            "backgroundcolor": "#E5ECF6",
            "gridcolor": "white",
            "gridwidth": 2,
            "linecolor": "white",
            "showbackground": true,
            "ticks": "",
            "zerolinecolor": "white"
           },
           "yaxis": {
            "backgroundcolor": "#E5ECF6",
            "gridcolor": "white",
            "gridwidth": 2,
            "linecolor": "white",
            "showbackground": true,
            "ticks": "",
            "zerolinecolor": "white"
           },
           "zaxis": {
            "backgroundcolor": "#E5ECF6",
            "gridcolor": "white",
            "gridwidth": 2,
            "linecolor": "white",
            "showbackground": true,
            "ticks": "",
            "zerolinecolor": "white"
           }
          },
          "shapedefaults": {
           "line": {
            "color": "#2a3f5f"
           }
          },
          "ternary": {
           "aaxis": {
            "gridcolor": "white",
            "linecolor": "white",
            "ticks": ""
           },
           "baxis": {
            "gridcolor": "white",
            "linecolor": "white",
            "ticks": ""
           },
           "bgcolor": "#E5ECF6",
           "caxis": {
            "gridcolor": "white",
            "linecolor": "white",
            "ticks": ""
           }
          },
          "title": {
           "x": 0.05
          },
          "xaxis": {
           "automargin": true,
           "gridcolor": "white",
           "linecolor": "white",
           "ticks": "",
           "title": {
            "standoff": 15
           },
           "zerolinecolor": "white",
           "zerolinewidth": 2
          },
          "yaxis": {
           "automargin": true,
           "gridcolor": "white",
           "linecolor": "white",
           "ticks": "",
           "title": {
            "standoff": 15
           },
           "zerolinecolor": "white",
           "zerolinewidth": 2
          }
         }
        },
        "yaxis": {
         "title": {
          "text": "Consumption in GWh"
         }
        }
       }
      },
      "text/html": [
       "<div>                            <div id=\"40c3eef2-83b8-4025-b4c9-9129f02d2361\" class=\"plotly-graph-div\" style=\"height:525px; width:100%;\"></div>            <script type=\"text/javascript\">                require([\"plotly\"], function(Plotly) {                    window.PLOTLYENV=window.PLOTLYENV || {};                                    if (document.getElementById(\"40c3eef2-83b8-4025-b4c9-9129f02d2361\")) {                    Plotly.newPlot(                        \"40c3eef2-83b8-4025-b4c9-9129f02d2361\",                        [{\"marker\": {\"color\": \"navy\"}, \"name\": \"Estonia\", \"type\": \"bar\", \"x\": [2014, 2015, 2016, 2017, 2018, 2019], \"y\": [7890, 7928, 8178, 8298, 8428, 8231]}, {\"marker\": {\"color\": \"red\"}, \"name\": \"Latvia\", \"type\": \"bar\", \"x\": [2014, 2015, 2016, 2017, 2018, 2019], \"y\": [7173, 7069, 7207, 7220, 7345, 7226]}, {\"marker\": {\"color\": \"green\"}, \"name\": \"Lithuania\", \"type\": \"bar\", \"x\": [2014, 2015, 2016, 2017, 2018, 2019], \"y\": [9652, 9561, 10133, 10352, 12150, 12174]}],                        {\"barmode\": \"stack\", \"template\": {\"data\": {\"bar\": [{\"error_x\": {\"color\": \"#2a3f5f\"}, \"error_y\": {\"color\": \"#2a3f5f\"}, \"marker\": {\"line\": {\"color\": \"#E5ECF6\", \"width\": 0.5}}, \"type\": \"bar\"}], \"barpolar\": [{\"marker\": {\"line\": {\"color\": \"#E5ECF6\", \"width\": 0.5}}, \"type\": \"barpolar\"}], \"carpet\": [{\"aaxis\": {\"endlinecolor\": \"#2a3f5f\", \"gridcolor\": \"white\", \"linecolor\": \"white\", \"minorgridcolor\": \"white\", \"startlinecolor\": \"#2a3f5f\"}, \"baxis\": {\"endlinecolor\": \"#2a3f5f\", \"gridcolor\": \"white\", \"linecolor\": \"white\", \"minorgridcolor\": \"white\", \"startlinecolor\": \"#2a3f5f\"}, \"type\": \"carpet\"}], \"choropleth\": [{\"colorbar\": {\"outlinewidth\": 0, \"ticks\": \"\"}, \"type\": \"choropleth\"}], \"contour\": [{\"colorbar\": {\"outlinewidth\": 0, \"ticks\": \"\"}, \"colorscale\": [[0.0, \"#0d0887\"], [0.1111111111111111, \"#46039f\"], [0.2222222222222222, \"#7201a8\"], [0.3333333333333333, \"#9c179e\"], [0.4444444444444444, \"#bd3786\"], [0.5555555555555556, \"#d8576b\"], [0.6666666666666666, \"#ed7953\"], [0.7777777777777778, \"#fb9f3a\"], [0.8888888888888888, \"#fdca26\"], [1.0, \"#f0f921\"]], \"type\": \"contour\"}], \"contourcarpet\": [{\"colorbar\": {\"outlinewidth\": 0, \"ticks\": \"\"}, \"type\": \"contourcarpet\"}], \"heatmap\": [{\"colorbar\": {\"outlinewidth\": 0, \"ticks\": \"\"}, \"colorscale\": [[0.0, \"#0d0887\"], [0.1111111111111111, \"#46039f\"], [0.2222222222222222, \"#7201a8\"], [0.3333333333333333, \"#9c179e\"], [0.4444444444444444, \"#bd3786\"], [0.5555555555555556, \"#d8576b\"], [0.6666666666666666, \"#ed7953\"], [0.7777777777777778, \"#fb9f3a\"], [0.8888888888888888, \"#fdca26\"], [1.0, \"#f0f921\"]], \"type\": \"heatmap\"}], \"heatmapgl\": [{\"colorbar\": {\"outlinewidth\": 0, \"ticks\": \"\"}, \"colorscale\": [[0.0, \"#0d0887\"], [0.1111111111111111, \"#46039f\"], [0.2222222222222222, \"#7201a8\"], [0.3333333333333333, \"#9c179e\"], [0.4444444444444444, \"#bd3786\"], [0.5555555555555556, \"#d8576b\"], [0.6666666666666666, \"#ed7953\"], [0.7777777777777778, \"#fb9f3a\"], [0.8888888888888888, \"#fdca26\"], [1.0, \"#f0f921\"]], \"type\": \"heatmapgl\"}], \"histogram\": [{\"marker\": {\"colorbar\": {\"outlinewidth\": 0, \"ticks\": \"\"}}, \"type\": \"histogram\"}], \"histogram2d\": [{\"colorbar\": {\"outlinewidth\": 0, \"ticks\": \"\"}, \"colorscale\": [[0.0, \"#0d0887\"], [0.1111111111111111, \"#46039f\"], [0.2222222222222222, \"#7201a8\"], [0.3333333333333333, \"#9c179e\"], [0.4444444444444444, \"#bd3786\"], [0.5555555555555556, \"#d8576b\"], [0.6666666666666666, \"#ed7953\"], [0.7777777777777778, \"#fb9f3a\"], [0.8888888888888888, \"#fdca26\"], [1.0, \"#f0f921\"]], \"type\": \"histogram2d\"}], \"histogram2dcontour\": [{\"colorbar\": {\"outlinewidth\": 0, \"ticks\": \"\"}, \"colorscale\": [[0.0, \"#0d0887\"], [0.1111111111111111, \"#46039f\"], [0.2222222222222222, \"#7201a8\"], [0.3333333333333333, \"#9c179e\"], [0.4444444444444444, \"#bd3786\"], [0.5555555555555556, \"#d8576b\"], [0.6666666666666666, \"#ed7953\"], [0.7777777777777778, \"#fb9f3a\"], [0.8888888888888888, \"#fdca26\"], [1.0, \"#f0f921\"]], \"type\": \"histogram2dcontour\"}], \"mesh3d\": [{\"colorbar\": {\"outlinewidth\": 0, \"ticks\": \"\"}, \"type\": \"mesh3d\"}], \"parcoords\": [{\"line\": {\"colorbar\": {\"outlinewidth\": 0, \"ticks\": \"\"}}, \"type\": \"parcoords\"}], \"pie\": [{\"automargin\": true, \"type\": \"pie\"}], \"scatter\": [{\"marker\": {\"colorbar\": {\"outlinewidth\": 0, \"ticks\": \"\"}}, \"type\": \"scatter\"}], \"scatter3d\": [{\"line\": {\"colorbar\": {\"outlinewidth\": 0, \"ticks\": \"\"}}, \"marker\": {\"colorbar\": {\"outlinewidth\": 0, \"ticks\": \"\"}}, \"type\": \"scatter3d\"}], \"scattercarpet\": [{\"marker\": {\"colorbar\": {\"outlinewidth\": 0, \"ticks\": \"\"}}, \"type\": \"scattercarpet\"}], \"scattergeo\": [{\"marker\": {\"colorbar\": {\"outlinewidth\": 0, \"ticks\": \"\"}}, \"type\": \"scattergeo\"}], \"scattergl\": [{\"marker\": {\"colorbar\": {\"outlinewidth\": 0, \"ticks\": \"\"}}, \"type\": \"scattergl\"}], \"scattermapbox\": [{\"marker\": {\"colorbar\": {\"outlinewidth\": 0, \"ticks\": \"\"}}, \"type\": \"scattermapbox\"}], \"scatterpolar\": [{\"marker\": {\"colorbar\": {\"outlinewidth\": 0, \"ticks\": \"\"}}, \"type\": \"scatterpolar\"}], \"scatterpolargl\": [{\"marker\": {\"colorbar\": {\"outlinewidth\": 0, \"ticks\": \"\"}}, \"type\": \"scatterpolargl\"}], \"scatterternary\": [{\"marker\": {\"colorbar\": {\"outlinewidth\": 0, \"ticks\": \"\"}}, \"type\": \"scatterternary\"}], \"surface\": [{\"colorbar\": {\"outlinewidth\": 0, \"ticks\": \"\"}, \"colorscale\": [[0.0, \"#0d0887\"], [0.1111111111111111, \"#46039f\"], [0.2222222222222222, \"#7201a8\"], [0.3333333333333333, \"#9c179e\"], [0.4444444444444444, \"#bd3786\"], [0.5555555555555556, \"#d8576b\"], [0.6666666666666666, \"#ed7953\"], [0.7777777777777778, \"#fb9f3a\"], [0.8888888888888888, \"#fdca26\"], [1.0, \"#f0f921\"]], \"type\": \"surface\"}], \"table\": [{\"cells\": {\"fill\": {\"color\": \"#EBF0F8\"}, \"line\": {\"color\": \"white\"}}, \"header\": {\"fill\": {\"color\": \"#C8D4E3\"}, \"line\": {\"color\": \"white\"}}, \"type\": \"table\"}]}, \"layout\": {\"annotationdefaults\": {\"arrowcolor\": \"#2a3f5f\", \"arrowhead\": 0, \"arrowwidth\": 1}, \"coloraxis\": {\"colorbar\": {\"outlinewidth\": 0, \"ticks\": \"\"}}, \"colorscale\": {\"diverging\": [[0, \"#8e0152\"], [0.1, \"#c51b7d\"], [0.2, \"#de77ae\"], [0.3, \"#f1b6da\"], [0.4, \"#fde0ef\"], [0.5, \"#f7f7f7\"], [0.6, \"#e6f5d0\"], [0.7, \"#b8e186\"], [0.8, \"#7fbc41\"], [0.9, \"#4d9221\"], [1, \"#276419\"]], \"sequential\": [[0.0, \"#0d0887\"], [0.1111111111111111, \"#46039f\"], [0.2222222222222222, \"#7201a8\"], [0.3333333333333333, \"#9c179e\"], [0.4444444444444444, \"#bd3786\"], [0.5555555555555556, \"#d8576b\"], [0.6666666666666666, \"#ed7953\"], [0.7777777777777778, \"#fb9f3a\"], [0.8888888888888888, \"#fdca26\"], [1.0, \"#f0f921\"]], \"sequentialminus\": [[0.0, \"#0d0887\"], [0.1111111111111111, \"#46039f\"], [0.2222222222222222, \"#7201a8\"], [0.3333333333333333, \"#9c179e\"], [0.4444444444444444, \"#bd3786\"], [0.5555555555555556, \"#d8576b\"], [0.6666666666666666, \"#ed7953\"], [0.7777777777777778, \"#fb9f3a\"], [0.8888888888888888, \"#fdca26\"], [1.0, \"#f0f921\"]]}, \"colorway\": [\"#636efa\", \"#EF553B\", \"#00cc96\", \"#ab63fa\", \"#FFA15A\", \"#19d3f3\", \"#FF6692\", \"#B6E880\", \"#FF97FF\", \"#FECB52\"], \"font\": {\"color\": \"#2a3f5f\"}, \"geo\": {\"bgcolor\": \"white\", \"lakecolor\": \"white\", \"landcolor\": \"#E5ECF6\", \"showlakes\": true, \"showland\": true, \"subunitcolor\": \"white\"}, \"hoverlabel\": {\"align\": \"left\"}, \"hovermode\": \"closest\", \"mapbox\": {\"style\": \"light\"}, \"paper_bgcolor\": \"white\", \"plot_bgcolor\": \"#E5ECF6\", \"polar\": {\"angularaxis\": {\"gridcolor\": \"white\", \"linecolor\": \"white\", \"ticks\": \"\"}, \"bgcolor\": \"#E5ECF6\", \"radialaxis\": {\"gridcolor\": \"white\", \"linecolor\": \"white\", \"ticks\": \"\"}}, \"scene\": {\"xaxis\": {\"backgroundcolor\": \"#E5ECF6\", \"gridcolor\": \"white\", \"gridwidth\": 2, \"linecolor\": \"white\", \"showbackground\": true, \"ticks\": \"\", \"zerolinecolor\": \"white\"}, \"yaxis\": {\"backgroundcolor\": \"#E5ECF6\", \"gridcolor\": \"white\", \"gridwidth\": 2, \"linecolor\": \"white\", \"showbackground\": true, \"ticks\": \"\", \"zerolinecolor\": \"white\"}, \"zaxis\": {\"backgroundcolor\": \"#E5ECF6\", \"gridcolor\": \"white\", \"gridwidth\": 2, \"linecolor\": \"white\", \"showbackground\": true, \"ticks\": \"\", \"zerolinecolor\": \"white\"}}, \"shapedefaults\": {\"line\": {\"color\": \"#2a3f5f\"}}, \"ternary\": {\"aaxis\": {\"gridcolor\": \"white\", \"linecolor\": \"white\", \"ticks\": \"\"}, \"baxis\": {\"gridcolor\": \"white\", \"linecolor\": \"white\", \"ticks\": \"\"}, \"bgcolor\": \"#E5ECF6\", \"caxis\": {\"gridcolor\": \"white\", \"linecolor\": \"white\", \"ticks\": \"\"}}, \"title\": {\"x\": 0.05}, \"xaxis\": {\"automargin\": true, \"gridcolor\": \"white\", \"linecolor\": \"white\", \"ticks\": \"\", \"title\": {\"standoff\": 15}, \"zerolinecolor\": \"white\", \"zerolinewidth\": 2}, \"yaxis\": {\"automargin\": true, \"gridcolor\": \"white\", \"linecolor\": \"white\", \"ticks\": \"\", \"title\": {\"standoff\": 15}, \"zerolinecolor\": \"white\", \"zerolinewidth\": 2}}}, \"yaxis\": {\"title\": {\"text\": \"Consumption in GWh\"}}},                        {\"responsive\": true}                    ).then(function(){\n",
       "                            \n",
       "var gd = document.getElementById('40c3eef2-83b8-4025-b4c9-9129f02d2361');\n",
       "var x = new MutationObserver(function (mutations, observer) {{\n",
       "        var display = window.getComputedStyle(gd).display;\n",
       "        if (!display || display === 'none') {{\n",
       "            console.log([gd, 'removed!']);\n",
       "            Plotly.purge(gd);\n",
       "            observer.disconnect();\n",
       "        }}\n",
       "}});\n",
       "\n",
       "// Listen for the removal of the full notebook cells\n",
       "var notebookContainer = gd.closest('#notebook-container');\n",
       "if (notebookContainer) {{\n",
       "    x.observe(notebookContainer, {childList: true});\n",
       "}}\n",
       "\n",
       "// Listen for the clearing of the current output cell\n",
       "var outputEl = gd.closest('.output');\n",
       "if (outputEl) {{\n",
       "    x.observe(outputEl, {childList: true});\n",
       "}}\n",
       "\n",
       "                        })                };                });            </script>        </div>"
      ]
     },
     "metadata": {},
     "output_type": "display_data"
    }
   ],
   "source": [
    "fig = go.Figure(data=[\n",
    "    go.Bar(name='Estonia', x=years, y=((CYsum[\"EE\"].values)/1000).round(0).astype(int),\n",
    "    marker_color='navy'),\n",
    "    go.Bar(name='Latvia', x=years, y=((CYsum[\"LV\"].values)/1000).round(0).astype(int),\n",
    "          marker_color='red'),\n",
    "    go.Bar(name='Lithuania', x=years, y=((CYsum[\"LT\"].values)/1000).round(0).astype(int),\n",
    "          marker_color='green'),\n",
    "\n",
    "])\n",
    "\n",
    "fig.update_layout(barmode='stack',\n",
    "                 yaxis=dict(\n",
    "        title='Consumption in GWh'))\n",
    "fig.show()"
   ]
  },
  {
   "cell_type": "code",
   "execution_count": null,
   "metadata": {},
   "outputs": [],
   "source": []
  },
  {
   "cell_type": "markdown",
   "metadata": {},
   "source": [
    "### Yearly consumption of the Nordic and Baltic countries in comparison "
   ]
  },
  {
   "cell_type": "code",
   "execution_count": 48,
   "metadata": {
    "ExecuteTime": {
     "end_time": "2020-12-10T08:44:07.929235Z",
     "start_time": "2020-12-10T08:44:07.429230Z"
    }
   },
   "outputs": [],
   "source": [
    "def annual_consumption(choice):\n",
    "    valuesB = valuesBaltic[int(choice)]\n",
    "    valuesN = valuesNordic[int(choice)]\n",
    "    mjono1 = 'Baltic states ('+ str(int((((CYsum.loc[choice,\"Baltic\"].values)/1000).round(0))[0]))+' GWh)' \n",
    "    mjono2 = 'Nordic countries ('+ str(int((((CYsum.loc[choice,\"Nordic\"].values)/1000).round(0))[0]))+' GWh)'\n",
    "\n",
    "\n",
    "    fig = make_subplots(1, 2, specs=[[{'type':'domain'}, {'type':'domain'}]],\n",
    "                    subplot_titles=[mjono1, mjono2])\n",
    "    fig.add_trace(go.Pie(labels=labelsB, values=valuesB, scalegroup='one',\n",
    "                     textinfo='label+value',\n",
    "                     marker_colors = baltic_colors,\n",
    "                     name=\"Baltic states. Annual consumption (\"+choice+\")\"), 1, 1)\n",
    "    fig.add_trace(go.Pie(labels=labelsN, values=valuesN, scalegroup='one',\n",
    "                     textinfo='label+value',\n",
    "                     marker_colors = nordic_colors,\n",
    "                     name=\"Nordic countries. Annual consumption (\"+choice+\")\"), 1, 2)\n",
    "\n",
    "\n",
    "    fig.update_layout(showlegend=False,\n",
    "                    title={\n",
    "                'text': \"Yearly consumption (\"+choice+\", in GWh) of the Nordic and Baltic countries in comparison\",\n",
    "                'y':0.98,\n",
    "                'x':0.5})\n",
    "\n",
    "\n",
    "    fig.show()"
   ]
  },
  {
   "cell_type": "code",
   "execution_count": 49,
   "metadata": {
    "ExecuteTime": {
     "end_time": "2020-12-10T08:44:08.288613Z",
     "start_time": "2020-12-10T08:44:07.929235Z"
    }
   },
   "outputs": [
    {
     "data": {
      "application/vnd.jupyter.widget-view+json": {
       "model_id": "f3c5f4f570f24ea9b092091e47c9ed59",
       "version_major": 2,
       "version_minor": 0
      },
      "text/plain": [
       "interactive(children=(Dropdown(description='choice', options=('2014', '2015', '2016', '2017', '2018', '2019'),…"
      ]
     },
     "metadata": {},
     "output_type": "display_data"
    },
    {
     "data": {
      "text/plain": [
       "<function __main__.annual_consumption(choice)>"
      ]
     },
     "execution_count": 49,
     "metadata": {},
     "output_type": "execute_result"
    }
   ],
   "source": [
    "interact(annual_consumption,choice=[str(vuosi) for vuosi in range(2014,2020)])"
   ]
  },
  {
   "cell_type": "code",
   "execution_count": null,
   "metadata": {},
   "outputs": [],
   "source": []
  },
  {
   "cell_type": "code",
   "execution_count": null,
   "metadata": {},
   "outputs": [],
   "source": []
  },
  {
   "cell_type": "markdown",
   "metadata": {},
   "source": [
    "## Annual consumption growth"
   ]
  },
  {
   "cell_type": "code",
   "execution_count": 50,
   "metadata": {
    "ExecuteTime": {
     "end_time": "2020-12-10T08:44:08.413616Z",
     "start_time": "2020-12-10T08:44:08.288613Z"
    }
   },
   "outputs": [],
   "source": [
    "\n",
    "def consumption_growth(choice):\n",
    "    \n",
    "    fig = px.line(x=years, y=(CYsum[choice]/1000),\n",
    "               )\n",
    "    \n",
    "    fig.update_traces(line_color=colors[choice],\n",
    "                     mode='lines+markers')\n",
    "    \n",
    "    fig.update_layout(title='Total annual consumption in GWh. '+abbreviations[choice],\n",
    "                   yaxis_title='GWh',\n",
    "                  xaxis_title=None,\n",
    "                  \n",
    "                  showlegend = False,\n",
    "                 autosize=True, height = 300,\n",
    "                                width = 700  \n",
    "                 )\n",
    "    fig.show()"
   ]
  },
  {
   "cell_type": "code",
   "execution_count": 51,
   "metadata": {
    "ExecuteTime": {
     "end_time": "2020-12-10T08:44:08.851121Z",
     "start_time": "2020-12-10T08:44:08.413616Z"
    }
   },
   "outputs": [
    {
     "data": {
      "application/vnd.jupyter.widget-view+json": {
       "model_id": "456a805e17824890949d23fb8a044b1a",
       "version_major": 2,
       "version_minor": 0
      },
      "text/plain": [
       "interactive(children=(Dropdown(description='choice', options=('NO', 'SE', 'FI', 'DK', 'Nordic', 'EE', 'LV', 'L…"
      ]
     },
     "metadata": {},
     "output_type": "display_data"
    },
    {
     "data": {
      "text/plain": [
       "<function __main__.consumption_growth(choice)>"
      ]
     },
     "execution_count": 51,
     "metadata": {},
     "output_type": "execute_result"
    }
   ],
   "source": [
    "interact(consumption_growth,choice=CYsum.columns[:-2])"
   ]
  },
  {
   "cell_type": "code",
   "execution_count": null,
   "metadata": {},
   "outputs": [],
   "source": []
  }
 ],
 "metadata": {
  "kernelspec": {
   "display_name": "Python 3",
   "language": "python",
   "name": "python3"
  },
  "language_info": {
   "codemirror_mode": {
    "name": "ipython",
    "version": 3
   },
   "file_extension": ".py",
   "mimetype": "text/x-python",
   "name": "python",
   "nbconvert_exporter": "python",
   "pygments_lexer": "ipython3",
   "version": "3.7.6"
  },
  "toc": {
   "base_numbering": 1,
   "nav_menu": {},
   "number_sections": true,
   "sideBar": true,
   "skip_h1_title": false,
   "title_cell": "Table of Contents",
   "title_sidebar": "Contents",
   "toc_cell": false,
   "toc_position": {
    "height": "calc(100% - 180px)",
    "left": "10px",
    "top": "150px",
    "width": "165px"
   },
   "toc_section_display": true,
   "toc_window_display": true
  },
  "varInspector": {
   "cols": {
    "lenName": 16,
    "lenType": 16,
    "lenVar": 40
   },
   "kernels_config": {
    "python": {
     "delete_cmd_postfix": "",
     "delete_cmd_prefix": "del ",
     "library": "var_list.py",
     "varRefreshCmd": "print(var_dic_list())"
    },
    "r": {
     "delete_cmd_postfix": ") ",
     "delete_cmd_prefix": "rm(",
     "library": "var_list.r",
     "varRefreshCmd": "cat(var_dic_list()) "
    }
   },
   "types_to_exclude": [
    "module",
    "function",
    "builtin_function_or_method",
    "instance",
    "_Feature"
   ],
   "window_display": false
  }
 },
 "nbformat": 4,
 "nbformat_minor": 4
}
