{
 "cells": [
  {
   "cell_type": "code",
   "execution_count": 83,
   "metadata": {
    "ExecuteTime": {
     "end_time": "2020-12-07T08:32:50.418828Z",
     "start_time": "2020-12-07T08:32:38.219104Z"
    }
   },
   "outputs": [
    {
     "name": "stderr",
     "output_type": "stream",
     "text": [
      "C:\\Users\\Kiran\\Anaconda3\\lib\\site-packages\\statsmodels\\tools\\_testing.py:19: FutureWarning: pandas.util.testing is deprecated. Use the functions in the public API at pandas.testing instead.\n",
      "  import pandas.util.testing as tm\n"
     ]
    }
   ],
   "source": [
    "import numpy as np\n",
    "import pandas as pd\n",
    "import matplotlib.pyplot as plt\n",
    "import seaborn as sns\n",
    "%matplotlib inline"
   ]
  },
  {
   "cell_type": "code",
   "execution_count": 2,
   "metadata": {
    "ExecuteTime": {
     "end_time": "2020-12-07T07:35:42.108039Z",
     "start_time": "2020-12-07T07:35:31.515937Z"
    }
   },
   "outputs": [],
   "source": [
    "ama = pd.read_csv('amazon_co-ecommerce_sample.csv')"
   ]
  },
  {
   "cell_type": "code",
   "execution_count": 3,
   "metadata": {
    "ExecuteTime": {
     "end_time": "2020-12-07T07:35:42.692265Z",
     "start_time": "2020-12-07T07:35:42.116071Z"
    }
   },
   "outputs": [
    {
     "name": "stdout",
     "output_type": "stream",
     "text": [
      "<class 'pandas.core.frame.DataFrame'>\n",
      "RangeIndex: 10000 entries, 0 to 9999\n",
      "Data columns (total 17 columns):\n",
      " #   Column                                       Non-Null Count  Dtype  \n",
      "---  ------                                       --------------  -----  \n",
      " 0   uniq_id                                      10000 non-null  object \n",
      " 1   product_name                                 10000 non-null  object \n",
      " 2   manufacturer                                 9993 non-null   object \n",
      " 3   price                                        8565 non-null   object \n",
      " 4   number_available_in_stock                    7500 non-null   object \n",
      " 5   number_of_reviews                            9982 non-null   object \n",
      " 6   number_of_answered_questions                 9235 non-null   float64\n",
      " 7   average_review_rating                        9982 non-null   object \n",
      " 8   amazon_category_and_sub_category             9310 non-null   object \n",
      " 9   customers_who_bought_this_item_also_bought   8938 non-null   object \n",
      " 10  description                                  9349 non-null   object \n",
      " 11  product_information                          9942 non-null   object \n",
      " 12  product_description                          9349 non-null   object \n",
      " 13  items_customers_buy_after_viewing_this_item  6935 non-null   object \n",
      " 14  customer_questions_and_answers               914 non-null    object \n",
      " 15  customer_reviews                             9979 non-null   object \n",
      " 16  sellers                                      6918 non-null   object \n",
      "dtypes: float64(1), object(16)\n",
      "memory usage: 1.3+ MB\n"
     ]
    }
   ],
   "source": [
    "# Checking the info of data. Through this info we came to know, data consist of 10000 observation and 17 variables or features.\n",
    "ama.info()"
   ]
  },
  {
   "cell_type": "code",
   "execution_count": 4,
   "metadata": {
    "ExecuteTime": {
     "end_time": "2020-12-07T07:35:43.685806Z",
     "start_time": "2020-12-07T07:35:42.705271Z"
    }
   },
   "outputs": [
    {
     "data": {
      "text/html": [
       "<div>\n",
       "<style scoped>\n",
       "    .dataframe tbody tr th:only-of-type {\n",
       "        vertical-align: middle;\n",
       "    }\n",
       "\n",
       "    .dataframe tbody tr th {\n",
       "        vertical-align: top;\n",
       "    }\n",
       "\n",
       "    .dataframe thead th {\n",
       "        text-align: right;\n",
       "    }\n",
       "</style>\n",
       "<table border=\"1\" class=\"dataframe\">\n",
       "  <thead>\n",
       "    <tr style=\"text-align: right;\">\n",
       "      <th></th>\n",
       "      <th>uniq_id</th>\n",
       "      <th>product_name</th>\n",
       "      <th>manufacturer</th>\n",
       "      <th>price</th>\n",
       "      <th>number_available_in_stock</th>\n",
       "      <th>number_of_reviews</th>\n",
       "      <th>number_of_answered_questions</th>\n",
       "      <th>average_review_rating</th>\n",
       "      <th>amazon_category_and_sub_category</th>\n",
       "      <th>customers_who_bought_this_item_also_bought</th>\n",
       "      <th>description</th>\n",
       "      <th>product_information</th>\n",
       "      <th>product_description</th>\n",
       "      <th>items_customers_buy_after_viewing_this_item</th>\n",
       "      <th>customer_questions_and_answers</th>\n",
       "      <th>customer_reviews</th>\n",
       "      <th>sellers</th>\n",
       "    </tr>\n",
       "  </thead>\n",
       "  <tbody>\n",
       "    <tr>\n",
       "      <th>0</th>\n",
       "      <td>eac7efa5dbd3d667f26eb3d3ab504464</td>\n",
       "      <td>Hornby 2014 Catalogue</td>\n",
       "      <td>Hornby</td>\n",
       "      <td>£3.42</td>\n",
       "      <td>5 new</td>\n",
       "      <td>15</td>\n",
       "      <td>1.0</td>\n",
       "      <td>4.9 out of 5 stars</td>\n",
       "      <td>Hobbies &gt; Model Trains &amp; Railway Sets &gt; Rail V...</td>\n",
       "      <td>http://www.amazon.co.uk/Hornby-R8150-Catalogue...</td>\n",
       "      <td>Product Description Hornby 2014 Catalogue Box ...</td>\n",
       "      <td>Technical Details Item Weight640 g Product Dim...</td>\n",
       "      <td>Product Description Hornby 2014 Catalogue Box ...</td>\n",
       "      <td>http://www.amazon.co.uk/Hornby-R8150-Catalogue...</td>\n",
       "      <td>Does this catalogue detail all the previous Ho...</td>\n",
       "      <td>Worth Buying For The Pictures Alone (As Ever) ...</td>\n",
       "      <td>{\"seller\"=&gt;[{\"Seller_name_1\"=&gt;\"Amazon.co.uk\", ...</td>\n",
       "    </tr>\n",
       "    <tr>\n",
       "      <th>1</th>\n",
       "      <td>b17540ef7e86e461d37f3ae58b7b72ac</td>\n",
       "      <td>FunkyBuys® Large Christmas Holiday Express Fes...</td>\n",
       "      <td>FunkyBuys</td>\n",
       "      <td>£16.99</td>\n",
       "      <td>NaN</td>\n",
       "      <td>2</td>\n",
       "      <td>1.0</td>\n",
       "      <td>4.5 out of 5 stars</td>\n",
       "      <td>Hobbies &gt; Model Trains &amp; Railway Sets &gt; Rail V...</td>\n",
       "      <td>http://www.amazon.co.uk/Christmas-Holiday-Expr...</td>\n",
       "      <td>Size Name:Large FunkyBuys® Large Christmas Hol...</td>\n",
       "      <td>Technical Details Manufacturer recommended age...</td>\n",
       "      <td>Size Name:Large FunkyBuys® Large Christmas Hol...</td>\n",
       "      <td>http://www.amazon.co.uk/Christmas-Holiday-Expr...</td>\n",
       "      <td>can you turn off sounds // hi no you cant turn...</td>\n",
       "      <td>Four Stars // 4.0 // 18 Dec. 2015 // By\\n    \\...</td>\n",
       "      <td>{\"seller\"=&gt;{\"Seller_name_1\"=&gt;\"UHD WHOLESALE\", ...</td>\n",
       "    </tr>\n",
       "    <tr>\n",
       "      <th>2</th>\n",
       "      <td>348f344247b0c1a935b1223072ef9d8a</td>\n",
       "      <td>CLASSIC TOY TRAIN SET TRACK CARRIAGES LIGHT EN...</td>\n",
       "      <td>ccf</td>\n",
       "      <td>£9.99</td>\n",
       "      <td>2 new</td>\n",
       "      <td>17</td>\n",
       "      <td>2.0</td>\n",
       "      <td>3.9 out of 5 stars</td>\n",
       "      <td>Hobbies &gt; Model Trains &amp; Railway Sets &gt; Rail V...</td>\n",
       "      <td>http://www.amazon.co.uk/Classic-Train-Lights-B...</td>\n",
       "      <td>BIG CLASSIC TOY TRAIN SET TRACK CARRIAGE LIGHT...</td>\n",
       "      <td>Technical Details Manufacturer recommended age...</td>\n",
       "      <td>BIG CLASSIC TOY TRAIN SET TRACK CARRIAGE LIGHT...</td>\n",
       "      <td>http://www.amazon.co.uk/Train-With-Tracks-Batt...</td>\n",
       "      <td>What is the gauge of the track // Hi Paul.Trut...</td>\n",
       "      <td>**Highly Recommended!** // 5.0 // 26 May 2015 ...</td>\n",
       "      <td>{\"seller\"=&gt;[{\"Seller_name_1\"=&gt;\"DEAL-BOX\", \"Sel...</td>\n",
       "    </tr>\n",
       "    <tr>\n",
       "      <th>3</th>\n",
       "      <td>e12b92dbb8eaee78b22965d2a9bbbd9f</td>\n",
       "      <td>HORNBY Coach R4410A BR Hawksworth Corridor 3rd</td>\n",
       "      <td>Hornby</td>\n",
       "      <td>£39.99</td>\n",
       "      <td>NaN</td>\n",
       "      <td>1</td>\n",
       "      <td>2.0</td>\n",
       "      <td>5.0 out of 5 stars</td>\n",
       "      <td>Hobbies &gt; Model Trains &amp; Railway Sets &gt; Rail V...</td>\n",
       "      <td>NaN</td>\n",
       "      <td>Hornby 00 Gauge BR Hawksworth 3rd Class W 2107...</td>\n",
       "      <td>Technical Details Item Weight259 g Product Dim...</td>\n",
       "      <td>Hornby 00 Gauge BR Hawksworth 3rd Class W 2107...</td>\n",
       "      <td>NaN</td>\n",
       "      <td>NaN</td>\n",
       "      <td>I love it // 5.0 // 22 July 2013 // By\\n    \\n...</td>\n",
       "      <td>NaN</td>\n",
       "    </tr>\n",
       "    <tr>\n",
       "      <th>4</th>\n",
       "      <td>e33a9adeed5f36840ccc227db4682a36</td>\n",
       "      <td>Hornby 00 Gauge 0-4-0 Gildenlow Salt Co. Steam...</td>\n",
       "      <td>Hornby</td>\n",
       "      <td>£32.19</td>\n",
       "      <td>NaN</td>\n",
       "      <td>3</td>\n",
       "      <td>2.0</td>\n",
       "      <td>4.7 out of 5 stars</td>\n",
       "      <td>Hobbies &gt; Model Trains &amp; Railway Sets &gt; Rail V...</td>\n",
       "      <td>http://www.amazon.co.uk/Hornby-R6367-RailRoad-...</td>\n",
       "      <td>Product Description Hornby RailRoad 0-4-0 Gild...</td>\n",
       "      <td>Technical Details Item Weight159 g Product Dim...</td>\n",
       "      <td>Product Description Hornby RailRoad 0-4-0 Gild...</td>\n",
       "      <td>http://www.amazon.co.uk/Hornby-R2672-RailRoad-...</td>\n",
       "      <td>NaN</td>\n",
       "      <td>Birthday present // 5.0 // 14 April 2014 // By...</td>\n",
       "      <td>NaN</td>\n",
       "    </tr>\n",
       "  </tbody>\n",
       "</table>\n",
       "</div>"
      ],
      "text/plain": [
       "                            uniq_id  \\\n",
       "0  eac7efa5dbd3d667f26eb3d3ab504464   \n",
       "1  b17540ef7e86e461d37f3ae58b7b72ac   \n",
       "2  348f344247b0c1a935b1223072ef9d8a   \n",
       "3  e12b92dbb8eaee78b22965d2a9bbbd9f   \n",
       "4  e33a9adeed5f36840ccc227db4682a36   \n",
       "\n",
       "                                        product_name manufacturer   price  \\\n",
       "0                              Hornby 2014 Catalogue       Hornby   £3.42   \n",
       "1  FunkyBuys® Large Christmas Holiday Express Fes...    FunkyBuys  £16.99   \n",
       "2  CLASSIC TOY TRAIN SET TRACK CARRIAGES LIGHT EN...          ccf   £9.99   \n",
       "3     HORNBY Coach R4410A BR Hawksworth Corridor 3rd       Hornby  £39.99   \n",
       "4  Hornby 00 Gauge 0-4-0 Gildenlow Salt Co. Steam...       Hornby  £32.19   \n",
       "\n",
       "  number_available_in_stock number_of_reviews  number_of_answered_questions  \\\n",
       "0                     5 new                15                           1.0   \n",
       "1                       NaN                 2                           1.0   \n",
       "2                     2 new                17                           2.0   \n",
       "3                       NaN                 1                           2.0   \n",
       "4                       NaN                 3                           2.0   \n",
       "\n",
       "  average_review_rating                   amazon_category_and_sub_category  \\\n",
       "0    4.9 out of 5 stars  Hobbies > Model Trains & Railway Sets > Rail V...   \n",
       "1    4.5 out of 5 stars  Hobbies > Model Trains & Railway Sets > Rail V...   \n",
       "2    3.9 out of 5 stars  Hobbies > Model Trains & Railway Sets > Rail V...   \n",
       "3    5.0 out of 5 stars  Hobbies > Model Trains & Railway Sets > Rail V...   \n",
       "4    4.7 out of 5 stars  Hobbies > Model Trains & Railway Sets > Rail V...   \n",
       "\n",
       "          customers_who_bought_this_item_also_bought  \\\n",
       "0  http://www.amazon.co.uk/Hornby-R8150-Catalogue...   \n",
       "1  http://www.amazon.co.uk/Christmas-Holiday-Expr...   \n",
       "2  http://www.amazon.co.uk/Classic-Train-Lights-B...   \n",
       "3                                                NaN   \n",
       "4  http://www.amazon.co.uk/Hornby-R6367-RailRoad-...   \n",
       "\n",
       "                                         description  \\\n",
       "0  Product Description Hornby 2014 Catalogue Box ...   \n",
       "1  Size Name:Large FunkyBuys® Large Christmas Hol...   \n",
       "2  BIG CLASSIC TOY TRAIN SET TRACK CARRIAGE LIGHT...   \n",
       "3  Hornby 00 Gauge BR Hawksworth 3rd Class W 2107...   \n",
       "4  Product Description Hornby RailRoad 0-4-0 Gild...   \n",
       "\n",
       "                                 product_information  \\\n",
       "0  Technical Details Item Weight640 g Product Dim...   \n",
       "1  Technical Details Manufacturer recommended age...   \n",
       "2  Technical Details Manufacturer recommended age...   \n",
       "3  Technical Details Item Weight259 g Product Dim...   \n",
       "4  Technical Details Item Weight159 g Product Dim...   \n",
       "\n",
       "                                 product_description  \\\n",
       "0  Product Description Hornby 2014 Catalogue Box ...   \n",
       "1  Size Name:Large FunkyBuys® Large Christmas Hol...   \n",
       "2  BIG CLASSIC TOY TRAIN SET TRACK CARRIAGE LIGHT...   \n",
       "3  Hornby 00 Gauge BR Hawksworth 3rd Class W 2107...   \n",
       "4  Product Description Hornby RailRoad 0-4-0 Gild...   \n",
       "\n",
       "         items_customers_buy_after_viewing_this_item  \\\n",
       "0  http://www.amazon.co.uk/Hornby-R8150-Catalogue...   \n",
       "1  http://www.amazon.co.uk/Christmas-Holiday-Expr...   \n",
       "2  http://www.amazon.co.uk/Train-With-Tracks-Batt...   \n",
       "3                                                NaN   \n",
       "4  http://www.amazon.co.uk/Hornby-R2672-RailRoad-...   \n",
       "\n",
       "                      customer_questions_and_answers  \\\n",
       "0  Does this catalogue detail all the previous Ho...   \n",
       "1  can you turn off sounds // hi no you cant turn...   \n",
       "2  What is the gauge of the track // Hi Paul.Trut...   \n",
       "3                                                NaN   \n",
       "4                                                NaN   \n",
       "\n",
       "                                    customer_reviews  \\\n",
       "0  Worth Buying For The Pictures Alone (As Ever) ...   \n",
       "1  Four Stars // 4.0 // 18 Dec. 2015 // By\\n    \\...   \n",
       "2  **Highly Recommended!** // 5.0 // 26 May 2015 ...   \n",
       "3  I love it // 5.0 // 22 July 2013 // By\\n    \\n...   \n",
       "4  Birthday present // 5.0 // 14 April 2014 // By...   \n",
       "\n",
       "                                             sellers  \n",
       "0  {\"seller\"=>[{\"Seller_name_1\"=>\"Amazon.co.uk\", ...  \n",
       "1  {\"seller\"=>{\"Seller_name_1\"=>\"UHD WHOLESALE\", ...  \n",
       "2  {\"seller\"=>[{\"Seller_name_1\"=>\"DEAL-BOX\", \"Sel...  \n",
       "3                                                NaN  \n",
       "4                                                NaN  "
      ]
     },
     "execution_count": 4,
     "metadata": {},
     "output_type": "execute_result"
    }
   ],
   "source": [
    "ama.head(5)"
   ]
  },
  {
   "cell_type": "code",
   "execution_count": 5,
   "metadata": {
    "ExecuteTime": {
     "end_time": "2020-12-07T07:35:44.330807Z",
     "start_time": "2020-12-07T07:35:43.692806Z"
    }
   },
   "outputs": [
    {
     "data": {
      "text/plain": [
       "0        £3.42\n",
       "1       £16.99\n",
       "2        £9.99\n",
       "3       £39.99\n",
       "4       £32.19\n",
       "         ...  \n",
       "9995    £22.95\n",
       "9996    £39.99\n",
       "9997    £43.99\n",
       "9998    £49.81\n",
       "9999    £21.20\n",
       "Name: price, Length: 10000, dtype: object"
      ]
     },
     "execution_count": 5,
     "metadata": {},
     "output_type": "execute_result"
    }
   ],
   "source": [
    "ama['price']"
   ]
  },
  {
   "cell_type": "code",
   "execution_count": 6,
   "metadata": {
    "ExecuteTime": {
     "end_time": "2020-12-07T07:35:44.795338Z",
     "start_time": "2020-12-07T07:35:44.338806Z"
    }
   },
   "outputs": [
    {
     "data": {
      "text/plain": [
       "0        3.42\n",
       "1       16.99\n",
       "2        9.99\n",
       "3       39.99\n",
       "4       32.19\n",
       "        ...  \n",
       "9995    22.95\n",
       "9996    39.99\n",
       "9997    43.99\n",
       "9998    49.81\n",
       "9999    21.20\n",
       "Name: price, Length: 10000, dtype: object"
      ]
     },
     "execution_count": 6,
     "metadata": {},
     "output_type": "execute_result"
    }
   ],
   "source": [
    "new_price= ama.price.str.replace('£','')\n",
    "new_price"
   ]
  },
  {
   "cell_type": "code",
   "execution_count": 7,
   "metadata": {
    "ExecuteTime": {
     "end_time": "2020-12-07T07:35:46.188447Z",
     "start_time": "2020-12-07T07:35:44.846334Z"
    }
   },
   "outputs": [
    {
     "data": {
      "text/html": [
       "<div>\n",
       "<style scoped>\n",
       "    .dataframe tbody tr th:only-of-type {\n",
       "        vertical-align: middle;\n",
       "    }\n",
       "\n",
       "    .dataframe tbody tr th {\n",
       "        vertical-align: top;\n",
       "    }\n",
       "\n",
       "    .dataframe thead th {\n",
       "        text-align: right;\n",
       "    }\n",
       "</style>\n",
       "<table border=\"1\" class=\"dataframe\">\n",
       "  <thead>\n",
       "    <tr style=\"text-align: right;\">\n",
       "      <th></th>\n",
       "      <th>0</th>\n",
       "      <th>1</th>\n",
       "    </tr>\n",
       "  </thead>\n",
       "  <tbody>\n",
       "    <tr>\n",
       "      <th>0</th>\n",
       "      <td>£3.42</td>\n",
       "      <td>None</td>\n",
       "    </tr>\n",
       "    <tr>\n",
       "      <th>1</th>\n",
       "      <td>£16.99</td>\n",
       "      <td>None</td>\n",
       "    </tr>\n",
       "    <tr>\n",
       "      <th>2</th>\n",
       "      <td>£9.99</td>\n",
       "      <td>None</td>\n",
       "    </tr>\n",
       "    <tr>\n",
       "      <th>3</th>\n",
       "      <td>£39.99</td>\n",
       "      <td>None</td>\n",
       "    </tr>\n",
       "    <tr>\n",
       "      <th>4</th>\n",
       "      <td>£32.19</td>\n",
       "      <td>None</td>\n",
       "    </tr>\n",
       "    <tr>\n",
       "      <th>...</th>\n",
       "      <td>...</td>\n",
       "      <td>...</td>\n",
       "    </tr>\n",
       "    <tr>\n",
       "      <th>9995</th>\n",
       "      <td>£22.95</td>\n",
       "      <td>None</td>\n",
       "    </tr>\n",
       "    <tr>\n",
       "      <th>9996</th>\n",
       "      <td>£39.99</td>\n",
       "      <td>None</td>\n",
       "    </tr>\n",
       "    <tr>\n",
       "      <th>9997</th>\n",
       "      <td>£43.99</td>\n",
       "      <td>None</td>\n",
       "    </tr>\n",
       "    <tr>\n",
       "      <th>9998</th>\n",
       "      <td>£49.81</td>\n",
       "      <td>None</td>\n",
       "    </tr>\n",
       "    <tr>\n",
       "      <th>9999</th>\n",
       "      <td>£21.20</td>\n",
       "      <td>None</td>\n",
       "    </tr>\n",
       "  </tbody>\n",
       "</table>\n",
       "<p>10000 rows × 2 columns</p>\n",
       "</div>"
      ],
      "text/plain": [
       "           0     1\n",
       "0      £3.42  None\n",
       "1     £16.99  None\n",
       "2      £9.99  None\n",
       "3     £39.99  None\n",
       "4     £32.19  None\n",
       "...      ...   ...\n",
       "9995  £22.95  None\n",
       "9996  £39.99  None\n",
       "9997  £43.99  None\n",
       "9998  £49.81  None\n",
       "9999  £21.20  None\n",
       "\n",
       "[10000 rows x 2 columns]"
      ]
     },
     "execution_count": 7,
     "metadata": {},
     "output_type": "execute_result"
    }
   ],
   "source": [
    "ama['price'].str.split('-',n=1,expand=True)"
   ]
  },
  {
   "cell_type": "code",
   "execution_count": 8,
   "metadata": {
    "ExecuteTime": {
     "end_time": "2020-12-07T07:35:46.608980Z",
     "start_time": "2020-12-07T07:35:46.201446Z"
    }
   },
   "outputs": [
    {
     "data": {
      "text/html": [
       "<div>\n",
       "<style scoped>\n",
       "    .dataframe tbody tr th:only-of-type {\n",
       "        vertical-align: middle;\n",
       "    }\n",
       "\n",
       "    .dataframe tbody tr th {\n",
       "        vertical-align: top;\n",
       "    }\n",
       "\n",
       "    .dataframe thead th {\n",
       "        text-align: right;\n",
       "    }\n",
       "</style>\n",
       "<table border=\"1\" class=\"dataframe\">\n",
       "  <thead>\n",
       "    <tr style=\"text-align: right;\">\n",
       "      <th></th>\n",
       "      <th>0</th>\n",
       "      <th>1</th>\n",
       "    </tr>\n",
       "  </thead>\n",
       "  <tbody>\n",
       "    <tr>\n",
       "      <th>0</th>\n",
       "      <td>3.42</td>\n",
       "      <td>None</td>\n",
       "    </tr>\n",
       "    <tr>\n",
       "      <th>1</th>\n",
       "      <td>16.99</td>\n",
       "      <td>None</td>\n",
       "    </tr>\n",
       "    <tr>\n",
       "      <th>2</th>\n",
       "      <td>9.99</td>\n",
       "      <td>None</td>\n",
       "    </tr>\n",
       "    <tr>\n",
       "      <th>3</th>\n",
       "      <td>39.99</td>\n",
       "      <td>None</td>\n",
       "    </tr>\n",
       "    <tr>\n",
       "      <th>4</th>\n",
       "      <td>32.19</td>\n",
       "      <td>None</td>\n",
       "    </tr>\n",
       "    <tr>\n",
       "      <th>...</th>\n",
       "      <td>...</td>\n",
       "      <td>...</td>\n",
       "    </tr>\n",
       "    <tr>\n",
       "      <th>9995</th>\n",
       "      <td>22.95</td>\n",
       "      <td>None</td>\n",
       "    </tr>\n",
       "    <tr>\n",
       "      <th>9996</th>\n",
       "      <td>39.99</td>\n",
       "      <td>None</td>\n",
       "    </tr>\n",
       "    <tr>\n",
       "      <th>9997</th>\n",
       "      <td>43.99</td>\n",
       "      <td>None</td>\n",
       "    </tr>\n",
       "    <tr>\n",
       "      <th>9998</th>\n",
       "      <td>49.81</td>\n",
       "      <td>None</td>\n",
       "    </tr>\n",
       "    <tr>\n",
       "      <th>9999</th>\n",
       "      <td>21.20</td>\n",
       "      <td>None</td>\n",
       "    </tr>\n",
       "  </tbody>\n",
       "</table>\n",
       "<p>10000 rows × 2 columns</p>\n",
       "</div>"
      ],
      "text/plain": [
       "          0     1\n",
       "0      3.42  None\n",
       "1     16.99  None\n",
       "2      9.99  None\n",
       "3     39.99  None\n",
       "4     32.19  None\n",
       "...     ...   ...\n",
       "9995  22.95  None\n",
       "9996  39.99  None\n",
       "9997  43.99  None\n",
       "9998  49.81  None\n",
       "9999  21.20  None\n",
       "\n",
       "[10000 rows x 2 columns]"
      ]
     },
     "execution_count": 8,
     "metadata": {},
     "output_type": "execute_result"
    }
   ],
   "source": [
    "xy = new_price.str.split('-',n=1,expand=True)\n",
    "xy"
   ]
  },
  {
   "cell_type": "code",
   "execution_count": 9,
   "metadata": {
    "ExecuteTime": {
     "end_time": "2020-12-07T07:35:46.765979Z",
     "start_time": "2020-12-07T07:35:46.621981Z"
    }
   },
   "outputs": [
    {
     "data": {
      "text/plain": [
       "0        3.42\n",
       "1       16.99\n",
       "2        9.99\n",
       "3       39.99\n",
       "4       32.19\n",
       "        ...  \n",
       "9995    22.95\n",
       "9996    39.99\n",
       "9997    43.99\n",
       "9998    49.81\n",
       "9999    21.20\n",
       "Name: price, Length: 10000, dtype: object"
      ]
     },
     "execution_count": 9,
     "metadata": {},
     "output_type": "execute_result"
    }
   ],
   "source": [
    "price1 =new_price.str.replace(',','')\n",
    "price1"
   ]
  },
  {
   "cell_type": "code",
   "execution_count": 10,
   "metadata": {
    "ExecuteTime": {
     "end_time": "2020-12-07T07:35:47.269644Z",
     "start_time": "2020-12-07T07:35:46.772981Z"
    }
   },
   "outputs": [
    {
     "data": {
      "text/html": [
       "<div>\n",
       "<style scoped>\n",
       "    .dataframe tbody tr th:only-of-type {\n",
       "        vertical-align: middle;\n",
       "    }\n",
       "\n",
       "    .dataframe tbody tr th {\n",
       "        vertical-align: top;\n",
       "    }\n",
       "\n",
       "    .dataframe thead th {\n",
       "        text-align: right;\n",
       "    }\n",
       "</style>\n",
       "<table border=\"1\" class=\"dataframe\">\n",
       "  <thead>\n",
       "    <tr style=\"text-align: right;\">\n",
       "      <th></th>\n",
       "      <th>0</th>\n",
       "      <th>1</th>\n",
       "    </tr>\n",
       "  </thead>\n",
       "  <tbody>\n",
       "    <tr>\n",
       "      <th>0</th>\n",
       "      <td>3.42</td>\n",
       "      <td>NaN</td>\n",
       "    </tr>\n",
       "    <tr>\n",
       "      <th>1</th>\n",
       "      <td>16.99</td>\n",
       "      <td>NaN</td>\n",
       "    </tr>\n",
       "    <tr>\n",
       "      <th>2</th>\n",
       "      <td>9.99</td>\n",
       "      <td>NaN</td>\n",
       "    </tr>\n",
       "    <tr>\n",
       "      <th>3</th>\n",
       "      <td>39.99</td>\n",
       "      <td>NaN</td>\n",
       "    </tr>\n",
       "    <tr>\n",
       "      <th>4</th>\n",
       "      <td>32.19</td>\n",
       "      <td>NaN</td>\n",
       "    </tr>\n",
       "    <tr>\n",
       "      <th>...</th>\n",
       "      <td>...</td>\n",
       "      <td>...</td>\n",
       "    </tr>\n",
       "    <tr>\n",
       "      <th>9995</th>\n",
       "      <td>22.95</td>\n",
       "      <td>NaN</td>\n",
       "    </tr>\n",
       "    <tr>\n",
       "      <th>9996</th>\n",
       "      <td>39.99</td>\n",
       "      <td>NaN</td>\n",
       "    </tr>\n",
       "    <tr>\n",
       "      <th>9997</th>\n",
       "      <td>43.99</td>\n",
       "      <td>NaN</td>\n",
       "    </tr>\n",
       "    <tr>\n",
       "      <th>9998</th>\n",
       "      <td>49.81</td>\n",
       "      <td>NaN</td>\n",
       "    </tr>\n",
       "    <tr>\n",
       "      <th>9999</th>\n",
       "      <td>21.20</td>\n",
       "      <td>NaN</td>\n",
       "    </tr>\n",
       "  </tbody>\n",
       "</table>\n",
       "<p>10000 rows × 2 columns</p>\n",
       "</div>"
      ],
      "text/plain": [
       "          0   1\n",
       "0      3.42 NaN\n",
       "1     16.99 NaN\n",
       "2      9.99 NaN\n",
       "3     39.99 NaN\n",
       "4     32.19 NaN\n",
       "...     ...  ..\n",
       "9995  22.95 NaN\n",
       "9996  39.99 NaN\n",
       "9997  43.99 NaN\n",
       "9998  49.81 NaN\n",
       "9999  21.20 NaN\n",
       "\n",
       "[10000 rows x 2 columns]"
      ]
     },
     "execution_count": 10,
     "metadata": {},
     "output_type": "execute_result"
    }
   ],
   "source": [
    "clean_price = price1.str.split('-',n=1,expand=True).astype(float)\n",
    "clean_price"
   ]
  },
  {
   "cell_type": "code",
   "execution_count": 11,
   "metadata": {
    "ExecuteTime": {
     "end_time": "2020-12-07T07:35:47.350724Z",
     "start_time": "2020-12-07T07:35:47.279648Z"
    }
   },
   "outputs": [
    {
     "data": {
      "text/plain": [
       "0     20.278110\n",
       "1    984.401667\n",
       "dtype: float64"
      ]
     },
     "execution_count": 11,
     "metadata": {},
     "output_type": "execute_result"
    }
   ],
   "source": [
    "clean_price.mean()"
   ]
  },
  {
   "cell_type": "code",
   "execution_count": 31,
   "metadata": {
    "ExecuteTime": {
     "end_time": "2020-12-07T07:45:11.527840Z",
     "start_time": "2020-12-07T07:45:11.440551Z"
    }
   },
   "outputs": [],
   "source": [
    "ama['clean_price']= price1.str.split('-',n=1,expand=True).astype(float)"
   ]
  },
  {
   "cell_type": "code",
   "execution_count": 32,
   "metadata": {
    "ExecuteTime": {
     "end_time": "2020-12-07T07:45:14.026052Z",
     "start_time": "2020-12-07T07:45:13.925065Z"
    }
   },
   "outputs": [
    {
     "data": {
      "text/html": [
       "<div>\n",
       "<style scoped>\n",
       "    .dataframe tbody tr th:only-of-type {\n",
       "        vertical-align: middle;\n",
       "    }\n",
       "\n",
       "    .dataframe tbody tr th {\n",
       "        vertical-align: top;\n",
       "    }\n",
       "\n",
       "    .dataframe thead th {\n",
       "        text-align: right;\n",
       "    }\n",
       "</style>\n",
       "<table border=\"1\" class=\"dataframe\">\n",
       "  <thead>\n",
       "    <tr style=\"text-align: right;\">\n",
       "      <th></th>\n",
       "      <th>uniq_id</th>\n",
       "      <th>product_name</th>\n",
       "      <th>manufacturer</th>\n",
       "      <th>price</th>\n",
       "      <th>number_available_in_stock</th>\n",
       "      <th>number_of_reviews</th>\n",
       "      <th>number_of_answered_questions</th>\n",
       "      <th>average_review_rating</th>\n",
       "      <th>amazon_category_and_sub_category</th>\n",
       "      <th>customers_who_bought_this_item_also_bought</th>\n",
       "      <th>description</th>\n",
       "      <th>product_information</th>\n",
       "      <th>product_description</th>\n",
       "      <th>items_customers_buy_after_viewing_this_item</th>\n",
       "      <th>customer_questions_and_answers</th>\n",
       "      <th>customer_reviews</th>\n",
       "      <th>sellers</th>\n",
       "      <th>new_avg_review_rating</th>\n",
       "      <th>new_num_reviews</th>\n",
       "      <th>clean_price</th>\n",
       "    </tr>\n",
       "  </thead>\n",
       "  <tbody>\n",
       "    <tr>\n",
       "      <th>0</th>\n",
       "      <td>eac7efa5dbd3d667f26eb3d3ab504464</td>\n",
       "      <td>Hornby 2014 Catalogue</td>\n",
       "      <td>Hornby</td>\n",
       "      <td>£3.42</td>\n",
       "      <td>5 new</td>\n",
       "      <td>15</td>\n",
       "      <td>1.0</td>\n",
       "      <td>4.9 out of 5 stars</td>\n",
       "      <td>Hobbies &gt; Model Trains &amp; Railway Sets &gt; Rail V...</td>\n",
       "      <td>http://www.amazon.co.uk/Hornby-R8150-Catalogue...</td>\n",
       "      <td>Product Description Hornby 2014 Catalogue Box ...</td>\n",
       "      <td>Technical Details Item Weight640 g Product Dim...</td>\n",
       "      <td>Product Description Hornby 2014 Catalogue Box ...</td>\n",
       "      <td>http://www.amazon.co.uk/Hornby-R8150-Catalogue...</td>\n",
       "      <td>Does this catalogue detail all the previous Ho...</td>\n",
       "      <td>Worth Buying For The Pictures Alone (As Ever) ...</td>\n",
       "      <td>{\"seller\"=&gt;[{\"Seller_name_1\"=&gt;\"Amazon.co.uk\", ...</td>\n",
       "      <td>4.9</td>\n",
       "      <td>15.0</td>\n",
       "      <td>3.42</td>\n",
       "    </tr>\n",
       "    <tr>\n",
       "      <th>1</th>\n",
       "      <td>b17540ef7e86e461d37f3ae58b7b72ac</td>\n",
       "      <td>FunkyBuys® Large Christmas Holiday Express Fes...</td>\n",
       "      <td>FunkyBuys</td>\n",
       "      <td>£16.99</td>\n",
       "      <td>NaN</td>\n",
       "      <td>2</td>\n",
       "      <td>1.0</td>\n",
       "      <td>4.5 out of 5 stars</td>\n",
       "      <td>Hobbies &gt; Model Trains &amp; Railway Sets &gt; Rail V...</td>\n",
       "      <td>http://www.amazon.co.uk/Christmas-Holiday-Expr...</td>\n",
       "      <td>Size Name:Large FunkyBuys® Large Christmas Hol...</td>\n",
       "      <td>Technical Details Manufacturer recommended age...</td>\n",
       "      <td>Size Name:Large FunkyBuys® Large Christmas Hol...</td>\n",
       "      <td>http://www.amazon.co.uk/Christmas-Holiday-Expr...</td>\n",
       "      <td>can you turn off sounds // hi no you cant turn...</td>\n",
       "      <td>Four Stars // 4.0 // 18 Dec. 2015 // By\\n    \\...</td>\n",
       "      <td>{\"seller\"=&gt;{\"Seller_name_1\"=&gt;\"UHD WHOLESALE\", ...</td>\n",
       "      <td>4.5</td>\n",
       "      <td>2.0</td>\n",
       "      <td>16.99</td>\n",
       "    </tr>\n",
       "    <tr>\n",
       "      <th>2</th>\n",
       "      <td>348f344247b0c1a935b1223072ef9d8a</td>\n",
       "      <td>CLASSIC TOY TRAIN SET TRACK CARRIAGES LIGHT EN...</td>\n",
       "      <td>ccf</td>\n",
       "      <td>£9.99</td>\n",
       "      <td>2 new</td>\n",
       "      <td>17</td>\n",
       "      <td>2.0</td>\n",
       "      <td>3.9 out of 5 stars</td>\n",
       "      <td>Hobbies &gt; Model Trains &amp; Railway Sets &gt; Rail V...</td>\n",
       "      <td>http://www.amazon.co.uk/Classic-Train-Lights-B...</td>\n",
       "      <td>BIG CLASSIC TOY TRAIN SET TRACK CARRIAGE LIGHT...</td>\n",
       "      <td>Technical Details Manufacturer recommended age...</td>\n",
       "      <td>BIG CLASSIC TOY TRAIN SET TRACK CARRIAGE LIGHT...</td>\n",
       "      <td>http://www.amazon.co.uk/Train-With-Tracks-Batt...</td>\n",
       "      <td>What is the gauge of the track // Hi Paul.Trut...</td>\n",
       "      <td>**Highly Recommended!** // 5.0 // 26 May 2015 ...</td>\n",
       "      <td>{\"seller\"=&gt;[{\"Seller_name_1\"=&gt;\"DEAL-BOX\", \"Sel...</td>\n",
       "      <td>3.9</td>\n",
       "      <td>17.0</td>\n",
       "      <td>9.99</td>\n",
       "    </tr>\n",
       "    <tr>\n",
       "      <th>3</th>\n",
       "      <td>e12b92dbb8eaee78b22965d2a9bbbd9f</td>\n",
       "      <td>HORNBY Coach R4410A BR Hawksworth Corridor 3rd</td>\n",
       "      <td>Hornby</td>\n",
       "      <td>£39.99</td>\n",
       "      <td>NaN</td>\n",
       "      <td>1</td>\n",
       "      <td>2.0</td>\n",
       "      <td>5.0 out of 5 stars</td>\n",
       "      <td>Hobbies &gt; Model Trains &amp; Railway Sets &gt; Rail V...</td>\n",
       "      <td>NaN</td>\n",
       "      <td>Hornby 00 Gauge BR Hawksworth 3rd Class W 2107...</td>\n",
       "      <td>Technical Details Item Weight259 g Product Dim...</td>\n",
       "      <td>Hornby 00 Gauge BR Hawksworth 3rd Class W 2107...</td>\n",
       "      <td>NaN</td>\n",
       "      <td>NaN</td>\n",
       "      <td>I love it // 5.0 // 22 July 2013 // By\\n    \\n...</td>\n",
       "      <td>NaN</td>\n",
       "      <td>5.0</td>\n",
       "      <td>1.0</td>\n",
       "      <td>39.99</td>\n",
       "    </tr>\n",
       "    <tr>\n",
       "      <th>4</th>\n",
       "      <td>e33a9adeed5f36840ccc227db4682a36</td>\n",
       "      <td>Hornby 00 Gauge 0-4-0 Gildenlow Salt Co. Steam...</td>\n",
       "      <td>Hornby</td>\n",
       "      <td>£32.19</td>\n",
       "      <td>NaN</td>\n",
       "      <td>3</td>\n",
       "      <td>2.0</td>\n",
       "      <td>4.7 out of 5 stars</td>\n",
       "      <td>Hobbies &gt; Model Trains &amp; Railway Sets &gt; Rail V...</td>\n",
       "      <td>http://www.amazon.co.uk/Hornby-R6367-RailRoad-...</td>\n",
       "      <td>Product Description Hornby RailRoad 0-4-0 Gild...</td>\n",
       "      <td>Technical Details Item Weight159 g Product Dim...</td>\n",
       "      <td>Product Description Hornby RailRoad 0-4-0 Gild...</td>\n",
       "      <td>http://www.amazon.co.uk/Hornby-R2672-RailRoad-...</td>\n",
       "      <td>NaN</td>\n",
       "      <td>Birthday present // 5.0 // 14 April 2014 // By...</td>\n",
       "      <td>NaN</td>\n",
       "      <td>4.7</td>\n",
       "      <td>3.0</td>\n",
       "      <td>32.19</td>\n",
       "    </tr>\n",
       "  </tbody>\n",
       "</table>\n",
       "</div>"
      ],
      "text/plain": [
       "                            uniq_id  \\\n",
       "0  eac7efa5dbd3d667f26eb3d3ab504464   \n",
       "1  b17540ef7e86e461d37f3ae58b7b72ac   \n",
       "2  348f344247b0c1a935b1223072ef9d8a   \n",
       "3  e12b92dbb8eaee78b22965d2a9bbbd9f   \n",
       "4  e33a9adeed5f36840ccc227db4682a36   \n",
       "\n",
       "                                        product_name manufacturer   price  \\\n",
       "0                              Hornby 2014 Catalogue       Hornby   £3.42   \n",
       "1  FunkyBuys® Large Christmas Holiday Express Fes...    FunkyBuys  £16.99   \n",
       "2  CLASSIC TOY TRAIN SET TRACK CARRIAGES LIGHT EN...          ccf   £9.99   \n",
       "3     HORNBY Coach R4410A BR Hawksworth Corridor 3rd       Hornby  £39.99   \n",
       "4  Hornby 00 Gauge 0-4-0 Gildenlow Salt Co. Steam...       Hornby  £32.19   \n",
       "\n",
       "  number_available_in_stock number_of_reviews  number_of_answered_questions  \\\n",
       "0                     5 new                15                           1.0   \n",
       "1                       NaN                 2                           1.0   \n",
       "2                     2 new                17                           2.0   \n",
       "3                       NaN                 1                           2.0   \n",
       "4                       NaN                 3                           2.0   \n",
       "\n",
       "  average_review_rating                   amazon_category_and_sub_category  \\\n",
       "0    4.9 out of 5 stars  Hobbies > Model Trains & Railway Sets > Rail V...   \n",
       "1    4.5 out of 5 stars  Hobbies > Model Trains & Railway Sets > Rail V...   \n",
       "2    3.9 out of 5 stars  Hobbies > Model Trains & Railway Sets > Rail V...   \n",
       "3    5.0 out of 5 stars  Hobbies > Model Trains & Railway Sets > Rail V...   \n",
       "4    4.7 out of 5 stars  Hobbies > Model Trains & Railway Sets > Rail V...   \n",
       "\n",
       "          customers_who_bought_this_item_also_bought  \\\n",
       "0  http://www.amazon.co.uk/Hornby-R8150-Catalogue...   \n",
       "1  http://www.amazon.co.uk/Christmas-Holiday-Expr...   \n",
       "2  http://www.amazon.co.uk/Classic-Train-Lights-B...   \n",
       "3                                                NaN   \n",
       "4  http://www.amazon.co.uk/Hornby-R6367-RailRoad-...   \n",
       "\n",
       "                                         description  \\\n",
       "0  Product Description Hornby 2014 Catalogue Box ...   \n",
       "1  Size Name:Large FunkyBuys® Large Christmas Hol...   \n",
       "2  BIG CLASSIC TOY TRAIN SET TRACK CARRIAGE LIGHT...   \n",
       "3  Hornby 00 Gauge BR Hawksworth 3rd Class W 2107...   \n",
       "4  Product Description Hornby RailRoad 0-4-0 Gild...   \n",
       "\n",
       "                                 product_information  \\\n",
       "0  Technical Details Item Weight640 g Product Dim...   \n",
       "1  Technical Details Manufacturer recommended age...   \n",
       "2  Technical Details Manufacturer recommended age...   \n",
       "3  Technical Details Item Weight259 g Product Dim...   \n",
       "4  Technical Details Item Weight159 g Product Dim...   \n",
       "\n",
       "                                 product_description  \\\n",
       "0  Product Description Hornby 2014 Catalogue Box ...   \n",
       "1  Size Name:Large FunkyBuys® Large Christmas Hol...   \n",
       "2  BIG CLASSIC TOY TRAIN SET TRACK CARRIAGE LIGHT...   \n",
       "3  Hornby 00 Gauge BR Hawksworth 3rd Class W 2107...   \n",
       "4  Product Description Hornby RailRoad 0-4-0 Gild...   \n",
       "\n",
       "         items_customers_buy_after_viewing_this_item  \\\n",
       "0  http://www.amazon.co.uk/Hornby-R8150-Catalogue...   \n",
       "1  http://www.amazon.co.uk/Christmas-Holiday-Expr...   \n",
       "2  http://www.amazon.co.uk/Train-With-Tracks-Batt...   \n",
       "3                                                NaN   \n",
       "4  http://www.amazon.co.uk/Hornby-R2672-RailRoad-...   \n",
       "\n",
       "                      customer_questions_and_answers  \\\n",
       "0  Does this catalogue detail all the previous Ho...   \n",
       "1  can you turn off sounds // hi no you cant turn...   \n",
       "2  What is the gauge of the track // Hi Paul.Trut...   \n",
       "3                                                NaN   \n",
       "4                                                NaN   \n",
       "\n",
       "                                    customer_reviews  \\\n",
       "0  Worth Buying For The Pictures Alone (As Ever) ...   \n",
       "1  Four Stars // 4.0 // 18 Dec. 2015 // By\\n    \\...   \n",
       "2  **Highly Recommended!** // 5.0 // 26 May 2015 ...   \n",
       "3  I love it // 5.0 // 22 July 2013 // By\\n    \\n...   \n",
       "4  Birthday present // 5.0 // 14 April 2014 // By...   \n",
       "\n",
       "                                             sellers  new_avg_review_rating  \\\n",
       "0  {\"seller\"=>[{\"Seller_name_1\"=>\"Amazon.co.uk\", ...                    4.9   \n",
       "1  {\"seller\"=>{\"Seller_name_1\"=>\"UHD WHOLESALE\", ...                    4.5   \n",
       "2  {\"seller\"=>[{\"Seller_name_1\"=>\"DEAL-BOX\", \"Sel...                    3.9   \n",
       "3                                                NaN                    5.0   \n",
       "4                                                NaN                    4.7   \n",
       "\n",
       "   new_num_reviews  clean_price  \n",
       "0             15.0         3.42  \n",
       "1              2.0        16.99  \n",
       "2             17.0         9.99  \n",
       "3              1.0        39.99  \n",
       "4              3.0        32.19  "
      ]
     },
     "execution_count": 32,
     "metadata": {},
     "output_type": "execute_result"
    }
   ],
   "source": [
    "ama.head()"
   ]
  },
  {
   "cell_type": "code",
   "execution_count": null,
   "metadata": {},
   "outputs": [],
   "source": []
  },
  {
   "cell_type": "code",
   "execution_count": 13,
   "metadata": {
    "ExecuteTime": {
     "end_time": "2020-12-07T07:35:47.821724Z",
     "start_time": "2020-12-07T07:35:47.648725Z"
    }
   },
   "outputs": [
    {
     "data": {
      "text/plain": [
       "0        5 \n",
       "1       NaN\n",
       "2        2 \n",
       "3       NaN\n",
       "4       NaN\n",
       "       ... \n",
       "9995     5 \n",
       "9996    NaN\n",
       "9997     3 \n",
       "9998     3 \n",
       "9999    31 \n",
       "Name: number_available_in_stock, Length: 10000, dtype: object"
      ]
     },
     "execution_count": 13,
     "metadata": {},
     "output_type": "execute_result"
    }
   ],
   "source": [
    "ama.number_available_in_stock.str.replace('new','')"
   ]
  },
  {
   "cell_type": "code",
   "execution_count": 14,
   "metadata": {
    "ExecuteTime": {
     "end_time": "2020-12-07T07:35:48.047725Z",
     "start_time": "2020-12-07T07:35:47.829724Z"
    }
   },
   "outputs": [
    {
     "data": {
      "text/plain": [
       "0        5 \n",
       "1       NaN\n",
       "2        2 \n",
       "3       NaN\n",
       "4       NaN\n",
       "       ... \n",
       "9995     5 \n",
       "9996    NaN\n",
       "9997     3 \n",
       "9998     3 \n",
       "9999    31 \n",
       "Name: number_available_in_stock, Length: 10000, dtype: object"
      ]
     },
     "execution_count": 14,
     "metadata": {},
     "output_type": "execute_result"
    }
   ],
   "source": [
    "ama.number_available_in_stock.str.replace('new','')"
   ]
  },
  {
   "cell_type": "code",
   "execution_count": 15,
   "metadata": {
    "ExecuteTime": {
     "end_time": "2020-12-07T07:35:48.293356Z",
     "start_time": "2020-12-07T07:35:48.055724Z"
    }
   },
   "outputs": [
    {
     "data": {
      "text/plain": [
       "0       4.9\n",
       "1       4.5\n",
       "2       3.9\n",
       "3       5.0\n",
       "4       4.7\n",
       "       ... \n",
       "9995    5.0\n",
       "9996    4.0\n",
       "9997    5.0\n",
       "9998    5.0\n",
       "9999    4.5\n",
       "Name: average_review_rating, Length: 10000, dtype: float64"
      ]
     },
     "execution_count": 15,
     "metadata": {},
     "output_type": "execute_result"
    }
   ],
   "source": [
    "ama['average_review_rating'].str.replace('out of 5 stars','').astype(float)"
   ]
  },
  {
   "cell_type": "code",
   "execution_count": 16,
   "metadata": {
    "ExecuteTime": {
     "end_time": "2020-12-07T07:35:48.434961Z",
     "start_time": "2020-12-07T07:35:48.314424Z"
    }
   },
   "outputs": [
    {
     "data": {
      "text/plain": [
       "0       15.0\n",
       "1        2.0\n",
       "2       17.0\n",
       "3        1.0\n",
       "4        3.0\n",
       "        ... \n",
       "9995     3.0\n",
       "9996     1.0\n",
       "9997     1.0\n",
       "9998     1.0\n",
       "9999    11.0\n",
       "Name: number_of_reviews, Length: 10000, dtype: float64"
      ]
     },
     "execution_count": 16,
     "metadata": {},
     "output_type": "execute_result"
    }
   ],
   "source": [
    "ama.number_of_reviews.str.replace(',','').astype(float) "
   ]
  },
  {
   "cell_type": "code",
   "execution_count": null,
   "metadata": {},
   "outputs": [],
   "source": []
  },
  {
   "cell_type": "code",
   "execution_count": 20,
   "metadata": {
    "ExecuteTime": {
     "end_time": "2020-12-07T07:37:11.005295Z",
     "start_time": "2020-12-07T07:37:10.950287Z"
    }
   },
   "outputs": [],
   "source": [
    "# changing the new_avg_review_rating into float\n",
    "ama['new_avg_review_rating']= ama['average_review_rating'].str.replace('out of 5 stars','').astype(float)"
   ]
  },
  {
   "cell_type": "code",
   "execution_count": 21,
   "metadata": {
    "ExecuteTime": {
     "end_time": "2020-12-07T07:37:17.457736Z",
     "start_time": "2020-12-07T07:37:17.426730Z"
    }
   },
   "outputs": [],
   "source": [
    "# Assigning number of reviews to new_num_reviews\n",
    "ama['new_num_reviews']= ama.number_of_reviews.str.replace(',','').astype(float) "
   ]
  },
  {
   "cell_type": "code",
   "execution_count": 22,
   "metadata": {
    "ExecuteTime": {
     "end_time": "2020-12-07T07:37:20.880661Z",
     "start_time": "2020-12-07T07:37:20.867661Z"
    }
   },
   "outputs": [
    {
     "data": {
      "text/plain": [
       "['4.0', '5.0']"
      ]
     },
     "execution_count": 22,
     "metadata": {},
     "output_type": "execute_result"
    }
   ],
   "source": [
    "# Grabing only customer_reviews\n",
    "import re\n",
    "re.findall(r'((?:\\d)\\.\\d+(?=\\s))',ama.customer_reviews.iloc[1])"
   ]
  },
  {
   "cell_type": "code",
   "execution_count": 23,
   "metadata": {
    "ExecuteTime": {
     "end_time": "2020-12-07T07:37:23.478707Z",
     "start_time": "2020-12-07T07:37:23.464705Z"
    }
   },
   "outputs": [
    {
     "data": {
      "text/plain": [
       "'4.0'"
      ]
     },
     "execution_count": 23,
     "metadata": {},
     "output_type": "execute_result"
    }
   ],
   "source": [
    "re.findall(r'((?:\\d)\\.\\d+(?=\\s))',ama.customer_reviews.iloc[1])[0]"
   ]
  },
  {
   "cell_type": "code",
   "execution_count": 142,
   "metadata": {
    "ExecuteTime": {
     "end_time": "2020-12-07T12:42:20.267282Z",
     "start_time": "2020-12-07T12:42:20.251280Z"
    }
   },
   "outputs": [
    {
     "data": {
      "text/plain": [
       "\"Worth Buying For The Pictures Alone (As Ever) // 4.0 // 6 April 2014 // By\\n    \\n    Copnovelist\\n  \\n on 6 April 2014 // Part of the magic for me growing up as a boy was to buy (or be given) the new Hornby catalogue every year, even if it included 90% of the same products as the previous year.  I've still got my old ones dating back to the 70s and 80s somewhere.  These days the catalogue is especially informative in that it tells you the vintage of the rolling stock which is useful if you are dedicating your railway to one particular era and train company. | Amazing detail fabulous photography. // 5.0 // 11 April 2015 // By\\n    \\n    richard\\n  \\n on 11 April 2015 // Amazing detail, every credit to the photographer in this book, a worthy reference manual, as well as a sales brochure. even if you only have a passing interest in the hobby you will be transported to another time when we were all younger and in awe of the big trains. | 'Great Purchase' // 5.0 // 23 April 2014 // By\\n    \\n    Pinkhandbag\\n  \\n on 23 April 2014 // This was purchased on behalf of my Dad. He is always asking me to look up 00 gauge engines online, so this has been a good buy as he can look at it anytime. Would definitely buy the next one 2015!It arrived quickly and in perfect condition :-) | Great Catalogue // 5.0 // 11 Jun. 2014 // By\\n    \\n    Gary John Mapson\\n  \\n on 11 Jun. 2014 // Everything I really needed to see what was on offer from Hornby in the way of trains.  Would not have minded it included an RRP as well though | I collect them all as the glossy pictures are great and it is nice that you can still get ... // 5.0 // 7 Dec. 2014 // By\\n    \\n    David Baker\\n  \\n on 7 Dec. 2014 // I collect them all as the glossy pictures are great and it is nice that you can still get catalogs to collect. | Great catalogue // 5.0 // 20 Mar. 2015 // By\\n    \\n    John A. Day\\n  \\n on 20 Mar. 2015 // What a great book.  Extremely useful insight to all future christmas presents. | Useful // 5.0 // 7 Oct. 2014 // By\\n    \\n    T. Davies\\n  \\n on 7 Oct. 2014 // Useful info for someonelike me starting back into the hobby after many years | hornbys latest catalogue. // 5.0 // 1 Dec. 2014 // By\\n    \\n    John Butlin\\n  \\n on 1 Dec. 2014 // A well produced very good quality catalogue.Super quality pictures.\""
      ]
     },
     "execution_count": 142,
     "metadata": {},
     "output_type": "execute_result"
    }
   ],
   "source": [
    "ama.customer_reviews.iloc[0]"
   ]
  },
  {
   "cell_type": "code",
   "execution_count": null,
   "metadata": {},
   "outputs": [],
   "source": [
    "ama"
   ]
  },
  {
   "cell_type": "code",
   "execution_count": null,
   "metadata": {},
   "outputs": [],
   "source": []
  },
  {
   "cell_type": "code",
   "execution_count": 39,
   "metadata": {
    "ExecuteTime": {
     "end_time": "2020-12-07T08:11:59.711348Z",
     "start_time": "2020-12-07T08:11:59.603352Z"
    }
   },
   "outputs": [
    {
     "data": {
      "text/html": [
       "<div>\n",
       "<style scoped>\n",
       "    .dataframe tbody tr th:only-of-type {\n",
       "        vertical-align: middle;\n",
       "    }\n",
       "\n",
       "    .dataframe tbody tr th {\n",
       "        vertical-align: top;\n",
       "    }\n",
       "\n",
       "    .dataframe thead th {\n",
       "        text-align: right;\n",
       "    }\n",
       "</style>\n",
       "<table border=\"1\" class=\"dataframe\">\n",
       "  <thead>\n",
       "    <tr style=\"text-align: right;\">\n",
       "      <th></th>\n",
       "      <th>uniq_id</th>\n",
       "      <th>product_name</th>\n",
       "      <th>manufacturer</th>\n",
       "      <th>price</th>\n",
       "      <th>number_available_in_stock</th>\n",
       "      <th>number_of_reviews</th>\n",
       "      <th>number_of_answered_questions</th>\n",
       "      <th>average_review_rating</th>\n",
       "      <th>amazon_category_and_sub_category</th>\n",
       "      <th>customers_who_bought_this_item_also_bought</th>\n",
       "      <th>description</th>\n",
       "      <th>product_information</th>\n",
       "      <th>product_description</th>\n",
       "      <th>items_customers_buy_after_viewing_this_item</th>\n",
       "      <th>customer_questions_and_answers</th>\n",
       "      <th>customer_reviews</th>\n",
       "      <th>sellers</th>\n",
       "      <th>new_avg_review_rating</th>\n",
       "      <th>new_num_reviews</th>\n",
       "      <th>clean_price</th>\n",
       "    </tr>\n",
       "  </thead>\n",
       "  <tbody>\n",
       "    <tr>\n",
       "      <th>0</th>\n",
       "      <td>eac7efa5dbd3d667f26eb3d3ab504464</td>\n",
       "      <td>Hornby 2014 Catalogue</td>\n",
       "      <td>Hornby</td>\n",
       "      <td>£3.42</td>\n",
       "      <td>5 new</td>\n",
       "      <td>15</td>\n",
       "      <td>1.0</td>\n",
       "      <td>4.9 out of 5 stars</td>\n",
       "      <td>Hobbies &gt; Model Trains &amp; Railway Sets &gt; Rail V...</td>\n",
       "      <td>http://www.amazon.co.uk/Hornby-R8150-Catalogue...</td>\n",
       "      <td>Product Description Hornby 2014 Catalogue Box ...</td>\n",
       "      <td>Technical Details Item Weight640 g Product Dim...</td>\n",
       "      <td>Product Description Hornby 2014 Catalogue Box ...</td>\n",
       "      <td>http://www.amazon.co.uk/Hornby-R8150-Catalogue...</td>\n",
       "      <td>Does this catalogue detail all the previous Ho...</td>\n",
       "      <td>Worth Buying For The Pictures Alone (As Ever) ...</td>\n",
       "      <td>{\"seller\"=&gt;[{\"Seller_name_1\"=&gt;\"Amazon.co.uk\", ...</td>\n",
       "      <td>4.9</td>\n",
       "      <td>15.0</td>\n",
       "      <td>3.42</td>\n",
       "    </tr>\n",
       "    <tr>\n",
       "      <th>1</th>\n",
       "      <td>b17540ef7e86e461d37f3ae58b7b72ac</td>\n",
       "      <td>FunkyBuys® Large Christmas Holiday Express Fes...</td>\n",
       "      <td>FunkyBuys</td>\n",
       "      <td>£16.99</td>\n",
       "      <td>NaN</td>\n",
       "      <td>2</td>\n",
       "      <td>1.0</td>\n",
       "      <td>4.5 out of 5 stars</td>\n",
       "      <td>Hobbies &gt; Model Trains &amp; Railway Sets &gt; Rail V...</td>\n",
       "      <td>http://www.amazon.co.uk/Christmas-Holiday-Expr...</td>\n",
       "      <td>Size Name:Large FunkyBuys® Large Christmas Hol...</td>\n",
       "      <td>Technical Details Manufacturer recommended age...</td>\n",
       "      <td>Size Name:Large FunkyBuys® Large Christmas Hol...</td>\n",
       "      <td>http://www.amazon.co.uk/Christmas-Holiday-Expr...</td>\n",
       "      <td>can you turn off sounds // hi no you cant turn...</td>\n",
       "      <td>Four Stars // 4.0 // 18 Dec. 2015 // By\\n    \\...</td>\n",
       "      <td>{\"seller\"=&gt;{\"Seller_name_1\"=&gt;\"UHD WHOLESALE\", ...</td>\n",
       "      <td>4.5</td>\n",
       "      <td>2.0</td>\n",
       "      <td>16.99</td>\n",
       "    </tr>\n",
       "    <tr>\n",
       "      <th>2</th>\n",
       "      <td>348f344247b0c1a935b1223072ef9d8a</td>\n",
       "      <td>CLASSIC TOY TRAIN SET TRACK CARRIAGES LIGHT EN...</td>\n",
       "      <td>ccf</td>\n",
       "      <td>£9.99</td>\n",
       "      <td>2 new</td>\n",
       "      <td>17</td>\n",
       "      <td>2.0</td>\n",
       "      <td>3.9 out of 5 stars</td>\n",
       "      <td>Hobbies &gt; Model Trains &amp; Railway Sets &gt; Rail V...</td>\n",
       "      <td>http://www.amazon.co.uk/Classic-Train-Lights-B...</td>\n",
       "      <td>BIG CLASSIC TOY TRAIN SET TRACK CARRIAGE LIGHT...</td>\n",
       "      <td>Technical Details Manufacturer recommended age...</td>\n",
       "      <td>BIG CLASSIC TOY TRAIN SET TRACK CARRIAGE LIGHT...</td>\n",
       "      <td>http://www.amazon.co.uk/Train-With-Tracks-Batt...</td>\n",
       "      <td>What is the gauge of the track // Hi Paul.Trut...</td>\n",
       "      <td>**Highly Recommended!** // 5.0 // 26 May 2015 ...</td>\n",
       "      <td>{\"seller\"=&gt;[{\"Seller_name_1\"=&gt;\"DEAL-BOX\", \"Sel...</td>\n",
       "      <td>3.9</td>\n",
       "      <td>17.0</td>\n",
       "      <td>9.99</td>\n",
       "    </tr>\n",
       "    <tr>\n",
       "      <th>3</th>\n",
       "      <td>e12b92dbb8eaee78b22965d2a9bbbd9f</td>\n",
       "      <td>HORNBY Coach R4410A BR Hawksworth Corridor 3rd</td>\n",
       "      <td>Hornby</td>\n",
       "      <td>£39.99</td>\n",
       "      <td>NaN</td>\n",
       "      <td>1</td>\n",
       "      <td>2.0</td>\n",
       "      <td>5.0 out of 5 stars</td>\n",
       "      <td>Hobbies &gt; Model Trains &amp; Railway Sets &gt; Rail V...</td>\n",
       "      <td>NaN</td>\n",
       "      <td>Hornby 00 Gauge BR Hawksworth 3rd Class W 2107...</td>\n",
       "      <td>Technical Details Item Weight259 g Product Dim...</td>\n",
       "      <td>Hornby 00 Gauge BR Hawksworth 3rd Class W 2107...</td>\n",
       "      <td>NaN</td>\n",
       "      <td>NaN</td>\n",
       "      <td>I love it // 5.0 // 22 July 2013 // By\\n    \\n...</td>\n",
       "      <td>NaN</td>\n",
       "      <td>5.0</td>\n",
       "      <td>1.0</td>\n",
       "      <td>39.99</td>\n",
       "    </tr>\n",
       "    <tr>\n",
       "      <th>4</th>\n",
       "      <td>e33a9adeed5f36840ccc227db4682a36</td>\n",
       "      <td>Hornby 00 Gauge 0-4-0 Gildenlow Salt Co. Steam...</td>\n",
       "      <td>Hornby</td>\n",
       "      <td>£32.19</td>\n",
       "      <td>NaN</td>\n",
       "      <td>3</td>\n",
       "      <td>2.0</td>\n",
       "      <td>4.7 out of 5 stars</td>\n",
       "      <td>Hobbies &gt; Model Trains &amp; Railway Sets &gt; Rail V...</td>\n",
       "      <td>http://www.amazon.co.uk/Hornby-R6367-RailRoad-...</td>\n",
       "      <td>Product Description Hornby RailRoad 0-4-0 Gild...</td>\n",
       "      <td>Technical Details Item Weight159 g Product Dim...</td>\n",
       "      <td>Product Description Hornby RailRoad 0-4-0 Gild...</td>\n",
       "      <td>http://www.amazon.co.uk/Hornby-R2672-RailRoad-...</td>\n",
       "      <td>NaN</td>\n",
       "      <td>Birthday present // 5.0 // 14 April 2014 // By...</td>\n",
       "      <td>NaN</td>\n",
       "      <td>4.7</td>\n",
       "      <td>3.0</td>\n",
       "      <td>32.19</td>\n",
       "    </tr>\n",
       "  </tbody>\n",
       "</table>\n",
       "</div>"
      ],
      "text/plain": [
       "                            uniq_id  \\\n",
       "0  eac7efa5dbd3d667f26eb3d3ab504464   \n",
       "1  b17540ef7e86e461d37f3ae58b7b72ac   \n",
       "2  348f344247b0c1a935b1223072ef9d8a   \n",
       "3  e12b92dbb8eaee78b22965d2a9bbbd9f   \n",
       "4  e33a9adeed5f36840ccc227db4682a36   \n",
       "\n",
       "                                        product_name manufacturer   price  \\\n",
       "0                              Hornby 2014 Catalogue       Hornby   £3.42   \n",
       "1  FunkyBuys® Large Christmas Holiday Express Fes...    FunkyBuys  £16.99   \n",
       "2  CLASSIC TOY TRAIN SET TRACK CARRIAGES LIGHT EN...          ccf   £9.99   \n",
       "3     HORNBY Coach R4410A BR Hawksworth Corridor 3rd       Hornby  £39.99   \n",
       "4  Hornby 00 Gauge 0-4-0 Gildenlow Salt Co. Steam...       Hornby  £32.19   \n",
       "\n",
       "  number_available_in_stock number_of_reviews  number_of_answered_questions  \\\n",
       "0                     5 new                15                           1.0   \n",
       "1                       NaN                 2                           1.0   \n",
       "2                     2 new                17                           2.0   \n",
       "3                       NaN                 1                           2.0   \n",
       "4                       NaN                 3                           2.0   \n",
       "\n",
       "  average_review_rating                   amazon_category_and_sub_category  \\\n",
       "0    4.9 out of 5 stars  Hobbies > Model Trains & Railway Sets > Rail V...   \n",
       "1    4.5 out of 5 stars  Hobbies > Model Trains & Railway Sets > Rail V...   \n",
       "2    3.9 out of 5 stars  Hobbies > Model Trains & Railway Sets > Rail V...   \n",
       "3    5.0 out of 5 stars  Hobbies > Model Trains & Railway Sets > Rail V...   \n",
       "4    4.7 out of 5 stars  Hobbies > Model Trains & Railway Sets > Rail V...   \n",
       "\n",
       "          customers_who_bought_this_item_also_bought  \\\n",
       "0  http://www.amazon.co.uk/Hornby-R8150-Catalogue...   \n",
       "1  http://www.amazon.co.uk/Christmas-Holiday-Expr...   \n",
       "2  http://www.amazon.co.uk/Classic-Train-Lights-B...   \n",
       "3                                                NaN   \n",
       "4  http://www.amazon.co.uk/Hornby-R6367-RailRoad-...   \n",
       "\n",
       "                                         description  \\\n",
       "0  Product Description Hornby 2014 Catalogue Box ...   \n",
       "1  Size Name:Large FunkyBuys® Large Christmas Hol...   \n",
       "2  BIG CLASSIC TOY TRAIN SET TRACK CARRIAGE LIGHT...   \n",
       "3  Hornby 00 Gauge BR Hawksworth 3rd Class W 2107...   \n",
       "4  Product Description Hornby RailRoad 0-4-0 Gild...   \n",
       "\n",
       "                                 product_information  \\\n",
       "0  Technical Details Item Weight640 g Product Dim...   \n",
       "1  Technical Details Manufacturer recommended age...   \n",
       "2  Technical Details Manufacturer recommended age...   \n",
       "3  Technical Details Item Weight259 g Product Dim...   \n",
       "4  Technical Details Item Weight159 g Product Dim...   \n",
       "\n",
       "                                 product_description  \\\n",
       "0  Product Description Hornby 2014 Catalogue Box ...   \n",
       "1  Size Name:Large FunkyBuys® Large Christmas Hol...   \n",
       "2  BIG CLASSIC TOY TRAIN SET TRACK CARRIAGE LIGHT...   \n",
       "3  Hornby 00 Gauge BR Hawksworth 3rd Class W 2107...   \n",
       "4  Product Description Hornby RailRoad 0-4-0 Gild...   \n",
       "\n",
       "         items_customers_buy_after_viewing_this_item  \\\n",
       "0  http://www.amazon.co.uk/Hornby-R8150-Catalogue...   \n",
       "1  http://www.amazon.co.uk/Christmas-Holiday-Expr...   \n",
       "2  http://www.amazon.co.uk/Train-With-Tracks-Batt...   \n",
       "3                                                NaN   \n",
       "4  http://www.amazon.co.uk/Hornby-R2672-RailRoad-...   \n",
       "\n",
       "                      customer_questions_and_answers  \\\n",
       "0  Does this catalogue detail all the previous Ho...   \n",
       "1  can you turn off sounds // hi no you cant turn...   \n",
       "2  What is the gauge of the track // Hi Paul.Trut...   \n",
       "3                                                NaN   \n",
       "4                                                NaN   \n",
       "\n",
       "                                    customer_reviews  \\\n",
       "0  Worth Buying For The Pictures Alone (As Ever) ...   \n",
       "1  Four Stars // 4.0 // 18 Dec. 2015 // By\\n    \\...   \n",
       "2  **Highly Recommended!** // 5.0 // 26 May 2015 ...   \n",
       "3  I love it // 5.0 // 22 July 2013 // By\\n    \\n...   \n",
       "4  Birthday present // 5.0 // 14 April 2014 // By...   \n",
       "\n",
       "                                             sellers  new_avg_review_rating  \\\n",
       "0  {\"seller\"=>[{\"Seller_name_1\"=>\"Amazon.co.uk\", ...                    4.9   \n",
       "1  {\"seller\"=>{\"Seller_name_1\"=>\"UHD WHOLESALE\", ...                    4.5   \n",
       "2  {\"seller\"=>[{\"Seller_name_1\"=>\"DEAL-BOX\", \"Sel...                    3.9   \n",
       "3                                                NaN                    5.0   \n",
       "4                                                NaN                    4.7   \n",
       "\n",
       "   new_num_reviews  clean_price  \n",
       "0             15.0         3.42  \n",
       "1              2.0        16.99  \n",
       "2             17.0         9.99  \n",
       "3              1.0        39.99  \n",
       "4              3.0        32.19  "
      ]
     },
     "execution_count": 39,
     "metadata": {},
     "output_type": "execute_result"
    }
   ],
   "source": [
    "ama.head()"
   ]
  },
  {
   "cell_type": "code",
   "execution_count": 46,
   "metadata": {
    "ExecuteTime": {
     "end_time": "2020-12-07T08:17:07.383224Z",
     "start_time": "2020-12-07T08:17:07.338226Z"
    }
   },
   "outputs": [
    {
     "data": {
      "text/plain": [
       "0        5 \n",
       "1       NaN\n",
       "2        2 \n",
       "3       NaN\n",
       "4       NaN\n",
       "       ... \n",
       "9995     5 \n",
       "9996    NaN\n",
       "9997     3 \n",
       "9998     3 \n",
       "9999    31 \n",
       "Name: number_available_in_stock, Length: 10000, dtype: object"
      ]
     },
     "execution_count": 46,
     "metadata": {},
     "output_type": "execute_result"
    }
   ],
   "source": [
    "new1 = ama['number_available_in_stock'].str.replace('new','')\n",
    "new1"
   ]
  },
  {
   "cell_type": "code",
   "execution_count": 55,
   "metadata": {
    "ExecuteTime": {
     "end_time": "2020-12-07T08:19:01.625477Z",
     "start_time": "2020-12-07T08:19:01.571475Z"
    }
   },
   "outputs": [
    {
     "data": {
      "text/plain": [
       "0        5 \n",
       "1       NaN\n",
       "2        2 \n",
       "3       NaN\n",
       "4       NaN\n",
       "       ... \n",
       "9995     5 \n",
       "9996    NaN\n",
       "9997     3 \n",
       "9998     3 \n",
       "9999    31 \n",
       "Name: number_available_in_stock, Length: 10000, dtype: object"
      ]
     },
     "execution_count": 55,
     "metadata": {},
     "output_type": "execute_result"
    }
   ],
   "source": [
    "new2 = new1.str.replace('used','')\n",
    "new2"
   ]
  },
  {
   "cell_type": "code",
   "execution_count": 59,
   "metadata": {
    "ExecuteTime": {
     "end_time": "2020-12-07T08:20:16.167729Z",
     "start_time": "2020-12-07T08:20:16.122725Z"
    }
   },
   "outputs": [
    {
     "data": {
      "text/plain": [
       "0        5 \n",
       "1       NaN\n",
       "2        2 \n",
       "3       NaN\n",
       "4       NaN\n",
       "       ... \n",
       "9995     5 \n",
       "9996    NaN\n",
       "9997     3 \n",
       "9998     3 \n",
       "9999    31 \n",
       "Name: number_available_in_stock, Length: 10000, dtype: object"
      ]
     },
     "execution_count": 59,
     "metadata": {},
     "output_type": "execute_result"
    }
   ],
   "source": [
    "new3 = new2.str.replace('collectible','')\n",
    "new3"
   ]
  },
  {
   "cell_type": "code",
   "execution_count": 62,
   "metadata": {
    "ExecuteTime": {
     "end_time": "2020-12-07T08:21:11.883381Z",
     "start_time": "2020-12-07T08:21:11.838368Z"
    }
   },
   "outputs": [
    {
     "data": {
      "text/plain": [
       "0        5 \n",
       "1       NaN\n",
       "2        2 \n",
       "3       NaN\n",
       "4       NaN\n",
       "       ... \n",
       "9995     5 \n",
       "9996    NaN\n",
       "9997     3 \n",
       "9998     3 \n",
       "9999    31 \n",
       "Name: number_available_in_stock, Length: 10000, dtype: object"
      ]
     },
     "execution_count": 62,
     "metadata": {},
     "output_type": "execute_result"
    }
   ],
   "source": [
    "new4 = new3.str.replace('refurbished','')\n",
    "new4"
   ]
  },
  {
   "cell_type": "code",
   "execution_count": 63,
   "metadata": {
    "ExecuteTime": {
     "end_time": "2020-12-07T08:21:22.170464Z",
     "start_time": "2020-12-07T08:21:22.147451Z"
    }
   },
   "outputs": [
    {
     "data": {
      "text/plain": [
       "0        5.0\n",
       "1        NaN\n",
       "2        2.0\n",
       "3        NaN\n",
       "4        NaN\n",
       "        ... \n",
       "9995     5.0\n",
       "9996     NaN\n",
       "9997     3.0\n",
       "9998     3.0\n",
       "9999    31.0\n",
       "Name: number_available_in_stock, Length: 10000, dtype: float64"
      ]
     },
     "execution_count": 63,
     "metadata": {},
     "output_type": "execute_result"
    }
   ],
   "source": [
    "new4.astype(float)"
   ]
  },
  {
   "cell_type": "code",
   "execution_count": 68,
   "metadata": {
    "ExecuteTime": {
     "end_time": "2020-12-07T08:24:11.323428Z",
     "start_time": "2020-12-07T08:24:11.210409Z"
    }
   },
   "outputs": [
    {
     "data": {
      "text/plain": [
       "0        5.0\n",
       "1        NaN\n",
       "2        2.0\n",
       "3        NaN\n",
       "4        NaN\n",
       "        ... \n",
       "9995     5.0\n",
       "9996     NaN\n",
       "9997     3.0\n",
       "9998     3.0\n",
       "9999    31.0\n",
       "Name: number_available_in_stock, Length: 10000, dtype: float64"
      ]
     },
     "execution_count": 68,
     "metadata": {},
     "output_type": "execute_result"
    }
   ],
   "source": [
    "ama['number_available_in_stock'].str.replace('new','').str.replace('used','').str.replace('collectible','').str.replace('refurbished','').astype(float)"
   ]
  },
  {
   "cell_type": "code",
   "execution_count": 70,
   "metadata": {
    "ExecuteTime": {
     "end_time": "2020-12-07T08:25:25.493059Z",
     "start_time": "2020-12-07T08:25:25.379027Z"
    }
   },
   "outputs": [],
   "source": [
    "ama['new_available_stock']= ama['number_available_in_stock'].str.replace('new','').str.replace('used','').str.replace('collectible','').str.replace('refurbished','').astype(float)"
   ]
  },
  {
   "cell_type": "code",
   "execution_count": 71,
   "metadata": {
    "ExecuteTime": {
     "end_time": "2020-12-07T08:25:28.239722Z",
     "start_time": "2020-12-07T08:25:28.163721Z"
    }
   },
   "outputs": [
    {
     "name": "stdout",
     "output_type": "stream",
     "text": [
      "<class 'pandas.core.frame.DataFrame'>\n",
      "RangeIndex: 10000 entries, 0 to 9999\n",
      "Data columns (total 21 columns):\n",
      " #   Column                                       Non-Null Count  Dtype  \n",
      "---  ------                                       --------------  -----  \n",
      " 0   uniq_id                                      10000 non-null  object \n",
      " 1   product_name                                 10000 non-null  object \n",
      " 2   manufacturer                                 9993 non-null   object \n",
      " 3   price                                        8565 non-null   object \n",
      " 4   number_available_in_stock                    7500 non-null   object \n",
      " 5   number_of_reviews                            9982 non-null   object \n",
      " 6   number_of_answered_questions                 9235 non-null   float64\n",
      " 7   average_review_rating                        9982 non-null   object \n",
      " 8   amazon_category_and_sub_category             9310 non-null   object \n",
      " 9   customers_who_bought_this_item_also_bought   8938 non-null   object \n",
      " 10  description                                  9349 non-null   object \n",
      " 11  product_information                          9942 non-null   object \n",
      " 12  product_description                          9349 non-null   object \n",
      " 13  items_customers_buy_after_viewing_this_item  6935 non-null   object \n",
      " 14  customer_questions_and_answers               914 non-null    object \n",
      " 15  customer_reviews                             9979 non-null   object \n",
      " 16  sellers                                      6918 non-null   object \n",
      " 17  new_avg_review_rating                        9982 non-null   float64\n",
      " 18  new_num_reviews                              9982 non-null   float64\n",
      " 19  clean_price                                  8565 non-null   float64\n",
      " 20  new_available_stock                          7500 non-null   float64\n",
      "dtypes: float64(5), object(16)\n",
      "memory usage: 1.6+ MB\n"
     ]
    }
   ],
   "source": [
    "ama.info()"
   ]
  },
  {
   "cell_type": "code",
   "execution_count": 72,
   "metadata": {
    "ExecuteTime": {
     "end_time": "2020-12-07T08:25:56.168836Z",
     "start_time": "2020-12-07T08:25:56.087819Z"
    }
   },
   "outputs": [
    {
     "data": {
      "text/html": [
       "<div>\n",
       "<style scoped>\n",
       "    .dataframe tbody tr th:only-of-type {\n",
       "        vertical-align: middle;\n",
       "    }\n",
       "\n",
       "    .dataframe tbody tr th {\n",
       "        vertical-align: top;\n",
       "    }\n",
       "\n",
       "    .dataframe thead th {\n",
       "        text-align: right;\n",
       "    }\n",
       "</style>\n",
       "<table border=\"1\" class=\"dataframe\">\n",
       "  <thead>\n",
       "    <tr style=\"text-align: right;\">\n",
       "      <th></th>\n",
       "      <th>number_of_answered_questions</th>\n",
       "      <th>new_avg_review_rating</th>\n",
       "      <th>new_num_reviews</th>\n",
       "      <th>clean_price</th>\n",
       "      <th>new_available_stock</th>\n",
       "    </tr>\n",
       "  </thead>\n",
       "  <tbody>\n",
       "    <tr>\n",
       "      <th>count</th>\n",
       "      <td>9235.000000</td>\n",
       "      <td>9982.000000</td>\n",
       "      <td>9982.000000</td>\n",
       "      <td>8565.000000</td>\n",
       "      <td>7500.000000</td>\n",
       "    </tr>\n",
       "    <tr>\n",
       "      <th>mean</th>\n",
       "      <td>1.834976</td>\n",
       "      <td>4.707283</td>\n",
       "      <td>9.139952</td>\n",
       "      <td>20.278110</td>\n",
       "      <td>7.916933</td>\n",
       "    </tr>\n",
       "    <tr>\n",
       "      <th>std</th>\n",
       "      <td>2.517268</td>\n",
       "      <td>0.372279</td>\n",
       "      <td>33.728145</td>\n",
       "      <td>46.345557</td>\n",
       "      <td>8.805777</td>\n",
       "    </tr>\n",
       "    <tr>\n",
       "      <th>min</th>\n",
       "      <td>1.000000</td>\n",
       "      <td>2.300000</td>\n",
       "      <td>1.000000</td>\n",
       "      <td>0.010000</td>\n",
       "      <td>1.000000</td>\n",
       "    </tr>\n",
       "    <tr>\n",
       "      <th>25%</th>\n",
       "      <td>1.000000</td>\n",
       "      <td>4.500000</td>\n",
       "      <td>1.000000</td>\n",
       "      <td>4.990000</td>\n",
       "      <td>3.000000</td>\n",
       "    </tr>\n",
       "    <tr>\n",
       "      <th>50%</th>\n",
       "      <td>1.000000</td>\n",
       "      <td>5.000000</td>\n",
       "      <td>2.000000</td>\n",
       "      <td>10.620000</td>\n",
       "      <td>5.000000</td>\n",
       "    </tr>\n",
       "    <tr>\n",
       "      <th>75%</th>\n",
       "      <td>2.000000</td>\n",
       "      <td>5.000000</td>\n",
       "      <td>6.000000</td>\n",
       "      <td>19.990000</td>\n",
       "      <td>10.000000</td>\n",
       "    </tr>\n",
       "    <tr>\n",
       "      <th>max</th>\n",
       "      <td>39.000000</td>\n",
       "      <td>5.000000</td>\n",
       "      <td>1399.000000</td>\n",
       "      <td>2439.920000</td>\n",
       "      <td>92.000000</td>\n",
       "    </tr>\n",
       "  </tbody>\n",
       "</table>\n",
       "</div>"
      ],
      "text/plain": [
       "       number_of_answered_questions  new_avg_review_rating  new_num_reviews  \\\n",
       "count                   9235.000000            9982.000000      9982.000000   \n",
       "mean                       1.834976               4.707283         9.139952   \n",
       "std                        2.517268               0.372279        33.728145   \n",
       "min                        1.000000               2.300000         1.000000   \n",
       "25%                        1.000000               4.500000         1.000000   \n",
       "50%                        1.000000               5.000000         2.000000   \n",
       "75%                        2.000000               5.000000         6.000000   \n",
       "max                       39.000000               5.000000      1399.000000   \n",
       "\n",
       "       clean_price  new_available_stock  \n",
       "count  8565.000000          7500.000000  \n",
       "mean     20.278110             7.916933  \n",
       "std      46.345557             8.805777  \n",
       "min       0.010000             1.000000  \n",
       "25%       4.990000             3.000000  \n",
       "50%      10.620000             5.000000  \n",
       "75%      19.990000            10.000000  \n",
       "max    2439.920000            92.000000  "
      ]
     },
     "execution_count": 72,
     "metadata": {},
     "output_type": "execute_result"
    }
   ],
   "source": [
    "ama.describe()"
   ]
  },
  {
   "cell_type": "markdown",
   "metadata": {},
   "source": [
    "# Checking the null values of our data sets."
   ]
  },
  {
   "cell_type": "code",
   "execution_count": 73,
   "metadata": {
    "ExecuteTime": {
     "end_time": "2020-12-07T08:26:00.377308Z",
     "start_time": "2020-12-07T08:26:00.323298Z"
    }
   },
   "outputs": [
    {
     "data": {
      "text/plain": [
       "customer_questions_and_answers                 9086\n",
       "sellers                                        3082\n",
       "items_customers_buy_after_viewing_this_item    3065\n",
       "new_available_stock                            2500\n",
       "number_available_in_stock                      2500\n",
       "clean_price                                    1435\n",
       "price                                          1435\n",
       "customers_who_bought_this_item_also_bought     1062\n",
       "number_of_answered_questions                    765\n",
       "amazon_category_and_sub_category                690\n",
       "description                                     651\n",
       "product_description                             651\n",
       "product_information                              58\n",
       "customer_reviews                                 21\n",
       "average_review_rating                            18\n",
       "number_of_reviews                                18\n",
       "new_avg_review_rating                            18\n",
       "new_num_reviews                                  18\n",
       "manufacturer                                      7\n",
       "product_name                                      0\n",
       "uniq_id                                           0\n",
       "dtype: int64"
      ]
     },
     "execution_count": 73,
     "metadata": {},
     "output_type": "execute_result"
    }
   ],
   "source": [
    "ama.isnull().sum().sort_values(ascending= False)"
   ]
  },
  {
   "cell_type": "markdown",
   "metadata": {},
   "source": [
    "# As we can see some of the features has more than 90% data are missing. For those columns we have decided to drope it. Any columns whose datas are missing more than 50%, we have decided to drope it. "
   ]
  },
  {
   "cell_type": "code",
   "execution_count": 74,
   "metadata": {
    "ExecuteTime": {
     "end_time": "2020-12-07T08:26:08.497390Z",
     "start_time": "2020-12-07T08:26:08.440387Z"
    }
   },
   "outputs": [
    {
     "data": {
      "text/plain": [
       "customer_questions_and_answers                 90.86\n",
       "sellers                                        30.82\n",
       "items_customers_buy_after_viewing_this_item    30.65\n",
       "new_available_stock                            25.00\n",
       "number_available_in_stock                      25.00\n",
       "clean_price                                    14.35\n",
       "price                                          14.35\n",
       "customers_who_bought_this_item_also_bought     10.62\n",
       "number_of_answered_questions                    7.65\n",
       "amazon_category_and_sub_category                6.90\n",
       "description                                     6.51\n",
       "product_description                             6.51\n",
       "product_information                             0.58\n",
       "customer_reviews                                0.21\n",
       "average_review_rating                           0.18\n",
       "number_of_reviews                               0.18\n",
       "new_avg_review_rating                           0.18\n",
       "new_num_reviews                                 0.18\n",
       "manufacturer                                    0.07\n",
       "product_name                                    0.00\n",
       "uniq_id                                         0.00\n",
       "dtype: float64"
      ]
     },
     "execution_count": 74,
     "metadata": {},
     "output_type": "execute_result"
    }
   ],
   "source": [
    "missing_data = (ama.isnull().sum()/ len(ama)) *100\n",
    "missing_data.sort_values(ascending = False)"
   ]
  },
  {
   "cell_type": "code",
   "execution_count": 77,
   "metadata": {
    "ExecuteTime": {
     "end_time": "2020-12-07T08:27:32.998903Z",
     "start_time": "2020-12-07T08:27:32.956889Z"
    }
   },
   "outputs": [],
   "source": [
    "ama1 = ama.drop(['price','number_of_reviews','average_review_rating','number_available_in_stock'], axis = 1)"
   ]
  },
  {
   "cell_type": "code",
   "execution_count": 78,
   "metadata": {
    "ExecuteTime": {
     "end_time": "2020-12-07T08:27:40.348660Z",
     "start_time": "2020-12-07T08:27:40.253659Z"
    }
   },
   "outputs": [
    {
     "data": {
      "text/html": [
       "<div>\n",
       "<style scoped>\n",
       "    .dataframe tbody tr th:only-of-type {\n",
       "        vertical-align: middle;\n",
       "    }\n",
       "\n",
       "    .dataframe tbody tr th {\n",
       "        vertical-align: top;\n",
       "    }\n",
       "\n",
       "    .dataframe thead th {\n",
       "        text-align: right;\n",
       "    }\n",
       "</style>\n",
       "<table border=\"1\" class=\"dataframe\">\n",
       "  <thead>\n",
       "    <tr style=\"text-align: right;\">\n",
       "      <th></th>\n",
       "      <th>uniq_id</th>\n",
       "      <th>product_name</th>\n",
       "      <th>manufacturer</th>\n",
       "      <th>number_of_answered_questions</th>\n",
       "      <th>amazon_category_and_sub_category</th>\n",
       "      <th>customers_who_bought_this_item_also_bought</th>\n",
       "      <th>description</th>\n",
       "      <th>product_information</th>\n",
       "      <th>product_description</th>\n",
       "      <th>items_customers_buy_after_viewing_this_item</th>\n",
       "      <th>customer_questions_and_answers</th>\n",
       "      <th>customer_reviews</th>\n",
       "      <th>sellers</th>\n",
       "      <th>new_avg_review_rating</th>\n",
       "      <th>new_num_reviews</th>\n",
       "      <th>clean_price</th>\n",
       "      <th>new_available_stock</th>\n",
       "    </tr>\n",
       "  </thead>\n",
       "  <tbody>\n",
       "    <tr>\n",
       "      <th>0</th>\n",
       "      <td>eac7efa5dbd3d667f26eb3d3ab504464</td>\n",
       "      <td>Hornby 2014 Catalogue</td>\n",
       "      <td>Hornby</td>\n",
       "      <td>1.0</td>\n",
       "      <td>Hobbies &gt; Model Trains &amp; Railway Sets &gt; Rail V...</td>\n",
       "      <td>http://www.amazon.co.uk/Hornby-R8150-Catalogue...</td>\n",
       "      <td>Product Description Hornby 2014 Catalogue Box ...</td>\n",
       "      <td>Technical Details Item Weight640 g Product Dim...</td>\n",
       "      <td>Product Description Hornby 2014 Catalogue Box ...</td>\n",
       "      <td>http://www.amazon.co.uk/Hornby-R8150-Catalogue...</td>\n",
       "      <td>Does this catalogue detail all the previous Ho...</td>\n",
       "      <td>Worth Buying For The Pictures Alone (As Ever) ...</td>\n",
       "      <td>{\"seller\"=&gt;[{\"Seller_name_1\"=&gt;\"Amazon.co.uk\", ...</td>\n",
       "      <td>4.9</td>\n",
       "      <td>15.0</td>\n",
       "      <td>3.42</td>\n",
       "      <td>5.0</td>\n",
       "    </tr>\n",
       "    <tr>\n",
       "      <th>1</th>\n",
       "      <td>b17540ef7e86e461d37f3ae58b7b72ac</td>\n",
       "      <td>FunkyBuys® Large Christmas Holiday Express Fes...</td>\n",
       "      <td>FunkyBuys</td>\n",
       "      <td>1.0</td>\n",
       "      <td>Hobbies &gt; Model Trains &amp; Railway Sets &gt; Rail V...</td>\n",
       "      <td>http://www.amazon.co.uk/Christmas-Holiday-Expr...</td>\n",
       "      <td>Size Name:Large FunkyBuys® Large Christmas Hol...</td>\n",
       "      <td>Technical Details Manufacturer recommended age...</td>\n",
       "      <td>Size Name:Large FunkyBuys® Large Christmas Hol...</td>\n",
       "      <td>http://www.amazon.co.uk/Christmas-Holiday-Expr...</td>\n",
       "      <td>can you turn off sounds // hi no you cant turn...</td>\n",
       "      <td>Four Stars // 4.0 // 18 Dec. 2015 // By\\n    \\...</td>\n",
       "      <td>{\"seller\"=&gt;{\"Seller_name_1\"=&gt;\"UHD WHOLESALE\", ...</td>\n",
       "      <td>4.5</td>\n",
       "      <td>2.0</td>\n",
       "      <td>16.99</td>\n",
       "      <td>NaN</td>\n",
       "    </tr>\n",
       "    <tr>\n",
       "      <th>2</th>\n",
       "      <td>348f344247b0c1a935b1223072ef9d8a</td>\n",
       "      <td>CLASSIC TOY TRAIN SET TRACK CARRIAGES LIGHT EN...</td>\n",
       "      <td>ccf</td>\n",
       "      <td>2.0</td>\n",
       "      <td>Hobbies &gt; Model Trains &amp; Railway Sets &gt; Rail V...</td>\n",
       "      <td>http://www.amazon.co.uk/Classic-Train-Lights-B...</td>\n",
       "      <td>BIG CLASSIC TOY TRAIN SET TRACK CARRIAGE LIGHT...</td>\n",
       "      <td>Technical Details Manufacturer recommended age...</td>\n",
       "      <td>BIG CLASSIC TOY TRAIN SET TRACK CARRIAGE LIGHT...</td>\n",
       "      <td>http://www.amazon.co.uk/Train-With-Tracks-Batt...</td>\n",
       "      <td>What is the gauge of the track // Hi Paul.Trut...</td>\n",
       "      <td>**Highly Recommended!** // 5.0 // 26 May 2015 ...</td>\n",
       "      <td>{\"seller\"=&gt;[{\"Seller_name_1\"=&gt;\"DEAL-BOX\", \"Sel...</td>\n",
       "      <td>3.9</td>\n",
       "      <td>17.0</td>\n",
       "      <td>9.99</td>\n",
       "      <td>2.0</td>\n",
       "    </tr>\n",
       "    <tr>\n",
       "      <th>3</th>\n",
       "      <td>e12b92dbb8eaee78b22965d2a9bbbd9f</td>\n",
       "      <td>HORNBY Coach R4410A BR Hawksworth Corridor 3rd</td>\n",
       "      <td>Hornby</td>\n",
       "      <td>2.0</td>\n",
       "      <td>Hobbies &gt; Model Trains &amp; Railway Sets &gt; Rail V...</td>\n",
       "      <td>NaN</td>\n",
       "      <td>Hornby 00 Gauge BR Hawksworth 3rd Class W 2107...</td>\n",
       "      <td>Technical Details Item Weight259 g Product Dim...</td>\n",
       "      <td>Hornby 00 Gauge BR Hawksworth 3rd Class W 2107...</td>\n",
       "      <td>NaN</td>\n",
       "      <td>NaN</td>\n",
       "      <td>I love it // 5.0 // 22 July 2013 // By\\n    \\n...</td>\n",
       "      <td>NaN</td>\n",
       "      <td>5.0</td>\n",
       "      <td>1.0</td>\n",
       "      <td>39.99</td>\n",
       "      <td>NaN</td>\n",
       "    </tr>\n",
       "    <tr>\n",
       "      <th>4</th>\n",
       "      <td>e33a9adeed5f36840ccc227db4682a36</td>\n",
       "      <td>Hornby 00 Gauge 0-4-0 Gildenlow Salt Co. Steam...</td>\n",
       "      <td>Hornby</td>\n",
       "      <td>2.0</td>\n",
       "      <td>Hobbies &gt; Model Trains &amp; Railway Sets &gt; Rail V...</td>\n",
       "      <td>http://www.amazon.co.uk/Hornby-R6367-RailRoad-...</td>\n",
       "      <td>Product Description Hornby RailRoad 0-4-0 Gild...</td>\n",
       "      <td>Technical Details Item Weight159 g Product Dim...</td>\n",
       "      <td>Product Description Hornby RailRoad 0-4-0 Gild...</td>\n",
       "      <td>http://www.amazon.co.uk/Hornby-R2672-RailRoad-...</td>\n",
       "      <td>NaN</td>\n",
       "      <td>Birthday present // 5.0 // 14 April 2014 // By...</td>\n",
       "      <td>NaN</td>\n",
       "      <td>4.7</td>\n",
       "      <td>3.0</td>\n",
       "      <td>32.19</td>\n",
       "      <td>NaN</td>\n",
       "    </tr>\n",
       "  </tbody>\n",
       "</table>\n",
       "</div>"
      ],
      "text/plain": [
       "                            uniq_id  \\\n",
       "0  eac7efa5dbd3d667f26eb3d3ab504464   \n",
       "1  b17540ef7e86e461d37f3ae58b7b72ac   \n",
       "2  348f344247b0c1a935b1223072ef9d8a   \n",
       "3  e12b92dbb8eaee78b22965d2a9bbbd9f   \n",
       "4  e33a9adeed5f36840ccc227db4682a36   \n",
       "\n",
       "                                        product_name manufacturer  \\\n",
       "0                              Hornby 2014 Catalogue       Hornby   \n",
       "1  FunkyBuys® Large Christmas Holiday Express Fes...    FunkyBuys   \n",
       "2  CLASSIC TOY TRAIN SET TRACK CARRIAGES LIGHT EN...          ccf   \n",
       "3     HORNBY Coach R4410A BR Hawksworth Corridor 3rd       Hornby   \n",
       "4  Hornby 00 Gauge 0-4-0 Gildenlow Salt Co. Steam...       Hornby   \n",
       "\n",
       "   number_of_answered_questions  \\\n",
       "0                           1.0   \n",
       "1                           1.0   \n",
       "2                           2.0   \n",
       "3                           2.0   \n",
       "4                           2.0   \n",
       "\n",
       "                    amazon_category_and_sub_category  \\\n",
       "0  Hobbies > Model Trains & Railway Sets > Rail V...   \n",
       "1  Hobbies > Model Trains & Railway Sets > Rail V...   \n",
       "2  Hobbies > Model Trains & Railway Sets > Rail V...   \n",
       "3  Hobbies > Model Trains & Railway Sets > Rail V...   \n",
       "4  Hobbies > Model Trains & Railway Sets > Rail V...   \n",
       "\n",
       "          customers_who_bought_this_item_also_bought  \\\n",
       "0  http://www.amazon.co.uk/Hornby-R8150-Catalogue...   \n",
       "1  http://www.amazon.co.uk/Christmas-Holiday-Expr...   \n",
       "2  http://www.amazon.co.uk/Classic-Train-Lights-B...   \n",
       "3                                                NaN   \n",
       "4  http://www.amazon.co.uk/Hornby-R6367-RailRoad-...   \n",
       "\n",
       "                                         description  \\\n",
       "0  Product Description Hornby 2014 Catalogue Box ...   \n",
       "1  Size Name:Large FunkyBuys® Large Christmas Hol...   \n",
       "2  BIG CLASSIC TOY TRAIN SET TRACK CARRIAGE LIGHT...   \n",
       "3  Hornby 00 Gauge BR Hawksworth 3rd Class W 2107...   \n",
       "4  Product Description Hornby RailRoad 0-4-0 Gild...   \n",
       "\n",
       "                                 product_information  \\\n",
       "0  Technical Details Item Weight640 g Product Dim...   \n",
       "1  Technical Details Manufacturer recommended age...   \n",
       "2  Technical Details Manufacturer recommended age...   \n",
       "3  Technical Details Item Weight259 g Product Dim...   \n",
       "4  Technical Details Item Weight159 g Product Dim...   \n",
       "\n",
       "                                 product_description  \\\n",
       "0  Product Description Hornby 2014 Catalogue Box ...   \n",
       "1  Size Name:Large FunkyBuys® Large Christmas Hol...   \n",
       "2  BIG CLASSIC TOY TRAIN SET TRACK CARRIAGE LIGHT...   \n",
       "3  Hornby 00 Gauge BR Hawksworth 3rd Class W 2107...   \n",
       "4  Product Description Hornby RailRoad 0-4-0 Gild...   \n",
       "\n",
       "         items_customers_buy_after_viewing_this_item  \\\n",
       "0  http://www.amazon.co.uk/Hornby-R8150-Catalogue...   \n",
       "1  http://www.amazon.co.uk/Christmas-Holiday-Expr...   \n",
       "2  http://www.amazon.co.uk/Train-With-Tracks-Batt...   \n",
       "3                                                NaN   \n",
       "4  http://www.amazon.co.uk/Hornby-R2672-RailRoad-...   \n",
       "\n",
       "                      customer_questions_and_answers  \\\n",
       "0  Does this catalogue detail all the previous Ho...   \n",
       "1  can you turn off sounds // hi no you cant turn...   \n",
       "2  What is the gauge of the track // Hi Paul.Trut...   \n",
       "3                                                NaN   \n",
       "4                                                NaN   \n",
       "\n",
       "                                    customer_reviews  \\\n",
       "0  Worth Buying For The Pictures Alone (As Ever) ...   \n",
       "1  Four Stars // 4.0 // 18 Dec. 2015 // By\\n    \\...   \n",
       "2  **Highly Recommended!** // 5.0 // 26 May 2015 ...   \n",
       "3  I love it // 5.0 // 22 July 2013 // By\\n    \\n...   \n",
       "4  Birthday present // 5.0 // 14 April 2014 // By...   \n",
       "\n",
       "                                             sellers  new_avg_review_rating  \\\n",
       "0  {\"seller\"=>[{\"Seller_name_1\"=>\"Amazon.co.uk\", ...                    4.9   \n",
       "1  {\"seller\"=>{\"Seller_name_1\"=>\"UHD WHOLESALE\", ...                    4.5   \n",
       "2  {\"seller\"=>[{\"Seller_name_1\"=>\"DEAL-BOX\", \"Sel...                    3.9   \n",
       "3                                                NaN                    5.0   \n",
       "4                                                NaN                    4.7   \n",
       "\n",
       "   new_num_reviews  clean_price  new_available_stock  \n",
       "0             15.0         3.42                  5.0  \n",
       "1              2.0        16.99                  NaN  \n",
       "2             17.0         9.99                  2.0  \n",
       "3              1.0        39.99                  NaN  \n",
       "4              3.0        32.19                  NaN  "
      ]
     },
     "execution_count": 78,
     "metadata": {},
     "output_type": "execute_result"
    }
   ],
   "source": [
    "ama1.head()"
   ]
  },
  {
   "cell_type": "code",
   "execution_count": 79,
   "metadata": {
    "ExecuteTime": {
     "end_time": "2020-12-07T08:28:06.743400Z",
     "start_time": "2020-12-07T08:28:06.731402Z"
    }
   },
   "outputs": [
    {
     "data": {
      "text/plain": [
       "Index(['uniq_id', 'product_name', 'manufacturer',\n",
       "       'number_of_answered_questions', 'amazon_category_and_sub_category',\n",
       "       'customers_who_bought_this_item_also_bought', 'description',\n",
       "       'product_information', 'product_description',\n",
       "       'items_customers_buy_after_viewing_this_item',\n",
       "       'customer_questions_and_answers', 'customer_reviews', 'sellers',\n",
       "       'new_avg_review_rating', 'new_num_reviews', 'clean_price',\n",
       "       'new_available_stock'],\n",
       "      dtype='object')"
      ]
     },
     "execution_count": 79,
     "metadata": {},
     "output_type": "execute_result"
    }
   ],
   "source": [
    "ama1.columns"
   ]
  },
  {
   "cell_type": "code",
   "execution_count": 81,
   "metadata": {
    "ExecuteTime": {
     "end_time": "2020-12-07T08:30:15.495310Z",
     "start_time": "2020-12-07T08:30:15.438315Z"
    }
   },
   "outputs": [
    {
     "name": "stdout",
     "output_type": "stream",
     "text": [
      "<class 'pandas.core.frame.DataFrame'>\n",
      "RangeIndex: 10000 entries, 0 to 9999\n",
      "Data columns (total 17 columns):\n",
      " #   Column                                       Non-Null Count  Dtype  \n",
      "---  ------                                       --------------  -----  \n",
      " 0   uniq_id                                      10000 non-null  object \n",
      " 1   product_name                                 10000 non-null  object \n",
      " 2   manufacturer                                 9993 non-null   object \n",
      " 3   number_of_answered_questions                 9235 non-null   float64\n",
      " 4   amazon_category_and_sub_category             9310 non-null   object \n",
      " 5   customers_who_bought_this_item_also_bought   8938 non-null   object \n",
      " 6   description                                  9349 non-null   object \n",
      " 7   product_information                          9942 non-null   object \n",
      " 8   product_description                          9349 non-null   object \n",
      " 9   items_customers_buy_after_viewing_this_item  6935 non-null   object \n",
      " 10  customer_questions_and_answers               914 non-null    object \n",
      " 11  customer_reviews                             9979 non-null   object \n",
      " 12  sellers                                      6918 non-null   object \n",
      " 13  new_avg_review_rating                        9982 non-null   float64\n",
      " 14  new_num_reviews                              9982 non-null   float64\n",
      " 15  clean_price                                  8565 non-null   float64\n",
      " 16  new_available_stock                          7500 non-null   float64\n",
      "dtypes: float64(5), object(12)\n",
      "memory usage: 1.3+ MB\n"
     ]
    }
   ],
   "source": [
    "ama1.info()"
   ]
  },
  {
   "cell_type": "code",
   "execution_count": 80,
   "metadata": {
    "ExecuteTime": {
     "end_time": "2020-12-07T08:29:09.426890Z",
     "start_time": "2020-12-07T08:29:09.375884Z"
    }
   },
   "outputs": [
    {
     "data": {
      "text/plain": [
       "customer_questions_and_answers                 90.86\n",
       "sellers                                        30.82\n",
       "items_customers_buy_after_viewing_this_item    30.65\n",
       "new_available_stock                            25.00\n",
       "clean_price                                    14.35\n",
       "customers_who_bought_this_item_also_bought     10.62\n",
       "number_of_answered_questions                    7.65\n",
       "amazon_category_and_sub_category                6.90\n",
       "description                                     6.51\n",
       "product_description                             6.51\n",
       "product_information                             0.58\n",
       "customer_reviews                                0.21\n",
       "new_avg_review_rating                           0.18\n",
       "new_num_reviews                                 0.18\n",
       "manufacturer                                    0.07\n",
       "product_name                                    0.00\n",
       "uniq_id                                         0.00\n",
       "dtype: float64"
      ]
     },
     "execution_count": 80,
     "metadata": {},
     "output_type": "execute_result"
    }
   ],
   "source": [
    "missing_data1 = (ama1.isnull().sum()/ len(ama1)) *100\n",
    "missing_data1.sort_values(ascending = False)"
   ]
  },
  {
   "cell_type": "code",
   "execution_count": 82,
   "metadata": {
    "ExecuteTime": {
     "end_time": "2020-12-07T08:31:04.516279Z",
     "start_time": "2020-12-07T08:31:04.486270Z"
    }
   },
   "outputs": [
    {
     "data": {
      "text/plain": [
       "customer_questions_and_answers                 90.86\n",
       "sellers                                        30.82\n",
       "items_customers_buy_after_viewing_this_item    30.65\n",
       "new_available_stock                            25.00\n",
       "clean_price                                    14.35\n",
       "customers_who_bought_this_item_also_bought     10.62\n",
       "number_of_answered_questions                    7.65\n",
       "amazon_category_and_sub_category                6.90\n",
       "product_description                             6.51\n",
       "description                                     6.51\n",
       "product_information                             0.58\n",
       "customer_reviews                                0.21\n",
       "new_num_reviews                                 0.18\n",
       "new_avg_review_rating                           0.18\n",
       "manufacturer                                    0.07\n",
       "dtype: float64"
      ]
     },
     "execution_count": 82,
     "metadata": {},
     "output_type": "execute_result"
    }
   ],
   "source": [
    "missing_data1[missing_data1> 0].sort_values(ascending= False)"
   ]
  },
  {
   "cell_type": "markdown",
   "metadata": {},
   "source": [
    "# Lets plot all the missing values in heatmap."
   ]
  },
  {
   "cell_type": "code",
   "execution_count": 84,
   "metadata": {
    "ExecuteTime": {
     "end_time": "2020-12-07T08:33:45.115900Z",
     "start_time": "2020-12-07T08:33:42.569432Z"
    }
   },
   "outputs": [
    {
     "data": {
      "text/plain": [
       "<matplotlib.axes._subplots.AxesSubplot at 0x1667faf2ac8>"
      ]
     },
     "execution_count": 84,
     "metadata": {},
     "output_type": "execute_result"
    },
    {
     "data": {
      "image/png": "[encoded data removed]",
      "text/plain": [
       "<Figure size 432x288 with 2 Axes>"
      ]
     },
     "metadata": {
      "needs_background": "light"
     },
     "output_type": "display_data"
    }
   ],
   "source": [
    "sns.heatmap(ama1.isnull(), yticklabels = False, cmap = 'viridis')"
   ]
  },
  {
   "cell_type": "code",
   "execution_count": 86,
   "metadata": {
    "ExecuteTime": {
     "end_time": "2020-12-07T08:47:57.007294Z",
     "start_time": "2020-12-07T08:47:56.990300Z"
    }
   },
   "outputs": [
    {
     "data": {
      "text/plain": [
       "2651"
      ]
     },
     "execution_count": 86,
     "metadata": {},
     "output_type": "execute_result"
    }
   ],
   "source": [
    "ama1['manufacturer'].nunique()"
   ]
  },
  {
   "cell_type": "markdown",
   "metadata": {},
   "source": [
    "- Checking all the nan values on manufacturer columns. There are 7 missing values in manufacturer columns, as we can see below."
   ]
  },
  {
   "cell_type": "code",
   "execution_count": 91,
   "metadata": {
    "ExecuteTime": {
     "end_time": "2020-12-07T09:03:04.294941Z",
     "start_time": "2020-12-07T09:03:04.216930Z"
    }
   },
   "outputs": [
    {
     "data": {
      "text/html": [
       "<div>\n",
       "<style scoped>\n",
       "    .dataframe tbody tr th:only-of-type {\n",
       "        vertical-align: middle;\n",
       "    }\n",
       "\n",
       "    .dataframe tbody tr th {\n",
       "        vertical-align: top;\n",
       "    }\n",
       "\n",
       "    .dataframe thead th {\n",
       "        text-align: right;\n",
       "    }\n",
       "</style>\n",
       "<table border=\"1\" class=\"dataframe\">\n",
       "  <thead>\n",
       "    <tr style=\"text-align: right;\">\n",
       "      <th></th>\n",
       "      <th>uniq_id</th>\n",
       "      <th>product_name</th>\n",
       "      <th>manufacturer</th>\n",
       "      <th>number_of_answered_questions</th>\n",
       "      <th>amazon_category_and_sub_category</th>\n",
       "      <th>customers_who_bought_this_item_also_bought</th>\n",
       "      <th>description</th>\n",
       "      <th>product_information</th>\n",
       "      <th>product_description</th>\n",
       "      <th>items_customers_buy_after_viewing_this_item</th>\n",
       "      <th>customer_questions_and_answers</th>\n",
       "      <th>customer_reviews</th>\n",
       "      <th>sellers</th>\n",
       "      <th>new_avg_review_rating</th>\n",
       "      <th>new_num_reviews</th>\n",
       "      <th>clean_price</th>\n",
       "      <th>new_available_stock</th>\n",
       "    </tr>\n",
       "  </thead>\n",
       "  <tbody>\n",
       "    <tr>\n",
       "      <th>1307</th>\n",
       "      <td>7acd16900b9cb4f8c1988c2cb823becd</td>\n",
       "      <td>Trendy Bead Tattoos (Packaging May Vary)</td>\n",
       "      <td>NaN</td>\n",
       "      <td>11.0</td>\n",
       "      <td>NaN</td>\n",
       "      <td>http://www.amazon.co.uk/Style-Chalk-Multi-Crea...</td>\n",
       "      <td>Trendy Bead Tattoos</td>\n",
       "      <td>NaN</td>\n",
       "      <td>Trendy Bead Tattoos</td>\n",
       "      <td>http://www.amazon.co.uk/Style-me-up-53706-Tatt...</td>\n",
       "      <td>NaN</td>\n",
       "      <td>Would recommend. // 5.0 // 28 Jan. 2015 // By\\...</td>\n",
       "      <td>{\"seller\"=&gt;[{\"Seller_name_1\"=&gt;\"Innovation Home...</td>\n",
       "      <td>5.0</td>\n",
       "      <td>1.0</td>\n",
       "      <td>NaN</td>\n",
       "      <td>NaN</td>\n",
       "    </tr>\n",
       "    <tr>\n",
       "      <th>1592</th>\n",
       "      <td>e7994dbee9b6fdb454488724bef2f7e2</td>\n",
       "      <td>3D Butterfly Stickers Fly - Assorted Colours</td>\n",
       "      <td>NaN</td>\n",
       "      <td>4.0</td>\n",
       "      <td>Arts &amp; Crafts &gt; Paper &amp; Stickers</td>\n",
       "      <td>http://www.amazon.co.uk/Peterkin-Butterflies |...</td>\n",
       "      <td>NaN</td>\n",
       "      <td>Technical Details Manufacturer recommended age...</td>\n",
       "      <td>NaN</td>\n",
       "      <td>NaN</td>\n",
       "      <td>NaN</td>\n",
       "      <td>beautiful // 5.0 // 15 Aug. 2012 // By\\n    \\n...</td>\n",
       "      <td>{\"seller\"=&gt;[{\"Seller_name_1\"=&gt;\"The Online Stor...</td>\n",
       "      <td>5.0</td>\n",
       "      <td>2.0</td>\n",
       "      <td>2.14</td>\n",
       "      <td>5.0</td>\n",
       "    </tr>\n",
       "    <tr>\n",
       "      <th>4466</th>\n",
       "      <td>1eb8f654c5687388b4296890e65c9d7d</td>\n",
       "      <td>GREEN SEA TURTLE Plush Soft Toy - 32cm</td>\n",
       "      <td>NaN</td>\n",
       "      <td>1.0</td>\n",
       "      <td>NaN</td>\n",
       "      <td>http://www.amazon.co.uk/National-Geographic | ...</td>\n",
       "      <td>Cute and cuddly green turtle soft toy. Attenti...</td>\n",
       "      <td>Technical Details Item Weight200 g Product Dim...</td>\n",
       "      <td>Cute and cuddly green turtle soft toy. Attenti...</td>\n",
       "      <td>http://www.amazon.co.uk/Melissa-Doug-Sea-Turtl...</td>\n",
       "      <td>NaN</td>\n",
       "      <td>A great present! // 5.0 // 15 Nov. 2013 // By\\...</td>\n",
       "      <td>{\"seller\"=&gt;[{\"Seller_name_1\"=&gt;\"Blyme\", \"Seller...</td>\n",
       "      <td>4.8</td>\n",
       "      <td>12.0</td>\n",
       "      <td>10.99</td>\n",
       "      <td>3.0</td>\n",
       "    </tr>\n",
       "    <tr>\n",
       "      <th>4834</th>\n",
       "      <td>da874101badfa98ab3c76548111cfb13</td>\n",
       "      <td>Disney FROZEN Enchanted Moments Sticker Collec...</td>\n",
       "      <td>NaN</td>\n",
       "      <td>2.0</td>\n",
       "      <td>Hobbies &gt; Trading Cards &amp; Accessories &gt; Sticke...</td>\n",
       "      <td>http://www.amazon.co.uk/Disney-Frozen-enchante...</td>\n",
       "      <td>NaN</td>\n",
       "      <td>Technical Details    Additional Information AS...</td>\n",
       "      <td>NaN</td>\n",
       "      <td>http://www.amazon.co.uk/packets-Panini-Enchant...</td>\n",
       "      <td>NaN</td>\n",
       "      <td>Five Stars // 5.0 // 30 Dec. 2014 // By\\n    \\...</td>\n",
       "      <td>NaN</td>\n",
       "      <td>4.0</td>\n",
       "      <td>2.0</td>\n",
       "      <td>45.59</td>\n",
       "      <td>2.0</td>\n",
       "    </tr>\n",
       "    <tr>\n",
       "      <th>5561</th>\n",
       "      <td>a73496640ea6da23dcb49c3b71e05cef</td>\n",
       "      <td>Match Attax 2014/2015 Liverpool 17 Base 14/15 ...</td>\n",
       "      <td>NaN</td>\n",
       "      <td>1.0</td>\n",
       "      <td>Hobbies &gt; Trading Cards &amp; Accessories &gt; Packs ...</td>\n",
       "      <td>http://www.amazon.co.uk/Match-Attax-2014-Liver...</td>\n",
       "      <td>NaN</td>\n",
       "      <td>Technical Details Item Weight9 g Product Dimen...</td>\n",
       "      <td>NaN</td>\n",
       "      <td>NaN</td>\n",
       "      <td>Do you get 100 club for free // No 100 club...</td>\n",
       "      <td>Four Stars // 4.0 // 21 Jan. 2015 // By\\n    \\...</td>\n",
       "      <td>{\"seller\"=&gt;[{\"Seller_name_1\"=&gt;\"Football Card S...</td>\n",
       "      <td>4.8</td>\n",
       "      <td>4.0</td>\n",
       "      <td>3.54</td>\n",
       "      <td>6.0</td>\n",
       "    </tr>\n",
       "    <tr>\n",
       "      <th>9445</th>\n",
       "      <td>a4f4cdbf12552a95083352dd9e4abf1b</td>\n",
       "      <td>Gibsons Pass the Pud Family Game with AmazonBa...</td>\n",
       "      <td>NaN</td>\n",
       "      <td>4.0</td>\n",
       "      <td>NaN</td>\n",
       "      <td>http://www.amazon.co.uk/Gibsons-Games-62469-Pa...</td>\n",
       "      <td>NaN</td>\n",
       "      <td>Technical Details    Additional Information AS...</td>\n",
       "      <td>NaN</td>\n",
       "      <td>http://www.amazon.co.uk/Gibsons-Games-62469-Pa...</td>\n",
       "      <td>Could you adapt the gameplay for 3 players, or...</td>\n",
       "      <td>Perfect after-Christmas Dinner game // 5.0 // ...</td>\n",
       "      <td>{\"seller\"=&gt;[{\"Seller_name_1\"=&gt;\"Amazon.co.uk\", ...</td>\n",
       "      <td>4.0</td>\n",
       "      <td>202.0</td>\n",
       "      <td>21.71</td>\n",
       "      <td>NaN</td>\n",
       "    </tr>\n",
       "    <tr>\n",
       "      <th>9628</th>\n",
       "      <td>7ed9421489b9763792060164f39444e8</td>\n",
       "      <td>Assortment of Hama Multi beads Pale x1000</td>\n",
       "      <td>NaN</td>\n",
       "      <td>NaN</td>\n",
       "      <td>Arts &amp; Crafts &gt; Children's Craft Kits &gt; Bead A...</td>\n",
       "      <td>http://www.amazon.co.uk/Hama-Beads-Neon-Colour...</td>\n",
       "      <td>Assortment of Hama beads (beads to iron).Instr...</td>\n",
       "      <td>Technical Details Item Weight68 g Manufacturer...</td>\n",
       "      <td>Assortment of Hama beads (beads to iron).Instr...</td>\n",
       "      <td>http://www.amazon.co.uk/Hama-Beads-Pastel-Colo...</td>\n",
       "      <td>NaN</td>\n",
       "      <td>Five Stars // 5.0 // 10 Feb. 2015 // By\\n    \\...</td>\n",
       "      <td>NaN</td>\n",
       "      <td>5.0</td>\n",
       "      <td>1.0</td>\n",
       "      <td>NaN</td>\n",
       "      <td>1.0</td>\n",
       "    </tr>\n",
       "  </tbody>\n",
       "</table>\n",
       "</div>"
      ],
      "text/plain": [
       "                               uniq_id  \\\n",
       "1307  7acd16900b9cb4f8c1988c2cb823becd   \n",
       "1592  e7994dbee9b6fdb454488724bef2f7e2   \n",
       "4466  1eb8f654c5687388b4296890e65c9d7d   \n",
       "4834  da874101badfa98ab3c76548111cfb13   \n",
       "5561  a73496640ea6da23dcb49c3b71e05cef   \n",
       "9445  a4f4cdbf12552a95083352dd9e4abf1b   \n",
       "9628  7ed9421489b9763792060164f39444e8   \n",
       "\n",
       "                                           product_name manufacturer  \\\n",
       "1307           Trendy Bead Tattoos (Packaging May Vary)          NaN   \n",
       "1592       3D Butterfly Stickers Fly - Assorted Colours          NaN   \n",
       "4466             GREEN SEA TURTLE Plush Soft Toy - 32cm          NaN   \n",
       "4834  Disney FROZEN Enchanted Moments Sticker Collec...          NaN   \n",
       "5561  Match Attax 2014/2015 Liverpool 17 Base 14/15 ...          NaN   \n",
       "9445  Gibsons Pass the Pud Family Game with AmazonBa...          NaN   \n",
       "9628          Assortment of Hama Multi beads Pale x1000          NaN   \n",
       "\n",
       "      number_of_answered_questions  \\\n",
       "1307                          11.0   \n",
       "1592                           4.0   \n",
       "4466                           1.0   \n",
       "4834                           2.0   \n",
       "5561                           1.0   \n",
       "9445                           4.0   \n",
       "9628                           NaN   \n",
       "\n",
       "                       amazon_category_and_sub_category  \\\n",
       "1307                                                NaN   \n",
       "1592                   Arts & Crafts > Paper & Stickers   \n",
       "4466                                                NaN   \n",
       "4834  Hobbies > Trading Cards & Accessories > Sticke...   \n",
       "5561  Hobbies > Trading Cards & Accessories > Packs ...   \n",
       "9445                                                NaN   \n",
       "9628  Arts & Crafts > Children's Craft Kits > Bead A...   \n",
       "\n",
       "             customers_who_bought_this_item_also_bought  \\\n",
       "1307  http://www.amazon.co.uk/Style-Chalk-Multi-Crea...   \n",
       "1592  http://www.amazon.co.uk/Peterkin-Butterflies |...   \n",
       "4466  http://www.amazon.co.uk/National-Geographic | ...   \n",
       "4834  http://www.amazon.co.uk/Disney-Frozen-enchante...   \n",
       "5561  http://www.amazon.co.uk/Match-Attax-2014-Liver...   \n",
       "9445  http://www.amazon.co.uk/Gibsons-Games-62469-Pa...   \n",
       "9628  http://www.amazon.co.uk/Hama-Beads-Neon-Colour...   \n",
       "\n",
       "                                            description  \\\n",
       "1307                                Trendy Bead Tattoos   \n",
       "1592                                                NaN   \n",
       "4466  Cute and cuddly green turtle soft toy. Attenti...   \n",
       "4834                                                NaN   \n",
       "5561                                                NaN   \n",
       "9445                                                NaN   \n",
       "9628  Assortment of Hama beads (beads to iron).Instr...   \n",
       "\n",
       "                                    product_information  \\\n",
       "1307                                                NaN   \n",
       "1592  Technical Details Manufacturer recommended age...   \n",
       "4466  Technical Details Item Weight200 g Product Dim...   \n",
       "4834  Technical Details    Additional Information AS...   \n",
       "5561  Technical Details Item Weight9 g Product Dimen...   \n",
       "9445  Technical Details    Additional Information AS...   \n",
       "9628  Technical Details Item Weight68 g Manufacturer...   \n",
       "\n",
       "                                    product_description  \\\n",
       "1307                                Trendy Bead Tattoos   \n",
       "1592                                                NaN   \n",
       "4466  Cute and cuddly green turtle soft toy. Attenti...   \n",
       "4834                                                NaN   \n",
       "5561                                                NaN   \n",
       "9445                                                NaN   \n",
       "9628  Assortment of Hama beads (beads to iron).Instr...   \n",
       "\n",
       "            items_customers_buy_after_viewing_this_item  \\\n",
       "1307  http://www.amazon.co.uk/Style-me-up-53706-Tatt...   \n",
       "1592                                                NaN   \n",
       "4466  http://www.amazon.co.uk/Melissa-Doug-Sea-Turtl...   \n",
       "4834  http://www.amazon.co.uk/packets-Panini-Enchant...   \n",
       "5561                                                NaN   \n",
       "9445  http://www.amazon.co.uk/Gibsons-Games-62469-Pa...   \n",
       "9628  http://www.amazon.co.uk/Hama-Beads-Pastel-Colo...   \n",
       "\n",
       "                         customer_questions_and_answers  \\\n",
       "1307                                                NaN   \n",
       "1592                                                NaN   \n",
       "4466                                                NaN   \n",
       "4834                                                NaN   \n",
       "5561     Do you get 100 club for free // No 100 club...   \n",
       "9445  Could you adapt the gameplay for 3 players, or...   \n",
       "9628                                                NaN   \n",
       "\n",
       "                                       customer_reviews  \\\n",
       "1307  Would recommend. // 5.0 // 28 Jan. 2015 // By\\...   \n",
       "1592  beautiful // 5.0 // 15 Aug. 2012 // By\\n    \\n...   \n",
       "4466  A great present! // 5.0 // 15 Nov. 2013 // By\\...   \n",
       "4834  Five Stars // 5.0 // 30 Dec. 2014 // By\\n    \\...   \n",
       "5561  Four Stars // 4.0 // 21 Jan. 2015 // By\\n    \\...   \n",
       "9445  Perfect after-Christmas Dinner game // 5.0 // ...   \n",
       "9628  Five Stars // 5.0 // 10 Feb. 2015 // By\\n    \\...   \n",
       "\n",
       "                                                sellers  \\\n",
       "1307  {\"seller\"=>[{\"Seller_name_1\"=>\"Innovation Home...   \n",
       "1592  {\"seller\"=>[{\"Seller_name_1\"=>\"The Online Stor...   \n",
       "4466  {\"seller\"=>[{\"Seller_name_1\"=>\"Blyme\", \"Seller...   \n",
       "4834                                                NaN   \n",
       "5561  {\"seller\"=>[{\"Seller_name_1\"=>\"Football Card S...   \n",
       "9445  {\"seller\"=>[{\"Seller_name_1\"=>\"Amazon.co.uk\", ...   \n",
       "9628                                                NaN   \n",
       "\n",
       "      new_avg_review_rating  new_num_reviews  clean_price  new_available_stock  \n",
       "1307                    5.0              1.0          NaN                  NaN  \n",
       "1592                    5.0              2.0         2.14                  5.0  \n",
       "4466                    4.8             12.0        10.99                  3.0  \n",
       "4834                    4.0              2.0        45.59                  2.0  \n",
       "5561                    4.8              4.0         3.54                  6.0  \n",
       "9445                    4.0            202.0        21.71                  NaN  \n",
       "9628                    5.0              1.0          NaN                  1.0  "
      ]
     },
     "execution_count": 91,
     "metadata": {},
     "output_type": "execute_result"
    }
   ],
   "source": [
    "ama1[ama1.manufacturer.isnull()]"
   ]
  },
  {
   "cell_type": "markdown",
   "metadata": {},
   "source": [
    "- Droping those rows with missing values, so from this colimns we will be droping 7 rows, which consist of 0.07% data. It will not gonna impact our data that much. So its okay to drop this rows."
   ]
  },
  {
   "cell_type": "code",
   "execution_count": 94,
   "metadata": {
    "ExecuteTime": {
     "end_time": "2020-12-07T09:12:46.966372Z",
     "start_time": "2020-12-07T09:12:46.929401Z"
    }
   },
   "outputs": [],
   "source": [
    "ama1.dropna(subset=['manufacturer'], how='any', inplace= True)"
   ]
  },
  {
   "cell_type": "code",
   "execution_count": 95,
   "metadata": {
    "ExecuteTime": {
     "end_time": "2020-12-07T09:12:54.229362Z",
     "start_time": "2020-12-07T09:12:54.173348Z"
    }
   },
   "outputs": [
    {
     "data": {
      "text/html": [
       "<div>\n",
       "<style scoped>\n",
       "    .dataframe tbody tr th:only-of-type {\n",
       "        vertical-align: middle;\n",
       "    }\n",
       "\n",
       "    .dataframe tbody tr th {\n",
       "        vertical-align: top;\n",
       "    }\n",
       "\n",
       "    .dataframe thead th {\n",
       "        text-align: right;\n",
       "    }\n",
       "</style>\n",
       "<table border=\"1\" class=\"dataframe\">\n",
       "  <thead>\n",
       "    <tr style=\"text-align: right;\">\n",
       "      <th></th>\n",
       "      <th>uniq_id</th>\n",
       "      <th>product_name</th>\n",
       "      <th>manufacturer</th>\n",
       "      <th>number_of_answered_questions</th>\n",
       "      <th>amazon_category_and_sub_category</th>\n",
       "      <th>customers_who_bought_this_item_also_bought</th>\n",
       "      <th>description</th>\n",
       "      <th>product_information</th>\n",
       "      <th>product_description</th>\n",
       "      <th>items_customers_buy_after_viewing_this_item</th>\n",
       "      <th>customer_questions_and_answers</th>\n",
       "      <th>customer_reviews</th>\n",
       "      <th>sellers</th>\n",
       "      <th>new_avg_review_rating</th>\n",
       "      <th>new_num_reviews</th>\n",
       "      <th>clean_price</th>\n",
       "      <th>new_available_stock</th>\n",
       "    </tr>\n",
       "  </thead>\n",
       "  <tbody>\n",
       "  </tbody>\n",
       "</table>\n",
       "</div>"
      ],
      "text/plain": [
       "Empty DataFrame\n",
       "Columns: [uniq_id, product_name, manufacturer, number_of_answered_questions, amazon_category_and_sub_category, customers_who_bought_this_item_also_bought, description, product_information, product_description, items_customers_buy_after_viewing_this_item, customer_questions_and_answers, customer_reviews, sellers, new_avg_review_rating, new_num_reviews, clean_price, new_available_stock]\n",
       "Index: []"
      ]
     },
     "execution_count": 95,
     "metadata": {},
     "output_type": "execute_result"
    }
   ],
   "source": [
    "ama1[ama1.manufacturer.isnull()]"
   ]
  },
  {
   "cell_type": "code",
   "execution_count": 127,
   "metadata": {
    "ExecuteTime": {
     "end_time": "2020-12-07T10:09:36.473512Z",
     "start_time": "2020-12-07T10:09:36.441542Z"
    }
   },
   "outputs": [
    {
     "data": {
      "text/plain": [
       "manufacturer\n",
       "ukgiftstoreonline            6.990000\n",
       "unbespielt                  17.900000\n",
       "uni-ball                     1.970000\n",
       "unisex party bag fillers     0.600000\n",
       "universal hobby             17.113582\n",
       "woooow doll                 19.990000\n",
       "xs-party                     1.490000\n",
       "yugioh                       8.072500\n",
       "zizzi                       13.245000\n",
       "|MFG                         4.990000\n",
       "Name: clean_price, dtype: float64"
      ]
     },
     "execution_count": 127,
     "metadata": {},
     "output_type": "execute_result"
    }
   ],
   "source": [
    "ama1.groupby('manufacturer')['clean_price'].mean().tail(10)"
   ]
  },
  {
   "cell_type": "markdown",
   "metadata": {},
   "source": [
    "- Fillin the nan values on price columns. In our data sets nearly 15% of values in price columns are missing. For this analysis we are using mean methods to fill the missing price. "
   ]
  },
  {
   "cell_type": "code",
   "execution_count": 107,
   "metadata": {
    "ExecuteTime": {
     "end_time": "2020-12-07T09:30:44.942591Z",
     "start_time": "2020-12-07T09:30:44.921596Z"
    }
   },
   "outputs": [],
   "source": [
    "ama1['clean_price'].fillna(ama1['clean_price'].mean(),inplace= True)"
   ]
  },
  {
   "cell_type": "markdown",
   "metadata": {},
   "source": [
    "- In our data sets customer questions and answers has 90% missing values. So we decided to drop this columns as a whole."
   ]
  },
  {
   "cell_type": "code",
   "execution_count": 112,
   "metadata": {
    "ExecuteTime": {
     "end_time": "2020-12-07T09:39:34.648167Z",
     "start_time": "2020-12-07T09:39:34.626166Z"
    }
   },
   "outputs": [],
   "source": [
    "ama1.drop(['customer_questions_and_answers'], axis= 1, inplace= True)"
   ]
  },
  {
   "cell_type": "markdown",
   "metadata": {},
   "source": [
    "- Number of answered question has over 7% missing values. To fill this missing values we are using mean values."
   ]
  },
  {
   "cell_type": "code",
   "execution_count": 115,
   "metadata": {
    "ExecuteTime": {
     "end_time": "2020-12-07T09:57:45.813894Z",
     "start_time": "2020-12-07T09:57:45.795882Z"
    }
   },
   "outputs": [],
   "source": [
    "ama1['number_of_answered_questions'].fillna(ama1['number_of_answered_questions'].mean(),inplace= True)"
   ]
  },
  {
   "cell_type": "markdown",
   "metadata": {},
   "source": [
    "- For amazon_category_and_sub_category we are using mode function to fill our missing data."
   ]
  },
  {
   "cell_type": "code",
   "execution_count": 123,
   "metadata": {
    "ExecuteTime": {
     "end_time": "2020-12-07T10:02:28.284626Z",
     "start_time": "2020-12-07T10:02:28.244629Z"
    }
   },
   "outputs": [
    {
     "data": {
      "text/plain": [
       "Die-Cast & Toy Vehicles > Toy Vehicles & Accessories > Scaled Models > Vehicles              1567\n",
       "Figures & Playsets > Science Fiction & Fantasy                                                485\n",
       "Arts & Crafts > Children's Craft Kits > Bead Art & Jewellery-Making                           367\n",
       "Characters & Brands > Disney > Toys                                                           347\n",
       "Hobbies > Trading Cards & Accessories > Packs & Sets                                          316\n",
       "                                                                                             ... \n",
       "Indoor Lighting > Specialty & Decorative Lighting > Book Lights                                 1\n",
       "Pens, Pencils & Writing Supplies > Erasers & Correction Supplies > Correction Pens              1\n",
       "Games > Drinking Games                                                                          1\n",
       "Laundry, Storage & Organisation > Baskets & Bins > Storage Boxes & Chests > Storage Boxes       1\n",
       "Home Accessories > Seasonal Décor > Christmas > Novelty Decorations                             1\n",
       "Name: amazon_category_and_sub_category, Length: 255, dtype: int64"
      ]
     },
     "execution_count": 123,
     "metadata": {},
     "output_type": "execute_result"
    }
   ],
   "source": [
    "ama1['amazon_category_and_sub_category'].value_counts()"
   ]
  },
  {
   "cell_type": "code",
   "execution_count": 121,
   "metadata": {
    "ExecuteTime": {
     "end_time": "2020-12-07T09:59:36.158493Z",
     "start_time": "2020-12-07T09:59:36.133512Z"
    }
   },
   "outputs": [],
   "source": [
    "ama1['amazon_category_and_sub_category'].fillna(ama1['amazon_category_and_sub_category'].mode()[0], inplace= True)"
   ]
  },
  {
   "cell_type": "code",
   "execution_count": 124,
   "metadata": {
    "ExecuteTime": {
     "end_time": "2020-12-07T10:07:26.316897Z",
     "start_time": "2020-12-07T10:07:26.273880Z"
    }
   },
   "outputs": [
    {
     "data": {
      "text/plain": [
       "http://www.amazon.co.uk/Scalextric | http://www.amazon.co.uk/Scalextric | http://www.amazon.co.uk/Scalextric | http://www.amazon.co.uk/Scalextric | http://www.amazon.co.uk/Scalextric | http://www.amazon.co.uk/Scalextric                                                                                                                                                                                                                                                                           60\n",
       "http://www.amazon.co.uk/Transformers | http://www.amazon.co.uk/Transformers | http://www.amazon.co.uk/Transformers | http://www.amazon.co.uk/Transformers | http://www.amazon.co.uk/Transformers | http://www.amazon.co.uk/Transformers                                                                                                                                                                                                                                                               26\n",
       "http://www.amazon.co.uk/Ravensburger | http://www.amazon.co.uk/Ravensburger | http://www.amazon.co.uk/Ravensburger | http://www.amazon.co.uk/Ravensburger | http://www.amazon.co.uk/Ravensburger | http://www.amazon.co.uk/Ravensburger                                                                                                                                                                                                                                                               17\n",
       "http://www.amazon.co.uk/Thomas-Friends-Trackmaster | http://www.amazon.co.uk/Thomas-Friends-Trackmaster | http://www.amazon.co.uk/Thomas-Friends-Trackmaster | http://www.amazon.co.uk/Thomas-Friends-Trackmaster | http://www.amazon.co.uk/Thomas-Friends-Trackmaster | http://www.amazon.co.uk/Thomas-Friends-Trackmaster                                                                                                                                                                           11\n",
       "http://www.amazon.co.uk/Chuggington | http://www.amazon.co.uk/Chuggington | http://www.amazon.co.uk/Chuggington | http://www.amazon.co.uk/Chuggington | http://www.amazon.co.uk/Chuggington | http://www.amazon.co.uk/Chuggington                                                                                                                                                                                                                                                                      8\n",
       "                                                                                                                                                                                                                                                                                                                                                                                                                                                                                                      ..\n",
       "http://www.amazon.co.uk/Leg-Avenue-Black-BUNNY-Mask-2628/dp/B00UZGTBLS | http://www.amazon.co.uk/Leg-Avenue-Glitter-Masquerade | http://www.amazon.co.uk/Rabbit-Lace-Ears-Veil-Bands/dp/B00T4AH70I | http://www.amazon.co.uk/Womens-Gothic-Glitter-Rabbit-Eyemask/dp/B015KV7EUW | http://www.amazon.co.uk/Womens-White-Bunny-Rabbit-Eyemask/dp/B015KV7GUU | http://www.amazon.co.uk/Rabbit-Ears-On-Headband-Accessory/dp/B001OD4M8S                                                                    1\n",
       "http://www.amazon.co.uk/Trivial-Pursuit-Master-Edition-Game/dp/B003EYUTW8 | http://www.amazon.co.uk/Trivial-Pursuit-Subsidiary | http://www.amazon.co.uk/Hasbro-TRIV20-Trivial-Pursuit-Anniversary | http://www.amazon.co.uk/Trivial-Pursuit-Questions-Brand-Answers/dp/1514250861 | http://www.amazon.co.uk/by-parker-trivial-pursuit-millennium | http://www.amazon.co.uk/Trivial-Pursuit-Party-Board-Game/dp/B00IQRQUAS                                                                             1\n",
       "http://www.amazon.co.uk/Special-effects-Revoltech-non-scale-painted/dp/B00VDRTG4A | http://www.amazon.co.uk/Kaiyodo-Revoltech-MARKIII-special-effects/dp/B006OJO3LI | http://www.amazon.co.uk/SCI-FI-Revoltech-Series-No-042-Avengers/dp/B00ABAN0X8 | http://www.amazon.co.uk/Special-effects-Revoltech-Avengers-package/dp/B00WB26YKK | http://www.amazon.co.uk/Marvel-Legacy-Revoltech-LR-024-Action/dp/B00PRKXZX2 | http://www.amazon.co.uk/Bandai-Tamashii-Nations-Action-Figure/dp/B00KPR77OK     1\n",
       "http://www.amazon.co.uk/Glitz-Pink-Latex-Birthday-Balloons/dp/B0050A5H94 | http://www.amazon.co.uk/Perfectly-Pink-Party-Birthday-Napkins/dp/B00BO4H0D6 | http://www.amazon.co.uk/70TH-BIRTHDAY-CONFETTI-UNIQUE-PINK/dp/B00DC1RVHO | http://www.amazon.co.uk/Silver-Hearts-Holographic | http://www.amazon.co.uk/Perfectly-Pink-Party-Birthday-Centrepiece | http://www.amazon.co.uk/Perfectly-Pink-Party-Birthday-Banner/dp/B00BQFRN3K                                                                 1\n",
       "http://www.amazon.co.uk/Oxford-Diecast-Transit-Network-76FT005/dp/B0063HQU6W | http://www.amazon.co.uk/Oxford-Diecast-Transit-Connect-76FTC001/dp/B011RCM002 | http://www.amazon.co.uk/Corgi-Toys-Vehicle-Pack-Assorted/dp/B008HQRV7O | http://www.amazon.co.uk/Oxford-Diecast-Frozen-Transit-76FT001/dp/B005DKWPHS | http://www.amazon.co.uk/Oxford-Diecast-Transit-L-Roof-76FT003/dp/B004BLTLHW | http://www.amazon.co.uk/Oxford-Diecast-Garda-Transit-76FT007/dp/B00D2WONOC                         1\n",
       "Name: customers_who_bought_this_item_also_bought, Length: 8748, dtype: int64"
      ]
     },
     "execution_count": 124,
     "metadata": {},
     "output_type": "execute_result"
    }
   ],
   "source": [
    "ama1['customers_who_bought_this_item_also_bought'].value_counts()"
   ]
  },
  {
   "cell_type": "code",
   "execution_count": 125,
   "metadata": {
    "ExecuteTime": {
     "end_time": "2020-12-07T10:08:56.263050Z",
     "start_time": "2020-12-07T10:08:56.234033Z"
    }
   },
   "outputs": [],
   "source": [
    "ama1['customers_who_bought_this_item_also_bought'].fillna(ama1['customers_who_bought_this_item_also_bought'].mode()[0], inplace= True)"
   ]
  },
  {
   "cell_type": "code",
   "execution_count": 130,
   "metadata": {
    "ExecuteTime": {
     "end_time": "2020-12-07T10:11:19.934347Z",
     "start_time": "2020-12-07T10:11:19.836351Z"
    }
   },
   "outputs": [
    {
     "data": {
      "text/html": [
       "<div>\n",
       "<style scoped>\n",
       "    .dataframe tbody tr th:only-of-type {\n",
       "        vertical-align: middle;\n",
       "    }\n",
       "\n",
       "    .dataframe tbody tr th {\n",
       "        vertical-align: top;\n",
       "    }\n",
       "\n",
       "    .dataframe thead th {\n",
       "        text-align: right;\n",
       "    }\n",
       "</style>\n",
       "<table border=\"1\" class=\"dataframe\">\n",
       "  <thead>\n",
       "    <tr style=\"text-align: right;\">\n",
       "      <th></th>\n",
       "      <th>uniq_id</th>\n",
       "      <th>product_name</th>\n",
       "      <th>manufacturer</th>\n",
       "      <th>number_of_answered_questions</th>\n",
       "      <th>amazon_category_and_sub_category</th>\n",
       "      <th>customers_who_bought_this_item_also_bought</th>\n",
       "      <th>description</th>\n",
       "      <th>product_information</th>\n",
       "      <th>product_description</th>\n",
       "      <th>items_customers_buy_after_viewing_this_item</th>\n",
       "      <th>customer_reviews</th>\n",
       "      <th>sellers</th>\n",
       "      <th>new_avg_review_rating</th>\n",
       "      <th>new_num_reviews</th>\n",
       "      <th>clean_price</th>\n",
       "      <th>new_available_stock</th>\n",
       "    </tr>\n",
       "  </thead>\n",
       "  <tbody>\n",
       "    <tr>\n",
       "      <th>42</th>\n",
       "      <td>d5a8c72773ae4ebb712ffca0054a0461</td>\n",
       "      <td>HIGH SPEED TRAIN BUMP AND GO WITH MUSIC AND LI...</td>\n",
       "      <td>ARSUK</td>\n",
       "      <td>1.0</td>\n",
       "      <td>Hobbies &gt; Model Trains &amp; Railway Sets &gt; Rail V...</td>\n",
       "      <td>http://www.amazon.co.uk/harmony-high-speed-tra...</td>\n",
       "      <td>NaN</td>\n",
       "      <td>Technical Details Manufacturer recommended age...</td>\n",
       "      <td>NaN</td>\n",
       "      <td>NaN</td>\n",
       "      <td>grandchildren love it, but it does tend to go ...</td>\n",
       "      <td>{\"seller\"=&gt;{\"Seller_name_1\"=&gt;\"Digicorp\", \"Sell...</td>\n",
       "      <td>4.0</td>\n",
       "      <td>1.0</td>\n",
       "      <td>4.990000</td>\n",
       "      <td>NaN</td>\n",
       "    </tr>\n",
       "    <tr>\n",
       "      <th>228</th>\n",
       "      <td>16925ac88ed0f52939ec650c367e047d</td>\n",
       "      <td>Pokemon Center Original Doll Pokemon Time Raichu</td>\n",
       "      <td>Pokemon Center</td>\n",
       "      <td>1.0</td>\n",
       "      <td>Die-Cast &amp; Toy Vehicles &gt; Toy Vehicles &amp; Acces...</td>\n",
       "      <td>http://www.amazon.co.uk/Pokemon-Plush-Toy-Raic...</td>\n",
       "      <td>NaN</td>\n",
       "      <td>Technical Details Item Weight145 g Product Dim...</td>\n",
       "      <td>NaN</td>\n",
       "      <td>http://www.amazon.co.uk/Pokemon-Plush-Toy-Raic...</td>\n",
       "      <td>Five Stars // 5.0 // 14 Sept. 2015 // By\\n    ...</td>\n",
       "      <td>{\"seller\"=&gt;[{\"Seller_name_1\"=&gt;\"100WAYS Ship fr...</td>\n",
       "      <td>5.0</td>\n",
       "      <td>1.0</td>\n",
       "      <td>14.690000</td>\n",
       "      <td>32.0</td>\n",
       "    </tr>\n",
       "    <tr>\n",
       "      <th>242</th>\n",
       "      <td>a006701c15f12c6a200f48fba57da352</td>\n",
       "      <td>Disney Phineas and Ferb 8 Ferb Plush, soft, cu...</td>\n",
       "      <td>Disney</td>\n",
       "      <td>2.0</td>\n",
       "      <td>Characters &amp; Brands &gt; Disney &gt; Toys</td>\n",
       "      <td>http://www.amazon.co.uk/10-Inch-Ferb-Plush-Phi...</td>\n",
       "      <td>NaN</td>\n",
       "      <td>Technical Details Item Weight68 g Product Dime...</td>\n",
       "      <td>NaN</td>\n",
       "      <td>http://www.amazon.co.uk/10-Inch-Ferb-Plush-Phi...</td>\n",
       "      <td>my grandson will love it // 5.0 // 17 Nov. 201...</td>\n",
       "      <td>{\"seller\"=&gt;[{\"Seller_name_1\"=&gt;\"mum22\", \"Seller...</td>\n",
       "      <td>5.0</td>\n",
       "      <td>1.0</td>\n",
       "      <td>20.280145</td>\n",
       "      <td>2.0</td>\n",
       "    </tr>\n",
       "    <tr>\n",
       "      <th>268</th>\n",
       "      <td>7dc340946c58e8571e2002c1dc394e33</td>\n",
       "      <td>Takaratomy Pokemon X and Y XYN-14 Male Meowsti...</td>\n",
       "      <td>Pokémon</td>\n",
       "      <td>1.0</td>\n",
       "      <td>Die-Cast &amp; Toy Vehicles &gt; Toy Vehicles &amp; Acces...</td>\n",
       "      <td>http://www.amazon.co.uk/Pokemon-soft-plush-fig...</td>\n",
       "      <td>NaN</td>\n",
       "      <td>Technical Details Item Weight154 g Product Dim...</td>\n",
       "      <td>NaN</td>\n",
       "      <td>http://www.amazon.co.uk/Pokemon-Center-Plush-D...</td>\n",
       "      <td>Great item! Arrived in excellent condition // ...</td>\n",
       "      <td>NaN</td>\n",
       "      <td>5.0</td>\n",
       "      <td>1.0</td>\n",
       "      <td>11.580000</td>\n",
       "      <td>21.0</td>\n",
       "    </tr>\n",
       "    <tr>\n",
       "      <th>343</th>\n",
       "      <td>fa16bd179bf00ce37f8b5455cc8c86e5</td>\n",
       "      <td>Cuddly Soft Spinosaurus Dinosaur Soft Toy Gift...</td>\n",
       "      <td>Ravensden</td>\n",
       "      <td>1.0</td>\n",
       "      <td>Die-Cast &amp; Toy Vehicles &gt; Toy Vehicles &amp; Acces...</td>\n",
       "      <td>http://www.amazon.co.uk/Plush-Brontosaurus | h...</td>\n",
       "      <td>NaN</td>\n",
       "      <td>Technical Details Item Weight222 g Product Dim...</td>\n",
       "      <td>NaN</td>\n",
       "      <td>http://www.amazon.co.uk/Plush-Brontosaurus | h...</td>\n",
       "      <td>cuddly, cute - my boy loved it // 5.0 // 7 Dec...</td>\n",
       "      <td>NaN</td>\n",
       "      <td>5.0</td>\n",
       "      <td>1.0</td>\n",
       "      <td>14.990000</td>\n",
       "      <td>NaN</td>\n",
       "    </tr>\n",
       "    <tr>\n",
       "      <th>...</th>\n",
       "      <td>...</td>\n",
       "      <td>...</td>\n",
       "      <td>...</td>\n",
       "      <td>...</td>\n",
       "      <td>...</td>\n",
       "      <td>...</td>\n",
       "      <td>...</td>\n",
       "      <td>...</td>\n",
       "      <td>...</td>\n",
       "      <td>...</td>\n",
       "      <td>...</td>\n",
       "      <td>...</td>\n",
       "      <td>...</td>\n",
       "      <td>...</td>\n",
       "      <td>...</td>\n",
       "      <td>...</td>\n",
       "    </tr>\n",
       "    <tr>\n",
       "      <th>9978</th>\n",
       "      <td>fca7110160af8a481fc94e9a9c8a07e3</td>\n",
       "      <td>Star Wars Filled Desk Tidy</td>\n",
       "      <td>Star Wars</td>\n",
       "      <td>3.0</td>\n",
       "      <td>Characters &amp; Brands &gt; Star Wars &gt; Toys</td>\n",
       "      <td>http://www.amazon.co.uk/Star-Comics-Stationery...</td>\n",
       "      <td>NaN</td>\n",
       "      <td>Technical Details    Additional Information AS...</td>\n",
       "      <td>NaN</td>\n",
       "      <td>http://www.amazon.co.uk/Star-Comics-Stationery...</td>\n",
       "      <td>Five Stars // 5.0 // 19 May 2015 // By\\n    \\n...</td>\n",
       "      <td>{\"seller\"=&gt;{\"Seller_name_1\"=&gt;\"Toptoys2u Limite...</td>\n",
       "      <td>5.0</td>\n",
       "      <td>1.0</td>\n",
       "      <td>2.890000</td>\n",
       "      <td>NaN</td>\n",
       "    </tr>\n",
       "    <tr>\n",
       "      <th>9979</th>\n",
       "      <td>ccfd41e97f866080af3f17bc64120e3d</td>\n",
       "      <td>Albus Dumbledore (Harry Potter Magical Minis C...</td>\n",
       "      <td>Mattel</td>\n",
       "      <td>3.0</td>\n",
       "      <td>Characters &amp; Brands &gt; Harry Potter &gt; Toys</td>\n",
       "      <td>http://www.amazon.co.uk/Scalextric | http://ww...</td>\n",
       "      <td>NaN</td>\n",
       "      <td>Technical Details Item Weight118 g Product Dim...</td>\n",
       "      <td>NaN</td>\n",
       "      <td>NaN</td>\n",
       "      <td>great // 5.0 // 4 Nov. 2013 // By\\n    \\n    l...</td>\n",
       "      <td>NaN</td>\n",
       "      <td>5.0</td>\n",
       "      <td>1.0</td>\n",
       "      <td>63.730000</td>\n",
       "      <td>NaN</td>\n",
       "    </tr>\n",
       "    <tr>\n",
       "      <th>9989</th>\n",
       "      <td>1fbd746051cc006738435a8d64d1e1d1</td>\n",
       "      <td>Teen Titans Shape-Shifting Beast Boy 5\" inch F...</td>\n",
       "      <td>Ban Dai</td>\n",
       "      <td>3.0</td>\n",
       "      <td>Hobbies &gt; Collectible Figures &amp; Memorabilia &gt; ...</td>\n",
       "      <td>http://www.amazon.co.uk/Scalextric | http://ww...</td>\n",
       "      <td>NaN</td>\n",
       "      <td>Technical Details Item Weight91 g Product Dime...</td>\n",
       "      <td>NaN</td>\n",
       "      <td>NaN</td>\n",
       "      <td>Five Stars // 5.0 // 21 Nov. 2014 // By\\n    \\...</td>\n",
       "      <td>{\"seller\"=&gt;{\"Seller_name_1\"=&gt;\"JIMMYS DROP SHOP...</td>\n",
       "      <td>5.0</td>\n",
       "      <td>1.0</td>\n",
       "      <td>29.990000</td>\n",
       "      <td>NaN</td>\n",
       "    </tr>\n",
       "    <tr>\n",
       "      <th>9996</th>\n",
       "      <td>08f0747b6fc6687215ffb994c3a6fb32</td>\n",
       "      <td>Star Wars Costume, Kids Stormtrooper Costume S...</td>\n",
       "      <td>Star Wars</td>\n",
       "      <td>3.0</td>\n",
       "      <td>Characters &amp; Brands &gt; Star Wars &gt; Toys</td>\n",
       "      <td>http://www.amazon.co.uk/Storm-Trooper-Costume-...</td>\n",
       "      <td>NaN</td>\n",
       "      <td>Technical Details    Additional Information AS...</td>\n",
       "      <td>NaN</td>\n",
       "      <td>http://www.amazon.co.uk/Storm-Trooper-Costume-...</td>\n",
       "      <td>... what I see my grandson us going to have fu...</td>\n",
       "      <td>NaN</td>\n",
       "      <td>4.0</td>\n",
       "      <td>1.0</td>\n",
       "      <td>39.990000</td>\n",
       "      <td>NaN</td>\n",
       "    </tr>\n",
       "    <tr>\n",
       "      <th>9999</th>\n",
       "      <td>94d18e86e504bee1e392df7e5738b18a</td>\n",
       "      <td>Star Wars 1/72 Y-Wing Starfighter</td>\n",
       "      <td>Bandai</td>\n",
       "      <td>3.0</td>\n",
       "      <td>Characters &amp; Brands &gt; Star Wars &gt; Toys</td>\n",
       "      <td>http://www.amazon.co.uk/Bandai-Star-Wars-Fight...</td>\n",
       "      <td>NaN</td>\n",
       "      <td>Technical Details Item Weight299 g Product Dim...</td>\n",
       "      <td>NaN</td>\n",
       "      <td>NaN</td>\n",
       "      <td>Gold leader // 5.0 // 31 Aug. 2015 // By\\n    ...</td>\n",
       "      <td>NaN</td>\n",
       "      <td>4.5</td>\n",
       "      <td>11.0</td>\n",
       "      <td>21.200000</td>\n",
       "      <td>31.0</td>\n",
       "    </tr>\n",
       "  </tbody>\n",
       "</table>\n",
       "<p>647 rows × 16 columns</p>\n",
       "</div>"
      ],
      "text/plain": [
       "                               uniq_id  \\\n",
       "42    d5a8c72773ae4ebb712ffca0054a0461   \n",
       "228   16925ac88ed0f52939ec650c367e047d   \n",
       "242   a006701c15f12c6a200f48fba57da352   \n",
       "268   7dc340946c58e8571e2002c1dc394e33   \n",
       "343   fa16bd179bf00ce37f8b5455cc8c86e5   \n",
       "...                                ...   \n",
       "9978  fca7110160af8a481fc94e9a9c8a07e3   \n",
       "9979  ccfd41e97f866080af3f17bc64120e3d   \n",
       "9989  1fbd746051cc006738435a8d64d1e1d1   \n",
       "9996  08f0747b6fc6687215ffb994c3a6fb32   \n",
       "9999  94d18e86e504bee1e392df7e5738b18a   \n",
       "\n",
       "                                           product_name    manufacturer  \\\n",
       "42    HIGH SPEED TRAIN BUMP AND GO WITH MUSIC AND LI...           ARSUK   \n",
       "228    Pokemon Center Original Doll Pokemon Time Raichu  Pokemon Center   \n",
       "242   Disney Phineas and Ferb 8 Ferb Plush, soft, cu...          Disney   \n",
       "268   Takaratomy Pokemon X and Y XYN-14 Male Meowsti...         Pokémon   \n",
       "343   Cuddly Soft Spinosaurus Dinosaur Soft Toy Gift...       Ravensden   \n",
       "...                                                 ...             ...   \n",
       "9978                         Star Wars Filled Desk Tidy       Star Wars   \n",
       "9979  Albus Dumbledore (Harry Potter Magical Minis C...          Mattel   \n",
       "9989  Teen Titans Shape-Shifting Beast Boy 5\" inch F...         Ban Dai   \n",
       "9996  Star Wars Costume, Kids Stormtrooper Costume S...       Star Wars   \n",
       "9999                  Star Wars 1/72 Y-Wing Starfighter          Bandai   \n",
       "\n",
       "      number_of_answered_questions  \\\n",
       "42                             1.0   \n",
       "228                            1.0   \n",
       "242                            2.0   \n",
       "268                            1.0   \n",
       "343                            1.0   \n",
       "...                            ...   \n",
       "9978                           3.0   \n",
       "9979                           3.0   \n",
       "9989                           3.0   \n",
       "9996                           3.0   \n",
       "9999                           3.0   \n",
       "\n",
       "                       amazon_category_and_sub_category  \\\n",
       "42    Hobbies > Model Trains & Railway Sets > Rail V...   \n",
       "228   Die-Cast & Toy Vehicles > Toy Vehicles & Acces...   \n",
       "242                 Characters & Brands > Disney > Toys   \n",
       "268   Die-Cast & Toy Vehicles > Toy Vehicles & Acces...   \n",
       "343   Die-Cast & Toy Vehicles > Toy Vehicles & Acces...   \n",
       "...                                                 ...   \n",
       "9978             Characters & Brands > Star Wars > Toys   \n",
       "9979          Characters & Brands > Harry Potter > Toys   \n",
       "9989  Hobbies > Collectible Figures & Memorabilia > ...   \n",
       "9996             Characters & Brands > Star Wars > Toys   \n",
       "9999             Characters & Brands > Star Wars > Toys   \n",
       "\n",
       "             customers_who_bought_this_item_also_bought description  \\\n",
       "42    http://www.amazon.co.uk/harmony-high-speed-tra...         NaN   \n",
       "228   http://www.amazon.co.uk/Pokemon-Plush-Toy-Raic...         NaN   \n",
       "242   http://www.amazon.co.uk/10-Inch-Ferb-Plush-Phi...         NaN   \n",
       "268   http://www.amazon.co.uk/Pokemon-soft-plush-fig...         NaN   \n",
       "343   http://www.amazon.co.uk/Plush-Brontosaurus | h...         NaN   \n",
       "...                                                 ...         ...   \n",
       "9978  http://www.amazon.co.uk/Star-Comics-Stationery...         NaN   \n",
       "9979  http://www.amazon.co.uk/Scalextric | http://ww...         NaN   \n",
       "9989  http://www.amazon.co.uk/Scalextric | http://ww...         NaN   \n",
       "9996  http://www.amazon.co.uk/Storm-Trooper-Costume-...         NaN   \n",
       "9999  http://www.amazon.co.uk/Bandai-Star-Wars-Fight...         NaN   \n",
       "\n",
       "                                    product_information product_description  \\\n",
       "42    Technical Details Manufacturer recommended age...                 NaN   \n",
       "228   Technical Details Item Weight145 g Product Dim...                 NaN   \n",
       "242   Technical Details Item Weight68 g Product Dime...                 NaN   \n",
       "268   Technical Details Item Weight154 g Product Dim...                 NaN   \n",
       "343   Technical Details Item Weight222 g Product Dim...                 NaN   \n",
       "...                                                 ...                 ...   \n",
       "9978  Technical Details    Additional Information AS...                 NaN   \n",
       "9979  Technical Details Item Weight118 g Product Dim...                 NaN   \n",
       "9989  Technical Details Item Weight91 g Product Dime...                 NaN   \n",
       "9996  Technical Details    Additional Information AS...                 NaN   \n",
       "9999  Technical Details Item Weight299 g Product Dim...                 NaN   \n",
       "\n",
       "            items_customers_buy_after_viewing_this_item  \\\n",
       "42                                                  NaN   \n",
       "228   http://www.amazon.co.uk/Pokemon-Plush-Toy-Raic...   \n",
       "242   http://www.amazon.co.uk/10-Inch-Ferb-Plush-Phi...   \n",
       "268   http://www.amazon.co.uk/Pokemon-Center-Plush-D...   \n",
       "343   http://www.amazon.co.uk/Plush-Brontosaurus | h...   \n",
       "...                                                 ...   \n",
       "9978  http://www.amazon.co.uk/Star-Comics-Stationery...   \n",
       "9979                                                NaN   \n",
       "9989                                                NaN   \n",
       "9996  http://www.amazon.co.uk/Storm-Trooper-Costume-...   \n",
       "9999                                                NaN   \n",
       "\n",
       "                                       customer_reviews  \\\n",
       "42    grandchildren love it, but it does tend to go ...   \n",
       "228   Five Stars // 5.0 // 14 Sept. 2015 // By\\n    ...   \n",
       "242   my grandson will love it // 5.0 // 17 Nov. 201...   \n",
       "268   Great item! Arrived in excellent condition // ...   \n",
       "343   cuddly, cute - my boy loved it // 5.0 // 7 Dec...   \n",
       "...                                                 ...   \n",
       "9978  Five Stars // 5.0 // 19 May 2015 // By\\n    \\n...   \n",
       "9979  great // 5.0 // 4 Nov. 2013 // By\\n    \\n    l...   \n",
       "9989  Five Stars // 5.0 // 21 Nov. 2014 // By\\n    \\...   \n",
       "9996  ... what I see my grandson us going to have fu...   \n",
       "9999  Gold leader // 5.0 // 31 Aug. 2015 // By\\n    ...   \n",
       "\n",
       "                                                sellers  \\\n",
       "42    {\"seller\"=>{\"Seller_name_1\"=>\"Digicorp\", \"Sell...   \n",
       "228   {\"seller\"=>[{\"Seller_name_1\"=>\"100WAYS Ship fr...   \n",
       "242   {\"seller\"=>[{\"Seller_name_1\"=>\"mum22\", \"Seller...   \n",
       "268                                                 NaN   \n",
       "343                                                 NaN   \n",
       "...                                                 ...   \n",
       "9978  {\"seller\"=>{\"Seller_name_1\"=>\"Toptoys2u Limite...   \n",
       "9979                                                NaN   \n",
       "9989  {\"seller\"=>{\"Seller_name_1\"=>\"JIMMYS DROP SHOP...   \n",
       "9996                                                NaN   \n",
       "9999                                                NaN   \n",
       "\n",
       "      new_avg_review_rating  new_num_reviews  clean_price  new_available_stock  \n",
       "42                      4.0              1.0     4.990000                  NaN  \n",
       "228                     5.0              1.0    14.690000                 32.0  \n",
       "242                     5.0              1.0    20.280145                  2.0  \n",
       "268                     5.0              1.0    11.580000                 21.0  \n",
       "343                     5.0              1.0    14.990000                  NaN  \n",
       "...                     ...              ...          ...                  ...  \n",
       "9978                    5.0              1.0     2.890000                  NaN  \n",
       "9979                    5.0              1.0    63.730000                  NaN  \n",
       "9989                    5.0              1.0    29.990000                  NaN  \n",
       "9996                    4.0              1.0    39.990000                  NaN  \n",
       "9999                    4.5             11.0    21.200000                 31.0  \n",
       "\n",
       "[647 rows x 16 columns]"
      ]
     },
     "execution_count": 130,
     "metadata": {},
     "output_type": "execute_result"
    }
   ],
   "source": [
    "ama1[ama1.description.isnull()]"
   ]
  },
  {
   "cell_type": "code",
   "execution_count": 131,
   "metadata": {
    "ExecuteTime": {
     "end_time": "2020-12-07T10:14:06.346912Z",
     "start_time": "2020-12-07T10:14:06.317915Z"
    }
   },
   "outputs": [],
   "source": [
    "ama1['description'].fillna(ama1['description'].mode()[0], inplace= True)"
   ]
  },
  {
   "cell_type": "markdown",
   "metadata": {},
   "source": [
    "- Description and product_description has same values are missing, for this we can drop one column or fill both the columns with mode. But for this analysis we have decided to fill both the columns with mode."
   ]
  },
  {
   "cell_type": "code",
   "execution_count": 133,
   "metadata": {
    "ExecuteTime": {
     "end_time": "2020-12-07T10:16:32.458356Z",
     "start_time": "2020-12-07T10:16:32.432357Z"
    }
   },
   "outputs": [],
   "source": [
    "ama1['product_description'].fillna(ama1['product_description'].mode()[0],inplace= True)"
   ]
  },
  {
   "cell_type": "markdown",
   "metadata": {},
   "source": [
    "- For categorical we have used mode to fill this missing value."
   ]
  },
  {
   "cell_type": "code",
   "execution_count": 136,
   "metadata": {
    "ExecuteTime": {
     "end_time": "2020-12-07T10:18:02.253962Z",
     "start_time": "2020-12-07T10:18:02.217945Z"
    }
   },
   "outputs": [
    {
     "data": {
      "text/plain": [
       "http://www.amazon.co.uk/Scalextric | http://www.amazon.co.uk/Scalextric | http://www.amazon.co.uk/Scalextric | http://www.amazon.co.uk/Scalextric                                                                                                                                                                                            38\n",
       "http://www.amazon.co.uk/Ravensburger | http://www.amazon.co.uk/Ravensburger | http://www.amazon.co.uk/Ravensburger | http://www.amazon.co.uk/Ravensburger                                                                                                                                                                                    26\n",
       "http://www.amazon.co.uk/Transformers | http://www.amazon.co.uk/Transformers | http://www.amazon.co.uk/Transformers | http://www.amazon.co.uk/Transformers                                                                                                                                                                                    25\n",
       "http://www.amazon.co.uk/Thomas-Friends-Trackmaster | http://www.amazon.co.uk/Thomas-Friends-Trackmaster | http://www.amazon.co.uk/Thomas-Friends-Trackmaster | http://www.amazon.co.uk/Thomas-Friends-Trackmaster                                                                                                                            12\n",
       "http://www.amazon.co.uk/The-Creativity | http://www.amazon.co.uk/The-Creativity | http://www.amazon.co.uk/The-Creativity | http://www.amazon.co.uk/The-Creativity                                                                                                                                                                            10\n",
       "                                                                                                                                                                                                                                                                                                                                             ..\n",
       "http://www.amazon.co.uk/Kaiyodo-Revoltech-Yamaguchi-091-Stampede/dp/B00NATD0XM | http://www.amazon.co.uk/Trigun-Omnibus-Yasuhiro-Nightow/dp/1616552468 | http://www.amazon.co.uk/Trigun-Movie-Badlands-Rumble-DVD/dp/B008X6HT0W | http://www.amazon.co.uk/Revoltech-Yamaguchi-No-131-Snake/dp/B00BFLRKK6                                      1\n",
       "http://www.amazon.co.uk/Crafted-Cherry-Wooden-Chess-Draughts/dp/B00COMQF3I | http://www.amazon.co.uk/Superb-OLYMPIC-Tournament | http://www.amazon.co.uk/House-Marbles-Deluxe-Wooden-Draughts/dp/B001DS2934 | http://www.amazon.co.uk/Woodeyland                                                                                              1\n",
       "http://www.amazon.co.uk/Easy-Model-Kingtiger-Henschel-SS-Pz-Abt-501/dp/B00197EXTM | http://www.amazon.co.uk/Easy-Model-British-Challenger                                                                                                                                                                                                     1\n",
       "http://www.amazon.co.uk/Smencils-70-SB1100-Cupcake-Pencil-Case/dp/B00NI5Y6SG | http://www.amazon.co.uk/Smencils-70-X05T20-Graphite-Pencils/dp/B00NAFDIOM | http://www.amazon.co.uk/Smencils-70-X10T40-Coloured-Pencils/dp/B00JLMEM1Q | http://www.amazon.co.uk/Smencils-70-X05T27-Spring-Pencils/dp/B00TUW8RXG                                1\n",
       "http://www.amazon.co.uk/Mermaid-Designs-DESIGNER-METALLIC-TEMPORARY/dp/B013R416NK | http://www.amazon.co.uk/Vintage-Designs-DESIGNER-METALLIC-TEMPORARY/dp/B013PTJGW0 | http://www.amazon.co.uk/Starry-Designs-DESIGNER-METALLIC-TEMPORARY/dp/B013PTJJH2 | http://www.amazon.co.uk/Tropical-DESIGNER-BINDIS-Festival-Jewels/dp/B013R40V1I     1\n",
       "Name: items_customers_buy_after_viewing_this_item, Length: 6744, dtype: int64"
      ]
     },
     "execution_count": 136,
     "metadata": {},
     "output_type": "execute_result"
    }
   ],
   "source": [
    "ama1['items_customers_buy_after_viewing_this_item'].value_counts()"
   ]
  },
  {
   "cell_type": "code",
   "execution_count": 137,
   "metadata": {
    "ExecuteTime": {
     "end_time": "2020-12-07T10:19:25.222197Z",
     "start_time": "2020-12-07T10:19:25.204195Z"
    }
   },
   "outputs": [],
   "source": [
    "ama1['items_customers_buy_after_viewing_this_item'].fillna(ama1['items_customers_buy_after_viewing_this_item'].mode()[0],inplace= True)"
   ]
  },
  {
   "cell_type": "markdown",
   "metadata": {},
   "source": [
    "- For new_available_stock we decided to fill missing values with mean value. If we fill it with mode it might imbalance our data set. So we thought mean is the good way to go."
   ]
  },
  {
   "cell_type": "code",
   "execution_count": 147,
   "metadata": {
    "ExecuteTime": {
     "end_time": "2020-12-07T12:46:42.339291Z",
     "start_time": "2020-12-07T12:46:42.323301Z"
    }
   },
   "outputs": [],
   "source": [
    "ama1['new_available_stock'].fillna(ama1['new_available_stock'].mean(), inplace= True)"
   ]
  },
  {
   "cell_type": "markdown",
   "metadata": {},
   "source": [
    "- For sellers columns we have decided to drop this column coz lots of values are missing and this columns contains the same information as our data sets. "
   ]
  },
  {
   "cell_type": "code",
   "execution_count": 151,
   "metadata": {
    "ExecuteTime": {
     "end_time": "2020-12-07T12:51:55.890108Z",
     "start_time": "2020-12-07T12:51:55.858112Z"
    }
   },
   "outputs": [],
   "source": [
    "ama1.drop(['sellers'], axis= 1, inplace= True)"
   ]
  },
  {
   "cell_type": "markdown",
   "metadata": {},
   "source": [
    "- At last we are going to drop all the left over missing values. From our data sets."
   ]
  },
  {
   "cell_type": "code",
   "execution_count": 154,
   "metadata": {
    "ExecuteTime": {
     "end_time": "2020-12-07T12:56:35.155044Z",
     "start_time": "2020-12-07T12:56:35.107034Z"
    }
   },
   "outputs": [],
   "source": [
    "ama1.dropna(inplace= True)"
   ]
  },
  {
   "cell_type": "code",
   "execution_count": 155,
   "metadata": {
    "ExecuteTime": {
     "end_time": "2020-12-07T12:56:37.869685Z",
     "start_time": "2020-12-07T12:56:37.797687Z"
    }
   },
   "outputs": [
    {
     "name": "stdout",
     "output_type": "stream",
     "text": [
      "<class 'pandas.core.frame.DataFrame'>\n",
      "Int64Index: 9915 entries, 0 to 9999\n",
      "Data columns (total 15 columns):\n",
      " #   Column                                       Non-Null Count  Dtype  \n",
      "---  ------                                       --------------  -----  \n",
      " 0   uniq_id                                      9915 non-null   object \n",
      " 1   product_name                                 9915 non-null   object \n",
      " 2   manufacturer                                 9915 non-null   object \n",
      " 3   number_of_answered_questions                 9915 non-null   float64\n",
      " 4   amazon_category_and_sub_category             9915 non-null   object \n",
      " 5   customers_who_bought_this_item_also_bought   9915 non-null   object \n",
      " 6   description                                  9915 non-null   object \n",
      " 7   product_information                          9915 non-null   object \n",
      " 8   product_description                          9915 non-null   object \n",
      " 9   items_customers_buy_after_viewing_this_item  9915 non-null   object \n",
      " 10  customer_reviews                             9915 non-null   object \n",
      " 11  new_avg_review_rating                        9915 non-null   float64\n",
      " 12  new_num_reviews                              9915 non-null   float64\n",
      " 13  clean_price                                  9915 non-null   float64\n",
      " 14  new_available_stock                          9915 non-null   float64\n",
      "dtypes: float64(5), object(10)\n",
      "memory usage: 1.2+ MB\n"
     ]
    }
   ],
   "source": [
    "ama1.info()"
   ]
  },
  {
   "cell_type": "code",
   "execution_count": 156,
   "metadata": {
    "ExecuteTime": {
     "end_time": "2020-12-07T12:56:45.008468Z",
     "start_time": "2020-12-07T12:56:42.920503Z"
    }
   },
   "outputs": [
    {
     "data": {
      "text/plain": [
       "<matplotlib.axes._subplots.AxesSubplot at 0x1660f6a04c8>"
      ]
     },
     "execution_count": 156,
     "metadata": {},
     "output_type": "execute_result"
    },
    {
     "data": {
      "image/png": "[encoded data removed]",
      "text/plain": [
       "<Figure size 432x288 with 2 Axes>"
      ]
     },
     "metadata": {
      "needs_background": "light"
     },
     "output_type": "display_data"
    }
   ],
   "source": [
    "sns.heatmap(ama1.isnull(), yticklabels = False, cmap = 'viridis')"
   ]
  },
  {
   "cell_type": "code",
   "execution_count": 157,
   "metadata": {
    "ExecuteTime": {
     "end_time": "2020-12-08T08:31:26.851148Z",
     "start_time": "2020-12-08T08:31:25.766973Z"
    }
   },
   "outputs": [
    {
     "data": {
      "text/html": [
       "<div>\n",
       "<style scoped>\n",
       "    .dataframe tbody tr th:only-of-type {\n",
       "        vertical-align: middle;\n",
       "    }\n",
       "\n",
       "    .dataframe tbody tr th {\n",
       "        vertical-align: top;\n",
       "    }\n",
       "\n",
       "    .dataframe thead th {\n",
       "        text-align: right;\n",
       "    }\n",
       "</style>\n",
       "<table border=\"1\" class=\"dataframe\">\n",
       "  <thead>\n",
       "    <tr style=\"text-align: right;\">\n",
       "      <th></th>\n",
       "      <th>number_of_answered_questions</th>\n",
       "      <th>new_avg_review_rating</th>\n",
       "      <th>new_num_reviews</th>\n",
       "      <th>clean_price</th>\n",
       "      <th>new_available_stock</th>\n",
       "    </tr>\n",
       "  </thead>\n",
       "  <tbody>\n",
       "    <tr>\n",
       "      <th>count</th>\n",
       "      <td>9915.000000</td>\n",
       "      <td>9915.000000</td>\n",
       "      <td>9915.000000</td>\n",
       "      <td>9915.000000</td>\n",
       "      <td>9915.000000</td>\n",
       "    </tr>\n",
       "    <tr>\n",
       "      <th>mean</th>\n",
       "      <td>1.832116</td>\n",
       "      <td>4.708280</td>\n",
       "      <td>9.069592</td>\n",
       "      <td>20.269541</td>\n",
       "      <td>7.911757</td>\n",
       "    </tr>\n",
       "    <tr>\n",
       "      <th>std</th>\n",
       "      <td>2.422151</td>\n",
       "      <td>0.371964</td>\n",
       "      <td>33.645250</td>\n",
       "      <td>42.966778</td>\n",
       "      <td>7.633491</td>\n",
       "    </tr>\n",
       "    <tr>\n",
       "      <th>min</th>\n",
       "      <td>1.000000</td>\n",
       "      <td>2.300000</td>\n",
       "      <td>1.000000</td>\n",
       "      <td>0.010000</td>\n",
       "      <td>1.000000</td>\n",
       "    </tr>\n",
       "    <tr>\n",
       "      <th>25%</th>\n",
       "      <td>1.000000</td>\n",
       "      <td>4.500000</td>\n",
       "      <td>1.000000</td>\n",
       "      <td>5.950000</td>\n",
       "      <td>3.000000</td>\n",
       "    </tr>\n",
       "    <tr>\n",
       "      <th>50%</th>\n",
       "      <td>1.000000</td>\n",
       "      <td>5.000000</td>\n",
       "      <td>2.000000</td>\n",
       "      <td>12.990000</td>\n",
       "      <td>7.000000</td>\n",
       "    </tr>\n",
       "    <tr>\n",
       "      <th>75%</th>\n",
       "      <td>2.000000</td>\n",
       "      <td>5.000000</td>\n",
       "      <td>6.000000</td>\n",
       "      <td>20.280145</td>\n",
       "      <td>7.919947</td>\n",
       "    </tr>\n",
       "    <tr>\n",
       "      <th>max</th>\n",
       "      <td>39.000000</td>\n",
       "      <td>5.000000</td>\n",
       "      <td>1399.000000</td>\n",
       "      <td>2439.920000</td>\n",
       "      <td>92.000000</td>\n",
       "    </tr>\n",
       "  </tbody>\n",
       "</table>\n",
       "</div>"
      ],
      "text/plain": [
       "       number_of_answered_questions  new_avg_review_rating  new_num_reviews  \\\n",
       "count                   9915.000000            9915.000000      9915.000000   \n",
       "mean                       1.832116               4.708280         9.069592   \n",
       "std                        2.422151               0.371964        33.645250   \n",
       "min                        1.000000               2.300000         1.000000   \n",
       "25%                        1.000000               4.500000         1.000000   \n",
       "50%                        1.000000               5.000000         2.000000   \n",
       "75%                        2.000000               5.000000         6.000000   \n",
       "max                       39.000000               5.000000      1399.000000   \n",
       "\n",
       "       clean_price  new_available_stock  \n",
       "count  9915.000000          9915.000000  \n",
       "mean     20.269541             7.911757  \n",
       "std      42.966778             7.633491  \n",
       "min       0.010000             1.000000  \n",
       "25%       5.950000             3.000000  \n",
       "50%      12.990000             7.000000  \n",
       "75%      20.280145             7.919947  \n",
       "max    2439.920000            92.000000  "
      ]
     },
     "execution_count": 157,
     "metadata": {},
     "output_type": "execute_result"
    }
   ],
   "source": [
    "ama1.describe()"
   ]
  },
  {
   "cell_type": "code",
   "execution_count": 158,
   "metadata": {
    "ExecuteTime": {
     "end_time": "2020-12-08T08:34:40.588716Z",
     "start_time": "2020-12-08T08:34:33.370705Z"
    }
   },
   "outputs": [
    {
     "data": {
      "image/png": "[encoded data removed]",
      "text/plain": [
       "<Figure size 1152x360 with 1 Axes>"
      ]
     },
     "metadata": {
      "needs_background": "light"
     },
     "output_type": "display_data"
    }
   ],
   "source": [
    "ax = ama1['clean_price'].hist(bins = 30, density = True, stacked = True, color = 'teal', alpha = 0.7, figsize = (16, 5))\n",
    "ama1['clean_price'].plot(kind = 'density', color = 'teal')\n",
    "ax.set_label('clean_price')\n",
    "plt.show()"
   ]
  },
  {
   "cell_type": "code",
   "execution_count": null,
   "metadata": {},
   "outputs": [],
   "source": []
  }
 ],
 "metadata": {
  "kernelspec": {
   "display_name": "Python 3",
   "language": "python",
   "name": "python3"
  },
  "language_info": {
   "codemirror_mode": {
    "name": "ipython",
    "version": 3
   },
   "file_extension": ".py",
   "mimetype": "text/x-python",
   "name": "python",
   "nbconvert_exporter": "python",
   "pygments_lexer": "ipython3",
   "version": "3.7.4"
  },
  "toc": {
   "base_numbering": 1,
   "nav_menu": {},
   "number_sections": true,
   "sideBar": true,
   "skip_h1_title": false,
   "title_cell": "Table of Contents",
   "title_sidebar": "Contents",
   "toc_cell": false,
   "toc_position": {},
   "toc_section_display": true,
   "toc_window_display": false
  },
  "varInspector": {
   "cols": {
    "lenName": 16,
    "lenType": 16,
    "lenVar": 40
   },
   "kernels_config": {
    "python": {
     "delete_cmd_postfix": "",
     "delete_cmd_prefix": "del ",
     "library": "var_list.py",
     "varRefreshCmd": "print(var_dic_list())"
    },
    "r": {
     "delete_cmd_postfix": ") ",
     "delete_cmd_prefix": "rm(",
     "library": "var_list.r",
     "varRefreshCmd": "cat(var_dic_list()) "
    }
   },
   "types_to_exclude": [
    "module",
    "function",
    "builtin_function_or_method",
    "instance",
    "_Feature"
   ],
   "window_display": false
  }
 },
 "nbformat": 4,
 "nbformat_minor": 2
}
