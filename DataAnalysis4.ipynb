{
 "cells": [
  {
   "cell_type": "markdown",
   "metadata": {},
   "source": [
    "## Introduction"
   ]
  },
  {
   "cell_type": "markdown",
   "metadata": {},
   "source": [
    "HealthStats provides key health, nutrition and population statistics gathered from a variety of international sources. Themes include population dynamics, nutrition, reproductive health, health financing, medical resources and usage, immunization, infectious diseases, HIV/AIDS, DALY, population projections and lending. HealthStats also includes health, nutrition and population statistics by wealth quintiles.\n",
    "]\n",
    "This dataset includes 345 indicators, such as immunization rates, malnutrition prevalence, and vitamin A supplementation rates across 263 countries around the world. Data was collected on a yearly basis from 1960-2016. [Link is here](https://data.world/data-society/global-health-nutrition-data)"
   ]
  },
  {
   "cell_type": "markdown",
   "metadata": {},
   "source": [
    "## Inspect the data"
   ]
  },
  {
   "cell_type": "code",
   "execution_count": 1,
   "metadata": {
    "ExecuteTime": {
     "end_time": "2020-12-09T08:04:09.887018Z",
     "start_time": "2020-12-09T08:04:05.803525Z"
    }
   },
   "outputs": [
    {
     "data": {
      "text/html": [
       "        <script type=\"text/javascript\">\n",
       "        window.PlotlyConfig = {MathJaxConfig: 'local'};\n",
       "        if (window.MathJax) {MathJax.Hub.Config({SVG: {font: \"STIX-Web\"}});}\n",
       "        if (typeof require !== 'undefined') {\n",
       "        require.undef(\"plotly\");\n",
       "        requirejs.config({\n",
       "            paths: {\n",
       "                'plotly': ['https://cdn.plot.ly/plotly-latest.min']\n",
       "            }\n",
       "        });\n",
       "        require(['plotly'], function(Plotly) {\n",
       "            window._Plotly = Plotly;\n",
       "        });\n",
       "        }\n",
       "        </script>\n",
       "        "
      ]
     },
     "metadata": {},
     "output_type": "display_data"
    }
   ],
   "source": [
    "import pandas as pd\n",
    "from matplotlib import pyplot as plt\n",
    "import seaborn as sns\n",
    "import plotly.graph_objects as go\n",
    "import plotly.express as px\n",
    "import cufflinks as cf\n",
    "cf.go_offline()\n",
    "cf.set_config_file(offline=False, world_readable=True)"
   ]
  },
  {
   "cell_type": "code",
   "execution_count": 2,
   "metadata": {
    "ExecuteTime": {
     "end_time": "2020-12-09T08:04:10.644551Z",
     "start_time": "2020-12-09T08:04:09.891365Z"
    }
   },
   "outputs": [],
   "source": [
    "df = pd.read_csv('global health nutrition.csv')"
   ]
  },
  {
   "cell_type": "code",
   "execution_count": 3,
   "metadata": {
    "ExecuteTime": {
     "end_time": "2020-12-09T08:04:10.708898Z",
     "start_time": "2020-12-09T08:04:10.647597Z"
    }
   },
   "outputs": [
    {
     "name": "stdout",
     "output_type": "stream",
     "text": [
      "<class 'pandas.core.frame.DataFrame'>\n",
      "RangeIndex: 89010 entries, 0 to 89009\n",
      "Data columns (total 61 columns):\n",
      " #   Column          Non-Null Count  Dtype  \n",
      "---  ------          --------------  -----  \n",
      " 0   Country Name    89010 non-null  object \n",
      " 1   Country Code    89010 non-null  object \n",
      " 2   Indicator Name  89010 non-null  object \n",
      " 3   Indicator Code  89010 non-null  object \n",
      " 4   1960            35482 non-null  float64\n",
      " 5   1961            35325 non-null  float64\n",
      " 6   1962            35889 non-null  float64\n",
      " 7   1963            35452 non-null  float64\n",
      " 8   1964            35483 non-null  float64\n",
      " 9   1965            35603 non-null  float64\n",
      " 10  1966            35538 non-null  float64\n",
      " 11  1967            36022 non-null  float64\n",
      " 12  1968            35577 non-null  float64\n",
      " 13  1969            35630 non-null  float64\n",
      " 14  1970            36910 non-null  float64\n",
      " 15  1971            37578 non-null  float64\n",
      " 16  1972            38015 non-null  float64\n",
      " 17  1973            37542 non-null  float64\n",
      " 18  1974            37574 non-null  float64\n",
      " 19  1975            37760 non-null  float64\n",
      " 20  1976            37778 non-null  float64\n",
      " 21  1977            38204 non-null  float64\n",
      " 22  1978            37797 non-null  float64\n",
      " 23  1979            37848 non-null  float64\n",
      " 24  1980            38578 non-null  float64\n",
      " 25  1981            38829 non-null  float64\n",
      " 26  1982            39182 non-null  float64\n",
      " 27  1983            38772 non-null  float64\n",
      " 28  1984            38964 non-null  float64\n",
      " 29  1985            39020 non-null  float64\n",
      " 30  1986            39367 non-null  float64\n",
      " 31  1987            39832 non-null  float64\n",
      " 32  1988            39166 non-null  float64\n",
      " 33  1989            39282 non-null  float64\n",
      " 34  1990            47722 non-null  float64\n",
      " 35  1991            47231 non-null  float64\n",
      " 36  1992            47923 non-null  float64\n",
      " 37  1993            47398 non-null  float64\n",
      " 38  1994            47678 non-null  float64\n",
      " 39  1995            51326 non-null  float64\n",
      " 40  1996            51386 non-null  float64\n",
      " 41  1997            51560 non-null  float64\n",
      " 42  1998            51404 non-null  float64\n",
      " 43  1999            52442 non-null  float64\n",
      " 44  2000            56672 non-null  float64\n",
      " 45  2001            52924 non-null  float64\n",
      " 46  2002            53536 non-null  float64\n",
      " 47  2003            53013 non-null  float64\n",
      " 48  2004            53417 non-null  float64\n",
      " 49  2005            54304 non-null  float64\n",
      " 50  2006            54398 non-null  float64\n",
      " 51  2007            54255 non-null  float64\n",
      " 52  2008            53878 non-null  float64\n",
      " 53  2009            54437 non-null  float64\n",
      " 54  2010            57099 non-null  float64\n",
      " 55  2011            54922 non-null  float64\n",
      " 56  2012            54927 non-null  float64\n",
      " 57  2013            52924 non-null  float64\n",
      " 58  2014            52199 non-null  float64\n",
      " 59  2015            43068 non-null  float64\n",
      " 60  Unnamed: 60     0 non-null      float64\n",
      "dtypes: float64(57), object(4)\n",
      "memory usage: 41.4+ MB\n"
     ]
    }
   ],
   "source": [
    "df.info() # check the information of data"
   ]
  },
  {
   "cell_type": "code",
   "execution_count": 4,
   "metadata": {
    "ExecuteTime": {
     "end_time": "2020-12-09T08:04:10.746243Z",
     "start_time": "2020-12-09T08:04:10.714287Z"
    }
   },
   "outputs": [
    {
     "data": {
      "text/html": [
       "<div>\n",
       "<style scoped>\n",
       "    .dataframe tbody tr th:only-of-type {\n",
       "        vertical-align: middle;\n",
       "    }\n",
       "\n",
       "    .dataframe tbody tr th {\n",
       "        vertical-align: top;\n",
       "    }\n",
       "\n",
       "    .dataframe thead th {\n",
       "        text-align: right;\n",
       "    }\n",
       "</style>\n",
       "<table border=\"1\" class=\"dataframe\">\n",
       "  <thead>\n",
       "    <tr style=\"text-align: right;\">\n",
       "      <th></th>\n",
       "      <th>Country Name</th>\n",
       "      <th>Country Code</th>\n",
       "      <th>Indicator Name</th>\n",
       "      <th>Indicator Code</th>\n",
       "      <th>1960</th>\n",
       "      <th>1961</th>\n",
       "      <th>1962</th>\n",
       "      <th>1963</th>\n",
       "      <th>1964</th>\n",
       "      <th>1965</th>\n",
       "      <th>...</th>\n",
       "      <th>2007</th>\n",
       "      <th>2008</th>\n",
       "      <th>2009</th>\n",
       "      <th>2010</th>\n",
       "      <th>2011</th>\n",
       "      <th>2012</th>\n",
       "      <th>2013</th>\n",
       "      <th>2014</th>\n",
       "      <th>2015</th>\n",
       "      <th>Unnamed: 60</th>\n",
       "    </tr>\n",
       "  </thead>\n",
       "  <tbody>\n",
       "    <tr>\n",
       "      <th>0</th>\n",
       "      <td>Arab World</td>\n",
       "      <td>ARB</td>\n",
       "      <td>% of females ages 15-49 having comprehensive c...</td>\n",
       "      <td>SH.HIV.KNOW.FE.ZS</td>\n",
       "      <td>NaN</td>\n",
       "      <td>NaN</td>\n",
       "      <td>NaN</td>\n",
       "      <td>NaN</td>\n",
       "      <td>NaN</td>\n",
       "      <td>NaN</td>\n",
       "      <td>...</td>\n",
       "      <td>NaN</td>\n",
       "      <td>NaN</td>\n",
       "      <td>NaN</td>\n",
       "      <td>NaN</td>\n",
       "      <td>NaN</td>\n",
       "      <td>NaN</td>\n",
       "      <td>NaN</td>\n",
       "      <td>NaN</td>\n",
       "      <td>NaN</td>\n",
       "      <td>NaN</td>\n",
       "    </tr>\n",
       "    <tr>\n",
       "      <th>1</th>\n",
       "      <td>Arab World</td>\n",
       "      <td>ARB</td>\n",
       "      <td>% of males ages 15-49 having comprehensive cor...</td>\n",
       "      <td>SH.HIV.KNOW.MA.ZS</td>\n",
       "      <td>NaN</td>\n",
       "      <td>NaN</td>\n",
       "      <td>NaN</td>\n",
       "      <td>NaN</td>\n",
       "      <td>NaN</td>\n",
       "      <td>NaN</td>\n",
       "      <td>...</td>\n",
       "      <td>NaN</td>\n",
       "      <td>NaN</td>\n",
       "      <td>NaN</td>\n",
       "      <td>NaN</td>\n",
       "      <td>NaN</td>\n",
       "      <td>NaN</td>\n",
       "      <td>NaN</td>\n",
       "      <td>NaN</td>\n",
       "      <td>NaN</td>\n",
       "      <td>NaN</td>\n",
       "    </tr>\n",
       "    <tr>\n",
       "      <th>2</th>\n",
       "      <td>Arab World</td>\n",
       "      <td>ARB</td>\n",
       "      <td>Adolescent fertility rate (births per 1,000 wo...</td>\n",
       "      <td>SP.ADO.TFRT</td>\n",
       "      <td>133.555013</td>\n",
       "      <td>134.159119</td>\n",
       "      <td>134.857912</td>\n",
       "      <td>134.504576</td>\n",
       "      <td>134.105211</td>\n",
       "      <td>133.569626</td>\n",
       "      <td>...</td>\n",
       "      <td>49.999851</td>\n",
       "      <td>49.887046</td>\n",
       "      <td>49.781207</td>\n",
       "      <td>49.672975</td>\n",
       "      <td>49.536047</td>\n",
       "      <td>49.383745</td>\n",
       "      <td>48.796558</td>\n",
       "      <td>48.196418</td>\n",
       "      <td>NaN</td>\n",
       "      <td>NaN</td>\n",
       "    </tr>\n",
       "    <tr>\n",
       "      <th>3</th>\n",
       "      <td>Arab World</td>\n",
       "      <td>ARB</td>\n",
       "      <td>Adults (ages 15+) and children (0-14 years) li...</td>\n",
       "      <td>SH.HIV.TOTL</td>\n",
       "      <td>NaN</td>\n",
       "      <td>NaN</td>\n",
       "      <td>NaN</td>\n",
       "      <td>NaN</td>\n",
       "      <td>NaN</td>\n",
       "      <td>NaN</td>\n",
       "      <td>...</td>\n",
       "      <td>NaN</td>\n",
       "      <td>NaN</td>\n",
       "      <td>NaN</td>\n",
       "      <td>NaN</td>\n",
       "      <td>NaN</td>\n",
       "      <td>NaN</td>\n",
       "      <td>NaN</td>\n",
       "      <td>NaN</td>\n",
       "      <td>NaN</td>\n",
       "      <td>NaN</td>\n",
       "    </tr>\n",
       "    <tr>\n",
       "      <th>4</th>\n",
       "      <td>Arab World</td>\n",
       "      <td>ARB</td>\n",
       "      <td>Adults (ages 15+) and children (ages 0-14) new...</td>\n",
       "      <td>SH.HIV.INCD.TL</td>\n",
       "      <td>NaN</td>\n",
       "      <td>NaN</td>\n",
       "      <td>NaN</td>\n",
       "      <td>NaN</td>\n",
       "      <td>NaN</td>\n",
       "      <td>NaN</td>\n",
       "      <td>...</td>\n",
       "      <td>NaN</td>\n",
       "      <td>NaN</td>\n",
       "      <td>NaN</td>\n",
       "      <td>NaN</td>\n",
       "      <td>NaN</td>\n",
       "      <td>NaN</td>\n",
       "      <td>NaN</td>\n",
       "      <td>NaN</td>\n",
       "      <td>NaN</td>\n",
       "      <td>NaN</td>\n",
       "    </tr>\n",
       "  </tbody>\n",
       "</table>\n",
       "<p>5 rows × 61 columns</p>\n",
       "</div>"
      ],
      "text/plain": [
       "  Country Name Country Code  \\\n",
       "0   Arab World          ARB   \n",
       "1   Arab World          ARB   \n",
       "2   Arab World          ARB   \n",
       "3   Arab World          ARB   \n",
       "4   Arab World          ARB   \n",
       "\n",
       "                                      Indicator Name     Indicator Code  \\\n",
       "0  % of females ages 15-49 having comprehensive c...  SH.HIV.KNOW.FE.ZS   \n",
       "1  % of males ages 15-49 having comprehensive cor...  SH.HIV.KNOW.MA.ZS   \n",
       "2  Adolescent fertility rate (births per 1,000 wo...        SP.ADO.TFRT   \n",
       "3  Adults (ages 15+) and children (0-14 years) li...        SH.HIV.TOTL   \n",
       "4  Adults (ages 15+) and children (ages 0-14) new...     SH.HIV.INCD.TL   \n",
       "\n",
       "         1960        1961        1962        1963        1964        1965  \\\n",
       "0         NaN         NaN         NaN         NaN         NaN         NaN   \n",
       "1         NaN         NaN         NaN         NaN         NaN         NaN   \n",
       "2  133.555013  134.159119  134.857912  134.504576  134.105211  133.569626   \n",
       "3         NaN         NaN         NaN         NaN         NaN         NaN   \n",
       "4         NaN         NaN         NaN         NaN         NaN         NaN   \n",
       "\n",
       "   ...       2007       2008       2009       2010       2011       2012  \\\n",
       "0  ...        NaN        NaN        NaN        NaN        NaN        NaN   \n",
       "1  ...        NaN        NaN        NaN        NaN        NaN        NaN   \n",
       "2  ...  49.999851  49.887046  49.781207  49.672975  49.536047  49.383745   \n",
       "3  ...        NaN        NaN        NaN        NaN        NaN        NaN   \n",
       "4  ...        NaN        NaN        NaN        NaN        NaN        NaN   \n",
       "\n",
       "        2013       2014  2015  Unnamed: 60  \n",
       "0        NaN        NaN   NaN          NaN  \n",
       "1        NaN        NaN   NaN          NaN  \n",
       "2  48.796558  48.196418   NaN          NaN  \n",
       "3        NaN        NaN   NaN          NaN  \n",
       "4        NaN        NaN   NaN          NaN  \n",
       "\n",
       "[5 rows x 61 columns]"
      ]
     },
     "execution_count": 4,
     "metadata": {},
     "output_type": "execute_result"
    }
   ],
   "source": [
    "df.head()"
   ]
  },
  {
   "cell_type": "code",
   "execution_count": 5,
   "metadata": {
    "ExecuteTime": {
     "end_time": "2020-12-09T08:04:10.788610Z",
     "start_time": "2020-12-09T08:04:10.750642Z"
    }
   },
   "outputs": [],
   "source": [
    "df = df.iloc[:, :-1] #last column contains 0 non-null values so I removed it from the dataset"
   ]
  },
  {
   "cell_type": "code",
   "execution_count": 6,
   "metadata": {
    "ExecuteTime": {
     "end_time": "2020-12-09T08:04:11.173203Z",
     "start_time": "2020-12-09T08:04:10.791088Z"
    }
   },
   "outputs": [
    {
     "data": {
      "text/html": [
       "<div>\n",
       "<style scoped>\n",
       "    .dataframe tbody tr th:only-of-type {\n",
       "        vertical-align: middle;\n",
       "    }\n",
       "\n",
       "    .dataframe tbody tr th {\n",
       "        vertical-align: top;\n",
       "    }\n",
       "\n",
       "    .dataframe thead th {\n",
       "        text-align: right;\n",
       "    }\n",
       "</style>\n",
       "<table border=\"1\" class=\"dataframe\">\n",
       "  <thead>\n",
       "    <tr style=\"text-align: right;\">\n",
       "      <th></th>\n",
       "      <th>1960</th>\n",
       "      <th>1961</th>\n",
       "      <th>1962</th>\n",
       "      <th>1963</th>\n",
       "      <th>1964</th>\n",
       "      <th>1965</th>\n",
       "      <th>1966</th>\n",
       "      <th>1967</th>\n",
       "      <th>1968</th>\n",
       "      <th>1969</th>\n",
       "      <th>...</th>\n",
       "      <th>2006</th>\n",
       "      <th>2007</th>\n",
       "      <th>2008</th>\n",
       "      <th>2009</th>\n",
       "      <th>2010</th>\n",
       "      <th>2011</th>\n",
       "      <th>2012</th>\n",
       "      <th>2013</th>\n",
       "      <th>2014</th>\n",
       "      <th>2015</th>\n",
       "    </tr>\n",
       "  </thead>\n",
       "  <tbody>\n",
       "    <tr>\n",
       "      <th>count</th>\n",
       "      <td>3.548200e+04</td>\n",
       "      <td>3.532500e+04</td>\n",
       "      <td>3.588900e+04</td>\n",
       "      <td>3.545200e+04</td>\n",
       "      <td>3.548300e+04</td>\n",
       "      <td>3.560300e+04</td>\n",
       "      <td>3.553800e+04</td>\n",
       "      <td>3.602200e+04</td>\n",
       "      <td>3.557700e+04</td>\n",
       "      <td>3.563000e+04</td>\n",
       "      <td>...</td>\n",
       "      <td>5.439800e+04</td>\n",
       "      <td>5.425500e+04</td>\n",
       "      <td>5.387800e+04</td>\n",
       "      <td>5.443700e+04</td>\n",
       "      <td>5.709900e+04</td>\n",
       "      <td>5.492200e+04</td>\n",
       "      <td>5.492700e+04</td>\n",
       "      <td>5.292400e+04</td>\n",
       "      <td>5.219900e+04</td>\n",
       "      <td>4.306800e+04</td>\n",
       "    </tr>\n",
       "    <tr>\n",
       "      <th>mean</th>\n",
       "      <td>4.398856e+06</td>\n",
       "      <td>4.477329e+06</td>\n",
       "      <td>4.483279e+06</td>\n",
       "      <td>4.634875e+06</td>\n",
       "      <td>4.727806e+06</td>\n",
       "      <td>4.810557e+06</td>\n",
       "      <td>4.923225e+06</td>\n",
       "      <td>4.958680e+06</td>\n",
       "      <td>5.126162e+06</td>\n",
       "      <td>5.229267e+06</td>\n",
       "      <td>...</td>\n",
       "      <td>9.632233e+07</td>\n",
       "      <td>1.066701e+08</td>\n",
       "      <td>1.178440e+08</td>\n",
       "      <td>1.194416e+08</td>\n",
       "      <td>1.202183e+08</td>\n",
       "      <td>1.354606e+08</td>\n",
       "      <td>1.381746e+08</td>\n",
       "      <td>1.470674e+08</td>\n",
       "      <td>1.534580e+08</td>\n",
       "      <td>9.105685e+06</td>\n",
       "    </tr>\n",
       "    <tr>\n",
       "      <th>std</th>\n",
       "      <td>4.948245e+07</td>\n",
       "      <td>5.013205e+07</td>\n",
       "      <td>5.054473e+07</td>\n",
       "      <td>5.192122e+07</td>\n",
       "      <td>5.297849e+07</td>\n",
       "      <td>5.401988e+07</td>\n",
       "      <td>5.526006e+07</td>\n",
       "      <td>5.607026e+07</td>\n",
       "      <td>5.763263e+07</td>\n",
       "      <td>5.887277e+07</td>\n",
       "      <td>...</td>\n",
       "      <td>9.506925e+09</td>\n",
       "      <td>1.017662e+10</td>\n",
       "      <td>1.077350e+10</td>\n",
       "      <td>1.114136e+10</td>\n",
       "      <td>1.132855e+10</td>\n",
       "      <td>1.212198e+10</td>\n",
       "      <td>1.255757e+10</td>\n",
       "      <td>1.312843e+10</td>\n",
       "      <td>1.388442e+10</td>\n",
       "      <td>1.112609e+08</td>\n",
       "    </tr>\n",
       "    <tr>\n",
       "      <th>min</th>\n",
       "      <td>-2.374024e+00</td>\n",
       "      <td>-2.498824e+00</td>\n",
       "      <td>-3.826648e+06</td>\n",
       "      <td>-3.206682e+00</td>\n",
       "      <td>-3.078607e+00</td>\n",
       "      <td>-2.978527e+00</td>\n",
       "      <td>-3.072258e+00</td>\n",
       "      <td>-4.094255e+06</td>\n",
       "      <td>-4.263603e+00</td>\n",
       "      <td>-4.645452e+00</td>\n",
       "      <td>...</td>\n",
       "      <td>-7.943870e+00</td>\n",
       "      <td>-2.272986e+07</td>\n",
       "      <td>-7.720454e+00</td>\n",
       "      <td>-7.829848e+00</td>\n",
       "      <td>-9.816607e+00</td>\n",
       "      <td>-8.166639e+00</td>\n",
       "      <td>-1.578482e+07</td>\n",
       "      <td>-7.726345e+00</td>\n",
       "      <td>-7.709485e+00</td>\n",
       "      <td>-7.784170e+00</td>\n",
       "    </tr>\n",
       "    <tr>\n",
       "      <th>25%</th>\n",
       "      <td>1.907975e+01</td>\n",
       "      <td>2.130000e+01</td>\n",
       "      <td>1.790000e+01</td>\n",
       "      <td>2.228200e+01</td>\n",
       "      <td>2.236877e+01</td>\n",
       "      <td>2.013357e+01</td>\n",
       "      <td>2.196439e+01</td>\n",
       "      <td>1.779723e+01</td>\n",
       "      <td>2.226600e+01</td>\n",
       "      <td>2.237234e+01</td>\n",
       "      <td>...</td>\n",
       "      <td>1.414252e+01</td>\n",
       "      <td>1.360000e+01</td>\n",
       "      <td>1.351170e+01</td>\n",
       "      <td>1.377504e+01</td>\n",
       "      <td>1.326888e+01</td>\n",
       "      <td>1.410000e+01</td>\n",
       "      <td>1.257937e+01</td>\n",
       "      <td>1.393631e+01</td>\n",
       "      <td>1.387011e+01</td>\n",
       "      <td>1.490000e+01</td>\n",
       "    </tr>\n",
       "    <tr>\n",
       "      <th>50%</th>\n",
       "      <td>5.282000e+03</td>\n",
       "      <td>5.794000e+03</td>\n",
       "      <td>5.158000e+03</td>\n",
       "      <td>5.945000e+03</td>\n",
       "      <td>6.065000e+03</td>\n",
       "      <td>5.998000e+03</td>\n",
       "      <td>6.240000e+03</td>\n",
       "      <td>5.767000e+03</td>\n",
       "      <td>6.438000e+03</td>\n",
       "      <td>6.529500e+03</td>\n",
       "      <td>...</td>\n",
       "      <td>9.567830e+01</td>\n",
       "      <td>9.608101e+01</td>\n",
       "      <td>9.699493e+01</td>\n",
       "      <td>9.670839e+01</td>\n",
       "      <td>9.155791e+01</td>\n",
       "      <td>9.633862e+01</td>\n",
       "      <td>9.610010e+01</td>\n",
       "      <td>9.900000e+01</td>\n",
       "      <td>9.896778e+01</td>\n",
       "      <td>2.206000e+03</td>\n",
       "    </tr>\n",
       "    <tr>\n",
       "      <th>75%</th>\n",
       "      <td>9.993525e+04</td>\n",
       "      <td>1.034000e+05</td>\n",
       "      <td>1.025840e+05</td>\n",
       "      <td>1.078488e+05</td>\n",
       "      <td>1.107500e+05</td>\n",
       "      <td>1.125765e+05</td>\n",
       "      <td>1.156312e+05</td>\n",
       "      <td>1.151888e+05</td>\n",
       "      <td>1.211970e+05</td>\n",
       "      <td>1.243615e+05</td>\n",
       "      <td>...</td>\n",
       "      <td>7.982675e+04</td>\n",
       "      <td>8.397350e+04</td>\n",
       "      <td>8.621775e+04</td>\n",
       "      <td>8.342100e+04</td>\n",
       "      <td>6.758400e+04</td>\n",
       "      <td>8.207750e+04</td>\n",
       "      <td>8.399800e+04</td>\n",
       "      <td>9.839350e+04</td>\n",
       "      <td>1.037375e+05</td>\n",
       "      <td>1.802958e+05</td>\n",
       "    </tr>\n",
       "    <tr>\n",
       "      <th>max</th>\n",
       "      <td>3.035056e+09</td>\n",
       "      <td>3.076121e+09</td>\n",
       "      <td>3.129064e+09</td>\n",
       "      <td>3.193947e+09</td>\n",
       "      <td>3.259355e+09</td>\n",
       "      <td>3.326054e+09</td>\n",
       "      <td>3.395866e+09</td>\n",
       "      <td>3.465297e+09</td>\n",
       "      <td>3.535512e+09</td>\n",
       "      <td>3.609910e+09</td>\n",
       "      <td>...</td>\n",
       "      <td>2.115800e+12</td>\n",
       "      <td>2.253595e+12</td>\n",
       "      <td>2.358301e+12</td>\n",
       "      <td>2.451062e+12</td>\n",
       "      <td>2.546451e+12</td>\n",
       "      <td>2.646913e+12</td>\n",
       "      <td>2.750543e+12</td>\n",
       "      <td>2.833419e+12</td>\n",
       "      <td>2.985748e+12</td>\n",
       "      <td>7.346633e+09</td>\n",
       "    </tr>\n",
       "  </tbody>\n",
       "</table>\n",
       "<p>8 rows × 56 columns</p>\n",
       "</div>"
      ],
      "text/plain": [
       "               1960          1961          1962          1963          1964  \\\n",
       "count  3.548200e+04  3.532500e+04  3.588900e+04  3.545200e+04  3.548300e+04   \n",
       "mean   4.398856e+06  4.477329e+06  4.483279e+06  4.634875e+06  4.727806e+06   \n",
       "std    4.948245e+07  5.013205e+07  5.054473e+07  5.192122e+07  5.297849e+07   \n",
       "min   -2.374024e+00 -2.498824e+00 -3.826648e+06 -3.206682e+00 -3.078607e+00   \n",
       "25%    1.907975e+01  2.130000e+01  1.790000e+01  2.228200e+01  2.236877e+01   \n",
       "50%    5.282000e+03  5.794000e+03  5.158000e+03  5.945000e+03  6.065000e+03   \n",
       "75%    9.993525e+04  1.034000e+05  1.025840e+05  1.078488e+05  1.107500e+05   \n",
       "max    3.035056e+09  3.076121e+09  3.129064e+09  3.193947e+09  3.259355e+09   \n",
       "\n",
       "               1965          1966          1967          1968          1969  \\\n",
       "count  3.560300e+04  3.553800e+04  3.602200e+04  3.557700e+04  3.563000e+04   \n",
       "mean   4.810557e+06  4.923225e+06  4.958680e+06  5.126162e+06  5.229267e+06   \n",
       "std    5.401988e+07  5.526006e+07  5.607026e+07  5.763263e+07  5.887277e+07   \n",
       "min   -2.978527e+00 -3.072258e+00 -4.094255e+06 -4.263603e+00 -4.645452e+00   \n",
       "25%    2.013357e+01  2.196439e+01  1.779723e+01  2.226600e+01  2.237234e+01   \n",
       "50%    5.998000e+03  6.240000e+03  5.767000e+03  6.438000e+03  6.529500e+03   \n",
       "75%    1.125765e+05  1.156312e+05  1.151888e+05  1.211970e+05  1.243615e+05   \n",
       "max    3.326054e+09  3.395866e+09  3.465297e+09  3.535512e+09  3.609910e+09   \n",
       "\n",
       "       ...          2006          2007          2008          2009  \\\n",
       "count  ...  5.439800e+04  5.425500e+04  5.387800e+04  5.443700e+04   \n",
       "mean   ...  9.632233e+07  1.066701e+08  1.178440e+08  1.194416e+08   \n",
       "std    ...  9.506925e+09  1.017662e+10  1.077350e+10  1.114136e+10   \n",
       "min    ... -7.943870e+00 -2.272986e+07 -7.720454e+00 -7.829848e+00   \n",
       "25%    ...  1.414252e+01  1.360000e+01  1.351170e+01  1.377504e+01   \n",
       "50%    ...  9.567830e+01  9.608101e+01  9.699493e+01  9.670839e+01   \n",
       "75%    ...  7.982675e+04  8.397350e+04  8.621775e+04  8.342100e+04   \n",
       "max    ...  2.115800e+12  2.253595e+12  2.358301e+12  2.451062e+12   \n",
       "\n",
       "               2010          2011          2012          2013          2014  \\\n",
       "count  5.709900e+04  5.492200e+04  5.492700e+04  5.292400e+04  5.219900e+04   \n",
       "mean   1.202183e+08  1.354606e+08  1.381746e+08  1.470674e+08  1.534580e+08   \n",
       "std    1.132855e+10  1.212198e+10  1.255757e+10  1.312843e+10  1.388442e+10   \n",
       "min   -9.816607e+00 -8.166639e+00 -1.578482e+07 -7.726345e+00 -7.709485e+00   \n",
       "25%    1.326888e+01  1.410000e+01  1.257937e+01  1.393631e+01  1.387011e+01   \n",
       "50%    9.155791e+01  9.633862e+01  9.610010e+01  9.900000e+01  9.896778e+01   \n",
       "75%    6.758400e+04  8.207750e+04  8.399800e+04  9.839350e+04  1.037375e+05   \n",
       "max    2.546451e+12  2.646913e+12  2.750543e+12  2.833419e+12  2.985748e+12   \n",
       "\n",
       "               2015  \n",
       "count  4.306800e+04  \n",
       "mean   9.105685e+06  \n",
       "std    1.112609e+08  \n",
       "min   -7.784170e+00  \n",
       "25%    1.490000e+01  \n",
       "50%    2.206000e+03  \n",
       "75%    1.802958e+05  \n",
       "max    7.346633e+09  \n",
       "\n",
       "[8 rows x 56 columns]"
      ]
     },
     "execution_count": 6,
     "metadata": {},
     "output_type": "execute_result"
    }
   ],
   "source": [
    "df.describe()"
   ]
  },
  {
   "cell_type": "code",
   "execution_count": 60,
   "metadata": {
    "ExecuteTime": {
     "end_time": "2020-12-09T11:03:55.124311Z",
     "start_time": "2020-12-09T11:03:55.101432Z"
    },
    "scrolled": false
   },
   "outputs": [
    {
     "data": {
      "text/plain": [
       "array(['Age dependency ratio (% of working-age population)',\n",
       "       'Age dependency ratio, old', 'Age dependency ratio, young',\n",
       "       'Female population 00-04', 'Female population 05-09',\n",
       "       'Female population 10-14', 'Female population 15-19',\n",
       "       'Female population 20-24', 'Female population 25-29',\n",
       "       'Female population 30-34', 'Female population 35-39',\n",
       "       'Female population 40-44', 'Female population 45-49',\n",
       "       'Female population 50-54', 'Female population 55-59',\n",
       "       'Female population 60-64', 'Female population 65-69',\n",
       "       'Female population 70-74', 'Female population 75-79',\n",
       "       'Female population 80+', 'Male population 00-04',\n",
       "       'Male population 05-09', 'Male population 10-14',\n",
       "       'Male population 15-19', 'Male population 20-24',\n",
       "       'Male population 25-29', 'Male population 30-34',\n",
       "       'Male population 35-39', 'Male population 40-44',\n",
       "       'Male population 45-49', 'Male population 50-54',\n",
       "       'Male population 55-59', 'Male population 60-64',\n",
       "       'Male population 65-69', 'Male population 70-74',\n",
       "       'Male population 75-79', 'Male population 80+',\n",
       "       'Mortality rate, infant (per 1,000 live births)',\n",
       "       'Mortality rate, under-5 (per 1,000)',\n",
       "       'Population ages 00-14 (% of total)',\n",
       "       'Population ages 00-14, female (% of total)',\n",
       "       'Population ages 00-14, male (% of total)',\n",
       "       'Population ages 00-14, total', 'Population ages 0-14, female',\n",
       "       'Population ages 0-14, male', 'Population ages 15-64 (% of total)',\n",
       "       'Population ages 15-64, female',\n",
       "       'Population ages 15-64, female (% of total)',\n",
       "       'Population ages 15-64, male',\n",
       "       'Population ages 15-64, male (% of total)',\n",
       "       'Population ages 15-64, total',\n",
       "       'Population ages 65 and above (% of total)',\n",
       "       'Population ages 65 and above, female',\n",
       "       'Population ages 65 and above, female (% of total)',\n",
       "       'Population ages 65 and above, male',\n",
       "       'Population ages 65 and above, male (% of total)',\n",
       "       'Population ages 65 and above, total', 'Population, female',\n",
       "       'Population, female (% of total)', 'Population, male',\n",
       "       'Population, male (% of total)', 'Population, total',\n",
       "       'Rural population', 'Rural population (% of total population)',\n",
       "       'Urban population', 'Urban population (% of total)',\n",
       "       'Number of infant deaths', 'Number of under-five deaths',\n",
       "       'Age population, age 0, female, interpolated',\n",
       "       'Age population, age 0, male, interpolated',\n",
       "       'Age population, age 01, female, interpolated',\n",
       "       'Age population, age 01, male, interpolated',\n",
       "       'Age population, age 02, female, interpolated',\n",
       "       'Age population, age 02, male, interpolated',\n",
       "       'Age population, age 03, female, interpolated',\n",
       "       'Age population, age 03, male, interpolated',\n",
       "       'Age population, age 04, female, interpolated',\n",
       "       'Age population, age 04, male, interpolated',\n",
       "       'Age population, age 05, female, interpolated',\n",
       "       'Age population, age 05, male, interpolated',\n",
       "       'Age population, age 06, female, interpolated',\n",
       "       'Age population, age 06, male, interpolated',\n",
       "       'Age population, age 07, female, interpolated',\n",
       "       'Age population, age 07, male, interpolated',\n",
       "       'Age population, age 08, female, interpolated',\n",
       "       'Age population, age 08, male, interpolated',\n",
       "       'Age population, age 09, female, interpolated',\n",
       "       'Age population, age 09, male, interpolated',\n",
       "       'Age population, age 10, female, interpolated',\n",
       "       'Age population, age 10, male, interpolated',\n",
       "       'Age population, age 11, female, interpolated',\n",
       "       'Age population, age 11, male, interpolated',\n",
       "       'Age population, age 12, female, interpolated',\n",
       "       'Age population, age 12, male, interpolated',\n",
       "       'Age population, age 13, female, interpolated',\n",
       "       'Age population, age 13, male, interpolated',\n",
       "       'Age population, age 14, female, interpolated',\n",
       "       'Age population, age 14, male, interpolated',\n",
       "       'Age population, age 15, female, interpolated',\n",
       "       'Age population, age 15, male, interpolated',\n",
       "       'Age population, age 16, female, interpolated',\n",
       "       'Age population, age 16, male, interpolated',\n",
       "       'Age population, age 17, female, interpolated',\n",
       "       'Age population, age 17, male, interpolated',\n",
       "       'Age population, age 18, female, interpolated',\n",
       "       'Age population, age 18, male, interpolated',\n",
       "       'Age population, age 19, female, interpolated',\n",
       "       'Age population, age 19, male, interpolated',\n",
       "       'Age population, age 20, female, interpolated',\n",
       "       'Age population, age 20, male, interpolated',\n",
       "       'Age population, age 21, female, interpolated',\n",
       "       'Age population, age 21, male, interpolated',\n",
       "       'Age population, age 22, female, interpolated',\n",
       "       'Age population, age 22, male, interpolated',\n",
       "       'Age population, age 23, female, interpolated',\n",
       "       'Age population, age 23, male, interpolated',\n",
       "       'Age population, age 24, female, interpolated',\n",
       "       'Age population, age 24, male, interpolated',\n",
       "       'Age population, age 25, female, interpolated',\n",
       "       'Age population, age 25, male, interpolated',\n",
       "       'Population ages 00-04, female (% of female population)',\n",
       "       'Population ages 00-04, male (% of male population)',\n",
       "       'Population ages 05-09, female (% of female population)',\n",
       "       'Population ages 05-09, male (% of male population)',\n",
       "       'Population ages 10-14, female (% of female population)',\n",
       "       'Population ages 15-19, female (% of female population)',\n",
       "       'Population ages 15-19, male (% of male population)',\n",
       "       'Population ages 20-24, female (% of female population)',\n",
       "       'Population ages 20-24, male (% of male population)',\n",
       "       'Population ages 25-29, female (% of female population)',\n",
       "       'Population ages 25-29, male (% of male population)',\n",
       "       'Population ages 30-34, female (% of female population)',\n",
       "       'Population ages 30-34, male (% of male population)',\n",
       "       'Population ages 35-39, female (% of female population)',\n",
       "       'Population ages 35-39, male (% of male population)',\n",
       "       'Population ages 40-44, female (% of female population)',\n",
       "       'Population ages 40-44, male (% of male population)',\n",
       "       'Population ages 45-49, female (% of female population)',\n",
       "       'Population ages 45-49, male (% of male population)',\n",
       "       'Population ages 50-54, female (% of female population)',\n",
       "       'Population ages 50-54, male (% of male population)',\n",
       "       'Population ages 55-59, female (% of female population)',\n",
       "       'Population ages 55-59, male (% of male population)',\n",
       "       'Population ages 60-64, female (% of female population)',\n",
       "       'Population ages 60-64, male (% of male population)',\n",
       "       'Population ages 65-69, female (% of female population)',\n",
       "       'Population ages 65-69, male (% of male population)',\n",
       "       'Population ages 70-74, female (% of female population)',\n",
       "       'Population ages 70-74, male (% of male population)',\n",
       "       'Population ages 75-79, female (% of female population)',\n",
       "       'Population ages 75-79, male (% of male population)',\n",
       "       'Population ages 80 and older, female (% of female population)',\n",
       "       'Population ages 80 and older, male (% of male population)',\n",
       "       'Population ages10-14, male (% of male population)',\n",
       "       'Population growth (annual %)',\n",
       "       'Rural population growth (annual %)',\n",
       "       'Urban population growth (annual %)'], dtype=object)"
      ]
     },
     "execution_count": 60,
     "metadata": {},
     "output_type": "execute_result"
    }
   ],
   "source": [
    "df['Indicator Name'].unique() # check the indicator unique of the dataset before cleaning"
   ]
  },
  {
   "cell_type": "code",
   "execution_count": 8,
   "metadata": {
    "ExecuteTime": {
     "end_time": "2020-12-09T08:04:11.257458Z",
     "start_time": "2020-12-09T08:04:11.196754Z"
    }
   },
   "outputs": [
    {
     "data": {
      "text/plain": [
       "Country Name          0\n",
       "Country Code          0\n",
       "Indicator Name        0\n",
       "Indicator Code        0\n",
       "1960              53528\n",
       "1961              53685\n",
       "1962              53121\n",
       "1963              53558\n",
       "1964              53527\n",
       "1965              53407\n",
       "1966              53472\n",
       "1967              52988\n",
       "1968              53433\n",
       "1969              53380\n",
       "1970              52100\n",
       "1971              51432\n",
       "1972              50995\n",
       "1973              51468\n",
       "1974              51436\n",
       "1975              51250\n",
       "1976              51232\n",
       "1977              50806\n",
       "1978              51213\n",
       "1979              51162\n",
       "1980              50432\n",
       "1981              50181\n",
       "1982              49828\n",
       "1983              50238\n",
       "1984              50046\n",
       "1985              49990\n",
       "1986              49643\n",
       "1987              49178\n",
       "1988              49844\n",
       "1989              49728\n",
       "1990              41288\n",
       "1991              41779\n",
       "1992              41087\n",
       "1993              41612\n",
       "1994              41332\n",
       "1995              37684\n",
       "1996              37624\n",
       "1997              37450\n",
       "1998              37606\n",
       "1999              36568\n",
       "2000              32338\n",
       "2001              36086\n",
       "2002              35474\n",
       "2003              35997\n",
       "2004              35593\n",
       "2005              34706\n",
       "2006              34612\n",
       "2007              34755\n",
       "2008              35132\n",
       "2009              34573\n",
       "2010              31911\n",
       "2011              34088\n",
       "2012              34083\n",
       "2013              36086\n",
       "2014              36811\n",
       "2015              45942\n",
       "dtype: int64"
      ]
     },
     "execution_count": 8,
     "metadata": {},
     "output_type": "execute_result"
    }
   ],
   "source": [
    "df.isnull().sum() # check the null values"
   ]
  },
  {
   "cell_type": "code",
   "execution_count": 9,
   "metadata": {
    "ExecuteTime": {
     "end_time": "2020-12-09T08:04:11.355942Z",
     "start_time": "2020-12-09T08:04:11.265002Z"
    }
   },
   "outputs": [],
   "source": [
    "df.dropna(inplace = True)"
   ]
  },
  {
   "cell_type": "code",
   "execution_count": 10,
   "metadata": {
    "ExecuteTime": {
     "end_time": "2020-12-09T08:04:11.671310Z",
     "start_time": "2020-12-09T08:04:11.359335Z"
    }
   },
   "outputs": [
    {
     "data": {
      "text/html": [
       "<div>\n",
       "<style scoped>\n",
       "    .dataframe tbody tr th:only-of-type {\n",
       "        vertical-align: middle;\n",
       "    }\n",
       "\n",
       "    .dataframe tbody tr th {\n",
       "        vertical-align: top;\n",
       "    }\n",
       "\n",
       "    .dataframe thead th {\n",
       "        text-align: right;\n",
       "    }\n",
       "</style>\n",
       "<table border=\"1\" class=\"dataframe\">\n",
       "  <thead>\n",
       "    <tr style=\"text-align: right;\">\n",
       "      <th></th>\n",
       "      <th>Country Name</th>\n",
       "      <th>Country Code</th>\n",
       "      <th>Indicator Name</th>\n",
       "      <th>Indicator Code</th>\n",
       "      <th>1960</th>\n",
       "      <th>1961</th>\n",
       "      <th>1962</th>\n",
       "      <th>1963</th>\n",
       "      <th>1964</th>\n",
       "      <th>1965</th>\n",
       "      <th>...</th>\n",
       "      <th>2006</th>\n",
       "      <th>2007</th>\n",
       "      <th>2008</th>\n",
       "      <th>2009</th>\n",
       "      <th>2010</th>\n",
       "      <th>2011</th>\n",
       "      <th>2012</th>\n",
       "      <th>2013</th>\n",
       "      <th>2014</th>\n",
       "      <th>2015</th>\n",
       "    </tr>\n",
       "  </thead>\n",
       "  <tbody>\n",
       "  </tbody>\n",
       "</table>\n",
       "<p>0 rows × 60 columns</p>\n",
       "</div>"
      ],
      "text/plain": [
       "Empty DataFrame\n",
       "Columns: [Country Name, Country Code, Indicator Name, Indicator Code, 1960, 1961, 1962, 1963, 1964, 1965, 1966, 1967, 1968, 1969, 1970, 1971, 1972, 1973, 1974, 1975, 1976, 1977, 1978, 1979, 1980, 1981, 1982, 1983, 1984, 1985, 1986, 1987, 1988, 1989, 1990, 1991, 1992, 1993, 1994, 1995, 1996, 1997, 1998, 1999, 2000, 2001, 2002, 2003, 2004, 2005, 2006, 2007, 2008, 2009, 2010, 2011, 2012, 2013, 2014, 2015]\n",
       "Index: []\n",
       "\n",
       "[0 rows x 60 columns]"
      ]
     },
     "execution_count": 10,
     "metadata": {},
     "output_type": "execute_result"
    }
   ],
   "source": [
    "df[df.duplicated()] #check the duplicated values"
   ]
  },
  {
   "cell_type": "code",
   "execution_count": 11,
   "metadata": {
    "ExecuteTime": {
     "end_time": "2020-12-09T08:04:11.687680Z",
     "start_time": "2020-12-09T08:04:11.674823Z"
    },
    "scrolled": false
   },
   "outputs": [
    {
     "data": {
      "text/plain": [
       "array(['Age dependency ratio (% of working-age population)',\n",
       "       'Age dependency ratio, old', 'Age dependency ratio, young',\n",
       "       'Female population 00-04', 'Female population 05-09',\n",
       "       'Female population 10-14', 'Female population 15-19',\n",
       "       'Female population 20-24', 'Female population 25-29',\n",
       "       'Female population 30-34', 'Female population 35-39',\n",
       "       'Female population 40-44', 'Female population 45-49',\n",
       "       'Female population 50-54', 'Female population 55-59',\n",
       "       'Female population 60-64', 'Female population 65-69',\n",
       "       'Female population 70-74', 'Female population 75-79',\n",
       "       'Female population 80+', 'Male population 00-04',\n",
       "       'Male population 05-09', 'Male population 10-14',\n",
       "       'Male population 15-19', 'Male population 20-24',\n",
       "       'Male population 25-29', 'Male population 30-34',\n",
       "       'Male population 35-39', 'Male population 40-44',\n",
       "       'Male population 45-49', 'Male population 50-54',\n",
       "       'Male population 55-59', 'Male population 60-64',\n",
       "       'Male population 65-69', 'Male population 70-74',\n",
       "       'Male population 75-79', 'Male population 80+',\n",
       "       'Mortality rate, infant (per 1,000 live births)',\n",
       "       'Mortality rate, under-5 (per 1,000)',\n",
       "       'Population ages 00-14 (% of total)',\n",
       "       'Population ages 00-14, female (% of total)',\n",
       "       'Population ages 00-14, male (% of total)',\n",
       "       'Population ages 00-14, total', 'Population ages 0-14, female',\n",
       "       'Population ages 0-14, male', 'Population ages 15-64 (% of total)',\n",
       "       'Population ages 15-64, female',\n",
       "       'Population ages 15-64, female (% of total)',\n",
       "       'Population ages 15-64, male',\n",
       "       'Population ages 15-64, male (% of total)',\n",
       "       'Population ages 15-64, total',\n",
       "       'Population ages 65 and above (% of total)',\n",
       "       'Population ages 65 and above, female',\n",
       "       'Population ages 65 and above, female (% of total)',\n",
       "       'Population ages 65 and above, male',\n",
       "       'Population ages 65 and above, male (% of total)',\n",
       "       'Population ages 65 and above, total', 'Population, female',\n",
       "       'Population, female (% of total)', 'Population, male',\n",
       "       'Population, male (% of total)', 'Population, total',\n",
       "       'Rural population', 'Rural population (% of total population)',\n",
       "       'Urban population', 'Urban population (% of total)',\n",
       "       'Number of infant deaths', 'Number of under-five deaths',\n",
       "       'Age population, age 0, female, interpolated',\n",
       "       'Age population, age 0, male, interpolated',\n",
       "       'Age population, age 01, female, interpolated',\n",
       "       'Age population, age 01, male, interpolated',\n",
       "       'Age population, age 02, female, interpolated',\n",
       "       'Age population, age 02, male, interpolated',\n",
       "       'Age population, age 03, female, interpolated',\n",
       "       'Age population, age 03, male, interpolated',\n",
       "       'Age population, age 04, female, interpolated',\n",
       "       'Age population, age 04, male, interpolated',\n",
       "       'Age population, age 05, female, interpolated',\n",
       "       'Age population, age 05, male, interpolated',\n",
       "       'Age population, age 06, female, interpolated',\n",
       "       'Age population, age 06, male, interpolated',\n",
       "       'Age population, age 07, female, interpolated',\n",
       "       'Age population, age 07, male, interpolated',\n",
       "       'Age population, age 08, female, interpolated',\n",
       "       'Age population, age 08, male, interpolated',\n",
       "       'Age population, age 09, female, interpolated',\n",
       "       'Age population, age 09, male, interpolated',\n",
       "       'Age population, age 10, female, interpolated',\n",
       "       'Age population, age 10, male, interpolated',\n",
       "       'Age population, age 11, female, interpolated',\n",
       "       'Age population, age 11, male, interpolated',\n",
       "       'Age population, age 12, female, interpolated',\n",
       "       'Age population, age 12, male, interpolated',\n",
       "       'Age population, age 13, female, interpolated',\n",
       "       'Age population, age 13, male, interpolated',\n",
       "       'Age population, age 14, female, interpolated',\n",
       "       'Age population, age 14, male, interpolated',\n",
       "       'Age population, age 15, female, interpolated',\n",
       "       'Age population, age 15, male, interpolated',\n",
       "       'Age population, age 16, female, interpolated',\n",
       "       'Age population, age 16, male, interpolated',\n",
       "       'Age population, age 17, female, interpolated',\n",
       "       'Age population, age 17, male, interpolated',\n",
       "       'Age population, age 18, female, interpolated',\n",
       "       'Age population, age 18, male, interpolated',\n",
       "       'Age population, age 19, female, interpolated',\n",
       "       'Age population, age 19, male, interpolated',\n",
       "       'Age population, age 20, female, interpolated',\n",
       "       'Age population, age 20, male, interpolated',\n",
       "       'Age population, age 21, female, interpolated',\n",
       "       'Age population, age 21, male, interpolated',\n",
       "       'Age population, age 22, female, interpolated',\n",
       "       'Age population, age 22, male, interpolated',\n",
       "       'Age population, age 23, female, interpolated',\n",
       "       'Age population, age 23, male, interpolated',\n",
       "       'Age population, age 24, female, interpolated',\n",
       "       'Age population, age 24, male, interpolated',\n",
       "       'Age population, age 25, female, interpolated',\n",
       "       'Age population, age 25, male, interpolated',\n",
       "       'Population ages 00-04, female (% of female population)',\n",
       "       'Population ages 00-04, male (% of male population)',\n",
       "       'Population ages 05-09, female (% of female population)',\n",
       "       'Population ages 05-09, male (% of male population)',\n",
       "       'Population ages 10-14, female (% of female population)',\n",
       "       'Population ages 15-19, female (% of female population)',\n",
       "       'Population ages 15-19, male (% of male population)',\n",
       "       'Population ages 20-24, female (% of female population)',\n",
       "       'Population ages 20-24, male (% of male population)',\n",
       "       'Population ages 25-29, female (% of female population)',\n",
       "       'Population ages 25-29, male (% of male population)',\n",
       "       'Population ages 30-34, female (% of female population)',\n",
       "       'Population ages 30-34, male (% of male population)',\n",
       "       'Population ages 35-39, female (% of female population)',\n",
       "       'Population ages 35-39, male (% of male population)',\n",
       "       'Population ages 40-44, female (% of female population)',\n",
       "       'Population ages 40-44, male (% of male population)',\n",
       "       'Population ages 45-49, female (% of female population)',\n",
       "       'Population ages 45-49, male (% of male population)',\n",
       "       'Population ages 50-54, female (% of female population)',\n",
       "       'Population ages 50-54, male (% of male population)',\n",
       "       'Population ages 55-59, female (% of female population)',\n",
       "       'Population ages 55-59, male (% of male population)',\n",
       "       'Population ages 60-64, female (% of female population)',\n",
       "       'Population ages 60-64, male (% of male population)',\n",
       "       'Population ages 65-69, female (% of female population)',\n",
       "       'Population ages 65-69, male (% of male population)',\n",
       "       'Population ages 70-74, female (% of female population)',\n",
       "       'Population ages 70-74, male (% of male population)',\n",
       "       'Population ages 75-79, female (% of female population)',\n",
       "       'Population ages 75-79, male (% of male population)',\n",
       "       'Population ages 80 and older, female (% of female population)',\n",
       "       'Population ages 80 and older, male (% of male population)',\n",
       "       'Population ages10-14, male (% of male population)',\n",
       "       'Population growth (annual %)',\n",
       "       'Rural population growth (annual %)',\n",
       "       'Urban population growth (annual %)'], dtype=object)"
      ]
     },
     "execution_count": 11,
     "metadata": {},
     "output_type": "execute_result"
    }
   ],
   "source": [
    "df['Indicator Name'].unique() # check the unique indicator of dataset after dropping the null values"
   ]
  },
  {
   "cell_type": "code",
   "execution_count": 12,
   "metadata": {
    "ExecuteTime": {
     "end_time": "2020-12-09T08:04:11.920238Z",
     "start_time": "2020-12-09T08:04:11.694593Z"
    }
   },
   "outputs": [
    {
     "data": {
      "text/html": [
       "<div>\n",
       "<style scoped>\n",
       "    .dataframe tbody tr th:only-of-type {\n",
       "        vertical-align: middle;\n",
       "    }\n",
       "\n",
       "    .dataframe tbody tr th {\n",
       "        vertical-align: top;\n",
       "    }\n",
       "\n",
       "    .dataframe thead th {\n",
       "        text-align: right;\n",
       "    }\n",
       "</style>\n",
       "<table border=\"1\" class=\"dataframe\">\n",
       "  <thead>\n",
       "    <tr style=\"text-align: right;\">\n",
       "      <th></th>\n",
       "      <th>1960</th>\n",
       "      <th>1961</th>\n",
       "      <th>1962</th>\n",
       "      <th>1963</th>\n",
       "      <th>1964</th>\n",
       "      <th>1965</th>\n",
       "      <th>1966</th>\n",
       "      <th>1967</th>\n",
       "      <th>1968</th>\n",
       "      <th>1969</th>\n",
       "      <th>...</th>\n",
       "      <th>2006</th>\n",
       "      <th>2007</th>\n",
       "      <th>2008</th>\n",
       "      <th>2009</th>\n",
       "      <th>2010</th>\n",
       "      <th>2011</th>\n",
       "      <th>2012</th>\n",
       "      <th>2013</th>\n",
       "      <th>2014</th>\n",
       "      <th>2015</th>\n",
       "    </tr>\n",
       "  </thead>\n",
       "  <tbody>\n",
       "    <tr>\n",
       "      <th>count</th>\n",
       "      <td>3.239300e+04</td>\n",
       "      <td>3.239300e+04</td>\n",
       "      <td>3.239300e+04</td>\n",
       "      <td>3.239300e+04</td>\n",
       "      <td>3.239300e+04</td>\n",
       "      <td>3.239300e+04</td>\n",
       "      <td>3.239300e+04</td>\n",
       "      <td>3.239300e+04</td>\n",
       "      <td>3.239300e+04</td>\n",
       "      <td>3.239300e+04</td>\n",
       "      <td>...</td>\n",
       "      <td>3.239300e+04</td>\n",
       "      <td>3.239300e+04</td>\n",
       "      <td>3.239300e+04</td>\n",
       "      <td>3.239300e+04</td>\n",
       "      <td>3.239300e+04</td>\n",
       "      <td>3.239300e+04</td>\n",
       "      <td>3.239300e+04</td>\n",
       "      <td>3.239300e+04</td>\n",
       "      <td>3.239300e+04</td>\n",
       "      <td>3.239300e+04</td>\n",
       "    </tr>\n",
       "    <tr>\n",
       "      <th>mean</th>\n",
       "      <td>4.817986e+06</td>\n",
       "      <td>4.882218e+06</td>\n",
       "      <td>4.967135e+06</td>\n",
       "      <td>5.072135e+06</td>\n",
       "      <td>5.178152e+06</td>\n",
       "      <td>5.286484e+06</td>\n",
       "      <td>5.400410e+06</td>\n",
       "      <td>5.513896e+06</td>\n",
       "      <td>5.629161e+06</td>\n",
       "      <td>5.750146e+06</td>\n",
       "      <td>...</td>\n",
       "      <td>1.065120e+07</td>\n",
       "      <td>1.078535e+07</td>\n",
       "      <td>1.092165e+07</td>\n",
       "      <td>1.105882e+07</td>\n",
       "      <td>1.119786e+07</td>\n",
       "      <td>1.133565e+07</td>\n",
       "      <td>1.147398e+07</td>\n",
       "      <td>1.161876e+07</td>\n",
       "      <td>1.176097e+07</td>\n",
       "      <td>1.190645e+07</td>\n",
       "    </tr>\n",
       "    <tr>\n",
       "      <th>std</th>\n",
       "      <td>5.176864e+07</td>\n",
       "      <td>5.233292e+07</td>\n",
       "      <td>5.317983e+07</td>\n",
       "      <td>5.429715e+07</td>\n",
       "      <td>5.542684e+07</td>\n",
       "      <td>5.661111e+07</td>\n",
       "      <td>5.785834e+07</td>\n",
       "      <td>5.910186e+07</td>\n",
       "      <td>6.037536e+07</td>\n",
       "      <td>6.172015e+07</td>\n",
       "      <td>...</td>\n",
       "      <td>1.148164e+08</td>\n",
       "      <td>1.162494e+08</td>\n",
       "      <td>1.176986e+08</td>\n",
       "      <td>1.191508e+08</td>\n",
       "      <td>1.206130e+08</td>\n",
       "      <td>1.220473e+08</td>\n",
       "      <td>1.234873e+08</td>\n",
       "      <td>1.249630e+08</td>\n",
       "      <td>1.264220e+08</td>\n",
       "      <td>1.279008e+08</td>\n",
       "    </tr>\n",
       "    <tr>\n",
       "      <th>min</th>\n",
       "      <td>-2.374024e+00</td>\n",
       "      <td>-2.498824e+00</td>\n",
       "      <td>-3.171646e+00</td>\n",
       "      <td>-3.206682e+00</td>\n",
       "      <td>-3.078607e+00</td>\n",
       "      <td>-2.978527e+00</td>\n",
       "      <td>-3.072258e+00</td>\n",
       "      <td>-3.249396e+00</td>\n",
       "      <td>-4.263603e+00</td>\n",
       "      <td>-4.645452e+00</td>\n",
       "      <td>...</td>\n",
       "      <td>-7.943870e+00</td>\n",
       "      <td>-7.558326e+00</td>\n",
       "      <td>-7.720454e+00</td>\n",
       "      <td>-7.829848e+00</td>\n",
       "      <td>-7.880745e+00</td>\n",
       "      <td>-8.166639e+00</td>\n",
       "      <td>-7.966836e+00</td>\n",
       "      <td>-7.726345e+00</td>\n",
       "      <td>-7.709485e+00</td>\n",
       "      <td>-7.784170e+00</td>\n",
       "    </tr>\n",
       "    <tr>\n",
       "      <th>25%</th>\n",
       "      <td>1.918966e+01</td>\n",
       "      <td>1.919906e+01</td>\n",
       "      <td>1.930880e+01</td>\n",
       "      <td>1.927056e+01</td>\n",
       "      <td>1.933881e+01</td>\n",
       "      <td>1.932370e+01</td>\n",
       "      <td>1.939524e+01</td>\n",
       "      <td>1.936619e+01</td>\n",
       "      <td>1.926267e+01</td>\n",
       "      <td>1.919043e+01</td>\n",
       "      <td>...</td>\n",
       "      <td>1.657320e+01</td>\n",
       "      <td>1.649584e+01</td>\n",
       "      <td>1.632126e+01</td>\n",
       "      <td>1.628751e+01</td>\n",
       "      <td>1.624007e+01</td>\n",
       "      <td>1.617502e+01</td>\n",
       "      <td>1.612237e+01</td>\n",
       "      <td>1.615304e+01</td>\n",
       "      <td>1.615985e+01</td>\n",
       "      <td>1.616738e+01</td>\n",
       "    </tr>\n",
       "    <tr>\n",
       "      <th>50%</th>\n",
       "      <td>1.202100e+04</td>\n",
       "      <td>1.228600e+04</td>\n",
       "      <td>1.255500e+04</td>\n",
       "      <td>1.284600e+04</td>\n",
       "      <td>1.315100e+04</td>\n",
       "      <td>1.336600e+04</td>\n",
       "      <td>1.365400e+04</td>\n",
       "      <td>1.397000e+04</td>\n",
       "      <td>1.428000e+04</td>\n",
       "      <td>1.459800e+04</td>\n",
       "      <td>...</td>\n",
       "      <td>2.666400e+04</td>\n",
       "      <td>2.659700e+04</td>\n",
       "      <td>2.659300e+04</td>\n",
       "      <td>2.658100e+04</td>\n",
       "      <td>2.678500e+04</td>\n",
       "      <td>2.699700e+04</td>\n",
       "      <td>2.710000e+04</td>\n",
       "      <td>2.711600e+04</td>\n",
       "      <td>2.710400e+04</td>\n",
       "      <td>2.713400e+04</td>\n",
       "    </tr>\n",
       "    <tr>\n",
       "      <th>75%</th>\n",
       "      <td>1.294200e+05</td>\n",
       "      <td>1.332930e+05</td>\n",
       "      <td>1.371260e+05</td>\n",
       "      <td>1.401000e+05</td>\n",
       "      <td>1.433610e+05</td>\n",
       "      <td>1.465070e+05</td>\n",
       "      <td>1.504710e+05</td>\n",
       "      <td>1.542060e+05</td>\n",
       "      <td>1.576310e+05</td>\n",
       "      <td>1.617850e+05</td>\n",
       "      <td>...</td>\n",
       "      <td>2.991570e+05</td>\n",
       "      <td>3.026320e+05</td>\n",
       "      <td>3.060050e+05</td>\n",
       "      <td>3.088530e+05</td>\n",
       "      <td>3.119530e+05</td>\n",
       "      <td>3.157650e+05</td>\n",
       "      <td>3.189170e+05</td>\n",
       "      <td>3.233080e+05</td>\n",
       "      <td>3.263520e+05</td>\n",
       "      <td>3.308560e+05</td>\n",
       "    </tr>\n",
       "    <tr>\n",
       "      <th>max</th>\n",
       "      <td>3.035056e+09</td>\n",
       "      <td>3.076121e+09</td>\n",
       "      <td>3.129064e+09</td>\n",
       "      <td>3.193947e+09</td>\n",
       "      <td>3.259355e+09</td>\n",
       "      <td>3.326054e+09</td>\n",
       "      <td>3.395866e+09</td>\n",
       "      <td>3.465297e+09</td>\n",
       "      <td>3.535512e+09</td>\n",
       "      <td>3.609910e+09</td>\n",
       "      <td>...</td>\n",
       "      <td>6.594722e+09</td>\n",
       "      <td>6.675833e+09</td>\n",
       "      <td>6.758303e+09</td>\n",
       "      <td>6.840956e+09</td>\n",
       "      <td>6.923684e+09</td>\n",
       "      <td>7.006908e+09</td>\n",
       "      <td>7.089452e+09</td>\n",
       "      <td>7.176092e+09</td>\n",
       "      <td>7.260780e+09</td>\n",
       "      <td>7.346633e+09</td>\n",
       "    </tr>\n",
       "  </tbody>\n",
       "</table>\n",
       "<p>8 rows × 56 columns</p>\n",
       "</div>"
      ],
      "text/plain": [
       "               1960          1961          1962          1963          1964  \\\n",
       "count  3.239300e+04  3.239300e+04  3.239300e+04  3.239300e+04  3.239300e+04   \n",
       "mean   4.817986e+06  4.882218e+06  4.967135e+06  5.072135e+06  5.178152e+06   \n",
       "std    5.176864e+07  5.233292e+07  5.317983e+07  5.429715e+07  5.542684e+07   \n",
       "min   -2.374024e+00 -2.498824e+00 -3.171646e+00 -3.206682e+00 -3.078607e+00   \n",
       "25%    1.918966e+01  1.919906e+01  1.930880e+01  1.927056e+01  1.933881e+01   \n",
       "50%    1.202100e+04  1.228600e+04  1.255500e+04  1.284600e+04  1.315100e+04   \n",
       "75%    1.294200e+05  1.332930e+05  1.371260e+05  1.401000e+05  1.433610e+05   \n",
       "max    3.035056e+09  3.076121e+09  3.129064e+09  3.193947e+09  3.259355e+09   \n",
       "\n",
       "               1965          1966          1967          1968          1969  \\\n",
       "count  3.239300e+04  3.239300e+04  3.239300e+04  3.239300e+04  3.239300e+04   \n",
       "mean   5.286484e+06  5.400410e+06  5.513896e+06  5.629161e+06  5.750146e+06   \n",
       "std    5.661111e+07  5.785834e+07  5.910186e+07  6.037536e+07  6.172015e+07   \n",
       "min   -2.978527e+00 -3.072258e+00 -3.249396e+00 -4.263603e+00 -4.645452e+00   \n",
       "25%    1.932370e+01  1.939524e+01  1.936619e+01  1.926267e+01  1.919043e+01   \n",
       "50%    1.336600e+04  1.365400e+04  1.397000e+04  1.428000e+04  1.459800e+04   \n",
       "75%    1.465070e+05  1.504710e+05  1.542060e+05  1.576310e+05  1.617850e+05   \n",
       "max    3.326054e+09  3.395866e+09  3.465297e+09  3.535512e+09  3.609910e+09   \n",
       "\n",
       "       ...          2006          2007          2008          2009  \\\n",
       "count  ...  3.239300e+04  3.239300e+04  3.239300e+04  3.239300e+04   \n",
       "mean   ...  1.065120e+07  1.078535e+07  1.092165e+07  1.105882e+07   \n",
       "std    ...  1.148164e+08  1.162494e+08  1.176986e+08  1.191508e+08   \n",
       "min    ... -7.943870e+00 -7.558326e+00 -7.720454e+00 -7.829848e+00   \n",
       "25%    ...  1.657320e+01  1.649584e+01  1.632126e+01  1.628751e+01   \n",
       "50%    ...  2.666400e+04  2.659700e+04  2.659300e+04  2.658100e+04   \n",
       "75%    ...  2.991570e+05  3.026320e+05  3.060050e+05  3.088530e+05   \n",
       "max    ...  6.594722e+09  6.675833e+09  6.758303e+09  6.840956e+09   \n",
       "\n",
       "               2010          2011          2012          2013          2014  \\\n",
       "count  3.239300e+04  3.239300e+04  3.239300e+04  3.239300e+04  3.239300e+04   \n",
       "mean   1.119786e+07  1.133565e+07  1.147398e+07  1.161876e+07  1.176097e+07   \n",
       "std    1.206130e+08  1.220473e+08  1.234873e+08  1.249630e+08  1.264220e+08   \n",
       "min   -7.880745e+00 -8.166639e+00 -7.966836e+00 -7.726345e+00 -7.709485e+00   \n",
       "25%    1.624007e+01  1.617502e+01  1.612237e+01  1.615304e+01  1.615985e+01   \n",
       "50%    2.678500e+04  2.699700e+04  2.710000e+04  2.711600e+04  2.710400e+04   \n",
       "75%    3.119530e+05  3.157650e+05  3.189170e+05  3.233080e+05  3.263520e+05   \n",
       "max    6.923684e+09  7.006908e+09  7.089452e+09  7.176092e+09  7.260780e+09   \n",
       "\n",
       "               2015  \n",
       "count  3.239300e+04  \n",
       "mean   1.190645e+07  \n",
       "std    1.279008e+08  \n",
       "min   -7.784170e+00  \n",
       "25%    1.616738e+01  \n",
       "50%    2.713400e+04  \n",
       "75%    3.308560e+05  \n",
       "max    7.346633e+09  \n",
       "\n",
       "[8 rows x 56 columns]"
      ]
     },
     "execution_count": 12,
     "metadata": {},
     "output_type": "execute_result"
    }
   ],
   "source": [
    "# df2 = df.groupby('Indicator Name').mean()\n",
    "df.describe()\n"
   ]
  },
  {
   "cell_type": "markdown",
   "metadata": {},
   "source": [
    "The number is different before and after cleaning the null values. It will affect the result if we dont do the data cleaning. "
   ]
  },
  {
   "cell_type": "markdown",
   "metadata": {},
   "source": [
    "## Analyze the data"
   ]
  },
  {
   "cell_type": "markdown",
   "metadata": {},
   "source": [
    "### Population"
   ]
  },
  {
   "cell_type": "markdown",
   "metadata": {},
   "source": [
    "#### Male and female population"
   ]
  },
  {
   "cell_type": "markdown",
   "metadata": {},
   "source": [
    "I first check the world female population, the age range is between 00 and 80+."
   ]
  },
  {
   "cell_type": "code",
   "execution_count": 13,
   "metadata": {
    "ExecuteTime": {
     "end_time": "2020-12-09T08:04:11.940140Z",
     "start_time": "2020-12-09T08:04:11.926538Z"
    }
   },
   "outputs": [],
   "source": [
    "groupby_world = df[df['Country Name'] == 'World'].groupby('Indicator Name').sum()"
   ]
  },
  {
   "cell_type": "code",
   "execution_count": 14,
   "metadata": {
    "ExecuteTime": {
     "end_time": "2020-12-09T08:04:11.956692Z",
     "start_time": "2020-12-09T08:04:11.943371Z"
    }
   },
   "outputs": [],
   "source": [
    "fml_pop = groupby_world.loc['Female population 00-04':'Female population 80+', :]\n",
    "fml_pop = fml_pop.T.melt()"
   ]
  },
  {
   "cell_type": "code",
   "execution_count": 15,
   "metadata": {
    "ExecuteTime": {
     "end_time": "2020-12-09T08:04:11.972224Z",
     "start_time": "2020-12-09T08:04:11.959419Z"
    }
   },
   "outputs": [],
   "source": [
    "fml_pop = fml_pop.groupby('Indicator Name').sum()\n",
    "fml_pop.reset_index(inplace = True)"
   ]
  },
  {
   "cell_type": "code",
   "execution_count": 16,
   "metadata": {
    "ExecuteTime": {
     "end_time": "2020-12-09T08:04:11.991865Z",
     "start_time": "2020-12-09T08:04:11.975433Z"
    }
   },
   "outputs": [
    {
     "data": {
      "text/html": [
       "<div>\n",
       "<style scoped>\n",
       "    .dataframe tbody tr th:only-of-type {\n",
       "        vertical-align: middle;\n",
       "    }\n",
       "\n",
       "    .dataframe tbody tr th {\n",
       "        vertical-align: top;\n",
       "    }\n",
       "\n",
       "    .dataframe thead th {\n",
       "        text-align: right;\n",
       "    }\n",
       "</style>\n",
       "<table border=\"1\" class=\"dataframe\">\n",
       "  <thead>\n",
       "    <tr style=\"text-align: right;\">\n",
       "      <th></th>\n",
       "      <th>Indicator Name</th>\n",
       "      <th>value</th>\n",
       "    </tr>\n",
       "  </thead>\n",
       "  <tbody>\n",
       "    <tr>\n",
       "      <th>0</th>\n",
       "      <td>Female population 00-04</td>\n",
       "      <td>1.570611e+10</td>\n",
       "    </tr>\n",
       "    <tr>\n",
       "      <th>1</th>\n",
       "      <td>Female population 05-09</td>\n",
       "      <td>1.471859e+10</td>\n",
       "    </tr>\n",
       "    <tr>\n",
       "      <th>2</th>\n",
       "      <td>Female population 10-14</td>\n",
       "      <td>1.389705e+10</td>\n",
       "    </tr>\n",
       "    <tr>\n",
       "      <th>3</th>\n",
       "      <td>Female population 15-19</td>\n",
       "      <td>1.301796e+10</td>\n",
       "    </tr>\n",
       "    <tr>\n",
       "      <th>4</th>\n",
       "      <td>Female population 20-24</td>\n",
       "      <td>1.206331e+10</td>\n",
       "    </tr>\n",
       "    <tr>\n",
       "      <th>5</th>\n",
       "      <td>Female population 25-29</td>\n",
       "      <td>1.103139e+10</td>\n",
       "    </tr>\n",
       "    <tr>\n",
       "      <th>6</th>\n",
       "      <td>Female population 30-34</td>\n",
       "      <td>9.997938e+09</td>\n",
       "    </tr>\n",
       "    <tr>\n",
       "      <th>7</th>\n",
       "      <td>Female population 35-39</td>\n",
       "      <td>9.054971e+09</td>\n",
       "    </tr>\n",
       "    <tr>\n",
       "      <th>8</th>\n",
       "      <td>Female population 40-44</td>\n",
       "      <td>8.115942e+09</td>\n",
       "    </tr>\n",
       "    <tr>\n",
       "      <th>9</th>\n",
       "      <td>Female population 45-49</td>\n",
       "      <td>7.164331e+09</td>\n",
       "    </tr>\n",
       "    <tr>\n",
       "      <th>10</th>\n",
       "      <td>Female population 50-54</td>\n",
       "      <td>6.256664e+09</td>\n",
       "    </tr>\n",
       "    <tr>\n",
       "      <th>11</th>\n",
       "      <td>Female population 55-59</td>\n",
       "      <td>5.386602e+09</td>\n",
       "    </tr>\n",
       "    <tr>\n",
       "      <th>12</th>\n",
       "      <td>Female population 60-64</td>\n",
       "      <td>4.515832e+09</td>\n",
       "    </tr>\n",
       "    <tr>\n",
       "      <th>13</th>\n",
       "      <td>Female population 65-69</td>\n",
       "      <td>3.644286e+09</td>\n",
       "    </tr>\n",
       "    <tr>\n",
       "      <th>14</th>\n",
       "      <td>Female population 70-74</td>\n",
       "      <td>2.808739e+09</td>\n",
       "    </tr>\n",
       "    <tr>\n",
       "      <th>15</th>\n",
       "      <td>Female population 75-79</td>\n",
       "      <td>1.975303e+09</td>\n",
       "    </tr>\n",
       "    <tr>\n",
       "      <th>16</th>\n",
       "      <td>Female population 80+</td>\n",
       "      <td>2.011457e+09</td>\n",
       "    </tr>\n",
       "  </tbody>\n",
       "</table>\n",
       "</div>"
      ],
      "text/plain": [
       "             Indicator Name         value\n",
       "0   Female population 00-04  1.570611e+10\n",
       "1   Female population 05-09  1.471859e+10\n",
       "2   Female population 10-14  1.389705e+10\n",
       "3   Female population 15-19  1.301796e+10\n",
       "4   Female population 20-24  1.206331e+10\n",
       "5   Female population 25-29  1.103139e+10\n",
       "6   Female population 30-34  9.997938e+09\n",
       "7   Female population 35-39  9.054971e+09\n",
       "8   Female population 40-44  8.115942e+09\n",
       "9   Female population 45-49  7.164331e+09\n",
       "10  Female population 50-54  6.256664e+09\n",
       "11  Female population 55-59  5.386602e+09\n",
       "12  Female population 60-64  4.515832e+09\n",
       "13  Female population 65-69  3.644286e+09\n",
       "14  Female population 70-74  2.808739e+09\n",
       "15  Female population 75-79  1.975303e+09\n",
       "16    Female population 80+  2.011457e+09"
      ]
     },
     "execution_count": 16,
     "metadata": {},
     "output_type": "execute_result"
    }
   ],
   "source": [
    "fml_pop"
   ]
  },
  {
   "cell_type": "code",
   "execution_count": 17,
   "metadata": {
    "ExecuteTime": {
     "end_time": "2020-12-09T08:04:12.006928Z",
     "start_time": "2020-12-09T08:04:11.998337Z"
    }
   },
   "outputs": [],
   "source": [
    "# plt.figure(figsize = (20,10))\n",
    "# plt.bar(fml_pop['Indicator Name'], fml_pop['value'], color = 'coral')\n",
    "# plt.xticks(rotation = 90)\n",
    "# plt.title('Female population during 1961-2015')\n",
    "# plt.show()"
   ]
  },
  {
   "cell_type": "code",
   "execution_count": 18,
   "metadata": {
    "ExecuteTime": {
     "end_time": "2020-12-09T08:04:13.153685Z",
     "start_time": "2020-12-09T08:04:12.010579Z"
    }
   },
   "outputs": [
    {
     "data": {
      "application/vnd.plotly.v1+json": {
       "config": {
        "linkText": "Export to plot.ly",
        "plotlyServerURL": "https://plot.ly",
        "showLink": true
       },
       "data": [
        {
         "marker": {
          "color": "rgba(255, 153, 51, 0.6)",
          "line": {
           "color": "rgba(255, 153, 51, 1.0)",
           "width": 1
          }
         },
         "name": "value",
         "orientation": "v",
         "text": "",
         "type": "bar",
         "x": [
          "Female population 00-04",
          "Female population 05-09",
          "Female population 10-14",
          "Female population 15-19",
          "Female population 20-24",
          "Female population 25-29",
          "Female population 30-34",
          "Female population 35-39",
          "Female population 40-44",
          "Female population 45-49",
          "Female population 50-54",
          "Female population 55-59",
          "Female population 60-64",
          "Female population 65-69",
          "Female population 70-74",
          "Female population 75-79",
          "Female population 80+"
         ],
         "y": [
          15706111172,
          14718590410,
          13897049380,
          13017956478,
          12063309126,
          11031394635,
          9997938144,
          9054970815,
          8115941581,
          7164330772,
          6256663936,
          5386602083,
          4515831957,
          3644285792,
          2808739329,
          1975302993,
          2011457069
         ]
        }
       ],
       "layout": {
        "legend": {
         "bgcolor": "#F5F6F9",
         "font": {
          "color": "#4D5663"
         }
        },
        "paper_bgcolor": "#F5F6F9",
        "plot_bgcolor": "#F5F6F9",
        "template": {
         "data": {
          "bar": [
           {
            "error_x": {
             "color": "#2a3f5f"
            },
            "error_y": {
             "color": "#2a3f5f"
            },
            "marker": {
             "line": {
              "color": "#E5ECF6",
              "width": 0.5
             }
            },
            "type": "bar"
           }
          ],
          "barpolar": [
           {
            "marker": {
             "line": {
              "color": "#E5ECF6",
              "width": 0.5
             }
            },
            "type": "barpolar"
           }
          ],
          "carpet": [
           {
            "aaxis": {
             "endlinecolor": "#2a3f5f",
             "gridcolor": "white",
             "linecolor": "white",
             "minorgridcolor": "white",
             "startlinecolor": "#2a3f5f"
            },
            "baxis": {
             "endlinecolor": "#2a3f5f",
             "gridcolor": "white",
             "linecolor": "white",
             "minorgridcolor": "white",
             "startlinecolor": "#2a3f5f"
            },
            "type": "carpet"
           }
          ],
          "choropleth": [
           {
            "colorbar": {
             "outlinewidth": 0,
             "ticks": ""
            },
            "type": "choropleth"
           }
          ],
          "contour": [
           {
            "colorbar": {
             "outlinewidth": 0,
             "ticks": ""
            },
            "colorscale": [
             [
              0,
              "#0d0887"
             ],
             [
              0.1111111111111111,
              "#46039f"
             ],
             [
              0.2222222222222222,
              "#7201a8"
             ],
             [
              0.3333333333333333,
              "#9c179e"
             ],
             [
              0.4444444444444444,
              "#bd3786"
             ],
             [
              0.5555555555555556,
              "#d8576b"
             ],
             [
              0.6666666666666666,
              "#ed7953"
             ],
             [
              0.7777777777777778,
              "#fb9f3a"
             ],
             [
              0.8888888888888888,
              "#fdca26"
             ],
             [
              1,
              "#f0f921"
             ]
            ],
            "type": "contour"
           }
          ],
          "contourcarpet": [
           {
            "colorbar": {
             "outlinewidth": 0,
             "ticks": ""
            },
            "type": "contourcarpet"
           }
          ],
          "heatmap": [
           {
            "colorbar": {
             "outlinewidth": 0,
             "ticks": ""
            },
            "colorscale": [
             [
              0,
              "#0d0887"
             ],
             [
              0.1111111111111111,
              "#46039f"
             ],
             [
              0.2222222222222222,
              "#7201a8"
             ],
             [
              0.3333333333333333,
              "#9c179e"
             ],
             [
              0.4444444444444444,
              "#bd3786"
             ],
             [
              0.5555555555555556,
              "#d8576b"
             ],
             [
              0.6666666666666666,
              "#ed7953"
             ],
             [
              0.7777777777777778,
              "#fb9f3a"
             ],
             [
              0.8888888888888888,
              "#fdca26"
             ],
             [
              1,
              "#f0f921"
             ]
            ],
            "type": "heatmap"
           }
          ],
          "heatmapgl": [
           {
            "colorbar": {
             "outlinewidth": 0,
             "ticks": ""
            },
            "colorscale": [
             [
              0,
              "#0d0887"
             ],
             [
              0.1111111111111111,
              "#46039f"
             ],
             [
              0.2222222222222222,
              "#7201a8"
             ],
             [
              0.3333333333333333,
              "#9c179e"
             ],
             [
              0.4444444444444444,
              "#bd3786"
             ],
             [
              0.5555555555555556,
              "#d8576b"
             ],
             [
              0.6666666666666666,
              "#ed7953"
             ],
             [
              0.7777777777777778,
              "#fb9f3a"
             ],
             [
              0.8888888888888888,
              "#fdca26"
             ],
             [
              1,
              "#f0f921"
             ]
            ],
            "type": "heatmapgl"
           }
          ],
          "histogram": [
           {
            "marker": {
             "colorbar": {
              "outlinewidth": 0,
              "ticks": ""
             }
            },
            "type": "histogram"
           }
          ],
          "histogram2d": [
           {
            "colorbar": {
             "outlinewidth": 0,
             "ticks": ""
            },
            "colorscale": [
             [
              0,
              "#0d0887"
             ],
             [
              0.1111111111111111,
              "#46039f"
             ],
             [
              0.2222222222222222,
              "#7201a8"
             ],
             [
              0.3333333333333333,
              "#9c179e"
             ],
             [
              0.4444444444444444,
              "#bd3786"
             ],
             [
              0.5555555555555556,
              "#d8576b"
             ],
             [
              0.6666666666666666,
              "#ed7953"
             ],
             [
              0.7777777777777778,
              "#fb9f3a"
             ],
             [
              0.8888888888888888,
              "#fdca26"
             ],
             [
              1,
              "#f0f921"
             ]
            ],
            "type": "histogram2d"
           }
          ],
          "histogram2dcontour": [
           {
            "colorbar": {
             "outlinewidth": 0,
             "ticks": ""
            },
            "colorscale": [
             [
              0,
              "#0d0887"
             ],
             [
              0.1111111111111111,
              "#46039f"
             ],
             [
              0.2222222222222222,
              "#7201a8"
             ],
             [
              0.3333333333333333,
              "#9c179e"
             ],
             [
              0.4444444444444444,
              "#bd3786"
             ],
             [
              0.5555555555555556,
              "#d8576b"
             ],
             [
              0.6666666666666666,
              "#ed7953"
             ],
             [
              0.7777777777777778,
              "#fb9f3a"
             ],
             [
              0.8888888888888888,
              "#fdca26"
             ],
             [
              1,
              "#f0f921"
             ]
            ],
            "type": "histogram2dcontour"
           }
          ],
          "mesh3d": [
           {
            "colorbar": {
             "outlinewidth": 0,
             "ticks": ""
            },
            "type": "mesh3d"
           }
          ],
          "parcoords": [
           {
            "line": {
             "colorbar": {
              "outlinewidth": 0,
              "ticks": ""
             }
            },
            "type": "parcoords"
           }
          ],
          "pie": [
           {
            "automargin": true,
            "type": "pie"
           }
          ],
          "scatter": [
           {
            "marker": {
             "colorbar": {
              "outlinewidth": 0,
              "ticks": ""
             }
            },
            "type": "scatter"
           }
          ],
          "scatter3d": [
           {
            "line": {
             "colorbar": {
              "outlinewidth": 0,
              "ticks": ""
             }
            },
            "marker": {
             "colorbar": {
              "outlinewidth": 0,
              "ticks": ""
             }
            },
            "type": "scatter3d"
           }
          ],
          "scattercarpet": [
           {
            "marker": {
             "colorbar": {
              "outlinewidth": 0,
              "ticks": ""
             }
            },
            "type": "scattercarpet"
           }
          ],
          "scattergeo": [
           {
            "marker": {
             "colorbar": {
              "outlinewidth": 0,
              "ticks": ""
             }
            },
            "type": "scattergeo"
           }
          ],
          "scattergl": [
           {
            "marker": {
             "colorbar": {
              "outlinewidth": 0,
              "ticks": ""
             }
            },
            "type": "scattergl"
           }
          ],
          "scattermapbox": [
           {
            "marker": {
             "colorbar": {
              "outlinewidth": 0,
              "ticks": ""
             }
            },
            "type": "scattermapbox"
           }
          ],
          "scatterpolar": [
           {
            "marker": {
             "colorbar": {
              "outlinewidth": 0,
              "ticks": ""
             }
            },
            "type": "scatterpolar"
           }
          ],
          "scatterpolargl": [
           {
            "marker": {
             "colorbar": {
              "outlinewidth": 0,
              "ticks": ""
             }
            },
            "type": "scatterpolargl"
           }
          ],
          "scatterternary": [
           {
            "marker": {
             "colorbar": {
              "outlinewidth": 0,
              "ticks": ""
             }
            },
            "type": "scatterternary"
           }
          ],
          "surface": [
           {
            "colorbar": {
             "outlinewidth": 0,
             "ticks": ""
            },
            "colorscale": [
             [
              0,
              "#0d0887"
             ],
             [
              0.1111111111111111,
              "#46039f"
             ],
             [
              0.2222222222222222,
              "#7201a8"
             ],
             [
              0.3333333333333333,
              "#9c179e"
             ],
             [
              0.4444444444444444,
              "#bd3786"
             ],
             [
              0.5555555555555556,
              "#d8576b"
             ],
             [
              0.6666666666666666,
              "#ed7953"
             ],
             [
              0.7777777777777778,
              "#fb9f3a"
             ],
             [
              0.8888888888888888,
              "#fdca26"
             ],
             [
              1,
              "#f0f921"
             ]
            ],
            "type": "surface"
           }
          ],
          "table": [
           {
            "cells": {
             "fill": {
              "color": "#EBF0F8"
             },
             "line": {
              "color": "white"
             }
            },
            "header": {
             "fill": {
              "color": "#C8D4E3"
             },
             "line": {
              "color": "white"
             }
            },
            "type": "table"
           }
          ]
         },
         "layout": {
          "annotationdefaults": {
           "arrowcolor": "#2a3f5f",
           "arrowhead": 0,
           "arrowwidth": 1
          },
          "coloraxis": {
           "colorbar": {
            "outlinewidth": 0,
            "ticks": ""
           }
          },
          "colorscale": {
           "diverging": [
            [
             0,
             "#8e0152"
            ],
            [
             0.1,
             "#c51b7d"
            ],
            [
             0.2,
             "#de77ae"
            ],
            [
             0.3,
             "#f1b6da"
            ],
            [
             0.4,
             "#fde0ef"
            ],
            [
             0.5,
             "#f7f7f7"
            ],
            [
             0.6,
             "#e6f5d0"
            ],
            [
             0.7,
             "#b8e186"
            ],
            [
             0.8,
             "#7fbc41"
            ],
            [
             0.9,
             "#4d9221"
            ],
            [
             1,
             "#276419"
            ]
           ],
           "sequential": [
            [
             0,
             "#0d0887"
            ],
            [
             0.1111111111111111,
             "#46039f"
            ],
            [
             0.2222222222222222,
             "#7201a8"
            ],
            [
             0.3333333333333333,
             "#9c179e"
            ],
            [
             0.4444444444444444,
             "#bd3786"
            ],
            [
             0.5555555555555556,
             "#d8576b"
            ],
            [
             0.6666666666666666,
             "#ed7953"
            ],
            [
             0.7777777777777778,
             "#fb9f3a"
            ],
            [
             0.8888888888888888,
             "#fdca26"
            ],
            [
             1,
             "#f0f921"
            ]
           ],
           "sequentialminus": [
            [
             0,
             "#0d0887"
            ],
            [
             0.1111111111111111,
             "#46039f"
            ],
            [
             0.2222222222222222,
             "#7201a8"
            ],
            [
             0.3333333333333333,
             "#9c179e"
            ],
            [
             0.4444444444444444,
             "#bd3786"
            ],
            [
             0.5555555555555556,
             "#d8576b"
            ],
            [
             0.6666666666666666,
             "#ed7953"
            ],
            [
             0.7777777777777778,
             "#fb9f3a"
            ],
            [
             0.8888888888888888,
             "#fdca26"
            ],
            [
             1,
             "#f0f921"
            ]
           ]
          },
          "colorway": [
           "#636efa",
           "#EF553B",
           "#00cc96",
           "#ab63fa",
           "#FFA15A",
           "#19d3f3",
           "#FF6692",
           "#B6E880",
           "#FF97FF",
           "#FECB52"
          ],
          "font": {
           "color": "#2a3f5f"
          },
          "geo": {
           "bgcolor": "white",
           "lakecolor": "white",
           "landcolor": "#E5ECF6",
           "showlakes": true,
           "showland": true,
           "subunitcolor": "white"
          },
          "hoverlabel": {
           "align": "left"
          },
          "hovermode": "closest",
          "mapbox": {
           "style": "light"
          },
          "paper_bgcolor": "white",
          "plot_bgcolor": "#E5ECF6",
          "polar": {
           "angularaxis": {
            "gridcolor": "white",
            "linecolor": "white",
            "ticks": ""
           },
           "bgcolor": "#E5ECF6",
           "radialaxis": {
            "gridcolor": "white",
            "linecolor": "white",
            "ticks": ""
           }
          },
          "scene": {
           "xaxis": {
            "backgroundcolor": "#E5ECF6",
            "gridcolor": "white",
            "gridwidth": 2,
            "linecolor": "white",
            "showbackground": true,
            "ticks": "",
            "zerolinecolor": "white"
           },
           "yaxis": {
            "backgroundcolor": "#E5ECF6",
            "gridcolor": "white",
            "gridwidth": 2,
            "linecolor": "white",
            "showbackground": true,
            "ticks": "",
            "zerolinecolor": "white"
           },
           "zaxis": {
            "backgroundcolor": "#E5ECF6",
            "gridcolor": "white",
            "gridwidth": 2,
            "linecolor": "white",
            "showbackground": true,
            "ticks": "",
            "zerolinecolor": "white"
           }
          },
          "shapedefaults": {
           "line": {
            "color": "#2a3f5f"
           }
          },
          "ternary": {
           "aaxis": {
            "gridcolor": "white",
            "linecolor": "white",
            "ticks": ""
           },
           "baxis": {
            "gridcolor": "white",
            "linecolor": "white",
            "ticks": ""
           },
           "bgcolor": "#E5ECF6",
           "caxis": {
            "gridcolor": "white",
            "linecolor": "white",
            "ticks": ""
           }
          },
          "title": {
           "x": 0.05
          },
          "xaxis": {
           "automargin": true,
           "gridcolor": "white",
           "linecolor": "white",
           "ticks": "",
           "title": {
            "standoff": 15
           },
           "zerolinecolor": "white",
           "zerolinewidth": 2
          },
          "yaxis": {
           "automargin": true,
           "gridcolor": "white",
           "linecolor": "white",
           "ticks": "",
           "title": {
            "standoff": 15
           },
           "zerolinecolor": "white",
           "zerolinewidth": 2
          }
         }
        },
        "title": {
         "font": {
          "color": "#4D5663"
         },
         "text": "Female population based on time range"
        },
        "xaxis": {
         "gridcolor": "#E1E5ED",
         "showgrid": true,
         "tickfont": {
          "color": "#4D5663"
         },
         "title": {
          "font": {
           "color": "#4D5663"
          },
          "text": ""
         },
         "zerolinecolor": "#E1E5ED"
        },
        "yaxis": {
         "gridcolor": "#E1E5ED",
         "showgrid": true,
         "tickfont": {
          "color": "#4D5663"
         },
         "title": {
          "font": {
           "color": "#4D5663"
          },
          "text": ""
         },
         "zerolinecolor": "#E1E5ED"
        }
       }
      },
      "text/html": [
       "<div>                            <div id=\"656d34d5-57f9-47b1-b9e5-1790591144fc\" class=\"plotly-graph-div\" style=\"height:525px; width:100%;\"></div>            <script type=\"text/javascript\">                require([\"plotly\"], function(Plotly) {                    window.PLOTLYENV=window.PLOTLYENV || {};\n",
       "                    window.PLOTLYENV.BASE_URL='https://plot.ly';                                    if (document.getElementById(\"656d34d5-57f9-47b1-b9e5-1790591144fc\")) {                    Plotly.newPlot(                        \"656d34d5-57f9-47b1-b9e5-1790591144fc\",                        [{\"marker\": {\"color\": \"rgba(255, 153, 51, 0.6)\", \"line\": {\"color\": \"rgba(255, 153, 51, 1.0)\", \"width\": 1}}, \"name\": \"value\", \"orientation\": \"v\", \"text\": \"\", \"type\": \"bar\", \"x\": [\"Female population 00-04\", \"Female population 05-09\", \"Female population 10-14\", \"Female population 15-19\", \"Female population 20-24\", \"Female population 25-29\", \"Female population 30-34\", \"Female population 35-39\", \"Female population 40-44\", \"Female population 45-49\", \"Female population 50-54\", \"Female population 55-59\", \"Female population 60-64\", \"Female population 65-69\", \"Female population 70-74\", \"Female population 75-79\", \"Female population 80+\"], \"y\": [15706111172.0, 14718590410.0, 13897049380.0, 13017956478.0, 12063309126.0, 11031394635.0, 9997938144.0, 9054970815.0, 8115941581.0, 7164330772.0, 6256663936.0, 5386602083.0, 4515831957.0, 3644285792.0, 2808739329.0, 1975302993.0, 2011457069.0]}],                        {\"legend\": {\"bgcolor\": \"#F5F6F9\", \"font\": {\"color\": \"#4D5663\"}}, \"paper_bgcolor\": \"#F5F6F9\", \"plot_bgcolor\": \"#F5F6F9\", \"template\": {\"data\": {\"bar\": [{\"error_x\": {\"color\": \"#2a3f5f\"}, \"error_y\": {\"color\": \"#2a3f5f\"}, \"marker\": {\"line\": {\"color\": \"#E5ECF6\", \"width\": 0.5}}, \"type\": \"bar\"}], \"barpolar\": [{\"marker\": {\"line\": {\"color\": \"#E5ECF6\", \"width\": 0.5}}, \"type\": \"barpolar\"}], \"carpet\": [{\"aaxis\": {\"endlinecolor\": \"#2a3f5f\", \"gridcolor\": \"white\", \"linecolor\": \"white\", \"minorgridcolor\": \"white\", \"startlinecolor\": \"#2a3f5f\"}, \"baxis\": {\"endlinecolor\": \"#2a3f5f\", \"gridcolor\": \"white\", \"linecolor\": \"white\", \"minorgridcolor\": \"white\", \"startlinecolor\": \"#2a3f5f\"}, \"type\": \"carpet\"}], \"choropleth\": [{\"colorbar\": {\"outlinewidth\": 0, \"ticks\": \"\"}, \"type\": \"choropleth\"}], \"contour\": [{\"colorbar\": {\"outlinewidth\": 0, \"ticks\": \"\"}, \"colorscale\": [[0.0, \"#0d0887\"], [0.1111111111111111, \"#46039f\"], [0.2222222222222222, \"#7201a8\"], [0.3333333333333333, \"#9c179e\"], [0.4444444444444444, \"#bd3786\"], [0.5555555555555556, \"#d8576b\"], [0.6666666666666666, \"#ed7953\"], [0.7777777777777778, \"#fb9f3a\"], [0.8888888888888888, \"#fdca26\"], [1.0, \"#f0f921\"]], \"type\": \"contour\"}], \"contourcarpet\": [{\"colorbar\": {\"outlinewidth\": 0, \"ticks\": \"\"}, \"type\": \"contourcarpet\"}], \"heatmap\": [{\"colorbar\": {\"outlinewidth\": 0, \"ticks\": \"\"}, \"colorscale\": [[0.0, \"#0d0887\"], [0.1111111111111111, \"#46039f\"], [0.2222222222222222, \"#7201a8\"], [0.3333333333333333, \"#9c179e\"], [0.4444444444444444, \"#bd3786\"], [0.5555555555555556, \"#d8576b\"], [0.6666666666666666, \"#ed7953\"], [0.7777777777777778, \"#fb9f3a\"], [0.8888888888888888, \"#fdca26\"], [1.0, \"#f0f921\"]], \"type\": \"heatmap\"}], \"heatmapgl\": [{\"colorbar\": {\"outlinewidth\": 0, \"ticks\": \"\"}, \"colorscale\": [[0.0, \"#0d0887\"], [0.1111111111111111, \"#46039f\"], [0.2222222222222222, \"#7201a8\"], [0.3333333333333333, \"#9c179e\"], [0.4444444444444444, \"#bd3786\"], [0.5555555555555556, \"#d8576b\"], [0.6666666666666666, \"#ed7953\"], [0.7777777777777778, \"#fb9f3a\"], [0.8888888888888888, \"#fdca26\"], [1.0, \"#f0f921\"]], \"type\": \"heatmapgl\"}], \"histogram\": [{\"marker\": {\"colorbar\": {\"outlinewidth\": 0, \"ticks\": \"\"}}, \"type\": \"histogram\"}], \"histogram2d\": [{\"colorbar\": {\"outlinewidth\": 0, \"ticks\": \"\"}, \"colorscale\": [[0.0, \"#0d0887\"], [0.1111111111111111, \"#46039f\"], [0.2222222222222222, \"#7201a8\"], [0.3333333333333333, \"#9c179e\"], [0.4444444444444444, \"#bd3786\"], [0.5555555555555556, \"#d8576b\"], [0.6666666666666666, \"#ed7953\"], [0.7777777777777778, \"#fb9f3a\"], [0.8888888888888888, \"#fdca26\"], [1.0, \"#f0f921\"]], \"type\": \"histogram2d\"}], \"histogram2dcontour\": [{\"colorbar\": {\"outlinewidth\": 0, \"ticks\": \"\"}, \"colorscale\": [[0.0, \"#0d0887\"], [0.1111111111111111, \"#46039f\"], [0.2222222222222222, \"#7201a8\"], [0.3333333333333333, \"#9c179e\"], [0.4444444444444444, \"#bd3786\"], [0.5555555555555556, \"#d8576b\"], [0.6666666666666666, \"#ed7953\"], [0.7777777777777778, \"#fb9f3a\"], [0.8888888888888888, \"#fdca26\"], [1.0, \"#f0f921\"]], \"type\": \"histogram2dcontour\"}], \"mesh3d\": [{\"colorbar\": {\"outlinewidth\": 0, \"ticks\": \"\"}, \"type\": \"mesh3d\"}], \"parcoords\": [{\"line\": {\"colorbar\": {\"outlinewidth\": 0, \"ticks\": \"\"}}, \"type\": \"parcoords\"}], \"pie\": [{\"automargin\": true, \"type\": \"pie\"}], \"scatter\": [{\"marker\": {\"colorbar\": {\"outlinewidth\": 0, \"ticks\": \"\"}}, \"type\": \"scatter\"}], \"scatter3d\": [{\"line\": {\"colorbar\": {\"outlinewidth\": 0, \"ticks\": \"\"}}, \"marker\": {\"colorbar\": {\"outlinewidth\": 0, \"ticks\": \"\"}}, \"type\": \"scatter3d\"}], \"scattercarpet\": [{\"marker\": {\"colorbar\": {\"outlinewidth\": 0, \"ticks\": \"\"}}, \"type\": \"scattercarpet\"}], \"scattergeo\": [{\"marker\": {\"colorbar\": {\"outlinewidth\": 0, \"ticks\": \"\"}}, \"type\": \"scattergeo\"}], \"scattergl\": [{\"marker\": {\"colorbar\": {\"outlinewidth\": 0, \"ticks\": \"\"}}, \"type\": \"scattergl\"}], \"scattermapbox\": [{\"marker\": {\"colorbar\": {\"outlinewidth\": 0, \"ticks\": \"\"}}, \"type\": \"scattermapbox\"}], \"scatterpolar\": [{\"marker\": {\"colorbar\": {\"outlinewidth\": 0, \"ticks\": \"\"}}, \"type\": \"scatterpolar\"}], \"scatterpolargl\": [{\"marker\": {\"colorbar\": {\"outlinewidth\": 0, \"ticks\": \"\"}}, \"type\": \"scatterpolargl\"}], \"scatterternary\": [{\"marker\": {\"colorbar\": {\"outlinewidth\": 0, \"ticks\": \"\"}}, \"type\": \"scatterternary\"}], \"surface\": [{\"colorbar\": {\"outlinewidth\": 0, \"ticks\": \"\"}, \"colorscale\": [[0.0, \"#0d0887\"], [0.1111111111111111, \"#46039f\"], [0.2222222222222222, \"#7201a8\"], [0.3333333333333333, \"#9c179e\"], [0.4444444444444444, \"#bd3786\"], [0.5555555555555556, \"#d8576b\"], [0.6666666666666666, \"#ed7953\"], [0.7777777777777778, \"#fb9f3a\"], [0.8888888888888888, \"#fdca26\"], [1.0, \"#f0f921\"]], \"type\": \"surface\"}], \"table\": [{\"cells\": {\"fill\": {\"color\": \"#EBF0F8\"}, \"line\": {\"color\": \"white\"}}, \"header\": {\"fill\": {\"color\": \"#C8D4E3\"}, \"line\": {\"color\": \"white\"}}, \"type\": \"table\"}]}, \"layout\": {\"annotationdefaults\": {\"arrowcolor\": \"#2a3f5f\", \"arrowhead\": 0, \"arrowwidth\": 1}, \"coloraxis\": {\"colorbar\": {\"outlinewidth\": 0, \"ticks\": \"\"}}, \"colorscale\": {\"diverging\": [[0, \"#8e0152\"], [0.1, \"#c51b7d\"], [0.2, \"#de77ae\"], [0.3, \"#f1b6da\"], [0.4, \"#fde0ef\"], [0.5, \"#f7f7f7\"], [0.6, \"#e6f5d0\"], [0.7, \"#b8e186\"], [0.8, \"#7fbc41\"], [0.9, \"#4d9221\"], [1, \"#276419\"]], \"sequential\": [[0.0, \"#0d0887\"], [0.1111111111111111, \"#46039f\"], [0.2222222222222222, \"#7201a8\"], [0.3333333333333333, \"#9c179e\"], [0.4444444444444444, \"#bd3786\"], [0.5555555555555556, \"#d8576b\"], [0.6666666666666666, \"#ed7953\"], [0.7777777777777778, \"#fb9f3a\"], [0.8888888888888888, \"#fdca26\"], [1.0, \"#f0f921\"]], \"sequentialminus\": [[0.0, \"#0d0887\"], [0.1111111111111111, \"#46039f\"], [0.2222222222222222, \"#7201a8\"], [0.3333333333333333, \"#9c179e\"], [0.4444444444444444, \"#bd3786\"], [0.5555555555555556, \"#d8576b\"], [0.6666666666666666, \"#ed7953\"], [0.7777777777777778, \"#fb9f3a\"], [0.8888888888888888, \"#fdca26\"], [1.0, \"#f0f921\"]]}, \"colorway\": [\"#636efa\", \"#EF553B\", \"#00cc96\", \"#ab63fa\", \"#FFA15A\", \"#19d3f3\", \"#FF6692\", \"#B6E880\", \"#FF97FF\", \"#FECB52\"], \"font\": {\"color\": \"#2a3f5f\"}, \"geo\": {\"bgcolor\": \"white\", \"lakecolor\": \"white\", \"landcolor\": \"#E5ECF6\", \"showlakes\": true, \"showland\": true, \"subunitcolor\": \"white\"}, \"hoverlabel\": {\"align\": \"left\"}, \"hovermode\": \"closest\", \"mapbox\": {\"style\": \"light\"}, \"paper_bgcolor\": \"white\", \"plot_bgcolor\": \"#E5ECF6\", \"polar\": {\"angularaxis\": {\"gridcolor\": \"white\", \"linecolor\": \"white\", \"ticks\": \"\"}, \"bgcolor\": \"#E5ECF6\", \"radialaxis\": {\"gridcolor\": \"white\", \"linecolor\": \"white\", \"ticks\": \"\"}}, \"scene\": {\"xaxis\": {\"backgroundcolor\": \"#E5ECF6\", \"gridcolor\": \"white\", \"gridwidth\": 2, \"linecolor\": \"white\", \"showbackground\": true, \"ticks\": \"\", \"zerolinecolor\": \"white\"}, \"yaxis\": {\"backgroundcolor\": \"#E5ECF6\", \"gridcolor\": \"white\", \"gridwidth\": 2, \"linecolor\": \"white\", \"showbackground\": true, \"ticks\": \"\", \"zerolinecolor\": \"white\"}, \"zaxis\": {\"backgroundcolor\": \"#E5ECF6\", \"gridcolor\": \"white\", \"gridwidth\": 2, \"linecolor\": \"white\", \"showbackground\": true, \"ticks\": \"\", \"zerolinecolor\": \"white\"}}, \"shapedefaults\": {\"line\": {\"color\": \"#2a3f5f\"}}, \"ternary\": {\"aaxis\": {\"gridcolor\": \"white\", \"linecolor\": \"white\", \"ticks\": \"\"}, \"baxis\": {\"gridcolor\": \"white\", \"linecolor\": \"white\", \"ticks\": \"\"}, \"bgcolor\": \"#E5ECF6\", \"caxis\": {\"gridcolor\": \"white\", \"linecolor\": \"white\", \"ticks\": \"\"}}, \"title\": {\"x\": 0.05}, \"xaxis\": {\"automargin\": true, \"gridcolor\": \"white\", \"linecolor\": \"white\", \"ticks\": \"\", \"title\": {\"standoff\": 15}, \"zerolinecolor\": \"white\", \"zerolinewidth\": 2}, \"yaxis\": {\"automargin\": true, \"gridcolor\": \"white\", \"linecolor\": \"white\", \"ticks\": \"\", \"title\": {\"standoff\": 15}, \"zerolinecolor\": \"white\", \"zerolinewidth\": 2}}}, \"title\": {\"font\": {\"color\": \"#4D5663\"}, \"text\": \"Female population based on time range\"}, \"xaxis\": {\"gridcolor\": \"#E1E5ED\", \"showgrid\": true, \"tickfont\": {\"color\": \"#4D5663\"}, \"title\": {\"font\": {\"color\": \"#4D5663\"}, \"text\": \"\"}, \"zerolinecolor\": \"#E1E5ED\"}, \"yaxis\": {\"gridcolor\": \"#E1E5ED\", \"showgrid\": true, \"tickfont\": {\"color\": \"#4D5663\"}, \"title\": {\"font\": {\"color\": \"#4D5663\"}, \"text\": \"\"}, \"zerolinecolor\": \"#E1E5ED\"}},                        {\"showLink\": true, \"linkText\": \"Export to plot.ly\", \"plotlyServerURL\": \"https://plot.ly\", \"responsive\": true}                    ).then(function(){\n",
       "                            \n",
       "var gd = document.getElementById('656d34d5-57f9-47b1-b9e5-1790591144fc');\n",
       "var x = new MutationObserver(function (mutations, observer) {{\n",
       "        var display = window.getComputedStyle(gd).display;\n",
       "        if (!display || display === 'none') {{\n",
       "            console.log([gd, 'removed!']);\n",
       "            Plotly.purge(gd);\n",
       "            observer.disconnect();\n",
       "        }}\n",
       "}});\n",
       "\n",
       "// Listen for the removal of the full notebook cells\n",
       "var notebookContainer = gd.closest('#notebook-container');\n",
       "if (notebookContainer) {{\n",
       "    x.observe(notebookContainer, {childList: true});\n",
       "}}\n",
       "\n",
       "// Listen for the clearing of the current output cell\n",
       "var outputEl = gd.closest('.output');\n",
       "if (outputEl) {{\n",
       "    x.observe(outputEl, {childList: true});\n",
       "}}\n",
       "\n",
       "                        })                };                });            </script>        </div>"
      ]
     },
     "metadata": {},
     "output_type": "display_data"
    }
   ],
   "source": [
    "fml_pop.iplot(kind = 'bar', x= 'Indicator Name', y = 'value', title = 'Female population based on time range' )"
   ]
  },
  {
   "cell_type": "code",
   "execution_count": 19,
   "metadata": {
    "ExecuteTime": {
     "end_time": "2020-12-09T08:04:13.169243Z",
     "start_time": "2020-12-09T08:04:13.156103Z"
    }
   },
   "outputs": [],
   "source": [
    "ml_pop = groupby_world.loc['Male population 00-04':'Male population 80+', :]\n",
    "ml_pop = ml_pop.T.melt()"
   ]
  },
  {
   "cell_type": "code",
   "execution_count": 20,
   "metadata": {
    "ExecuteTime": {
     "end_time": "2020-12-09T08:04:13.180361Z",
     "start_time": "2020-12-09T08:04:13.172205Z"
    },
    "scrolled": true
   },
   "outputs": [],
   "source": [
    "ml_pop = ml_pop.groupby('Indicator Name').sum()"
   ]
  },
  {
   "cell_type": "code",
   "execution_count": 21,
   "metadata": {
    "ExecuteTime": {
     "end_time": "2020-12-09T08:04:13.189185Z",
     "start_time": "2020-12-09T08:04:13.183956Z"
    }
   },
   "outputs": [],
   "source": [
    "ml_pop.reset_index(inplace = True)"
   ]
  },
  {
   "cell_type": "code",
   "execution_count": 22,
   "metadata": {
    "ExecuteTime": {
     "end_time": "2020-12-09T08:04:13.208268Z",
     "start_time": "2020-12-09T08:04:13.192636Z"
    }
   },
   "outputs": [
    {
     "data": {
      "text/html": [
       "<div>\n",
       "<style scoped>\n",
       "    .dataframe tbody tr th:only-of-type {\n",
       "        vertical-align: middle;\n",
       "    }\n",
       "\n",
       "    .dataframe tbody tr th {\n",
       "        vertical-align: top;\n",
       "    }\n",
       "\n",
       "    .dataframe thead th {\n",
       "        text-align: right;\n",
       "    }\n",
       "</style>\n",
       "<table border=\"1\" class=\"dataframe\">\n",
       "  <thead>\n",
       "    <tr style=\"text-align: right;\">\n",
       "      <th></th>\n",
       "      <th>Indicator Name</th>\n",
       "      <th>value</th>\n",
       "    </tr>\n",
       "  </thead>\n",
       "  <tbody>\n",
       "    <tr>\n",
       "      <th>0</th>\n",
       "      <td>Male population 00-04</td>\n",
       "      <td>1.658371e+10</td>\n",
       "    </tr>\n",
       "    <tr>\n",
       "      <th>1</th>\n",
       "      <td>Male population 05-09</td>\n",
       "      <td>1.552210e+10</td>\n",
       "    </tr>\n",
       "    <tr>\n",
       "      <th>2</th>\n",
       "      <td>Male population 10-14</td>\n",
       "      <td>1.462446e+10</td>\n",
       "    </tr>\n",
       "    <tr>\n",
       "      <th>3</th>\n",
       "      <td>Male population 15-19</td>\n",
       "      <td>1.364494e+10</td>\n",
       "    </tr>\n",
       "    <tr>\n",
       "      <th>4</th>\n",
       "      <td>Male population 20-24</td>\n",
       "      <td>1.256623e+10</td>\n",
       "    </tr>\n",
       "    <tr>\n",
       "      <th>5</th>\n",
       "      <td>Male population 25-29</td>\n",
       "      <td>1.143120e+10</td>\n",
       "    </tr>\n",
       "    <tr>\n",
       "      <th>6</th>\n",
       "      <td>Male population 30-34</td>\n",
       "      <td>1.032842e+10</td>\n",
       "    </tr>\n",
       "    <tr>\n",
       "      <th>7</th>\n",
       "      <td>Male population 35-39</td>\n",
       "      <td>9.309925e+09</td>\n",
       "    </tr>\n",
       "    <tr>\n",
       "      <th>8</th>\n",
       "      <td>Male population 40-44</td>\n",
       "      <td>8.280799e+09</td>\n",
       "    </tr>\n",
       "    <tr>\n",
       "      <th>9</th>\n",
       "      <td>Male population 45-49</td>\n",
       "      <td>7.215931e+09</td>\n",
       "    </tr>\n",
       "    <tr>\n",
       "      <th>10</th>\n",
       "      <td>Male population 50-54</td>\n",
       "      <td>6.177329e+09</td>\n",
       "    </tr>\n",
       "    <tr>\n",
       "      <th>11</th>\n",
       "      <td>Male population 55-59</td>\n",
       "      <td>5.170245e+09</td>\n",
       "    </tr>\n",
       "    <tr>\n",
       "      <th>12</th>\n",
       "      <td>Male population 60-64</td>\n",
       "      <td>4.160337e+09</td>\n",
       "    </tr>\n",
       "    <tr>\n",
       "      <th>13</th>\n",
       "      <td>Male population 65-69</td>\n",
       "      <td>3.164766e+09</td>\n",
       "    </tr>\n",
       "    <tr>\n",
       "      <th>14</th>\n",
       "      <td>Male population 70-74</td>\n",
       "      <td>2.247547e+09</td>\n",
       "    </tr>\n",
       "    <tr>\n",
       "      <th>15</th>\n",
       "      <td>Male population 75-79</td>\n",
       "      <td>1.415326e+09</td>\n",
       "    </tr>\n",
       "    <tr>\n",
       "      <th>16</th>\n",
       "      <td>Male population 80+</td>\n",
       "      <td>1.134618e+09</td>\n",
       "    </tr>\n",
       "  </tbody>\n",
       "</table>\n",
       "</div>"
      ],
      "text/plain": [
       "           Indicator Name         value\n",
       "0   Male population 00-04  1.658371e+10\n",
       "1   Male population 05-09  1.552210e+10\n",
       "2   Male population 10-14  1.462446e+10\n",
       "3   Male population 15-19  1.364494e+10\n",
       "4   Male population 20-24  1.256623e+10\n",
       "5   Male population 25-29  1.143120e+10\n",
       "6   Male population 30-34  1.032842e+10\n",
       "7   Male population 35-39  9.309925e+09\n",
       "8   Male population 40-44  8.280799e+09\n",
       "9   Male population 45-49  7.215931e+09\n",
       "10  Male population 50-54  6.177329e+09\n",
       "11  Male population 55-59  5.170245e+09\n",
       "12  Male population 60-64  4.160337e+09\n",
       "13  Male population 65-69  3.164766e+09\n",
       "14  Male population 70-74  2.247547e+09\n",
       "15  Male population 75-79  1.415326e+09\n",
       "16    Male population 80+  1.134618e+09"
      ]
     },
     "execution_count": 22,
     "metadata": {},
     "output_type": "execute_result"
    }
   ],
   "source": [
    "ml_pop"
   ]
  },
  {
   "cell_type": "code",
   "execution_count": 23,
   "metadata": {
    "ExecuteTime": {
     "end_time": "2020-12-09T08:04:13.648886Z",
     "start_time": "2020-12-09T08:04:13.217757Z"
    }
   },
   "outputs": [
    {
     "data": {
      "image/png": "[encoded data removed]",
      "text/plain": [
       "<Figure size 1440x720 with 1 Axes>"
      ]
     },
     "metadata": {
      "needs_background": "light"
     },
     "output_type": "display_data"
    }
   ],
   "source": [
    "plt.figure(figsize = (20,10))\n",
    "\n",
    "male_population = ml_pop['value']\n",
    "female_population = fml_pop['value']\n",
    "labels = ['00-04', '05-09','10-14', '15-19', '20-24', '25-29', '30-34', '35-39',\n",
    "           '40-44','45-49','50-54', '55-59', '60-64', '65-69', '70-74', '75-79', '80+']\n",
    "\n",
    "# first dataset\n",
    "n = 1  \n",
    "t = 2 \n",
    "d = 17\n",
    "w = 0.8 \n",
    "bars1_x = [t*element + w*n for element\n",
    "             in range(d)]\n",
    "plt.bar(bars1_x, male_population, label = 'Male population')\n",
    "\n",
    "\n",
    "# Second dataset\n",
    "n = 2  \n",
    "t = 2 \n",
    "d = 17 \n",
    "w = 0.8 \n",
    "bars2_x = [t*element + w*n for element\n",
    "             in range(d)]\n",
    "\n",
    "plt.bar(bars2_x, female_population, label = 'Female population')\n",
    "\n",
    "middle_x = [ (a + b) / 2.0 for a, b in zip(bars1_x, bars2_x)]\n",
    "plt.xticks(middle_x, labels, rotation = 90)\n",
    "plt.legend()\n",
    "plt.show()"
   ]
  },
  {
   "cell_type": "markdown",
   "metadata": {},
   "source": [
    "This bar graph represents the comparison between male and female population based on the age range. In the segment of age more than 50, the female population is higher than male. "
   ]
  },
  {
   "cell_type": "markdown",
   "metadata": {
    "ExecuteTime": {
     "end_time": "2020-12-05T10:36:38.547633Z",
     "start_time": "2020-12-05T10:36:38.535847Z"
    }
   },
   "source": [
    "#### Percentage of population age"
   ]
  },
  {
   "cell_type": "code",
   "execution_count": 24,
   "metadata": {
    "ExecuteTime": {
     "end_time": "2020-12-09T08:04:13.709076Z",
     "start_time": "2020-12-09T08:04:13.657365Z"
    }
   },
   "outputs": [
    {
     "data": {
      "text/html": [
       "<div>\n",
       "<style scoped>\n",
       "    .dataframe tbody tr th:only-of-type {\n",
       "        vertical-align: middle;\n",
       "    }\n",
       "\n",
       "    .dataframe tbody tr th {\n",
       "        vertical-align: top;\n",
       "    }\n",
       "\n",
       "    .dataframe thead th {\n",
       "        text-align: right;\n",
       "    }\n",
       "</style>\n",
       "<table border=\"1\" class=\"dataframe\">\n",
       "  <thead>\n",
       "    <tr style=\"text-align: right;\">\n",
       "      <th></th>\n",
       "      <th>Country Name</th>\n",
       "      <th>Country Code</th>\n",
       "      <th>Indicator Name</th>\n",
       "      <th>Indicator Code</th>\n",
       "      <th>1960</th>\n",
       "      <th>1961</th>\n",
       "      <th>1962</th>\n",
       "      <th>1963</th>\n",
       "      <th>1964</th>\n",
       "      <th>1965</th>\n",
       "      <th>...</th>\n",
       "      <th>2006</th>\n",
       "      <th>2007</th>\n",
       "      <th>2008</th>\n",
       "      <th>2009</th>\n",
       "      <th>2010</th>\n",
       "      <th>2011</th>\n",
       "      <th>2012</th>\n",
       "      <th>2013</th>\n",
       "      <th>2014</th>\n",
       "      <th>2015</th>\n",
       "    </tr>\n",
       "  </thead>\n",
       "  <tbody>\n",
       "    <tr>\n",
       "      <th>13809</th>\n",
       "      <td>World</td>\n",
       "      <td>WLD</td>\n",
       "      <td>Age dependency ratio (% of working-age populat...</td>\n",
       "      <td>SP.POP.DPND</td>\n",
       "      <td>7.358939e+01</td>\n",
       "      <td>7.430902e+01</td>\n",
       "      <td>7.513252e+01</td>\n",
       "      <td>7.589669e+01</td>\n",
       "      <td>7.637869e+01</td>\n",
       "      <td>7.650348e+01</td>\n",
       "      <td>...</td>\n",
       "      <td>5.575843e+01</td>\n",
       "      <td>5.524079e+01</td>\n",
       "      <td>5.476767e+01</td>\n",
       "      <td>5.437327e+01</td>\n",
       "      <td>5.407173e+01</td>\n",
       "      <td>5.392305e+01</td>\n",
       "      <td>5.383897e+01</td>\n",
       "      <td>5.381668e+01</td>\n",
       "      <td>5.384501e+01</td>\n",
       "      <td>5.390338e+01</td>\n",
       "    </tr>\n",
       "    <tr>\n",
       "      <th>13810</th>\n",
       "      <td>World</td>\n",
       "      <td>WLD</td>\n",
       "      <td>Age dependency ratio, old</td>\n",
       "      <td>SP.POP.DPND.OL</td>\n",
       "      <td>8.610807e+00</td>\n",
       "      <td>8.724925e+00</td>\n",
       "      <td>8.806098e+00</td>\n",
       "      <td>8.854269e+00</td>\n",
       "      <td>8.876658e+00</td>\n",
       "      <td>8.873045e+00</td>\n",
       "      <td>...</td>\n",
       "      <td>1.132622e+01</td>\n",
       "      <td>1.138447e+01</td>\n",
       "      <td>1.144269e+01</td>\n",
       "      <td>1.151698e+01</td>\n",
       "      <td>1.161860e+01</td>\n",
       "      <td>1.176464e+01</td>\n",
       "      <td>1.192434e+01</td>\n",
       "      <td>1.211810e+01</td>\n",
       "      <td>1.233840e+01</td>\n",
       "      <td>1.259775e+01</td>\n",
       "    </tr>\n",
       "    <tr>\n",
       "      <th>13811</th>\n",
       "      <td>World</td>\n",
       "      <td>WLD</td>\n",
       "      <td>Age dependency ratio, young</td>\n",
       "      <td>SP.POP.DPND.YG</td>\n",
       "      <td>6.412086e+01</td>\n",
       "      <td>6.468396e+01</td>\n",
       "      <td>6.535699e+01</td>\n",
       "      <td>6.598888e+01</td>\n",
       "      <td>6.637663e+01</td>\n",
       "      <td>6.646484e+01</td>\n",
       "      <td>...</td>\n",
       "      <td>4.278193e+01</td>\n",
       "      <td>4.216266e+01</td>\n",
       "      <td>4.159948e+01</td>\n",
       "      <td>4.111861e+01</td>\n",
       "      <td>4.072569e+01</td>\n",
       "      <td>4.044438e+01</td>\n",
       "      <td>4.023444e+01</td>\n",
       "      <td>4.006785e+01</td>\n",
       "      <td>3.993292e+01</td>\n",
       "      <td>3.979393e+01</td>\n",
       "    </tr>\n",
       "    <tr>\n",
       "      <th>13900</th>\n",
       "      <td>World</td>\n",
       "      <td>WLD</td>\n",
       "      <td>Female population 00-04</td>\n",
       "      <td>SP.POP.0004.FE</td>\n",
       "      <td>2.109978e+08</td>\n",
       "      <td>2.115441e+08</td>\n",
       "      <td>2.151383e+08</td>\n",
       "      <td>2.210350e+08</td>\n",
       "      <td>2.272200e+08</td>\n",
       "      <td>2.329614e+08</td>\n",
       "      <td>...</td>\n",
       "      <td>3.018916e+08</td>\n",
       "      <td>3.043660e+08</td>\n",
       "      <td>3.062321e+08</td>\n",
       "      <td>3.080710e+08</td>\n",
       "      <td>3.104237e+08</td>\n",
       "      <td>3.133102e+08</td>\n",
       "      <td>3.161211e+08</td>\n",
       "      <td>3.189507e+08</td>\n",
       "      <td>3.214529e+08</td>\n",
       "      <td>3.235410e+08</td>\n",
       "    </tr>\n",
       "    <tr>\n",
       "      <th>13901</th>\n",
       "      <td>World</td>\n",
       "      <td>WLD</td>\n",
       "      <td>Female population 05-09</td>\n",
       "      <td>SP.POP.0509.FE</td>\n",
       "      <td>1.864112e+08</td>\n",
       "      <td>1.905472e+08</td>\n",
       "      <td>1.937357e+08</td>\n",
       "      <td>1.960453e+08</td>\n",
       "      <td>1.974704e+08</td>\n",
       "      <td>1.992186e+08</td>\n",
       "      <td>...</td>\n",
       "      <td>2.873024e+08</td>\n",
       "      <td>2.880463e+08</td>\n",
       "      <td>2.897366e+08</td>\n",
       "      <td>2.919420e+08</td>\n",
       "      <td>2.940181e+08</td>\n",
       "      <td>2.964630e+08</td>\n",
       "      <td>2.990604e+08</td>\n",
       "      <td>3.017971e+08</td>\n",
       "      <td>3.045120e+08</td>\n",
       "      <td>3.072145e+08</td>\n",
       "    </tr>\n",
       "    <tr>\n",
       "      <th>...</th>\n",
       "      <td>...</td>\n",
       "      <td>...</td>\n",
       "      <td>...</td>\n",
       "      <td>...</td>\n",
       "      <td>...</td>\n",
       "      <td>...</td>\n",
       "      <td>...</td>\n",
       "      <td>...</td>\n",
       "      <td>...</td>\n",
       "      <td>...</td>\n",
       "      <td>...</td>\n",
       "      <td>...</td>\n",
       "      <td>...</td>\n",
       "      <td>...</td>\n",
       "      <td>...</td>\n",
       "      <td>...</td>\n",
       "      <td>...</td>\n",
       "      <td>...</td>\n",
       "      <td>...</td>\n",
       "      <td>...</td>\n",
       "      <td>...</td>\n",
       "    </tr>\n",
       "    <tr>\n",
       "      <th>14067</th>\n",
       "      <td>World</td>\n",
       "      <td>WLD</td>\n",
       "      <td>Population, total</td>\n",
       "      <td>SP.POP.TOTL</td>\n",
       "      <td>3.035056e+09</td>\n",
       "      <td>3.076121e+09</td>\n",
       "      <td>3.129064e+09</td>\n",
       "      <td>3.193947e+09</td>\n",
       "      <td>3.259355e+09</td>\n",
       "      <td>3.326054e+09</td>\n",
       "      <td>...</td>\n",
       "      <td>6.594722e+09</td>\n",
       "      <td>6.675833e+09</td>\n",
       "      <td>6.758303e+09</td>\n",
       "      <td>6.840956e+09</td>\n",
       "      <td>6.923684e+09</td>\n",
       "      <td>7.006908e+09</td>\n",
       "      <td>7.089452e+09</td>\n",
       "      <td>7.176092e+09</td>\n",
       "      <td>7.260780e+09</td>\n",
       "      <td>7.346633e+09</td>\n",
       "    </tr>\n",
       "    <tr>\n",
       "      <th>14102</th>\n",
       "      <td>World</td>\n",
       "      <td>WLD</td>\n",
       "      <td>Rural population</td>\n",
       "      <td>SP.RUR.TOTL</td>\n",
       "      <td>2.008858e+09</td>\n",
       "      <td>2.020060e+09</td>\n",
       "      <td>2.040820e+09</td>\n",
       "      <td>2.070607e+09</td>\n",
       "      <td>2.100061e+09</td>\n",
       "      <td>2.135535e+09</td>\n",
       "      <td>...</td>\n",
       "      <td>3.318740e+09</td>\n",
       "      <td>3.326498e+09</td>\n",
       "      <td>3.333704e+09</td>\n",
       "      <td>3.340563e+09</td>\n",
       "      <td>3.346928e+09</td>\n",
       "      <td>3.353008e+09</td>\n",
       "      <td>3.358735e+09</td>\n",
       "      <td>3.365564e+09</td>\n",
       "      <td>3.371848e+09</td>\n",
       "      <td>3.378269e+09</td>\n",
       "    </tr>\n",
       "    <tr>\n",
       "      <th>14103</th>\n",
       "      <td>World</td>\n",
       "      <td>WLD</td>\n",
       "      <td>Rural population (% of total population)</td>\n",
       "      <td>SP.RUR.TOTL.ZS</td>\n",
       "      <td>6.644165e+01</td>\n",
       "      <td>6.592609e+01</td>\n",
       "      <td>6.548163e+01</td>\n",
       "      <td>6.509144e+01</td>\n",
       "      <td>6.469597e+01</td>\n",
       "      <td>6.447247e+01</td>\n",
       "      <td>...</td>\n",
       "      <td>5.051239e+01</td>\n",
       "      <td>5.001385e+01</td>\n",
       "      <td>4.950902e+01</td>\n",
       "      <td>4.900998e+01</td>\n",
       "      <td>4.851505e+01</td>\n",
       "      <td>4.802425e+01</td>\n",
       "      <td>4.754483e+01</td>\n",
       "      <td>4.706491e+01</td>\n",
       "      <td>4.660117e+01</td>\n",
       "      <td>4.614276e+01</td>\n",
       "    </tr>\n",
       "    <tr>\n",
       "      <th>14135</th>\n",
       "      <td>World</td>\n",
       "      <td>WLD</td>\n",
       "      <td>Urban population</td>\n",
       "      <td>SP.URB.TOTL</td>\n",
       "      <td>1.014634e+09</td>\n",
       "      <td>1.044069e+09</td>\n",
       "      <td>1.075810e+09</td>\n",
       "      <td>1.110467e+09</td>\n",
       "      <td>1.145985e+09</td>\n",
       "      <td>1.176786e+09</td>\n",
       "      <td>...</td>\n",
       "      <td>3.251411e+09</td>\n",
       "      <td>3.324655e+09</td>\n",
       "      <td>3.399824e+09</td>\n",
       "      <td>3.475523e+09</td>\n",
       "      <td>3.551813e+09</td>\n",
       "      <td>3.628898e+09</td>\n",
       "      <td>3.705618e+09</td>\n",
       "      <td>3.785335e+09</td>\n",
       "      <td>3.863696e+09</td>\n",
       "      <td>3.943073e+09</td>\n",
       "    </tr>\n",
       "    <tr>\n",
       "      <th>14136</th>\n",
       "      <td>World</td>\n",
       "      <td>WLD</td>\n",
       "      <td>Urban population (% of total)</td>\n",
       "      <td>SP.URB.TOTL.IN.ZS</td>\n",
       "      <td>3.355835e+01</td>\n",
       "      <td>3.407391e+01</td>\n",
       "      <td>3.451837e+01</td>\n",
       "      <td>3.490856e+01</td>\n",
       "      <td>3.530403e+01</td>\n",
       "      <td>3.552753e+01</td>\n",
       "      <td>...</td>\n",
       "      <td>4.948761e+01</td>\n",
       "      <td>4.998615e+01</td>\n",
       "      <td>5.049098e+01</td>\n",
       "      <td>5.099002e+01</td>\n",
       "      <td>5.148495e+01</td>\n",
       "      <td>5.197575e+01</td>\n",
       "      <td>5.245517e+01</td>\n",
       "      <td>5.293509e+01</td>\n",
       "      <td>5.339883e+01</td>\n",
       "      <td>5.385724e+01</td>\n",
       "    </tr>\n",
       "  </tbody>\n",
       "</table>\n",
       "<p>68 rows × 60 columns</p>\n",
       "</div>"
      ],
      "text/plain": [
       "      Country Name Country Code  \\\n",
       "13809        World          WLD   \n",
       "13810        World          WLD   \n",
       "13811        World          WLD   \n",
       "13900        World          WLD   \n",
       "13901        World          WLD   \n",
       "...            ...          ...   \n",
       "14067        World          WLD   \n",
       "14102        World          WLD   \n",
       "14103        World          WLD   \n",
       "14135        World          WLD   \n",
       "14136        World          WLD   \n",
       "\n",
       "                                          Indicator Name     Indicator Code  \\\n",
       "13809  Age dependency ratio (% of working-age populat...        SP.POP.DPND   \n",
       "13810                          Age dependency ratio, old     SP.POP.DPND.OL   \n",
       "13811                        Age dependency ratio, young     SP.POP.DPND.YG   \n",
       "13900                            Female population 00-04     SP.POP.0004.FE   \n",
       "13901                            Female population 05-09     SP.POP.0509.FE   \n",
       "...                                                  ...                ...   \n",
       "14067                                  Population, total        SP.POP.TOTL   \n",
       "14102                                   Rural population        SP.RUR.TOTL   \n",
       "14103           Rural population (% of total population)     SP.RUR.TOTL.ZS   \n",
       "14135                                   Urban population        SP.URB.TOTL   \n",
       "14136                      Urban population (% of total)  SP.URB.TOTL.IN.ZS   \n",
       "\n",
       "               1960          1961          1962          1963          1964  \\\n",
       "13809  7.358939e+01  7.430902e+01  7.513252e+01  7.589669e+01  7.637869e+01   \n",
       "13810  8.610807e+00  8.724925e+00  8.806098e+00  8.854269e+00  8.876658e+00   \n",
       "13811  6.412086e+01  6.468396e+01  6.535699e+01  6.598888e+01  6.637663e+01   \n",
       "13900  2.109978e+08  2.115441e+08  2.151383e+08  2.210350e+08  2.272200e+08   \n",
       "13901  1.864112e+08  1.905472e+08  1.937357e+08  1.960453e+08  1.974704e+08   \n",
       "...             ...           ...           ...           ...           ...   \n",
       "14067  3.035056e+09  3.076121e+09  3.129064e+09  3.193947e+09  3.259355e+09   \n",
       "14102  2.008858e+09  2.020060e+09  2.040820e+09  2.070607e+09  2.100061e+09   \n",
       "14103  6.644165e+01  6.592609e+01  6.548163e+01  6.509144e+01  6.469597e+01   \n",
       "14135  1.014634e+09  1.044069e+09  1.075810e+09  1.110467e+09  1.145985e+09   \n",
       "14136  3.355835e+01  3.407391e+01  3.451837e+01  3.490856e+01  3.530403e+01   \n",
       "\n",
       "               1965  ...          2006          2007          2008  \\\n",
       "13809  7.650348e+01  ...  5.575843e+01  5.524079e+01  5.476767e+01   \n",
       "13810  8.873045e+00  ...  1.132622e+01  1.138447e+01  1.144269e+01   \n",
       "13811  6.646484e+01  ...  4.278193e+01  4.216266e+01  4.159948e+01   \n",
       "13900  2.329614e+08  ...  3.018916e+08  3.043660e+08  3.062321e+08   \n",
       "13901  1.992186e+08  ...  2.873024e+08  2.880463e+08  2.897366e+08   \n",
       "...             ...  ...           ...           ...           ...   \n",
       "14067  3.326054e+09  ...  6.594722e+09  6.675833e+09  6.758303e+09   \n",
       "14102  2.135535e+09  ...  3.318740e+09  3.326498e+09  3.333704e+09   \n",
       "14103  6.447247e+01  ...  5.051239e+01  5.001385e+01  4.950902e+01   \n",
       "14135  1.176786e+09  ...  3.251411e+09  3.324655e+09  3.399824e+09   \n",
       "14136  3.552753e+01  ...  4.948761e+01  4.998615e+01  5.049098e+01   \n",
       "\n",
       "               2009          2010          2011          2012          2013  \\\n",
       "13809  5.437327e+01  5.407173e+01  5.392305e+01  5.383897e+01  5.381668e+01   \n",
       "13810  1.151698e+01  1.161860e+01  1.176464e+01  1.192434e+01  1.211810e+01   \n",
       "13811  4.111861e+01  4.072569e+01  4.044438e+01  4.023444e+01  4.006785e+01   \n",
       "13900  3.080710e+08  3.104237e+08  3.133102e+08  3.161211e+08  3.189507e+08   \n",
       "13901  2.919420e+08  2.940181e+08  2.964630e+08  2.990604e+08  3.017971e+08   \n",
       "...             ...           ...           ...           ...           ...   \n",
       "14067  6.840956e+09  6.923684e+09  7.006908e+09  7.089452e+09  7.176092e+09   \n",
       "14102  3.340563e+09  3.346928e+09  3.353008e+09  3.358735e+09  3.365564e+09   \n",
       "14103  4.900998e+01  4.851505e+01  4.802425e+01  4.754483e+01  4.706491e+01   \n",
       "14135  3.475523e+09  3.551813e+09  3.628898e+09  3.705618e+09  3.785335e+09   \n",
       "14136  5.099002e+01  5.148495e+01  5.197575e+01  5.245517e+01  5.293509e+01   \n",
       "\n",
       "               2014          2015  \n",
       "13809  5.384501e+01  5.390338e+01  \n",
       "13810  1.233840e+01  1.259775e+01  \n",
       "13811  3.993292e+01  3.979393e+01  \n",
       "13900  3.214529e+08  3.235410e+08  \n",
       "13901  3.045120e+08  3.072145e+08  \n",
       "...             ...           ...  \n",
       "14067  7.260780e+09  7.346633e+09  \n",
       "14102  3.371848e+09  3.378269e+09  \n",
       "14103  4.660117e+01  4.614276e+01  \n",
       "14135  3.863696e+09  3.943073e+09  \n",
       "14136  5.339883e+01  5.385724e+01  \n",
       "\n",
       "[68 rows x 60 columns]"
      ]
     },
     "execution_count": 24,
     "metadata": {},
     "output_type": "execute_result"
    }
   ],
   "source": [
    "world = df[df['Country Name']== 'World']\n",
    "world"
   ]
  },
  {
   "cell_type": "code",
   "execution_count": 25,
   "metadata": {
    "ExecuteTime": {
     "end_time": "2020-12-09T08:04:13.724425Z",
     "start_time": "2020-12-09T08:04:13.714286Z"
    }
   },
   "outputs": [],
   "source": [
    "world_pop = world[world['Indicator Name'].isin(['Population ages 00-14 (% of total)', 'Population ages 15-64 (% of total)', 'Population ages 65 and above (% of total)'])]"
   ]
  },
  {
   "cell_type": "code",
   "execution_count": 26,
   "metadata": {
    "ExecuteTime": {
     "end_time": "2020-12-09T08:04:13.741554Z",
     "start_time": "2020-12-09T08:04:13.727196Z"
    }
   },
   "outputs": [],
   "source": [
    "world_pop1 = world_pop.melt(id_vars = 'Indicator Name', value_vars = world_pop.loc[:, '1960':'2015'], \n",
    "                            var_name = 'Year', value_name = 'Population percentage')"
   ]
  },
  {
   "cell_type": "code",
   "execution_count": 27,
   "metadata": {
    "ExecuteTime": {
     "end_time": "2020-12-09T08:04:14.188400Z",
     "start_time": "2020-12-09T08:04:13.745097Z"
    }
   },
   "outputs": [
    {
     "data": {
      "application/vnd.plotly.v1+json": {
       "config": {
        "plotlyServerURL": "https://plot.ly"
       },
       "data": [
        {
         "domain": {
          "x": [
           0,
           1
          ],
          "y": [
           0,
           1
          ]
         },
         "hovertemplate": "Indicator Name=%{label}<br>Population percentage=%{value}<extra></extra>",
         "labels": [
          "Population ages 00-14 (% of total)",
          "Population ages 15-64 (% of total)",
          "Population ages 65 and above (% of total)",
          "Population ages 00-14 (% of total)",
          "Population ages 15-64 (% of total)",
          "Population ages 65 and above (% of total)",
          "Population ages 00-14 (% of total)",
          "Population ages 15-64 (% of total)",
          "Population ages 65 and above (% of total)",
          "Population ages 00-14 (% of total)",
          "Population ages 15-64 (% of total)",
          "Population ages 65 and above (% of total)",
          "Population ages 00-14 (% of total)",
          "Population ages 15-64 (% of total)",
          "Population ages 65 and above (% of total)",
          "Population ages 00-14 (% of total)",
          "Population ages 15-64 (% of total)",
          "Population ages 65 and above (% of total)",
          "Population ages 00-14 (% of total)",
          "Population ages 15-64 (% of total)",
          "Population ages 65 and above (% of total)",
          "Population ages 00-14 (% of total)",
          "Population ages 15-64 (% of total)",
          "Population ages 65 and above (% of total)",
          "Population ages 00-14 (% of total)",
          "Population ages 15-64 (% of total)",
          "Population ages 65 and above (% of total)",
          "Population ages 00-14 (% of total)",
          "Population ages 15-64 (% of total)",
          "Population ages 65 and above (% of total)",
          "Population ages 00-14 (% of total)",
          "Population ages 15-64 (% of total)",
          "Population ages 65 and above (% of total)",
          "Population ages 00-14 (% of total)",
          "Population ages 15-64 (% of total)",
          "Population ages 65 and above (% of total)",
          "Population ages 00-14 (% of total)",
          "Population ages 15-64 (% of total)",
          "Population ages 65 and above (% of total)",
          "Population ages 00-14 (% of total)",
          "Population ages 15-64 (% of total)",
          "Population ages 65 and above (% of total)",
          "Population ages 00-14 (% of total)",
          "Population ages 15-64 (% of total)",
          "Population ages 65 and above (% of total)",
          "Population ages 00-14 (% of total)",
          "Population ages 15-64 (% of total)",
          "Population ages 65 and above (% of total)",
          "Population ages 00-14 (% of total)",
          "Population ages 15-64 (% of total)",
          "Population ages 65 and above (% of total)",
          "Population ages 00-14 (% of total)",
          "Population ages 15-64 (% of total)",
          "Population ages 65 and above (% of total)",
          "Population ages 00-14 (% of total)",
          "Population ages 15-64 (% of total)",
          "Population ages 65 and above (% of total)",
          "Population ages 00-14 (% of total)",
          "Population ages 15-64 (% of total)",
          "Population ages 65 and above (% of total)",
          "Population ages 00-14 (% of total)",
          "Population ages 15-64 (% of total)",
          "Population ages 65 and above (% of total)",
          "Population ages 00-14 (% of total)",
          "Population ages 15-64 (% of total)",
          "Population ages 65 and above (% of total)",
          "Population ages 00-14 (% of total)",
          "Population ages 15-64 (% of total)",
          "Population ages 65 and above (% of total)",
          "Population ages 00-14 (% of total)",
          "Population ages 15-64 (% of total)",
          "Population ages 65 and above (% of total)",
          "Population ages 00-14 (% of total)",
          "Population ages 15-64 (% of total)",
          "Population ages 65 and above (% of total)",
          "Population ages 00-14 (% of total)",
          "Population ages 15-64 (% of total)",
          "Population ages 65 and above (% of total)",
          "Population ages 00-14 (% of total)",
          "Population ages 15-64 (% of total)",
          "Population ages 65 and above (% of total)",
          "Population ages 00-14 (% of total)",
          "Population ages 15-64 (% of total)",
          "Population ages 65 and above (% of total)",
          "Population ages 00-14 (% of total)",
          "Population ages 15-64 (% of total)",
          "Population ages 65 and above (% of total)",
          "Population ages 00-14 (% of total)",
          "Population ages 15-64 (% of total)",
          "Population ages 65 and above (% of total)",
          "Population ages 00-14 (% of total)",
          "Population ages 15-64 (% of total)",
          "Population ages 65 and above (% of total)",
          "Population ages 00-14 (% of total)",
          "Population ages 15-64 (% of total)",
          "Population ages 65 and above (% of total)",
          "Population ages 00-14 (% of total)",
          "Population ages 15-64 (% of total)",
          "Population ages 65 and above (% of total)",
          "Population ages 00-14 (% of total)",
          "Population ages 15-64 (% of total)",
          "Population ages 65 and above (% of total)",
          "Population ages 00-14 (% of total)",
          "Population ages 15-64 (% of total)",
          "Population ages 65 and above (% of total)",
          "Population ages 00-14 (% of total)",
          "Population ages 15-64 (% of total)",
          "Population ages 65 and above (% of total)",
          "Population ages 00-14 (% of total)",
          "Population ages 15-64 (% of total)",
          "Population ages 65 and above (% of total)",
          "Population ages 00-14 (% of total)",
          "Population ages 15-64 (% of total)",
          "Population ages 65 and above (% of total)",
          "Population ages 00-14 (% of total)",
          "Population ages 15-64 (% of total)",
          "Population ages 65 and above (% of total)",
          "Population ages 00-14 (% of total)",
          "Population ages 15-64 (% of total)",
          "Population ages 65 and above (% of total)",
          "Population ages 00-14 (% of total)",
          "Population ages 15-64 (% of total)",
          "Population ages 65 and above (% of total)",
          "Population ages 00-14 (% of total)",
          "Population ages 15-64 (% of total)",
          "Population ages 65 and above (% of total)",
          "Population ages 00-14 (% of total)",
          "Population ages 15-64 (% of total)",
          "Population ages 65 and above (% of total)",
          "Population ages 00-14 (% of total)",
          "Population ages 15-64 (% of total)",
          "Population ages 65 and above (% of total)",
          "Population ages 00-14 (% of total)",
          "Population ages 15-64 (% of total)",
          "Population ages 65 and above (% of total)",
          "Population ages 00-14 (% of total)",
          "Population ages 15-64 (% of total)",
          "Population ages 65 and above (% of total)",
          "Population ages 00-14 (% of total)",
          "Population ages 15-64 (% of total)",
          "Population ages 65 and above (% of total)",
          "Population ages 00-14 (% of total)",
          "Population ages 15-64 (% of total)",
          "Population ages 65 and above (% of total)",
          "Population ages 00-14 (% of total)",
          "Population ages 15-64 (% of total)",
          "Population ages 65 and above (% of total)",
          "Population ages 00-14 (% of total)",
          "Population ages 15-64 (% of total)",
          "Population ages 65 and above (% of total)",
          "Population ages 00-14 (% of total)",
          "Population ages 15-64 (% of total)",
          "Population ages 65 and above (% of total)",
          "Population ages 00-14 (% of total)",
          "Population ages 15-64 (% of total)",
          "Population ages 65 and above (% of total)",
          "Population ages 00-14 (% of total)",
          "Population ages 15-64 (% of total)",
          "Population ages 65 and above (% of total)",
          "Population ages 00-14 (% of total)",
          "Population ages 15-64 (% of total)",
          "Population ages 65 and above (% of total)",
          "Population ages 00-14 (% of total)",
          "Population ages 15-64 (% of total)",
          "Population ages 65 and above (% of total)",
          "Population ages 00-14 (% of total)",
          "Population ages 15-64 (% of total)",
          "Population ages 65 and above (% of total)"
         ],
         "legendgroup": "",
         "name": "",
         "showlegend": true,
         "type": "pie",
         "values": [
          37.121658436271,
          57.893264531083496,
          4.9850770326455,
          37.3014120409915,
          57.66717030979011,
          5.0314176492184295,
          37.5263171280179,
          57.41744643436461,
          5.05623643761754,
          37.741757944713505,
          57.19412089721249,
          5.064121158073969,
          37.8746851062768,
          57.060269592601,
          5.0650453011222005,
          37.9067207127475,
          57.0327383755511,
          5.060540911701411,
          38.0041871434294,
          56.8826413023004,
          5.113171554270231,
          37.9733223794446,
          56.865117331556995,
          5.16156028899837,
          37.863831811912206,
          56.931005638513,
          5.205162549574769,
          37.7290232483285,
          57.02578228940471,
          5.24519446226675,
          37.607091461825796,
          57.1122238453312,
          5.28068469284289,
          37.5390811008989,
          57.1151024472556,
          5.34581645184557,
          37.4453994803474,
          57.1498508115236,
          5.40474970812898,
          37.3286746059899,
          57.2141827917327,
          5.45714260227741,
          37.160727948974206,
          57.332539512336,
          5.50673253868981,
          36.933230661443,
          57.5126682311372,
          5.55410110741971,
          36.7217960085778,
          57.6477383353022,
          5.63046565611997,
          36.4444822445392,
          57.8512195762152,
          5.7042981792456295,
          36.1182524562675,
          58.1118100341421,
          5.76993750959037,
          35.7693668749149,
          58.4127902116816,
          5.81784291340348,
          35.4177806239425,
          58.738328235308295,
          5.84389114074921,
          35.0788355407008,
          59.0473910657901,
          5.8737733935091105,
          34.7648431931894,
          59.3572337625063,
          5.87792304430426,
          34.4650299412425,
          59.6653839587111,
          5.8695861000464,
          34.1673661356404,
          59.9681058954279,
          5.8645279689317205,
          33.8725357042727,
          60.256820449611794,
          5.870643846115559,
          33.7015211250782,
          60.39415344243421,
          5.90432543248756,
          33.5154912959747,
          60.5417773076311,
          5.94273139639418,
          33.323108837968896,
          60.690879765427,
          5.98601139660404,
          33.1263497446709,
          60.83969285461921,
          6.033957400709911,
          32.9249651822012,
          60.9899353829402,
          6.08509943485852,
          32.815893846448304,
          61.02540970301639,
          6.15869645053523,
          32.637800014640696,
          61.1233277378925,
          6.23887224746686,
          32.414769692593104,
          61.2679274726112,
          6.317302834795691,
          32.17256874245,
          61.4381308084104,
          6.38930044913962,
          31.9159032447801,
          61.631573652860205,
          6.45252310235982,
          31.587937348090602,
          61.8700145507648,
          6.54204810114461,
          31.2817676735368,
          62.0997153124397,
          6.618517014023451,
          30.9671099784622,
          62.3447811390353,
          6.6881088825024495,
          30.605584583590804,
          62.6351160793492,
          6.75929933705998,
          30.192309845378198,
          62.9723048058988,
          6.83538862207567,
          29.8009600666779,
          63.266215591930106,
          6.93282595458317,
          29.371178302056798,
          63.59793847173671,
          7.030884817135349,
          28.920182001318,
          63.95441318235821,
          7.125404816323861,
          28.4816639754312,
          64.3103990036435,
          7.207933925641941,
          28.0765420168221,
          64.6482347883864,
          7.27522624762322,
          27.7609786323983,
          64.88949608194649,
          7.34952679146026,
          27.459101412103802,
          65.1265821103426,
          7.41431647755355,
          27.181709315700697,
          65.34147118505011,
          7.47681949924918,
          26.9390729301639,
          65.5155193715284,
          7.5454105890095695,
          26.7326693606204,
          65.6408035701675,
          7.62654441143221,
          26.571602534805198,
          65.699127908335,
          7.72926674013201,
          26.442404539380302,
          65.7208212353304,
          7.836772832955529,
          26.3282161368988,
          65.7090861159853,
          7.9626950191718695,
          26.224847860399198,
          65.6722459110797,
          8.10290487771328,
          26.112935991353,
          65.6203967585112,
          8.26669140126872
         ]
        }
       ],
       "layout": {
        "legend": {
         "tracegroupgap": 0
        },
        "piecolorway": [
         "lightcyan",
         "cyan",
         "royalblue"
        ],
        "template": {
         "data": {
          "bar": [
           {
            "error_x": {
             "color": "#2a3f5f"
            },
            "error_y": {
             "color": "#2a3f5f"
            },
            "marker": {
             "line": {
              "color": "#E5ECF6",
              "width": 0.5
             }
            },
            "type": "bar"
           }
          ],
          "barpolar": [
           {
            "marker": {
             "line": {
              "color": "#E5ECF6",
              "width": 0.5
             }
            },
            "type": "barpolar"
           }
          ],
          "carpet": [
           {
            "aaxis": {
             "endlinecolor": "#2a3f5f",
             "gridcolor": "white",
             "linecolor": "white",
             "minorgridcolor": "white",
             "startlinecolor": "#2a3f5f"
            },
            "baxis": {
             "endlinecolor": "#2a3f5f",
             "gridcolor": "white",
             "linecolor": "white",
             "minorgridcolor": "white",
             "startlinecolor": "#2a3f5f"
            },
            "type": "carpet"
           }
          ],
          "choropleth": [
           {
            "colorbar": {
             "outlinewidth": 0,
             "ticks": ""
            },
            "type": "choropleth"
           }
          ],
          "contour": [
           {
            "colorbar": {
             "outlinewidth": 0,
             "ticks": ""
            },
            "colorscale": [
             [
              0,
              "#0d0887"
             ],
             [
              0.1111111111111111,
              "#46039f"
             ],
             [
              0.2222222222222222,
              "#7201a8"
             ],
             [
              0.3333333333333333,
              "#9c179e"
             ],
             [
              0.4444444444444444,
              "#bd3786"
             ],
             [
              0.5555555555555556,
              "#d8576b"
             ],
             [
              0.6666666666666666,
              "#ed7953"
             ],
             [
              0.7777777777777778,
              "#fb9f3a"
             ],
             [
              0.8888888888888888,
              "#fdca26"
             ],
             [
              1,
              "#f0f921"
             ]
            ],
            "type": "contour"
           }
          ],
          "contourcarpet": [
           {
            "colorbar": {
             "outlinewidth": 0,
             "ticks": ""
            },
            "type": "contourcarpet"
           }
          ],
          "heatmap": [
           {
            "colorbar": {
             "outlinewidth": 0,
             "ticks": ""
            },
            "colorscale": [
             [
              0,
              "#0d0887"
             ],
             [
              0.1111111111111111,
              "#46039f"
             ],
             [
              0.2222222222222222,
              "#7201a8"
             ],
             [
              0.3333333333333333,
              "#9c179e"
             ],
             [
              0.4444444444444444,
              "#bd3786"
             ],
             [
              0.5555555555555556,
              "#d8576b"
             ],
             [
              0.6666666666666666,
              "#ed7953"
             ],
             [
              0.7777777777777778,
              "#fb9f3a"
             ],
             [
              0.8888888888888888,
              "#fdca26"
             ],
             [
              1,
              "#f0f921"
             ]
            ],
            "type": "heatmap"
           }
          ],
          "heatmapgl": [
           {
            "colorbar": {
             "outlinewidth": 0,
             "ticks": ""
            },
            "colorscale": [
             [
              0,
              "#0d0887"
             ],
             [
              0.1111111111111111,
              "#46039f"
             ],
             [
              0.2222222222222222,
              "#7201a8"
             ],
             [
              0.3333333333333333,
              "#9c179e"
             ],
             [
              0.4444444444444444,
              "#bd3786"
             ],
             [
              0.5555555555555556,
              "#d8576b"
             ],
             [
              0.6666666666666666,
              "#ed7953"
             ],
             [
              0.7777777777777778,
              "#fb9f3a"
             ],
             [
              0.8888888888888888,
              "#fdca26"
             ],
             [
              1,
              "#f0f921"
             ]
            ],
            "type": "heatmapgl"
           }
          ],
          "histogram": [
           {
            "marker": {
             "colorbar": {
              "outlinewidth": 0,
              "ticks": ""
             }
            },
            "type": "histogram"
           }
          ],
          "histogram2d": [
           {
            "colorbar": {
             "outlinewidth": 0,
             "ticks": ""
            },
            "colorscale": [
             [
              0,
              "#0d0887"
             ],
             [
              0.1111111111111111,
              "#46039f"
             ],
             [
              0.2222222222222222,
              "#7201a8"
             ],
             [
              0.3333333333333333,
              "#9c179e"
             ],
             [
              0.4444444444444444,
              "#bd3786"
             ],
             [
              0.5555555555555556,
              "#d8576b"
             ],
             [
              0.6666666666666666,
              "#ed7953"
             ],
             [
              0.7777777777777778,
              "#fb9f3a"
             ],
             [
              0.8888888888888888,
              "#fdca26"
             ],
             [
              1,
              "#f0f921"
             ]
            ],
            "type": "histogram2d"
           }
          ],
          "histogram2dcontour": [
           {
            "colorbar": {
             "outlinewidth": 0,
             "ticks": ""
            },
            "colorscale": [
             [
              0,
              "#0d0887"
             ],
             [
              0.1111111111111111,
              "#46039f"
             ],
             [
              0.2222222222222222,
              "#7201a8"
             ],
             [
              0.3333333333333333,
              "#9c179e"
             ],
             [
              0.4444444444444444,
              "#bd3786"
             ],
             [
              0.5555555555555556,
              "#d8576b"
             ],
             [
              0.6666666666666666,
              "#ed7953"
             ],
             [
              0.7777777777777778,
              "#fb9f3a"
             ],
             [
              0.8888888888888888,
              "#fdca26"
             ],
             [
              1,
              "#f0f921"
             ]
            ],
            "type": "histogram2dcontour"
           }
          ],
          "mesh3d": [
           {
            "colorbar": {
             "outlinewidth": 0,
             "ticks": ""
            },
            "type": "mesh3d"
           }
          ],
          "parcoords": [
           {
            "line": {
             "colorbar": {
              "outlinewidth": 0,
              "ticks": ""
             }
            },
            "type": "parcoords"
           }
          ],
          "pie": [
           {
            "automargin": true,
            "type": "pie"
           }
          ],
          "scatter": [
           {
            "marker": {
             "colorbar": {
              "outlinewidth": 0,
              "ticks": ""
             }
            },
            "type": "scatter"
           }
          ],
          "scatter3d": [
           {
            "line": {
             "colorbar": {
              "outlinewidth": 0,
              "ticks": ""
             }
            },
            "marker": {
             "colorbar": {
              "outlinewidth": 0,
              "ticks": ""
             }
            },
            "type": "scatter3d"
           }
          ],
          "scattercarpet": [
           {
            "marker": {
             "colorbar": {
              "outlinewidth": 0,
              "ticks": ""
             }
            },
            "type": "scattercarpet"
           }
          ],
          "scattergeo": [
           {
            "marker": {
             "colorbar": {
              "outlinewidth": 0,
              "ticks": ""
             }
            },
            "type": "scattergeo"
           }
          ],
          "scattergl": [
           {
            "marker": {
             "colorbar": {
              "outlinewidth": 0,
              "ticks": ""
             }
            },
            "type": "scattergl"
           }
          ],
          "scattermapbox": [
           {
            "marker": {
             "colorbar": {
              "outlinewidth": 0,
              "ticks": ""
             }
            },
            "type": "scattermapbox"
           }
          ],
          "scatterpolar": [
           {
            "marker": {
             "colorbar": {
              "outlinewidth": 0,
              "ticks": ""
             }
            },
            "type": "scatterpolar"
           }
          ],
          "scatterpolargl": [
           {
            "marker": {
             "colorbar": {
              "outlinewidth": 0,
              "ticks": ""
             }
            },
            "type": "scatterpolargl"
           }
          ],
          "scatterternary": [
           {
            "marker": {
             "colorbar": {
              "outlinewidth": 0,
              "ticks": ""
             }
            },
            "type": "scatterternary"
           }
          ],
          "surface": [
           {
            "colorbar": {
             "outlinewidth": 0,
             "ticks": ""
            },
            "colorscale": [
             [
              0,
              "#0d0887"
             ],
             [
              0.1111111111111111,
              "#46039f"
             ],
             [
              0.2222222222222222,
              "#7201a8"
             ],
             [
              0.3333333333333333,
              "#9c179e"
             ],
             [
              0.4444444444444444,
              "#bd3786"
             ],
             [
              0.5555555555555556,
              "#d8576b"
             ],
             [
              0.6666666666666666,
              "#ed7953"
             ],
             [
              0.7777777777777778,
              "#fb9f3a"
             ],
             [
              0.8888888888888888,
              "#fdca26"
             ],
             [
              1,
              "#f0f921"
             ]
            ],
            "type": "surface"
           }
          ],
          "table": [
           {
            "cells": {
             "fill": {
              "color": "#EBF0F8"
             },
             "line": {
              "color": "white"
             }
            },
            "header": {
             "fill": {
              "color": "#C8D4E3"
             },
             "line": {
              "color": "white"
             }
            },
            "type": "table"
           }
          ]
         },
         "layout": {
          "annotationdefaults": {
           "arrowcolor": "#2a3f5f",
           "arrowhead": 0,
           "arrowwidth": 1
          },
          "coloraxis": {
           "colorbar": {
            "outlinewidth": 0,
            "ticks": ""
           }
          },
          "colorscale": {
           "diverging": [
            [
             0,
             "#8e0152"
            ],
            [
             0.1,
             "#c51b7d"
            ],
            [
             0.2,
             "#de77ae"
            ],
            [
             0.3,
             "#f1b6da"
            ],
            [
             0.4,
             "#fde0ef"
            ],
            [
             0.5,
             "#f7f7f7"
            ],
            [
             0.6,
             "#e6f5d0"
            ],
            [
             0.7,
             "#b8e186"
            ],
            [
             0.8,
             "#7fbc41"
            ],
            [
             0.9,
             "#4d9221"
            ],
            [
             1,
             "#276419"
            ]
           ],
           "sequential": [
            [
             0,
             "#0d0887"
            ],
            [
             0.1111111111111111,
             "#46039f"
            ],
            [
             0.2222222222222222,
             "#7201a8"
            ],
            [
             0.3333333333333333,
             "#9c179e"
            ],
            [
             0.4444444444444444,
             "#bd3786"
            ],
            [
             0.5555555555555556,
             "#d8576b"
            ],
            [
             0.6666666666666666,
             "#ed7953"
            ],
            [
             0.7777777777777778,
             "#fb9f3a"
            ],
            [
             0.8888888888888888,
             "#fdca26"
            ],
            [
             1,
             "#f0f921"
            ]
           ],
           "sequentialminus": [
            [
             0,
             "#0d0887"
            ],
            [
             0.1111111111111111,
             "#46039f"
            ],
            [
             0.2222222222222222,
             "#7201a8"
            ],
            [
             0.3333333333333333,
             "#9c179e"
            ],
            [
             0.4444444444444444,
             "#bd3786"
            ],
            [
             0.5555555555555556,
             "#d8576b"
            ],
            [
             0.6666666666666666,
             "#ed7953"
            ],
            [
             0.7777777777777778,
             "#fb9f3a"
            ],
            [
             0.8888888888888888,
             "#fdca26"
            ],
            [
             1,
             "#f0f921"
            ]
           ]
          },
          "colorway": [
           "#636efa",
           "#EF553B",
           "#00cc96",
           "#ab63fa",
           "#FFA15A",
           "#19d3f3",
           "#FF6692",
           "#B6E880",
           "#FF97FF",
           "#FECB52"
          ],
          "font": {
           "color": "#2a3f5f"
          },
          "geo": {
           "bgcolor": "white",
           "lakecolor": "white",
           "landcolor": "#E5ECF6",
           "showlakes": true,
           "showland": true,
           "subunitcolor": "white"
          },
          "hoverlabel": {
           "align": "left"
          },
          "hovermode": "closest",
          "mapbox": {
           "style": "light"
          },
          "paper_bgcolor": "white",
          "plot_bgcolor": "#E5ECF6",
          "polar": {
           "angularaxis": {
            "gridcolor": "white",
            "linecolor": "white",
            "ticks": ""
           },
           "bgcolor": "#E5ECF6",
           "radialaxis": {
            "gridcolor": "white",
            "linecolor": "white",
            "ticks": ""
           }
          },
          "scene": {
           "xaxis": {
            "backgroundcolor": "#E5ECF6",
            "gridcolor": "white",
            "gridwidth": 2,
            "linecolor": "white",
            "showbackground": true,
            "ticks": "",
            "zerolinecolor": "white"
           },
           "yaxis": {
            "backgroundcolor": "#E5ECF6",
            "gridcolor": "white",
            "gridwidth": 2,
            "linecolor": "white",
            "showbackground": true,
            "ticks": "",
            "zerolinecolor": "white"
           },
           "zaxis": {
            "backgroundcolor": "#E5ECF6",
            "gridcolor": "white",
            "gridwidth": 2,
            "linecolor": "white",
            "showbackground": true,
            "ticks": "",
            "zerolinecolor": "white"
           }
          },
          "shapedefaults": {
           "line": {
            "color": "#2a3f5f"
           }
          },
          "ternary": {
           "aaxis": {
            "gridcolor": "white",
            "linecolor": "white",
            "ticks": ""
           },
           "baxis": {
            "gridcolor": "white",
            "linecolor": "white",
            "ticks": ""
           },
           "bgcolor": "#E5ECF6",
           "caxis": {
            "gridcolor": "white",
            "linecolor": "white",
            "ticks": ""
           }
          },
          "title": {
           "x": 0.05
          },
          "xaxis": {
           "automargin": true,
           "gridcolor": "white",
           "linecolor": "white",
           "ticks": "",
           "title": {
            "standoff": 15
           },
           "zerolinecolor": "white",
           "zerolinewidth": 2
          },
          "yaxis": {
           "automargin": true,
           "gridcolor": "white",
           "linecolor": "white",
           "ticks": "",
           "title": {
            "standoff": 15
           },
           "zerolinecolor": "white",
           "zerolinewidth": 2
          }
         }
        },
        "title": {
         "text": "World population ratio, by ages, 1960-2015"
        }
       }
      },
      "text/html": [
       "<div>                            <div id=\"1d49c2d6-f06f-47a3-8f6c-dcf3fd963d7c\" class=\"plotly-graph-div\" style=\"height:525px; width:100%;\"></div>            <script type=\"text/javascript\">                require([\"plotly\"], function(Plotly) {                    window.PLOTLYENV=window.PLOTLYENV || {};                                    if (document.getElementById(\"1d49c2d6-f06f-47a3-8f6c-dcf3fd963d7c\")) {                    Plotly.newPlot(                        \"1d49c2d6-f06f-47a3-8f6c-dcf3fd963d7c\",                        [{\"domain\": {\"x\": [0.0, 1.0], \"y\": [0.0, 1.0]}, \"hovertemplate\": \"Indicator Name=%{label}<br>Population percentage=%{value}<extra></extra>\", \"labels\": [\"Population ages 00-14 (% of total)\", \"Population ages 15-64 (% of total)\", \"Population ages 65 and above (% of total)\", \"Population ages 00-14 (% of total)\", \"Population ages 15-64 (% of total)\", \"Population ages 65 and above (% of total)\", \"Population ages 00-14 (% of total)\", \"Population ages 15-64 (% of total)\", \"Population ages 65 and above (% of total)\", \"Population ages 00-14 (% of total)\", \"Population ages 15-64 (% of total)\", \"Population ages 65 and above (% of total)\", \"Population ages 00-14 (% of total)\", \"Population ages 15-64 (% of total)\", \"Population ages 65 and above (% of total)\", \"Population ages 00-14 (% of total)\", \"Population ages 15-64 (% of total)\", \"Population ages 65 and above (% of total)\", \"Population ages 00-14 (% of total)\", \"Population ages 15-64 (% of total)\", \"Population ages 65 and above (% of total)\", \"Population ages 00-14 (% of total)\", \"Population ages 15-64 (% of total)\", \"Population ages 65 and above (% of total)\", \"Population ages 00-14 (% of total)\", \"Population ages 15-64 (% of total)\", \"Population ages 65 and above (% of total)\", \"Population ages 00-14 (% of total)\", \"Population ages 15-64 (% of total)\", \"Population ages 65 and above (% of total)\", \"Population ages 00-14 (% of total)\", \"Population ages 15-64 (% of total)\", \"Population ages 65 and above (% of total)\", \"Population ages 00-14 (% of total)\", \"Population ages 15-64 (% of total)\", \"Population ages 65 and above (% of total)\", \"Population ages 00-14 (% of total)\", \"Population ages 15-64 (% of total)\", \"Population ages 65 and above (% of total)\", \"Population ages 00-14 (% of total)\", \"Population ages 15-64 (% of total)\", \"Population ages 65 and above (% of total)\", \"Population ages 00-14 (% of total)\", \"Population ages 15-64 (% of total)\", \"Population ages 65 and above (% of total)\", \"Population ages 00-14 (% of total)\", \"Population ages 15-64 (% of total)\", \"Population ages 65 and above (% of total)\", \"Population ages 00-14 (% of total)\", \"Population ages 15-64 (% of total)\", \"Population ages 65 and above (% of total)\", \"Population ages 00-14 (% of total)\", \"Population ages 15-64 (% of total)\", \"Population ages 65 and above (% of total)\", \"Population ages 00-14 (% of total)\", \"Population ages 15-64 (% of total)\", \"Population ages 65 and above (% of total)\", \"Population ages 00-14 (% of total)\", \"Population ages 15-64 (% of total)\", \"Population ages 65 and above (% of total)\", \"Population ages 00-14 (% of total)\", \"Population ages 15-64 (% of total)\", \"Population ages 65 and above (% of total)\", \"Population ages 00-14 (% of total)\", \"Population ages 15-64 (% of total)\", \"Population ages 65 and above (% of total)\", \"Population ages 00-14 (% of total)\", \"Population ages 15-64 (% of total)\", \"Population ages 65 and above (% of total)\", \"Population ages 00-14 (% of total)\", \"Population ages 15-64 (% of total)\", \"Population ages 65 and above (% of total)\", \"Population ages 00-14 (% of total)\", \"Population ages 15-64 (% of total)\", \"Population ages 65 and above (% of total)\", \"Population ages 00-14 (% of total)\", \"Population ages 15-64 (% of total)\", \"Population ages 65 and above (% of total)\", \"Population ages 00-14 (% of total)\", \"Population ages 15-64 (% of total)\", \"Population ages 65 and above (% of total)\", \"Population ages 00-14 (% of total)\", \"Population ages 15-64 (% of total)\", \"Population ages 65 and above (% of total)\", \"Population ages 00-14 (% of total)\", \"Population ages 15-64 (% of total)\", \"Population ages 65 and above (% of total)\", \"Population ages 00-14 (% of total)\", \"Population ages 15-64 (% of total)\", \"Population ages 65 and above (% of total)\", \"Population ages 00-14 (% of total)\", \"Population ages 15-64 (% of total)\", \"Population ages 65 and above (% of total)\", \"Population ages 00-14 (% of total)\", \"Population ages 15-64 (% of total)\", \"Population ages 65 and above (% of total)\", \"Population ages 00-14 (% of total)\", \"Population ages 15-64 (% of total)\", \"Population ages 65 and above (% of total)\", \"Population ages 00-14 (% of total)\", \"Population ages 15-64 (% of total)\", \"Population ages 65 and above (% of total)\", \"Population ages 00-14 (% of total)\", \"Population ages 15-64 (% of total)\", \"Population ages 65 and above (% of total)\", \"Population ages 00-14 (% of total)\", \"Population ages 15-64 (% of total)\", \"Population ages 65 and above (% of total)\", \"Population ages 00-14 (% of total)\", \"Population ages 15-64 (% of total)\", \"Population ages 65 and above (% of total)\", \"Population ages 00-14 (% of total)\", \"Population ages 15-64 (% of total)\", \"Population ages 65 and above (% of total)\", \"Population ages 00-14 (% of total)\", \"Population ages 15-64 (% of total)\", \"Population ages 65 and above (% of total)\", \"Population ages 00-14 (% of total)\", \"Population ages 15-64 (% of total)\", \"Population ages 65 and above (% of total)\", \"Population ages 00-14 (% of total)\", \"Population ages 15-64 (% of total)\", \"Population ages 65 and above (% of total)\", \"Population ages 00-14 (% of total)\", \"Population ages 15-64 (% of total)\", \"Population ages 65 and above (% of total)\", \"Population ages 00-14 (% of total)\", \"Population ages 15-64 (% of total)\", \"Population ages 65 and above (% of total)\", \"Population ages 00-14 (% of total)\", \"Population ages 15-64 (% of total)\", \"Population ages 65 and above (% of total)\", \"Population ages 00-14 (% of total)\", \"Population ages 15-64 (% of total)\", \"Population ages 65 and above (% of total)\", \"Population ages 00-14 (% of total)\", \"Population ages 15-64 (% of total)\", \"Population ages 65 and above (% of total)\", \"Population ages 00-14 (% of total)\", \"Population ages 15-64 (% of total)\", \"Population ages 65 and above (% of total)\", \"Population ages 00-14 (% of total)\", \"Population ages 15-64 (% of total)\", \"Population ages 65 and above (% of total)\", \"Population ages 00-14 (% of total)\", \"Population ages 15-64 (% of total)\", \"Population ages 65 and above (% of total)\", \"Population ages 00-14 (% of total)\", \"Population ages 15-64 (% of total)\", \"Population ages 65 and above (% of total)\", \"Population ages 00-14 (% of total)\", \"Population ages 15-64 (% of total)\", \"Population ages 65 and above (% of total)\", \"Population ages 00-14 (% of total)\", \"Population ages 15-64 (% of total)\", \"Population ages 65 and above (% of total)\", \"Population ages 00-14 (% of total)\", \"Population ages 15-64 (% of total)\", \"Population ages 65 and above (% of total)\", \"Population ages 00-14 (% of total)\", \"Population ages 15-64 (% of total)\", \"Population ages 65 and above (% of total)\", \"Population ages 00-14 (% of total)\", \"Population ages 15-64 (% of total)\", \"Population ages 65 and above (% of total)\", \"Population ages 00-14 (% of total)\", \"Population ages 15-64 (% of total)\", \"Population ages 65 and above (% of total)\"], \"legendgroup\": \"\", \"name\": \"\", \"showlegend\": true, \"type\": \"pie\", \"values\": [37.121658436271, 57.893264531083496, 4.9850770326455, 37.3014120409915, 57.66717030979011, 5.0314176492184295, 37.5263171280179, 57.41744643436461, 5.05623643761754, 37.741757944713505, 57.19412089721249, 5.064121158073969, 37.8746851062768, 57.060269592601, 5.0650453011222005, 37.9067207127475, 57.0327383755511, 5.060540911701411, 38.0041871434294, 56.8826413023004, 5.113171554270231, 37.9733223794446, 56.865117331556995, 5.16156028899837, 37.863831811912206, 56.931005638513, 5.205162549574769, 37.7290232483285, 57.02578228940471, 5.24519446226675, 37.607091461825796, 57.1122238453312, 5.28068469284289, 37.5390811008989, 57.1151024472556, 5.34581645184557, 37.4453994803474, 57.1498508115236, 5.40474970812898, 37.3286746059899, 57.2141827917327, 5.45714260227741, 37.160727948974206, 57.332539512336, 5.50673253868981, 36.933230661443, 57.5126682311372, 5.55410110741971, 36.7217960085778, 57.6477383353022, 5.63046565611997, 36.4444822445392, 57.8512195762152, 5.7042981792456295, 36.1182524562675, 58.1118100341421, 5.76993750959037, 35.7693668749149, 58.4127902116816, 5.81784291340348, 35.4177806239425, 58.738328235308295, 5.84389114074921, 35.0788355407008, 59.0473910657901, 5.8737733935091105, 34.7648431931894, 59.3572337625063, 5.87792304430426, 34.4650299412425, 59.6653839587111, 5.8695861000464, 34.1673661356404, 59.9681058954279, 5.8645279689317205, 33.8725357042727, 60.256820449611794, 5.870643846115559, 33.7015211250782, 60.39415344243421, 5.90432543248756, 33.5154912959747, 60.5417773076311, 5.94273139639418, 33.323108837968896, 60.690879765427, 5.98601139660404, 33.1263497446709, 60.83969285461921, 6.033957400709911, 32.9249651822012, 60.9899353829402, 6.08509943485852, 32.815893846448304, 61.02540970301639, 6.15869645053523, 32.637800014640696, 61.1233277378925, 6.23887224746686, 32.414769692593104, 61.2679274726112, 6.317302834795691, 32.17256874245, 61.4381308084104, 6.38930044913962, 31.9159032447801, 61.631573652860205, 6.45252310235982, 31.587937348090602, 61.8700145507648, 6.54204810114461, 31.2817676735368, 62.0997153124397, 6.618517014023451, 30.9671099784622, 62.3447811390353, 6.6881088825024495, 30.605584583590804, 62.6351160793492, 6.75929933705998, 30.192309845378198, 62.9723048058988, 6.83538862207567, 29.8009600666779, 63.266215591930106, 6.93282595458317, 29.371178302056798, 63.59793847173671, 7.030884817135349, 28.920182001318, 63.95441318235821, 7.125404816323861, 28.4816639754312, 64.3103990036435, 7.207933925641941, 28.0765420168221, 64.6482347883864, 7.27522624762322, 27.7609786323983, 64.88949608194649, 7.34952679146026, 27.459101412103802, 65.1265821103426, 7.41431647755355, 27.181709315700697, 65.34147118505011, 7.47681949924918, 26.9390729301639, 65.5155193715284, 7.5454105890095695, 26.7326693606204, 65.6408035701675, 7.62654441143221, 26.571602534805198, 65.699127908335, 7.72926674013201, 26.442404539380302, 65.7208212353304, 7.836772832955529, 26.3282161368988, 65.7090861159853, 7.9626950191718695, 26.224847860399198, 65.6722459110797, 8.10290487771328, 26.112935991353, 65.6203967585112, 8.26669140126872]}],                        {\"legend\": {\"tracegroupgap\": 0}, \"piecolorway\": [\"lightcyan\", \"cyan\", \"royalblue\"], \"template\": {\"data\": {\"bar\": [{\"error_x\": {\"color\": \"#2a3f5f\"}, \"error_y\": {\"color\": \"#2a3f5f\"}, \"marker\": {\"line\": {\"color\": \"#E5ECF6\", \"width\": 0.5}}, \"type\": \"bar\"}], \"barpolar\": [{\"marker\": {\"line\": {\"color\": \"#E5ECF6\", \"width\": 0.5}}, \"type\": \"barpolar\"}], \"carpet\": [{\"aaxis\": {\"endlinecolor\": \"#2a3f5f\", \"gridcolor\": \"white\", \"linecolor\": \"white\", \"minorgridcolor\": \"white\", \"startlinecolor\": \"#2a3f5f\"}, \"baxis\": {\"endlinecolor\": \"#2a3f5f\", \"gridcolor\": \"white\", \"linecolor\": \"white\", \"minorgridcolor\": \"white\", \"startlinecolor\": \"#2a3f5f\"}, \"type\": \"carpet\"}], \"choropleth\": [{\"colorbar\": {\"outlinewidth\": 0, \"ticks\": \"\"}, \"type\": \"choropleth\"}], \"contour\": [{\"colorbar\": {\"outlinewidth\": 0, \"ticks\": \"\"}, \"colorscale\": [[0.0, \"#0d0887\"], [0.1111111111111111, \"#46039f\"], [0.2222222222222222, \"#7201a8\"], [0.3333333333333333, \"#9c179e\"], [0.4444444444444444, \"#bd3786\"], [0.5555555555555556, \"#d8576b\"], [0.6666666666666666, \"#ed7953\"], [0.7777777777777778, \"#fb9f3a\"], [0.8888888888888888, \"#fdca26\"], [1.0, \"#f0f921\"]], \"type\": \"contour\"}], \"contourcarpet\": [{\"colorbar\": {\"outlinewidth\": 0, \"ticks\": \"\"}, \"type\": \"contourcarpet\"}], \"heatmap\": [{\"colorbar\": {\"outlinewidth\": 0, \"ticks\": \"\"}, \"colorscale\": [[0.0, \"#0d0887\"], [0.1111111111111111, \"#46039f\"], [0.2222222222222222, \"#7201a8\"], [0.3333333333333333, \"#9c179e\"], [0.4444444444444444, \"#bd3786\"], [0.5555555555555556, \"#d8576b\"], [0.6666666666666666, \"#ed7953\"], [0.7777777777777778, \"#fb9f3a\"], [0.8888888888888888, \"#fdca26\"], [1.0, \"#f0f921\"]], \"type\": \"heatmap\"}], \"heatmapgl\": [{\"colorbar\": {\"outlinewidth\": 0, \"ticks\": \"\"}, \"colorscale\": [[0.0, \"#0d0887\"], [0.1111111111111111, \"#46039f\"], [0.2222222222222222, \"#7201a8\"], [0.3333333333333333, \"#9c179e\"], [0.4444444444444444, \"#bd3786\"], [0.5555555555555556, \"#d8576b\"], [0.6666666666666666, \"#ed7953\"], [0.7777777777777778, \"#fb9f3a\"], [0.8888888888888888, \"#fdca26\"], [1.0, \"#f0f921\"]], \"type\": \"heatmapgl\"}], \"histogram\": [{\"marker\": {\"colorbar\": {\"outlinewidth\": 0, \"ticks\": \"\"}}, \"type\": \"histogram\"}], \"histogram2d\": [{\"colorbar\": {\"outlinewidth\": 0, \"ticks\": \"\"}, \"colorscale\": [[0.0, \"#0d0887\"], [0.1111111111111111, \"#46039f\"], [0.2222222222222222, \"#7201a8\"], [0.3333333333333333, \"#9c179e\"], [0.4444444444444444, \"#bd3786\"], [0.5555555555555556, \"#d8576b\"], [0.6666666666666666, \"#ed7953\"], [0.7777777777777778, \"#fb9f3a\"], [0.8888888888888888, \"#fdca26\"], [1.0, \"#f0f921\"]], \"type\": \"histogram2d\"}], \"histogram2dcontour\": [{\"colorbar\": {\"outlinewidth\": 0, \"ticks\": \"\"}, \"colorscale\": [[0.0, \"#0d0887\"], [0.1111111111111111, \"#46039f\"], [0.2222222222222222, \"#7201a8\"], [0.3333333333333333, \"#9c179e\"], [0.4444444444444444, \"#bd3786\"], [0.5555555555555556, \"#d8576b\"], [0.6666666666666666, \"#ed7953\"], [0.7777777777777778, \"#fb9f3a\"], [0.8888888888888888, \"#fdca26\"], [1.0, \"#f0f921\"]], \"type\": \"histogram2dcontour\"}], \"mesh3d\": [{\"colorbar\": {\"outlinewidth\": 0, \"ticks\": \"\"}, \"type\": \"mesh3d\"}], \"parcoords\": [{\"line\": {\"colorbar\": {\"outlinewidth\": 0, \"ticks\": \"\"}}, \"type\": \"parcoords\"}], \"pie\": [{\"automargin\": true, \"type\": \"pie\"}], \"scatter\": [{\"marker\": {\"colorbar\": {\"outlinewidth\": 0, \"ticks\": \"\"}}, \"type\": \"scatter\"}], \"scatter3d\": [{\"line\": {\"colorbar\": {\"outlinewidth\": 0, \"ticks\": \"\"}}, \"marker\": {\"colorbar\": {\"outlinewidth\": 0, \"ticks\": \"\"}}, \"type\": \"scatter3d\"}], \"scattercarpet\": [{\"marker\": {\"colorbar\": {\"outlinewidth\": 0, \"ticks\": \"\"}}, \"type\": \"scattercarpet\"}], \"scattergeo\": [{\"marker\": {\"colorbar\": {\"outlinewidth\": 0, \"ticks\": \"\"}}, \"type\": \"scattergeo\"}], \"scattergl\": [{\"marker\": {\"colorbar\": {\"outlinewidth\": 0, \"ticks\": \"\"}}, \"type\": \"scattergl\"}], \"scattermapbox\": [{\"marker\": {\"colorbar\": {\"outlinewidth\": 0, \"ticks\": \"\"}}, \"type\": \"scattermapbox\"}], \"scatterpolar\": [{\"marker\": {\"colorbar\": {\"outlinewidth\": 0, \"ticks\": \"\"}}, \"type\": \"scatterpolar\"}], \"scatterpolargl\": [{\"marker\": {\"colorbar\": {\"outlinewidth\": 0, \"ticks\": \"\"}}, \"type\": \"scatterpolargl\"}], \"scatterternary\": [{\"marker\": {\"colorbar\": {\"outlinewidth\": 0, \"ticks\": \"\"}}, \"type\": \"scatterternary\"}], \"surface\": [{\"colorbar\": {\"outlinewidth\": 0, \"ticks\": \"\"}, \"colorscale\": [[0.0, \"#0d0887\"], [0.1111111111111111, \"#46039f\"], [0.2222222222222222, \"#7201a8\"], [0.3333333333333333, \"#9c179e\"], [0.4444444444444444, \"#bd3786\"], [0.5555555555555556, \"#d8576b\"], [0.6666666666666666, \"#ed7953\"], [0.7777777777777778, \"#fb9f3a\"], [0.8888888888888888, \"#fdca26\"], [1.0, \"#f0f921\"]], \"type\": \"surface\"}], \"table\": [{\"cells\": {\"fill\": {\"color\": \"#EBF0F8\"}, \"line\": {\"color\": \"white\"}}, \"header\": {\"fill\": {\"color\": \"#C8D4E3\"}, \"line\": {\"color\": \"white\"}}, \"type\": \"table\"}]}, \"layout\": {\"annotationdefaults\": {\"arrowcolor\": \"#2a3f5f\", \"arrowhead\": 0, \"arrowwidth\": 1}, \"coloraxis\": {\"colorbar\": {\"outlinewidth\": 0, \"ticks\": \"\"}}, \"colorscale\": {\"diverging\": [[0, \"#8e0152\"], [0.1, \"#c51b7d\"], [0.2, \"#de77ae\"], [0.3, \"#f1b6da\"], [0.4, \"#fde0ef\"], [0.5, \"#f7f7f7\"], [0.6, \"#e6f5d0\"], [0.7, \"#b8e186\"], [0.8, \"#7fbc41\"], [0.9, \"#4d9221\"], [1, \"#276419\"]], \"sequential\": [[0.0, \"#0d0887\"], [0.1111111111111111, \"#46039f\"], [0.2222222222222222, \"#7201a8\"], [0.3333333333333333, \"#9c179e\"], [0.4444444444444444, \"#bd3786\"], [0.5555555555555556, \"#d8576b\"], [0.6666666666666666, \"#ed7953\"], [0.7777777777777778, \"#fb9f3a\"], [0.8888888888888888, \"#fdca26\"], [1.0, \"#f0f921\"]], \"sequentialminus\": [[0.0, \"#0d0887\"], [0.1111111111111111, \"#46039f\"], [0.2222222222222222, \"#7201a8\"], [0.3333333333333333, \"#9c179e\"], [0.4444444444444444, \"#bd3786\"], [0.5555555555555556, \"#d8576b\"], [0.6666666666666666, \"#ed7953\"], [0.7777777777777778, \"#fb9f3a\"], [0.8888888888888888, \"#fdca26\"], [1.0, \"#f0f921\"]]}, \"colorway\": [\"#636efa\", \"#EF553B\", \"#00cc96\", \"#ab63fa\", \"#FFA15A\", \"#19d3f3\", \"#FF6692\", \"#B6E880\", \"#FF97FF\", \"#FECB52\"], \"font\": {\"color\": \"#2a3f5f\"}, \"geo\": {\"bgcolor\": \"white\", \"lakecolor\": \"white\", \"landcolor\": \"#E5ECF6\", \"showlakes\": true, \"showland\": true, \"subunitcolor\": \"white\"}, \"hoverlabel\": {\"align\": \"left\"}, \"hovermode\": \"closest\", \"mapbox\": {\"style\": \"light\"}, \"paper_bgcolor\": \"white\", \"plot_bgcolor\": \"#E5ECF6\", \"polar\": {\"angularaxis\": {\"gridcolor\": \"white\", \"linecolor\": \"white\", \"ticks\": \"\"}, \"bgcolor\": \"#E5ECF6\", \"radialaxis\": {\"gridcolor\": \"white\", \"linecolor\": \"white\", \"ticks\": \"\"}}, \"scene\": {\"xaxis\": {\"backgroundcolor\": \"#E5ECF6\", \"gridcolor\": \"white\", \"gridwidth\": 2, \"linecolor\": \"white\", \"showbackground\": true, \"ticks\": \"\", \"zerolinecolor\": \"white\"}, \"yaxis\": {\"backgroundcolor\": \"#E5ECF6\", \"gridcolor\": \"white\", \"gridwidth\": 2, \"linecolor\": \"white\", \"showbackground\": true, \"ticks\": \"\", \"zerolinecolor\": \"white\"}, \"zaxis\": {\"backgroundcolor\": \"#E5ECF6\", \"gridcolor\": \"white\", \"gridwidth\": 2, \"linecolor\": \"white\", \"showbackground\": true, \"ticks\": \"\", \"zerolinecolor\": \"white\"}}, \"shapedefaults\": {\"line\": {\"color\": \"#2a3f5f\"}}, \"ternary\": {\"aaxis\": {\"gridcolor\": \"white\", \"linecolor\": \"white\", \"ticks\": \"\"}, \"baxis\": {\"gridcolor\": \"white\", \"linecolor\": \"white\", \"ticks\": \"\"}, \"bgcolor\": \"#E5ECF6\", \"caxis\": {\"gridcolor\": \"white\", \"linecolor\": \"white\", \"ticks\": \"\"}}, \"title\": {\"x\": 0.05}, \"xaxis\": {\"automargin\": true, \"gridcolor\": \"white\", \"linecolor\": \"white\", \"ticks\": \"\", \"title\": {\"standoff\": 15}, \"zerolinecolor\": \"white\", \"zerolinewidth\": 2}, \"yaxis\": {\"automargin\": true, \"gridcolor\": \"white\", \"linecolor\": \"white\", \"ticks\": \"\", \"title\": {\"standoff\": 15}, \"zerolinecolor\": \"white\", \"zerolinewidth\": 2}}}, \"title\": {\"text\": \"World population ratio, by ages, 1960-2015\"}},                        {\"responsive\": true}                    ).then(function(){\n",
       "                            \n",
       "var gd = document.getElementById('1d49c2d6-f06f-47a3-8f6c-dcf3fd963d7c');\n",
       "var x = new MutationObserver(function (mutations, observer) {{\n",
       "        var display = window.getComputedStyle(gd).display;\n",
       "        if (!display || display === 'none') {{\n",
       "            console.log([gd, 'removed!']);\n",
       "            Plotly.purge(gd);\n",
       "            observer.disconnect();\n",
       "        }}\n",
       "}});\n",
       "\n",
       "// Listen for the removal of the full notebook cells\n",
       "var notebookContainer = gd.closest('#notebook-container');\n",
       "if (notebookContainer) {{\n",
       "    x.observe(notebookContainer, {childList: true});\n",
       "}}\n",
       "\n",
       "// Listen for the clearing of the current output cell\n",
       "var outputEl = gd.closest('.output');\n",
       "if (outputEl) {{\n",
       "    x.observe(outputEl, {childList: true});\n",
       "}}\n",
       "\n",
       "                        })                };                });            </script>        </div>"
      ]
     },
     "metadata": {},
     "output_type": "display_data"
    }
   ],
   "source": [
    "fig = px.pie(world_pop1, names = 'Indicator Name', values = 'Population percentage', \n",
    "             color_discrete_sequence=['lightcyan','cyan','royalblue'], title = 'World population ratio, by ages, 1960-2015')\n",
    "fig.show()"
   ]
  },
  {
   "cell_type": "markdown",
   "metadata": {
    "ExecuteTime": {
     "end_time": "2020-12-07T11:44:00.444912Z",
     "start_time": "2020-12-07T11:44:00.425583Z"
    }
   },
   "source": [
    "The global population breakdown by age shows that a third (33%) are younger than 14 years, 6.24% are older than 65, while half of the world population is the working age bracket between 15 and 65."
   ]
  },
  {
   "cell_type": "markdown",
   "metadata": {
    "ExecuteTime": {
     "end_time": "2020-12-02T12:12:45.400165Z",
     "start_time": "2020-12-02T12:12:45.372509Z"
    }
   },
   "source": [
    "### Age dependency ratio"
   ]
  },
  {
   "cell_type": "markdown",
   "metadata": {},
   "source": [
    "The age dependency ratio expresses the relationship between three age groups within a population: ages 0-15, 16-64 and 65-plus. ... The old-age dependency ratio is the population ages 65-plus divided by the population ages 16-64. The total age dependency ratio is the sum of the youth and old-age ratios."
   ]
  },
  {
   "cell_type": "markdown",
   "metadata": {},
   "source": [
    "#### Global age dependency ratio"
   ]
  },
  {
   "cell_type": "code",
   "execution_count": 28,
   "metadata": {
    "ExecuteTime": {
     "end_time": "2020-12-09T08:04:14.199927Z",
     "start_time": "2020-12-09T08:04:14.192237Z"
    }
   },
   "outputs": [],
   "source": [
    "#df2"
   ]
  },
  {
   "cell_type": "code",
   "execution_count": 29,
   "metadata": {
    "ExecuteTime": {
     "end_time": "2020-12-09T08:04:14.213228Z",
     "start_time": "2020-12-09T08:04:14.203219Z"
    }
   },
   "outputs": [],
   "source": [
    "age_dep = groupby_world.loc['Age dependency ratio (% of working-age population)': 'Age dependency ratio, young', :]"
   ]
  },
  {
   "cell_type": "code",
   "execution_count": 30,
   "metadata": {
    "ExecuteTime": {
     "end_time": "2020-12-09T08:04:14.260833Z",
     "start_time": "2020-12-09T08:04:14.215073Z"
    }
   },
   "outputs": [
    {
     "data": {
      "text/html": [
       "<div>\n",
       "<style scoped>\n",
       "    .dataframe tbody tr th:only-of-type {\n",
       "        vertical-align: middle;\n",
       "    }\n",
       "\n",
       "    .dataframe tbody tr th {\n",
       "        vertical-align: top;\n",
       "    }\n",
       "\n",
       "    .dataframe thead th {\n",
       "        text-align: right;\n",
       "    }\n",
       "</style>\n",
       "<table border=\"1\" class=\"dataframe\">\n",
       "  <thead>\n",
       "    <tr style=\"text-align: right;\">\n",
       "      <th></th>\n",
       "      <th>1960</th>\n",
       "      <th>1961</th>\n",
       "      <th>1962</th>\n",
       "      <th>1963</th>\n",
       "      <th>1964</th>\n",
       "      <th>1965</th>\n",
       "      <th>1966</th>\n",
       "      <th>1967</th>\n",
       "      <th>1968</th>\n",
       "      <th>1969</th>\n",
       "      <th>...</th>\n",
       "      <th>2006</th>\n",
       "      <th>2007</th>\n",
       "      <th>2008</th>\n",
       "      <th>2009</th>\n",
       "      <th>2010</th>\n",
       "      <th>2011</th>\n",
       "      <th>2012</th>\n",
       "      <th>2013</th>\n",
       "      <th>2014</th>\n",
       "      <th>2015</th>\n",
       "    </tr>\n",
       "    <tr>\n",
       "      <th>Indicator Name</th>\n",
       "      <th></th>\n",
       "      <th></th>\n",
       "      <th></th>\n",
       "      <th></th>\n",
       "      <th></th>\n",
       "      <th></th>\n",
       "      <th></th>\n",
       "      <th></th>\n",
       "      <th></th>\n",
       "      <th></th>\n",
       "      <th></th>\n",
       "      <th></th>\n",
       "      <th></th>\n",
       "      <th></th>\n",
       "      <th></th>\n",
       "      <th></th>\n",
       "      <th></th>\n",
       "      <th></th>\n",
       "      <th></th>\n",
       "      <th></th>\n",
       "      <th></th>\n",
       "    </tr>\n",
       "  </thead>\n",
       "  <tbody>\n",
       "    <tr>\n",
       "      <th>Age dependency ratio (% of working-age population)</th>\n",
       "      <td>73.589393</td>\n",
       "      <td>74.309025</td>\n",
       "      <td>75.132524</td>\n",
       "      <td>75.896695</td>\n",
       "      <td>76.378690</td>\n",
       "      <td>76.503484</td>\n",
       "      <td>77.020957</td>\n",
       "      <td>77.095838</td>\n",
       "      <td>76.890522</td>\n",
       "      <td>76.593916</td>\n",
       "      <td>...</td>\n",
       "      <td>55.758427</td>\n",
       "      <td>55.240787</td>\n",
       "      <td>54.767668</td>\n",
       "      <td>54.373274</td>\n",
       "      <td>54.071734</td>\n",
       "      <td>53.923046</td>\n",
       "      <td>53.838965</td>\n",
       "      <td>53.816684</td>\n",
       "      <td>53.845012</td>\n",
       "      <td>53.903376</td>\n",
       "    </tr>\n",
       "    <tr>\n",
       "      <th>Age dependency ratio, old</th>\n",
       "      <td>8.610807</td>\n",
       "      <td>8.724925</td>\n",
       "      <td>8.806098</td>\n",
       "      <td>8.854269</td>\n",
       "      <td>8.876658</td>\n",
       "      <td>8.873045</td>\n",
       "      <td>8.988984</td>\n",
       "      <td>9.076848</td>\n",
       "      <td>9.142931</td>\n",
       "      <td>9.197935</td>\n",
       "      <td>...</td>\n",
       "      <td>11.326219</td>\n",
       "      <td>11.384470</td>\n",
       "      <td>11.442686</td>\n",
       "      <td>11.516982</td>\n",
       "      <td>11.618603</td>\n",
       "      <td>11.764641</td>\n",
       "      <td>11.924338</td>\n",
       "      <td>12.118103</td>\n",
       "      <td>12.338401</td>\n",
       "      <td>12.597747</td>\n",
       "    </tr>\n",
       "    <tr>\n",
       "      <th>Age dependency ratio, young</th>\n",
       "      <td>64.120859</td>\n",
       "      <td>64.683965</td>\n",
       "      <td>65.356994</td>\n",
       "      <td>65.988877</td>\n",
       "      <td>66.376632</td>\n",
       "      <td>66.464844</td>\n",
       "      <td>66.811572</td>\n",
       "      <td>66.777884</td>\n",
       "      <td>66.508279</td>\n",
       "      <td>66.161343</td>\n",
       "      <td>...</td>\n",
       "      <td>42.781930</td>\n",
       "      <td>42.162663</td>\n",
       "      <td>41.599476</td>\n",
       "      <td>41.118613</td>\n",
       "      <td>40.725689</td>\n",
       "      <td>40.444376</td>\n",
       "      <td>40.234440</td>\n",
       "      <td>40.067847</td>\n",
       "      <td>39.932924</td>\n",
       "      <td>39.793932</td>\n",
       "    </tr>\n",
       "  </tbody>\n",
       "</table>\n",
       "<p>3 rows × 56 columns</p>\n",
       "</div>"
      ],
      "text/plain": [
       "                                                         1960       1961  \\\n",
       "Indicator Name                                                             \n",
       "Age dependency ratio (% of working-age population)  73.589393  74.309025   \n",
       "Age dependency ratio, old                            8.610807   8.724925   \n",
       "Age dependency ratio, young                         64.120859  64.683965   \n",
       "\n",
       "                                                         1962       1963  \\\n",
       "Indicator Name                                                             \n",
       "Age dependency ratio (% of working-age population)  75.132524  75.896695   \n",
       "Age dependency ratio, old                            8.806098   8.854269   \n",
       "Age dependency ratio, young                         65.356994  65.988877   \n",
       "\n",
       "                                                         1964       1965  \\\n",
       "Indicator Name                                                             \n",
       "Age dependency ratio (% of working-age population)  76.378690  76.503484   \n",
       "Age dependency ratio, old                            8.876658   8.873045   \n",
       "Age dependency ratio, young                         66.376632  66.464844   \n",
       "\n",
       "                                                         1966       1967  \\\n",
       "Indicator Name                                                             \n",
       "Age dependency ratio (% of working-age population)  77.020957  77.095838   \n",
       "Age dependency ratio, old                            8.988984   9.076848   \n",
       "Age dependency ratio, young                         66.811572  66.777884   \n",
       "\n",
       "                                                         1968       1969  ...  \\\n",
       "Indicator Name                                                            ...   \n",
       "Age dependency ratio (% of working-age population)  76.890522  76.593916  ...   \n",
       "Age dependency ratio, old                            9.142931   9.197935  ...   \n",
       "Age dependency ratio, young                         66.508279  66.161343  ...   \n",
       "\n",
       "                                                         2006       2007  \\\n",
       "Indicator Name                                                             \n",
       "Age dependency ratio (% of working-age population)  55.758427  55.240787   \n",
       "Age dependency ratio, old                           11.326219  11.384470   \n",
       "Age dependency ratio, young                         42.781930  42.162663   \n",
       "\n",
       "                                                         2008       2009  \\\n",
       "Indicator Name                                                             \n",
       "Age dependency ratio (% of working-age population)  54.767668  54.373274   \n",
       "Age dependency ratio, old                           11.442686  11.516982   \n",
       "Age dependency ratio, young                         41.599476  41.118613   \n",
       "\n",
       "                                                         2010       2011  \\\n",
       "Indicator Name                                                             \n",
       "Age dependency ratio (% of working-age population)  54.071734  53.923046   \n",
       "Age dependency ratio, old                           11.618603  11.764641   \n",
       "Age dependency ratio, young                         40.725689  40.444376   \n",
       "\n",
       "                                                         2012       2013  \\\n",
       "Indicator Name                                                             \n",
       "Age dependency ratio (% of working-age population)  53.838965  53.816684   \n",
       "Age dependency ratio, old                           11.924338  12.118103   \n",
       "Age dependency ratio, young                         40.234440  40.067847   \n",
       "\n",
       "                                                         2014       2015  \n",
       "Indicator Name                                                            \n",
       "Age dependency ratio (% of working-age population)  53.845012  53.903376  \n",
       "Age dependency ratio, old                           12.338401  12.597747  \n",
       "Age dependency ratio, young                         39.932924  39.793932  \n",
       "\n",
       "[3 rows x 56 columns]"
      ]
     },
     "execution_count": 30,
     "metadata": {},
     "output_type": "execute_result"
    }
   ],
   "source": [
    "age_dep"
   ]
  },
  {
   "cell_type": "code",
   "execution_count": 59,
   "metadata": {
    "ExecuteTime": {
     "end_time": "2020-12-09T10:51:41.879572Z",
     "start_time": "2020-12-09T10:51:40.706233Z"
    },
    "scrolled": false
   },
   "outputs": [
    {
     "data": {
      "image/png": "[encoded data removed]",
      "text/plain": [
       "<Figure size 1080x576 with 1 Axes>"
      ]
     },
     "metadata": {
      "needs_background": "light"
     },
     "output_type": "display_data"
    }
   ],
   "source": [
    "plt.figure(figsize = (15,8))\n",
    "sns.lineplot(data = age_dep.T)\n",
    "plt.xticks(rotation = 45)\n",
    "plt.xlabel('Year')\n",
    "plt.ylabel('Age dependency ratio')\n",
    "plt.title('Global age dependency ratio')\n",
    "plt.show()"
   ]
  },
  {
   "cell_type": "markdown",
   "metadata": {},
   "source": [
    "- The age dependency of old people has increasing lightly during the whole period while the age of dependency ratio of young one has decreased fro more than 65% to around 40%\n",
    "- Genenrally, the total age dependency also decreased in recent years"
   ]
  },
  {
   "cell_type": "code",
   "execution_count": 32,
   "metadata": {
    "ExecuteTime": {
     "end_time": "2020-12-09T08:04:15.153032Z",
     "start_time": "2020-12-09T08:04:15.080769Z"
    }
   },
   "outputs": [
    {
     "data": {
      "application/vnd.plotly.v1+json": {
       "config": {
        "linkText": "Export to plot.ly",
        "plotlyServerURL": "https://plot.ly",
        "showLink": true
       },
       "data": [
        {
         "boxpoints": false,
         "line": {
          "width": 1.3
         },
         "marker": {
          "color": "rgba(255, 153, 51, 1.0)"
         },
         "name": "Age dependency ratio (% of working-age population)",
         "orientation": "v",
         "type": "box",
         "y": [
          73.5893928166075,
          74.30902485439908,
          75.132524106193,
          75.8966945538762,
          76.3786903970875,
          76.5034838755753,
          77.020956805908,
          77.0958384327287,
          76.8905216081116,
          76.5939162317315,
          76.32084022662029,
          76.3352026756703,
          76.24045151515321,
          76.0455310801585,
          75.6805503316355,
          75.1229021667049,
          74.6984565572941,
          74.07413857414559,
          73.2898359803196,
          72.40144487633559,
          71.460083459455,
          70.6192614867044,
          69.7897009614966,
          68.97594635385789,
          68.1844541362816,
          67.431063867759,
          67.1000424683686,
          66.725547116339,
          66.3316553275245,
          65.9246237598573,
          65.50429877068379,
          65.37936377555039,
          65.09000547238949,
          64.6747994143377,
          64.1872459431832,
          63.634728378291705,
          63.0148329202351,
          62.40682878642771,
          61.759472751268994,
          61.010768288445604,
          60.16490227862221,
          59.46134734220821,
          58.6794772234103,
          57.8553631962793,
          57.04652450185121,
          56.2876410609679,
          55.7584270285314,
          55.2407873269886,
          54.76766802570229,
          54.37327387275639,
          54.0717335992823,
          53.9230464852048,
          53.8389654491147,
          53.8166840583476,
          53.845011876297704,
          53.9033762868963
         ]
        },
        {
         "boxpoints": false,
         "line": {
          "width": 1.3
         },
         "marker": {
          "color": "rgba(55, 128, 191, 1.0)"
         },
         "name": "Age dependency ratio, old",
         "orientation": "v",
         "type": "box",
         "y": [
          8.610806524490679,
          8.724925426235089,
          8.80609758725012,
          8.854268888868651,
          8.876658482461051,
          8.87304539597347,
          8.98898389120197,
          9.07684801383921,
          9.14293090158209,
          9.197935044521529,
          9.24615511035863,
          9.35972477302084,
          9.457154727467001,
          9.53809410348033,
          9.604899044391919,
          9.65717878479406,
          9.76701912747756,
          9.86029027655157,
          9.92902745350828,
          9.95987826114,
          9.949025260444948,
          9.94755783379766,
          9.9026229357415,
          9.83750656336734,
          9.779411652784859,
          9.74270425712194,
          9.77631958785754,
          9.81591831250727,
          9.86311534731392,
          9.91779727970399,
          9.97721902427774,
          10.0920197913202,
          10.207023209974698,
          10.310945974675901,
          10.3995682663178,
          10.469508924252,
          10.573858905818199,
          10.6578862493896,
          10.7276162545071,
          10.791549125283899,
          10.854594951920099,
          10.9581802114665,
          11.0552086619661,
          11.1413809455041,
          11.208038055239598,
          11.2535574687076,
          11.326219426204501,
          11.384470456128,
          11.4426862330273,
          11.516982045233,
          11.618603045409902,
          11.764641365919099,
          11.924337957304099,
          12.118103373568498,
          12.338400798641,
          12.5977467126228
         ]
        },
        {
         "boxpoints": false,
         "line": {
          "width": 1.3
         },
         "marker": {
          "color": "rgba(50, 171, 96, 1.0)"
         },
         "name": "Age dependency ratio, young",
         "orientation": "v",
         "type": "box",
         "y": [
          64.1208591817184,
          64.68396480438889,
          65.3569943823305,
          65.9888771718991,
          66.3766320114062,
          66.46484424843861,
          66.8115724248751,
          66.7778844977701,
          66.50827854219,
          66.161342762222,
          65.84771002476629,
          65.7253150868947,
          65.521429891256,
          65.2437432598985,
          64.8161209538585,
          64.21755720215161,
          63.700323941179,
          62.996912591668995,
          62.15303298251921,
          61.2355045813821,
          60.2975631509967,
          59.407934759423895,
          58.568839793484706,
          57.7638618770205,
          56.975896715787,
          56.213612822128404,
          55.802621835352,
          55.35927884778089,
          54.9062871895949,
          54.448581499348,
          53.9842597323316,
          53.7741474894602,
          53.39663457528071,
          52.9065875620311,
          52.36580021110479,
          51.7849884321245,
          51.0553255358645,
          50.373447748094705,
          49.670733257200204,
          48.863299889817895,
          47.945378412523205,
          47.1040660593149,
          46.1825949054107,
          45.219994225833794,
          44.2878048586895,
          43.429711758904,
          42.7819298328901,
          42.1626631671288,
          41.5994755771124,
          41.118613071652206,
          40.72568871510111,
          40.444376297104895,
          40.2344403345178,
          40.067847085949296,
          39.932923740402295,
          39.793931817401
         ]
        }
       ],
       "layout": {
        "legend": {
         "bgcolor": "#F5F6F9",
         "font": {
          "color": "#4D5663"
         }
        },
        "paper_bgcolor": "#F5F6F9",
        "plot_bgcolor": "#F5F6F9",
        "template": {
         "data": {
          "bar": [
           {
            "error_x": {
             "color": "#2a3f5f"
            },
            "error_y": {
             "color": "#2a3f5f"
            },
            "marker": {
             "line": {
              "color": "#E5ECF6",
              "width": 0.5
             }
            },
            "type": "bar"
           }
          ],
          "barpolar": [
           {
            "marker": {
             "line": {
              "color": "#E5ECF6",
              "width": 0.5
             }
            },
            "type": "barpolar"
           }
          ],
          "carpet": [
           {
            "aaxis": {
             "endlinecolor": "#2a3f5f",
             "gridcolor": "white",
             "linecolor": "white",
             "minorgridcolor": "white",
             "startlinecolor": "#2a3f5f"
            },
            "baxis": {
             "endlinecolor": "#2a3f5f",
             "gridcolor": "white",
             "linecolor": "white",
             "minorgridcolor": "white",
             "startlinecolor": "#2a3f5f"
            },
            "type": "carpet"
           }
          ],
          "choropleth": [
           {
            "colorbar": {
             "outlinewidth": 0,
             "ticks": ""
            },
            "type": "choropleth"
           }
          ],
          "contour": [
           {
            "colorbar": {
             "outlinewidth": 0,
             "ticks": ""
            },
            "colorscale": [
             [
              0,
              "#0d0887"
             ],
             [
              0.1111111111111111,
              "#46039f"
             ],
             [
              0.2222222222222222,
              "#7201a8"
             ],
             [
              0.3333333333333333,
              "#9c179e"
             ],
             [
              0.4444444444444444,
              "#bd3786"
             ],
             [
              0.5555555555555556,
              "#d8576b"
             ],
             [
              0.6666666666666666,
              "#ed7953"
             ],
             [
              0.7777777777777778,
              "#fb9f3a"
             ],
             [
              0.8888888888888888,
              "#fdca26"
             ],
             [
              1,
              "#f0f921"
             ]
            ],
            "type": "contour"
           }
          ],
          "contourcarpet": [
           {
            "colorbar": {
             "outlinewidth": 0,
             "ticks": ""
            },
            "type": "contourcarpet"
           }
          ],
          "heatmap": [
           {
            "colorbar": {
             "outlinewidth": 0,
             "ticks": ""
            },
            "colorscale": [
             [
              0,
              "#0d0887"
             ],
             [
              0.1111111111111111,
              "#46039f"
             ],
             [
              0.2222222222222222,
              "#7201a8"
             ],
             [
              0.3333333333333333,
              "#9c179e"
             ],
             [
              0.4444444444444444,
              "#bd3786"
             ],
             [
              0.5555555555555556,
              "#d8576b"
             ],
             [
              0.6666666666666666,
              "#ed7953"
             ],
             [
              0.7777777777777778,
              "#fb9f3a"
             ],
             [
              0.8888888888888888,
              "#fdca26"
             ],
             [
              1,
              "#f0f921"
             ]
            ],
            "type": "heatmap"
           }
          ],
          "heatmapgl": [
           {
            "colorbar": {
             "outlinewidth": 0,
             "ticks": ""
            },
            "colorscale": [
             [
              0,
              "#0d0887"
             ],
             [
              0.1111111111111111,
              "#46039f"
             ],
             [
              0.2222222222222222,
              "#7201a8"
             ],
             [
              0.3333333333333333,
              "#9c179e"
             ],
             [
              0.4444444444444444,
              "#bd3786"
             ],
             [
              0.5555555555555556,
              "#d8576b"
             ],
             [
              0.6666666666666666,
              "#ed7953"
             ],
             [
              0.7777777777777778,
              "#fb9f3a"
             ],
             [
              0.8888888888888888,
              "#fdca26"
             ],
             [
              1,
              "#f0f921"
             ]
            ],
            "type": "heatmapgl"
           }
          ],
          "histogram": [
           {
            "marker": {
             "colorbar": {
              "outlinewidth": 0,
              "ticks": ""
             }
            },
            "type": "histogram"
           }
          ],
          "histogram2d": [
           {
            "colorbar": {
             "outlinewidth": 0,
             "ticks": ""
            },
            "colorscale": [
             [
              0,
              "#0d0887"
             ],
             [
              0.1111111111111111,
              "#46039f"
             ],
             [
              0.2222222222222222,
              "#7201a8"
             ],
             [
              0.3333333333333333,
              "#9c179e"
             ],
             [
              0.4444444444444444,
              "#bd3786"
             ],
             [
              0.5555555555555556,
              "#d8576b"
             ],
             [
              0.6666666666666666,
              "#ed7953"
             ],
             [
              0.7777777777777778,
              "#fb9f3a"
             ],
             [
              0.8888888888888888,
              "#fdca26"
             ],
             [
              1,
              "#f0f921"
             ]
            ],
            "type": "histogram2d"
           }
          ],
          "histogram2dcontour": [
           {
            "colorbar": {
             "outlinewidth": 0,
             "ticks": ""
            },
            "colorscale": [
             [
              0,
              "#0d0887"
             ],
             [
              0.1111111111111111,
              "#46039f"
             ],
             [
              0.2222222222222222,
              "#7201a8"
             ],
             [
              0.3333333333333333,
              "#9c179e"
             ],
             [
              0.4444444444444444,
              "#bd3786"
             ],
             [
              0.5555555555555556,
              "#d8576b"
             ],
             [
              0.6666666666666666,
              "#ed7953"
             ],
             [
              0.7777777777777778,
              "#fb9f3a"
             ],
             [
              0.8888888888888888,
              "#fdca26"
             ],
             [
              1,
              "#f0f921"
             ]
            ],
            "type": "histogram2dcontour"
           }
          ],
          "mesh3d": [
           {
            "colorbar": {
             "outlinewidth": 0,
             "ticks": ""
            },
            "type": "mesh3d"
           }
          ],
          "parcoords": [
           {
            "line": {
             "colorbar": {
              "outlinewidth": 0,
              "ticks": ""
             }
            },
            "type": "parcoords"
           }
          ],
          "pie": [
           {
            "automargin": true,
            "type": "pie"
           }
          ],
          "scatter": [
           {
            "marker": {
             "colorbar": {
              "outlinewidth": 0,
              "ticks": ""
             }
            },
            "type": "scatter"
           }
          ],
          "scatter3d": [
           {
            "line": {
             "colorbar": {
              "outlinewidth": 0,
              "ticks": ""
             }
            },
            "marker": {
             "colorbar": {
              "outlinewidth": 0,
              "ticks": ""
             }
            },
            "type": "scatter3d"
           }
          ],
          "scattercarpet": [
           {
            "marker": {
             "colorbar": {
              "outlinewidth": 0,
              "ticks": ""
             }
            },
            "type": "scattercarpet"
           }
          ],
          "scattergeo": [
           {
            "marker": {
             "colorbar": {
              "outlinewidth": 0,
              "ticks": ""
             }
            },
            "type": "scattergeo"
           }
          ],
          "scattergl": [
           {
            "marker": {
             "colorbar": {
              "outlinewidth": 0,
              "ticks": ""
             }
            },
            "type": "scattergl"
           }
          ],
          "scattermapbox": [
           {
            "marker": {
             "colorbar": {
              "outlinewidth": 0,
              "ticks": ""
             }
            },
            "type": "scattermapbox"
           }
          ],
          "scatterpolar": [
           {
            "marker": {
             "colorbar": {
              "outlinewidth": 0,
              "ticks": ""
             }
            },
            "type": "scatterpolar"
           }
          ],
          "scatterpolargl": [
           {
            "marker": {
             "colorbar": {
              "outlinewidth": 0,
              "ticks": ""
             }
            },
            "type": "scatterpolargl"
           }
          ],
          "scatterternary": [
           {
            "marker": {
             "colorbar": {
              "outlinewidth": 0,
              "ticks": ""
             }
            },
            "type": "scatterternary"
           }
          ],
          "surface": [
           {
            "colorbar": {
             "outlinewidth": 0,
             "ticks": ""
            },
            "colorscale": [
             [
              0,
              "#0d0887"
             ],
             [
              0.1111111111111111,
              "#46039f"
             ],
             [
              0.2222222222222222,
              "#7201a8"
             ],
             [
              0.3333333333333333,
              "#9c179e"
             ],
             [
              0.4444444444444444,
              "#bd3786"
             ],
             [
              0.5555555555555556,
              "#d8576b"
             ],
             [
              0.6666666666666666,
              "#ed7953"
             ],
             [
              0.7777777777777778,
              "#fb9f3a"
             ],
             [
              0.8888888888888888,
              "#fdca26"
             ],
             [
              1,
              "#f0f921"
             ]
            ],
            "type": "surface"
           }
          ],
          "table": [
           {
            "cells": {
             "fill": {
              "color": "#EBF0F8"
             },
             "line": {
              "color": "white"
             }
            },
            "header": {
             "fill": {
              "color": "#C8D4E3"
             },
             "line": {
              "color": "white"
             }
            },
            "type": "table"
           }
          ]
         },
         "layout": {
          "annotationdefaults": {
           "arrowcolor": "#2a3f5f",
           "arrowhead": 0,
           "arrowwidth": 1
          },
          "coloraxis": {
           "colorbar": {
            "outlinewidth": 0,
            "ticks": ""
           }
          },
          "colorscale": {
           "diverging": [
            [
             0,
             "#8e0152"
            ],
            [
             0.1,
             "#c51b7d"
            ],
            [
             0.2,
             "#de77ae"
            ],
            [
             0.3,
             "#f1b6da"
            ],
            [
             0.4,
             "#fde0ef"
            ],
            [
             0.5,
             "#f7f7f7"
            ],
            [
             0.6,
             "#e6f5d0"
            ],
            [
             0.7,
             "#b8e186"
            ],
            [
             0.8,
             "#7fbc41"
            ],
            [
             0.9,
             "#4d9221"
            ],
            [
             1,
             "#276419"
            ]
           ],
           "sequential": [
            [
             0,
             "#0d0887"
            ],
            [
             0.1111111111111111,
             "#46039f"
            ],
            [
             0.2222222222222222,
             "#7201a8"
            ],
            [
             0.3333333333333333,
             "#9c179e"
            ],
            [
             0.4444444444444444,
             "#bd3786"
            ],
            [
             0.5555555555555556,
             "#d8576b"
            ],
            [
             0.6666666666666666,
             "#ed7953"
            ],
            [
             0.7777777777777778,
             "#fb9f3a"
            ],
            [
             0.8888888888888888,
             "#fdca26"
            ],
            [
             1,
             "#f0f921"
            ]
           ],
           "sequentialminus": [
            [
             0,
             "#0d0887"
            ],
            [
             0.1111111111111111,
             "#46039f"
            ],
            [
             0.2222222222222222,
             "#7201a8"
            ],
            [
             0.3333333333333333,
             "#9c179e"
            ],
            [
             0.4444444444444444,
             "#bd3786"
            ],
            [
             0.5555555555555556,
             "#d8576b"
            ],
            [
             0.6666666666666666,
             "#ed7953"
            ],
            [
             0.7777777777777778,
             "#fb9f3a"
            ],
            [
             0.8888888888888888,
             "#fdca26"
            ],
            [
             1,
             "#f0f921"
            ]
           ]
          },
          "colorway": [
           "#636efa",
           "#EF553B",
           "#00cc96",
           "#ab63fa",
           "#FFA15A",
           "#19d3f3",
           "#FF6692",
           "#B6E880",
           "#FF97FF",
           "#FECB52"
          ],
          "font": {
           "color": "#2a3f5f"
          },
          "geo": {
           "bgcolor": "white",
           "lakecolor": "white",
           "landcolor": "#E5ECF6",
           "showlakes": true,
           "showland": true,
           "subunitcolor": "white"
          },
          "hoverlabel": {
           "align": "left"
          },
          "hovermode": "closest",
          "mapbox": {
           "style": "light"
          },
          "paper_bgcolor": "white",
          "plot_bgcolor": "#E5ECF6",
          "polar": {
           "angularaxis": {
            "gridcolor": "white",
            "linecolor": "white",
            "ticks": ""
           },
           "bgcolor": "#E5ECF6",
           "radialaxis": {
            "gridcolor": "white",
            "linecolor": "white",
            "ticks": ""
           }
          },
          "scene": {
           "xaxis": {
            "backgroundcolor": "#E5ECF6",
            "gridcolor": "white",
            "gridwidth": 2,
            "linecolor": "white",
            "showbackground": true,
            "ticks": "",
            "zerolinecolor": "white"
           },
           "yaxis": {
            "backgroundcolor": "#E5ECF6",
            "gridcolor": "white",
            "gridwidth": 2,
            "linecolor": "white",
            "showbackground": true,
            "ticks": "",
            "zerolinecolor": "white"
           },
           "zaxis": {
            "backgroundcolor": "#E5ECF6",
            "gridcolor": "white",
            "gridwidth": 2,
            "linecolor": "white",
            "showbackground": true,
            "ticks": "",
            "zerolinecolor": "white"
           }
          },
          "shapedefaults": {
           "line": {
            "color": "#2a3f5f"
           }
          },
          "ternary": {
           "aaxis": {
            "gridcolor": "white",
            "linecolor": "white",
            "ticks": ""
           },
           "baxis": {
            "gridcolor": "white",
            "linecolor": "white",
            "ticks": ""
           },
           "bgcolor": "#E5ECF6",
           "caxis": {
            "gridcolor": "white",
            "linecolor": "white",
            "ticks": ""
           }
          },
          "title": {
           "x": 0.05
          },
          "xaxis": {
           "automargin": true,
           "gridcolor": "white",
           "linecolor": "white",
           "ticks": "",
           "title": {
            "standoff": 15
           },
           "zerolinecolor": "white",
           "zerolinewidth": 2
          },
          "yaxis": {
           "automargin": true,
           "gridcolor": "white",
           "linecolor": "white",
           "ticks": "",
           "title": {
            "standoff": 15
           },
           "zerolinecolor": "white",
           "zerolinewidth": 2
          }
         }
        },
        "title": {
         "font": {
          "color": "#4D5663"
         }
        },
        "xaxis": {
         "gridcolor": "#E1E5ED",
         "showgrid": true,
         "tickfont": {
          "color": "#4D5663"
         },
         "title": {
          "font": {
           "color": "#4D5663"
          },
          "text": ""
         },
         "zerolinecolor": "#E1E5ED"
        },
        "yaxis": {
         "gridcolor": "#E1E5ED",
         "showgrid": true,
         "tickfont": {
          "color": "#4D5663"
         },
         "title": {
          "font": {
           "color": "#4D5663"
          },
          "text": ""
         },
         "zerolinecolor": "#E1E5ED"
        }
       }
      },
      "text/html": [
       "<div>                            <div id=\"e1bad996-f79f-406e-880b-c6859f12e929\" class=\"plotly-graph-div\" style=\"height:525px; width:100%;\"></div>            <script type=\"text/javascript\">                require([\"plotly\"], function(Plotly) {                    window.PLOTLYENV=window.PLOTLYENV || {};\n",
       "                    window.PLOTLYENV.BASE_URL='https://plot.ly';                                    if (document.getElementById(\"e1bad996-f79f-406e-880b-c6859f12e929\")) {                    Plotly.newPlot(                        \"e1bad996-f79f-406e-880b-c6859f12e929\",                        [{\"boxpoints\": false, \"line\": {\"width\": 1.3}, \"marker\": {\"color\": \"rgba(255, 153, 51, 1.0)\"}, \"name\": \"Age dependency ratio (% of working-age population)\", \"orientation\": \"v\", \"type\": \"box\", \"y\": [73.5893928166075, 74.30902485439908, 75.132524106193, 75.8966945538762, 76.3786903970875, 76.5034838755753, 77.020956805908, 77.0958384327287, 76.8905216081116, 76.5939162317315, 76.32084022662029, 76.3352026756703, 76.24045151515321, 76.0455310801585, 75.6805503316355, 75.1229021667049, 74.6984565572941, 74.07413857414559, 73.2898359803196, 72.40144487633559, 71.460083459455, 70.6192614867044, 69.7897009614966, 68.97594635385789, 68.1844541362816, 67.431063867759, 67.1000424683686, 66.725547116339, 66.3316553275245, 65.9246237598573, 65.50429877068379, 65.37936377555039, 65.09000547238949, 64.6747994143377, 64.1872459431832, 63.634728378291705, 63.0148329202351, 62.40682878642771, 61.759472751268994, 61.010768288445604, 60.16490227862221, 59.46134734220821, 58.6794772234103, 57.8553631962793, 57.04652450185121, 56.2876410609679, 55.7584270285314, 55.2407873269886, 54.76766802570229, 54.37327387275639, 54.0717335992823, 53.9230464852048, 53.8389654491147, 53.8166840583476, 53.845011876297704, 53.9033762868963]}, {\"boxpoints\": false, \"line\": {\"width\": 1.3}, \"marker\": {\"color\": \"rgba(55, 128, 191, 1.0)\"}, \"name\": \"Age dependency ratio, old\", \"orientation\": \"v\", \"type\": \"box\", \"y\": [8.610806524490679, 8.724925426235089, 8.80609758725012, 8.854268888868651, 8.876658482461051, 8.87304539597347, 8.98898389120197, 9.07684801383921, 9.14293090158209, 9.197935044521529, 9.24615511035863, 9.35972477302084, 9.457154727467001, 9.53809410348033, 9.604899044391919, 9.65717878479406, 9.76701912747756, 9.86029027655157, 9.92902745350828, 9.95987826114, 9.949025260444948, 9.94755783379766, 9.9026229357415, 9.83750656336734, 9.779411652784859, 9.74270425712194, 9.77631958785754, 9.81591831250727, 9.86311534731392, 9.91779727970399, 9.97721902427774, 10.0920197913202, 10.207023209974698, 10.310945974675901, 10.3995682663178, 10.469508924252, 10.573858905818199, 10.6578862493896, 10.7276162545071, 10.791549125283899, 10.854594951920099, 10.9581802114665, 11.0552086619661, 11.1413809455041, 11.208038055239598, 11.2535574687076, 11.326219426204501, 11.384470456128, 11.4426862330273, 11.516982045233, 11.618603045409902, 11.764641365919099, 11.924337957304099, 12.118103373568498, 12.338400798641, 12.5977467126228]}, {\"boxpoints\": false, \"line\": {\"width\": 1.3}, \"marker\": {\"color\": \"rgba(50, 171, 96, 1.0)\"}, \"name\": \"Age dependency ratio, young\", \"orientation\": \"v\", \"type\": \"box\", \"y\": [64.1208591817184, 64.68396480438889, 65.3569943823305, 65.9888771718991, 66.3766320114062, 66.46484424843861, 66.8115724248751, 66.7778844977701, 66.50827854219, 66.161342762222, 65.84771002476629, 65.7253150868947, 65.521429891256, 65.2437432598985, 64.8161209538585, 64.21755720215161, 63.700323941179, 62.996912591668995, 62.15303298251921, 61.2355045813821, 60.2975631509967, 59.407934759423895, 58.568839793484706, 57.7638618770205, 56.975896715787, 56.213612822128404, 55.802621835352, 55.35927884778089, 54.9062871895949, 54.448581499348, 53.9842597323316, 53.7741474894602, 53.39663457528071, 52.9065875620311, 52.36580021110479, 51.7849884321245, 51.0553255358645, 50.373447748094705, 49.670733257200204, 48.863299889817895, 47.945378412523205, 47.1040660593149, 46.1825949054107, 45.219994225833794, 44.2878048586895, 43.429711758904, 42.7819298328901, 42.1626631671288, 41.5994755771124, 41.118613071652206, 40.72568871510111, 40.444376297104895, 40.2344403345178, 40.067847085949296, 39.932923740402295, 39.793931817401]}],                        {\"legend\": {\"bgcolor\": \"#F5F6F9\", \"font\": {\"color\": \"#4D5663\"}}, \"paper_bgcolor\": \"#F5F6F9\", \"plot_bgcolor\": \"#F5F6F9\", \"template\": {\"data\": {\"bar\": [{\"error_x\": {\"color\": \"#2a3f5f\"}, \"error_y\": {\"color\": \"#2a3f5f\"}, \"marker\": {\"line\": {\"color\": \"#E5ECF6\", \"width\": 0.5}}, \"type\": \"bar\"}], \"barpolar\": [{\"marker\": {\"line\": {\"color\": \"#E5ECF6\", \"width\": 0.5}}, \"type\": \"barpolar\"}], \"carpet\": [{\"aaxis\": {\"endlinecolor\": \"#2a3f5f\", \"gridcolor\": \"white\", \"linecolor\": \"white\", \"minorgridcolor\": \"white\", \"startlinecolor\": \"#2a3f5f\"}, \"baxis\": {\"endlinecolor\": \"#2a3f5f\", \"gridcolor\": \"white\", \"linecolor\": \"white\", \"minorgridcolor\": \"white\", \"startlinecolor\": \"#2a3f5f\"}, \"type\": \"carpet\"}], \"choropleth\": [{\"colorbar\": {\"outlinewidth\": 0, \"ticks\": \"\"}, \"type\": \"choropleth\"}], \"contour\": [{\"colorbar\": {\"outlinewidth\": 0, \"ticks\": \"\"}, \"colorscale\": [[0.0, \"#0d0887\"], [0.1111111111111111, \"#46039f\"], [0.2222222222222222, \"#7201a8\"], [0.3333333333333333, \"#9c179e\"], [0.4444444444444444, \"#bd3786\"], [0.5555555555555556, \"#d8576b\"], [0.6666666666666666, \"#ed7953\"], [0.7777777777777778, \"#fb9f3a\"], [0.8888888888888888, \"#fdca26\"], [1.0, \"#f0f921\"]], \"type\": \"contour\"}], \"contourcarpet\": [{\"colorbar\": {\"outlinewidth\": 0, \"ticks\": \"\"}, \"type\": \"contourcarpet\"}], \"heatmap\": [{\"colorbar\": {\"outlinewidth\": 0, \"ticks\": \"\"}, \"colorscale\": [[0.0, \"#0d0887\"], [0.1111111111111111, \"#46039f\"], [0.2222222222222222, \"#7201a8\"], [0.3333333333333333, \"#9c179e\"], [0.4444444444444444, \"#bd3786\"], [0.5555555555555556, \"#d8576b\"], [0.6666666666666666, \"#ed7953\"], [0.7777777777777778, \"#fb9f3a\"], [0.8888888888888888, \"#fdca26\"], [1.0, \"#f0f921\"]], \"type\": \"heatmap\"}], \"heatmapgl\": [{\"colorbar\": {\"outlinewidth\": 0, \"ticks\": \"\"}, \"colorscale\": [[0.0, \"#0d0887\"], [0.1111111111111111, \"#46039f\"], [0.2222222222222222, \"#7201a8\"], [0.3333333333333333, \"#9c179e\"], [0.4444444444444444, \"#bd3786\"], [0.5555555555555556, \"#d8576b\"], [0.6666666666666666, \"#ed7953\"], [0.7777777777777778, \"#fb9f3a\"], [0.8888888888888888, \"#fdca26\"], [1.0, \"#f0f921\"]], \"type\": \"heatmapgl\"}], \"histogram\": [{\"marker\": {\"colorbar\": {\"outlinewidth\": 0, \"ticks\": \"\"}}, \"type\": \"histogram\"}], \"histogram2d\": [{\"colorbar\": {\"outlinewidth\": 0, \"ticks\": \"\"}, \"colorscale\": [[0.0, \"#0d0887\"], [0.1111111111111111, \"#46039f\"], [0.2222222222222222, \"#7201a8\"], [0.3333333333333333, \"#9c179e\"], [0.4444444444444444, \"#bd3786\"], [0.5555555555555556, \"#d8576b\"], [0.6666666666666666, \"#ed7953\"], [0.7777777777777778, \"#fb9f3a\"], [0.8888888888888888, \"#fdca26\"], [1.0, \"#f0f921\"]], \"type\": \"histogram2d\"}], \"histogram2dcontour\": [{\"colorbar\": {\"outlinewidth\": 0, \"ticks\": \"\"}, \"colorscale\": [[0.0, \"#0d0887\"], [0.1111111111111111, \"#46039f\"], [0.2222222222222222, \"#7201a8\"], [0.3333333333333333, \"#9c179e\"], [0.4444444444444444, \"#bd3786\"], [0.5555555555555556, \"#d8576b\"], [0.6666666666666666, \"#ed7953\"], [0.7777777777777778, \"#fb9f3a\"], [0.8888888888888888, \"#fdca26\"], [1.0, \"#f0f921\"]], \"type\": \"histogram2dcontour\"}], \"mesh3d\": [{\"colorbar\": {\"outlinewidth\": 0, \"ticks\": \"\"}, \"type\": \"mesh3d\"}], \"parcoords\": [{\"line\": {\"colorbar\": {\"outlinewidth\": 0, \"ticks\": \"\"}}, \"type\": \"parcoords\"}], \"pie\": [{\"automargin\": true, \"type\": \"pie\"}], \"scatter\": [{\"marker\": {\"colorbar\": {\"outlinewidth\": 0, \"ticks\": \"\"}}, \"type\": \"scatter\"}], \"scatter3d\": [{\"line\": {\"colorbar\": {\"outlinewidth\": 0, \"ticks\": \"\"}}, \"marker\": {\"colorbar\": {\"outlinewidth\": 0, \"ticks\": \"\"}}, \"type\": \"scatter3d\"}], \"scattercarpet\": [{\"marker\": {\"colorbar\": {\"outlinewidth\": 0, \"ticks\": \"\"}}, \"type\": \"scattercarpet\"}], \"scattergeo\": [{\"marker\": {\"colorbar\": {\"outlinewidth\": 0, \"ticks\": \"\"}}, \"type\": \"scattergeo\"}], \"scattergl\": [{\"marker\": {\"colorbar\": {\"outlinewidth\": 0, \"ticks\": \"\"}}, \"type\": \"scattergl\"}], \"scattermapbox\": [{\"marker\": {\"colorbar\": {\"outlinewidth\": 0, \"ticks\": \"\"}}, \"type\": \"scattermapbox\"}], \"scatterpolar\": [{\"marker\": {\"colorbar\": {\"outlinewidth\": 0, \"ticks\": \"\"}}, \"type\": \"scatterpolar\"}], \"scatterpolargl\": [{\"marker\": {\"colorbar\": {\"outlinewidth\": 0, \"ticks\": \"\"}}, \"type\": \"scatterpolargl\"}], \"scatterternary\": [{\"marker\": {\"colorbar\": {\"outlinewidth\": 0, \"ticks\": \"\"}}, \"type\": \"scatterternary\"}], \"surface\": [{\"colorbar\": {\"outlinewidth\": 0, \"ticks\": \"\"}, \"colorscale\": [[0.0, \"#0d0887\"], [0.1111111111111111, \"#46039f\"], [0.2222222222222222, \"#7201a8\"], [0.3333333333333333, \"#9c179e\"], [0.4444444444444444, \"#bd3786\"], [0.5555555555555556, \"#d8576b\"], [0.6666666666666666, \"#ed7953\"], [0.7777777777777778, \"#fb9f3a\"], [0.8888888888888888, \"#fdca26\"], [1.0, \"#f0f921\"]], \"type\": \"surface\"}], \"table\": [{\"cells\": {\"fill\": {\"color\": \"#EBF0F8\"}, \"line\": {\"color\": \"white\"}}, \"header\": {\"fill\": {\"color\": \"#C8D4E3\"}, \"line\": {\"color\": \"white\"}}, \"type\": \"table\"}]}, \"layout\": {\"annotationdefaults\": {\"arrowcolor\": \"#2a3f5f\", \"arrowhead\": 0, \"arrowwidth\": 1}, \"coloraxis\": {\"colorbar\": {\"outlinewidth\": 0, \"ticks\": \"\"}}, \"colorscale\": {\"diverging\": [[0, \"#8e0152\"], [0.1, \"#c51b7d\"], [0.2, \"#de77ae\"], [0.3, \"#f1b6da\"], [0.4, \"#fde0ef\"], [0.5, \"#f7f7f7\"], [0.6, \"#e6f5d0\"], [0.7, \"#b8e186\"], [0.8, \"#7fbc41\"], [0.9, \"#4d9221\"], [1, \"#276419\"]], \"sequential\": [[0.0, \"#0d0887\"], [0.1111111111111111, \"#46039f\"], [0.2222222222222222, \"#7201a8\"], [0.3333333333333333, \"#9c179e\"], [0.4444444444444444, \"#bd3786\"], [0.5555555555555556, \"#d8576b\"], [0.6666666666666666, \"#ed7953\"], [0.7777777777777778, \"#fb9f3a\"], [0.8888888888888888, \"#fdca26\"], [1.0, \"#f0f921\"]], \"sequentialminus\": [[0.0, \"#0d0887\"], [0.1111111111111111, \"#46039f\"], [0.2222222222222222, \"#7201a8\"], [0.3333333333333333, \"#9c179e\"], [0.4444444444444444, \"#bd3786\"], [0.5555555555555556, \"#d8576b\"], [0.6666666666666666, \"#ed7953\"], [0.7777777777777778, \"#fb9f3a\"], [0.8888888888888888, \"#fdca26\"], [1.0, \"#f0f921\"]]}, \"colorway\": [\"#636efa\", \"#EF553B\", \"#00cc96\", \"#ab63fa\", \"#FFA15A\", \"#19d3f3\", \"#FF6692\", \"#B6E880\", \"#FF97FF\", \"#FECB52\"], \"font\": {\"color\": \"#2a3f5f\"}, \"geo\": {\"bgcolor\": \"white\", \"lakecolor\": \"white\", \"landcolor\": \"#E5ECF6\", \"showlakes\": true, \"showland\": true, \"subunitcolor\": \"white\"}, \"hoverlabel\": {\"align\": \"left\"}, \"hovermode\": \"closest\", \"mapbox\": {\"style\": \"light\"}, \"paper_bgcolor\": \"white\", \"plot_bgcolor\": \"#E5ECF6\", \"polar\": {\"angularaxis\": {\"gridcolor\": \"white\", \"linecolor\": \"white\", \"ticks\": \"\"}, \"bgcolor\": \"#E5ECF6\", \"radialaxis\": {\"gridcolor\": \"white\", \"linecolor\": \"white\", \"ticks\": \"\"}}, \"scene\": {\"xaxis\": {\"backgroundcolor\": \"#E5ECF6\", \"gridcolor\": \"white\", \"gridwidth\": 2, \"linecolor\": \"white\", \"showbackground\": true, \"ticks\": \"\", \"zerolinecolor\": \"white\"}, \"yaxis\": {\"backgroundcolor\": \"#E5ECF6\", \"gridcolor\": \"white\", \"gridwidth\": 2, \"linecolor\": \"white\", \"showbackground\": true, \"ticks\": \"\", \"zerolinecolor\": \"white\"}, \"zaxis\": {\"backgroundcolor\": \"#E5ECF6\", \"gridcolor\": \"white\", \"gridwidth\": 2, \"linecolor\": \"white\", \"showbackground\": true, \"ticks\": \"\", \"zerolinecolor\": \"white\"}}, \"shapedefaults\": {\"line\": {\"color\": \"#2a3f5f\"}}, \"ternary\": {\"aaxis\": {\"gridcolor\": \"white\", \"linecolor\": \"white\", \"ticks\": \"\"}, \"baxis\": {\"gridcolor\": \"white\", \"linecolor\": \"white\", \"ticks\": \"\"}, \"bgcolor\": \"#E5ECF6\", \"caxis\": {\"gridcolor\": \"white\", \"linecolor\": \"white\", \"ticks\": \"\"}}, \"title\": {\"x\": 0.05}, \"xaxis\": {\"automargin\": true, \"gridcolor\": \"white\", \"linecolor\": \"white\", \"ticks\": \"\", \"title\": {\"standoff\": 15}, \"zerolinecolor\": \"white\", \"zerolinewidth\": 2}, \"yaxis\": {\"automargin\": true, \"gridcolor\": \"white\", \"linecolor\": \"white\", \"ticks\": \"\", \"title\": {\"standoff\": 15}, \"zerolinecolor\": \"white\", \"zerolinewidth\": 2}}}, \"title\": {\"font\": {\"color\": \"#4D5663\"}}, \"xaxis\": {\"gridcolor\": \"#E1E5ED\", \"showgrid\": true, \"tickfont\": {\"color\": \"#4D5663\"}, \"title\": {\"font\": {\"color\": \"#4D5663\"}, \"text\": \"\"}, \"zerolinecolor\": \"#E1E5ED\"}, \"yaxis\": {\"gridcolor\": \"#E1E5ED\", \"showgrid\": true, \"tickfont\": {\"color\": \"#4D5663\"}, \"title\": {\"font\": {\"color\": \"#4D5663\"}, \"text\": \"\"}, \"zerolinecolor\": \"#E1E5ED\"}},                        {\"showLink\": true, \"linkText\": \"Export to plot.ly\", \"plotlyServerURL\": \"https://plot.ly\", \"responsive\": true}                    ).then(function(){\n",
       "                            \n",
       "var gd = document.getElementById('e1bad996-f79f-406e-880b-c6859f12e929');\n",
       "var x = new MutationObserver(function (mutations, observer) {{\n",
       "        var display = window.getComputedStyle(gd).display;\n",
       "        if (!display || display === 'none') {{\n",
       "            console.log([gd, 'removed!']);\n",
       "            Plotly.purge(gd);\n",
       "            observer.disconnect();\n",
       "        }}\n",
       "}});\n",
       "\n",
       "// Listen for the removal of the full notebook cells\n",
       "var notebookContainer = gd.closest('#notebook-container');\n",
       "if (notebookContainer) {{\n",
       "    x.observe(notebookContainer, {childList: true});\n",
       "}}\n",
       "\n",
       "// Listen for the clearing of the current output cell\n",
       "var outputEl = gd.closest('.output');\n",
       "if (outputEl) {{\n",
       "    x.observe(outputEl, {childList: true});\n",
       "}}\n",
       "\n",
       "                        })                };                });            </script>        </div>"
      ]
     },
     "metadata": {},
     "output_type": "display_data"
    }
   ],
   "source": [
    "age_dep.T.iplot(kind = 'box')"
   ]
  },
  {
   "cell_type": "markdown",
   "metadata": {
    "ExecuteTime": {
     "end_time": "2020-12-04T10:28:51.012528Z",
     "start_time": "2020-12-04T10:28:51.002485Z"
    }
   },
   "source": [
    "#### Age dependency ratio in Vietnam"
   ]
  },
  {
   "cell_type": "code",
   "execution_count": 33,
   "metadata": {
    "ExecuteTime": {
     "end_time": "2020-12-09T08:04:15.172276Z",
     "start_time": "2020-12-09T08:04:15.157088Z"
    }
   },
   "outputs": [],
   "source": [
    "vietnam = df[df['Country Name'] == 'Vietnam'] "
   ]
  },
  {
   "cell_type": "code",
   "execution_count": 34,
   "metadata": {
    "ExecuteTime": {
     "end_time": "2020-12-09T08:04:15.206514Z",
     "start_time": "2020-12-09T08:04:15.174518Z"
    }
   },
   "outputs": [
    {
     "data": {
      "text/html": [
       "<div>\n",
       "<style scoped>\n",
       "    .dataframe tbody tr th:only-of-type {\n",
       "        vertical-align: middle;\n",
       "    }\n",
       "\n",
       "    .dataframe tbody tr th {\n",
       "        vertical-align: top;\n",
       "    }\n",
       "\n",
       "    .dataframe thead th {\n",
       "        text-align: right;\n",
       "    }\n",
       "</style>\n",
       "<table border=\"1\" class=\"dataframe\">\n",
       "  <thead>\n",
       "    <tr style=\"text-align: right;\">\n",
       "      <th></th>\n",
       "      <th>1960</th>\n",
       "      <th>1961</th>\n",
       "      <th>1962</th>\n",
       "      <th>1963</th>\n",
       "      <th>1964</th>\n",
       "      <th>1965</th>\n",
       "      <th>1966</th>\n",
       "      <th>1967</th>\n",
       "      <th>1968</th>\n",
       "      <th>1969</th>\n",
       "      <th>...</th>\n",
       "      <th>2006</th>\n",
       "      <th>2007</th>\n",
       "      <th>2008</th>\n",
       "      <th>2009</th>\n",
       "      <th>2010</th>\n",
       "      <th>2011</th>\n",
       "      <th>2012</th>\n",
       "      <th>2013</th>\n",
       "      <th>2014</th>\n",
       "      <th>2015</th>\n",
       "    </tr>\n",
       "    <tr>\n",
       "      <th>Indicator Name</th>\n",
       "      <th></th>\n",
       "      <th></th>\n",
       "      <th></th>\n",
       "      <th></th>\n",
       "      <th></th>\n",
       "      <th></th>\n",
       "      <th></th>\n",
       "      <th></th>\n",
       "      <th></th>\n",
       "      <th></th>\n",
       "      <th></th>\n",
       "      <th></th>\n",
       "      <th></th>\n",
       "      <th></th>\n",
       "      <th></th>\n",
       "      <th></th>\n",
       "      <th></th>\n",
       "      <th></th>\n",
       "      <th></th>\n",
       "      <th></th>\n",
       "      <th></th>\n",
       "    </tr>\n",
       "  </thead>\n",
       "  <tbody>\n",
       "    <tr>\n",
       "      <th>Age dependency ratio (% of working-age population)</th>\n",
       "      <td>81.346212</td>\n",
       "      <td>84.512569</td>\n",
       "      <td>87.649979</td>\n",
       "      <td>90.584901</td>\n",
       "      <td>93.036541</td>\n",
       "      <td>94.854353</td>\n",
       "      <td>96.307285</td>\n",
       "      <td>97.168900</td>\n",
       "      <td>97.458815</td>\n",
       "      <td>97.274888</td>\n",
       "      <td>...</td>\n",
       "      <td>49.280844</td>\n",
       "      <td>47.510918</td>\n",
       "      <td>45.781518</td>\n",
       "      <td>44.344746</td>\n",
       "      <td>43.309778</td>\n",
       "      <td>42.679772</td>\n",
       "      <td>42.319998</td>\n",
       "      <td>42.220303</td>\n",
       "      <td>42.304690</td>\n",
       "      <td>42.511440</td>\n",
       "    </tr>\n",
       "    <tr>\n",
       "      <th>Age dependency ratio, old</th>\n",
       "      <td>8.563223</td>\n",
       "      <td>8.820022</td>\n",
       "      <td>9.053276</td>\n",
       "      <td>9.271850</td>\n",
       "      <td>9.486646</td>\n",
       "      <td>9.701415</td>\n",
       "      <td>9.960636</td>\n",
       "      <td>10.199126</td>\n",
       "      <td>10.397582</td>\n",
       "      <td>10.531871</td>\n",
       "      <td>...</td>\n",
       "      <td>9.814925</td>\n",
       "      <td>9.692381</td>\n",
       "      <td>9.573020</td>\n",
       "      <td>9.465789</td>\n",
       "      <td>9.379943</td>\n",
       "      <td>9.328279</td>\n",
       "      <td>9.302783</td>\n",
       "      <td>9.325307</td>\n",
       "      <td>9.422129</td>\n",
       "      <td>9.605993</td>\n",
       "    </tr>\n",
       "    <tr>\n",
       "      <th>Age dependency ratio, young</th>\n",
       "      <td>72.782989</td>\n",
       "      <td>75.692547</td>\n",
       "      <td>78.596703</td>\n",
       "      <td>81.313051</td>\n",
       "      <td>83.549895</td>\n",
       "      <td>85.152938</td>\n",
       "      <td>86.346648</td>\n",
       "      <td>86.969774</td>\n",
       "      <td>87.061233</td>\n",
       "      <td>86.743017</td>\n",
       "      <td>...</td>\n",
       "      <td>39.465920</td>\n",
       "      <td>37.818537</td>\n",
       "      <td>36.208498</td>\n",
       "      <td>34.878958</td>\n",
       "      <td>33.929835</td>\n",
       "      <td>33.351492</td>\n",
       "      <td>33.017215</td>\n",
       "      <td>32.894996</td>\n",
       "      <td>32.882561</td>\n",
       "      <td>32.905446</td>\n",
       "    </tr>\n",
       "  </tbody>\n",
       "</table>\n",
       "<p>3 rows × 56 columns</p>\n",
       "</div>"
      ],
      "text/plain": [
       "                                                         1960       1961  \\\n",
       "Indicator Name                                                             \n",
       "Age dependency ratio (% of working-age population)  81.346212  84.512569   \n",
       "Age dependency ratio, old                            8.563223   8.820022   \n",
       "Age dependency ratio, young                         72.782989  75.692547   \n",
       "\n",
       "                                                         1962       1963  \\\n",
       "Indicator Name                                                             \n",
       "Age dependency ratio (% of working-age population)  87.649979  90.584901   \n",
       "Age dependency ratio, old                            9.053276   9.271850   \n",
       "Age dependency ratio, young                         78.596703  81.313051   \n",
       "\n",
       "                                                         1964       1965  \\\n",
       "Indicator Name                                                             \n",
       "Age dependency ratio (% of working-age population)  93.036541  94.854353   \n",
       "Age dependency ratio, old                            9.486646   9.701415   \n",
       "Age dependency ratio, young                         83.549895  85.152938   \n",
       "\n",
       "                                                         1966       1967  \\\n",
       "Indicator Name                                                             \n",
       "Age dependency ratio (% of working-age population)  96.307285  97.168900   \n",
       "Age dependency ratio, old                            9.960636  10.199126   \n",
       "Age dependency ratio, young                         86.346648  86.969774   \n",
       "\n",
       "                                                         1968       1969  ...  \\\n",
       "Indicator Name                                                            ...   \n",
       "Age dependency ratio (% of working-age population)  97.458815  97.274888  ...   \n",
       "Age dependency ratio, old                           10.397582  10.531871  ...   \n",
       "Age dependency ratio, young                         87.061233  86.743017  ...   \n",
       "\n",
       "                                                         2006       2007  \\\n",
       "Indicator Name                                                             \n",
       "Age dependency ratio (% of working-age population)  49.280844  47.510918   \n",
       "Age dependency ratio, old                            9.814925   9.692381   \n",
       "Age dependency ratio, young                         39.465920  37.818537   \n",
       "\n",
       "                                                         2008       2009  \\\n",
       "Indicator Name                                                             \n",
       "Age dependency ratio (% of working-age population)  45.781518  44.344746   \n",
       "Age dependency ratio, old                            9.573020   9.465789   \n",
       "Age dependency ratio, young                         36.208498  34.878958   \n",
       "\n",
       "                                                         2010       2011  \\\n",
       "Indicator Name                                                             \n",
       "Age dependency ratio (% of working-age population)  43.309778  42.679772   \n",
       "Age dependency ratio, old                            9.379943   9.328279   \n",
       "Age dependency ratio, young                         33.929835  33.351492   \n",
       "\n",
       "                                                         2012       2013  \\\n",
       "Indicator Name                                                             \n",
       "Age dependency ratio (% of working-age population)  42.319998  42.220303   \n",
       "Age dependency ratio, old                            9.302783   9.325307   \n",
       "Age dependency ratio, young                         33.017215  32.894996   \n",
       "\n",
       "                                                         2014       2015  \n",
       "Indicator Name                                                            \n",
       "Age dependency ratio (% of working-age population)  42.304690  42.511440  \n",
       "Age dependency ratio, old                            9.422129   9.605993  \n",
       "Age dependency ratio, young                         32.882561  32.905446  \n",
       "\n",
       "[3 rows x 56 columns]"
      ]
     },
     "execution_count": 34,
     "metadata": {},
     "output_type": "execute_result"
    }
   ],
   "source": [
    "vietnam_age_dep = vietnam.groupby('Indicator Name').sum()[:3]\n",
    "vietnam_age_dep\n"
   ]
  },
  {
   "cell_type": "code",
   "execution_count": 35,
   "metadata": {
    "ExecuteTime": {
     "end_time": "2020-12-09T08:04:15.239807Z",
     "start_time": "2020-12-09T08:04:15.209846Z"
    }
   },
   "outputs": [
    {
     "data": {
      "text/html": [
       "<div>\n",
       "<style scoped>\n",
       "    .dataframe tbody tr th:only-of-type {\n",
       "        vertical-align: middle;\n",
       "    }\n",
       "\n",
       "    .dataframe tbody tr th {\n",
       "        vertical-align: top;\n",
       "    }\n",
       "\n",
       "    .dataframe thead th {\n",
       "        text-align: right;\n",
       "    }\n",
       "</style>\n",
       "<table border=\"1\" class=\"dataframe\">\n",
       "  <thead>\n",
       "    <tr style=\"text-align: right;\">\n",
       "      <th>Indicator Name</th>\n",
       "      <th>Age dependency ratio (% of working-age population)</th>\n",
       "      <th>Age dependency ratio, old</th>\n",
       "      <th>Age dependency ratio, young</th>\n",
       "    </tr>\n",
       "  </thead>\n",
       "  <tbody>\n",
       "    <tr>\n",
       "      <th>1960-12-31</th>\n",
       "      <td>81.346212</td>\n",
       "      <td>8.563223</td>\n",
       "      <td>72.782989</td>\n",
       "    </tr>\n",
       "    <tr>\n",
       "      <th>1965-12-31</th>\n",
       "      <td>90.127668</td>\n",
       "      <td>9.266642</td>\n",
       "      <td>80.861027</td>\n",
       "    </tr>\n",
       "    <tr>\n",
       "      <th>1970-12-31</th>\n",
       "      <td>96.985306</td>\n",
       "      <td>10.337031</td>\n",
       "      <td>86.648275</td>\n",
       "    </tr>\n",
       "    <tr>\n",
       "      <th>1975-12-31</th>\n",
       "      <td>93.470647</td>\n",
       "      <td>9.951296</td>\n",
       "      <td>83.519351</td>\n",
       "    </tr>\n",
       "    <tr>\n",
       "      <th>1980-12-31</th>\n",
       "      <td>87.886879</td>\n",
       "      <td>9.742796</td>\n",
       "      <td>78.144083</td>\n",
       "    </tr>\n",
       "    <tr>\n",
       "      <th>1985-12-31</th>\n",
       "      <td>82.503800</td>\n",
       "      <td>9.915612</td>\n",
       "      <td>72.588188</td>\n",
       "    </tr>\n",
       "    <tr>\n",
       "      <th>1990-12-31</th>\n",
       "      <td>77.653801</td>\n",
       "      <td>10.013086</td>\n",
       "      <td>67.640714</td>\n",
       "    </tr>\n",
       "    <tr>\n",
       "      <th>1995-12-31</th>\n",
       "      <td>73.145150</td>\n",
       "      <td>10.102464</td>\n",
       "      <td>63.042686</td>\n",
       "    </tr>\n",
       "    <tr>\n",
       "      <th>2000-12-31</th>\n",
       "      <td>65.627492</td>\n",
       "      <td>10.314075</td>\n",
       "      <td>55.313417</td>\n",
       "    </tr>\n",
       "    <tr>\n",
       "      <th>2005-12-31</th>\n",
       "      <td>54.941343</td>\n",
       "      <td>10.158835</td>\n",
       "      <td>44.782507</td>\n",
       "    </tr>\n",
       "    <tr>\n",
       "      <th>2010-12-31</th>\n",
       "      <td>46.045561</td>\n",
       "      <td>9.585211</td>\n",
       "      <td>36.460350</td>\n",
       "    </tr>\n",
       "    <tr>\n",
       "      <th>2015-12-31</th>\n",
       "      <td>42.407241</td>\n",
       "      <td>9.396898</td>\n",
       "      <td>33.010342</td>\n",
       "    </tr>\n",
       "  </tbody>\n",
       "</table>\n",
       "</div>"
      ],
      "text/plain": [
       "Indicator Name  Age dependency ratio (% of working-age population)  \\\n",
       "1960-12-31                                              81.346212    \n",
       "1965-12-31                                              90.127668    \n",
       "1970-12-31                                              96.985306    \n",
       "1975-12-31                                              93.470647    \n",
       "1980-12-31                                              87.886879    \n",
       "1985-12-31                                              82.503800    \n",
       "1990-12-31                                              77.653801    \n",
       "1995-12-31                                              73.145150    \n",
       "2000-12-31                                              65.627492    \n",
       "2005-12-31                                              54.941343    \n",
       "2010-12-31                                              46.045561    \n",
       "2015-12-31                                              42.407241    \n",
       "\n",
       "Indicator Name  Age dependency ratio, old  Age dependency ratio, young  \n",
       "1960-12-31                       8.563223                    72.782989  \n",
       "1965-12-31                       9.266642                    80.861027  \n",
       "1970-12-31                      10.337031                    86.648275  \n",
       "1975-12-31                       9.951296                    83.519351  \n",
       "1980-12-31                       9.742796                    78.144083  \n",
       "1985-12-31                       9.915612                    72.588188  \n",
       "1990-12-31                      10.013086                    67.640714  \n",
       "1995-12-31                      10.102464                    63.042686  \n",
       "2000-12-31                      10.314075                    55.313417  \n",
       "2005-12-31                      10.158835                    44.782507  \n",
       "2010-12-31                       9.585211                    36.460350  \n",
       "2015-12-31                       9.396898                    33.010342  "
      ]
     },
     "execution_count": 35,
     "metadata": {},
     "output_type": "execute_result"
    }
   ],
   "source": [
    "a = vietnam_age_dep.T\n",
    "#a.reset_index(inplace = True)\n",
    "a.index = pd.to_datetime(a.index)\n",
    "b = a.resample('5Y').mean()\n",
    "b"
   ]
  },
  {
   "cell_type": "code",
   "execution_count": 36,
   "metadata": {
    "ExecuteTime": {
     "end_time": "2020-12-09T08:04:15.543371Z",
     "start_time": "2020-12-09T08:04:15.247613Z"
    }
   },
   "outputs": [
    {
     "data": {
      "image/png": "[encoded data removed]",
      "text/plain": [
       "<Figure size 1080x576 with 1 Axes>"
      ]
     },
     "metadata": {
      "needs_background": "light"
     },
     "output_type": "display_data"
    }
   ],
   "source": [
    "plt.figure(figsize = (15,8))\n",
    "x_values = ['1960','1960-1965', '1965-1970', '1970-1975', '1975-1980', '1980-1985', '1985-1990', '1990-1995', '1995-2000', '2000-2005', '2005-2010', '2010-2015']\n",
    "plt.bar(x_values, b['Age dependency ratio, young'])\n",
    "plt.bar(x_values, b['Age dependency ratio, old'], bottom = b['Age dependency ratio, young'] )\n",
    "plt.title('Age dependency ratio in Vietnam during 1965-2015')\n",
    "plt.xlabel('Year')\n",
    "plt.ylabel('Age dependency ratio')\n",
    "plt.show()"
   ]
  },
  {
   "cell_type": "markdown",
   "metadata": {},
   "source": [
    "In Vietnam, the highest age dependency ratio dropped in 1965-1970, the total is more than 95%. However, in the recent years, the number has declined remarkably (under 50% during 2010-2015)"
   ]
  },
  {
   "cell_type": "markdown",
   "metadata": {},
   "source": [
    "### Population growth"
   ]
  },
  {
   "cell_type": "markdown",
   "metadata": {},
   "source": [
    "Population growth is the increase in the number of individuals in a population, according to Widipedia. [Link](https://en.wikipedia.org/wiki/Population_growth)"
   ]
  },
  {
   "cell_type": "code",
   "execution_count": 37,
   "metadata": {
    "ExecuteTime": {
     "end_time": "2020-12-09T08:04:15.695978Z",
     "start_time": "2020-12-09T08:04:15.546415Z"
    },
    "scrolled": false
   },
   "outputs": [
    {
     "data": {
      "text/html": [
       "<div>\n",
       "<style scoped>\n",
       "    .dataframe tbody tr th:only-of-type {\n",
       "        vertical-align: middle;\n",
       "    }\n",
       "\n",
       "    .dataframe tbody tr th {\n",
       "        vertical-align: top;\n",
       "    }\n",
       "\n",
       "    .dataframe thead th {\n",
       "        text-align: right;\n",
       "    }\n",
       "</style>\n",
       "<table border=\"1\" class=\"dataframe\">\n",
       "  <thead>\n",
       "    <tr style=\"text-align: right;\">\n",
       "      <th></th>\n",
       "      <th>Country Name</th>\n",
       "      <th>Indicator Name</th>\n",
       "      <th>1960</th>\n",
       "      <th>1961</th>\n",
       "      <th>1962</th>\n",
       "      <th>1963</th>\n",
       "      <th>1964</th>\n",
       "      <th>1965</th>\n",
       "      <th>1966</th>\n",
       "      <th>1967</th>\n",
       "      <th>...</th>\n",
       "      <th>2006</th>\n",
       "      <th>2007</th>\n",
       "      <th>2008</th>\n",
       "      <th>2009</th>\n",
       "      <th>2010</th>\n",
       "      <th>2011</th>\n",
       "      <th>2012</th>\n",
       "      <th>2013</th>\n",
       "      <th>2014</th>\n",
       "      <th>2015</th>\n",
       "    </tr>\n",
       "  </thead>\n",
       "  <tbody>\n",
       "    <tr>\n",
       "      <th>0</th>\n",
       "      <td>Afghanistan</td>\n",
       "      <td>Age dependency ratio (% of working-age populat...</td>\n",
       "      <td>81.717726</td>\n",
       "      <td>82.755896</td>\n",
       "      <td>83.304557</td>\n",
       "      <td>83.550740</td>\n",
       "      <td>83.734442</td>\n",
       "      <td>83.962152</td>\n",
       "      <td>85.099266</td>\n",
       "      <td>86.103697</td>\n",
       "      <td>...</td>\n",
       "      <td>9.957427e+01</td>\n",
       "      <td>1.000004e+02</td>\n",
       "      <td>1.002159e+02</td>\n",
       "      <td>1.000605e+02</td>\n",
       "      <td>9.945984e+01</td>\n",
       "      <td>9.766791e+01</td>\n",
       "      <td>9.531271e+01</td>\n",
       "      <td>9.260279e+01</td>\n",
       "      <td>8.977378e+01</td>\n",
       "      <td>8.695446e+01</td>\n",
       "    </tr>\n",
       "    <tr>\n",
       "      <th>1</th>\n",
       "      <td>Afghanistan</td>\n",
       "      <td>Age dependency ratio, old</td>\n",
       "      <td>5.086254</td>\n",
       "      <td>5.132610</td>\n",
       "      <td>5.139519</td>\n",
       "      <td>5.111892</td>\n",
       "      <td>5.056177</td>\n",
       "      <td>4.976298</td>\n",
       "      <td>5.024423</td>\n",
       "      <td>5.046191</td>\n",
       "      <td>...</td>\n",
       "      <td>4.384662e+00</td>\n",
       "      <td>4.426580e+00</td>\n",
       "      <td>4.462181e+00</td>\n",
       "      <td>4.498235e+00</td>\n",
       "      <td>4.538209e+00</td>\n",
       "      <td>4.565499e+00</td>\n",
       "      <td>4.591433e+00</td>\n",
       "      <td>4.611708e+00</td>\n",
       "      <td>4.620393e+00</td>\n",
       "      <td>4.616073e+00</td>\n",
       "    </tr>\n",
       "    <tr>\n",
       "      <th>2</th>\n",
       "      <td>Afghanistan</td>\n",
       "      <td>Age dependency ratio, young</td>\n",
       "      <td>76.631472</td>\n",
       "      <td>77.623286</td>\n",
       "      <td>78.165038</td>\n",
       "      <td>78.438848</td>\n",
       "      <td>78.678265</td>\n",
       "      <td>78.985854</td>\n",
       "      <td>80.074843</td>\n",
       "      <td>81.057506</td>\n",
       "      <td>...</td>\n",
       "      <td>9.518961e+01</td>\n",
       "      <td>9.557379e+01</td>\n",
       "      <td>9.575370e+01</td>\n",
       "      <td>9.556224e+01</td>\n",
       "      <td>9.492163e+01</td>\n",
       "      <td>9.310241e+01</td>\n",
       "      <td>9.072127e+01</td>\n",
       "      <td>8.799108e+01</td>\n",
       "      <td>8.515338e+01</td>\n",
       "      <td>8.233839e+01</td>\n",
       "    </tr>\n",
       "    <tr>\n",
       "      <th>3</th>\n",
       "      <td>Afghanistan</td>\n",
       "      <td>Age population, age 0, female, interpolated</td>\n",
       "      <td>178556.000000</td>\n",
       "      <td>182674.000000</td>\n",
       "      <td>185434.000000</td>\n",
       "      <td>187513.000000</td>\n",
       "      <td>189945.000000</td>\n",
       "      <td>193553.000000</td>\n",
       "      <td>197672.000000</td>\n",
       "      <td>202860.000000</td>\n",
       "      <td>...</td>\n",
       "      <td>4.892590e+05</td>\n",
       "      <td>4.968650e+05</td>\n",
       "      <td>5.022390e+05</td>\n",
       "      <td>5.051230e+05</td>\n",
       "      <td>5.053810e+05</td>\n",
       "      <td>4.985850e+05</td>\n",
       "      <td>4.894100e+05</td>\n",
       "      <td>4.798710e+05</td>\n",
       "      <td>4.728710e+05</td>\n",
       "      <td>4.705540e+05</td>\n",
       "    </tr>\n",
       "    <tr>\n",
       "      <th>4</th>\n",
       "      <td>Afghanistan</td>\n",
       "      <td>Age population, age 0, male, interpolated</td>\n",
       "      <td>177635.000000</td>\n",
       "      <td>181588.000000</td>\n",
       "      <td>185852.000000</td>\n",
       "      <td>190462.000000</td>\n",
       "      <td>195498.000000</td>\n",
       "      <td>201014.000000</td>\n",
       "      <td>205918.000000</td>\n",
       "      <td>211276.000000</td>\n",
       "      <td>...</td>\n",
       "      <td>5.184740e+05</td>\n",
       "      <td>5.236730e+05</td>\n",
       "      <td>5.258610e+05</td>\n",
       "      <td>5.264130e+05</td>\n",
       "      <td>5.262530e+05</td>\n",
       "      <td>5.193600e+05</td>\n",
       "      <td>5.118780e+05</td>\n",
       "      <td>5.049100e+05</td>\n",
       "      <td>5.001340e+05</td>\n",
       "      <td>4.988440e+05</td>\n",
       "    </tr>\n",
       "    <tr>\n",
       "      <th>...</th>\n",
       "      <td>...</td>\n",
       "      <td>...</td>\n",
       "      <td>...</td>\n",
       "      <td>...</td>\n",
       "      <td>...</td>\n",
       "      <td>...</td>\n",
       "      <td>...</td>\n",
       "      <td>...</td>\n",
       "      <td>...</td>\n",
       "      <td>...</td>\n",
       "      <td>...</td>\n",
       "      <td>...</td>\n",
       "      <td>...</td>\n",
       "      <td>...</td>\n",
       "      <td>...</td>\n",
       "      <td>...</td>\n",
       "      <td>...</td>\n",
       "      <td>...</td>\n",
       "      <td>...</td>\n",
       "      <td>...</td>\n",
       "      <td>...</td>\n",
       "    </tr>\n",
       "    <tr>\n",
       "      <th>32388</th>\n",
       "      <td>Zimbabwe</td>\n",
       "      <td>Rural population (% of total population)</td>\n",
       "      <td>87.392000</td>\n",
       "      <td>87.179000</td>\n",
       "      <td>86.918000</td>\n",
       "      <td>86.422000</td>\n",
       "      <td>85.908000</td>\n",
       "      <td>85.380000</td>\n",
       "      <td>84.835000</td>\n",
       "      <td>84.273000</td>\n",
       "      <td>...</td>\n",
       "      <td>6.607400e+01</td>\n",
       "      <td>6.625700e+01</td>\n",
       "      <td>6.644000e+01</td>\n",
       "      <td>6.662200e+01</td>\n",
       "      <td>6.680400e+01</td>\n",
       "      <td>6.698500e+01</td>\n",
       "      <td>6.716600e+01</td>\n",
       "      <td>6.734600e+01</td>\n",
       "      <td>6.749900e+01</td>\n",
       "      <td>6.762400e+01</td>\n",
       "    </tr>\n",
       "    <tr>\n",
       "      <th>32389</th>\n",
       "      <td>Zimbabwe</td>\n",
       "      <td>Rural population growth (annual %)</td>\n",
       "      <td>2.978175</td>\n",
       "      <td>3.013487</td>\n",
       "      <td>2.989215</td>\n",
       "      <td>2.730851</td>\n",
       "      <td>2.699497</td>\n",
       "      <td>2.660642</td>\n",
       "      <td>2.611991</td>\n",
       "      <td>2.572260</td>\n",
       "      <td>...</td>\n",
       "      <td>1.378151e+00</td>\n",
       "      <td>1.562136e+00</td>\n",
       "      <td>1.751320e+00</td>\n",
       "      <td>1.930941e+00</td>\n",
       "      <td>2.099185e+00</td>\n",
       "      <td>2.266390e+00</td>\n",
       "      <td>2.420375e+00</td>\n",
       "      <td>2.525497e+00</td>\n",
       "      <td>2.534382e+00</td>\n",
       "      <td>2.498968e+00</td>\n",
       "    </tr>\n",
       "    <tr>\n",
       "      <th>32390</th>\n",
       "      <td>Zimbabwe</td>\n",
       "      <td>Urban population</td>\n",
       "      <td>473101.000000</td>\n",
       "      <td>497024.000000</td>\n",
       "      <td>524099.000000</td>\n",
       "      <td>562238.000000</td>\n",
       "      <td>603076.000000</td>\n",
       "      <td>646516.000000</td>\n",
       "      <td>692786.000000</td>\n",
       "      <td>742096.000000</td>\n",
       "      <td>...</td>\n",
       "      <td>4.453786e+06</td>\n",
       "      <td>4.487076e+06</td>\n",
       "      <td>4.529077e+06</td>\n",
       "      <td>4.579794e+06</td>\n",
       "      <td>4.638775e+06</td>\n",
       "      <td>4.706484e+06</td>\n",
       "      <td>4.782430e+06</td>\n",
       "      <td>4.864823e+06</td>\n",
       "      <td>4.955055e+06</td>\n",
       "      <td>5.051547e+06</td>\n",
       "    </tr>\n",
       "    <tr>\n",
       "      <th>32391</th>\n",
       "      <td>Zimbabwe</td>\n",
       "      <td>Urban population (% of total)</td>\n",
       "      <td>12.608000</td>\n",
       "      <td>12.821000</td>\n",
       "      <td>13.082000</td>\n",
       "      <td>13.578000</td>\n",
       "      <td>14.092000</td>\n",
       "      <td>14.620000</td>\n",
       "      <td>15.165000</td>\n",
       "      <td>15.727000</td>\n",
       "      <td>...</td>\n",
       "      <td>3.392600e+01</td>\n",
       "      <td>3.374300e+01</td>\n",
       "      <td>3.356000e+01</td>\n",
       "      <td>3.337800e+01</td>\n",
       "      <td>3.319600e+01</td>\n",
       "      <td>3.301500e+01</td>\n",
       "      <td>3.283400e+01</td>\n",
       "      <td>3.265400e+01</td>\n",
       "      <td>3.250100e+01</td>\n",
       "      <td>3.237600e+01</td>\n",
       "    </tr>\n",
       "    <tr>\n",
       "      <th>32392</th>\n",
       "      <td>Zimbabwe</td>\n",
       "      <td>Urban population growth (annual %)</td>\n",
       "      <td>4.897746</td>\n",
       "      <td>4.932942</td>\n",
       "      <td>5.304228</td>\n",
       "      <td>7.024465</td>\n",
       "      <td>7.011798</td>\n",
       "      <td>6.955472</td>\n",
       "      <td>6.912320</td>\n",
       "      <td>6.875747</td>\n",
       "      <td>...</td>\n",
       "      <td>5.584083e-01</td>\n",
       "      <td>7.446744e-01</td>\n",
       "      <td>9.316901e-01</td>\n",
       "      <td>1.113585e+00</td>\n",
       "      <td>1.279630e+00</td>\n",
       "      <td>1.449081e+00</td>\n",
       "      <td>1.600765e+00</td>\n",
       "      <td>1.708155e+00</td>\n",
       "      <td>1.837793e+00</td>\n",
       "      <td>1.928627e+00</td>\n",
       "    </tr>\n",
       "  </tbody>\n",
       "</table>\n",
       "<p>32393 rows × 58 columns</p>\n",
       "</div>"
      ],
      "text/plain": [
       "      Country Name                                     Indicator Name  \\\n",
       "0      Afghanistan  Age dependency ratio (% of working-age populat...   \n",
       "1      Afghanistan                          Age dependency ratio, old   \n",
       "2      Afghanistan                        Age dependency ratio, young   \n",
       "3      Afghanistan        Age population, age 0, female, interpolated   \n",
       "4      Afghanistan          Age population, age 0, male, interpolated   \n",
       "...            ...                                                ...   \n",
       "32388     Zimbabwe           Rural population (% of total population)   \n",
       "32389     Zimbabwe                 Rural population growth (annual %)   \n",
       "32390     Zimbabwe                                   Urban population   \n",
       "32391     Zimbabwe                      Urban population (% of total)   \n",
       "32392     Zimbabwe                 Urban population growth (annual %)   \n",
       "\n",
       "                1960           1961           1962           1963  \\\n",
       "0          81.717726      82.755896      83.304557      83.550740   \n",
       "1           5.086254       5.132610       5.139519       5.111892   \n",
       "2          76.631472      77.623286      78.165038      78.438848   \n",
       "3      178556.000000  182674.000000  185434.000000  187513.000000   \n",
       "4      177635.000000  181588.000000  185852.000000  190462.000000   \n",
       "...              ...            ...            ...            ...   \n",
       "32388      87.392000      87.179000      86.918000      86.422000   \n",
       "32389       2.978175       3.013487       2.989215       2.730851   \n",
       "32390  473101.000000  497024.000000  524099.000000  562238.000000   \n",
       "32391      12.608000      12.821000      13.082000      13.578000   \n",
       "32392       4.897746       4.932942       5.304228       7.024465   \n",
       "\n",
       "                1964           1965           1966           1967  ...  \\\n",
       "0          83.734442      83.962152      85.099266      86.103697  ...   \n",
       "1           5.056177       4.976298       5.024423       5.046191  ...   \n",
       "2          78.678265      78.985854      80.074843      81.057506  ...   \n",
       "3      189945.000000  193553.000000  197672.000000  202860.000000  ...   \n",
       "4      195498.000000  201014.000000  205918.000000  211276.000000  ...   \n",
       "...              ...            ...            ...            ...  ...   \n",
       "32388      85.908000      85.380000      84.835000      84.273000  ...   \n",
       "32389       2.699497       2.660642       2.611991       2.572260  ...   \n",
       "32390  603076.000000  646516.000000  692786.000000  742096.000000  ...   \n",
       "32391      14.092000      14.620000      15.165000      15.727000  ...   \n",
       "32392       7.011798       6.955472       6.912320       6.875747  ...   \n",
       "\n",
       "               2006          2007          2008          2009          2010  \\\n",
       "0      9.957427e+01  1.000004e+02  1.002159e+02  1.000605e+02  9.945984e+01   \n",
       "1      4.384662e+00  4.426580e+00  4.462181e+00  4.498235e+00  4.538209e+00   \n",
       "2      9.518961e+01  9.557379e+01  9.575370e+01  9.556224e+01  9.492163e+01   \n",
       "3      4.892590e+05  4.968650e+05  5.022390e+05  5.051230e+05  5.053810e+05   \n",
       "4      5.184740e+05  5.236730e+05  5.258610e+05  5.264130e+05  5.262530e+05   \n",
       "...             ...           ...           ...           ...           ...   \n",
       "32388  6.607400e+01  6.625700e+01  6.644000e+01  6.662200e+01  6.680400e+01   \n",
       "32389  1.378151e+00  1.562136e+00  1.751320e+00  1.930941e+00  2.099185e+00   \n",
       "32390  4.453786e+06  4.487076e+06  4.529077e+06  4.579794e+06  4.638775e+06   \n",
       "32391  3.392600e+01  3.374300e+01  3.356000e+01  3.337800e+01  3.319600e+01   \n",
       "32392  5.584083e-01  7.446744e-01  9.316901e-01  1.113585e+00  1.279630e+00   \n",
       "\n",
       "               2011          2012          2013          2014          2015  \n",
       "0      9.766791e+01  9.531271e+01  9.260279e+01  8.977378e+01  8.695446e+01  \n",
       "1      4.565499e+00  4.591433e+00  4.611708e+00  4.620393e+00  4.616073e+00  \n",
       "2      9.310241e+01  9.072127e+01  8.799108e+01  8.515338e+01  8.233839e+01  \n",
       "3      4.985850e+05  4.894100e+05  4.798710e+05  4.728710e+05  4.705540e+05  \n",
       "4      5.193600e+05  5.118780e+05  5.049100e+05  5.001340e+05  4.988440e+05  \n",
       "...             ...           ...           ...           ...           ...  \n",
       "32388  6.698500e+01  6.716600e+01  6.734600e+01  6.749900e+01  6.762400e+01  \n",
       "32389  2.266390e+00  2.420375e+00  2.525497e+00  2.534382e+00  2.498968e+00  \n",
       "32390  4.706484e+06  4.782430e+06  4.864823e+06  4.955055e+06  5.051547e+06  \n",
       "32391  3.301500e+01  3.283400e+01  3.265400e+01  3.250100e+01  3.237600e+01  \n",
       "32392  1.449081e+00  1.600765e+00  1.708155e+00  1.837793e+00  1.928627e+00  \n",
       "\n",
       "[32393 rows x 58 columns]"
      ]
     },
     "execution_count": 37,
     "metadata": {},
     "output_type": "execute_result"
    }
   ],
   "source": [
    "pop_growth = df.groupby(['Country Name', 'Indicator Name']).mean()\n",
    "pop_growth.reset_index(inplace = True)\n",
    "pop_growth"
   ]
  },
  {
   "cell_type": "code",
   "execution_count": 38,
   "metadata": {
    "ExecuteTime": {
     "end_time": "2020-12-09T08:04:15.728633Z",
     "start_time": "2020-12-09T08:04:15.701076Z"
    },
    "scrolled": false
   },
   "outputs": [
    {
     "name": "stdout",
     "output_type": "stream",
     "text": [
      "Country Name\n",
      "United Arab Emirates    8.308723\n",
      "Qatar                   7.011832\n",
      "Djibouti                4.306406\n",
      "Jordan                  3.925982\n",
      "Bahrain                 3.879373\n",
      "dtype: float64\n",
      "Country Name\n",
      "Ukraine      0.125517\n",
      "Lithuania    0.110344\n",
      "Georgia      0.049210\n",
      "Hungary     -0.020310\n",
      "Latvia      -0.111907\n",
      "dtype: float64\n"
     ]
    }
   ],
   "source": [
    "a =pop_growth[pop_growth['Indicator Name'] == 'Population growth (annual %)']\n",
    "a.set_index('Country Name', inplace = True)\n",
    "a = a.iloc[:, 1:]\n",
    "print(a.mean(axis = 1).sort_values(ascending = False).head(5)) #check the top highest population growth countries\n",
    "print(a.mean(axis = 1).sort_values(ascending = False).tail(5)) #check the top lowest population growth countries"
   ]
  },
  {
   "cell_type": "code",
   "execution_count": 39,
   "metadata": {
    "ExecuteTime": {
     "end_time": "2020-12-09T08:04:15.756474Z",
     "start_time": "2020-12-09T08:04:15.732056Z"
    },
    "scrolled": false
   },
   "outputs": [],
   "source": [
    "top_five = pop_growth[(pop_growth['Indicator Name'] == 'Population growth (annual %)') & pop_growth['Country Name'].isin(['United Arab Emirates', 'Qatar', 'Djibouti', 'Jordan', 'Bahrain'])]\n",
    "top_five.set_index('Country Name', inplace = True)\n",
    "last_five = pop_growth[(pop_growth['Indicator Name'] == 'Population growth (annual %)') & pop_growth['Country Name'].isin(['Ukraine', 'Lithuania', 'Hungary', 'Georgia', 'Latvia'])]\n",
    "last_five.set_index('Country Name', inplace = True)"
   ]
  },
  {
   "cell_type": "code",
   "execution_count": 40,
   "metadata": {
    "ExecuteTime": {
     "end_time": "2020-12-09T08:04:15.772803Z",
     "start_time": "2020-12-09T08:04:15.760698Z"
    }
   },
   "outputs": [],
   "source": [
    "top_five = top_five.loc[:, '1960': '2015']\n",
    "last_five = last_five.loc[:, '1960': '2015']"
   ]
  },
  {
   "cell_type": "code",
   "execution_count": 41,
   "metadata": {
    "ExecuteTime": {
     "end_time": "2020-12-09T08:04:15.785959Z",
     "start_time": "2020-12-09T08:04:15.775278Z"
    }
   },
   "outputs": [],
   "source": [
    "# print(top_five)\n",
    "# print(last_five)"
   ]
  },
  {
   "cell_type": "code",
   "execution_count": 42,
   "metadata": {
    "ExecuteTime": {
     "end_time": "2020-12-09T08:04:16.883131Z",
     "start_time": "2020-12-09T08:04:15.788453Z"
    }
   },
   "outputs": [
    {
     "data": {
      "image/png": "[encoded data removed]",
      "text/plain": [
       "<Figure size 1080x720 with 1 Axes>"
      ]
     },
     "metadata": {
      "needs_background": "light"
     },
     "output_type": "display_data"
    }
   ],
   "source": [
    "plt.figure(figsize = (15,10))\n",
    "sns.lineplot(data = top_five.T)\n",
    "plt.title('The population growth of five countries')\n",
    "plt.xticks(rotation = 45)\n",
    "plt.show()"
   ]
  },
  {
   "cell_type": "code",
   "execution_count": 43,
   "metadata": {
    "ExecuteTime": {
     "end_time": "2020-12-09T08:04:17.821857Z",
     "start_time": "2020-12-09T08:04:16.886740Z"
    }
   },
   "outputs": [
    {
     "data": {
      "image/png": "[encoded data removed]",
      "text/plain": [
       "<Figure size 1080x720 with 1 Axes>"
      ]
     },
     "metadata": {
      "needs_background": "light"
     },
     "output_type": "display_data"
    }
   ],
   "source": [
    "plt.figure(figsize = (15,10))\n",
    "sns.lineplot(data = last_five.T)\n",
    "plt.title('The population growth of five countries')\n",
    "plt.xticks(rotation = 45)\n",
    "plt.show()"
   ]
  },
  {
   "cell_type": "markdown",
   "metadata": {},
   "source": [
    "### Rural and urban population"
   ]
  },
  {
   "cell_type": "code",
   "execution_count": 44,
   "metadata": {
    "ExecuteTime": {
     "end_time": "2020-12-09T08:04:17.842084Z",
     "start_time": "2020-12-09T08:04:17.828754Z"
    },
    "scrolled": true
   },
   "outputs": [],
   "source": [
    "pop_ru = pop_growth.loc[(pop_growth['Indicator Name'] == 'Rural population (% of total population)')| (pop_growth['Indicator Name'] == 'Urban population (% of total)')]\n",
    "#pop_ru\n"
   ]
  },
  {
   "cell_type": "code",
   "execution_count": 45,
   "metadata": {
    "ExecuteTime": {
     "end_time": "2020-12-09T08:04:17.867569Z",
     "start_time": "2020-12-09T08:04:17.846644Z"
    }
   },
   "outputs": [],
   "source": [
    "rural_urban = pop_ru[pop_ru['Country Name'].isin(['East Asia & Pacific', 'Europe & Central Asia', \n",
    "                                                  'Central Europe and the Baltics', 'Latin America & Caribbean', \n",
    "                                                  'Middle East & North Africa', 'North America','South Asia', 'Sub-Saharan Africa' ])]\n",
    "rural_urban = rural_urban.melt(id_vars = ['Country Name', 'Indicator Name'], var_name = 'Year', value_name = '% distribution')"
   ]
  },
  {
   "cell_type": "code",
   "execution_count": 66,
   "metadata": {
    "ExecuteTime": {
     "end_time": "2020-12-09T11:29:52.702516Z",
     "start_time": "2020-12-09T11:29:52.376702Z"
    }
   },
   "outputs": [
    {
     "data": {
      "application/vnd.plotly.v1+json": {
       "config": {
        "plotlyServerURL": "https://plot.ly"
       },
       "data": [
        {
         "alignmentgroup": "True",
         "hovertemplate": "Indicator Name=Rural population (% of total population)<br>Country Name=Central Europe and the Baltics<br>Year=%{x}<br>% distribution=%{y}<extra></extra>",
         "legendgroup": "Rural population (% of total population)",
         "marker": {
          "color": "blue"
         },
         "name": "Rural population (% of total population)",
         "offsetgroup": "Rural population (% of total population)",
         "orientation": "v",
         "showlegend": true,
         "textposition": "auto",
         "type": "bar",
         "x": [
          "1960",
          "1961",
          "1962",
          "1963",
          "1964",
          "1965",
          "1966",
          "1967",
          "1968",
          "1969",
          "1970",
          "1971",
          "1972",
          "1973",
          "1974",
          "1975",
          "1976",
          "1977",
          "1978",
          "1979",
          "1980",
          "1981",
          "1982",
          "1983",
          "1984",
          "1985",
          "1986",
          "1987",
          "1988",
          "1989",
          "1990",
          "1991",
          "1992",
          "1993",
          "1994",
          "1995",
          "1996",
          "1997",
          "1998",
          "1999",
          "2000",
          "2001",
          "2002",
          "2003",
          "2004",
          "2005",
          "2006",
          "2007",
          "2008",
          "2009",
          "2010",
          "2011",
          "2012",
          "2013",
          "2014",
          "2015"
         ],
         "xaxis": "x7",
         "y": [
          55.4920788609974,
          54.793334680806,
          54.133435303982,
          53.4659072336351,
          52.7912570196475,
          52.1196915570426,
          51.4949028082406,
          50.9322328641459,
          50.3613037501923,
          49.784342306678106,
          49.219590139543,
          48.5704335549471,
          47.8378940632429,
          47.1055285284582,
          46.3728255526618,
          45.6503469146172,
          44.938872987771205,
          44.2113137526202,
          43.4693316103428,
          42.786865477849496,
          42.177068838864,
          41.713309493260205,
          41.316436677102,
          40.918432969540895,
          40.519787379396796,
          40.1262647972259,
          39.7419134662103,
          39.3613863840054,
          38.97951147408379,
          38.687800379796705,
          38.479005518342206,
          38.2584607783748,
          38.1797121055688,
          38.22058975548121,
          38.248869187809,
          38.2840373964947,
          38.30418707959671,
          38.3383433696185,
          38.3671091775218,
          38.40492186516,
          38.4325607358728,
          38.4281942512109,
          38.3677391368699,
          38.3255995004185,
          38.2832496133194,
          38.2327702276193,
          38.1760491759287,
          38.1123658050857,
          38.0350070646192,
          37.9798402942359,
          37.9405831667341,
          37.9004829589211,
          37.858152650661104,
          37.802359602411705,
          37.7307170905411,
          37.6444500095714
         ],
         "yaxis": "y7"
        },
        {
         "alignmentgroup": "True",
         "hovertemplate": "Indicator Name=Rural population (% of total population)<br>Country Name=East Asia & Pacific<br>Year=%{x}<br>% distribution=%{y}<extra></extra>",
         "legendgroup": "Rural population (% of total population)",
         "marker": {
          "color": "blue"
         },
         "name": "Rural population (% of total population)",
         "offsetgroup": "Rural population (% of total population)",
         "orientation": "v",
         "showlegend": false,
         "textposition": "auto",
         "type": "bar",
         "x": [
          "1960",
          "1961",
          "1962",
          "1963",
          "1964",
          "1965",
          "1966",
          "1967",
          "1968",
          "1969",
          "1970",
          "1971",
          "1972",
          "1973",
          "1974",
          "1975",
          "1976",
          "1977",
          "1978",
          "1979",
          "1980",
          "1981",
          "1982",
          "1983",
          "1984",
          "1985",
          "1986",
          "1987",
          "1988",
          "1989",
          "1990",
          "1991",
          "1992",
          "1993",
          "1994",
          "1995",
          "1996",
          "1997",
          "1998",
          "1999",
          "2000",
          "2001",
          "2002",
          "2003",
          "2004",
          "2005",
          "2006",
          "2007",
          "2008",
          "2009",
          "2010",
          "2011",
          "2012",
          "2013",
          "2014",
          "2015"
         ],
         "xaxis": "x8",
         "y": [
          77.5285347244895,
          76.8774718735534,
          76.3484944603522,
          75.88167183287891,
          75.4044291373061,
          75.409742948404,
          75.41739047092909,
          75.37321930678209,
          75.3368222187909,
          75.23180237797379,
          75.15880041135101,
          75.0784216895393,
          74.9804714426098,
          74.82373177364892,
          74.54476352903029,
          74.4207067968647,
          74.2625524802642,
          74.0957865668657,
          73.7219589860101,
          73.1271679793867,
          72.5038870647644,
          71.84728533413642,
          71.19062076641409,
          70.62550963605091,
          70.04615275924189,
          69.4626166239605,
          68.8620759417315,
          68.2488366555305,
          67.6295430137001,
          66.9959478735545,
          66.349867771536,
          65.65636970116239,
          64.9435684713176,
          64.214732912802,
          63.466667869120904,
          62.704306552887104,
          61.932184024887896,
          61.163674613611796,
          60.3822208289356,
          59.5914814997493,
          58.7732755749631,
          57.7756516360507,
          56.68750580752971,
          55.598634880736896,
          54.5066572401007,
          53.416368405433104,
          52.3586470541953,
          51.31953594999129,
          50.2720922035748,
          49.23521407715611,
          48.2018448433029,
          47.178417852566795,
          46.1815077371755,
          45.2157583181754,
          44.279077879282,
          43.3707583216548
         ],
         "yaxis": "y8"
        },
        {
         "alignmentgroup": "True",
         "hovertemplate": "Indicator Name=Rural population (% of total population)<br>Country Name=Europe & Central Asia<br>Year=%{x}<br>% distribution=%{y}<extra></extra>",
         "legendgroup": "Rural population (% of total population)",
         "marker": {
          "color": "blue"
         },
         "name": "Rural population (% of total population)",
         "offsetgroup": "Rural population (% of total population)",
         "orientation": "v",
         "showlegend": false,
         "textposition": "auto",
         "type": "bar",
         "x": [
          "1960",
          "1961",
          "1962",
          "1963",
          "1964",
          "1965",
          "1966",
          "1967",
          "1968",
          "1969",
          "1970",
          "1971",
          "1972",
          "1973",
          "1974",
          "1975",
          "1976",
          "1977",
          "1978",
          "1979",
          "1980",
          "1981",
          "1982",
          "1983",
          "1984",
          "1985",
          "1986",
          "1987",
          "1988",
          "1989",
          "1990",
          "1991",
          "1992",
          "1993",
          "1994",
          "1995",
          "1996",
          "1997",
          "1998",
          "1999",
          "2000",
          "2001",
          "2002",
          "2003",
          "2004",
          "2005",
          "2006",
          "2007",
          "2008",
          "2009",
          "2010",
          "2011",
          "2012",
          "2013",
          "2014",
          "2015"
         ],
         "xaxis": "x5",
         "y": [
          44.619931383467204,
          44.08411785261249,
          43.54959832566879,
          42.988902474305604,
          42.4288410312724,
          41.859898369758795,
          41.2938652723958,
          40.74455463584329,
          40.214451991621104,
          39.714169113394604,
          39.2220306359956,
          38.7503271331501,
          38.2905606251803,
          37.8412876711895,
          37.401067553648296,
          36.992334211224104,
          36.606960633846,
          36.2170789084342,
          35.8231287791246,
          35.4687878036764,
          35.162165068498,
          34.8196638005178,
          34.5018515150972,
          34.1998685838146,
          33.9076474668423,
          33.625522494872,
          33.3484297719112,
          33.1094476557666,
          32.752381435781004,
          32.5473161755188,
          32.403175615158304,
          32.2844668280679,
          32.1998313411789,
          32.137029112224,
          32.0732155337843,
          32.0073986654512,
          31.946159198277698,
          31.8889931438283,
          31.8275519919468,
          31.755461915147702,
          31.6650869217628,
          31.5494079845482,
          31.386265446796198,
          31.216579716455602,
          31.0459568449987,
          30.871981054966398,
          30.6918892665317,
          30.5045838302337,
          30.322553798815605,
          30.153922801261896,
          29.992844260807,
          29.828334343238602,
          29.6621175060524,
          29.482513852971202,
          29.311328023470896,
          29.1292594240482
         ],
         "yaxis": "y5"
        },
        {
         "alignmentgroup": "True",
         "hovertemplate": "Indicator Name=Rural population (% of total population)<br>Country Name=Latin America & Caribbean<br>Year=%{x}<br>% distribution=%{y}<extra></extra>",
         "legendgroup": "Rural population (% of total population)",
         "marker": {
          "color": "blue"
         },
         "name": "Rural population (% of total population)",
         "offsetgroup": "Rural population (% of total population)",
         "orientation": "v",
         "showlegend": false,
         "textposition": "auto",
         "type": "bar",
         "x": [
          "1960",
          "1961",
          "1962",
          "1963",
          "1964",
          "1965",
          "1966",
          "1967",
          "1968",
          "1969",
          "1970",
          "1971",
          "1972",
          "1973",
          "1974",
          "1975",
          "1976",
          "1977",
          "1978",
          "1979",
          "1980",
          "1981",
          "1982",
          "1983",
          "1984",
          "1985",
          "1986",
          "1987",
          "1988",
          "1989",
          "1990",
          "1991",
          "1992",
          "1993",
          "1994",
          "1995",
          "1996",
          "1997",
          "1998",
          "1999",
          "2000",
          "2001",
          "2002",
          "2003",
          "2004",
          "2005",
          "2006",
          "2007",
          "2008",
          "2009",
          "2010",
          "2011",
          "2012",
          "2013",
          "2014",
          "2015"
         ],
         "xaxis": "x6",
         "y": [
          50.7166617057487,
          49.9278931948463,
          49.1286518865306,
          48.3268758022256,
          47.5193612725278,
          46.7580446085187,
          45.99650377976379,
          45.23559842042479,
          44.473724313645604,
          43.715595535947706,
          42.9627011251955,
          42.2034245961416,
          41.451185391502,
          40.7231522237172,
          40.0040197352213,
          39.2856589325425,
          38.5713415030254,
          37.8584363558316,
          37.1485180581666,
          36.4456183573769,
          35.7437979178931,
          35.057733063050605,
          34.400637265121006,
          33.7615135024906,
          33.1286784347884,
          32.5019564628762,
          31.8884844943887,
          31.286180080537,
          30.691803894977497,
          30.1101594782644,
          29.544520887455697,
          29.0127709244218,
          28.5038734104729,
          28.0070445298075,
          27.514679176441497,
          27.0309999873995,
          26.570010023242897,
          26.0994460496882,
          25.6320380923234,
          25.1808187158708,
          24.732164468163,
          24.3725233229465,
          24.0358198927052,
          23.706165526508897,
          23.378814501529003,
          23.0576067582241,
          22.741388798357,
          22.430311365644897,
          22.123512282763702,
          21.8220580750258,
          21.524028365392798,
          21.2301355334988,
          20.9427891241464,
          20.6617353388949,
          20.387059927929602,
          20.1189612639445
         ],
         "yaxis": "y6"
        },
        {
         "alignmentgroup": "True",
         "hovertemplate": "Indicator Name=Rural population (% of total population)<br>Country Name=Middle East & North Africa<br>Year=%{x}<br>% distribution=%{y}<extra></extra>",
         "legendgroup": "Rural population (% of total population)",
         "marker": {
          "color": "blue"
         },
         "name": "Rural population (% of total population)",
         "offsetgroup": "Rural population (% of total population)",
         "orientation": "v",
         "showlegend": false,
         "textposition": "auto",
         "type": "bar",
         "x": [
          "1960",
          "1961",
          "1962",
          "1963",
          "1964",
          "1965",
          "1966",
          "1967",
          "1968",
          "1969",
          "1970",
          "1971",
          "1972",
          "1973",
          "1974",
          "1975",
          "1976",
          "1977",
          "1978",
          "1979",
          "1980",
          "1981",
          "1982",
          "1983",
          "1984",
          "1985",
          "1986",
          "1987",
          "1988",
          "1989",
          "1990",
          "1991",
          "1992",
          "1993",
          "1994",
          "1995",
          "1996",
          "1997",
          "1998",
          "1999",
          "2000",
          "2001",
          "2002",
          "2003",
          "2004",
          "2005",
          "2006",
          "2007",
          "2008",
          "2009",
          "2010",
          "2011",
          "2012",
          "2013",
          "2014",
          "2015"
         ],
         "xaxis": "x3",
         "y": [
          65.0419314578378,
          64.2863253405333,
          63.520274078326,
          62.7438598503403,
          61.939846903303696,
          61.1052828144106,
          60.3178560432928,
          59.5881357678301,
          58.854977108661096,
          58.110540464515495,
          57.349419664001,
          56.6039842143308,
          55.847007654646795,
          55.075778944735404,
          54.3370800228438,
          53.6244070940985,
          52.923311283999396,
          52.275659125549005,
          51.6502459942541,
          51.030774111172896,
          50.404830398384895,
          49.7815705476237,
          49.1671783585449,
          48.560406706734,
          47.9662564324561,
          47.389828991951894,
          46.8218060807424,
          46.3480598236345,
          45.9524181995047,
          45.593194825627,
          45.135349674598,
          44.7690530638083,
          44.6788795890869,
          44.2690820271295,
          43.8735117249813,
          43.287053698607394,
          42.9538441824372,
          42.6022331274909,
          42.225410529658,
          41.836998781830104,
          41.4478906007651,
          41.062862262239705,
          40.6814838532672,
          40.29942651925929,
          39.9093630963565,
          39.499836561615794,
          39.0784354193505,
          38.6702961931379,
          38.271127870603706,
          37.876587178162104,
          37.4981845816261,
          37.1325481003666,
          36.7748958426646,
          36.4298855980374,
          36.0987719365559,
          35.7817198490255
         ],
         "yaxis": "y3"
        },
        {
         "alignmentgroup": "True",
         "hovertemplate": "Indicator Name=Rural population (% of total population)<br>Country Name=North America<br>Year=%{x}<br>% distribution=%{y}<extra></extra>",
         "legendgroup": "Rural population (% of total population)",
         "marker": {
          "color": "blue"
         },
         "name": "Rural population (% of total population)",
         "offsetgroup": "Rural population (% of total population)",
         "orientation": "v",
         "showlegend": false,
         "textposition": "auto",
         "type": "bar",
         "x": [
          "1960",
          "1961",
          "1962",
          "1963",
          "1964",
          "1965",
          "1966",
          "1967",
          "1968",
          "1969",
          "1970",
          "1971",
          "1972",
          "1973",
          "1974",
          "1975",
          "1976",
          "1977",
          "1978",
          "1979",
          "1980",
          "1981",
          "1982",
          "1983",
          "1984",
          "1985",
          "1986",
          "1987",
          "1988",
          "1989",
          "1990",
          "1991",
          "1992",
          "1993",
          "1994",
          "1995",
          "1996",
          "1997",
          "1998",
          "1999",
          "2000",
          "2001",
          "2002",
          "2003",
          "2004",
          "2005",
          "2006",
          "2007",
          "2008",
          "2009",
          "2010",
          "2011",
          "2012",
          "2013",
          "2014",
          "2015"
         ],
         "xaxis": "x4",
         "y": [
          30.0815974407808,
          29.680454760343103,
          29.260216288025397,
          28.8436345860842,
          28.430612346039,
          28.0212823603673,
          27.6173842951366,
          27.237801565864896,
          26.861450309928102,
          26.4887760983916,
          26.1983420998008,
          26.1469561913792,
          26.1481916770574,
          26.1492156331835,
          26.1501407391572,
          26.151210867975003,
          26.1520947765413,
          26.1389354225764,
          26.127047705763,
          26.114347204211303,
          26.068341559249,
          25.9260326926565,
          25.772692742364203,
          25.6197019150462,
          25.4685951945816,
          25.317674694523898,
          25.167775272377895,
          25.030861269036304,
          24.8940888766749,
          24.7586061526903,
          24.566317188989895,
          24.2018350287506,
          23.81905845903,
          23.4409138799684,
          23.0666241728753,
          22.6969088410063,
          22.328257963468598,
          21.9547154763839,
          21.5844133718082,
          21.218229365499898,
          20.8974751184739,
          20.7052587123659,
          20.5398549957004,
          20.3751898239288,
          20.210663860596302,
          20.0489551872713,
          19.885903672949,
          19.7146704581655,
          19.544420893481,
          19.3752477829605,
          19.2080153479123,
          19.0390811088005,
          18.8700660006041,
          18.7000442646102,
          18.5292383595206,
          18.3584742217048
         ],
         "yaxis": "y4"
        },
        {
         "alignmentgroup": "True",
         "hovertemplate": "Indicator Name=Rural population (% of total population)<br>Country Name=South Asia<br>Year=%{x}<br>% distribution=%{y}<extra></extra>",
         "legendgroup": "Rural population (% of total population)",
         "marker": {
          "color": "blue"
         },
         "name": "Rural population (% of total population)",
         "offsetgroup": "Rural population (% of total population)",
         "orientation": "v",
         "showlegend": false,
         "textposition": "auto",
         "type": "bar",
         "x": [
          "1960",
          "1961",
          "1962",
          "1963",
          "1964",
          "1965",
          "1966",
          "1967",
          "1968",
          "1969",
          "1970",
          "1971",
          "1972",
          "1973",
          "1974",
          "1975",
          "1976",
          "1977",
          "1978",
          "1979",
          "1980",
          "1981",
          "1982",
          "1983",
          "1984",
          "1985",
          "1986",
          "1987",
          "1988",
          "1989",
          "1990",
          "1991",
          "1992",
          "1993",
          "1994",
          "1995",
          "1996",
          "1997",
          "1998",
          "1999",
          "2000",
          "2001",
          "2002",
          "2003",
          "2004",
          "2005",
          "2006",
          "2007",
          "2008",
          "2009",
          "2010",
          "2011",
          "2012",
          "2013",
          "2014",
          "2015"
         ],
         "xaxis": "x",
         "y": [
          83.26445451776,
          83.13301890564391,
          82.94558968115909,
          82.75633883414879,
          82.561116065394,
          82.3655772126642,
          82.16843074700009,
          81.9691455568148,
          81.76655088626279,
          81.55851051168992,
          81.3430725972321,
          81.0956186981987,
          80.7703992455354,
          80.4388203124411,
          80.08815931140721,
          79.7083749101016,
          79.32191764292409,
          78.92777321527929,
          78.5240150555727,
          78.1089572182533,
          77.68364725641541,
          77.3090549028965,
          77.05719607378091,
          76.80219576113741,
          76.54466161296241,
          76.28636807752629,
          76.0263639325358,
          75.7652131176815,
          75.5022282907237,
          75.2382974371912,
          74.97464636669051,
          74.7241667161771,
          74.50150654028171,
          74.277839418271,
          74.0516665620848,
          73.82325952529891,
          73.5903362492802,
          73.354569328387,
          73.11614385725679,
          72.8749362828006,
          72.63142567047609,
          72.34825361601901,
          71.9965333859527,
          71.6406619797036,
          71.2792732153455,
          70.91382341469141,
          70.5432668854522,
          70.1671104079074,
          69.7858214739249,
          69.4016840674325,
          69.0137510203875,
          68.6214848577691,
          68.2209077997111,
          67.8128976372962,
          67.3966244277355,
          66.9717846941533
         ],
         "yaxis": "y"
        },
        {
         "alignmentgroup": "True",
         "hovertemplate": "Indicator Name=Rural population (% of total population)<br>Country Name=Sub-Saharan Africa<br>Year=%{x}<br>% distribution=%{y}<extra></extra>",
         "legendgroup": "Rural population (% of total population)",
         "marker": {
          "color": "blue"
         },
         "name": "Rural population (% of total population)",
         "offsetgroup": "Rural population (% of total population)",
         "orientation": "v",
         "showlegend": false,
         "textposition": "auto",
         "type": "bar",
         "x": [
          "1960",
          "1961",
          "1962",
          "1963",
          "1964",
          "1965",
          "1966",
          "1967",
          "1968",
          "1969",
          "1970",
          "1971",
          "1972",
          "1973",
          "1974",
          "1975",
          "1976",
          "1977",
          "1978",
          "1979",
          "1980",
          "1981",
          "1982",
          "1983",
          "1984",
          "1985",
          "1986",
          "1987",
          "1988",
          "1989",
          "1990",
          "1991",
          "1992",
          "1993",
          "1994",
          "1995",
          "1996",
          "1997",
          "1998",
          "1999",
          "2000",
          "2001",
          "2002",
          "2003",
          "2004",
          "2005",
          "2006",
          "2007",
          "2008",
          "2009",
          "2010",
          "2011",
          "2012",
          "2013",
          "2014",
          "2015"
         ],
         "xaxis": "x2",
         "y": [
          85.3686132659804,
          85.05241035533071,
          84.73963796999129,
          84.4145371228346,
          84.0787138503255,
          83.73518665559921,
          83.39738543107441,
          83.05192197090159,
          82.6964299857337,
          82.3289744623397,
          81.9688626880826,
          81.571481657132,
          81.16091549932992,
          80.74799395322799,
          80.3356870980469,
          79.9111864800458,
          79.4712752155105,
          79.03846056949841,
          78.59971418737709,
          78.2144419206785,
          77.8474416411225,
          77.4359058010077,
          77.01884260724171,
          76.5824093802318,
          76.11250106452779,
          75.606332436923,
          75.0848330547972,
          74.5680469052172,
          74.0517903533723,
          73.5396392369956,
          73.0068563809605,
          72.5594179915204,
          72.1251886678218,
          71.7026774011032,
          71.33514062735371,
          70.9805163000734,
          70.6334557362343,
          70.2810600693703,
          69.9381502674626,
          69.5900738272715,
          69.2346417509085,
          68.8227366976994,
          68.4132622120662,
          67.9932357216952,
          67.56607762476561,
          67.1265459994317,
          66.6804985863564,
          66.2246900278073,
          65.74499540448049,
          65.25988830806989,
          64.76758106745889,
          64.27175754956079,
          63.7722556718153,
          63.2707843046629,
          62.766712016116706,
          62.260637930148604
         ],
         "yaxis": "y2"
        },
        {
         "alignmentgroup": "True",
         "hovertemplate": "Indicator Name=Urban population (% of total)<br>Country Name=Central Europe and the Baltics<br>Year=%{x}<br>% distribution=%{y}<extra></extra>",
         "legendgroup": "Urban population (% of total)",
         "marker": {
          "color": "lightcoral"
         },
         "name": "Urban population (% of total)",
         "offsetgroup": "Urban population (% of total)",
         "orientation": "v",
         "showlegend": true,
         "textposition": "auto",
         "type": "bar",
         "x": [
          "1960",
          "1961",
          "1962",
          "1963",
          "1964",
          "1965",
          "1966",
          "1967",
          "1968",
          "1969",
          "1970",
          "1971",
          "1972",
          "1973",
          "1974",
          "1975",
          "1976",
          "1977",
          "1978",
          "1979",
          "1980",
          "1981",
          "1982",
          "1983",
          "1984",
          "1985",
          "1986",
          "1987",
          "1988",
          "1989",
          "1990",
          "1991",
          "1992",
          "1993",
          "1994",
          "1995",
          "1996",
          "1997",
          "1998",
          "1999",
          "2000",
          "2001",
          "2002",
          "2003",
          "2004",
          "2005",
          "2006",
          "2007",
          "2008",
          "2009",
          "2010",
          "2011",
          "2012",
          "2013",
          "2014",
          "2015"
         ],
         "xaxis": "x7",
         "y": [
          44.5079211390026,
          45.206665319193895,
          45.866564696018,
          46.534092766365006,
          47.2087429803526,
          47.8803084429574,
          48.5050971917594,
          49.0677671358541,
          49.6386962498077,
          50.215657693321894,
          50.780409860457,
          51.4295664450529,
          52.1621059367571,
          52.8944714715418,
          53.6271744473382,
          54.3496530853828,
          55.061127012228795,
          55.7886862473798,
          56.5306683896572,
          57.2131345221505,
          57.822931161136,
          58.286690506739795,
          58.683563322897996,
          59.0815670304591,
          59.4802126206032,
          59.8737352027742,
          60.2580865337897,
          60.63861361599461,
          61.02048852591621,
          61.312199620203295,
          61.5209944816578,
          61.7415392216252,
          61.8202878944312,
          61.77941024451879,
          61.751130812191,
          61.7159626035053,
          61.6958129204033,
          61.6616566303815,
          61.632890822478196,
          61.59507813484,
          61.56743926412721,
          61.5718057487891,
          61.6322608631301,
          61.6744004995815,
          61.7167503866807,
          61.7672297723807,
          61.82395082407129,
          61.88763419491429,
          61.9649929353809,
          62.0201597057641,
          62.05941683326589,
          62.099517041078904,
          62.141847349338995,
          62.1976403975883,
          62.269282909458894,
          62.3555499904286
         ],
         "yaxis": "y7"
        },
        {
         "alignmentgroup": "True",
         "hovertemplate": "Indicator Name=Urban population (% of total)<br>Country Name=East Asia & Pacific<br>Year=%{x}<br>% distribution=%{y}<extra></extra>",
         "legendgroup": "Urban population (% of total)",
         "marker": {
          "color": "lightcoral"
         },
         "name": "Urban population (% of total)",
         "offsetgroup": "Urban population (% of total)",
         "orientation": "v",
         "showlegend": false,
         "textposition": "auto",
         "type": "bar",
         "x": [
          "1960",
          "1961",
          "1962",
          "1963",
          "1964",
          "1965",
          "1966",
          "1967",
          "1968",
          "1969",
          "1970",
          "1971",
          "1972",
          "1973",
          "1974",
          "1975",
          "1976",
          "1977",
          "1978",
          "1979",
          "1980",
          "1981",
          "1982",
          "1983",
          "1984",
          "1985",
          "1986",
          "1987",
          "1988",
          "1989",
          "1990",
          "1991",
          "1992",
          "1993",
          "1994",
          "1995",
          "1996",
          "1997",
          "1998",
          "1999",
          "2000",
          "2001",
          "2002",
          "2003",
          "2004",
          "2005",
          "2006",
          "2007",
          "2008",
          "2009",
          "2010",
          "2011",
          "2012",
          "2013",
          "2014",
          "2015"
         ],
         "xaxis": "x8",
         "y": [
          22.471465275510504,
          23.1225281264466,
          23.651505539647797,
          24.1183281671211,
          24.595570862693897,
          24.590257051595998,
          24.582609529070897,
          24.626780693217896,
          24.6631777812091,
          24.7681976220262,
          24.841199588649,
          24.921578310460703,
          25.0195285573902,
          25.176268226351105,
          25.4552364709697,
          25.5792932031353,
          25.7374475197358,
          25.904213433134302,
          26.278041013989895,
          26.8728320206133,
          27.4961129352356,
          28.1527146658636,
          28.809379233585897,
          29.374490363949104,
          29.9538472407581,
          30.5373833760395,
          31.1379240582685,
          31.7511633444695,
          32.3704569862999,
          33.0040521264456,
          33.650132228463995,
          34.3436302988376,
          35.056431528682396,
          35.785267087198,
          36.5333321308791,
          37.295693447112896,
          38.0678159751121,
          38.836325386388104,
          39.6177791710644,
          40.4085185002507,
          41.2267244250369,
          42.2243483639493,
          43.31249419247029,
          44.401365119263204,
          45.4933427598993,
          46.583631594566896,
          47.6413529458048,
          48.68046405000871,
          49.7279077964252,
          50.76478592284389,
          51.7981551566971,
          52.821582147433205,
          53.8184922628245,
          54.7842416818246,
          55.720922120717894,
          56.6292416783452
         ],
         "yaxis": "y8"
        },
        {
         "alignmentgroup": "True",
         "hovertemplate": "Indicator Name=Urban population (% of total)<br>Country Name=Europe & Central Asia<br>Year=%{x}<br>% distribution=%{y}<extra></extra>",
         "legendgroup": "Urban population (% of total)",
         "marker": {
          "color": "lightcoral"
         },
         "name": "Urban population (% of total)",
         "offsetgroup": "Urban population (% of total)",
         "orientation": "v",
         "showlegend": false,
         "textposition": "auto",
         "type": "bar",
         "x": [
          "1960",
          "1961",
          "1962",
          "1963",
          "1964",
          "1965",
          "1966",
          "1967",
          "1968",
          "1969",
          "1970",
          "1971",
          "1972",
          "1973",
          "1974",
          "1975",
          "1976",
          "1977",
          "1978",
          "1979",
          "1980",
          "1981",
          "1982",
          "1983",
          "1984",
          "1985",
          "1986",
          "1987",
          "1988",
          "1989",
          "1990",
          "1991",
          "1992",
          "1993",
          "1994",
          "1995",
          "1996",
          "1997",
          "1998",
          "1999",
          "2000",
          "2001",
          "2002",
          "2003",
          "2004",
          "2005",
          "2006",
          "2007",
          "2008",
          "2009",
          "2010",
          "2011",
          "2012",
          "2013",
          "2014",
          "2015"
         ],
         "xaxis": "x5",
         "y": [
          55.380068616532796,
          55.91588214738751,
          56.45040167433121,
          57.011097525694396,
          57.571158968727595,
          58.140101630241205,
          58.7061347276042,
          59.25544536415671,
          59.785548008378896,
          60.285830886605396,
          60.7779693640044,
          61.2496728668499,
          61.70943937481971,
          62.15871232881061,
          62.5989324463517,
          63.0076657887759,
          63.39303936615401,
          63.7829210915658,
          64.1768712208754,
          64.53121219632361,
          64.837834931502,
          65.1803361994822,
          65.4981484849028,
          65.8001314161854,
          66.09235253315771,
          66.374477505128,
          66.6515702280888,
          66.8905523442334,
          67.247618564219,
          67.4526838244812,
          67.5968243848417,
          67.71553317193211,
          67.8001686588212,
          67.862970887776,
          67.92678446621571,
          67.9926013345488,
          68.0538408017223,
          68.1110068561717,
          68.17244800805321,
          68.2445380848523,
          68.3349130782372,
          68.45059201545179,
          68.6137345532038,
          68.7834202835444,
          68.9540431550013,
          69.1280189450336,
          69.3081107334683,
          69.49541616976629,
          69.6774462011844,
          69.8460771987381,
          70.007155739193,
          70.1716656567614,
          70.3378824939476,
          70.5174861470288,
          70.6886719765291,
          70.8707405759518
         ],
         "yaxis": "y5"
        },
        {
         "alignmentgroup": "True",
         "hovertemplate": "Indicator Name=Urban population (% of total)<br>Country Name=Latin America & Caribbean<br>Year=%{x}<br>% distribution=%{y}<extra></extra>",
         "legendgroup": "Urban population (% of total)",
         "marker": {
          "color": "lightcoral"
         },
         "name": "Urban population (% of total)",
         "offsetgroup": "Urban population (% of total)",
         "orientation": "v",
         "showlegend": false,
         "textposition": "auto",
         "type": "bar",
         "x": [
          "1960",
          "1961",
          "1962",
          "1963",
          "1964",
          "1965",
          "1966",
          "1967",
          "1968",
          "1969",
          "1970",
          "1971",
          "1972",
          "1973",
          "1974",
          "1975",
          "1976",
          "1977",
          "1978",
          "1979",
          "1980",
          "1981",
          "1982",
          "1983",
          "1984",
          "1985",
          "1986",
          "1987",
          "1988",
          "1989",
          "1990",
          "1991",
          "1992",
          "1993",
          "1994",
          "1995",
          "1996",
          "1997",
          "1998",
          "1999",
          "2000",
          "2001",
          "2002",
          "2003",
          "2004",
          "2005",
          "2006",
          "2007",
          "2008",
          "2009",
          "2010",
          "2011",
          "2012",
          "2013",
          "2014",
          "2015"
         ],
         "xaxis": "x6",
         "y": [
          49.2833382942513,
          50.0721068051537,
          50.8713481134694,
          51.6731241977744,
          52.4806387274722,
          53.2419553914813,
          54.0034962202363,
          54.76440157957521,
          55.526275686354396,
          56.284404464052294,
          57.0372988748045,
          57.7965754038584,
          58.548814608498,
          59.2768477762828,
          59.9959802647787,
          60.714341067457504,
          61.4286584969746,
          62.1415636441685,
          62.8514819418334,
          63.5543816426231,
          64.2562020821069,
          64.9422669369494,
          65.599362734879,
          66.2384864975095,
          66.8713215652115,
          67.49804353712379,
          68.1115155056113,
          68.71381991946299,
          69.3081961050225,
          69.88984052173561,
          70.45547911254441,
          70.9872290755782,
          71.4961265895271,
          71.9929554701925,
          72.4853208235585,
          72.9690000126005,
          73.4299899767571,
          73.90055395031179,
          74.36796190767659,
          74.8191812841292,
          75.267835531837,
          75.6274766770535,
          75.9641801072948,
          76.2938344734911,
          76.62118549847101,
          76.9423932417759,
          77.258611201643,
          77.5696886343551,
          77.8764877172363,
          78.1779419249742,
          78.4759716346072,
          78.7698644665012,
          79.0572108758536,
          79.33826466110509,
          79.6129400720704,
          79.8810387360555
         ],
         "yaxis": "y6"
        },
        {
         "alignmentgroup": "True",
         "hovertemplate": "Indicator Name=Urban population (% of total)<br>Country Name=Middle East & North Africa<br>Year=%{x}<br>% distribution=%{y}<extra></extra>",
         "legendgroup": "Urban population (% of total)",
         "marker": {
          "color": "lightcoral"
         },
         "name": "Urban population (% of total)",
         "offsetgroup": "Urban population (% of total)",
         "orientation": "v",
         "showlegend": false,
         "textposition": "auto",
         "type": "bar",
         "x": [
          "1960",
          "1961",
          "1962",
          "1963",
          "1964",
          "1965",
          "1966",
          "1967",
          "1968",
          "1969",
          "1970",
          "1971",
          "1972",
          "1973",
          "1974",
          "1975",
          "1976",
          "1977",
          "1978",
          "1979",
          "1980",
          "1981",
          "1982",
          "1983",
          "1984",
          "1985",
          "1986",
          "1987",
          "1988",
          "1989",
          "1990",
          "1991",
          "1992",
          "1993",
          "1994",
          "1995",
          "1996",
          "1997",
          "1998",
          "1999",
          "2000",
          "2001",
          "2002",
          "2003",
          "2004",
          "2005",
          "2006",
          "2007",
          "2008",
          "2009",
          "2010",
          "2011",
          "2012",
          "2013",
          "2014",
          "2015"
         ],
         "xaxis": "x3",
         "y": [
          34.9580685421622,
          35.713674659466704,
          36.479725921673996,
          37.25614014965979,
          38.0601530966963,
          38.8947171855894,
          39.6821439567072,
          40.4118642321699,
          41.1450228913388,
          41.8894595354845,
          42.6505803359991,
          43.3960157856692,
          44.152992345353205,
          44.924221055264596,
          45.6629199771562,
          46.3755929059015,
          47.076688716000604,
          47.724340874450995,
          48.349754005746,
          48.969225888827104,
          49.595169601615105,
          50.2184294523763,
          50.8328216414551,
          51.439593293266,
          52.0337435675439,
          52.610171008048106,
          53.1781939192576,
          53.6519401763655,
          54.0475818004953,
          54.406805174373,
          54.864650325402,
          55.2309469361917,
          55.3211204109131,
          55.7309179728705,
          56.1264882750187,
          56.712946301392606,
          57.046155817562706,
          57.397766872509095,
          57.774589470342,
          58.163001218169896,
          58.552109399234894,
          58.937137737760295,
          59.318516146732904,
          59.7005734807407,
          60.09063690364351,
          60.5001634383842,
          60.9215645806495,
          61.329703806862106,
          61.728872129396294,
          62.1234128218379,
          62.5018154183739,
          62.867451899633295,
          63.225104157335394,
          63.570114401962606,
          63.9012280634441,
          64.21828015097451
         ],
         "yaxis": "y3"
        },
        {
         "alignmentgroup": "True",
         "hovertemplate": "Indicator Name=Urban population (% of total)<br>Country Name=North America<br>Year=%{x}<br>% distribution=%{y}<extra></extra>",
         "legendgroup": "Urban population (% of total)",
         "marker": {
          "color": "lightcoral"
         },
         "name": "Urban population (% of total)",
         "offsetgroup": "Urban population (% of total)",
         "orientation": "v",
         "showlegend": false,
         "textposition": "auto",
         "type": "bar",
         "x": [
          "1960",
          "1961",
          "1962",
          "1963",
          "1964",
          "1965",
          "1966",
          "1967",
          "1968",
          "1969",
          "1970",
          "1971",
          "1972",
          "1973",
          "1974",
          "1975",
          "1976",
          "1977",
          "1978",
          "1979",
          "1980",
          "1981",
          "1982",
          "1983",
          "1984",
          "1985",
          "1986",
          "1987",
          "1988",
          "1989",
          "1990",
          "1991",
          "1992",
          "1993",
          "1994",
          "1995",
          "1996",
          "1997",
          "1998",
          "1999",
          "2000",
          "2001",
          "2002",
          "2003",
          "2004",
          "2005",
          "2006",
          "2007",
          "2008",
          "2009",
          "2010",
          "2011",
          "2012",
          "2013",
          "2014",
          "2015"
         ],
         "xaxis": "x4",
         "y": [
          69.9184025592192,
          70.31954523965689,
          70.7397837119746,
          71.1563654139158,
          71.569387653961,
          71.9787176396327,
          72.38261570486341,
          72.76219843413509,
          73.13854969007191,
          73.5112239016084,
          73.8016579001992,
          73.8530438086208,
          73.85180832294259,
          73.8507843668165,
          73.8498592608428,
          73.848789132025,
          73.8479052234587,
          73.86106457742359,
          73.87295229423701,
          73.8856527957887,
          73.931658440751,
          74.07396730734351,
          74.2273072576358,
          74.3802980849538,
          74.5314048054184,
          74.6823253054761,
          74.83222472762209,
          74.9691387309637,
          75.10591112332509,
          75.24139384730971,
          75.43368281101009,
          75.7981649712494,
          76.18094154097,
          76.5590861200316,
          76.9333758271247,
          77.3030911589937,
          77.67174203653141,
          78.04528452361609,
          78.41558662819179,
          78.78177063450009,
          79.10252488152621,
          79.2947412876341,
          79.46014500429959,
          79.62481017607121,
          79.7893361394037,
          79.9510448127287,
          80.114096327051,
          80.2853295418345,
          80.455579106519,
          80.6247522170395,
          80.7919846520877,
          80.9609188911995,
          81.1299339993958,
          81.2999557353898,
          81.47076164047941,
          81.6415257782952
         ],
         "yaxis": "y4"
        },
        {
         "alignmentgroup": "True",
         "hovertemplate": "Indicator Name=Urban population (% of total)<br>Country Name=South Asia<br>Year=%{x}<br>% distribution=%{y}<extra></extra>",
         "legendgroup": "Urban population (% of total)",
         "marker": {
          "color": "lightcoral"
         },
         "name": "Urban population (% of total)",
         "offsetgroup": "Urban population (% of total)",
         "orientation": "v",
         "showlegend": false,
         "textposition": "auto",
         "type": "bar",
         "x": [
          "1960",
          "1961",
          "1962",
          "1963",
          "1964",
          "1965",
          "1966",
          "1967",
          "1968",
          "1969",
          "1970",
          "1971",
          "1972",
          "1973",
          "1974",
          "1975",
          "1976",
          "1977",
          "1978",
          "1979",
          "1980",
          "1981",
          "1982",
          "1983",
          "1984",
          "1985",
          "1986",
          "1987",
          "1988",
          "1989",
          "1990",
          "1991",
          "1992",
          "1993",
          "1994",
          "1995",
          "1996",
          "1997",
          "1998",
          "1999",
          "2000",
          "2001",
          "2002",
          "2003",
          "2004",
          "2005",
          "2006",
          "2007",
          "2008",
          "2009",
          "2010",
          "2011",
          "2012",
          "2013",
          "2014",
          "2015"
         ],
         "xaxis": "x",
         "y": [
          16.73554548224,
          16.8669810943561,
          17.0544103188409,
          17.2436611658512,
          17.438883934606,
          17.6344227873358,
          17.8315692529999,
          18.0308544431852,
          18.233449113737198,
          18.4414894883101,
          18.6569274027679,
          18.9043813018013,
          19.229600754464602,
          19.561179687558898,
          19.9118406885928,
          20.2916250898984,
          20.678082357075898,
          21.0722267847207,
          21.4759849444272,
          21.891042781746698,
          22.3163527435846,
          22.690945097103402,
          22.9428039262191,
          23.1978042388626,
          23.455338387037603,
          23.7136319224737,
          23.9736360674642,
          24.234786882318502,
          24.4977717092763,
          24.7617025628088,
          25.025353633309603,
          25.275833283822898,
          25.4984934597183,
          25.722160581729003,
          25.948333437915203,
          26.1767404747011,
          26.4096637507198,
          26.645430671613003,
          26.8838561427433,
          27.125063717199396,
          27.3685743295239,
          27.651746383981,
          28.003466614047298,
          28.3593380202964,
          28.7207267846545,
          29.0861765853086,
          29.456733114547802,
          29.8328895920926,
          30.214178526075102,
          30.5983159325676,
          30.986248979612498,
          31.378515142230896,
          31.779092200288897,
          32.1871023627038,
          32.6033755722645,
          33.0282153058467
         ],
         "yaxis": "y"
        },
        {
         "alignmentgroup": "True",
         "hovertemplate": "Indicator Name=Urban population (% of total)<br>Country Name=Sub-Saharan Africa<br>Year=%{x}<br>% distribution=%{y}<extra></extra>",
         "legendgroup": "Urban population (% of total)",
         "marker": {
          "color": "lightcoral"
         },
         "name": "Urban population (% of total)",
         "offsetgroup": "Urban population (% of total)",
         "orientation": "v",
         "showlegend": false,
         "textposition": "auto",
         "type": "bar",
         "x": [
          "1960",
          "1961",
          "1962",
          "1963",
          "1964",
          "1965",
          "1966",
          "1967",
          "1968",
          "1969",
          "1970",
          "1971",
          "1972",
          "1973",
          "1974",
          "1975",
          "1976",
          "1977",
          "1978",
          "1979",
          "1980",
          "1981",
          "1982",
          "1983",
          "1984",
          "1985",
          "1986",
          "1987",
          "1988",
          "1989",
          "1990",
          "1991",
          "1992",
          "1993",
          "1994",
          "1995",
          "1996",
          "1997",
          "1998",
          "1999",
          "2000",
          "2001",
          "2002",
          "2003",
          "2004",
          "2005",
          "2006",
          "2007",
          "2008",
          "2009",
          "2010",
          "2011",
          "2012",
          "2013",
          "2014",
          "2015"
         ],
         "xaxis": "x2",
         "y": [
          14.6313867340196,
          14.947589644669302,
          15.2603620300087,
          15.585462877165401,
          15.921286149674499,
          16.264813344400803,
          16.6026145689256,
          16.9480780290984,
          17.3035700142662,
          17.671025537660302,
          18.031137311917398,
          18.428518342868,
          18.8390845006701,
          19.252006046772,
          19.6643129019531,
          20.0888135199542,
          20.5287247844895,
          20.961539430501603,
          21.400285812622897,
          21.7855580793215,
          22.152558358877503,
          22.5640941989923,
          22.981157392758302,
          23.417590619768198,
          23.8874989354722,
          24.393667563077003,
          24.9151669452027,
          25.431953094782802,
          25.9482096466277,
          26.4603607630044,
          26.9931436190395,
          27.4405820084796,
          27.874811332178197,
          28.2973225988967,
          28.664859372646298,
          29.0194836999266,
          29.366544263765697,
          29.7189399306297,
          30.061849732537397,
          30.4099261727285,
          30.765358249091502,
          31.1772633023007,
          31.586737787933803,
          32.0067642783048,
          32.433922375234395,
          32.8734540005683,
          33.3195014136436,
          33.775309972192694,
          34.2550045955195,
          34.7401116919301,
          35.2324189325411,
          35.728242450439204,
          36.227744328184706,
          36.7292156953371,
          37.233287983883294,
          37.739362069851396
         ],
         "yaxis": "y2"
        }
       ],
       "layout": {
        "annotations": [
         {
          "font": {},
          "showarrow": false,
          "text": "Country Name=South Asia",
          "x": 0.245,
          "xanchor": "center",
          "xref": "paper",
          "y": 0.1975,
          "yanchor": "bottom",
          "yref": "paper"
         },
         {
          "font": {},
          "showarrow": false,
          "text": "Country Name=Sub-Saharan Africa",
          "x": 0.755,
          "xanchor": "center",
          "xref": "paper",
          "y": 0.1975,
          "yanchor": "bottom",
          "yref": "paper"
         },
         {
          "font": {},
          "showarrow": false,
          "text": "Country Name=Middle East & North Africa",
          "x": 0.245,
          "xanchor": "center",
          "xref": "paper",
          "y": 0.465,
          "yanchor": "bottom",
          "yref": "paper"
         },
         {
          "font": {},
          "showarrow": false,
          "text": "Country Name=North America",
          "x": 0.755,
          "xanchor": "center",
          "xref": "paper",
          "y": 0.465,
          "yanchor": "bottom",
          "yref": "paper"
         },
         {
          "font": {},
          "showarrow": false,
          "text": "Country Name=Europe & Central Asia",
          "x": 0.245,
          "xanchor": "center",
          "xref": "paper",
          "y": 0.7325,
          "yanchor": "bottom",
          "yref": "paper"
         },
         {
          "font": {},
          "showarrow": false,
          "text": "Country Name=Latin America & Caribbean",
          "x": 0.755,
          "xanchor": "center",
          "xref": "paper",
          "y": 0.7325,
          "yanchor": "bottom",
          "yref": "paper"
         },
         {
          "font": {},
          "showarrow": false,
          "text": "Country Name=Central Europe and the Baltics",
          "x": 0.245,
          "xanchor": "center",
          "xref": "paper",
          "y": 1,
          "yanchor": "bottom",
          "yref": "paper"
         },
         {
          "font": {},
          "showarrow": false,
          "text": "Country Name=East Asia & Pacific",
          "x": 0.755,
          "xanchor": "center",
          "xref": "paper",
          "y": 1,
          "yanchor": "bottom",
          "yref": "paper"
         }
        ],
        "barmode": "relative",
        "height": 1200,
        "legend": {
         "title": {
          "text": "Indicator Name"
         },
         "tracegroupgap": 0
        },
        "template": {
         "data": {
          "bar": [
           {
            "error_x": {
             "color": "#2a3f5f"
            },
            "error_y": {
             "color": "#2a3f5f"
            },
            "marker": {
             "line": {
              "color": "#E5ECF6",
              "width": 0.5
             }
            },
            "type": "bar"
           }
          ],
          "barpolar": [
           {
            "marker": {
             "line": {
              "color": "#E5ECF6",
              "width": 0.5
             }
            },
            "type": "barpolar"
           }
          ],
          "carpet": [
           {
            "aaxis": {
             "endlinecolor": "#2a3f5f",
             "gridcolor": "white",
             "linecolor": "white",
             "minorgridcolor": "white",
             "startlinecolor": "#2a3f5f"
            },
            "baxis": {
             "endlinecolor": "#2a3f5f",
             "gridcolor": "white",
             "linecolor": "white",
             "minorgridcolor": "white",
             "startlinecolor": "#2a3f5f"
            },
            "type": "carpet"
           }
          ],
          "choropleth": [
           {
            "colorbar": {
             "outlinewidth": 0,
             "ticks": ""
            },
            "type": "choropleth"
           }
          ],
          "contour": [
           {
            "colorbar": {
             "outlinewidth": 0,
             "ticks": ""
            },
            "colorscale": [
             [
              0,
              "#0d0887"
             ],
             [
              0.1111111111111111,
              "#46039f"
             ],
             [
              0.2222222222222222,
              "#7201a8"
             ],
             [
              0.3333333333333333,
              "#9c179e"
             ],
             [
              0.4444444444444444,
              "#bd3786"
             ],
             [
              0.5555555555555556,
              "#d8576b"
             ],
             [
              0.6666666666666666,
              "#ed7953"
             ],
             [
              0.7777777777777778,
              "#fb9f3a"
             ],
             [
              0.8888888888888888,
              "#fdca26"
             ],
             [
              1,
              "#f0f921"
             ]
            ],
            "type": "contour"
           }
          ],
          "contourcarpet": [
           {
            "colorbar": {
             "outlinewidth": 0,
             "ticks": ""
            },
            "type": "contourcarpet"
           }
          ],
          "heatmap": [
           {
            "colorbar": {
             "outlinewidth": 0,
             "ticks": ""
            },
            "colorscale": [
             [
              0,
              "#0d0887"
             ],
             [
              0.1111111111111111,
              "#46039f"
             ],
             [
              0.2222222222222222,
              "#7201a8"
             ],
             [
              0.3333333333333333,
              "#9c179e"
             ],
             [
              0.4444444444444444,
              "#bd3786"
             ],
             [
              0.5555555555555556,
              "#d8576b"
             ],
             [
              0.6666666666666666,
              "#ed7953"
             ],
             [
              0.7777777777777778,
              "#fb9f3a"
             ],
             [
              0.8888888888888888,
              "#fdca26"
             ],
             [
              1,
              "#f0f921"
             ]
            ],
            "type": "heatmap"
           }
          ],
          "heatmapgl": [
           {
            "colorbar": {
             "outlinewidth": 0,
             "ticks": ""
            },
            "colorscale": [
             [
              0,
              "#0d0887"
             ],
             [
              0.1111111111111111,
              "#46039f"
             ],
             [
              0.2222222222222222,
              "#7201a8"
             ],
             [
              0.3333333333333333,
              "#9c179e"
             ],
             [
              0.4444444444444444,
              "#bd3786"
             ],
             [
              0.5555555555555556,
              "#d8576b"
             ],
             [
              0.6666666666666666,
              "#ed7953"
             ],
             [
              0.7777777777777778,
              "#fb9f3a"
             ],
             [
              0.8888888888888888,
              "#fdca26"
             ],
             [
              1,
              "#f0f921"
             ]
            ],
            "type": "heatmapgl"
           }
          ],
          "histogram": [
           {
            "marker": {
             "colorbar": {
              "outlinewidth": 0,
              "ticks": ""
             }
            },
            "type": "histogram"
           }
          ],
          "histogram2d": [
           {
            "colorbar": {
             "outlinewidth": 0,
             "ticks": ""
            },
            "colorscale": [
             [
              0,
              "#0d0887"
             ],
             [
              0.1111111111111111,
              "#46039f"
             ],
             [
              0.2222222222222222,
              "#7201a8"
             ],
             [
              0.3333333333333333,
              "#9c179e"
             ],
             [
              0.4444444444444444,
              "#bd3786"
             ],
             [
              0.5555555555555556,
              "#d8576b"
             ],
             [
              0.6666666666666666,
              "#ed7953"
             ],
             [
              0.7777777777777778,
              "#fb9f3a"
             ],
             [
              0.8888888888888888,
              "#fdca26"
             ],
             [
              1,
              "#f0f921"
             ]
            ],
            "type": "histogram2d"
           }
          ],
          "histogram2dcontour": [
           {
            "colorbar": {
             "outlinewidth": 0,
             "ticks": ""
            },
            "colorscale": [
             [
              0,
              "#0d0887"
             ],
             [
              0.1111111111111111,
              "#46039f"
             ],
             [
              0.2222222222222222,
              "#7201a8"
             ],
             [
              0.3333333333333333,
              "#9c179e"
             ],
             [
              0.4444444444444444,
              "#bd3786"
             ],
             [
              0.5555555555555556,
              "#d8576b"
             ],
             [
              0.6666666666666666,
              "#ed7953"
             ],
             [
              0.7777777777777778,
              "#fb9f3a"
             ],
             [
              0.8888888888888888,
              "#fdca26"
             ],
             [
              1,
              "#f0f921"
             ]
            ],
            "type": "histogram2dcontour"
           }
          ],
          "mesh3d": [
           {
            "colorbar": {
             "outlinewidth": 0,
             "ticks": ""
            },
            "type": "mesh3d"
           }
          ],
          "parcoords": [
           {
            "line": {
             "colorbar": {
              "outlinewidth": 0,
              "ticks": ""
             }
            },
            "type": "parcoords"
           }
          ],
          "pie": [
           {
            "automargin": true,
            "type": "pie"
           }
          ],
          "scatter": [
           {
            "marker": {
             "colorbar": {
              "outlinewidth": 0,
              "ticks": ""
             }
            },
            "type": "scatter"
           }
          ],
          "scatter3d": [
           {
            "line": {
             "colorbar": {
              "outlinewidth": 0,
              "ticks": ""
             }
            },
            "marker": {
             "colorbar": {
              "outlinewidth": 0,
              "ticks": ""
             }
            },
            "type": "scatter3d"
           }
          ],
          "scattercarpet": [
           {
            "marker": {
             "colorbar": {
              "outlinewidth": 0,
              "ticks": ""
             }
            },
            "type": "scattercarpet"
           }
          ],
          "scattergeo": [
           {
            "marker": {
             "colorbar": {
              "outlinewidth": 0,
              "ticks": ""
             }
            },
            "type": "scattergeo"
           }
          ],
          "scattergl": [
           {
            "marker": {
             "colorbar": {
              "outlinewidth": 0,
              "ticks": ""
             }
            },
            "type": "scattergl"
           }
          ],
          "scattermapbox": [
           {
            "marker": {
             "colorbar": {
              "outlinewidth": 0,
              "ticks": ""
             }
            },
            "type": "scattermapbox"
           }
          ],
          "scatterpolar": [
           {
            "marker": {
             "colorbar": {
              "outlinewidth": 0,
              "ticks": ""
             }
            },
            "type": "scatterpolar"
           }
          ],
          "scatterpolargl": [
           {
            "marker": {
             "colorbar": {
              "outlinewidth": 0,
              "ticks": ""
             }
            },
            "type": "scatterpolargl"
           }
          ],
          "scatterternary": [
           {
            "marker": {
             "colorbar": {
              "outlinewidth": 0,
              "ticks": ""
             }
            },
            "type": "scatterternary"
           }
          ],
          "surface": [
           {
            "colorbar": {
             "outlinewidth": 0,
             "ticks": ""
            },
            "colorscale": [
             [
              0,
              "#0d0887"
             ],
             [
              0.1111111111111111,
              "#46039f"
             ],
             [
              0.2222222222222222,
              "#7201a8"
             ],
             [
              0.3333333333333333,
              "#9c179e"
             ],
             [
              0.4444444444444444,
              "#bd3786"
             ],
             [
              0.5555555555555556,
              "#d8576b"
             ],
             [
              0.6666666666666666,
              "#ed7953"
             ],
             [
              0.7777777777777778,
              "#fb9f3a"
             ],
             [
              0.8888888888888888,
              "#fdca26"
             ],
             [
              1,
              "#f0f921"
             ]
            ],
            "type": "surface"
           }
          ],
          "table": [
           {
            "cells": {
             "fill": {
              "color": "#EBF0F8"
             },
             "line": {
              "color": "white"
             }
            },
            "header": {
             "fill": {
              "color": "#C8D4E3"
             },
             "line": {
              "color": "white"
             }
            },
            "type": "table"
           }
          ]
         },
         "layout": {
          "annotationdefaults": {
           "arrowcolor": "#2a3f5f",
           "arrowhead": 0,
           "arrowwidth": 1
          },
          "coloraxis": {
           "colorbar": {
            "outlinewidth": 0,
            "ticks": ""
           }
          },
          "colorscale": {
           "diverging": [
            [
             0,
             "#8e0152"
            ],
            [
             0.1,
             "#c51b7d"
            ],
            [
             0.2,
             "#de77ae"
            ],
            [
             0.3,
             "#f1b6da"
            ],
            [
             0.4,
             "#fde0ef"
            ],
            [
             0.5,
             "#f7f7f7"
            ],
            [
             0.6,
             "#e6f5d0"
            ],
            [
             0.7,
             "#b8e186"
            ],
            [
             0.8,
             "#7fbc41"
            ],
            [
             0.9,
             "#4d9221"
            ],
            [
             1,
             "#276419"
            ]
           ],
           "sequential": [
            [
             0,
             "#0d0887"
            ],
            [
             0.1111111111111111,
             "#46039f"
            ],
            [
             0.2222222222222222,
             "#7201a8"
            ],
            [
             0.3333333333333333,
             "#9c179e"
            ],
            [
             0.4444444444444444,
             "#bd3786"
            ],
            [
             0.5555555555555556,
             "#d8576b"
            ],
            [
             0.6666666666666666,
             "#ed7953"
            ],
            [
             0.7777777777777778,
             "#fb9f3a"
            ],
            [
             0.8888888888888888,
             "#fdca26"
            ],
            [
             1,
             "#f0f921"
            ]
           ],
           "sequentialminus": [
            [
             0,
             "#0d0887"
            ],
            [
             0.1111111111111111,
             "#46039f"
            ],
            [
             0.2222222222222222,
             "#7201a8"
            ],
            [
             0.3333333333333333,
             "#9c179e"
            ],
            [
             0.4444444444444444,
             "#bd3786"
            ],
            [
             0.5555555555555556,
             "#d8576b"
            ],
            [
             0.6666666666666666,
             "#ed7953"
            ],
            [
             0.7777777777777778,
             "#fb9f3a"
            ],
            [
             0.8888888888888888,
             "#fdca26"
            ],
            [
             1,
             "#f0f921"
            ]
           ]
          },
          "colorway": [
           "#636efa",
           "#EF553B",
           "#00cc96",
           "#ab63fa",
           "#FFA15A",
           "#19d3f3",
           "#FF6692",
           "#B6E880",
           "#FF97FF",
           "#FECB52"
          ],
          "font": {
           "color": "#2a3f5f"
          },
          "geo": {
           "bgcolor": "white",
           "lakecolor": "white",
           "landcolor": "#E5ECF6",
           "showlakes": true,
           "showland": true,
           "subunitcolor": "white"
          },
          "hoverlabel": {
           "align": "left"
          },
          "hovermode": "closest",
          "mapbox": {
           "style": "light"
          },
          "paper_bgcolor": "white",
          "plot_bgcolor": "#E5ECF6",
          "polar": {
           "angularaxis": {
            "gridcolor": "white",
            "linecolor": "white",
            "ticks": ""
           },
           "bgcolor": "#E5ECF6",
           "radialaxis": {
            "gridcolor": "white",
            "linecolor": "white",
            "ticks": ""
           }
          },
          "scene": {
           "xaxis": {
            "backgroundcolor": "#E5ECF6",
            "gridcolor": "white",
            "gridwidth": 2,
            "linecolor": "white",
            "showbackground": true,
            "ticks": "",
            "zerolinecolor": "white"
           },
           "yaxis": {
            "backgroundcolor": "#E5ECF6",
            "gridcolor": "white",
            "gridwidth": 2,
            "linecolor": "white",
            "showbackground": true,
            "ticks": "",
            "zerolinecolor": "white"
           },
           "zaxis": {
            "backgroundcolor": "#E5ECF6",
            "gridcolor": "white",
            "gridwidth": 2,
            "linecolor": "white",
            "showbackground": true,
            "ticks": "",
            "zerolinecolor": "white"
           }
          },
          "shapedefaults": {
           "line": {
            "color": "#2a3f5f"
           }
          },
          "ternary": {
           "aaxis": {
            "gridcolor": "white",
            "linecolor": "white",
            "ticks": ""
           },
           "baxis": {
            "gridcolor": "white",
            "linecolor": "white",
            "ticks": ""
           },
           "bgcolor": "#E5ECF6",
           "caxis": {
            "gridcolor": "white",
            "linecolor": "white",
            "ticks": ""
           }
          },
          "title": {
           "x": 0.05
          },
          "xaxis": {
           "automargin": true,
           "gridcolor": "white",
           "linecolor": "white",
           "ticks": "",
           "title": {
            "standoff": 15
           },
           "zerolinecolor": "white",
           "zerolinewidth": 2
          },
          "yaxis": {
           "automargin": true,
           "gridcolor": "white",
           "linecolor": "white",
           "ticks": "",
           "title": {
            "standoff": 15
           },
           "zerolinecolor": "white",
           "zerolinewidth": 2
          }
         }
        },
        "title": {
         "text": "Rural and urban population by areas"
        },
        "width": 1200,
        "xaxis": {
         "anchor": "y",
         "domain": [
          0,
          0.49
         ],
         "title": {
          "text": "Year"
         }
        },
        "xaxis2": {
         "anchor": "y2",
         "domain": [
          0.51,
          1
         ],
         "matches": "x",
         "title": {
          "text": "Year"
         }
        },
        "xaxis3": {
         "anchor": "y3",
         "domain": [
          0,
          0.49
         ],
         "matches": "x",
         "showticklabels": false
        },
        "xaxis4": {
         "anchor": "y4",
         "domain": [
          0.51,
          1
         ],
         "matches": "x",
         "showticklabels": false
        },
        "xaxis5": {
         "anchor": "y5",
         "domain": [
          0,
          0.49
         ],
         "matches": "x",
         "showticklabels": false
        },
        "xaxis6": {
         "anchor": "y6",
         "domain": [
          0.51,
          1
         ],
         "matches": "x",
         "showticklabels": false
        },
        "xaxis7": {
         "anchor": "y7",
         "domain": [
          0,
          0.49
         ],
         "matches": "x",
         "showticklabels": false
        },
        "xaxis8": {
         "anchor": "y8",
         "domain": [
          0.51,
          1
         ],
         "matches": "x",
         "showticklabels": false
        },
        "yaxis": {
         "anchor": "x",
         "domain": [
          0,
          0.1975
         ],
         "title": {
          "text": "% distribution"
         }
        },
        "yaxis2": {
         "anchor": "x2",
         "domain": [
          0,
          0.1975
         ],
         "matches": "y",
         "showticklabels": false
        },
        "yaxis3": {
         "anchor": "x3",
         "domain": [
          0.2675,
          0.465
         ],
         "matches": "y",
         "title": {
          "text": "% distribution"
         }
        },
        "yaxis4": {
         "anchor": "x4",
         "domain": [
          0.2675,
          0.465
         ],
         "matches": "y",
         "showticklabels": false
        },
        "yaxis5": {
         "anchor": "x5",
         "domain": [
          0.535,
          0.7325
         ],
         "matches": "y",
         "title": {
          "text": "% distribution"
         }
        },
        "yaxis6": {
         "anchor": "x6",
         "domain": [
          0.535,
          0.7325
         ],
         "matches": "y",
         "showticklabels": false
        },
        "yaxis7": {
         "anchor": "x7",
         "domain": [
          0.8025,
          1
         ],
         "matches": "y",
         "title": {
          "text": "% distribution"
         }
        },
        "yaxis8": {
         "anchor": "x8",
         "domain": [
          0.8025,
          1
         ],
         "matches": "y",
         "showticklabels": false
        }
       }
      },
      "text/html": [
       "<div>                            <div id=\"b625e714-a8b5-4b9c-a294-52873ef48f30\" class=\"plotly-graph-div\" style=\"height:1200px; width:1200px;\"></div>            <script type=\"text/javascript\">                require([\"plotly\"], function(Plotly) {                    window.PLOTLYENV=window.PLOTLYENV || {};                                    if (document.getElementById(\"b625e714-a8b5-4b9c-a294-52873ef48f30\")) {                    Plotly.newPlot(                        \"b625e714-a8b5-4b9c-a294-52873ef48f30\",                        [{\"alignmentgroup\": \"True\", \"hovertemplate\": \"Indicator Name=Rural population (% of total population)<br>Country Name=Central Europe and the Baltics<br>Year=%{x}<br>% distribution=%{y}<extra></extra>\", \"legendgroup\": \"Rural population (% of total population)\", \"marker\": {\"color\": \"blue\"}, \"name\": \"Rural population (% of total population)\", \"offsetgroup\": \"Rural population (% of total population)\", \"orientation\": \"v\", \"showlegend\": true, \"textposition\": \"auto\", \"type\": \"bar\", \"x\": [\"1960\", \"1961\", \"1962\", \"1963\", \"1964\", \"1965\", \"1966\", \"1967\", \"1968\", \"1969\", \"1970\", \"1971\", \"1972\", \"1973\", \"1974\", \"1975\", \"1976\", \"1977\", \"1978\", \"1979\", \"1980\", \"1981\", \"1982\", \"1983\", \"1984\", \"1985\", \"1986\", \"1987\", \"1988\", \"1989\", \"1990\", \"1991\", \"1992\", \"1993\", \"1994\", \"1995\", \"1996\", \"1997\", \"1998\", \"1999\", \"2000\", \"2001\", \"2002\", \"2003\", \"2004\", \"2005\", \"2006\", \"2007\", \"2008\", \"2009\", \"2010\", \"2011\", \"2012\", \"2013\", \"2014\", \"2015\"], \"xaxis\": \"x7\", \"y\": [55.4920788609974, 54.793334680806, 54.133435303982, 53.4659072336351, 52.7912570196475, 52.1196915570426, 51.4949028082406, 50.9322328641459, 50.3613037501923, 49.784342306678106, 49.219590139543, 48.5704335549471, 47.8378940632429, 47.1055285284582, 46.3728255526618, 45.6503469146172, 44.938872987771205, 44.2113137526202, 43.4693316103428, 42.786865477849496, 42.177068838864, 41.713309493260205, 41.316436677102, 40.918432969540895, 40.519787379396796, 40.1262647972259, 39.7419134662103, 39.3613863840054, 38.97951147408379, 38.687800379796705, 38.479005518342206, 38.2584607783748, 38.1797121055688, 38.22058975548121, 38.248869187809, 38.2840373964947, 38.30418707959671, 38.3383433696185, 38.3671091775218, 38.40492186516, 38.4325607358728, 38.4281942512109, 38.3677391368699, 38.3255995004185, 38.2832496133194, 38.2327702276193, 38.1760491759287, 38.1123658050857, 38.0350070646192, 37.9798402942359, 37.9405831667341, 37.9004829589211, 37.858152650661104, 37.802359602411705, 37.7307170905411, 37.6444500095714], \"yaxis\": \"y7\"}, {\"alignmentgroup\": \"True\", \"hovertemplate\": \"Indicator Name=Rural population (% of total population)<br>Country Name=East Asia & Pacific<br>Year=%{x}<br>% distribution=%{y}<extra></extra>\", \"legendgroup\": \"Rural population (% of total population)\", \"marker\": {\"color\": \"blue\"}, \"name\": \"Rural population (% of total population)\", \"offsetgroup\": \"Rural population (% of total population)\", \"orientation\": \"v\", \"showlegend\": false, \"textposition\": \"auto\", \"type\": \"bar\", \"x\": [\"1960\", \"1961\", \"1962\", \"1963\", \"1964\", \"1965\", \"1966\", \"1967\", \"1968\", \"1969\", \"1970\", \"1971\", \"1972\", \"1973\", \"1974\", \"1975\", \"1976\", \"1977\", \"1978\", \"1979\", \"1980\", \"1981\", \"1982\", \"1983\", \"1984\", \"1985\", \"1986\", \"1987\", \"1988\", \"1989\", \"1990\", \"1991\", \"1992\", \"1993\", \"1994\", \"1995\", \"1996\", \"1997\", \"1998\", \"1999\", \"2000\", \"2001\", \"2002\", \"2003\", \"2004\", \"2005\", \"2006\", \"2007\", \"2008\", \"2009\", \"2010\", \"2011\", \"2012\", \"2013\", \"2014\", \"2015\"], \"xaxis\": \"x8\", \"y\": [77.5285347244895, 76.8774718735534, 76.3484944603522, 75.88167183287891, 75.4044291373061, 75.409742948404, 75.41739047092909, 75.37321930678209, 75.3368222187909, 75.23180237797379, 75.15880041135101, 75.0784216895393, 74.9804714426098, 74.82373177364892, 74.54476352903029, 74.4207067968647, 74.2625524802642, 74.0957865668657, 73.7219589860101, 73.1271679793867, 72.5038870647644, 71.84728533413642, 71.19062076641409, 70.62550963605091, 70.04615275924189, 69.4626166239605, 68.8620759417315, 68.2488366555305, 67.6295430137001, 66.9959478735545, 66.349867771536, 65.65636970116239, 64.9435684713176, 64.214732912802, 63.466667869120904, 62.704306552887104, 61.932184024887896, 61.163674613611796, 60.3822208289356, 59.5914814997493, 58.7732755749631, 57.7756516360507, 56.68750580752971, 55.598634880736896, 54.5066572401007, 53.416368405433104, 52.3586470541953, 51.31953594999129, 50.2720922035748, 49.23521407715611, 48.2018448433029, 47.178417852566795, 46.1815077371755, 45.2157583181754, 44.279077879282, 43.3707583216548], \"yaxis\": \"y8\"}, {\"alignmentgroup\": \"True\", \"hovertemplate\": \"Indicator Name=Rural population (% of total population)<br>Country Name=Europe & Central Asia<br>Year=%{x}<br>% distribution=%{y}<extra></extra>\", \"legendgroup\": \"Rural population (% of total population)\", \"marker\": {\"color\": \"blue\"}, \"name\": \"Rural population (% of total population)\", \"offsetgroup\": \"Rural population (% of total population)\", \"orientation\": \"v\", \"showlegend\": false, \"textposition\": \"auto\", \"type\": \"bar\", \"x\": [\"1960\", \"1961\", \"1962\", \"1963\", \"1964\", \"1965\", \"1966\", \"1967\", \"1968\", \"1969\", \"1970\", \"1971\", \"1972\", \"1973\", \"1974\", \"1975\", \"1976\", \"1977\", \"1978\", \"1979\", \"1980\", \"1981\", \"1982\", \"1983\", \"1984\", \"1985\", \"1986\", \"1987\", \"1988\", \"1989\", \"1990\", \"1991\", \"1992\", \"1993\", \"1994\", \"1995\", \"1996\", \"1997\", \"1998\", \"1999\", \"2000\", \"2001\", \"2002\", \"2003\", \"2004\", \"2005\", \"2006\", \"2007\", \"2008\", \"2009\", \"2010\", \"2011\", \"2012\", \"2013\", \"2014\", \"2015\"], \"xaxis\": \"x5\", \"y\": [44.619931383467204, 44.08411785261249, 43.54959832566879, 42.988902474305604, 42.4288410312724, 41.859898369758795, 41.2938652723958, 40.74455463584329, 40.214451991621104, 39.714169113394604, 39.2220306359956, 38.7503271331501, 38.2905606251803, 37.8412876711895, 37.401067553648296, 36.992334211224104, 36.606960633846, 36.2170789084342, 35.8231287791246, 35.4687878036764, 35.162165068498, 34.8196638005178, 34.5018515150972, 34.1998685838146, 33.9076474668423, 33.625522494872, 33.3484297719112, 33.1094476557666, 32.752381435781004, 32.5473161755188, 32.403175615158304, 32.2844668280679, 32.1998313411789, 32.137029112224, 32.0732155337843, 32.0073986654512, 31.946159198277698, 31.8889931438283, 31.8275519919468, 31.755461915147702, 31.6650869217628, 31.5494079845482, 31.386265446796198, 31.216579716455602, 31.0459568449987, 30.871981054966398, 30.6918892665317, 30.5045838302337, 30.322553798815605, 30.153922801261896, 29.992844260807, 29.828334343238602, 29.6621175060524, 29.482513852971202, 29.311328023470896, 29.1292594240482], \"yaxis\": \"y5\"}, {\"alignmentgroup\": \"True\", \"hovertemplate\": \"Indicator Name=Rural population (% of total population)<br>Country Name=Latin America & Caribbean<br>Year=%{x}<br>% distribution=%{y}<extra></extra>\", \"legendgroup\": \"Rural population (% of total population)\", \"marker\": {\"color\": \"blue\"}, \"name\": \"Rural population (% of total population)\", \"offsetgroup\": \"Rural population (% of total population)\", \"orientation\": \"v\", \"showlegend\": false, \"textposition\": \"auto\", \"type\": \"bar\", \"x\": [\"1960\", \"1961\", \"1962\", \"1963\", \"1964\", \"1965\", \"1966\", \"1967\", \"1968\", \"1969\", \"1970\", \"1971\", \"1972\", \"1973\", \"1974\", \"1975\", \"1976\", \"1977\", \"1978\", \"1979\", \"1980\", \"1981\", \"1982\", \"1983\", \"1984\", \"1985\", \"1986\", \"1987\", \"1988\", \"1989\", \"1990\", \"1991\", \"1992\", \"1993\", \"1994\", \"1995\", \"1996\", \"1997\", \"1998\", \"1999\", \"2000\", \"2001\", \"2002\", \"2003\", \"2004\", \"2005\", \"2006\", \"2007\", \"2008\", \"2009\", \"2010\", \"2011\", \"2012\", \"2013\", \"2014\", \"2015\"], \"xaxis\": \"x6\", \"y\": [50.7166617057487, 49.9278931948463, 49.1286518865306, 48.3268758022256, 47.5193612725278, 46.7580446085187, 45.99650377976379, 45.23559842042479, 44.473724313645604, 43.715595535947706, 42.9627011251955, 42.2034245961416, 41.451185391502, 40.7231522237172, 40.0040197352213, 39.2856589325425, 38.5713415030254, 37.8584363558316, 37.1485180581666, 36.4456183573769, 35.7437979178931, 35.057733063050605, 34.400637265121006, 33.7615135024906, 33.1286784347884, 32.5019564628762, 31.8884844943887, 31.286180080537, 30.691803894977497, 30.1101594782644, 29.544520887455697, 29.0127709244218, 28.5038734104729, 28.0070445298075, 27.514679176441497, 27.0309999873995, 26.570010023242897, 26.0994460496882, 25.6320380923234, 25.1808187158708, 24.732164468163, 24.3725233229465, 24.0358198927052, 23.706165526508897, 23.378814501529003, 23.0576067582241, 22.741388798357, 22.430311365644897, 22.123512282763702, 21.8220580750258, 21.524028365392798, 21.2301355334988, 20.9427891241464, 20.6617353388949, 20.387059927929602, 20.1189612639445], \"yaxis\": \"y6\"}, {\"alignmentgroup\": \"True\", \"hovertemplate\": \"Indicator Name=Rural population (% of total population)<br>Country Name=Middle East & North Africa<br>Year=%{x}<br>% distribution=%{y}<extra></extra>\", \"legendgroup\": \"Rural population (% of total population)\", \"marker\": {\"color\": \"blue\"}, \"name\": \"Rural population (% of total population)\", \"offsetgroup\": \"Rural population (% of total population)\", \"orientation\": \"v\", \"showlegend\": false, \"textposition\": \"auto\", \"type\": \"bar\", \"x\": [\"1960\", \"1961\", \"1962\", \"1963\", \"1964\", \"1965\", \"1966\", \"1967\", \"1968\", \"1969\", \"1970\", \"1971\", \"1972\", \"1973\", \"1974\", \"1975\", \"1976\", \"1977\", \"1978\", \"1979\", \"1980\", \"1981\", \"1982\", \"1983\", \"1984\", \"1985\", \"1986\", \"1987\", \"1988\", \"1989\", \"1990\", \"1991\", \"1992\", \"1993\", \"1994\", \"1995\", \"1996\", \"1997\", \"1998\", \"1999\", \"2000\", \"2001\", \"2002\", \"2003\", \"2004\", \"2005\", \"2006\", \"2007\", \"2008\", \"2009\", \"2010\", \"2011\", \"2012\", \"2013\", \"2014\", \"2015\"], \"xaxis\": \"x3\", \"y\": [65.0419314578378, 64.2863253405333, 63.520274078326, 62.7438598503403, 61.939846903303696, 61.1052828144106, 60.3178560432928, 59.5881357678301, 58.854977108661096, 58.110540464515495, 57.349419664001, 56.6039842143308, 55.847007654646795, 55.075778944735404, 54.3370800228438, 53.6244070940985, 52.923311283999396, 52.275659125549005, 51.6502459942541, 51.030774111172896, 50.404830398384895, 49.7815705476237, 49.1671783585449, 48.560406706734, 47.9662564324561, 47.389828991951894, 46.8218060807424, 46.3480598236345, 45.9524181995047, 45.593194825627, 45.135349674598, 44.7690530638083, 44.6788795890869, 44.2690820271295, 43.8735117249813, 43.287053698607394, 42.9538441824372, 42.6022331274909, 42.225410529658, 41.836998781830104, 41.4478906007651, 41.062862262239705, 40.6814838532672, 40.29942651925929, 39.9093630963565, 39.499836561615794, 39.0784354193505, 38.6702961931379, 38.271127870603706, 37.876587178162104, 37.4981845816261, 37.1325481003666, 36.7748958426646, 36.4298855980374, 36.0987719365559, 35.7817198490255], \"yaxis\": \"y3\"}, {\"alignmentgroup\": \"True\", \"hovertemplate\": \"Indicator Name=Rural population (% of total population)<br>Country Name=North America<br>Year=%{x}<br>% distribution=%{y}<extra></extra>\", \"legendgroup\": \"Rural population (% of total population)\", \"marker\": {\"color\": \"blue\"}, \"name\": \"Rural population (% of total population)\", \"offsetgroup\": \"Rural population (% of total population)\", \"orientation\": \"v\", \"showlegend\": false, \"textposition\": \"auto\", \"type\": \"bar\", \"x\": [\"1960\", \"1961\", \"1962\", \"1963\", \"1964\", \"1965\", \"1966\", \"1967\", \"1968\", \"1969\", \"1970\", \"1971\", \"1972\", \"1973\", \"1974\", \"1975\", \"1976\", \"1977\", \"1978\", \"1979\", \"1980\", \"1981\", \"1982\", \"1983\", \"1984\", \"1985\", \"1986\", \"1987\", \"1988\", \"1989\", \"1990\", \"1991\", \"1992\", \"1993\", \"1994\", \"1995\", \"1996\", \"1997\", \"1998\", \"1999\", \"2000\", \"2001\", \"2002\", \"2003\", \"2004\", \"2005\", \"2006\", \"2007\", \"2008\", \"2009\", \"2010\", \"2011\", \"2012\", \"2013\", \"2014\", \"2015\"], \"xaxis\": \"x4\", \"y\": [30.0815974407808, 29.680454760343103, 29.260216288025397, 28.8436345860842, 28.430612346039, 28.0212823603673, 27.6173842951366, 27.237801565864896, 26.861450309928102, 26.4887760983916, 26.1983420998008, 26.1469561913792, 26.1481916770574, 26.1492156331835, 26.1501407391572, 26.151210867975003, 26.1520947765413, 26.1389354225764, 26.127047705763, 26.114347204211303, 26.068341559249, 25.9260326926565, 25.772692742364203, 25.6197019150462, 25.4685951945816, 25.317674694523898, 25.167775272377895, 25.030861269036304, 24.8940888766749, 24.7586061526903, 24.566317188989895, 24.2018350287506, 23.81905845903, 23.4409138799684, 23.0666241728753, 22.6969088410063, 22.328257963468598, 21.9547154763839, 21.5844133718082, 21.218229365499898, 20.8974751184739, 20.7052587123659, 20.5398549957004, 20.3751898239288, 20.210663860596302, 20.0489551872713, 19.885903672949, 19.7146704581655, 19.544420893481, 19.3752477829605, 19.2080153479123, 19.0390811088005, 18.8700660006041, 18.7000442646102, 18.5292383595206, 18.3584742217048], \"yaxis\": \"y4\"}, {\"alignmentgroup\": \"True\", \"hovertemplate\": \"Indicator Name=Rural population (% of total population)<br>Country Name=South Asia<br>Year=%{x}<br>% distribution=%{y}<extra></extra>\", \"legendgroup\": \"Rural population (% of total population)\", \"marker\": {\"color\": \"blue\"}, \"name\": \"Rural population (% of total population)\", \"offsetgroup\": \"Rural population (% of total population)\", \"orientation\": \"v\", \"showlegend\": false, \"textposition\": \"auto\", \"type\": \"bar\", \"x\": [\"1960\", \"1961\", \"1962\", \"1963\", \"1964\", \"1965\", \"1966\", \"1967\", \"1968\", \"1969\", \"1970\", \"1971\", \"1972\", \"1973\", \"1974\", \"1975\", \"1976\", \"1977\", \"1978\", \"1979\", \"1980\", \"1981\", \"1982\", \"1983\", \"1984\", \"1985\", \"1986\", \"1987\", \"1988\", \"1989\", \"1990\", \"1991\", \"1992\", \"1993\", \"1994\", \"1995\", \"1996\", \"1997\", \"1998\", \"1999\", \"2000\", \"2001\", \"2002\", \"2003\", \"2004\", \"2005\", \"2006\", \"2007\", \"2008\", \"2009\", \"2010\", \"2011\", \"2012\", \"2013\", \"2014\", \"2015\"], \"xaxis\": \"x\", \"y\": [83.26445451776, 83.13301890564391, 82.94558968115909, 82.75633883414879, 82.561116065394, 82.3655772126642, 82.16843074700009, 81.9691455568148, 81.76655088626279, 81.55851051168992, 81.3430725972321, 81.0956186981987, 80.7703992455354, 80.4388203124411, 80.08815931140721, 79.7083749101016, 79.32191764292409, 78.92777321527929, 78.5240150555727, 78.1089572182533, 77.68364725641541, 77.3090549028965, 77.05719607378091, 76.80219576113741, 76.54466161296241, 76.28636807752629, 76.0263639325358, 75.7652131176815, 75.5022282907237, 75.2382974371912, 74.97464636669051, 74.7241667161771, 74.50150654028171, 74.277839418271, 74.0516665620848, 73.82325952529891, 73.5903362492802, 73.354569328387, 73.11614385725679, 72.8749362828006, 72.63142567047609, 72.34825361601901, 71.9965333859527, 71.6406619797036, 71.2792732153455, 70.91382341469141, 70.5432668854522, 70.1671104079074, 69.7858214739249, 69.4016840674325, 69.0137510203875, 68.6214848577691, 68.2209077997111, 67.8128976372962, 67.3966244277355, 66.9717846941533], \"yaxis\": \"y\"}, {\"alignmentgroup\": \"True\", \"hovertemplate\": \"Indicator Name=Rural population (% of total population)<br>Country Name=Sub-Saharan Africa<br>Year=%{x}<br>% distribution=%{y}<extra></extra>\", \"legendgroup\": \"Rural population (% of total population)\", \"marker\": {\"color\": \"blue\"}, \"name\": \"Rural population (% of total population)\", \"offsetgroup\": \"Rural population (% of total population)\", \"orientation\": \"v\", \"showlegend\": false, \"textposition\": \"auto\", \"type\": \"bar\", \"x\": [\"1960\", \"1961\", \"1962\", \"1963\", \"1964\", \"1965\", \"1966\", \"1967\", \"1968\", \"1969\", \"1970\", \"1971\", \"1972\", \"1973\", \"1974\", \"1975\", \"1976\", \"1977\", \"1978\", \"1979\", \"1980\", \"1981\", \"1982\", \"1983\", \"1984\", \"1985\", \"1986\", \"1987\", \"1988\", \"1989\", \"1990\", \"1991\", \"1992\", \"1993\", \"1994\", \"1995\", \"1996\", \"1997\", \"1998\", \"1999\", \"2000\", \"2001\", \"2002\", \"2003\", \"2004\", \"2005\", \"2006\", \"2007\", \"2008\", \"2009\", \"2010\", \"2011\", \"2012\", \"2013\", \"2014\", \"2015\"], \"xaxis\": \"x2\", \"y\": [85.3686132659804, 85.05241035533071, 84.73963796999129, 84.4145371228346, 84.0787138503255, 83.73518665559921, 83.39738543107441, 83.05192197090159, 82.6964299857337, 82.3289744623397, 81.9688626880826, 81.571481657132, 81.16091549932992, 80.74799395322799, 80.3356870980469, 79.9111864800458, 79.4712752155105, 79.03846056949841, 78.59971418737709, 78.2144419206785, 77.8474416411225, 77.4359058010077, 77.01884260724171, 76.5824093802318, 76.11250106452779, 75.606332436923, 75.0848330547972, 74.5680469052172, 74.0517903533723, 73.5396392369956, 73.0068563809605, 72.5594179915204, 72.1251886678218, 71.7026774011032, 71.33514062735371, 70.9805163000734, 70.6334557362343, 70.2810600693703, 69.9381502674626, 69.5900738272715, 69.2346417509085, 68.8227366976994, 68.4132622120662, 67.9932357216952, 67.56607762476561, 67.1265459994317, 66.6804985863564, 66.2246900278073, 65.74499540448049, 65.25988830806989, 64.76758106745889, 64.27175754956079, 63.7722556718153, 63.2707843046629, 62.766712016116706, 62.260637930148604], \"yaxis\": \"y2\"}, {\"alignmentgroup\": \"True\", \"hovertemplate\": \"Indicator Name=Urban population (% of total)<br>Country Name=Central Europe and the Baltics<br>Year=%{x}<br>% distribution=%{y}<extra></extra>\", \"legendgroup\": \"Urban population (% of total)\", \"marker\": {\"color\": \"lightcoral\"}, \"name\": \"Urban population (% of total)\", \"offsetgroup\": \"Urban population (% of total)\", \"orientation\": \"v\", \"showlegend\": true, \"textposition\": \"auto\", \"type\": \"bar\", \"x\": [\"1960\", \"1961\", \"1962\", \"1963\", \"1964\", \"1965\", \"1966\", \"1967\", \"1968\", \"1969\", \"1970\", \"1971\", \"1972\", \"1973\", \"1974\", \"1975\", \"1976\", \"1977\", \"1978\", \"1979\", \"1980\", \"1981\", \"1982\", \"1983\", \"1984\", \"1985\", \"1986\", \"1987\", \"1988\", \"1989\", \"1990\", \"1991\", \"1992\", \"1993\", \"1994\", \"1995\", \"1996\", \"1997\", \"1998\", \"1999\", \"2000\", \"2001\", \"2002\", \"2003\", \"2004\", \"2005\", \"2006\", \"2007\", \"2008\", \"2009\", \"2010\", \"2011\", \"2012\", \"2013\", \"2014\", \"2015\"], \"xaxis\": \"x7\", \"y\": [44.5079211390026, 45.206665319193895, 45.866564696018, 46.534092766365006, 47.2087429803526, 47.8803084429574, 48.5050971917594, 49.0677671358541, 49.6386962498077, 50.215657693321894, 50.780409860457, 51.4295664450529, 52.1621059367571, 52.8944714715418, 53.6271744473382, 54.3496530853828, 55.061127012228795, 55.7886862473798, 56.5306683896572, 57.2131345221505, 57.822931161136, 58.286690506739795, 58.683563322897996, 59.0815670304591, 59.4802126206032, 59.8737352027742, 60.2580865337897, 60.63861361599461, 61.02048852591621, 61.312199620203295, 61.5209944816578, 61.7415392216252, 61.8202878944312, 61.77941024451879, 61.751130812191, 61.7159626035053, 61.6958129204033, 61.6616566303815, 61.632890822478196, 61.59507813484, 61.56743926412721, 61.5718057487891, 61.6322608631301, 61.6744004995815, 61.7167503866807, 61.7672297723807, 61.82395082407129, 61.88763419491429, 61.9649929353809, 62.0201597057641, 62.05941683326589, 62.099517041078904, 62.141847349338995, 62.1976403975883, 62.269282909458894, 62.3555499904286], \"yaxis\": \"y7\"}, {\"alignmentgroup\": \"True\", \"hovertemplate\": \"Indicator Name=Urban population (% of total)<br>Country Name=East Asia & Pacific<br>Year=%{x}<br>% distribution=%{y}<extra></extra>\", \"legendgroup\": \"Urban population (% of total)\", \"marker\": {\"color\": \"lightcoral\"}, \"name\": \"Urban population (% of total)\", \"offsetgroup\": \"Urban population (% of total)\", \"orientation\": \"v\", \"showlegend\": false, \"textposition\": \"auto\", \"type\": \"bar\", \"x\": [\"1960\", \"1961\", \"1962\", \"1963\", \"1964\", \"1965\", \"1966\", \"1967\", \"1968\", \"1969\", \"1970\", \"1971\", \"1972\", \"1973\", \"1974\", \"1975\", \"1976\", \"1977\", \"1978\", \"1979\", \"1980\", \"1981\", \"1982\", \"1983\", \"1984\", \"1985\", \"1986\", \"1987\", \"1988\", \"1989\", \"1990\", \"1991\", \"1992\", \"1993\", \"1994\", \"1995\", \"1996\", \"1997\", \"1998\", \"1999\", \"2000\", \"2001\", \"2002\", \"2003\", \"2004\", \"2005\", \"2006\", \"2007\", \"2008\", \"2009\", \"2010\", \"2011\", \"2012\", \"2013\", \"2014\", \"2015\"], \"xaxis\": \"x8\", \"y\": [22.471465275510504, 23.1225281264466, 23.651505539647797, 24.1183281671211, 24.595570862693897, 24.590257051595998, 24.582609529070897, 24.626780693217896, 24.6631777812091, 24.7681976220262, 24.841199588649, 24.921578310460703, 25.0195285573902, 25.176268226351105, 25.4552364709697, 25.5792932031353, 25.7374475197358, 25.904213433134302, 26.278041013989895, 26.8728320206133, 27.4961129352356, 28.1527146658636, 28.809379233585897, 29.374490363949104, 29.9538472407581, 30.5373833760395, 31.1379240582685, 31.7511633444695, 32.3704569862999, 33.0040521264456, 33.650132228463995, 34.3436302988376, 35.056431528682396, 35.785267087198, 36.5333321308791, 37.295693447112896, 38.0678159751121, 38.836325386388104, 39.6177791710644, 40.4085185002507, 41.2267244250369, 42.2243483639493, 43.31249419247029, 44.401365119263204, 45.4933427598993, 46.583631594566896, 47.6413529458048, 48.68046405000871, 49.7279077964252, 50.76478592284389, 51.7981551566971, 52.821582147433205, 53.8184922628245, 54.7842416818246, 55.720922120717894, 56.6292416783452], \"yaxis\": \"y8\"}, {\"alignmentgroup\": \"True\", \"hovertemplate\": \"Indicator Name=Urban population (% of total)<br>Country Name=Europe & Central Asia<br>Year=%{x}<br>% distribution=%{y}<extra></extra>\", \"legendgroup\": \"Urban population (% of total)\", \"marker\": {\"color\": \"lightcoral\"}, \"name\": \"Urban population (% of total)\", \"offsetgroup\": \"Urban population (% of total)\", \"orientation\": \"v\", \"showlegend\": false, \"textposition\": \"auto\", \"type\": \"bar\", \"x\": [\"1960\", \"1961\", \"1962\", \"1963\", \"1964\", \"1965\", \"1966\", \"1967\", \"1968\", \"1969\", \"1970\", \"1971\", \"1972\", \"1973\", \"1974\", \"1975\", \"1976\", \"1977\", \"1978\", \"1979\", \"1980\", \"1981\", \"1982\", \"1983\", \"1984\", \"1985\", \"1986\", \"1987\", \"1988\", \"1989\", \"1990\", \"1991\", \"1992\", \"1993\", \"1994\", \"1995\", \"1996\", \"1997\", \"1998\", \"1999\", \"2000\", \"2001\", \"2002\", \"2003\", \"2004\", \"2005\", \"2006\", \"2007\", \"2008\", \"2009\", \"2010\", \"2011\", \"2012\", \"2013\", \"2014\", \"2015\"], \"xaxis\": \"x5\", \"y\": [55.380068616532796, 55.91588214738751, 56.45040167433121, 57.011097525694396, 57.571158968727595, 58.140101630241205, 58.7061347276042, 59.25544536415671, 59.785548008378896, 60.285830886605396, 60.7779693640044, 61.2496728668499, 61.70943937481971, 62.15871232881061, 62.5989324463517, 63.0076657887759, 63.39303936615401, 63.7829210915658, 64.1768712208754, 64.53121219632361, 64.837834931502, 65.1803361994822, 65.4981484849028, 65.8001314161854, 66.09235253315771, 66.374477505128, 66.6515702280888, 66.8905523442334, 67.247618564219, 67.4526838244812, 67.5968243848417, 67.71553317193211, 67.8001686588212, 67.862970887776, 67.92678446621571, 67.9926013345488, 68.0538408017223, 68.1110068561717, 68.17244800805321, 68.2445380848523, 68.3349130782372, 68.45059201545179, 68.6137345532038, 68.7834202835444, 68.9540431550013, 69.1280189450336, 69.3081107334683, 69.49541616976629, 69.6774462011844, 69.8460771987381, 70.007155739193, 70.1716656567614, 70.3378824939476, 70.5174861470288, 70.6886719765291, 70.8707405759518], \"yaxis\": \"y5\"}, {\"alignmentgroup\": \"True\", \"hovertemplate\": \"Indicator Name=Urban population (% of total)<br>Country Name=Latin America & Caribbean<br>Year=%{x}<br>% distribution=%{y}<extra></extra>\", \"legendgroup\": \"Urban population (% of total)\", \"marker\": {\"color\": \"lightcoral\"}, \"name\": \"Urban population (% of total)\", \"offsetgroup\": \"Urban population (% of total)\", \"orientation\": \"v\", \"showlegend\": false, \"textposition\": \"auto\", \"type\": \"bar\", \"x\": [\"1960\", \"1961\", \"1962\", \"1963\", \"1964\", \"1965\", \"1966\", \"1967\", \"1968\", \"1969\", \"1970\", \"1971\", \"1972\", \"1973\", \"1974\", \"1975\", \"1976\", \"1977\", \"1978\", \"1979\", \"1980\", \"1981\", \"1982\", \"1983\", \"1984\", \"1985\", \"1986\", \"1987\", \"1988\", \"1989\", \"1990\", \"1991\", \"1992\", \"1993\", \"1994\", \"1995\", \"1996\", \"1997\", \"1998\", \"1999\", \"2000\", \"2001\", \"2002\", \"2003\", \"2004\", \"2005\", \"2006\", \"2007\", \"2008\", \"2009\", \"2010\", \"2011\", \"2012\", \"2013\", \"2014\", \"2015\"], \"xaxis\": \"x6\", \"y\": [49.2833382942513, 50.0721068051537, 50.8713481134694, 51.6731241977744, 52.4806387274722, 53.2419553914813, 54.0034962202363, 54.76440157957521, 55.526275686354396, 56.284404464052294, 57.0372988748045, 57.7965754038584, 58.548814608498, 59.2768477762828, 59.9959802647787, 60.714341067457504, 61.4286584969746, 62.1415636441685, 62.8514819418334, 63.5543816426231, 64.2562020821069, 64.9422669369494, 65.599362734879, 66.2384864975095, 66.8713215652115, 67.49804353712379, 68.1115155056113, 68.71381991946299, 69.3081961050225, 69.88984052173561, 70.45547911254441, 70.9872290755782, 71.4961265895271, 71.9929554701925, 72.4853208235585, 72.9690000126005, 73.4299899767571, 73.90055395031179, 74.36796190767659, 74.8191812841292, 75.267835531837, 75.6274766770535, 75.9641801072948, 76.2938344734911, 76.62118549847101, 76.9423932417759, 77.258611201643, 77.5696886343551, 77.8764877172363, 78.1779419249742, 78.4759716346072, 78.7698644665012, 79.0572108758536, 79.33826466110509, 79.6129400720704, 79.8810387360555], \"yaxis\": \"y6\"}, {\"alignmentgroup\": \"True\", \"hovertemplate\": \"Indicator Name=Urban population (% of total)<br>Country Name=Middle East & North Africa<br>Year=%{x}<br>% distribution=%{y}<extra></extra>\", \"legendgroup\": \"Urban population (% of total)\", \"marker\": {\"color\": \"lightcoral\"}, \"name\": \"Urban population (% of total)\", \"offsetgroup\": \"Urban population (% of total)\", \"orientation\": \"v\", \"showlegend\": false, \"textposition\": \"auto\", \"type\": \"bar\", \"x\": [\"1960\", \"1961\", \"1962\", \"1963\", \"1964\", \"1965\", \"1966\", \"1967\", \"1968\", \"1969\", \"1970\", \"1971\", \"1972\", \"1973\", \"1974\", \"1975\", \"1976\", \"1977\", \"1978\", \"1979\", \"1980\", \"1981\", \"1982\", \"1983\", \"1984\", \"1985\", \"1986\", \"1987\", \"1988\", \"1989\", \"1990\", \"1991\", \"1992\", \"1993\", \"1994\", \"1995\", \"1996\", \"1997\", \"1998\", \"1999\", \"2000\", \"2001\", \"2002\", \"2003\", \"2004\", \"2005\", \"2006\", \"2007\", \"2008\", \"2009\", \"2010\", \"2011\", \"2012\", \"2013\", \"2014\", \"2015\"], \"xaxis\": \"x3\", \"y\": [34.9580685421622, 35.713674659466704, 36.479725921673996, 37.25614014965979, 38.0601530966963, 38.8947171855894, 39.6821439567072, 40.4118642321699, 41.1450228913388, 41.8894595354845, 42.6505803359991, 43.3960157856692, 44.152992345353205, 44.924221055264596, 45.6629199771562, 46.3755929059015, 47.076688716000604, 47.724340874450995, 48.349754005746, 48.969225888827104, 49.595169601615105, 50.2184294523763, 50.8328216414551, 51.439593293266, 52.0337435675439, 52.610171008048106, 53.1781939192576, 53.6519401763655, 54.0475818004953, 54.406805174373, 54.864650325402, 55.2309469361917, 55.3211204109131, 55.7309179728705, 56.1264882750187, 56.712946301392606, 57.046155817562706, 57.397766872509095, 57.774589470342, 58.163001218169896, 58.552109399234894, 58.937137737760295, 59.318516146732904, 59.7005734807407, 60.09063690364351, 60.5001634383842, 60.9215645806495, 61.329703806862106, 61.728872129396294, 62.1234128218379, 62.5018154183739, 62.867451899633295, 63.225104157335394, 63.570114401962606, 63.9012280634441, 64.21828015097451], \"yaxis\": \"y3\"}, {\"alignmentgroup\": \"True\", \"hovertemplate\": \"Indicator Name=Urban population (% of total)<br>Country Name=North America<br>Year=%{x}<br>% distribution=%{y}<extra></extra>\", \"legendgroup\": \"Urban population (% of total)\", \"marker\": {\"color\": \"lightcoral\"}, \"name\": \"Urban population (% of total)\", \"offsetgroup\": \"Urban population (% of total)\", \"orientation\": \"v\", \"showlegend\": false, \"textposition\": \"auto\", \"type\": \"bar\", \"x\": [\"1960\", \"1961\", \"1962\", \"1963\", \"1964\", \"1965\", \"1966\", \"1967\", \"1968\", \"1969\", \"1970\", \"1971\", \"1972\", \"1973\", \"1974\", \"1975\", \"1976\", \"1977\", \"1978\", \"1979\", \"1980\", \"1981\", \"1982\", \"1983\", \"1984\", \"1985\", \"1986\", \"1987\", \"1988\", \"1989\", \"1990\", \"1991\", \"1992\", \"1993\", \"1994\", \"1995\", \"1996\", \"1997\", \"1998\", \"1999\", \"2000\", \"2001\", \"2002\", \"2003\", \"2004\", \"2005\", \"2006\", \"2007\", \"2008\", \"2009\", \"2010\", \"2011\", \"2012\", \"2013\", \"2014\", \"2015\"], \"xaxis\": \"x4\", \"y\": [69.9184025592192, 70.31954523965689, 70.7397837119746, 71.1563654139158, 71.569387653961, 71.9787176396327, 72.38261570486341, 72.76219843413509, 73.13854969007191, 73.5112239016084, 73.8016579001992, 73.8530438086208, 73.85180832294259, 73.8507843668165, 73.8498592608428, 73.848789132025, 73.8479052234587, 73.86106457742359, 73.87295229423701, 73.8856527957887, 73.931658440751, 74.07396730734351, 74.2273072576358, 74.3802980849538, 74.5314048054184, 74.6823253054761, 74.83222472762209, 74.9691387309637, 75.10591112332509, 75.24139384730971, 75.43368281101009, 75.7981649712494, 76.18094154097, 76.5590861200316, 76.9333758271247, 77.3030911589937, 77.67174203653141, 78.04528452361609, 78.41558662819179, 78.78177063450009, 79.10252488152621, 79.2947412876341, 79.46014500429959, 79.62481017607121, 79.7893361394037, 79.9510448127287, 80.114096327051, 80.2853295418345, 80.455579106519, 80.6247522170395, 80.7919846520877, 80.9609188911995, 81.1299339993958, 81.2999557353898, 81.47076164047941, 81.6415257782952], \"yaxis\": \"y4\"}, {\"alignmentgroup\": \"True\", \"hovertemplate\": \"Indicator Name=Urban population (% of total)<br>Country Name=South Asia<br>Year=%{x}<br>% distribution=%{y}<extra></extra>\", \"legendgroup\": \"Urban population (% of total)\", \"marker\": {\"color\": \"lightcoral\"}, \"name\": \"Urban population (% of total)\", \"offsetgroup\": \"Urban population (% of total)\", \"orientation\": \"v\", \"showlegend\": false, \"textposition\": \"auto\", \"type\": \"bar\", \"x\": [\"1960\", \"1961\", \"1962\", \"1963\", \"1964\", \"1965\", \"1966\", \"1967\", \"1968\", \"1969\", \"1970\", \"1971\", \"1972\", \"1973\", \"1974\", \"1975\", \"1976\", \"1977\", \"1978\", \"1979\", \"1980\", \"1981\", \"1982\", \"1983\", \"1984\", \"1985\", \"1986\", \"1987\", \"1988\", \"1989\", \"1990\", \"1991\", \"1992\", \"1993\", \"1994\", \"1995\", \"1996\", \"1997\", \"1998\", \"1999\", \"2000\", \"2001\", \"2002\", \"2003\", \"2004\", \"2005\", \"2006\", \"2007\", \"2008\", \"2009\", \"2010\", \"2011\", \"2012\", \"2013\", \"2014\", \"2015\"], \"xaxis\": \"x\", \"y\": [16.73554548224, 16.8669810943561, 17.0544103188409, 17.2436611658512, 17.438883934606, 17.6344227873358, 17.8315692529999, 18.0308544431852, 18.233449113737198, 18.4414894883101, 18.6569274027679, 18.9043813018013, 19.229600754464602, 19.561179687558898, 19.9118406885928, 20.2916250898984, 20.678082357075898, 21.0722267847207, 21.4759849444272, 21.891042781746698, 22.3163527435846, 22.690945097103402, 22.9428039262191, 23.1978042388626, 23.455338387037603, 23.7136319224737, 23.9736360674642, 24.234786882318502, 24.4977717092763, 24.7617025628088, 25.025353633309603, 25.275833283822898, 25.4984934597183, 25.722160581729003, 25.948333437915203, 26.1767404747011, 26.4096637507198, 26.645430671613003, 26.8838561427433, 27.125063717199396, 27.3685743295239, 27.651746383981, 28.003466614047298, 28.3593380202964, 28.7207267846545, 29.0861765853086, 29.456733114547802, 29.8328895920926, 30.214178526075102, 30.5983159325676, 30.986248979612498, 31.378515142230896, 31.779092200288897, 32.1871023627038, 32.6033755722645, 33.0282153058467], \"yaxis\": \"y\"}, {\"alignmentgroup\": \"True\", \"hovertemplate\": \"Indicator Name=Urban population (% of total)<br>Country Name=Sub-Saharan Africa<br>Year=%{x}<br>% distribution=%{y}<extra></extra>\", \"legendgroup\": \"Urban population (% of total)\", \"marker\": {\"color\": \"lightcoral\"}, \"name\": \"Urban population (% of total)\", \"offsetgroup\": \"Urban population (% of total)\", \"orientation\": \"v\", \"showlegend\": false, \"textposition\": \"auto\", \"type\": \"bar\", \"x\": [\"1960\", \"1961\", \"1962\", \"1963\", \"1964\", \"1965\", \"1966\", \"1967\", \"1968\", \"1969\", \"1970\", \"1971\", \"1972\", \"1973\", \"1974\", \"1975\", \"1976\", \"1977\", \"1978\", \"1979\", \"1980\", \"1981\", \"1982\", \"1983\", \"1984\", \"1985\", \"1986\", \"1987\", \"1988\", \"1989\", \"1990\", \"1991\", \"1992\", \"1993\", \"1994\", \"1995\", \"1996\", \"1997\", \"1998\", \"1999\", \"2000\", \"2001\", \"2002\", \"2003\", \"2004\", \"2005\", \"2006\", \"2007\", \"2008\", \"2009\", \"2010\", \"2011\", \"2012\", \"2013\", \"2014\", \"2015\"], \"xaxis\": \"x2\", \"y\": [14.6313867340196, 14.947589644669302, 15.2603620300087, 15.585462877165401, 15.921286149674499, 16.264813344400803, 16.6026145689256, 16.9480780290984, 17.3035700142662, 17.671025537660302, 18.031137311917398, 18.428518342868, 18.8390845006701, 19.252006046772, 19.6643129019531, 20.0888135199542, 20.5287247844895, 20.961539430501603, 21.400285812622897, 21.7855580793215, 22.152558358877503, 22.5640941989923, 22.981157392758302, 23.417590619768198, 23.8874989354722, 24.393667563077003, 24.9151669452027, 25.431953094782802, 25.9482096466277, 26.4603607630044, 26.9931436190395, 27.4405820084796, 27.874811332178197, 28.2973225988967, 28.664859372646298, 29.0194836999266, 29.366544263765697, 29.7189399306297, 30.061849732537397, 30.4099261727285, 30.765358249091502, 31.1772633023007, 31.586737787933803, 32.0067642783048, 32.433922375234395, 32.8734540005683, 33.3195014136436, 33.775309972192694, 34.2550045955195, 34.7401116919301, 35.2324189325411, 35.728242450439204, 36.227744328184706, 36.7292156953371, 37.233287983883294, 37.739362069851396], \"yaxis\": \"y2\"}],                        {\"annotations\": [{\"font\": {}, \"showarrow\": false, \"text\": \"Country Name=South Asia\", \"x\": 0.245, \"xanchor\": \"center\", \"xref\": \"paper\", \"y\": 0.1975, \"yanchor\": \"bottom\", \"yref\": \"paper\"}, {\"font\": {}, \"showarrow\": false, \"text\": \"Country Name=Sub-Saharan Africa\", \"x\": 0.755, \"xanchor\": \"center\", \"xref\": \"paper\", \"y\": 0.1975, \"yanchor\": \"bottom\", \"yref\": \"paper\"}, {\"font\": {}, \"showarrow\": false, \"text\": \"Country Name=Middle East & North Africa\", \"x\": 0.245, \"xanchor\": \"center\", \"xref\": \"paper\", \"y\": 0.465, \"yanchor\": \"bottom\", \"yref\": \"paper\"}, {\"font\": {}, \"showarrow\": false, \"text\": \"Country Name=North America\", \"x\": 0.755, \"xanchor\": \"center\", \"xref\": \"paper\", \"y\": 0.465, \"yanchor\": \"bottom\", \"yref\": \"paper\"}, {\"font\": {}, \"showarrow\": false, \"text\": \"Country Name=Europe & Central Asia\", \"x\": 0.245, \"xanchor\": \"center\", \"xref\": \"paper\", \"y\": 0.7325, \"yanchor\": \"bottom\", \"yref\": \"paper\"}, {\"font\": {}, \"showarrow\": false, \"text\": \"Country Name=Latin America & Caribbean\", \"x\": 0.755, \"xanchor\": \"center\", \"xref\": \"paper\", \"y\": 0.7325, \"yanchor\": \"bottom\", \"yref\": \"paper\"}, {\"font\": {}, \"showarrow\": false, \"text\": \"Country Name=Central Europe and the Baltics\", \"x\": 0.245, \"xanchor\": \"center\", \"xref\": \"paper\", \"y\": 1.0, \"yanchor\": \"bottom\", \"yref\": \"paper\"}, {\"font\": {}, \"showarrow\": false, \"text\": \"Country Name=East Asia & Pacific\", \"x\": 0.755, \"xanchor\": \"center\", \"xref\": \"paper\", \"y\": 1.0, \"yanchor\": \"bottom\", \"yref\": \"paper\"}], \"barmode\": \"relative\", \"height\": 1200, \"legend\": {\"title\": {\"text\": \"Indicator Name\"}, \"tracegroupgap\": 0}, \"template\": {\"data\": {\"bar\": [{\"error_x\": {\"color\": \"#2a3f5f\"}, \"error_y\": {\"color\": \"#2a3f5f\"}, \"marker\": {\"line\": {\"color\": \"#E5ECF6\", \"width\": 0.5}}, \"type\": \"bar\"}], \"barpolar\": [{\"marker\": {\"line\": {\"color\": \"#E5ECF6\", \"width\": 0.5}}, \"type\": \"barpolar\"}], \"carpet\": [{\"aaxis\": {\"endlinecolor\": \"#2a3f5f\", \"gridcolor\": \"white\", \"linecolor\": \"white\", \"minorgridcolor\": \"white\", \"startlinecolor\": \"#2a3f5f\"}, \"baxis\": {\"endlinecolor\": \"#2a3f5f\", \"gridcolor\": \"white\", \"linecolor\": \"white\", \"minorgridcolor\": \"white\", \"startlinecolor\": \"#2a3f5f\"}, \"type\": \"carpet\"}], \"choropleth\": [{\"colorbar\": {\"outlinewidth\": 0, \"ticks\": \"\"}, \"type\": \"choropleth\"}], \"contour\": [{\"colorbar\": {\"outlinewidth\": 0, \"ticks\": \"\"}, \"colorscale\": [[0.0, \"#0d0887\"], [0.1111111111111111, \"#46039f\"], [0.2222222222222222, \"#7201a8\"], [0.3333333333333333, \"#9c179e\"], [0.4444444444444444, \"#bd3786\"], [0.5555555555555556, \"#d8576b\"], [0.6666666666666666, \"#ed7953\"], [0.7777777777777778, \"#fb9f3a\"], [0.8888888888888888, \"#fdca26\"], [1.0, \"#f0f921\"]], \"type\": \"contour\"}], \"contourcarpet\": [{\"colorbar\": {\"outlinewidth\": 0, \"ticks\": \"\"}, \"type\": \"contourcarpet\"}], \"heatmap\": [{\"colorbar\": {\"outlinewidth\": 0, \"ticks\": \"\"}, \"colorscale\": [[0.0, \"#0d0887\"], [0.1111111111111111, \"#46039f\"], [0.2222222222222222, \"#7201a8\"], [0.3333333333333333, \"#9c179e\"], [0.4444444444444444, \"#bd3786\"], [0.5555555555555556, \"#d8576b\"], [0.6666666666666666, \"#ed7953\"], [0.7777777777777778, \"#fb9f3a\"], [0.8888888888888888, \"#fdca26\"], [1.0, \"#f0f921\"]], \"type\": \"heatmap\"}], \"heatmapgl\": [{\"colorbar\": {\"outlinewidth\": 0, \"ticks\": \"\"}, \"colorscale\": [[0.0, \"#0d0887\"], [0.1111111111111111, \"#46039f\"], [0.2222222222222222, \"#7201a8\"], [0.3333333333333333, \"#9c179e\"], [0.4444444444444444, \"#bd3786\"], [0.5555555555555556, \"#d8576b\"], [0.6666666666666666, \"#ed7953\"], [0.7777777777777778, \"#fb9f3a\"], [0.8888888888888888, \"#fdca26\"], [1.0, \"#f0f921\"]], \"type\": \"heatmapgl\"}], \"histogram\": [{\"marker\": {\"colorbar\": {\"outlinewidth\": 0, \"ticks\": \"\"}}, \"type\": \"histogram\"}], \"histogram2d\": [{\"colorbar\": {\"outlinewidth\": 0, \"ticks\": \"\"}, \"colorscale\": [[0.0, \"#0d0887\"], [0.1111111111111111, \"#46039f\"], [0.2222222222222222, \"#7201a8\"], [0.3333333333333333, \"#9c179e\"], [0.4444444444444444, \"#bd3786\"], [0.5555555555555556, \"#d8576b\"], [0.6666666666666666, \"#ed7953\"], [0.7777777777777778, \"#fb9f3a\"], [0.8888888888888888, \"#fdca26\"], [1.0, \"#f0f921\"]], \"type\": \"histogram2d\"}], \"histogram2dcontour\": [{\"colorbar\": {\"outlinewidth\": 0, \"ticks\": \"\"}, \"colorscale\": [[0.0, \"#0d0887\"], [0.1111111111111111, \"#46039f\"], [0.2222222222222222, \"#7201a8\"], [0.3333333333333333, \"#9c179e\"], [0.4444444444444444, \"#bd3786\"], [0.5555555555555556, \"#d8576b\"], [0.6666666666666666, \"#ed7953\"], [0.7777777777777778, \"#fb9f3a\"], [0.8888888888888888, \"#fdca26\"], [1.0, \"#f0f921\"]], \"type\": \"histogram2dcontour\"}], \"mesh3d\": [{\"colorbar\": {\"outlinewidth\": 0, \"ticks\": \"\"}, \"type\": \"mesh3d\"}], \"parcoords\": [{\"line\": {\"colorbar\": {\"outlinewidth\": 0, \"ticks\": \"\"}}, \"type\": \"parcoords\"}], \"pie\": [{\"automargin\": true, \"type\": \"pie\"}], \"scatter\": [{\"marker\": {\"colorbar\": {\"outlinewidth\": 0, \"ticks\": \"\"}}, \"type\": \"scatter\"}], \"scatter3d\": [{\"line\": {\"colorbar\": {\"outlinewidth\": 0, \"ticks\": \"\"}}, \"marker\": {\"colorbar\": {\"outlinewidth\": 0, \"ticks\": \"\"}}, \"type\": \"scatter3d\"}], \"scattercarpet\": [{\"marker\": {\"colorbar\": {\"outlinewidth\": 0, \"ticks\": \"\"}}, \"type\": \"scattercarpet\"}], \"scattergeo\": [{\"marker\": {\"colorbar\": {\"outlinewidth\": 0, \"ticks\": \"\"}}, \"type\": \"scattergeo\"}], \"scattergl\": [{\"marker\": {\"colorbar\": {\"outlinewidth\": 0, \"ticks\": \"\"}}, \"type\": \"scattergl\"}], \"scattermapbox\": [{\"marker\": {\"colorbar\": {\"outlinewidth\": 0, \"ticks\": \"\"}}, \"type\": \"scattermapbox\"}], \"scatterpolar\": [{\"marker\": {\"colorbar\": {\"outlinewidth\": 0, \"ticks\": \"\"}}, \"type\": \"scatterpolar\"}], \"scatterpolargl\": [{\"marker\": {\"colorbar\": {\"outlinewidth\": 0, \"ticks\": \"\"}}, \"type\": \"scatterpolargl\"}], \"scatterternary\": [{\"marker\": {\"colorbar\": {\"outlinewidth\": 0, \"ticks\": \"\"}}, \"type\": \"scatterternary\"}], \"surface\": [{\"colorbar\": {\"outlinewidth\": 0, \"ticks\": \"\"}, \"colorscale\": [[0.0, \"#0d0887\"], [0.1111111111111111, \"#46039f\"], [0.2222222222222222, \"#7201a8\"], [0.3333333333333333, \"#9c179e\"], [0.4444444444444444, \"#bd3786\"], [0.5555555555555556, \"#d8576b\"], [0.6666666666666666, \"#ed7953\"], [0.7777777777777778, \"#fb9f3a\"], [0.8888888888888888, \"#fdca26\"], [1.0, \"#f0f921\"]], \"type\": \"surface\"}], \"table\": [{\"cells\": {\"fill\": {\"color\": \"#EBF0F8\"}, \"line\": {\"color\": \"white\"}}, \"header\": {\"fill\": {\"color\": \"#C8D4E3\"}, \"line\": {\"color\": \"white\"}}, \"type\": \"table\"}]}, \"layout\": {\"annotationdefaults\": {\"arrowcolor\": \"#2a3f5f\", \"arrowhead\": 0, \"arrowwidth\": 1}, \"coloraxis\": {\"colorbar\": {\"outlinewidth\": 0, \"ticks\": \"\"}}, \"colorscale\": {\"diverging\": [[0, \"#8e0152\"], [0.1, \"#c51b7d\"], [0.2, \"#de77ae\"], [0.3, \"#f1b6da\"], [0.4, \"#fde0ef\"], [0.5, \"#f7f7f7\"], [0.6, \"#e6f5d0\"], [0.7, \"#b8e186\"], [0.8, \"#7fbc41\"], [0.9, \"#4d9221\"], [1, \"#276419\"]], \"sequential\": [[0.0, \"#0d0887\"], [0.1111111111111111, \"#46039f\"], [0.2222222222222222, \"#7201a8\"], [0.3333333333333333, \"#9c179e\"], [0.4444444444444444, \"#bd3786\"], [0.5555555555555556, \"#d8576b\"], [0.6666666666666666, \"#ed7953\"], [0.7777777777777778, \"#fb9f3a\"], [0.8888888888888888, \"#fdca26\"], [1.0, \"#f0f921\"]], \"sequentialminus\": [[0.0, \"#0d0887\"], [0.1111111111111111, \"#46039f\"], [0.2222222222222222, \"#7201a8\"], [0.3333333333333333, \"#9c179e\"], [0.4444444444444444, \"#bd3786\"], [0.5555555555555556, \"#d8576b\"], [0.6666666666666666, \"#ed7953\"], [0.7777777777777778, \"#fb9f3a\"], [0.8888888888888888, \"#fdca26\"], [1.0, \"#f0f921\"]]}, \"colorway\": [\"#636efa\", \"#EF553B\", \"#00cc96\", \"#ab63fa\", \"#FFA15A\", \"#19d3f3\", \"#FF6692\", \"#B6E880\", \"#FF97FF\", \"#FECB52\"], \"font\": {\"color\": \"#2a3f5f\"}, \"geo\": {\"bgcolor\": \"white\", \"lakecolor\": \"white\", \"landcolor\": \"#E5ECF6\", \"showlakes\": true, \"showland\": true, \"subunitcolor\": \"white\"}, \"hoverlabel\": {\"align\": \"left\"}, \"hovermode\": \"closest\", \"mapbox\": {\"style\": \"light\"}, \"paper_bgcolor\": \"white\", \"plot_bgcolor\": \"#E5ECF6\", \"polar\": {\"angularaxis\": {\"gridcolor\": \"white\", \"linecolor\": \"white\", \"ticks\": \"\"}, \"bgcolor\": \"#E5ECF6\", \"radialaxis\": {\"gridcolor\": \"white\", \"linecolor\": \"white\", \"ticks\": \"\"}}, \"scene\": {\"xaxis\": {\"backgroundcolor\": \"#E5ECF6\", \"gridcolor\": \"white\", \"gridwidth\": 2, \"linecolor\": \"white\", \"showbackground\": true, \"ticks\": \"\", \"zerolinecolor\": \"white\"}, \"yaxis\": {\"backgroundcolor\": \"#E5ECF6\", \"gridcolor\": \"white\", \"gridwidth\": 2, \"linecolor\": \"white\", \"showbackground\": true, \"ticks\": \"\", \"zerolinecolor\": \"white\"}, \"zaxis\": {\"backgroundcolor\": \"#E5ECF6\", \"gridcolor\": \"white\", \"gridwidth\": 2, \"linecolor\": \"white\", \"showbackground\": true, \"ticks\": \"\", \"zerolinecolor\": \"white\"}}, \"shapedefaults\": {\"line\": {\"color\": \"#2a3f5f\"}}, \"ternary\": {\"aaxis\": {\"gridcolor\": \"white\", \"linecolor\": \"white\", \"ticks\": \"\"}, \"baxis\": {\"gridcolor\": \"white\", \"linecolor\": \"white\", \"ticks\": \"\"}, \"bgcolor\": \"#E5ECF6\", \"caxis\": {\"gridcolor\": \"white\", \"linecolor\": \"white\", \"ticks\": \"\"}}, \"title\": {\"x\": 0.05}, \"xaxis\": {\"automargin\": true, \"gridcolor\": \"white\", \"linecolor\": \"white\", \"ticks\": \"\", \"title\": {\"standoff\": 15}, \"zerolinecolor\": \"white\", \"zerolinewidth\": 2}, \"yaxis\": {\"automargin\": true, \"gridcolor\": \"white\", \"linecolor\": \"white\", \"ticks\": \"\", \"title\": {\"standoff\": 15}, \"zerolinecolor\": \"white\", \"zerolinewidth\": 2}}}, \"title\": {\"text\": \"Rural and urban population by areas\"}, \"width\": 1200, \"xaxis\": {\"anchor\": \"y\", \"domain\": [0.0, 0.49], \"title\": {\"text\": \"Year\"}}, \"xaxis2\": {\"anchor\": \"y2\", \"domain\": [0.51, 1.0], \"matches\": \"x\", \"title\": {\"text\": \"Year\"}}, \"xaxis3\": {\"anchor\": \"y3\", \"domain\": [0.0, 0.49], \"matches\": \"x\", \"showticklabels\": false}, \"xaxis4\": {\"anchor\": \"y4\", \"domain\": [0.51, 1.0], \"matches\": \"x\", \"showticklabels\": false}, \"xaxis5\": {\"anchor\": \"y5\", \"domain\": [0.0, 0.49], \"matches\": \"x\", \"showticklabels\": false}, \"xaxis6\": {\"anchor\": \"y6\", \"domain\": [0.51, 1.0], \"matches\": \"x\", \"showticklabels\": false}, \"xaxis7\": {\"anchor\": \"y7\", \"domain\": [0.0, 0.49], \"matches\": \"x\", \"showticklabels\": false}, \"xaxis8\": {\"anchor\": \"y8\", \"domain\": [0.51, 1.0], \"matches\": \"x\", \"showticklabels\": false}, \"yaxis\": {\"anchor\": \"x\", \"domain\": [0.0, 0.1975], \"title\": {\"text\": \"% distribution\"}}, \"yaxis2\": {\"anchor\": \"x2\", \"domain\": [0.0, 0.1975], \"matches\": \"y\", \"showticklabels\": false}, \"yaxis3\": {\"anchor\": \"x3\", \"domain\": [0.2675, 0.465], \"matches\": \"y\", \"title\": {\"text\": \"% distribution\"}}, \"yaxis4\": {\"anchor\": \"x4\", \"domain\": [0.2675, 0.465], \"matches\": \"y\", \"showticklabels\": false}, \"yaxis5\": {\"anchor\": \"x5\", \"domain\": [0.535, 0.7325], \"matches\": \"y\", \"title\": {\"text\": \"% distribution\"}}, \"yaxis6\": {\"anchor\": \"x6\", \"domain\": [0.535, 0.7325], \"matches\": \"y\", \"showticklabels\": false}, \"yaxis7\": {\"anchor\": \"x7\", \"domain\": [0.8025, 1.0], \"matches\": \"y\", \"title\": {\"text\": \"% distribution\"}}, \"yaxis8\": {\"anchor\": \"x8\", \"domain\": [0.8025, 1.0], \"matches\": \"y\", \"showticklabels\": false}},                        {\"responsive\": true}                    ).then(function(){\n",
       "                            \n",
       "var gd = document.getElementById('b625e714-a8b5-4b9c-a294-52873ef48f30');\n",
       "var x = new MutationObserver(function (mutations, observer) {{\n",
       "        var display = window.getComputedStyle(gd).display;\n",
       "        if (!display || display === 'none') {{\n",
       "            console.log([gd, 'removed!']);\n",
       "            Plotly.purge(gd);\n",
       "            observer.disconnect();\n",
       "        }}\n",
       "}});\n",
       "\n",
       "// Listen for the removal of the full notebook cells\n",
       "var notebookContainer = gd.closest('#notebook-container');\n",
       "if (notebookContainer) {{\n",
       "    x.observe(notebookContainer, {childList: true});\n",
       "}}\n",
       "\n",
       "// Listen for the clearing of the current output cell\n",
       "var outputEl = gd.closest('.output');\n",
       "if (outputEl) {{\n",
       "    x.observe(outputEl, {childList: true});\n",
       "}}\n",
       "\n",
       "                        })                };                });            </script>        </div>"
      ]
     },
     "metadata": {},
     "output_type": "display_data"
    }
   ],
   "source": [
    "fig = px.bar(rural_urban, x = 'Year', y = '% distribution', color= 'Indicator Name', \n",
    "             facet_col = 'Country Name', facet_col_wrap = 2, title=\"Rural and urban population by areas\", \n",
    "             width = 1200, height = 1200, color_discrete_sequence = ['blue', 'lightcoral'])\n",
    "fig.update_layout()\n",
    "fig.show()"
   ]
  },
  {
   "cell_type": "markdown",
   "metadata": {
    "ExecuteTime": {
     "end_time": "2020-12-07T12:20:27.208410Z",
     "start_time": "2020-12-07T12:20:27.196187Z"
    }
   },
   "source": [
    "Asia and Africa has the higher rural population than other areas, especially in Sub-Saharan Africa, while in Europe and America, the number of rural population is always in low ratio. In general, the number of urban population is increaing in all of the areas. "
   ]
  },
  {
   "cell_type": "markdown",
   "metadata": {},
   "source": [
    "### Mortality rate"
   ]
  },
  {
   "cell_type": "markdown",
   "metadata": {
    "ExecuteTime": {
     "end_time": "2020-12-07T13:53:44.169431Z",
     "start_time": "2020-12-07T13:53:44.165962Z"
    }
   },
   "source": [
    "#### Global mortality rate"
   ]
  },
  {
   "cell_type": "code",
   "execution_count": 47,
   "metadata": {
    "ExecuteTime": {
     "end_time": "2020-12-09T08:04:18.205084Z",
     "start_time": "2020-12-09T08:04:18.191288Z"
    }
   },
   "outputs": [],
   "source": [
    "mortality_rate = pop_growth.loc[(pop_growth['Indicator Name'] == 'Mortality rate, infant (per 1,000 live births)')|\n",
    "                                (pop_growth['Indicator Name']== 'Mortality rate, under-5 (per 1,000)')]"
   ]
  },
  {
   "cell_type": "code",
   "execution_count": 48,
   "metadata": {
    "ExecuteTime": {
     "end_time": "2020-12-09T08:04:18.235147Z",
     "start_time": "2020-12-09T08:04:18.210141Z"
    }
   },
   "outputs": [
    {
     "data": {
      "text/html": [
       "<div>\n",
       "<style scoped>\n",
       "    .dataframe tbody tr th:only-of-type {\n",
       "        vertical-align: middle;\n",
       "    }\n",
       "\n",
       "    .dataframe tbody tr th {\n",
       "        vertical-align: top;\n",
       "    }\n",
       "\n",
       "    .dataframe thead th {\n",
       "        text-align: right;\n",
       "    }\n",
       "</style>\n",
       "<table border=\"1\" class=\"dataframe\">\n",
       "  <thead>\n",
       "    <tr style=\"text-align: right;\">\n",
       "      <th></th>\n",
       "      <th>Indicator Name</th>\n",
       "      <th>Year</th>\n",
       "      <th>Mortality rate (per 1000)</th>\n",
       "    </tr>\n",
       "  </thead>\n",
       "  <tbody>\n",
       "    <tr>\n",
       "      <th>0</th>\n",
       "      <td>Mortality rate, infant (per 1,000 live births)</td>\n",
       "      <td>1960</td>\n",
       "      <td>121.9</td>\n",
       "    </tr>\n",
       "    <tr>\n",
       "      <th>1</th>\n",
       "      <td>Mortality rate, under-5 (per 1,000)</td>\n",
       "      <td>1960</td>\n",
       "      <td>182.7</td>\n",
       "    </tr>\n",
       "    <tr>\n",
       "      <th>2</th>\n",
       "      <td>Mortality rate, infant (per 1,000 live births)</td>\n",
       "      <td>1961</td>\n",
       "      <td>120.4</td>\n",
       "    </tr>\n",
       "    <tr>\n",
       "      <th>3</th>\n",
       "      <td>Mortality rate, under-5 (per 1,000)</td>\n",
       "      <td>1961</td>\n",
       "      <td>180.4</td>\n",
       "    </tr>\n",
       "    <tr>\n",
       "      <th>4</th>\n",
       "      <td>Mortality rate, infant (per 1,000 live births)</td>\n",
       "      <td>1962</td>\n",
       "      <td>118.4</td>\n",
       "    </tr>\n",
       "    <tr>\n",
       "      <th>...</th>\n",
       "      <td>...</td>\n",
       "      <td>...</td>\n",
       "      <td>...</td>\n",
       "    </tr>\n",
       "    <tr>\n",
       "      <th>107</th>\n",
       "      <td>Mortality rate, under-5 (per 1,000)</td>\n",
       "      <td>2013</td>\n",
       "      <td>45.6</td>\n",
       "    </tr>\n",
       "    <tr>\n",
       "      <th>108</th>\n",
       "      <td>Mortality rate, infant (per 1,000 live births)</td>\n",
       "      <td>2014</td>\n",
       "      <td>32.6</td>\n",
       "    </tr>\n",
       "    <tr>\n",
       "      <th>109</th>\n",
       "      <td>Mortality rate, under-5 (per 1,000)</td>\n",
       "      <td>2014</td>\n",
       "      <td>43.9</td>\n",
       "    </tr>\n",
       "    <tr>\n",
       "      <th>110</th>\n",
       "      <td>Mortality rate, infant (per 1,000 live births)</td>\n",
       "      <td>2015</td>\n",
       "      <td>31.7</td>\n",
       "    </tr>\n",
       "    <tr>\n",
       "      <th>111</th>\n",
       "      <td>Mortality rate, under-5 (per 1,000)</td>\n",
       "      <td>2015</td>\n",
       "      <td>42.5</td>\n",
       "    </tr>\n",
       "  </tbody>\n",
       "</table>\n",
       "<p>112 rows × 3 columns</p>\n",
       "</div>"
      ],
      "text/plain": [
       "                                     Indicator Name  Year  \\\n",
       "0    Mortality rate, infant (per 1,000 live births)  1960   \n",
       "1               Mortality rate, under-5 (per 1,000)  1960   \n",
       "2    Mortality rate, infant (per 1,000 live births)  1961   \n",
       "3               Mortality rate, under-5 (per 1,000)  1961   \n",
       "4    Mortality rate, infant (per 1,000 live births)  1962   \n",
       "..                                              ...   ...   \n",
       "107             Mortality rate, under-5 (per 1,000)  2013   \n",
       "108  Mortality rate, infant (per 1,000 live births)  2014   \n",
       "109             Mortality rate, under-5 (per 1,000)  2014   \n",
       "110  Mortality rate, infant (per 1,000 live births)  2015   \n",
       "111             Mortality rate, under-5 (per 1,000)  2015   \n",
       "\n",
       "     Mortality rate (per 1000)  \n",
       "0                        121.9  \n",
       "1                        182.7  \n",
       "2                        120.4  \n",
       "3                        180.4  \n",
       "4                        118.4  \n",
       "..                         ...  \n",
       "107                       45.6  \n",
       "108                       32.6  \n",
       "109                       43.9  \n",
       "110                       31.7  \n",
       "111                       42.5  \n",
       "\n",
       "[112 rows x 3 columns]"
      ]
     },
     "execution_count": 48,
     "metadata": {},
     "output_type": "execute_result"
    }
   ],
   "source": [
    "mortal_rate = mortality_rate[mortality_rate['Country Name'] == 'World']\n",
    "mortal_rate1 = mortal_rate.melt(id_vars = 'Indicator Name', value_vars = mortal_rate.loc[:, '1960':'2015'],\n",
    "                                var_name = 'Year', value_name = 'Mortality rate (per 1000)')\n",
    "mortal_rate1"
   ]
  },
  {
   "cell_type": "code",
   "execution_count": 49,
   "metadata": {
    "ExecuteTime": {
     "end_time": "2020-12-09T08:04:18.342746Z",
     "start_time": "2020-12-09T08:04:18.238117Z"
    }
   },
   "outputs": [
    {
     "data": {
      "application/vnd.plotly.v1+json": {
       "config": {
        "plotlyServerURL": "https://plot.ly"
       },
       "data": [
        {
         "hovertemplate": "Indicator Name=Mortality rate, infant (per 1,000 live births)<br>Year=%{x}<br>Mortality rate (per 1000)=%{y}<extra></extra>",
         "legendgroup": "Mortality rate, infant (per 1,000 live births)",
         "line": {
          "color": "#636efa",
          "dash": "solid"
         },
         "mode": "lines",
         "name": "Mortality rate, infant (per 1,000 live births)",
         "orientation": "v",
         "showlegend": true,
         "type": "scatter",
         "x": [
          "1960",
          "1961",
          "1962",
          "1963",
          "1964",
          "1965",
          "1966",
          "1967",
          "1968",
          "1969",
          "1970",
          "1971",
          "1972",
          "1973",
          "1974",
          "1975",
          "1976",
          "1977",
          "1978",
          "1979",
          "1980",
          "1981",
          "1982",
          "1983",
          "1984",
          "1985",
          "1986",
          "1987",
          "1988",
          "1989",
          "1990",
          "1991",
          "1992",
          "1993",
          "1994",
          "1995",
          "1996",
          "1997",
          "1998",
          "1999",
          "2000",
          "2001",
          "2002",
          "2003",
          "2004",
          "2005",
          "2006",
          "2007",
          "2008",
          "2009",
          "2010",
          "2011",
          "2012",
          "2013",
          "2014",
          "2015"
         ],
         "xaxis": "x",
         "y": [
          121.9,
          120.4,
          118.4,
          116.3,
          116.2,
          114.8,
          113.4,
          111.8,
          108.6,
          100.6,
          97.6,
          95.4,
          93.5,
          91.4,
          89.5,
          87.9,
          86.2,
          84.6,
          83.1,
          81.7,
          80,
          77.7,
          75.6,
          73.5,
          71.3,
          69.3,
          67.6,
          66.1,
          64.8,
          63.7,
          62.8,
          62.1,
          61.6,
          61.1,
          60.6,
          60,
          59,
          57.8,
          56.4,
          54.8,
          53.1,
          51.4,
          49.5,
          47.7,
          46,
          44.3,
          42.8,
          41.4,
          40.1,
          38.7,
          37.5,
          36.2,
          34.9,
          33.7,
          32.6,
          31.7
         ],
         "yaxis": "y"
        },
        {
         "hovertemplate": "Indicator Name=Mortality rate, under-5 (per 1,000)<br>Year=%{x}<br>Mortality rate (per 1000)=%{y}<extra></extra>",
         "legendgroup": "Mortality rate, under-5 (per 1,000)",
         "line": {
          "color": "#EF553B",
          "dash": "solid"
         },
         "mode": "lines",
         "name": "Mortality rate, under-5 (per 1,000)",
         "orientation": "v",
         "showlegend": true,
         "type": "scatter",
         "x": [
          "1960",
          "1961",
          "1962",
          "1963",
          "1964",
          "1965",
          "1966",
          "1967",
          "1968",
          "1969",
          "1970",
          "1971",
          "1972",
          "1973",
          "1974",
          "1975",
          "1976",
          "1977",
          "1978",
          "1979",
          "1980",
          "1981",
          "1982",
          "1983",
          "1984",
          "1985",
          "1986",
          "1987",
          "1988",
          "1989",
          "1990",
          "1991",
          "1992",
          "1993",
          "1994",
          "1995",
          "1996",
          "1997",
          "1998",
          "1999",
          "2000",
          "2001",
          "2002",
          "2003",
          "2004",
          "2005",
          "2006",
          "2007",
          "2008",
          "2009",
          "2010",
          "2011",
          "2012",
          "2013",
          "2014",
          "2015"
         ],
         "xaxis": "x",
         "y": [
          182.7,
          180.4,
          177.1,
          174.1,
          175.2,
          172.8,
          171.2,
          168.9,
          163.7,
          149.8,
          144.9,
          141.4,
          138.3,
          135.1,
          132,
          129.4,
          126.6,
          123.9,
          121.4,
          119,
          116.4,
          113.3,
          110.3,
          107.3,
          104.1,
          101.2,
          98.6,
          96.2,
          94,
          92.1,
          90.6,
          89.2,
          88.2,
          87.3,
          86.5,
          85.3,
          84,
          82.5,
          80.6,
          78.3,
          75.9,
          73.4,
          70.7,
          67.9,
          65.5,
          62.6,
          60.1,
          57.8,
          55.8,
          53.5,
          51.7,
          49.4,
          47.4,
          45.6,
          43.9,
          42.5
         ],
         "yaxis": "y"
        }
       ],
       "layout": {
        "legend": {
         "title": {
          "text": "Indicator Name"
         },
         "tracegroupgap": 0
        },
        "template": {
         "data": {
          "bar": [
           {
            "error_x": {
             "color": "#2a3f5f"
            },
            "error_y": {
             "color": "#2a3f5f"
            },
            "marker": {
             "line": {
              "color": "#E5ECF6",
              "width": 0.5
             }
            },
            "type": "bar"
           }
          ],
          "barpolar": [
           {
            "marker": {
             "line": {
              "color": "#E5ECF6",
              "width": 0.5
             }
            },
            "type": "barpolar"
           }
          ],
          "carpet": [
           {
            "aaxis": {
             "endlinecolor": "#2a3f5f",
             "gridcolor": "white",
             "linecolor": "white",
             "minorgridcolor": "white",
             "startlinecolor": "#2a3f5f"
            },
            "baxis": {
             "endlinecolor": "#2a3f5f",
             "gridcolor": "white",
             "linecolor": "white",
             "minorgridcolor": "white",
             "startlinecolor": "#2a3f5f"
            },
            "type": "carpet"
           }
          ],
          "choropleth": [
           {
            "colorbar": {
             "outlinewidth": 0,
             "ticks": ""
            },
            "type": "choropleth"
           }
          ],
          "contour": [
           {
            "colorbar": {
             "outlinewidth": 0,
             "ticks": ""
            },
            "colorscale": [
             [
              0,
              "#0d0887"
             ],
             [
              0.1111111111111111,
              "#46039f"
             ],
             [
              0.2222222222222222,
              "#7201a8"
             ],
             [
              0.3333333333333333,
              "#9c179e"
             ],
             [
              0.4444444444444444,
              "#bd3786"
             ],
             [
              0.5555555555555556,
              "#d8576b"
             ],
             [
              0.6666666666666666,
              "#ed7953"
             ],
             [
              0.7777777777777778,
              "#fb9f3a"
             ],
             [
              0.8888888888888888,
              "#fdca26"
             ],
             [
              1,
              "#f0f921"
             ]
            ],
            "type": "contour"
           }
          ],
          "contourcarpet": [
           {
            "colorbar": {
             "outlinewidth": 0,
             "ticks": ""
            },
            "type": "contourcarpet"
           }
          ],
          "heatmap": [
           {
            "colorbar": {
             "outlinewidth": 0,
             "ticks": ""
            },
            "colorscale": [
             [
              0,
              "#0d0887"
             ],
             [
              0.1111111111111111,
              "#46039f"
             ],
             [
              0.2222222222222222,
              "#7201a8"
             ],
             [
              0.3333333333333333,
              "#9c179e"
             ],
             [
              0.4444444444444444,
              "#bd3786"
             ],
             [
              0.5555555555555556,
              "#d8576b"
             ],
             [
              0.6666666666666666,
              "#ed7953"
             ],
             [
              0.7777777777777778,
              "#fb9f3a"
             ],
             [
              0.8888888888888888,
              "#fdca26"
             ],
             [
              1,
              "#f0f921"
             ]
            ],
            "type": "heatmap"
           }
          ],
          "heatmapgl": [
           {
            "colorbar": {
             "outlinewidth": 0,
             "ticks": ""
            },
            "colorscale": [
             [
              0,
              "#0d0887"
             ],
             [
              0.1111111111111111,
              "#46039f"
             ],
             [
              0.2222222222222222,
              "#7201a8"
             ],
             [
              0.3333333333333333,
              "#9c179e"
             ],
             [
              0.4444444444444444,
              "#bd3786"
             ],
             [
              0.5555555555555556,
              "#d8576b"
             ],
             [
              0.6666666666666666,
              "#ed7953"
             ],
             [
              0.7777777777777778,
              "#fb9f3a"
             ],
             [
              0.8888888888888888,
              "#fdca26"
             ],
             [
              1,
              "#f0f921"
             ]
            ],
            "type": "heatmapgl"
           }
          ],
          "histogram": [
           {
            "marker": {
             "colorbar": {
              "outlinewidth": 0,
              "ticks": ""
             }
            },
            "type": "histogram"
           }
          ],
          "histogram2d": [
           {
            "colorbar": {
             "outlinewidth": 0,
             "ticks": ""
            },
            "colorscale": [
             [
              0,
              "#0d0887"
             ],
             [
              0.1111111111111111,
              "#46039f"
             ],
             [
              0.2222222222222222,
              "#7201a8"
             ],
             [
              0.3333333333333333,
              "#9c179e"
             ],
             [
              0.4444444444444444,
              "#bd3786"
             ],
             [
              0.5555555555555556,
              "#d8576b"
             ],
             [
              0.6666666666666666,
              "#ed7953"
             ],
             [
              0.7777777777777778,
              "#fb9f3a"
             ],
             [
              0.8888888888888888,
              "#fdca26"
             ],
             [
              1,
              "#f0f921"
             ]
            ],
            "type": "histogram2d"
           }
          ],
          "histogram2dcontour": [
           {
            "colorbar": {
             "outlinewidth": 0,
             "ticks": ""
            },
            "colorscale": [
             [
              0,
              "#0d0887"
             ],
             [
              0.1111111111111111,
              "#46039f"
             ],
             [
              0.2222222222222222,
              "#7201a8"
             ],
             [
              0.3333333333333333,
              "#9c179e"
             ],
             [
              0.4444444444444444,
              "#bd3786"
             ],
             [
              0.5555555555555556,
              "#d8576b"
             ],
             [
              0.6666666666666666,
              "#ed7953"
             ],
             [
              0.7777777777777778,
              "#fb9f3a"
             ],
             [
              0.8888888888888888,
              "#fdca26"
             ],
             [
              1,
              "#f0f921"
             ]
            ],
            "type": "histogram2dcontour"
           }
          ],
          "mesh3d": [
           {
            "colorbar": {
             "outlinewidth": 0,
             "ticks": ""
            },
            "type": "mesh3d"
           }
          ],
          "parcoords": [
           {
            "line": {
             "colorbar": {
              "outlinewidth": 0,
              "ticks": ""
             }
            },
            "type": "parcoords"
           }
          ],
          "pie": [
           {
            "automargin": true,
            "type": "pie"
           }
          ],
          "scatter": [
           {
            "marker": {
             "colorbar": {
              "outlinewidth": 0,
              "ticks": ""
             }
            },
            "type": "scatter"
           }
          ],
          "scatter3d": [
           {
            "line": {
             "colorbar": {
              "outlinewidth": 0,
              "ticks": ""
             }
            },
            "marker": {
             "colorbar": {
              "outlinewidth": 0,
              "ticks": ""
             }
            },
            "type": "scatter3d"
           }
          ],
          "scattercarpet": [
           {
            "marker": {
             "colorbar": {
              "outlinewidth": 0,
              "ticks": ""
             }
            },
            "type": "scattercarpet"
           }
          ],
          "scattergeo": [
           {
            "marker": {
             "colorbar": {
              "outlinewidth": 0,
              "ticks": ""
             }
            },
            "type": "scattergeo"
           }
          ],
          "scattergl": [
           {
            "marker": {
             "colorbar": {
              "outlinewidth": 0,
              "ticks": ""
             }
            },
            "type": "scattergl"
           }
          ],
          "scattermapbox": [
           {
            "marker": {
             "colorbar": {
              "outlinewidth": 0,
              "ticks": ""
             }
            },
            "type": "scattermapbox"
           }
          ],
          "scatterpolar": [
           {
            "marker": {
             "colorbar": {
              "outlinewidth": 0,
              "ticks": ""
             }
            },
            "type": "scatterpolar"
           }
          ],
          "scatterpolargl": [
           {
            "marker": {
             "colorbar": {
              "outlinewidth": 0,
              "ticks": ""
             }
            },
            "type": "scatterpolargl"
           }
          ],
          "scatterternary": [
           {
            "marker": {
             "colorbar": {
              "outlinewidth": 0,
              "ticks": ""
             }
            },
            "type": "scatterternary"
           }
          ],
          "surface": [
           {
            "colorbar": {
             "outlinewidth": 0,
             "ticks": ""
            },
            "colorscale": [
             [
              0,
              "#0d0887"
             ],
             [
              0.1111111111111111,
              "#46039f"
             ],
             [
              0.2222222222222222,
              "#7201a8"
             ],
             [
              0.3333333333333333,
              "#9c179e"
             ],
             [
              0.4444444444444444,
              "#bd3786"
             ],
             [
              0.5555555555555556,
              "#d8576b"
             ],
             [
              0.6666666666666666,
              "#ed7953"
             ],
             [
              0.7777777777777778,
              "#fb9f3a"
             ],
             [
              0.8888888888888888,
              "#fdca26"
             ],
             [
              1,
              "#f0f921"
             ]
            ],
            "type": "surface"
           }
          ],
          "table": [
           {
            "cells": {
             "fill": {
              "color": "#EBF0F8"
             },
             "line": {
              "color": "white"
             }
            },
            "header": {
             "fill": {
              "color": "#C8D4E3"
             },
             "line": {
              "color": "white"
             }
            },
            "type": "table"
           }
          ]
         },
         "layout": {
          "annotationdefaults": {
           "arrowcolor": "#2a3f5f",
           "arrowhead": 0,
           "arrowwidth": 1
          },
          "coloraxis": {
           "colorbar": {
            "outlinewidth": 0,
            "ticks": ""
           }
          },
          "colorscale": {
           "diverging": [
            [
             0,
             "#8e0152"
            ],
            [
             0.1,
             "#c51b7d"
            ],
            [
             0.2,
             "#de77ae"
            ],
            [
             0.3,
             "#f1b6da"
            ],
            [
             0.4,
             "#fde0ef"
            ],
            [
             0.5,
             "#f7f7f7"
            ],
            [
             0.6,
             "#e6f5d0"
            ],
            [
             0.7,
             "#b8e186"
            ],
            [
             0.8,
             "#7fbc41"
            ],
            [
             0.9,
             "#4d9221"
            ],
            [
             1,
             "#276419"
            ]
           ],
           "sequential": [
            [
             0,
             "#0d0887"
            ],
            [
             0.1111111111111111,
             "#46039f"
            ],
            [
             0.2222222222222222,
             "#7201a8"
            ],
            [
             0.3333333333333333,
             "#9c179e"
            ],
            [
             0.4444444444444444,
             "#bd3786"
            ],
            [
             0.5555555555555556,
             "#d8576b"
            ],
            [
             0.6666666666666666,
             "#ed7953"
            ],
            [
             0.7777777777777778,
             "#fb9f3a"
            ],
            [
             0.8888888888888888,
             "#fdca26"
            ],
            [
             1,
             "#f0f921"
            ]
           ],
           "sequentialminus": [
            [
             0,
             "#0d0887"
            ],
            [
             0.1111111111111111,
             "#46039f"
            ],
            [
             0.2222222222222222,
             "#7201a8"
            ],
            [
             0.3333333333333333,
             "#9c179e"
            ],
            [
             0.4444444444444444,
             "#bd3786"
            ],
            [
             0.5555555555555556,
             "#d8576b"
            ],
            [
             0.6666666666666666,
             "#ed7953"
            ],
            [
             0.7777777777777778,
             "#fb9f3a"
            ],
            [
             0.8888888888888888,
             "#fdca26"
            ],
            [
             1,
             "#f0f921"
            ]
           ]
          },
          "colorway": [
           "#636efa",
           "#EF553B",
           "#00cc96",
           "#ab63fa",
           "#FFA15A",
           "#19d3f3",
           "#FF6692",
           "#B6E880",
           "#FF97FF",
           "#FECB52"
          ],
          "font": {
           "color": "#2a3f5f"
          },
          "geo": {
           "bgcolor": "white",
           "lakecolor": "white",
           "landcolor": "#E5ECF6",
           "showlakes": true,
           "showland": true,
           "subunitcolor": "white"
          },
          "hoverlabel": {
           "align": "left"
          },
          "hovermode": "closest",
          "mapbox": {
           "style": "light"
          },
          "paper_bgcolor": "white",
          "plot_bgcolor": "#E5ECF6",
          "polar": {
           "angularaxis": {
            "gridcolor": "white",
            "linecolor": "white",
            "ticks": ""
           },
           "bgcolor": "#E5ECF6",
           "radialaxis": {
            "gridcolor": "white",
            "linecolor": "white",
            "ticks": ""
           }
          },
          "scene": {
           "xaxis": {
            "backgroundcolor": "#E5ECF6",
            "gridcolor": "white",
            "gridwidth": 2,
            "linecolor": "white",
            "showbackground": true,
            "ticks": "",
            "zerolinecolor": "white"
           },
           "yaxis": {
            "backgroundcolor": "#E5ECF6",
            "gridcolor": "white",
            "gridwidth": 2,
            "linecolor": "white",
            "showbackground": true,
            "ticks": "",
            "zerolinecolor": "white"
           },
           "zaxis": {
            "backgroundcolor": "#E5ECF6",
            "gridcolor": "white",
            "gridwidth": 2,
            "linecolor": "white",
            "showbackground": true,
            "ticks": "",
            "zerolinecolor": "white"
           }
          },
          "shapedefaults": {
           "line": {
            "color": "#2a3f5f"
           }
          },
          "ternary": {
           "aaxis": {
            "gridcolor": "white",
            "linecolor": "white",
            "ticks": ""
           },
           "baxis": {
            "gridcolor": "white",
            "linecolor": "white",
            "ticks": ""
           },
           "bgcolor": "#E5ECF6",
           "caxis": {
            "gridcolor": "white",
            "linecolor": "white",
            "ticks": ""
           }
          },
          "title": {
           "x": 0.05
          },
          "xaxis": {
           "automargin": true,
           "gridcolor": "white",
           "linecolor": "white",
           "ticks": "",
           "title": {
            "standoff": 15
           },
           "zerolinecolor": "white",
           "zerolinewidth": 2
          },
          "yaxis": {
           "automargin": true,
           "gridcolor": "white",
           "linecolor": "white",
           "ticks": "",
           "title": {
            "standoff": 15
           },
           "zerolinecolor": "white",
           "zerolinewidth": 2
          }
         }
        },
        "title": {
         "text": "The world mortality rate of infant and under five"
        },
        "xaxis": {
         "anchor": "y",
         "domain": [
          0,
          1
         ],
         "title": {
          "text": "Year"
         }
        },
        "yaxis": {
         "anchor": "x",
         "domain": [
          0,
          1
         ],
         "title": {
          "text": "Mortality rate (per 1000)"
         }
        }
       }
      },
      "text/html": [
       "<div>                            <div id=\"93abce63-0a81-4dac-99dc-fb544916be39\" class=\"plotly-graph-div\" style=\"height:525px; width:100%;\"></div>            <script type=\"text/javascript\">                require([\"plotly\"], function(Plotly) {                    window.PLOTLYENV=window.PLOTLYENV || {};                                    if (document.getElementById(\"93abce63-0a81-4dac-99dc-fb544916be39\")) {                    Plotly.newPlot(                        \"93abce63-0a81-4dac-99dc-fb544916be39\",                        [{\"hovertemplate\": \"Indicator Name=Mortality rate, infant (per 1,000 live births)<br>Year=%{x}<br>Mortality rate (per 1000)=%{y}<extra></extra>\", \"legendgroup\": \"Mortality rate, infant (per 1,000 live births)\", \"line\": {\"color\": \"#636efa\", \"dash\": \"solid\"}, \"mode\": \"lines\", \"name\": \"Mortality rate, infant (per 1,000 live births)\", \"orientation\": \"v\", \"showlegend\": true, \"type\": \"scatter\", \"x\": [\"1960\", \"1961\", \"1962\", \"1963\", \"1964\", \"1965\", \"1966\", \"1967\", \"1968\", \"1969\", \"1970\", \"1971\", \"1972\", \"1973\", \"1974\", \"1975\", \"1976\", \"1977\", \"1978\", \"1979\", \"1980\", \"1981\", \"1982\", \"1983\", \"1984\", \"1985\", \"1986\", \"1987\", \"1988\", \"1989\", \"1990\", \"1991\", \"1992\", \"1993\", \"1994\", \"1995\", \"1996\", \"1997\", \"1998\", \"1999\", \"2000\", \"2001\", \"2002\", \"2003\", \"2004\", \"2005\", \"2006\", \"2007\", \"2008\", \"2009\", \"2010\", \"2011\", \"2012\", \"2013\", \"2014\", \"2015\"], \"xaxis\": \"x\", \"y\": [121.9, 120.4, 118.4, 116.3, 116.2, 114.8, 113.4, 111.8, 108.6, 100.6, 97.6, 95.4, 93.5, 91.4, 89.5, 87.9, 86.2, 84.6, 83.1, 81.7, 80.0, 77.7, 75.6, 73.5, 71.3, 69.3, 67.6, 66.1, 64.8, 63.7, 62.8, 62.1, 61.6, 61.1, 60.6, 60.0, 59.0, 57.8, 56.4, 54.8, 53.1, 51.4, 49.5, 47.7, 46.0, 44.3, 42.8, 41.4, 40.1, 38.7, 37.5, 36.2, 34.9, 33.7, 32.6, 31.7], \"yaxis\": \"y\"}, {\"hovertemplate\": \"Indicator Name=Mortality rate, under-5 (per 1,000)<br>Year=%{x}<br>Mortality rate (per 1000)=%{y}<extra></extra>\", \"legendgroup\": \"Mortality rate, under-5 (per 1,000)\", \"line\": {\"color\": \"#EF553B\", \"dash\": \"solid\"}, \"mode\": \"lines\", \"name\": \"Mortality rate, under-5 (per 1,000)\", \"orientation\": \"v\", \"showlegend\": true, \"type\": \"scatter\", \"x\": [\"1960\", \"1961\", \"1962\", \"1963\", \"1964\", \"1965\", \"1966\", \"1967\", \"1968\", \"1969\", \"1970\", \"1971\", \"1972\", \"1973\", \"1974\", \"1975\", \"1976\", \"1977\", \"1978\", \"1979\", \"1980\", \"1981\", \"1982\", \"1983\", \"1984\", \"1985\", \"1986\", \"1987\", \"1988\", \"1989\", \"1990\", \"1991\", \"1992\", \"1993\", \"1994\", \"1995\", \"1996\", \"1997\", \"1998\", \"1999\", \"2000\", \"2001\", \"2002\", \"2003\", \"2004\", \"2005\", \"2006\", \"2007\", \"2008\", \"2009\", \"2010\", \"2011\", \"2012\", \"2013\", \"2014\", \"2015\"], \"xaxis\": \"x\", \"y\": [182.7, 180.4, 177.1, 174.1, 175.2, 172.8, 171.2, 168.9, 163.7, 149.8, 144.9, 141.4, 138.3, 135.1, 132.0, 129.4, 126.6, 123.9, 121.4, 119.0, 116.4, 113.3, 110.3, 107.3, 104.1, 101.2, 98.6, 96.2, 94.0, 92.1, 90.6, 89.2, 88.2, 87.3, 86.5, 85.3, 84.0, 82.5, 80.6, 78.3, 75.9, 73.4, 70.7, 67.9, 65.5, 62.6, 60.1, 57.8, 55.8, 53.5, 51.7, 49.4, 47.4, 45.6, 43.9, 42.5], \"yaxis\": \"y\"}],                        {\"legend\": {\"title\": {\"text\": \"Indicator Name\"}, \"tracegroupgap\": 0}, \"template\": {\"data\": {\"bar\": [{\"error_x\": {\"color\": \"#2a3f5f\"}, \"error_y\": {\"color\": \"#2a3f5f\"}, \"marker\": {\"line\": {\"color\": \"#E5ECF6\", \"width\": 0.5}}, \"type\": \"bar\"}], \"barpolar\": [{\"marker\": {\"line\": {\"color\": \"#E5ECF6\", \"width\": 0.5}}, \"type\": \"barpolar\"}], \"carpet\": [{\"aaxis\": {\"endlinecolor\": \"#2a3f5f\", \"gridcolor\": \"white\", \"linecolor\": \"white\", \"minorgridcolor\": \"white\", \"startlinecolor\": \"#2a3f5f\"}, \"baxis\": {\"endlinecolor\": \"#2a3f5f\", \"gridcolor\": \"white\", \"linecolor\": \"white\", \"minorgridcolor\": \"white\", \"startlinecolor\": \"#2a3f5f\"}, \"type\": \"carpet\"}], \"choropleth\": [{\"colorbar\": {\"outlinewidth\": 0, \"ticks\": \"\"}, \"type\": \"choropleth\"}], \"contour\": [{\"colorbar\": {\"outlinewidth\": 0, \"ticks\": \"\"}, \"colorscale\": [[0.0, \"#0d0887\"], [0.1111111111111111, \"#46039f\"], [0.2222222222222222, \"#7201a8\"], [0.3333333333333333, \"#9c179e\"], [0.4444444444444444, \"#bd3786\"], [0.5555555555555556, \"#d8576b\"], [0.6666666666666666, \"#ed7953\"], [0.7777777777777778, \"#fb9f3a\"], [0.8888888888888888, \"#fdca26\"], [1.0, \"#f0f921\"]], \"type\": \"contour\"}], \"contourcarpet\": [{\"colorbar\": {\"outlinewidth\": 0, \"ticks\": \"\"}, \"type\": \"contourcarpet\"}], \"heatmap\": [{\"colorbar\": {\"outlinewidth\": 0, \"ticks\": \"\"}, \"colorscale\": [[0.0, \"#0d0887\"], [0.1111111111111111, \"#46039f\"], [0.2222222222222222, \"#7201a8\"], [0.3333333333333333, \"#9c179e\"], [0.4444444444444444, \"#bd3786\"], [0.5555555555555556, \"#d8576b\"], [0.6666666666666666, \"#ed7953\"], [0.7777777777777778, \"#fb9f3a\"], [0.8888888888888888, \"#fdca26\"], [1.0, \"#f0f921\"]], \"type\": \"heatmap\"}], \"heatmapgl\": [{\"colorbar\": {\"outlinewidth\": 0, \"ticks\": \"\"}, \"colorscale\": [[0.0, \"#0d0887\"], [0.1111111111111111, \"#46039f\"], [0.2222222222222222, \"#7201a8\"], [0.3333333333333333, \"#9c179e\"], [0.4444444444444444, \"#bd3786\"], [0.5555555555555556, \"#d8576b\"], [0.6666666666666666, \"#ed7953\"], [0.7777777777777778, \"#fb9f3a\"], [0.8888888888888888, \"#fdca26\"], [1.0, \"#f0f921\"]], \"type\": \"heatmapgl\"}], \"histogram\": [{\"marker\": {\"colorbar\": {\"outlinewidth\": 0, \"ticks\": \"\"}}, \"type\": \"histogram\"}], \"histogram2d\": [{\"colorbar\": {\"outlinewidth\": 0, \"ticks\": \"\"}, \"colorscale\": [[0.0, \"#0d0887\"], [0.1111111111111111, \"#46039f\"], [0.2222222222222222, \"#7201a8\"], [0.3333333333333333, \"#9c179e\"], [0.4444444444444444, \"#bd3786\"], [0.5555555555555556, \"#d8576b\"], [0.6666666666666666, \"#ed7953\"], [0.7777777777777778, \"#fb9f3a\"], [0.8888888888888888, \"#fdca26\"], [1.0, \"#f0f921\"]], \"type\": \"histogram2d\"}], \"histogram2dcontour\": [{\"colorbar\": {\"outlinewidth\": 0, \"ticks\": \"\"}, \"colorscale\": [[0.0, \"#0d0887\"], [0.1111111111111111, \"#46039f\"], [0.2222222222222222, \"#7201a8\"], [0.3333333333333333, \"#9c179e\"], [0.4444444444444444, \"#bd3786\"], [0.5555555555555556, \"#d8576b\"], [0.6666666666666666, \"#ed7953\"], [0.7777777777777778, \"#fb9f3a\"], [0.8888888888888888, \"#fdca26\"], [1.0, \"#f0f921\"]], \"type\": \"histogram2dcontour\"}], \"mesh3d\": [{\"colorbar\": {\"outlinewidth\": 0, \"ticks\": \"\"}, \"type\": \"mesh3d\"}], \"parcoords\": [{\"line\": {\"colorbar\": {\"outlinewidth\": 0, \"ticks\": \"\"}}, \"type\": \"parcoords\"}], \"pie\": [{\"automargin\": true, \"type\": \"pie\"}], \"scatter\": [{\"marker\": {\"colorbar\": {\"outlinewidth\": 0, \"ticks\": \"\"}}, \"type\": \"scatter\"}], \"scatter3d\": [{\"line\": {\"colorbar\": {\"outlinewidth\": 0, \"ticks\": \"\"}}, \"marker\": {\"colorbar\": {\"outlinewidth\": 0, \"ticks\": \"\"}}, \"type\": \"scatter3d\"}], \"scattercarpet\": [{\"marker\": {\"colorbar\": {\"outlinewidth\": 0, \"ticks\": \"\"}}, \"type\": \"scattercarpet\"}], \"scattergeo\": [{\"marker\": {\"colorbar\": {\"outlinewidth\": 0, \"ticks\": \"\"}}, \"type\": \"scattergeo\"}], \"scattergl\": [{\"marker\": {\"colorbar\": {\"outlinewidth\": 0, \"ticks\": \"\"}}, \"type\": \"scattergl\"}], \"scattermapbox\": [{\"marker\": {\"colorbar\": {\"outlinewidth\": 0, \"ticks\": \"\"}}, \"type\": \"scattermapbox\"}], \"scatterpolar\": [{\"marker\": {\"colorbar\": {\"outlinewidth\": 0, \"ticks\": \"\"}}, \"type\": \"scatterpolar\"}], \"scatterpolargl\": [{\"marker\": {\"colorbar\": {\"outlinewidth\": 0, \"ticks\": \"\"}}, \"type\": \"scatterpolargl\"}], \"scatterternary\": [{\"marker\": {\"colorbar\": {\"outlinewidth\": 0, \"ticks\": \"\"}}, \"type\": \"scatterternary\"}], \"surface\": [{\"colorbar\": {\"outlinewidth\": 0, \"ticks\": \"\"}, \"colorscale\": [[0.0, \"#0d0887\"], [0.1111111111111111, \"#46039f\"], [0.2222222222222222, \"#7201a8\"], [0.3333333333333333, \"#9c179e\"], [0.4444444444444444, \"#bd3786\"], [0.5555555555555556, \"#d8576b\"], [0.6666666666666666, \"#ed7953\"], [0.7777777777777778, \"#fb9f3a\"], [0.8888888888888888, \"#fdca26\"], [1.0, \"#f0f921\"]], \"type\": \"surface\"}], \"table\": [{\"cells\": {\"fill\": {\"color\": \"#EBF0F8\"}, \"line\": {\"color\": \"white\"}}, \"header\": {\"fill\": {\"color\": \"#C8D4E3\"}, \"line\": {\"color\": \"white\"}}, \"type\": \"table\"}]}, \"layout\": {\"annotationdefaults\": {\"arrowcolor\": \"#2a3f5f\", \"arrowhead\": 0, \"arrowwidth\": 1}, \"coloraxis\": {\"colorbar\": {\"outlinewidth\": 0, \"ticks\": \"\"}}, \"colorscale\": {\"diverging\": [[0, \"#8e0152\"], [0.1, \"#c51b7d\"], [0.2, \"#de77ae\"], [0.3, \"#f1b6da\"], [0.4, \"#fde0ef\"], [0.5, \"#f7f7f7\"], [0.6, \"#e6f5d0\"], [0.7, \"#b8e186\"], [0.8, \"#7fbc41\"], [0.9, \"#4d9221\"], [1, \"#276419\"]], \"sequential\": [[0.0, \"#0d0887\"], [0.1111111111111111, \"#46039f\"], [0.2222222222222222, \"#7201a8\"], [0.3333333333333333, \"#9c179e\"], [0.4444444444444444, \"#bd3786\"], [0.5555555555555556, \"#d8576b\"], [0.6666666666666666, \"#ed7953\"], [0.7777777777777778, \"#fb9f3a\"], [0.8888888888888888, \"#fdca26\"], [1.0, \"#f0f921\"]], \"sequentialminus\": [[0.0, \"#0d0887\"], [0.1111111111111111, \"#46039f\"], [0.2222222222222222, \"#7201a8\"], [0.3333333333333333, \"#9c179e\"], [0.4444444444444444, \"#bd3786\"], [0.5555555555555556, \"#d8576b\"], [0.6666666666666666, \"#ed7953\"], [0.7777777777777778, \"#fb9f3a\"], [0.8888888888888888, \"#fdca26\"], [1.0, \"#f0f921\"]]}, \"colorway\": [\"#636efa\", \"#EF553B\", \"#00cc96\", \"#ab63fa\", \"#FFA15A\", \"#19d3f3\", \"#FF6692\", \"#B6E880\", \"#FF97FF\", \"#FECB52\"], \"font\": {\"color\": \"#2a3f5f\"}, \"geo\": {\"bgcolor\": \"white\", \"lakecolor\": \"white\", \"landcolor\": \"#E5ECF6\", \"showlakes\": true, \"showland\": true, \"subunitcolor\": \"white\"}, \"hoverlabel\": {\"align\": \"left\"}, \"hovermode\": \"closest\", \"mapbox\": {\"style\": \"light\"}, \"paper_bgcolor\": \"white\", \"plot_bgcolor\": \"#E5ECF6\", \"polar\": {\"angularaxis\": {\"gridcolor\": \"white\", \"linecolor\": \"white\", \"ticks\": \"\"}, \"bgcolor\": \"#E5ECF6\", \"radialaxis\": {\"gridcolor\": \"white\", \"linecolor\": \"white\", \"ticks\": \"\"}}, \"scene\": {\"xaxis\": {\"backgroundcolor\": \"#E5ECF6\", \"gridcolor\": \"white\", \"gridwidth\": 2, \"linecolor\": \"white\", \"showbackground\": true, \"ticks\": \"\", \"zerolinecolor\": \"white\"}, \"yaxis\": {\"backgroundcolor\": \"#E5ECF6\", \"gridcolor\": \"white\", \"gridwidth\": 2, \"linecolor\": \"white\", \"showbackground\": true, \"ticks\": \"\", \"zerolinecolor\": \"white\"}, \"zaxis\": {\"backgroundcolor\": \"#E5ECF6\", \"gridcolor\": \"white\", \"gridwidth\": 2, \"linecolor\": \"white\", \"showbackground\": true, \"ticks\": \"\", \"zerolinecolor\": \"white\"}}, \"shapedefaults\": {\"line\": {\"color\": \"#2a3f5f\"}}, \"ternary\": {\"aaxis\": {\"gridcolor\": \"white\", \"linecolor\": \"white\", \"ticks\": \"\"}, \"baxis\": {\"gridcolor\": \"white\", \"linecolor\": \"white\", \"ticks\": \"\"}, \"bgcolor\": \"#E5ECF6\", \"caxis\": {\"gridcolor\": \"white\", \"linecolor\": \"white\", \"ticks\": \"\"}}, \"title\": {\"x\": 0.05}, \"xaxis\": {\"automargin\": true, \"gridcolor\": \"white\", \"linecolor\": \"white\", \"ticks\": \"\", \"title\": {\"standoff\": 15}, \"zerolinecolor\": \"white\", \"zerolinewidth\": 2}, \"yaxis\": {\"automargin\": true, \"gridcolor\": \"white\", \"linecolor\": \"white\", \"ticks\": \"\", \"title\": {\"standoff\": 15}, \"zerolinecolor\": \"white\", \"zerolinewidth\": 2}}}, \"title\": {\"text\": \"The world mortality rate of infant and under five\"}, \"xaxis\": {\"anchor\": \"y\", \"domain\": [0.0, 1.0], \"title\": {\"text\": \"Year\"}}, \"yaxis\": {\"anchor\": \"x\", \"domain\": [0.0, 1.0], \"title\": {\"text\": \"Mortality rate (per 1000)\"}}},                        {\"responsive\": true}                    ).then(function(){\n",
       "                            \n",
       "var gd = document.getElementById('93abce63-0a81-4dac-99dc-fb544916be39');\n",
       "var x = new MutationObserver(function (mutations, observer) {{\n",
       "        var display = window.getComputedStyle(gd).display;\n",
       "        if (!display || display === 'none') {{\n",
       "            console.log([gd, 'removed!']);\n",
       "            Plotly.purge(gd);\n",
       "            observer.disconnect();\n",
       "        }}\n",
       "}});\n",
       "\n",
       "// Listen for the removal of the full notebook cells\n",
       "var notebookContainer = gd.closest('#notebook-container');\n",
       "if (notebookContainer) {{\n",
       "    x.observe(notebookContainer, {childList: true});\n",
       "}}\n",
       "\n",
       "// Listen for the clearing of the current output cell\n",
       "var outputEl = gd.closest('.output');\n",
       "if (outputEl) {{\n",
       "    x.observe(outputEl, {childList: true});\n",
       "}}\n",
       "\n",
       "                        })                };                });            </script>        </div>"
      ]
     },
     "metadata": {},
     "output_type": "display_data"
    }
   ],
   "source": [
    "fig = px.line(mortal_rate1, x=\"Year\", y=\"Mortality rate (per 1000)\", color='Indicator Name',\n",
    "              title = 'The world mortality rate of infant and under five' )\n",
    "fig.show()"
   ]
  },
  {
   "cell_type": "markdown",
   "metadata": {
    "ExecuteTime": {
     "end_time": "2020-12-07T08:15:58.171056Z",
     "start_time": "2020-12-07T08:15:58.126706Z"
    }
   },
   "source": [
    "During 55 years from 1960-2015, the mortality rate of infant and under 5 years old have significantly declining. The mortality rate of infant decreased from more than 180 to almost 50 (per 1000 live births) while the mortality rate of children before reaching 5 also decreased from almost 120 to lower than 50 (per 1000 live births)."
   ]
  },
  {
   "cell_type": "markdown",
   "metadata": {},
   "source": [
    "#### Mortality rate by region"
   ]
  },
  {
   "cell_type": "code",
   "execution_count": 50,
   "metadata": {
    "ExecuteTime": {
     "end_time": "2020-12-09T08:04:18.357068Z",
     "start_time": "2020-12-09T08:04:18.345264Z"
    }
   },
   "outputs": [],
   "source": [
    "mortal_rate = mortality_rate[mortality_rate['Country Name'].isin(['East Asia & Pacific', 'Europe & Central Asia', \n",
    "                                                  'Central Europe and the Baltics', 'Latin America & Caribbean', \n",
    "                                                  'Middle East & North Africa', 'North America','South Asia', 'Sub-Saharan Africa'])]"
   ]
  },
  {
   "cell_type": "code",
   "execution_count": 65,
   "metadata": {
    "ExecuteTime": {
     "end_time": "2020-12-09T11:27:20.806105Z",
     "start_time": "2020-12-09T11:27:20.742638Z"
    }
   },
   "outputs": [
    {
     "data": {
      "text/html": [
       "<div>\n",
       "<style scoped>\n",
       "    .dataframe tbody tr th:only-of-type {\n",
       "        vertical-align: middle;\n",
       "    }\n",
       "\n",
       "    .dataframe tbody tr th {\n",
       "        vertical-align: top;\n",
       "    }\n",
       "\n",
       "    .dataframe thead th {\n",
       "        text-align: right;\n",
       "    }\n",
       "</style>\n",
       "<table border=\"1\" class=\"dataframe\">\n",
       "  <thead>\n",
       "    <tr style=\"text-align: right;\">\n",
       "      <th></th>\n",
       "      <th>Country Name</th>\n",
       "      <th>Indicator Name</th>\n",
       "      <th>1960</th>\n",
       "      <th>1961</th>\n",
       "      <th>1962</th>\n",
       "      <th>1963</th>\n",
       "      <th>1964</th>\n",
       "      <th>1965</th>\n",
       "      <th>1966</th>\n",
       "      <th>1967</th>\n",
       "      <th>...</th>\n",
       "      <th>2006</th>\n",
       "      <th>2007</th>\n",
       "      <th>2008</th>\n",
       "      <th>2009</th>\n",
       "      <th>2010</th>\n",
       "      <th>2011</th>\n",
       "      <th>2012</th>\n",
       "      <th>2013</th>\n",
       "      <th>2014</th>\n",
       "      <th>2015</th>\n",
       "    </tr>\n",
       "  </thead>\n",
       "  <tbody>\n",
       "    <tr>\n",
       "      <th>15977</th>\n",
       "      <td>Latin America &amp; Caribbean</td>\n",
       "      <td>Mortality rate, infant (per 1,000 live births)</td>\n",
       "      <td>120.531796</td>\n",
       "      <td>117.501291</td>\n",
       "      <td>114.635478</td>\n",
       "      <td>105.495001</td>\n",
       "      <td>103.030791</td>\n",
       "      <td>100.367339</td>\n",
       "      <td>98.052078</td>\n",
       "      <td>95.777789</td>\n",
       "      <td>...</td>\n",
       "      <td>19.869697</td>\n",
       "      <td>19.124833</td>\n",
       "      <td>18.472552</td>\n",
       "      <td>17.869012</td>\n",
       "      <td>17.944076</td>\n",
       "      <td>16.774844</td>\n",
       "      <td>16.312728</td>\n",
       "      <td>15.915800</td>\n",
       "      <td>15.557316</td>\n",
       "      <td>15.221667</td>\n",
       "    </tr>\n",
       "    <tr>\n",
       "      <th>15978</th>\n",
       "      <td>Latin America &amp; Caribbean</td>\n",
       "      <td>Mortality rate, under-5 (per 1,000)</td>\n",
       "      <td>168.912622</td>\n",
       "      <td>164.323495</td>\n",
       "      <td>160.016843</td>\n",
       "      <td>147.279136</td>\n",
       "      <td>143.617199</td>\n",
       "      <td>139.589832</td>\n",
       "      <td>136.101289</td>\n",
       "      <td>132.713413</td>\n",
       "      <td>...</td>\n",
       "      <td>23.660048</td>\n",
       "      <td>22.757849</td>\n",
       "      <td>21.926827</td>\n",
       "      <td>21.177119</td>\n",
       "      <td>23.664594</td>\n",
       "      <td>19.866856</td>\n",
       "      <td>19.301054</td>\n",
       "      <td>18.779051</td>\n",
       "      <td>18.352882</td>\n",
       "      <td>17.964144</td>\n",
       "    </tr>\n",
       "    <tr>\n",
       "      <th>21840</th>\n",
       "      <td>North America</td>\n",
       "      <td>Mortality rate, infant (per 1,000 live births)</td>\n",
       "      <td>26.084210</td>\n",
       "      <td>25.555884</td>\n",
       "      <td>25.007387</td>\n",
       "      <td>24.468249</td>\n",
       "      <td>23.819411</td>\n",
       "      <td>23.280730</td>\n",
       "      <td>22.642701</td>\n",
       "      <td>21.924277</td>\n",
       "      <td>...</td>\n",
       "      <td>6.582571</td>\n",
       "      <td>6.480288</td>\n",
       "      <td>6.377815</td>\n",
       "      <td>6.283620</td>\n",
       "      <td>6.181439</td>\n",
       "      <td>5.979612</td>\n",
       "      <td>5.978237</td>\n",
       "      <td>5.786136</td>\n",
       "      <td>5.585846</td>\n",
       "      <td>5.486030</td>\n",
       "    </tr>\n",
       "    <tr>\n",
       "      <th>21841</th>\n",
       "      <td>North America</td>\n",
       "      <td>Mortality rate, under-5 (per 1,000)</td>\n",
       "      <td>30.342381</td>\n",
       "      <td>29.704598</td>\n",
       "      <td>29.056199</td>\n",
       "      <td>28.407249</td>\n",
       "      <td>27.748527</td>\n",
       "      <td>27.100000</td>\n",
       "      <td>26.361801</td>\n",
       "      <td>25.633742</td>\n",
       "      <td>...</td>\n",
       "      <td>7.751256</td>\n",
       "      <td>7.648365</td>\n",
       "      <td>7.545232</td>\n",
       "      <td>7.350368</td>\n",
       "      <td>7.247565</td>\n",
       "      <td>7.045216</td>\n",
       "      <td>6.943448</td>\n",
       "      <td>6.751101</td>\n",
       "      <td>6.550722</td>\n",
       "      <td>6.359729</td>\n",
       "    </tr>\n",
       "    <tr>\n",
       "      <th>26507</th>\n",
       "      <td>South Asia</td>\n",
       "      <td>Mortality rate, infant (per 1,000 live births)</td>\n",
       "      <td>168.000000</td>\n",
       "      <td>166.300000</td>\n",
       "      <td>163.300000</td>\n",
       "      <td>160.300000</td>\n",
       "      <td>157.600000</td>\n",
       "      <td>155.100000</td>\n",
       "      <td>152.600000</td>\n",
       "      <td>150.300000</td>\n",
       "      <td>...</td>\n",
       "      <td>56.500000</td>\n",
       "      <td>54.800000</td>\n",
       "      <td>53.100000</td>\n",
       "      <td>51.500000</td>\n",
       "      <td>49.800000</td>\n",
       "      <td>48.100000</td>\n",
       "      <td>46.500000</td>\n",
       "      <td>44.800000</td>\n",
       "      <td>43.300000</td>\n",
       "      <td>41.900000</td>\n",
       "    </tr>\n",
       "    <tr>\n",
       "      <th>26508</th>\n",
       "      <td>South Asia</td>\n",
       "      <td>Mortality rate, under-5 (per 1,000)</td>\n",
       "      <td>249.800000</td>\n",
       "      <td>247.100000</td>\n",
       "      <td>242.500000</td>\n",
       "      <td>238.200000</td>\n",
       "      <td>234.100000</td>\n",
       "      <td>230.300000</td>\n",
       "      <td>226.600000</td>\n",
       "      <td>223.100000</td>\n",
       "      <td>...</td>\n",
       "      <td>74.400000</td>\n",
       "      <td>71.700000</td>\n",
       "      <td>69.100000</td>\n",
       "      <td>66.500000</td>\n",
       "      <td>64.000000</td>\n",
       "      <td>61.600000</td>\n",
       "      <td>59.100000</td>\n",
       "      <td>56.800000</td>\n",
       "      <td>54.600000</td>\n",
       "      <td>52.500000</td>\n",
       "    </tr>\n",
       "  </tbody>\n",
       "</table>\n",
       "<p>6 rows × 58 columns</p>\n",
       "</div>"
      ],
      "text/plain": [
       "                    Country Name  \\\n",
       "15977  Latin America & Caribbean   \n",
       "15978  Latin America & Caribbean   \n",
       "21840              North America   \n",
       "21841              North America   \n",
       "26507                 South Asia   \n",
       "26508                 South Asia   \n",
       "\n",
       "                                       Indicator Name        1960        1961  \\\n",
       "15977  Mortality rate, infant (per 1,000 live births)  120.531796  117.501291   \n",
       "15978             Mortality rate, under-5 (per 1,000)  168.912622  164.323495   \n",
       "21840  Mortality rate, infant (per 1,000 live births)   26.084210   25.555884   \n",
       "21841             Mortality rate, under-5 (per 1,000)   30.342381   29.704598   \n",
       "26507  Mortality rate, infant (per 1,000 live births)  168.000000  166.300000   \n",
       "26508             Mortality rate, under-5 (per 1,000)  249.800000  247.100000   \n",
       "\n",
       "             1962        1963        1964        1965        1966        1967  \\\n",
       "15977  114.635478  105.495001  103.030791  100.367339   98.052078   95.777789   \n",
       "15978  160.016843  147.279136  143.617199  139.589832  136.101289  132.713413   \n",
       "21840   25.007387   24.468249   23.819411   23.280730   22.642701   21.924277   \n",
       "21841   29.056199   28.407249   27.748527   27.100000   26.361801   25.633742   \n",
       "26507  163.300000  160.300000  157.600000  155.100000  152.600000  150.300000   \n",
       "26508  242.500000  238.200000  234.100000  230.300000  226.600000  223.100000   \n",
       "\n",
       "       ...       2006       2007       2008       2009       2010       2011  \\\n",
       "15977  ...  19.869697  19.124833  18.472552  17.869012  17.944076  16.774844   \n",
       "15978  ...  23.660048  22.757849  21.926827  21.177119  23.664594  19.866856   \n",
       "21840  ...   6.582571   6.480288   6.377815   6.283620   6.181439   5.979612   \n",
       "21841  ...   7.751256   7.648365   7.545232   7.350368   7.247565   7.045216   \n",
       "26507  ...  56.500000  54.800000  53.100000  51.500000  49.800000  48.100000   \n",
       "26508  ...  74.400000  71.700000  69.100000  66.500000  64.000000  61.600000   \n",
       "\n",
       "            2012       2013       2014       2015  \n",
       "15977  16.312728  15.915800  15.557316  15.221667  \n",
       "15978  19.301054  18.779051  18.352882  17.964144  \n",
       "21840   5.978237   5.786136   5.585846   5.486030  \n",
       "21841   6.943448   6.751101   6.550722   6.359729  \n",
       "26507  46.500000  44.800000  43.300000  41.900000  \n",
       "26508  59.100000  56.800000  54.600000  52.500000  \n",
       "\n",
       "[6 rows x 58 columns]"
      ]
     },
     "execution_count": 65,
     "metadata": {},
     "output_type": "execute_result"
    }
   ],
   "source": [
    "mortal_rate"
   ]
  },
  {
   "cell_type": "code",
   "execution_count": 64,
   "metadata": {
    "ExecuteTime": {
     "end_time": "2020-12-09T11:26:27.399948Z",
     "start_time": "2020-12-09T11:26:27.135663Z"
    }
   },
   "outputs": [
    {
     "data": {
      "application/vnd.plotly.v1+json": {
       "config": {
        "plotlyServerURL": "https://plot.ly"
       },
       "data": [
        {
         "hovertemplate": "Indicator Name=Mortality rate, infant (per 1,000 live births)<br>Country Name=%{x}<br>value=%{y}<extra></extra>",
         "legendgroup": "Mortality rate, infant (per 1,000 live births)",
         "marker": {
          "color": "#636efa",
          "symbol": "circle"
         },
         "mode": "markers",
         "name": "Mortality rate, infant (per 1,000 live births)",
         "orientation": "v",
         "showlegend": true,
         "type": "scatter",
         "x": [
          "Latin America & Caribbean",
          "North America",
          "South Asia",
          "Latin America & Caribbean",
          "North America",
          "South Asia",
          "Latin America & Caribbean",
          "North America",
          "South Asia",
          "Latin America & Caribbean",
          "North America",
          "South Asia",
          "Latin America & Caribbean",
          "North America",
          "South Asia",
          "Latin America & Caribbean",
          "North America",
          "South Asia",
          "Latin America & Caribbean",
          "North America",
          "South Asia",
          "Latin America & Caribbean",
          "North America",
          "South Asia",
          "Latin America & Caribbean",
          "North America",
          "South Asia",
          "Latin America & Caribbean",
          "North America",
          "South Asia",
          "Latin America & Caribbean",
          "North America",
          "South Asia",
          "Latin America & Caribbean",
          "North America",
          "South Asia",
          "Latin America & Caribbean",
          "North America",
          "South Asia",
          "Latin America & Caribbean",
          "North America",
          "South Asia",
          "Latin America & Caribbean",
          "North America",
          "South Asia",
          "Latin America & Caribbean",
          "North America",
          "South Asia",
          "Latin America & Caribbean",
          "North America",
          "South Asia",
          "Latin America & Caribbean",
          "North America",
          "South Asia",
          "Latin America & Caribbean",
          "North America",
          "South Asia",
          "Latin America & Caribbean",
          "North America",
          "South Asia",
          "Latin America & Caribbean",
          "North America",
          "South Asia",
          "Latin America & Caribbean",
          "North America",
          "South Asia",
          "Latin America & Caribbean",
          "North America",
          "South Asia",
          "Latin America & Caribbean",
          "North America",
          "South Asia",
          "Latin America & Caribbean",
          "North America",
          "South Asia",
          "Latin America & Caribbean",
          "North America",
          "South Asia",
          "Latin America & Caribbean",
          "North America",
          "South Asia",
          "Latin America & Caribbean",
          "North America",
          "South Asia",
          "Latin America & Caribbean",
          "North America",
          "South Asia",
          "Latin America & Caribbean",
          "North America",
          "South Asia",
          "Latin America & Caribbean",
          "North America",
          "South Asia",
          "Latin America & Caribbean",
          "North America",
          "South Asia",
          "Latin America & Caribbean",
          "North America",
          "South Asia",
          "Latin America & Caribbean",
          "North America",
          "South Asia",
          "Latin America & Caribbean",
          "North America",
          "South Asia",
          "Latin America & Caribbean",
          "North America",
          "South Asia",
          "Latin America & Caribbean",
          "North America",
          "South Asia",
          "Latin America & Caribbean",
          "North America",
          "South Asia",
          "Latin America & Caribbean",
          "North America",
          "South Asia",
          "Latin America & Caribbean",
          "North America",
          "South Asia",
          "Latin America & Caribbean",
          "North America",
          "South Asia",
          "Latin America & Caribbean",
          "North America",
          "South Asia",
          "Latin America & Caribbean",
          "North America",
          "South Asia",
          "Latin America & Caribbean",
          "North America",
          "South Asia",
          "Latin America & Caribbean",
          "North America",
          "South Asia",
          "Latin America & Caribbean",
          "North America",
          "South Asia",
          "Latin America & Caribbean",
          "North America",
          "South Asia",
          "Latin America & Caribbean",
          "North America",
          "South Asia",
          "Latin America & Caribbean",
          "North America",
          "South Asia",
          "Latin America & Caribbean",
          "North America",
          "South Asia",
          "Latin America & Caribbean",
          "North America",
          "South Asia",
          "Latin America & Caribbean",
          "North America",
          "South Asia",
          "Latin America & Caribbean",
          "North America",
          "South Asia",
          "Latin America & Caribbean",
          "North America",
          "South Asia",
          "Latin America & Caribbean",
          "North America",
          "South Asia",
          "Latin America & Caribbean",
          "North America",
          "South Asia"
         ],
         "xaxis": "x",
         "y": [
          120.531795854553,
          26.0842098168227,
          168,
          117.50129125794399,
          25.555883947216397,
          166.3,
          114.635478107832,
          25.007386989869104,
          163.3,
          105.495001358806,
          24.468249302257103,
          160.3,
          103.03079062261601,
          23.8194109712122,
          157.6,
          100.367338927528,
          23.280729912203697,
          155.1,
          98.05207838397959,
          22.642701224005105,
          152.6,
          95.7777887187469,
          21.924276938197604,
          150.3,
          93.47425979541109,
          21.1966374044481,
          148.1,
          89.62725317945991,
          20.4877650441456,
          146,
          87.46041235433779,
          19.769203042541,
          144,
          85.2553771558366,
          18.9688357133832,
          141.9,
          82.9938176637006,
          18.1492525657163,
          139.7,
          80.7797202662223,
          17.348185036129,
          137.4,
          78.5582676606792,
          16.5374880170785,
          134.9,
          76.3440717177768,
          15.826819545574999,
          132.4,
          74.04168920851309,
          15.016473237446801,
          129.6,
          71.63579761709741,
          14.306662470462198,
          126.6,
          69.1838572366863,
          13.6071783810989,
          123.6,
          66.6493916481917,
          12.9891791288326,
          120.7,
          64.0912892531188,
          12.381583193876901,
          117.7,
          61.5235453038559,
          11.874637143262401,
          114.8,
          59.064774195381005,
          11.4680798776262,
          112,
          56.63820878217871,
          10.970810354046199,
          109.2,
          54.408750887146795,
          10.6642148201106,
          106.6,
          52.262152300012,
          10.366322127009301,
          104,
          50.2292059253837,
          10.158885159653801,
          101.5,
          48.301852328323605,
          9.95986051923339,
          99,
          46.4979863669104,
          9.75152429487256,
          96.5,
          44.723936610297,
          9.46951091558688,
          94.1,
          43.017167316839505,
          9.16974184440236,
          91.6,
          41.330053352380794,
          8.87912402732254,
          89.3,
          39.6461472641883,
          8.58898906060679,
          86.9,
          37.965393834825896,
          8.2906901103495,
          84.6,
          36.267726631864704,
          8.01034379853806,
          82.3,
          34.551755374278805,
          7.8047344448163605,
          80.1,
          32.872348371870196,
          7.525044449474749,
          77.9,
          31.2187797725447,
          7.328692536910401,
          75.5,
          29.663918743839698,
          7.14830559173141,
          73.3,
          28.0936598462879,
          7.0513519286240705,
          71,
          26.5879662845115,
          6.95384632230072,
          68.8,
          25.2288543799677,
          6.87073818275231,
          66.6,
          23.971357868580604,
          6.7790199163888,
          64.4,
          22.759106348832397,
          6.67896292455509,
          62.3,
          21.7258214521208,
          6.770586451604849,
          60.3,
          20.739092355020798,
          6.68447005378669,
          58.3,
          19.8696965484068,
          6.5825707341558095,
          56.5,
          19.124833292204197,
          6.48028834510079,
          54.8,
          18.472552183172898,
          6.377815015238121,
          53.1,
          17.869011897180396,
          6.283619688602929,
          51.5,
          17.9440755525675,
          6.181439234326481,
          49.8,
          16.7748435567155,
          5.97961226516258,
          48.1,
          16.3127279650277,
          5.97823727927474,
          46.5,
          15.91579975234,
          5.78613581738157,
          44.8,
          15.557315519987302,
          5.58584622631956,
          43.3,
          15.2216669378845,
          5.48602955944646,
          41.9
         ],
         "yaxis": "y"
        },
        {
         "hovertemplate": "Indicator Name=Mortality rate, under-5 (per 1,000)<br>Country Name=%{x}<br>value=%{y}<extra></extra>",
         "legendgroup": "Mortality rate, under-5 (per 1,000)",
         "marker": {
          "color": "#EF553B",
          "symbol": "circle"
         },
         "mode": "markers",
         "name": "Mortality rate, under-5 (per 1,000)",
         "orientation": "v",
         "showlegend": true,
         "type": "scatter",
         "x": [
          "Latin America & Caribbean",
          "North America",
          "South Asia",
          "Latin America & Caribbean",
          "North America",
          "South Asia",
          "Latin America & Caribbean",
          "North America",
          "South Asia",
          "Latin America & Caribbean",
          "North America",
          "South Asia",
          "Latin America & Caribbean",
          "North America",
          "South Asia",
          "Latin America & Caribbean",
          "North America",
          "South Asia",
          "Latin America & Caribbean",
          "North America",
          "South Asia",
          "Latin America & Caribbean",
          "North America",
          "South Asia",
          "Latin America & Caribbean",
          "North America",
          "South Asia",
          "Latin America & Caribbean",
          "North America",
          "South Asia",
          "Latin America & Caribbean",
          "North America",
          "South Asia",
          "Latin America & Caribbean",
          "North America",
          "South Asia",
          "Latin America & Caribbean",
          "North America",
          "South Asia",
          "Latin America & Caribbean",
          "North America",
          "South Asia",
          "Latin America & Caribbean",
          "North America",
          "South Asia",
          "Latin America & Caribbean",
          "North America",
          "South Asia",
          "Latin America & Caribbean",
          "North America",
          "South Asia",
          "Latin America & Caribbean",
          "North America",
          "South Asia",
          "Latin America & Caribbean",
          "North America",
          "South Asia",
          "Latin America & Caribbean",
          "North America",
          "South Asia",
          "Latin America & Caribbean",
          "North America",
          "South Asia",
          "Latin America & Caribbean",
          "North America",
          "South Asia",
          "Latin America & Caribbean",
          "North America",
          "South Asia",
          "Latin America & Caribbean",
          "North America",
          "South Asia",
          "Latin America & Caribbean",
          "North America",
          "South Asia",
          "Latin America & Caribbean",
          "North America",
          "South Asia",
          "Latin America & Caribbean",
          "North America",
          "South Asia",
          "Latin America & Caribbean",
          "North America",
          "South Asia",
          "Latin America & Caribbean",
          "North America",
          "South Asia",
          "Latin America & Caribbean",
          "North America",
          "South Asia",
          "Latin America & Caribbean",
          "North America",
          "South Asia",
          "Latin America & Caribbean",
          "North America",
          "South Asia",
          "Latin America & Caribbean",
          "North America",
          "South Asia",
          "Latin America & Caribbean",
          "North America",
          "South Asia",
          "Latin America & Caribbean",
          "North America",
          "South Asia",
          "Latin America & Caribbean",
          "North America",
          "South Asia",
          "Latin America & Caribbean",
          "North America",
          "South Asia",
          "Latin America & Caribbean",
          "North America",
          "South Asia",
          "Latin America & Caribbean",
          "North America",
          "South Asia",
          "Latin America & Caribbean",
          "North America",
          "South Asia",
          "Latin America & Caribbean",
          "North America",
          "South Asia",
          "Latin America & Caribbean",
          "North America",
          "South Asia",
          "Latin America & Caribbean",
          "North America",
          "South Asia",
          "Latin America & Caribbean",
          "North America",
          "South Asia",
          "Latin America & Caribbean",
          "North America",
          "South Asia",
          "Latin America & Caribbean",
          "North America",
          "South Asia",
          "Latin America & Caribbean",
          "North America",
          "South Asia",
          "Latin America & Caribbean",
          "North America",
          "South Asia",
          "Latin America & Caribbean",
          "North America",
          "South Asia",
          "Latin America & Caribbean",
          "North America",
          "South Asia",
          "Latin America & Caribbean",
          "North America",
          "South Asia",
          "Latin America & Caribbean",
          "North America",
          "South Asia",
          "Latin America & Caribbean",
          "North America",
          "South Asia",
          "Latin America & Caribbean",
          "North America",
          "South Asia",
          "Latin America & Caribbean",
          "North America",
          "South Asia",
          "Latin America & Caribbean",
          "North America",
          "South Asia"
         ],
         "xaxis": "x",
         "y": [
          168.912622397852,
          30.3423813379246,
          249.8,
          164.323495345908,
          29.7045976807216,
          247.1,
          160.016842511638,
          29.0561992579914,
          242.5,
          147.27913559028,
          28.4072489035468,
          238.2,
          143.61719922166202,
          27.7485274280304,
          234.1,
          139.58983192946502,
          27.1,
          230.3,
          136.101289421178,
          26.3618008160034,
          226.6,
          132.713412566354,
          25.6337423209229,
          223.1,
          129.28132316931,
          24.8060340040437,
          219.7,
          123.17897893716601,
          23.997117957133398,
          216.4,
          119.90570549263,
          23.1785456823595,
          213.2,
          116.51690916815001,
          22.268835713383197,
          210,
          113.071744587978,
          21.3492525657163,
          206.4,
          109.72745952430799,
          20.448185036129,
          202.9,
          106.38810314611601,
          19.5374880170785,
          198.9,
          103.011478623072,
          18.626819545575,
          194.8,
          99.55346163740101,
          17.716473237446802,
          190.5,
          95.94843703195922,
          16.906662470462198,
          185.8,
          92.29818434656721,
          16.097537300153903,
          181,
          88.51555058167361,
          15.379596361961301,
          176.1,
          84.74961147582391,
          14.762590428127,
          171.3,
          80.9671398411084,
          14.155856905201,
          166.5,
          77.2989890400243,
          13.6495262678363,
          161.9,
          73.8049631741567,
          13.143307596531699,
          157.6,
          70.53068032982459,
          12.737008837815699,
          153.2,
          67.4505788000914,
          12.4303716850107,
          149.1,
          64.5426834338579,
          12.132094621837599,
          145,
          61.75636380583511,
          11.924284299860599,
          141,
          59.1469433330931,
          11.624901897894599,
          137.1,
          56.66717642132811,
          11.3340510564464,
          133.1,
          54.2525928461131,
          10.9431735956796,
          129.3,
          51.877209599608896,
          10.6437838716941,
          125.5,
          49.514411222488604,
          10.2538205707079,
          121.9,
          47.17589159629661,
          9.86452637414318,
          118.3,
          44.8383282681077,
          9.57586085281771,
          114.8,
          42.5313293082215,
          9.27926502457502,
          111.2,
          40.2709138156597,
          8.99171958270803,
          107.7,
          38.068525723962296,
          8.70422004218331,
          104.2,
          36.29887273126,
          8.516369926832759,
          100.6,
          34.1607001223587,
          8.42005759780809,
          97.1,
          32.0278942068932,
          8.23076942582189,
          93.6,
          30.291366580309802,
          8.14032363751756,
          90.1,
          28.671115693129302,
          8.048774895486,
          86.8,
          27.226715162740803,
          7.94870365569387,
          83.5,
          25.9223944211062,
          7.94774876659395,
          80.4,
          24.699316754541698,
          7.85366206812981,
          77.3,
          23.660048303203503,
          7.75125626326403,
          74.4,
          22.757848999087702,
          7.6483652371276705,
          71.7,
          21.926827483175398,
          7.54523235263495,
          69.1,
          21.1771188895686,
          7.35036817106091,
          66.5,
          23.6645943163129,
          7.24756472984833,
          64,
          19.8668561873523,
          7.04521576949474,
          61.6,
          19.3010543850789,
          6.94344793049609,
          59.1,
          18.7790512101583,
          6.75110068426821,
          56.8,
          18.352882175825602,
          6.55072198826404,
          54.6,
          17.964144031427,
          6.35972868854949,
          52.5
         ],
         "yaxis": "y"
        }
       ],
       "layout": {
        "legend": {
         "title": {
          "text": "Indicator Name"
         },
         "tracegroupgap": 0
        },
        "template": {
         "data": {
          "bar": [
           {
            "error_x": {
             "color": "#2a3f5f"
            },
            "error_y": {
             "color": "#2a3f5f"
            },
            "marker": {
             "line": {
              "color": "#E5ECF6",
              "width": 0.5
             }
            },
            "type": "bar"
           }
          ],
          "barpolar": [
           {
            "marker": {
             "line": {
              "color": "#E5ECF6",
              "width": 0.5
             }
            },
            "type": "barpolar"
           }
          ],
          "carpet": [
           {
            "aaxis": {
             "endlinecolor": "#2a3f5f",
             "gridcolor": "white",
             "linecolor": "white",
             "minorgridcolor": "white",
             "startlinecolor": "#2a3f5f"
            },
            "baxis": {
             "endlinecolor": "#2a3f5f",
             "gridcolor": "white",
             "linecolor": "white",
             "minorgridcolor": "white",
             "startlinecolor": "#2a3f5f"
            },
            "type": "carpet"
           }
          ],
          "choropleth": [
           {
            "colorbar": {
             "outlinewidth": 0,
             "ticks": ""
            },
            "type": "choropleth"
           }
          ],
          "contour": [
           {
            "colorbar": {
             "outlinewidth": 0,
             "ticks": ""
            },
            "colorscale": [
             [
              0,
              "#0d0887"
             ],
             [
              0.1111111111111111,
              "#46039f"
             ],
             [
              0.2222222222222222,
              "#7201a8"
             ],
             [
              0.3333333333333333,
              "#9c179e"
             ],
             [
              0.4444444444444444,
              "#bd3786"
             ],
             [
              0.5555555555555556,
              "#d8576b"
             ],
             [
              0.6666666666666666,
              "#ed7953"
             ],
             [
              0.7777777777777778,
              "#fb9f3a"
             ],
             [
              0.8888888888888888,
              "#fdca26"
             ],
             [
              1,
              "#f0f921"
             ]
            ],
            "type": "contour"
           }
          ],
          "contourcarpet": [
           {
            "colorbar": {
             "outlinewidth": 0,
             "ticks": ""
            },
            "type": "contourcarpet"
           }
          ],
          "heatmap": [
           {
            "colorbar": {
             "outlinewidth": 0,
             "ticks": ""
            },
            "colorscale": [
             [
              0,
              "#0d0887"
             ],
             [
              0.1111111111111111,
              "#46039f"
             ],
             [
              0.2222222222222222,
              "#7201a8"
             ],
             [
              0.3333333333333333,
              "#9c179e"
             ],
             [
              0.4444444444444444,
              "#bd3786"
             ],
             [
              0.5555555555555556,
              "#d8576b"
             ],
             [
              0.6666666666666666,
              "#ed7953"
             ],
             [
              0.7777777777777778,
              "#fb9f3a"
             ],
             [
              0.8888888888888888,
              "#fdca26"
             ],
             [
              1,
              "#f0f921"
             ]
            ],
            "type": "heatmap"
           }
          ],
          "heatmapgl": [
           {
            "colorbar": {
             "outlinewidth": 0,
             "ticks": ""
            },
            "colorscale": [
             [
              0,
              "#0d0887"
             ],
             [
              0.1111111111111111,
              "#46039f"
             ],
             [
              0.2222222222222222,
              "#7201a8"
             ],
             [
              0.3333333333333333,
              "#9c179e"
             ],
             [
              0.4444444444444444,
              "#bd3786"
             ],
             [
              0.5555555555555556,
              "#d8576b"
             ],
             [
              0.6666666666666666,
              "#ed7953"
             ],
             [
              0.7777777777777778,
              "#fb9f3a"
             ],
             [
              0.8888888888888888,
              "#fdca26"
             ],
             [
              1,
              "#f0f921"
             ]
            ],
            "type": "heatmapgl"
           }
          ],
          "histogram": [
           {
            "marker": {
             "colorbar": {
              "outlinewidth": 0,
              "ticks": ""
             }
            },
            "type": "histogram"
           }
          ],
          "histogram2d": [
           {
            "colorbar": {
             "outlinewidth": 0,
             "ticks": ""
            },
            "colorscale": [
             [
              0,
              "#0d0887"
             ],
             [
              0.1111111111111111,
              "#46039f"
             ],
             [
              0.2222222222222222,
              "#7201a8"
             ],
             [
              0.3333333333333333,
              "#9c179e"
             ],
             [
              0.4444444444444444,
              "#bd3786"
             ],
             [
              0.5555555555555556,
              "#d8576b"
             ],
             [
              0.6666666666666666,
              "#ed7953"
             ],
             [
              0.7777777777777778,
              "#fb9f3a"
             ],
             [
              0.8888888888888888,
              "#fdca26"
             ],
             [
              1,
              "#f0f921"
             ]
            ],
            "type": "histogram2d"
           }
          ],
          "histogram2dcontour": [
           {
            "colorbar": {
             "outlinewidth": 0,
             "ticks": ""
            },
            "colorscale": [
             [
              0,
              "#0d0887"
             ],
             [
              0.1111111111111111,
              "#46039f"
             ],
             [
              0.2222222222222222,
              "#7201a8"
             ],
             [
              0.3333333333333333,
              "#9c179e"
             ],
             [
              0.4444444444444444,
              "#bd3786"
             ],
             [
              0.5555555555555556,
              "#d8576b"
             ],
             [
              0.6666666666666666,
              "#ed7953"
             ],
             [
              0.7777777777777778,
              "#fb9f3a"
             ],
             [
              0.8888888888888888,
              "#fdca26"
             ],
             [
              1,
              "#f0f921"
             ]
            ],
            "type": "histogram2dcontour"
           }
          ],
          "mesh3d": [
           {
            "colorbar": {
             "outlinewidth": 0,
             "ticks": ""
            },
            "type": "mesh3d"
           }
          ],
          "parcoords": [
           {
            "line": {
             "colorbar": {
              "outlinewidth": 0,
              "ticks": ""
             }
            },
            "type": "parcoords"
           }
          ],
          "pie": [
           {
            "automargin": true,
            "type": "pie"
           }
          ],
          "scatter": [
           {
            "marker": {
             "colorbar": {
              "outlinewidth": 0,
              "ticks": ""
             }
            },
            "type": "scatter"
           }
          ],
          "scatter3d": [
           {
            "line": {
             "colorbar": {
              "outlinewidth": 0,
              "ticks": ""
             }
            },
            "marker": {
             "colorbar": {
              "outlinewidth": 0,
              "ticks": ""
             }
            },
            "type": "scatter3d"
           }
          ],
          "scattercarpet": [
           {
            "marker": {
             "colorbar": {
              "outlinewidth": 0,
              "ticks": ""
             }
            },
            "type": "scattercarpet"
           }
          ],
          "scattergeo": [
           {
            "marker": {
             "colorbar": {
              "outlinewidth": 0,
              "ticks": ""
             }
            },
            "type": "scattergeo"
           }
          ],
          "scattergl": [
           {
            "marker": {
             "colorbar": {
              "outlinewidth": 0,
              "ticks": ""
             }
            },
            "type": "scattergl"
           }
          ],
          "scattermapbox": [
           {
            "marker": {
             "colorbar": {
              "outlinewidth": 0,
              "ticks": ""
             }
            },
            "type": "scattermapbox"
           }
          ],
          "scatterpolar": [
           {
            "marker": {
             "colorbar": {
              "outlinewidth": 0,
              "ticks": ""
             }
            },
            "type": "scatterpolar"
           }
          ],
          "scatterpolargl": [
           {
            "marker": {
             "colorbar": {
              "outlinewidth": 0,
              "ticks": ""
             }
            },
            "type": "scatterpolargl"
           }
          ],
          "scatterternary": [
           {
            "marker": {
             "colorbar": {
              "outlinewidth": 0,
              "ticks": ""
             }
            },
            "type": "scatterternary"
           }
          ],
          "surface": [
           {
            "colorbar": {
             "outlinewidth": 0,
             "ticks": ""
            },
            "colorscale": [
             [
              0,
              "#0d0887"
             ],
             [
              0.1111111111111111,
              "#46039f"
             ],
             [
              0.2222222222222222,
              "#7201a8"
             ],
             [
              0.3333333333333333,
              "#9c179e"
             ],
             [
              0.4444444444444444,
              "#bd3786"
             ],
             [
              0.5555555555555556,
              "#d8576b"
             ],
             [
              0.6666666666666666,
              "#ed7953"
             ],
             [
              0.7777777777777778,
              "#fb9f3a"
             ],
             [
              0.8888888888888888,
              "#fdca26"
             ],
             [
              1,
              "#f0f921"
             ]
            ],
            "type": "surface"
           }
          ],
          "table": [
           {
            "cells": {
             "fill": {
              "color": "#EBF0F8"
             },
             "line": {
              "color": "white"
             }
            },
            "header": {
             "fill": {
              "color": "#C8D4E3"
             },
             "line": {
              "color": "white"
             }
            },
            "type": "table"
           }
          ]
         },
         "layout": {
          "annotationdefaults": {
           "arrowcolor": "#2a3f5f",
           "arrowhead": 0,
           "arrowwidth": 1
          },
          "coloraxis": {
           "colorbar": {
            "outlinewidth": 0,
            "ticks": ""
           }
          },
          "colorscale": {
           "diverging": [
            [
             0,
             "#8e0152"
            ],
            [
             0.1,
             "#c51b7d"
            ],
            [
             0.2,
             "#de77ae"
            ],
            [
             0.3,
             "#f1b6da"
            ],
            [
             0.4,
             "#fde0ef"
            ],
            [
             0.5,
             "#f7f7f7"
            ],
            [
             0.6,
             "#e6f5d0"
            ],
            [
             0.7,
             "#b8e186"
            ],
            [
             0.8,
             "#7fbc41"
            ],
            [
             0.9,
             "#4d9221"
            ],
            [
             1,
             "#276419"
            ]
           ],
           "sequential": [
            [
             0,
             "#0d0887"
            ],
            [
             0.1111111111111111,
             "#46039f"
            ],
            [
             0.2222222222222222,
             "#7201a8"
            ],
            [
             0.3333333333333333,
             "#9c179e"
            ],
            [
             0.4444444444444444,
             "#bd3786"
            ],
            [
             0.5555555555555556,
             "#d8576b"
            ],
            [
             0.6666666666666666,
             "#ed7953"
            ],
            [
             0.7777777777777778,
             "#fb9f3a"
            ],
            [
             0.8888888888888888,
             "#fdca26"
            ],
            [
             1,
             "#f0f921"
            ]
           ],
           "sequentialminus": [
            [
             0,
             "#0d0887"
            ],
            [
             0.1111111111111111,
             "#46039f"
            ],
            [
             0.2222222222222222,
             "#7201a8"
            ],
            [
             0.3333333333333333,
             "#9c179e"
            ],
            [
             0.4444444444444444,
             "#bd3786"
            ],
            [
             0.5555555555555556,
             "#d8576b"
            ],
            [
             0.6666666666666666,
             "#ed7953"
            ],
            [
             0.7777777777777778,
             "#fb9f3a"
            ],
            [
             0.8888888888888888,
             "#fdca26"
            ],
            [
             1,
             "#f0f921"
            ]
           ]
          },
          "colorway": [
           "#636efa",
           "#EF553B",
           "#00cc96",
           "#ab63fa",
           "#FFA15A",
           "#19d3f3",
           "#FF6692",
           "#B6E880",
           "#FF97FF",
           "#FECB52"
          ],
          "font": {
           "color": "#2a3f5f"
          },
          "geo": {
           "bgcolor": "white",
           "lakecolor": "white",
           "landcolor": "#E5ECF6",
           "showlakes": true,
           "showland": true,
           "subunitcolor": "white"
          },
          "hoverlabel": {
           "align": "left"
          },
          "hovermode": "closest",
          "mapbox": {
           "style": "light"
          },
          "paper_bgcolor": "white",
          "plot_bgcolor": "#E5ECF6",
          "polar": {
           "angularaxis": {
            "gridcolor": "white",
            "linecolor": "white",
            "ticks": ""
           },
           "bgcolor": "#E5ECF6",
           "radialaxis": {
            "gridcolor": "white",
            "linecolor": "white",
            "ticks": ""
           }
          },
          "scene": {
           "xaxis": {
            "backgroundcolor": "#E5ECF6",
            "gridcolor": "white",
            "gridwidth": 2,
            "linecolor": "white",
            "showbackground": true,
            "ticks": "",
            "zerolinecolor": "white"
           },
           "yaxis": {
            "backgroundcolor": "#E5ECF6",
            "gridcolor": "white",
            "gridwidth": 2,
            "linecolor": "white",
            "showbackground": true,
            "ticks": "",
            "zerolinecolor": "white"
           },
           "zaxis": {
            "backgroundcolor": "#E5ECF6",
            "gridcolor": "white",
            "gridwidth": 2,
            "linecolor": "white",
            "showbackground": true,
            "ticks": "",
            "zerolinecolor": "white"
           }
          },
          "shapedefaults": {
           "line": {
            "color": "#2a3f5f"
           }
          },
          "ternary": {
           "aaxis": {
            "gridcolor": "white",
            "linecolor": "white",
            "ticks": ""
           },
           "baxis": {
            "gridcolor": "white",
            "linecolor": "white",
            "ticks": ""
           },
           "bgcolor": "#E5ECF6",
           "caxis": {
            "gridcolor": "white",
            "linecolor": "white",
            "ticks": ""
           }
          },
          "title": {
           "x": 0.05
          },
          "xaxis": {
           "automargin": true,
           "gridcolor": "white",
           "linecolor": "white",
           "ticks": "",
           "title": {
            "standoff": 15
           },
           "zerolinecolor": "white",
           "zerolinewidth": 2
          },
          "yaxis": {
           "automargin": true,
           "gridcolor": "white",
           "linecolor": "white",
           "ticks": "",
           "title": {
            "standoff": 15
           },
           "zerolinecolor": "white",
           "zerolinewidth": 2
          }
         }
        },
        "title": {
         "text": "Mortalily rates, by years, 1960-1970"
        },
        "xaxis": {
         "anchor": "y",
         "domain": [
          0,
          1
         ],
         "title": {
          "text": "Areas"
         }
        },
        "yaxis": {
         "anchor": "x",
         "domain": [
          0,
          1
         ],
         "title": {
          "text": "Mortality rate"
         }
        }
       }
      },
      "text/html": [
       "<div>                            <div id=\"002fe05d-c83c-4ec7-85b5-d7fedb730294\" class=\"plotly-graph-div\" style=\"height:525px; width:100%;\"></div>            <script type=\"text/javascript\">                require([\"plotly\"], function(Plotly) {                    window.PLOTLYENV=window.PLOTLYENV || {};                                    if (document.getElementById(\"002fe05d-c83c-4ec7-85b5-d7fedb730294\")) {                    Plotly.newPlot(                        \"002fe05d-c83c-4ec7-85b5-d7fedb730294\",                        [{\"hovertemplate\": \"Indicator Name=Mortality rate, infant (per 1,000 live births)<br>Country Name=%{x}<br>value=%{y}<extra></extra>\", \"legendgroup\": \"Mortality rate, infant (per 1,000 live births)\", \"marker\": {\"color\": \"#636efa\", \"symbol\": \"circle\"}, \"mode\": \"markers\", \"name\": \"Mortality rate, infant (per 1,000 live births)\", \"orientation\": \"v\", \"showlegend\": true, \"type\": \"scatter\", \"x\": [\"Latin America & Caribbean\", \"North America\", \"South Asia\", \"Latin America & Caribbean\", \"North America\", \"South Asia\", \"Latin America & Caribbean\", \"North America\", \"South Asia\", \"Latin America & Caribbean\", \"North America\", \"South Asia\", \"Latin America & Caribbean\", \"North America\", \"South Asia\", \"Latin America & Caribbean\", \"North America\", \"South Asia\", \"Latin America & Caribbean\", \"North America\", \"South Asia\", \"Latin America & Caribbean\", \"North America\", \"South Asia\", \"Latin America & Caribbean\", \"North America\", \"South Asia\", \"Latin America & Caribbean\", \"North America\", \"South Asia\", \"Latin America & Caribbean\", \"North America\", \"South Asia\", \"Latin America & Caribbean\", \"North America\", \"South Asia\", \"Latin America & Caribbean\", \"North America\", \"South Asia\", \"Latin America & Caribbean\", \"North America\", \"South Asia\", \"Latin America & Caribbean\", \"North America\", \"South Asia\", \"Latin America & Caribbean\", \"North America\", \"South Asia\", \"Latin America & Caribbean\", \"North America\", \"South Asia\", \"Latin America & Caribbean\", \"North America\", \"South Asia\", \"Latin America & Caribbean\", \"North America\", \"South Asia\", \"Latin America & Caribbean\", \"North America\", \"South Asia\", \"Latin America & Caribbean\", \"North America\", \"South Asia\", \"Latin America & Caribbean\", \"North America\", \"South Asia\", \"Latin America & Caribbean\", \"North America\", \"South Asia\", \"Latin America & Caribbean\", \"North America\", \"South Asia\", \"Latin America & Caribbean\", \"North America\", \"South Asia\", \"Latin America & Caribbean\", \"North America\", \"South Asia\", \"Latin America & Caribbean\", \"North America\", \"South Asia\", \"Latin America & Caribbean\", \"North America\", \"South Asia\", \"Latin America & Caribbean\", \"North America\", \"South Asia\", \"Latin America & Caribbean\", \"North America\", \"South Asia\", \"Latin America & Caribbean\", \"North America\", \"South Asia\", \"Latin America & Caribbean\", \"North America\", \"South Asia\", \"Latin America & Caribbean\", \"North America\", \"South Asia\", \"Latin America & Caribbean\", \"North America\", \"South Asia\", \"Latin America & Caribbean\", \"North America\", \"South Asia\", \"Latin America & Caribbean\", \"North America\", \"South Asia\", \"Latin America & Caribbean\", \"North America\", \"South Asia\", \"Latin America & Caribbean\", \"North America\", \"South Asia\", \"Latin America & Caribbean\", \"North America\", \"South Asia\", \"Latin America & Caribbean\", \"North America\", \"South Asia\", \"Latin America & Caribbean\", \"North America\", \"South Asia\", \"Latin America & Caribbean\", \"North America\", \"South Asia\", \"Latin America & Caribbean\", \"North America\", \"South Asia\", \"Latin America & Caribbean\", \"North America\", \"South Asia\", \"Latin America & Caribbean\", \"North America\", \"South Asia\", \"Latin America & Caribbean\", \"North America\", \"South Asia\", \"Latin America & Caribbean\", \"North America\", \"South Asia\", \"Latin America & Caribbean\", \"North America\", \"South Asia\", \"Latin America & Caribbean\", \"North America\", \"South Asia\", \"Latin America & Caribbean\", \"North America\", \"South Asia\", \"Latin America & Caribbean\", \"North America\", \"South Asia\", \"Latin America & Caribbean\", \"North America\", \"South Asia\", \"Latin America & Caribbean\", \"North America\", \"South Asia\", \"Latin America & Caribbean\", \"North America\", \"South Asia\", \"Latin America & Caribbean\", \"North America\", \"South Asia\", \"Latin America & Caribbean\", \"North America\", \"South Asia\"], \"xaxis\": \"x\", \"y\": [120.531795854553, 26.0842098168227, 168.0, 117.50129125794399, 25.555883947216397, 166.3, 114.635478107832, 25.007386989869104, 163.3, 105.495001358806, 24.468249302257103, 160.3, 103.03079062261601, 23.8194109712122, 157.6, 100.367338927528, 23.280729912203697, 155.1, 98.05207838397959, 22.642701224005105, 152.6, 95.7777887187469, 21.924276938197604, 150.3, 93.47425979541109, 21.1966374044481, 148.1, 89.62725317945991, 20.4877650441456, 146.0, 87.46041235433779, 19.769203042541, 144.0, 85.2553771558366, 18.9688357133832, 141.9, 82.9938176637006, 18.1492525657163, 139.7, 80.7797202662223, 17.348185036129, 137.4, 78.5582676606792, 16.5374880170785, 134.9, 76.3440717177768, 15.826819545574999, 132.4, 74.04168920851309, 15.016473237446801, 129.6, 71.63579761709741, 14.306662470462198, 126.6, 69.1838572366863, 13.6071783810989, 123.6, 66.6493916481917, 12.9891791288326, 120.7, 64.0912892531188, 12.381583193876901, 117.7, 61.5235453038559, 11.874637143262401, 114.8, 59.064774195381005, 11.4680798776262, 112.0, 56.63820878217871, 10.970810354046199, 109.2, 54.408750887146795, 10.6642148201106, 106.6, 52.262152300012, 10.366322127009301, 104.0, 50.2292059253837, 10.158885159653801, 101.5, 48.301852328323605, 9.95986051923339, 99.0, 46.4979863669104, 9.75152429487256, 96.5, 44.723936610297, 9.46951091558688, 94.1, 43.017167316839505, 9.16974184440236, 91.6, 41.330053352380794, 8.87912402732254, 89.3, 39.6461472641883, 8.58898906060679, 86.9, 37.965393834825896, 8.2906901103495, 84.6, 36.267726631864704, 8.01034379853806, 82.3, 34.551755374278805, 7.8047344448163605, 80.1, 32.872348371870196, 7.525044449474749, 77.9, 31.2187797725447, 7.328692536910401, 75.5, 29.663918743839698, 7.14830559173141, 73.3, 28.0936598462879, 7.0513519286240705, 71.0, 26.5879662845115, 6.95384632230072, 68.8, 25.2288543799677, 6.87073818275231, 66.6, 23.971357868580604, 6.7790199163888, 64.4, 22.759106348832397, 6.67896292455509, 62.3, 21.7258214521208, 6.770586451604849, 60.3, 20.739092355020798, 6.68447005378669, 58.3, 19.8696965484068, 6.5825707341558095, 56.5, 19.124833292204197, 6.48028834510079, 54.8, 18.472552183172898, 6.377815015238121, 53.1, 17.869011897180396, 6.283619688602929, 51.5, 17.9440755525675, 6.181439234326481, 49.8, 16.7748435567155, 5.97961226516258, 48.1, 16.3127279650277, 5.97823727927474, 46.5, 15.91579975234, 5.78613581738157, 44.8, 15.557315519987302, 5.58584622631956, 43.3, 15.2216669378845, 5.48602955944646, 41.9], \"yaxis\": \"y\"}, {\"hovertemplate\": \"Indicator Name=Mortality rate, under-5 (per 1,000)<br>Country Name=%{x}<br>value=%{y}<extra></extra>\", \"legendgroup\": \"Mortality rate, under-5 (per 1,000)\", \"marker\": {\"color\": \"#EF553B\", \"symbol\": \"circle\"}, \"mode\": \"markers\", \"name\": \"Mortality rate, under-5 (per 1,000)\", \"orientation\": \"v\", \"showlegend\": true, \"type\": \"scatter\", \"x\": [\"Latin America & Caribbean\", \"North America\", \"South Asia\", \"Latin America & Caribbean\", \"North America\", \"South Asia\", \"Latin America & Caribbean\", \"North America\", \"South Asia\", \"Latin America & Caribbean\", \"North America\", \"South Asia\", \"Latin America & Caribbean\", \"North America\", \"South Asia\", \"Latin America & Caribbean\", \"North America\", \"South Asia\", \"Latin America & Caribbean\", \"North America\", \"South Asia\", \"Latin America & Caribbean\", \"North America\", \"South Asia\", \"Latin America & Caribbean\", \"North America\", \"South Asia\", \"Latin America & Caribbean\", \"North America\", \"South Asia\", \"Latin America & Caribbean\", \"North America\", \"South Asia\", \"Latin America & Caribbean\", \"North America\", \"South Asia\", \"Latin America & Caribbean\", \"North America\", \"South Asia\", \"Latin America & Caribbean\", \"North America\", \"South Asia\", \"Latin America & Caribbean\", \"North America\", \"South Asia\", \"Latin America & Caribbean\", \"North America\", \"South Asia\", \"Latin America & Caribbean\", \"North America\", \"South Asia\", \"Latin America & Caribbean\", \"North America\", \"South Asia\", \"Latin America & Caribbean\", \"North America\", \"South Asia\", \"Latin America & Caribbean\", \"North America\", \"South Asia\", \"Latin America & Caribbean\", \"North America\", \"South Asia\", \"Latin America & Caribbean\", \"North America\", \"South Asia\", \"Latin America & Caribbean\", \"North America\", \"South Asia\", \"Latin America & Caribbean\", \"North America\", \"South Asia\", \"Latin America & Caribbean\", \"North America\", \"South Asia\", \"Latin America & Caribbean\", \"North America\", \"South Asia\", \"Latin America & Caribbean\", \"North America\", \"South Asia\", \"Latin America & Caribbean\", \"North America\", \"South Asia\", \"Latin America & Caribbean\", \"North America\", \"South Asia\", \"Latin America & Caribbean\", \"North America\", \"South Asia\", \"Latin America & Caribbean\", \"North America\", \"South Asia\", \"Latin America & Caribbean\", \"North America\", \"South Asia\", \"Latin America & Caribbean\", \"North America\", \"South Asia\", \"Latin America & Caribbean\", \"North America\", \"South Asia\", \"Latin America & Caribbean\", \"North America\", \"South Asia\", \"Latin America & Caribbean\", \"North America\", \"South Asia\", \"Latin America & Caribbean\", \"North America\", \"South Asia\", \"Latin America & Caribbean\", \"North America\", \"South Asia\", \"Latin America & Caribbean\", \"North America\", \"South Asia\", \"Latin America & Caribbean\", \"North America\", \"South Asia\", \"Latin America & Caribbean\", \"North America\", \"South Asia\", \"Latin America & Caribbean\", \"North America\", \"South Asia\", \"Latin America & Caribbean\", \"North America\", \"South Asia\", \"Latin America & Caribbean\", \"North America\", \"South Asia\", \"Latin America & Caribbean\", \"North America\", \"South Asia\", \"Latin America & Caribbean\", \"North America\", \"South Asia\", \"Latin America & Caribbean\", \"North America\", \"South Asia\", \"Latin America & Caribbean\", \"North America\", \"South Asia\", \"Latin America & Caribbean\", \"North America\", \"South Asia\", \"Latin America & Caribbean\", \"North America\", \"South Asia\", \"Latin America & Caribbean\", \"North America\", \"South Asia\", \"Latin America & Caribbean\", \"North America\", \"South Asia\", \"Latin America & Caribbean\", \"North America\", \"South Asia\", \"Latin America & Caribbean\", \"North America\", \"South Asia\", \"Latin America & Caribbean\", \"North America\", \"South Asia\", \"Latin America & Caribbean\", \"North America\", \"South Asia\"], \"xaxis\": \"x\", \"y\": [168.912622397852, 30.3423813379246, 249.8, 164.323495345908, 29.7045976807216, 247.1, 160.016842511638, 29.0561992579914, 242.5, 147.27913559028, 28.4072489035468, 238.2, 143.61719922166202, 27.7485274280304, 234.1, 139.58983192946502, 27.1, 230.3, 136.101289421178, 26.3618008160034, 226.6, 132.713412566354, 25.6337423209229, 223.1, 129.28132316931, 24.8060340040437, 219.7, 123.17897893716601, 23.997117957133398, 216.4, 119.90570549263, 23.1785456823595, 213.2, 116.51690916815001, 22.268835713383197, 210.0, 113.071744587978, 21.3492525657163, 206.4, 109.72745952430799, 20.448185036129, 202.9, 106.38810314611601, 19.5374880170785, 198.9, 103.011478623072, 18.626819545575, 194.8, 99.55346163740101, 17.716473237446802, 190.5, 95.94843703195922, 16.906662470462198, 185.8, 92.29818434656721, 16.097537300153903, 181.0, 88.51555058167361, 15.379596361961301, 176.1, 84.74961147582391, 14.762590428127, 171.3, 80.9671398411084, 14.155856905201, 166.5, 77.2989890400243, 13.6495262678363, 161.9, 73.8049631741567, 13.143307596531699, 157.6, 70.53068032982459, 12.737008837815699, 153.2, 67.4505788000914, 12.4303716850107, 149.1, 64.5426834338579, 12.132094621837599, 145.0, 61.75636380583511, 11.924284299860599, 141.0, 59.1469433330931, 11.624901897894599, 137.1, 56.66717642132811, 11.3340510564464, 133.1, 54.2525928461131, 10.9431735956796, 129.3, 51.877209599608896, 10.6437838716941, 125.5, 49.514411222488604, 10.2538205707079, 121.9, 47.17589159629661, 9.86452637414318, 118.3, 44.8383282681077, 9.57586085281771, 114.8, 42.5313293082215, 9.27926502457502, 111.2, 40.2709138156597, 8.99171958270803, 107.7, 38.068525723962296, 8.70422004218331, 104.2, 36.29887273126, 8.516369926832759, 100.6, 34.1607001223587, 8.42005759780809, 97.1, 32.0278942068932, 8.23076942582189, 93.6, 30.291366580309802, 8.14032363751756, 90.1, 28.671115693129302, 8.048774895486, 86.8, 27.226715162740803, 7.94870365569387, 83.5, 25.9223944211062, 7.94774876659395, 80.4, 24.699316754541698, 7.85366206812981, 77.3, 23.660048303203503, 7.75125626326403, 74.4, 22.757848999087702, 7.6483652371276705, 71.7, 21.926827483175398, 7.54523235263495, 69.1, 21.1771188895686, 7.35036817106091, 66.5, 23.6645943163129, 7.24756472984833, 64.0, 19.8668561873523, 7.04521576949474, 61.6, 19.3010543850789, 6.94344793049609, 59.1, 18.7790512101583, 6.75110068426821, 56.8, 18.352882175825602, 6.55072198826404, 54.6, 17.964144031427, 6.35972868854949, 52.5], \"yaxis\": \"y\"}],                        {\"legend\": {\"title\": {\"text\": \"Indicator Name\"}, \"tracegroupgap\": 0}, \"template\": {\"data\": {\"bar\": [{\"error_x\": {\"color\": \"#2a3f5f\"}, \"error_y\": {\"color\": \"#2a3f5f\"}, \"marker\": {\"line\": {\"color\": \"#E5ECF6\", \"width\": 0.5}}, \"type\": \"bar\"}], \"barpolar\": [{\"marker\": {\"line\": {\"color\": \"#E5ECF6\", \"width\": 0.5}}, \"type\": \"barpolar\"}], \"carpet\": [{\"aaxis\": {\"endlinecolor\": \"#2a3f5f\", \"gridcolor\": \"white\", \"linecolor\": \"white\", \"minorgridcolor\": \"white\", \"startlinecolor\": \"#2a3f5f\"}, \"baxis\": {\"endlinecolor\": \"#2a3f5f\", \"gridcolor\": \"white\", \"linecolor\": \"white\", \"minorgridcolor\": \"white\", \"startlinecolor\": \"#2a3f5f\"}, \"type\": \"carpet\"}], \"choropleth\": [{\"colorbar\": {\"outlinewidth\": 0, \"ticks\": \"\"}, \"type\": \"choropleth\"}], \"contour\": [{\"colorbar\": {\"outlinewidth\": 0, \"ticks\": \"\"}, \"colorscale\": [[0.0, \"#0d0887\"], [0.1111111111111111, \"#46039f\"], [0.2222222222222222, \"#7201a8\"], [0.3333333333333333, \"#9c179e\"], [0.4444444444444444, \"#bd3786\"], [0.5555555555555556, \"#d8576b\"], [0.6666666666666666, \"#ed7953\"], [0.7777777777777778, \"#fb9f3a\"], [0.8888888888888888, \"#fdca26\"], [1.0, \"#f0f921\"]], \"type\": \"contour\"}], \"contourcarpet\": [{\"colorbar\": {\"outlinewidth\": 0, \"ticks\": \"\"}, \"type\": \"contourcarpet\"}], \"heatmap\": [{\"colorbar\": {\"outlinewidth\": 0, \"ticks\": \"\"}, \"colorscale\": [[0.0, \"#0d0887\"], [0.1111111111111111, \"#46039f\"], [0.2222222222222222, \"#7201a8\"], [0.3333333333333333, \"#9c179e\"], [0.4444444444444444, \"#bd3786\"], [0.5555555555555556, \"#d8576b\"], [0.6666666666666666, \"#ed7953\"], [0.7777777777777778, \"#fb9f3a\"], [0.8888888888888888, \"#fdca26\"], [1.0, \"#f0f921\"]], \"type\": \"heatmap\"}], \"heatmapgl\": [{\"colorbar\": {\"outlinewidth\": 0, \"ticks\": \"\"}, \"colorscale\": [[0.0, \"#0d0887\"], [0.1111111111111111, \"#46039f\"], [0.2222222222222222, \"#7201a8\"], [0.3333333333333333, \"#9c179e\"], [0.4444444444444444, \"#bd3786\"], [0.5555555555555556, \"#d8576b\"], [0.6666666666666666, \"#ed7953\"], [0.7777777777777778, \"#fb9f3a\"], [0.8888888888888888, \"#fdca26\"], [1.0, \"#f0f921\"]], \"type\": \"heatmapgl\"}], \"histogram\": [{\"marker\": {\"colorbar\": {\"outlinewidth\": 0, \"ticks\": \"\"}}, \"type\": \"histogram\"}], \"histogram2d\": [{\"colorbar\": {\"outlinewidth\": 0, \"ticks\": \"\"}, \"colorscale\": [[0.0, \"#0d0887\"], [0.1111111111111111, \"#46039f\"], [0.2222222222222222, \"#7201a8\"], [0.3333333333333333, \"#9c179e\"], [0.4444444444444444, \"#bd3786\"], [0.5555555555555556, \"#d8576b\"], [0.6666666666666666, \"#ed7953\"], [0.7777777777777778, \"#fb9f3a\"], [0.8888888888888888, \"#fdca26\"], [1.0, \"#f0f921\"]], \"type\": \"histogram2d\"}], \"histogram2dcontour\": [{\"colorbar\": {\"outlinewidth\": 0, \"ticks\": \"\"}, \"colorscale\": [[0.0, \"#0d0887\"], [0.1111111111111111, \"#46039f\"], [0.2222222222222222, \"#7201a8\"], [0.3333333333333333, \"#9c179e\"], [0.4444444444444444, \"#bd3786\"], [0.5555555555555556, \"#d8576b\"], [0.6666666666666666, \"#ed7953\"], [0.7777777777777778, \"#fb9f3a\"], [0.8888888888888888, \"#fdca26\"], [1.0, \"#f0f921\"]], \"type\": \"histogram2dcontour\"}], \"mesh3d\": [{\"colorbar\": {\"outlinewidth\": 0, \"ticks\": \"\"}, \"type\": \"mesh3d\"}], \"parcoords\": [{\"line\": {\"colorbar\": {\"outlinewidth\": 0, \"ticks\": \"\"}}, \"type\": \"parcoords\"}], \"pie\": [{\"automargin\": true, \"type\": \"pie\"}], \"scatter\": [{\"marker\": {\"colorbar\": {\"outlinewidth\": 0, \"ticks\": \"\"}}, \"type\": \"scatter\"}], \"scatter3d\": [{\"line\": {\"colorbar\": {\"outlinewidth\": 0, \"ticks\": \"\"}}, \"marker\": {\"colorbar\": {\"outlinewidth\": 0, \"ticks\": \"\"}}, \"type\": \"scatter3d\"}], \"scattercarpet\": [{\"marker\": {\"colorbar\": {\"outlinewidth\": 0, \"ticks\": \"\"}}, \"type\": \"scattercarpet\"}], \"scattergeo\": [{\"marker\": {\"colorbar\": {\"outlinewidth\": 0, \"ticks\": \"\"}}, \"type\": \"scattergeo\"}], \"scattergl\": [{\"marker\": {\"colorbar\": {\"outlinewidth\": 0, \"ticks\": \"\"}}, \"type\": \"scattergl\"}], \"scattermapbox\": [{\"marker\": {\"colorbar\": {\"outlinewidth\": 0, \"ticks\": \"\"}}, \"type\": \"scattermapbox\"}], \"scatterpolar\": [{\"marker\": {\"colorbar\": {\"outlinewidth\": 0, \"ticks\": \"\"}}, \"type\": \"scatterpolar\"}], \"scatterpolargl\": [{\"marker\": {\"colorbar\": {\"outlinewidth\": 0, \"ticks\": \"\"}}, \"type\": \"scatterpolargl\"}], \"scatterternary\": [{\"marker\": {\"colorbar\": {\"outlinewidth\": 0, \"ticks\": \"\"}}, \"type\": \"scatterternary\"}], \"surface\": [{\"colorbar\": {\"outlinewidth\": 0, \"ticks\": \"\"}, \"colorscale\": [[0.0, \"#0d0887\"], [0.1111111111111111, \"#46039f\"], [0.2222222222222222, \"#7201a8\"], [0.3333333333333333, \"#9c179e\"], [0.4444444444444444, \"#bd3786\"], [0.5555555555555556, \"#d8576b\"], [0.6666666666666666, \"#ed7953\"], [0.7777777777777778, \"#fb9f3a\"], [0.8888888888888888, \"#fdca26\"], [1.0, \"#f0f921\"]], \"type\": \"surface\"}], \"table\": [{\"cells\": {\"fill\": {\"color\": \"#EBF0F8\"}, \"line\": {\"color\": \"white\"}}, \"header\": {\"fill\": {\"color\": \"#C8D4E3\"}, \"line\": {\"color\": \"white\"}}, \"type\": \"table\"}]}, \"layout\": {\"annotationdefaults\": {\"arrowcolor\": \"#2a3f5f\", \"arrowhead\": 0, \"arrowwidth\": 1}, \"coloraxis\": {\"colorbar\": {\"outlinewidth\": 0, \"ticks\": \"\"}}, \"colorscale\": {\"diverging\": [[0, \"#8e0152\"], [0.1, \"#c51b7d\"], [0.2, \"#de77ae\"], [0.3, \"#f1b6da\"], [0.4, \"#fde0ef\"], [0.5, \"#f7f7f7\"], [0.6, \"#e6f5d0\"], [0.7, \"#b8e186\"], [0.8, \"#7fbc41\"], [0.9, \"#4d9221\"], [1, \"#276419\"]], \"sequential\": [[0.0, \"#0d0887\"], [0.1111111111111111, \"#46039f\"], [0.2222222222222222, \"#7201a8\"], [0.3333333333333333, \"#9c179e\"], [0.4444444444444444, \"#bd3786\"], [0.5555555555555556, \"#d8576b\"], [0.6666666666666666, \"#ed7953\"], [0.7777777777777778, \"#fb9f3a\"], [0.8888888888888888, \"#fdca26\"], [1.0, \"#f0f921\"]], \"sequentialminus\": [[0.0, \"#0d0887\"], [0.1111111111111111, \"#46039f\"], [0.2222222222222222, \"#7201a8\"], [0.3333333333333333, \"#9c179e\"], [0.4444444444444444, \"#bd3786\"], [0.5555555555555556, \"#d8576b\"], [0.6666666666666666, \"#ed7953\"], [0.7777777777777778, \"#fb9f3a\"], [0.8888888888888888, \"#fdca26\"], [1.0, \"#f0f921\"]]}, \"colorway\": [\"#636efa\", \"#EF553B\", \"#00cc96\", \"#ab63fa\", \"#FFA15A\", \"#19d3f3\", \"#FF6692\", \"#B6E880\", \"#FF97FF\", \"#FECB52\"], \"font\": {\"color\": \"#2a3f5f\"}, \"geo\": {\"bgcolor\": \"white\", \"lakecolor\": \"white\", \"landcolor\": \"#E5ECF6\", \"showlakes\": true, \"showland\": true, \"subunitcolor\": \"white\"}, \"hoverlabel\": {\"align\": \"left\"}, \"hovermode\": \"closest\", \"mapbox\": {\"style\": \"light\"}, \"paper_bgcolor\": \"white\", \"plot_bgcolor\": \"#E5ECF6\", \"polar\": {\"angularaxis\": {\"gridcolor\": \"white\", \"linecolor\": \"white\", \"ticks\": \"\"}, \"bgcolor\": \"#E5ECF6\", \"radialaxis\": {\"gridcolor\": \"white\", \"linecolor\": \"white\", \"ticks\": \"\"}}, \"scene\": {\"xaxis\": {\"backgroundcolor\": \"#E5ECF6\", \"gridcolor\": \"white\", \"gridwidth\": 2, \"linecolor\": \"white\", \"showbackground\": true, \"ticks\": \"\", \"zerolinecolor\": \"white\"}, \"yaxis\": {\"backgroundcolor\": \"#E5ECF6\", \"gridcolor\": \"white\", \"gridwidth\": 2, \"linecolor\": \"white\", \"showbackground\": true, \"ticks\": \"\", \"zerolinecolor\": \"white\"}, \"zaxis\": {\"backgroundcolor\": \"#E5ECF6\", \"gridcolor\": \"white\", \"gridwidth\": 2, \"linecolor\": \"white\", \"showbackground\": true, \"ticks\": \"\", \"zerolinecolor\": \"white\"}}, \"shapedefaults\": {\"line\": {\"color\": \"#2a3f5f\"}}, \"ternary\": {\"aaxis\": {\"gridcolor\": \"white\", \"linecolor\": \"white\", \"ticks\": \"\"}, \"baxis\": {\"gridcolor\": \"white\", \"linecolor\": \"white\", \"ticks\": \"\"}, \"bgcolor\": \"#E5ECF6\", \"caxis\": {\"gridcolor\": \"white\", \"linecolor\": \"white\", \"ticks\": \"\"}}, \"title\": {\"x\": 0.05}, \"xaxis\": {\"automargin\": true, \"gridcolor\": \"white\", \"linecolor\": \"white\", \"ticks\": \"\", \"title\": {\"standoff\": 15}, \"zerolinecolor\": \"white\", \"zerolinewidth\": 2}, \"yaxis\": {\"automargin\": true, \"gridcolor\": \"white\", \"linecolor\": \"white\", \"ticks\": \"\", \"title\": {\"standoff\": 15}, \"zerolinecolor\": \"white\", \"zerolinewidth\": 2}}}, \"title\": {\"text\": \"Mortalily rates, by years, 1960-1970\"}, \"xaxis\": {\"anchor\": \"y\", \"domain\": [0.0, 1.0], \"title\": {\"text\": \"Areas\"}}, \"yaxis\": {\"anchor\": \"x\", \"domain\": [0.0, 1.0], \"title\": {\"text\": \"Mortality rate\"}}},                        {\"responsive\": true}                    ).then(function(){\n",
       "                            \n",
       "var gd = document.getElementById('002fe05d-c83c-4ec7-85b5-d7fedb730294');\n",
       "var x = new MutationObserver(function (mutations, observer) {{\n",
       "        var display = window.getComputedStyle(gd).display;\n",
       "        if (!display || display === 'none') {{\n",
       "            console.log([gd, 'removed!']);\n",
       "            Plotly.purge(gd);\n",
       "            observer.disconnect();\n",
       "        }}\n",
       "}});\n",
       "\n",
       "// Listen for the removal of the full notebook cells\n",
       "var notebookContainer = gd.closest('#notebook-container');\n",
       "if (notebookContainer) {{\n",
       "    x.observe(notebookContainer, {childList: true});\n",
       "}}\n",
       "\n",
       "// Listen for the clearing of the current output cell\n",
       "var outputEl = gd.closest('.output');\n",
       "if (outputEl) {{\n",
       "    x.observe(outputEl, {childList: true});\n",
       "}}\n",
       "\n",
       "                        })                };                });            </script>        </div>"
      ]
     },
     "metadata": {},
     "output_type": "display_data"
    }
   ],
   "source": [
    "fig = px.scatter(mortal_rate, x=\"Country Name\", y= mortal_rate.columns[2:]\n",
    "                 ,color = \"Indicator Name\" , title = 'Mortalily rates, by years, 1960-1970') # could not choose all the columns here\n",
    "fig.update_layout(yaxis_title = 'Mortality rate', xaxis_title = 'Areas')\n",
    "fig.show()"
   ]
  },
  {
   "cell_type": "markdown",
   "metadata": {},
   "source": [
    "It is clearly seen that South Asia has a high mortality rate in comparison to North America or Latin America and Caribbean. #use the categorized plot"
   ]
  },
  {
   "cell_type": "code",
   "execution_count": 56,
   "metadata": {
    "ExecuteTime": {
     "end_time": "2020-12-09T08:32:57.083528Z",
     "start_time": "2020-12-09T08:32:56.881965Z"
    }
   },
   "outputs": [
    {
     "data": {
      "application/vnd.plotly.v1+json": {
       "config": {
        "plotlyServerURL": "https://plot.ly"
       },
       "data": [
        {
         "hovertemplate": "Indicator Name=Mortality rate, infant (per 1,000 live births)<br>Country Name=%{x}<br>value=%{y}<extra></extra>",
         "legendgroup": "Mortality rate, infant (per 1,000 live births)",
         "marker": {
          "color": "#636efa",
          "symbol": "circle"
         },
         "mode": "markers",
         "name": "Mortality rate, infant (per 1,000 live births)",
         "orientation": "v",
         "showlegend": true,
         "type": "scatter",
         "x": [
          "Latin America & Caribbean",
          "North America",
          "South Asia",
          "Latin America & Caribbean",
          "North America",
          "South Asia",
          "Latin America & Caribbean",
          "North America",
          "South Asia",
          "Latin America & Caribbean",
          "North America",
          "South Asia",
          "Latin America & Caribbean",
          "North America",
          "South Asia",
          "Latin America & Caribbean",
          "North America",
          "South Asia",
          "Latin America & Caribbean",
          "North America",
          "South Asia",
          "Latin America & Caribbean",
          "North America",
          "South Asia",
          "Latin America & Caribbean",
          "North America",
          "South Asia",
          "Latin America & Caribbean",
          "North America",
          "South Asia",
          "Latin America & Caribbean",
          "North America",
          "South Asia"
         ],
         "xaxis": "x",
         "y": [
          20.739092355020798,
          6.68447005378669,
          58.3,
          19.8696965484068,
          6.5825707341558095,
          56.5,
          19.124833292204197,
          6.48028834510079,
          54.8,
          18.472552183172898,
          6.377815015238121,
          53.1,
          17.869011897180396,
          6.283619688602929,
          51.5,
          17.9440755525675,
          6.181439234326481,
          49.8,
          16.7748435567155,
          5.97961226516258,
          48.1,
          16.3127279650277,
          5.97823727927474,
          46.5,
          15.91579975234,
          5.78613581738157,
          44.8,
          15.557315519987302,
          5.58584622631956,
          43.3,
          15.2216669378845,
          5.48602955944646,
          41.9
         ],
         "yaxis": "y"
        },
        {
         "hovertemplate": "Indicator Name=Mortality rate, under-5 (per 1,000)<br>Country Name=%{x}<br>value=%{y}<extra></extra>",
         "legendgroup": "Mortality rate, under-5 (per 1,000)",
         "marker": {
          "color": "#EF553B",
          "symbol": "circle"
         },
         "mode": "markers",
         "name": "Mortality rate, under-5 (per 1,000)",
         "orientation": "v",
         "showlegend": true,
         "type": "scatter",
         "x": [
          "Latin America & Caribbean",
          "North America",
          "South Asia",
          "Latin America & Caribbean",
          "North America",
          "South Asia",
          "Latin America & Caribbean",
          "North America",
          "South Asia",
          "Latin America & Caribbean",
          "North America",
          "South Asia",
          "Latin America & Caribbean",
          "North America",
          "South Asia",
          "Latin America & Caribbean",
          "North America",
          "South Asia",
          "Latin America & Caribbean",
          "North America",
          "South Asia",
          "Latin America & Caribbean",
          "North America",
          "South Asia",
          "Latin America & Caribbean",
          "North America",
          "South Asia",
          "Latin America & Caribbean",
          "North America",
          "South Asia",
          "Latin America & Caribbean",
          "North America",
          "South Asia"
         ],
         "xaxis": "x",
         "y": [
          24.699316754541698,
          7.85366206812981,
          77.3,
          23.660048303203503,
          7.75125626326403,
          74.4,
          22.757848999087702,
          7.6483652371276705,
          71.7,
          21.926827483175398,
          7.54523235263495,
          69.1,
          21.1771188895686,
          7.35036817106091,
          66.5,
          23.6645943163129,
          7.24756472984833,
          64,
          19.8668561873523,
          7.04521576949474,
          61.6,
          19.3010543850789,
          6.94344793049609,
          59.1,
          18.7790512101583,
          6.75110068426821,
          56.8,
          18.352882175825602,
          6.55072198826404,
          54.6,
          17.964144031427,
          6.35972868854949,
          52.5
         ],
         "yaxis": "y"
        }
       ],
       "layout": {
        "legend": {
         "title": {
          "text": "Indicator Name"
         },
         "tracegroupgap": 0
        },
        "template": {
         "data": {
          "bar": [
           {
            "error_x": {
             "color": "#2a3f5f"
            },
            "error_y": {
             "color": "#2a3f5f"
            },
            "marker": {
             "line": {
              "color": "#E5ECF6",
              "width": 0.5
             }
            },
            "type": "bar"
           }
          ],
          "barpolar": [
           {
            "marker": {
             "line": {
              "color": "#E5ECF6",
              "width": 0.5
             }
            },
            "type": "barpolar"
           }
          ],
          "carpet": [
           {
            "aaxis": {
             "endlinecolor": "#2a3f5f",
             "gridcolor": "white",
             "linecolor": "white",
             "minorgridcolor": "white",
             "startlinecolor": "#2a3f5f"
            },
            "baxis": {
             "endlinecolor": "#2a3f5f",
             "gridcolor": "white",
             "linecolor": "white",
             "minorgridcolor": "white",
             "startlinecolor": "#2a3f5f"
            },
            "type": "carpet"
           }
          ],
          "choropleth": [
           {
            "colorbar": {
             "outlinewidth": 0,
             "ticks": ""
            },
            "type": "choropleth"
           }
          ],
          "contour": [
           {
            "colorbar": {
             "outlinewidth": 0,
             "ticks": ""
            },
            "colorscale": [
             [
              0,
              "#0d0887"
             ],
             [
              0.1111111111111111,
              "#46039f"
             ],
             [
              0.2222222222222222,
              "#7201a8"
             ],
             [
              0.3333333333333333,
              "#9c179e"
             ],
             [
              0.4444444444444444,
              "#bd3786"
             ],
             [
              0.5555555555555556,
              "#d8576b"
             ],
             [
              0.6666666666666666,
              "#ed7953"
             ],
             [
              0.7777777777777778,
              "#fb9f3a"
             ],
             [
              0.8888888888888888,
              "#fdca26"
             ],
             [
              1,
              "#f0f921"
             ]
            ],
            "type": "contour"
           }
          ],
          "contourcarpet": [
           {
            "colorbar": {
             "outlinewidth": 0,
             "ticks": ""
            },
            "type": "contourcarpet"
           }
          ],
          "heatmap": [
           {
            "colorbar": {
             "outlinewidth": 0,
             "ticks": ""
            },
            "colorscale": [
             [
              0,
              "#0d0887"
             ],
             [
              0.1111111111111111,
              "#46039f"
             ],
             [
              0.2222222222222222,
              "#7201a8"
             ],
             [
              0.3333333333333333,
              "#9c179e"
             ],
             [
              0.4444444444444444,
              "#bd3786"
             ],
             [
              0.5555555555555556,
              "#d8576b"
             ],
             [
              0.6666666666666666,
              "#ed7953"
             ],
             [
              0.7777777777777778,
              "#fb9f3a"
             ],
             [
              0.8888888888888888,
              "#fdca26"
             ],
             [
              1,
              "#f0f921"
             ]
            ],
            "type": "heatmap"
           }
          ],
          "heatmapgl": [
           {
            "colorbar": {
             "outlinewidth": 0,
             "ticks": ""
            },
            "colorscale": [
             [
              0,
              "#0d0887"
             ],
             [
              0.1111111111111111,
              "#46039f"
             ],
             [
              0.2222222222222222,
              "#7201a8"
             ],
             [
              0.3333333333333333,
              "#9c179e"
             ],
             [
              0.4444444444444444,
              "#bd3786"
             ],
             [
              0.5555555555555556,
              "#d8576b"
             ],
             [
              0.6666666666666666,
              "#ed7953"
             ],
             [
              0.7777777777777778,
              "#fb9f3a"
             ],
             [
              0.8888888888888888,
              "#fdca26"
             ],
             [
              1,
              "#f0f921"
             ]
            ],
            "type": "heatmapgl"
           }
          ],
          "histogram": [
           {
            "marker": {
             "colorbar": {
              "outlinewidth": 0,
              "ticks": ""
             }
            },
            "type": "histogram"
           }
          ],
          "histogram2d": [
           {
            "colorbar": {
             "outlinewidth": 0,
             "ticks": ""
            },
            "colorscale": [
             [
              0,
              "#0d0887"
             ],
             [
              0.1111111111111111,
              "#46039f"
             ],
             [
              0.2222222222222222,
              "#7201a8"
             ],
             [
              0.3333333333333333,
              "#9c179e"
             ],
             [
              0.4444444444444444,
              "#bd3786"
             ],
             [
              0.5555555555555556,
              "#d8576b"
             ],
             [
              0.6666666666666666,
              "#ed7953"
             ],
             [
              0.7777777777777778,
              "#fb9f3a"
             ],
             [
              0.8888888888888888,
              "#fdca26"
             ],
             [
              1,
              "#f0f921"
             ]
            ],
            "type": "histogram2d"
           }
          ],
          "histogram2dcontour": [
           {
            "colorbar": {
             "outlinewidth": 0,
             "ticks": ""
            },
            "colorscale": [
             [
              0,
              "#0d0887"
             ],
             [
              0.1111111111111111,
              "#46039f"
             ],
             [
              0.2222222222222222,
              "#7201a8"
             ],
             [
              0.3333333333333333,
              "#9c179e"
             ],
             [
              0.4444444444444444,
              "#bd3786"
             ],
             [
              0.5555555555555556,
              "#d8576b"
             ],
             [
              0.6666666666666666,
              "#ed7953"
             ],
             [
              0.7777777777777778,
              "#fb9f3a"
             ],
             [
              0.8888888888888888,
              "#fdca26"
             ],
             [
              1,
              "#f0f921"
             ]
            ],
            "type": "histogram2dcontour"
           }
          ],
          "mesh3d": [
           {
            "colorbar": {
             "outlinewidth": 0,
             "ticks": ""
            },
            "type": "mesh3d"
           }
          ],
          "parcoords": [
           {
            "line": {
             "colorbar": {
              "outlinewidth": 0,
              "ticks": ""
             }
            },
            "type": "parcoords"
           }
          ],
          "pie": [
           {
            "automargin": true,
            "type": "pie"
           }
          ],
          "scatter": [
           {
            "marker": {
             "colorbar": {
              "outlinewidth": 0,
              "ticks": ""
             }
            },
            "type": "scatter"
           }
          ],
          "scatter3d": [
           {
            "line": {
             "colorbar": {
              "outlinewidth": 0,
              "ticks": ""
             }
            },
            "marker": {
             "colorbar": {
              "outlinewidth": 0,
              "ticks": ""
             }
            },
            "type": "scatter3d"
           }
          ],
          "scattercarpet": [
           {
            "marker": {
             "colorbar": {
              "outlinewidth": 0,
              "ticks": ""
             }
            },
            "type": "scattercarpet"
           }
          ],
          "scattergeo": [
           {
            "marker": {
             "colorbar": {
              "outlinewidth": 0,
              "ticks": ""
             }
            },
            "type": "scattergeo"
           }
          ],
          "scattergl": [
           {
            "marker": {
             "colorbar": {
              "outlinewidth": 0,
              "ticks": ""
             }
            },
            "type": "scattergl"
           }
          ],
          "scattermapbox": [
           {
            "marker": {
             "colorbar": {
              "outlinewidth": 0,
              "ticks": ""
             }
            },
            "type": "scattermapbox"
           }
          ],
          "scatterpolar": [
           {
            "marker": {
             "colorbar": {
              "outlinewidth": 0,
              "ticks": ""
             }
            },
            "type": "scatterpolar"
           }
          ],
          "scatterpolargl": [
           {
            "marker": {
             "colorbar": {
              "outlinewidth": 0,
              "ticks": ""
             }
            },
            "type": "scatterpolargl"
           }
          ],
          "scatterternary": [
           {
            "marker": {
             "colorbar": {
              "outlinewidth": 0,
              "ticks": ""
             }
            },
            "type": "scatterternary"
           }
          ],
          "surface": [
           {
            "colorbar": {
             "outlinewidth": 0,
             "ticks": ""
            },
            "colorscale": [
             [
              0,
              "#0d0887"
             ],
             [
              0.1111111111111111,
              "#46039f"
             ],
             [
              0.2222222222222222,
              "#7201a8"
             ],
             [
              0.3333333333333333,
              "#9c179e"
             ],
             [
              0.4444444444444444,
              "#bd3786"
             ],
             [
              0.5555555555555556,
              "#d8576b"
             ],
             [
              0.6666666666666666,
              "#ed7953"
             ],
             [
              0.7777777777777778,
              "#fb9f3a"
             ],
             [
              0.8888888888888888,
              "#fdca26"
             ],
             [
              1,
              "#f0f921"
             ]
            ],
            "type": "surface"
           }
          ],
          "table": [
           {
            "cells": {
             "fill": {
              "color": "#EBF0F8"
             },
             "line": {
              "color": "white"
             }
            },
            "header": {
             "fill": {
              "color": "#C8D4E3"
             },
             "line": {
              "color": "white"
             }
            },
            "type": "table"
           }
          ]
         },
         "layout": {
          "annotationdefaults": {
           "arrowcolor": "#2a3f5f",
           "arrowhead": 0,
           "arrowwidth": 1
          },
          "coloraxis": {
           "colorbar": {
            "outlinewidth": 0,
            "ticks": ""
           }
          },
          "colorscale": {
           "diverging": [
            [
             0,
             "#8e0152"
            ],
            [
             0.1,
             "#c51b7d"
            ],
            [
             0.2,
             "#de77ae"
            ],
            [
             0.3,
             "#f1b6da"
            ],
            [
             0.4,
             "#fde0ef"
            ],
            [
             0.5,
             "#f7f7f7"
            ],
            [
             0.6,
             "#e6f5d0"
            ],
            [
             0.7,
             "#b8e186"
            ],
            [
             0.8,
             "#7fbc41"
            ],
            [
             0.9,
             "#4d9221"
            ],
            [
             1,
             "#276419"
            ]
           ],
           "sequential": [
            [
             0,
             "#0d0887"
            ],
            [
             0.1111111111111111,
             "#46039f"
            ],
            [
             0.2222222222222222,
             "#7201a8"
            ],
            [
             0.3333333333333333,
             "#9c179e"
            ],
            [
             0.4444444444444444,
             "#bd3786"
            ],
            [
             0.5555555555555556,
             "#d8576b"
            ],
            [
             0.6666666666666666,
             "#ed7953"
            ],
            [
             0.7777777777777778,
             "#fb9f3a"
            ],
            [
             0.8888888888888888,
             "#fdca26"
            ],
            [
             1,
             "#f0f921"
            ]
           ],
           "sequentialminus": [
            [
             0,
             "#0d0887"
            ],
            [
             0.1111111111111111,
             "#46039f"
            ],
            [
             0.2222222222222222,
             "#7201a8"
            ],
            [
             0.3333333333333333,
             "#9c179e"
            ],
            [
             0.4444444444444444,
             "#bd3786"
            ],
            [
             0.5555555555555556,
             "#d8576b"
            ],
            [
             0.6666666666666666,
             "#ed7953"
            ],
            [
             0.7777777777777778,
             "#fb9f3a"
            ],
            [
             0.8888888888888888,
             "#fdca26"
            ],
            [
             1,
             "#f0f921"
            ]
           ]
          },
          "colorway": [
           "#636efa",
           "#EF553B",
           "#00cc96",
           "#ab63fa",
           "#FFA15A",
           "#19d3f3",
           "#FF6692",
           "#B6E880",
           "#FF97FF",
           "#FECB52"
          ],
          "font": {
           "color": "#2a3f5f"
          },
          "geo": {
           "bgcolor": "white",
           "lakecolor": "white",
           "landcolor": "#E5ECF6",
           "showlakes": true,
           "showland": true,
           "subunitcolor": "white"
          },
          "hoverlabel": {
           "align": "left"
          },
          "hovermode": "closest",
          "mapbox": {
           "style": "light"
          },
          "paper_bgcolor": "white",
          "plot_bgcolor": "#E5ECF6",
          "polar": {
           "angularaxis": {
            "gridcolor": "white",
            "linecolor": "white",
            "ticks": ""
           },
           "bgcolor": "#E5ECF6",
           "radialaxis": {
            "gridcolor": "white",
            "linecolor": "white",
            "ticks": ""
           }
          },
          "scene": {
           "xaxis": {
            "backgroundcolor": "#E5ECF6",
            "gridcolor": "white",
            "gridwidth": 2,
            "linecolor": "white",
            "showbackground": true,
            "ticks": "",
            "zerolinecolor": "white"
           },
           "yaxis": {
            "backgroundcolor": "#E5ECF6",
            "gridcolor": "white",
            "gridwidth": 2,
            "linecolor": "white",
            "showbackground": true,
            "ticks": "",
            "zerolinecolor": "white"
           },
           "zaxis": {
            "backgroundcolor": "#E5ECF6",
            "gridcolor": "white",
            "gridwidth": 2,
            "linecolor": "white",
            "showbackground": true,
            "ticks": "",
            "zerolinecolor": "white"
           }
          },
          "shapedefaults": {
           "line": {
            "color": "#2a3f5f"
           }
          },
          "ternary": {
           "aaxis": {
            "gridcolor": "white",
            "linecolor": "white",
            "ticks": ""
           },
           "baxis": {
            "gridcolor": "white",
            "linecolor": "white",
            "ticks": ""
           },
           "bgcolor": "#E5ECF6",
           "caxis": {
            "gridcolor": "white",
            "linecolor": "white",
            "ticks": ""
           }
          },
          "title": {
           "x": 0.05
          },
          "xaxis": {
           "automargin": true,
           "gridcolor": "white",
           "linecolor": "white",
           "ticks": "",
           "title": {
            "standoff": 15
           },
           "zerolinecolor": "white",
           "zerolinewidth": 2
          },
          "yaxis": {
           "automargin": true,
           "gridcolor": "white",
           "linecolor": "white",
           "ticks": "",
           "title": {
            "standoff": 15
           },
           "zerolinecolor": "white",
           "zerolinewidth": 2
          }
         }
        },
        "title": {
         "text": "Mortalily rates, by years, 2005-2015"
        },
        "xaxis": {
         "anchor": "y",
         "domain": [
          0,
          1
         ],
         "title": {
          "text": "Areas"
         }
        },
        "yaxis": {
         "anchor": "x",
         "domain": [
          0,
          1
         ],
         "title": {
          "text": "Mortality rate"
         }
        }
       }
      },
      "text/html": [
       "<div>                            <div id=\"02b846b3-24b2-4127-8a71-482637bf3490\" class=\"plotly-graph-div\" style=\"height:525px; width:100%;\"></div>            <script type=\"text/javascript\">                require([\"plotly\"], function(Plotly) {                    window.PLOTLYENV=window.PLOTLYENV || {};                                    if (document.getElementById(\"02b846b3-24b2-4127-8a71-482637bf3490\")) {                    Plotly.newPlot(                        \"02b846b3-24b2-4127-8a71-482637bf3490\",                        [{\"hovertemplate\": \"Indicator Name=Mortality rate, infant (per 1,000 live births)<br>Country Name=%{x}<br>value=%{y}<extra></extra>\", \"legendgroup\": \"Mortality rate, infant (per 1,000 live births)\", \"marker\": {\"color\": \"#636efa\", \"symbol\": \"circle\"}, \"mode\": \"markers\", \"name\": \"Mortality rate, infant (per 1,000 live births)\", \"orientation\": \"v\", \"showlegend\": true, \"type\": \"scatter\", \"x\": [\"Latin America & Caribbean\", \"North America\", \"South Asia\", \"Latin America & Caribbean\", \"North America\", \"South Asia\", \"Latin America & Caribbean\", \"North America\", \"South Asia\", \"Latin America & Caribbean\", \"North America\", \"South Asia\", \"Latin America & Caribbean\", \"North America\", \"South Asia\", \"Latin America & Caribbean\", \"North America\", \"South Asia\", \"Latin America & Caribbean\", \"North America\", \"South Asia\", \"Latin America & Caribbean\", \"North America\", \"South Asia\", \"Latin America & Caribbean\", \"North America\", \"South Asia\", \"Latin America & Caribbean\", \"North America\", \"South Asia\", \"Latin America & Caribbean\", \"North America\", \"South Asia\"], \"xaxis\": \"x\", \"y\": [20.739092355020798, 6.68447005378669, 58.3, 19.8696965484068, 6.5825707341558095, 56.5, 19.124833292204197, 6.48028834510079, 54.8, 18.472552183172898, 6.377815015238121, 53.1, 17.869011897180396, 6.283619688602929, 51.5, 17.9440755525675, 6.181439234326481, 49.8, 16.7748435567155, 5.97961226516258, 48.1, 16.3127279650277, 5.97823727927474, 46.5, 15.91579975234, 5.78613581738157, 44.8, 15.557315519987302, 5.58584622631956, 43.3, 15.2216669378845, 5.48602955944646, 41.9], \"yaxis\": \"y\"}, {\"hovertemplate\": \"Indicator Name=Mortality rate, under-5 (per 1,000)<br>Country Name=%{x}<br>value=%{y}<extra></extra>\", \"legendgroup\": \"Mortality rate, under-5 (per 1,000)\", \"marker\": {\"color\": \"#EF553B\", \"symbol\": \"circle\"}, \"mode\": \"markers\", \"name\": \"Mortality rate, under-5 (per 1,000)\", \"orientation\": \"v\", \"showlegend\": true, \"type\": \"scatter\", \"x\": [\"Latin America & Caribbean\", \"North America\", \"South Asia\", \"Latin America & Caribbean\", \"North America\", \"South Asia\", \"Latin America & Caribbean\", \"North America\", \"South Asia\", \"Latin America & Caribbean\", \"North America\", \"South Asia\", \"Latin America & Caribbean\", \"North America\", \"South Asia\", \"Latin America & Caribbean\", \"North America\", \"South Asia\", \"Latin America & Caribbean\", \"North America\", \"South Asia\", \"Latin America & Caribbean\", \"North America\", \"South Asia\", \"Latin America & Caribbean\", \"North America\", \"South Asia\", \"Latin America & Caribbean\", \"North America\", \"South Asia\", \"Latin America & Caribbean\", \"North America\", \"South Asia\"], \"xaxis\": \"x\", \"y\": [24.699316754541698, 7.85366206812981, 77.3, 23.660048303203503, 7.75125626326403, 74.4, 22.757848999087702, 7.6483652371276705, 71.7, 21.926827483175398, 7.54523235263495, 69.1, 21.1771188895686, 7.35036817106091, 66.5, 23.6645943163129, 7.24756472984833, 64.0, 19.8668561873523, 7.04521576949474, 61.6, 19.3010543850789, 6.94344793049609, 59.1, 18.7790512101583, 6.75110068426821, 56.8, 18.352882175825602, 6.55072198826404, 54.6, 17.964144031427, 6.35972868854949, 52.5], \"yaxis\": \"y\"}],                        {\"legend\": {\"title\": {\"text\": \"Indicator Name\"}, \"tracegroupgap\": 0}, \"template\": {\"data\": {\"bar\": [{\"error_x\": {\"color\": \"#2a3f5f\"}, \"error_y\": {\"color\": \"#2a3f5f\"}, \"marker\": {\"line\": {\"color\": \"#E5ECF6\", \"width\": 0.5}}, \"type\": \"bar\"}], \"barpolar\": [{\"marker\": {\"line\": {\"color\": \"#E5ECF6\", \"width\": 0.5}}, \"type\": \"barpolar\"}], \"carpet\": [{\"aaxis\": {\"endlinecolor\": \"#2a3f5f\", \"gridcolor\": \"white\", \"linecolor\": \"white\", \"minorgridcolor\": \"white\", \"startlinecolor\": \"#2a3f5f\"}, \"baxis\": {\"endlinecolor\": \"#2a3f5f\", \"gridcolor\": \"white\", \"linecolor\": \"white\", \"minorgridcolor\": \"white\", \"startlinecolor\": \"#2a3f5f\"}, \"type\": \"carpet\"}], \"choropleth\": [{\"colorbar\": {\"outlinewidth\": 0, \"ticks\": \"\"}, \"type\": \"choropleth\"}], \"contour\": [{\"colorbar\": {\"outlinewidth\": 0, \"ticks\": \"\"}, \"colorscale\": [[0.0, \"#0d0887\"], [0.1111111111111111, \"#46039f\"], [0.2222222222222222, \"#7201a8\"], [0.3333333333333333, \"#9c179e\"], [0.4444444444444444, \"#bd3786\"], [0.5555555555555556, \"#d8576b\"], [0.6666666666666666, \"#ed7953\"], [0.7777777777777778, \"#fb9f3a\"], [0.8888888888888888, \"#fdca26\"], [1.0, \"#f0f921\"]], \"type\": \"contour\"}], \"contourcarpet\": [{\"colorbar\": {\"outlinewidth\": 0, \"ticks\": \"\"}, \"type\": \"contourcarpet\"}], \"heatmap\": [{\"colorbar\": {\"outlinewidth\": 0, \"ticks\": \"\"}, \"colorscale\": [[0.0, \"#0d0887\"], [0.1111111111111111, \"#46039f\"], [0.2222222222222222, \"#7201a8\"], [0.3333333333333333, \"#9c179e\"], [0.4444444444444444, \"#bd3786\"], [0.5555555555555556, \"#d8576b\"], [0.6666666666666666, \"#ed7953\"], [0.7777777777777778, \"#fb9f3a\"], [0.8888888888888888, \"#fdca26\"], [1.0, \"#f0f921\"]], \"type\": \"heatmap\"}], \"heatmapgl\": [{\"colorbar\": {\"outlinewidth\": 0, \"ticks\": \"\"}, \"colorscale\": [[0.0, \"#0d0887\"], [0.1111111111111111, \"#46039f\"], [0.2222222222222222, \"#7201a8\"], [0.3333333333333333, \"#9c179e\"], [0.4444444444444444, \"#bd3786\"], [0.5555555555555556, \"#d8576b\"], [0.6666666666666666, \"#ed7953\"], [0.7777777777777778, \"#fb9f3a\"], [0.8888888888888888, \"#fdca26\"], [1.0, \"#f0f921\"]], \"type\": \"heatmapgl\"}], \"histogram\": [{\"marker\": {\"colorbar\": {\"outlinewidth\": 0, \"ticks\": \"\"}}, \"type\": \"histogram\"}], \"histogram2d\": [{\"colorbar\": {\"outlinewidth\": 0, \"ticks\": \"\"}, \"colorscale\": [[0.0, \"#0d0887\"], [0.1111111111111111, \"#46039f\"], [0.2222222222222222, \"#7201a8\"], [0.3333333333333333, \"#9c179e\"], [0.4444444444444444, \"#bd3786\"], [0.5555555555555556, \"#d8576b\"], [0.6666666666666666, \"#ed7953\"], [0.7777777777777778, \"#fb9f3a\"], [0.8888888888888888, \"#fdca26\"], [1.0, \"#f0f921\"]], \"type\": \"histogram2d\"}], \"histogram2dcontour\": [{\"colorbar\": {\"outlinewidth\": 0, \"ticks\": \"\"}, \"colorscale\": [[0.0, \"#0d0887\"], [0.1111111111111111, \"#46039f\"], [0.2222222222222222, \"#7201a8\"], [0.3333333333333333, \"#9c179e\"], [0.4444444444444444, \"#bd3786\"], [0.5555555555555556, \"#d8576b\"], [0.6666666666666666, \"#ed7953\"], [0.7777777777777778, \"#fb9f3a\"], [0.8888888888888888, \"#fdca26\"], [1.0, \"#f0f921\"]], \"type\": \"histogram2dcontour\"}], \"mesh3d\": [{\"colorbar\": {\"outlinewidth\": 0, \"ticks\": \"\"}, \"type\": \"mesh3d\"}], \"parcoords\": [{\"line\": {\"colorbar\": {\"outlinewidth\": 0, \"ticks\": \"\"}}, \"type\": \"parcoords\"}], \"pie\": [{\"automargin\": true, \"type\": \"pie\"}], \"scatter\": [{\"marker\": {\"colorbar\": {\"outlinewidth\": 0, \"ticks\": \"\"}}, \"type\": \"scatter\"}], \"scatter3d\": [{\"line\": {\"colorbar\": {\"outlinewidth\": 0, \"ticks\": \"\"}}, \"marker\": {\"colorbar\": {\"outlinewidth\": 0, \"ticks\": \"\"}}, \"type\": \"scatter3d\"}], \"scattercarpet\": [{\"marker\": {\"colorbar\": {\"outlinewidth\": 0, \"ticks\": \"\"}}, \"type\": \"scattercarpet\"}], \"scattergeo\": [{\"marker\": {\"colorbar\": {\"outlinewidth\": 0, \"ticks\": \"\"}}, \"type\": \"scattergeo\"}], \"scattergl\": [{\"marker\": {\"colorbar\": {\"outlinewidth\": 0, \"ticks\": \"\"}}, \"type\": \"scattergl\"}], \"scattermapbox\": [{\"marker\": {\"colorbar\": {\"outlinewidth\": 0, \"ticks\": \"\"}}, \"type\": \"scattermapbox\"}], \"scatterpolar\": [{\"marker\": {\"colorbar\": {\"outlinewidth\": 0, \"ticks\": \"\"}}, \"type\": \"scatterpolar\"}], \"scatterpolargl\": [{\"marker\": {\"colorbar\": {\"outlinewidth\": 0, \"ticks\": \"\"}}, \"type\": \"scatterpolargl\"}], \"scatterternary\": [{\"marker\": {\"colorbar\": {\"outlinewidth\": 0, \"ticks\": \"\"}}, \"type\": \"scatterternary\"}], \"surface\": [{\"colorbar\": {\"outlinewidth\": 0, \"ticks\": \"\"}, \"colorscale\": [[0.0, \"#0d0887\"], [0.1111111111111111, \"#46039f\"], [0.2222222222222222, \"#7201a8\"], [0.3333333333333333, \"#9c179e\"], [0.4444444444444444, \"#bd3786\"], [0.5555555555555556, \"#d8576b\"], [0.6666666666666666, \"#ed7953\"], [0.7777777777777778, \"#fb9f3a\"], [0.8888888888888888, \"#fdca26\"], [1.0, \"#f0f921\"]], \"type\": \"surface\"}], \"table\": [{\"cells\": {\"fill\": {\"color\": \"#EBF0F8\"}, \"line\": {\"color\": \"white\"}}, \"header\": {\"fill\": {\"color\": \"#C8D4E3\"}, \"line\": {\"color\": \"white\"}}, \"type\": \"table\"}]}, \"layout\": {\"annotationdefaults\": {\"arrowcolor\": \"#2a3f5f\", \"arrowhead\": 0, \"arrowwidth\": 1}, \"coloraxis\": {\"colorbar\": {\"outlinewidth\": 0, \"ticks\": \"\"}}, \"colorscale\": {\"diverging\": [[0, \"#8e0152\"], [0.1, \"#c51b7d\"], [0.2, \"#de77ae\"], [0.3, \"#f1b6da\"], [0.4, \"#fde0ef\"], [0.5, \"#f7f7f7\"], [0.6, \"#e6f5d0\"], [0.7, \"#b8e186\"], [0.8, \"#7fbc41\"], [0.9, \"#4d9221\"], [1, \"#276419\"]], \"sequential\": [[0.0, \"#0d0887\"], [0.1111111111111111, \"#46039f\"], [0.2222222222222222, \"#7201a8\"], [0.3333333333333333, \"#9c179e\"], [0.4444444444444444, \"#bd3786\"], [0.5555555555555556, \"#d8576b\"], [0.6666666666666666, \"#ed7953\"], [0.7777777777777778, \"#fb9f3a\"], [0.8888888888888888, \"#fdca26\"], [1.0, \"#f0f921\"]], \"sequentialminus\": [[0.0, \"#0d0887\"], [0.1111111111111111, \"#46039f\"], [0.2222222222222222, \"#7201a8\"], [0.3333333333333333, \"#9c179e\"], [0.4444444444444444, \"#bd3786\"], [0.5555555555555556, \"#d8576b\"], [0.6666666666666666, \"#ed7953\"], [0.7777777777777778, \"#fb9f3a\"], [0.8888888888888888, \"#fdca26\"], [1.0, \"#f0f921\"]]}, \"colorway\": [\"#636efa\", \"#EF553B\", \"#00cc96\", \"#ab63fa\", \"#FFA15A\", \"#19d3f3\", \"#FF6692\", \"#B6E880\", \"#FF97FF\", \"#FECB52\"], \"font\": {\"color\": \"#2a3f5f\"}, \"geo\": {\"bgcolor\": \"white\", \"lakecolor\": \"white\", \"landcolor\": \"#E5ECF6\", \"showlakes\": true, \"showland\": true, \"subunitcolor\": \"white\"}, \"hoverlabel\": {\"align\": \"left\"}, \"hovermode\": \"closest\", \"mapbox\": {\"style\": \"light\"}, \"paper_bgcolor\": \"white\", \"plot_bgcolor\": \"#E5ECF6\", \"polar\": {\"angularaxis\": {\"gridcolor\": \"white\", \"linecolor\": \"white\", \"ticks\": \"\"}, \"bgcolor\": \"#E5ECF6\", \"radialaxis\": {\"gridcolor\": \"white\", \"linecolor\": \"white\", \"ticks\": \"\"}}, \"scene\": {\"xaxis\": {\"backgroundcolor\": \"#E5ECF6\", \"gridcolor\": \"white\", \"gridwidth\": 2, \"linecolor\": \"white\", \"showbackground\": true, \"ticks\": \"\", \"zerolinecolor\": \"white\"}, \"yaxis\": {\"backgroundcolor\": \"#E5ECF6\", \"gridcolor\": \"white\", \"gridwidth\": 2, \"linecolor\": \"white\", \"showbackground\": true, \"ticks\": \"\", \"zerolinecolor\": \"white\"}, \"zaxis\": {\"backgroundcolor\": \"#E5ECF6\", \"gridcolor\": \"white\", \"gridwidth\": 2, \"linecolor\": \"white\", \"showbackground\": true, \"ticks\": \"\", \"zerolinecolor\": \"white\"}}, \"shapedefaults\": {\"line\": {\"color\": \"#2a3f5f\"}}, \"ternary\": {\"aaxis\": {\"gridcolor\": \"white\", \"linecolor\": \"white\", \"ticks\": \"\"}, \"baxis\": {\"gridcolor\": \"white\", \"linecolor\": \"white\", \"ticks\": \"\"}, \"bgcolor\": \"#E5ECF6\", \"caxis\": {\"gridcolor\": \"white\", \"linecolor\": \"white\", \"ticks\": \"\"}}, \"title\": {\"x\": 0.05}, \"xaxis\": {\"automargin\": true, \"gridcolor\": \"white\", \"linecolor\": \"white\", \"ticks\": \"\", \"title\": {\"standoff\": 15}, \"zerolinecolor\": \"white\", \"zerolinewidth\": 2}, \"yaxis\": {\"automargin\": true, \"gridcolor\": \"white\", \"linecolor\": \"white\", \"ticks\": \"\", \"title\": {\"standoff\": 15}, \"zerolinecolor\": \"white\", \"zerolinewidth\": 2}}}, \"title\": {\"text\": \"Mortalily rates, by years, 2005-2015\"}, \"xaxis\": {\"anchor\": \"y\", \"domain\": [0.0, 1.0], \"title\": {\"text\": \"Areas\"}}, \"yaxis\": {\"anchor\": \"x\", \"domain\": [0.0, 1.0], \"title\": {\"text\": \"Mortality rate\"}}},                        {\"responsive\": true}                    ).then(function(){\n",
       "                            \n",
       "var gd = document.getElementById('02b846b3-24b2-4127-8a71-482637bf3490');\n",
       "var x = new MutationObserver(function (mutations, observer) {{\n",
       "        var display = window.getComputedStyle(gd).display;\n",
       "        if (!display || display === 'none') {{\n",
       "            console.log([gd, 'removed!']);\n",
       "            Plotly.purge(gd);\n",
       "            observer.disconnect();\n",
       "        }}\n",
       "}});\n",
       "\n",
       "// Listen for the removal of the full notebook cells\n",
       "var notebookContainer = gd.closest('#notebook-container');\n",
       "if (notebookContainer) {{\n",
       "    x.observe(notebookContainer, {childList: true});\n",
       "}}\n",
       "\n",
       "// Listen for the clearing of the current output cell\n",
       "var outputEl = gd.closest('.output');\n",
       "if (outputEl) {{\n",
       "    x.observe(outputEl, {childList: true});\n",
       "}}\n",
       "\n",
       "                        })                };                });            </script>        </div>"
      ]
     },
     "metadata": {},
     "output_type": "display_data"
    }
   ],
   "source": [
    "fig = px.scatter(mortal_rate, x=\"Country Name\", y= ['2005', '2006', '2007', '2008', '2009', '2010', '2011', '2012', '2013', '2014', '2015']\n",
    "                 ,color = \"Indicator Name\" , title = 'Mortalily rates, by years, 2005-2015') # could not choose all the columns here\n",
    "fig.update_layout(yaxis_title = 'Mortality rate', xaxis_title = 'Areas')\n",
    "fig.show()"
   ]
  },
  {
   "cell_type": "code",
   "execution_count": 63,
   "metadata": {
    "ExecuteTime": {
     "end_time": "2020-12-09T11:26:10.372696Z",
     "start_time": "2020-12-09T11:26:10.358737Z"
    }
   },
   "outputs": [
    {
     "data": {
      "text/plain": [
       "Index(['1960', '1961', '1962', '1963', '1964', '1965', '1966', '1967', '1968',\n",
       "       '1969', '1970', '1971', '1972', '1973', '1974', '1975', '1976', '1977',\n",
       "       '1978', '1979', '1980', '1981', '1982', '1983', '1984', '1985', '1986',\n",
       "       '1987', '1988', '1989', '1990', '1991', '1992', '1993', '1994', '1995',\n",
       "       '1996', '1997', '1998', '1999', '2000', '2001', '2002', '2003', '2004',\n",
       "       '2005', '2006', '2007', '2008', '2009', '2010', '2011', '2012', '2013',\n",
       "       '2014', '2015'],\n",
       "      dtype='object')"
      ]
     },
     "execution_count": 63,
     "metadata": {},
     "output_type": "execute_result"
    }
   ],
   "source": [
    "mortal_rate.columns[2:]"
   ]
  },
  {
   "cell_type": "markdown",
   "metadata": {},
   "source": [
    "## Summary"
   ]
  },
  {
   "cell_type": "markdown",
   "metadata": {
    "ExecuteTime": {
     "end_time": "2020-12-07T13:04:26.709964Z",
     "start_time": "2020-12-07T13:04:26.649025Z"
    }
   },
   "source": [
    "To sum up, with the data from Global Health Nutrition, I have a big overview about the world population and the changing in the age dependency ratio, male and female population, etc. Due to the development of economics and medical system, the global population health has significantly improvement. "
   ]
  },
  {
   "cell_type": "code",
   "execution_count": null,
   "metadata": {},
   "outputs": [],
   "source": []
  },
  {
   "cell_type": "code",
   "execution_count": null,
   "metadata": {},
   "outputs": [],
   "source": []
  }
 ],
 "metadata": {
  "kernelspec": {
   "display_name": "Python 3",
   "language": "python",
   "name": "python3"
  },
  "language_info": {
   "codemirror_mode": {
    "name": "ipython",
    "version": 3
   },
   "file_extension": ".py",
   "mimetype": "text/x-python",
   "name": "python",
   "nbconvert_exporter": "python",
   "pygments_lexer": "ipython3",
   "version": "3.7.6"
  },
  "latex_envs": {
   "LaTeX_envs_menu_present": true,
   "autoclose": false,
   "autocomplete": true,
   "bibliofile": "biblio.bib",
   "cite_by": "apalike",
   "current_citInitial": 1,
   "eqLabelWithNumbers": true,
   "eqNumInitial": 1,
   "hotkeys": {
    "equation": "Ctrl-E",
    "itemize": "Ctrl-I"
   },
   "labels_anchors": false,
   "latex_user_defs": false,
   "report_style_numbering": false,
   "user_envs_cfg": false
  },
  "toc": {
   "base_numbering": 1,
   "nav_menu": {},
   "number_sections": true,
   "sideBar": true,
   "skip_h1_title": false,
   "title_cell": "Table of Contents",
   "title_sidebar": "Contents",
   "toc_cell": false,
   "toc_position": {},
   "toc_section_display": true,
   "toc_window_display": false
  },
  "varInspector": {
   "cols": {
    "lenName": 16,
    "lenType": 16,
    "lenVar": 40
   },
   "kernels_config": {
    "python": {
     "delete_cmd_postfix": "",
     "delete_cmd_prefix": "del ",
     "library": "var_list.py",
     "varRefreshCmd": "print(var_dic_list())"
    },
    "r": {
     "delete_cmd_postfix": ") ",
     "delete_cmd_prefix": "rm(",
     "library": "var_list.r",
     "varRefreshCmd": "cat(var_dic_list()) "
    }
   },
   "types_to_exclude": [
    "module",
    "function",
    "builtin_function_or_method",
    "instance",
    "_Feature"
   ],
   "window_display": false
  }
 },
 "nbformat": 4,
 "nbformat_minor": 4
}
